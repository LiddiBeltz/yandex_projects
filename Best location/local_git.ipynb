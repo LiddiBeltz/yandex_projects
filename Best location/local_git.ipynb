{
  "cells": [
    {
      "cell_type": "markdown",
      "metadata": {
        "id": "sWrkijpkH7tZ"
      },
      "source": [
        "# Выбор локации для скважины"
      ]
    },
    {
      "cell_type": "markdown",
      "source": [
        "Надо построить модель, которая поможет определить регион, где добыча принесёт наибольшую прибыль."
      ],
      "metadata": {
        "id": "wsyyqw_0gkwa"
      }
    },
    {
      "cell_type": "markdown",
      "metadata": {
        "id": "pSq96hkEH7th"
      },
      "source": [
        "## Загрузка и подготовка данных"
      ]
    },
    {
      "cell_type": "code",
      "execution_count": null,
      "metadata": {
        "id": "n7fjsbNyH7ti"
      },
      "outputs": [],
      "source": [
        "import pandas as pd\n",
        "import matplotlib.pyplot as plt \n",
        "import numpy as np\n",
        "import seaborn as sns\n",
        "from scipy import stats as st\n",
        "from sklearn.linear_model import LinearRegression\n",
        "from sklearn.metrics import mean_squared_error\n",
        "from sklearn.model_selection import train_test_split\n",
        "from sklearn.preprocessing import MinMaxScaler\n",
        "import warnings\n",
        "warnings.simplefilter(\"ignore\")"
      ]
    },
    {
      "cell_type": "markdown",
      "metadata": {
        "id": "7Yn4fdbDH7tk"
      },
      "source": [
        "Посмотрим датасэты."
      ]
    },
    {
      "cell_type": "code",
      "execution_count": null,
      "metadata": {
        "colab": {
          "base_uri": "https://localhost:8080/"
        },
        "id": "jOFowDiVH7tk",
        "outputId": "4c1dc7e4-48e5-4a9a-846b-3fcb6ec61cfd"
      },
      "outputs": [
        {
          "name": "stdout",
          "output_type": "stream",
          "text": [
            "      id        f0        f1        f2     product\n",
            "0  txEyH  0.705745 -0.497823  1.221170  105.280062\n",
            "1  2acmU  1.334711 -0.340164  4.365080   73.037750\n",
            "2  409Wp  1.022732  0.151990  1.419926   85.265647\n",
            "3  iJLyR -0.032172  0.139033  2.978566  168.620776\n",
            "4  Xdl7t  1.988431  0.155413  4.751769  154.036647\n",
            "\n",
            "      id         f0         f1        f2     product\n",
            "0  kBEdx -15.001348  -8.276000 -0.005876    3.179103\n",
            "1  62mP7  14.272088  -3.475083  0.999183   26.953261\n",
            "2  vyE1P   6.263187  -5.948386  5.001160  134.766305\n",
            "3  KcrkZ -13.081196 -11.506057  4.999415  137.945408\n",
            "4  AHL4O  12.702195  -8.147433  5.004363  134.766305\n",
            "\n",
            "      id        f0        f1        f2     product\n",
            "0  fwXo0 -1.146987  0.963328 -0.828965   27.758673\n",
            "1  WJtFt  0.262778  0.269839 -2.530187   56.069697\n",
            "2  ovLUW  0.194587  0.289035 -5.586433   62.871910\n",
            "3  q6cA6  2.236060 -0.553760  0.930038  114.572842\n",
            "4  WPMUX -0.515993  1.716266  5.899011  149.600746\n",
            "\n"
          ]
        }
      ],
      "source": [
        "datas = [data1, data2, data3]\n",
        "for i in range(len(datas)):\n",
        "    print(datas[i].head())\n",
        "    print()"
      ]
    },
    {
      "cell_type": "markdown",
      "metadata": {
        "id": "ZTfHijo7H7tm"
      },
      "source": [
        "Выведем информацию о таблицах."
      ]
    },
    {
      "cell_type": "code",
      "execution_count": null,
      "metadata": {
        "colab": {
          "base_uri": "https://localhost:8080/"
        },
        "id": "CcmZUHiyH7tn",
        "outputId": "0bd79cfa-fd34-4a3d-c852-1e92769ac38e"
      },
      "outputs": [
        {
          "name": "stdout",
          "output_type": "stream",
          "text": [
            "<class 'pandas.core.frame.DataFrame'>\n",
            "RangeIndex: 100000 entries, 0 to 99999\n",
            "Data columns (total 5 columns):\n",
            " #   Column   Non-Null Count   Dtype  \n",
            "---  ------   --------------   -----  \n",
            " 0   id       100000 non-null  object \n",
            " 1   f0       100000 non-null  float64\n",
            " 2   f1       100000 non-null  float64\n",
            " 3   f2       100000 non-null  float64\n",
            " 4   product  100000 non-null  float64\n",
            "dtypes: float64(4), object(1)\n",
            "memory usage: 3.8+ MB\n",
            "None\n",
            "\n",
            "<class 'pandas.core.frame.DataFrame'>\n",
            "RangeIndex: 100000 entries, 0 to 99999\n",
            "Data columns (total 5 columns):\n",
            " #   Column   Non-Null Count   Dtype  \n",
            "---  ------   --------------   -----  \n",
            " 0   id       100000 non-null  object \n",
            " 1   f0       100000 non-null  float64\n",
            " 2   f1       100000 non-null  float64\n",
            " 3   f2       100000 non-null  float64\n",
            " 4   product  100000 non-null  float64\n",
            "dtypes: float64(4), object(1)\n",
            "memory usage: 3.8+ MB\n",
            "None\n",
            "\n",
            "<class 'pandas.core.frame.DataFrame'>\n",
            "RangeIndex: 100000 entries, 0 to 99999\n",
            "Data columns (total 5 columns):\n",
            " #   Column   Non-Null Count   Dtype  \n",
            "---  ------   --------------   -----  \n",
            " 0   id       100000 non-null  object \n",
            " 1   f0       100000 non-null  float64\n",
            " 2   f1       100000 non-null  float64\n",
            " 3   f2       100000 non-null  float64\n",
            " 4   product  100000 non-null  float64\n",
            "dtypes: float64(4), object(1)\n",
            "memory usage: 3.8+ MB\n",
            "None\n",
            "\n"
          ]
        }
      ],
      "source": [
        "for i in range(len(datas)):\n",
        "    print(datas[i].info())\n",
        "    print()"
      ]
    },
    {
      "cell_type": "markdown",
      "metadata": {
        "id": "cHZ3PmQvH7to"
      },
      "source": [
        "В каждом датасэте имеются следующие данные:\n",
        "- id — уникальный идентификатор скважины;\n",
        "- f0, f1, f2 — три признака точек (неважно, что они означают, но сами признаки значимы);\n",
        "- product — объём запасов в скважине (тыс. баррелей)"
      ]
    },
    {
      "cell_type": "markdown",
      "metadata": {
        "id": "bgAIerCu862z"
      },
      "source": [
        "Проверим данные на дубликаты по столбцу 'id'."
      ]
    },
    {
      "cell_type": "code",
      "execution_count": null,
      "metadata": {
        "id": "pA0VetHw8620",
        "outputId": "407ff866-5512-454b-ce47-c46cef0740b9"
      },
      "outputs": [
        {
          "name": "stdout",
          "output_type": "stream",
          "text": [
            "10\n",
            "\n",
            "4\n",
            "\n",
            "4\n",
            "\n"
          ]
        }
      ],
      "source": [
        "for i in range(len(datas)):\n",
        "    print(datas[i]['id'].duplicated().sum())\n",
        "    print()"
      ]
    },
    {
      "cell_type": "markdown",
      "metadata": {
        "id": "9rKOuWBh8620"
      },
      "source": [
        "Во всех датасэтах присутствуют дубликаты по id скважины. Удалим их."
      ]
    },
    {
      "cell_type": "code",
      "execution_count": null,
      "metadata": {
        "id": "jMQizQbR8620",
        "outputId": "3de5eca8-af54-43df-c2d3-06464e56d846"
      },
      "outputs": [
        {
          "name": "stdout",
          "output_type": "stream",
          "text": [
            "<class 'pandas.core.frame.DataFrame'>\n",
            "Int64Index: 99990 entries, 0 to 99999\n",
            "Data columns (total 5 columns):\n",
            " #   Column   Non-Null Count  Dtype  \n",
            "---  ------   --------------  -----  \n",
            " 0   id       99990 non-null  object \n",
            " 1   f0       99990 non-null  float64\n",
            " 2   f1       99990 non-null  float64\n",
            " 3   f2       99990 non-null  float64\n",
            " 4   product  99990 non-null  float64\n",
            "dtypes: float64(4), object(1)\n",
            "memory usage: 4.6+ MB\n",
            "None\n",
            "<class 'pandas.core.frame.DataFrame'>\n",
            "Int64Index: 99996 entries, 0 to 99999\n",
            "Data columns (total 5 columns):\n",
            " #   Column   Non-Null Count  Dtype  \n",
            "---  ------   --------------  -----  \n",
            " 0   id       99996 non-null  object \n",
            " 1   f0       99996 non-null  float64\n",
            " 2   f1       99996 non-null  float64\n",
            " 3   f2       99996 non-null  float64\n",
            " 4   product  99996 non-null  float64\n",
            "dtypes: float64(4), object(1)\n",
            "memory usage: 4.6+ MB\n",
            "None\n",
            "<class 'pandas.core.frame.DataFrame'>\n",
            "Int64Index: 99996 entries, 0 to 99999\n",
            "Data columns (total 5 columns):\n",
            " #   Column   Non-Null Count  Dtype  \n",
            "---  ------   --------------  -----  \n",
            " 0   id       99996 non-null  object \n",
            " 1   f0       99996 non-null  float64\n",
            " 2   f1       99996 non-null  float64\n",
            " 3   f2       99996 non-null  float64\n",
            " 4   product  99996 non-null  float64\n",
            "dtypes: float64(4), object(1)\n",
            "memory usage: 4.6+ MB\n",
            "None\n"
          ]
        }
      ],
      "source": [
        "for i in range(len(datas)):\n",
        "    datas[i] = datas[i].drop_duplicates(subset=['id'])\n",
        "    print(datas[i].info())"
      ]
    },
    {
      "cell_type": "markdown",
      "metadata": {
        "id": "rzerknUkH7to"
      },
      "source": [
        "Рассмотрим разброс значений в данных."
      ]
    },
    {
      "cell_type": "code",
      "execution_count": null,
      "metadata": {
        "colab": {
          "base_uri": "https://localhost:8080/"
        },
        "id": "oohk3yRXH7tp",
        "outputId": "10338b6f-7b96-40d3-dd1e-c3a823faf851"
      },
      "outputs": [
        {
          "name": "stdout",
          "output_type": "stream",
          "text": [
            "                 f0            f1            f2       product\n",
            "count  99990.000000  99990.000000  99990.000000  99990.000000\n",
            "mean       0.500454      0.250141      2.502629     92.499684\n",
            "std        0.871844      0.504430      3.248149     44.288304\n",
            "min       -1.408605     -0.848218    -12.088328      0.000000\n",
            "25%       -0.072572     -0.200877      0.287784     56.497069\n",
            "50%        0.502405      0.250252      2.515969     91.847928\n",
            "75%        1.073626      0.700640      4.715035    128.563699\n",
            "max        2.362331      1.343769     16.003790    185.364347\n",
            "\n",
            "                 f0            f1            f2       product\n",
            "count  99996.000000  99996.000000  99996.000000  99996.000000\n",
            "mean       1.141209     -4.796608      2.494501     68.823916\n",
            "std        8.965815      5.119906      1.703579     45.944663\n",
            "min      -31.609576    -26.358598     -0.018144      0.000000\n",
            "25%       -6.298551     -8.267985      1.000021     26.953261\n",
            "50%        1.153055     -4.813172      2.011475     57.085625\n",
            "75%        8.620964     -1.332816      3.999904    107.813044\n",
            "max       29.421755     18.734063      5.019721    137.945408\n",
            "\n",
            "                 f0            f1            f2       product\n",
            "count  99996.000000  99996.000000  99996.000000  99996.000000\n",
            "mean       0.002002     -0.002159      2.495084     94.998342\n",
            "std        1.732052      1.730397      3.473482     44.749573\n",
            "min       -8.760004     -7.084020    -11.970335      0.000000\n",
            "25%       -1.162328     -1.174841      0.130269     59.450028\n",
            "50%        0.009424     -0.009661      2.484236     94.925026\n",
            "75%        1.158477      1.163523      4.858720    130.586815\n",
            "max        7.238262      7.844801     16.739402    190.029838\n",
            "\n"
          ]
        }
      ],
      "source": [
        "for i in range(len(datas)):\n",
        "    print(datas[i].describe())\n",
        "    print()"
      ]
    },
    {
      "cell_type": "markdown",
      "metadata": {
        "id": "Gu7Sp-BBH7tp"
      },
      "source": [
        "Удалим столбец 'id', так как эта информация бесполезна для предсказаний."
      ]
    },
    {
      "cell_type": "code",
      "execution_count": null,
      "metadata": {
        "id": "p5uUSfKVH7tq"
      },
      "outputs": [],
      "source": [
        "data1 = data1.drop(['id'], axis=1)\n",
        "data2 = data2.drop(['id'], axis=1)\n",
        "data3 = data3.drop(['id'], axis=1)"
      ]
    },
    {
      "cell_type": "markdown",
      "metadata": {
        "id": "iDKEevpMH7tq"
      },
      "source": [
        "Построим гистограммы по каждому датасэту."
      ]
    },
    {
      "cell_type": "code",
      "execution_count": null,
      "metadata": {
        "colab": {
          "base_uri": "https://localhost:8080/",
          "height": 1000
        },
        "id": "bn_fUv6mH7tr",
        "outputId": "5f490ce9-dd2a-4219-8ddc-5b6ea8098f83"
      },
      "outputs": [
        {
          "name": "stdout",
          "output_type": "stream",
          "text": [
            "[[<AxesSubplot:title={'center':'f0'}> <AxesSubplot:title={'center':'f1'}>]\n",
            " [<AxesSubplot:title={'center':'f2'}>\n",
            "  <AxesSubplot:title={'center':'product'}>]]\n"
          ]
        },
        {
          "data": {
            "image/png": "[encoded data removed]",
            "text/plain": [
              "<Figure size 576x576 with 4 Axes>"
            ]
          },
          "metadata": {
            "needs_background": "light"
          },
          "output_type": "display_data"
        },
        {
          "name": "stdout",
          "output_type": "stream",
          "text": [
            "[[<AxesSubplot:title={'center':'f0'}> <AxesSubplot:title={'center':'f1'}>]\n",
            " [<AxesSubplot:title={'center':'f2'}>\n",
            "  <AxesSubplot:title={'center':'product'}>]]\n"
          ]
        },
        {
          "data": {
            "image/png": "[encoded data removed]",
            "text/plain": [
              "<Figure size 576x576 with 4 Axes>"
            ]
          },
          "metadata": {
            "needs_background": "light"
          },
          "output_type": "display_data"
        },
        {
          "name": "stdout",
          "output_type": "stream",
          "text": [
            "[[<AxesSubplot:title={'center':'f0'}> <AxesSubplot:title={'center':'f1'}>]\n",
            " [<AxesSubplot:title={'center':'f2'}>\n",
            "  <AxesSubplot:title={'center':'product'}>]]\n"
          ]
        },
        {
          "data": {
            "image/png": "[encoded data removed]",
            "text/plain": [
              "<Figure size 576x576 with 4 Axes>"
            ]
          },
          "metadata": {
            "needs_background": "light"
          },
          "output_type": "display_data"
        }
      ],
      "source": [
        "for i in range(len(datas)):\n",
        "    print(datas[i].hist(figsize=(8, 8)))\n",
        "    plt.show()\n"
      ]
    },
    {
      "cell_type": "markdown",
      "metadata": {
        "id": "RSuxm4ie8623"
      },
      "source": [
        "Видно, что во датасэте по второму региону данные по f2 и product не нормально распределены. В третьем регионе с распределением данных все хорошо. В первом датасэте присутствуют некоторые провалы в распределении."
      ]
    },
    {
      "cell_type": "markdown",
      "metadata": {
        "id": "ZGnebLPo8623"
      },
      "source": [
        "Проверим данные на мультиколлениарность."
      ]
    },
    {
      "cell_type": "code",
      "execution_count": null,
      "metadata": {
        "id": "ZswxqGio8623",
        "outputId": "f4d5aa01-f97a-4ae0-da18-672d5069212e"
      },
      "outputs": [
        {
          "name": "stdout",
          "output_type": "stream",
          "text": [
            "               f0        f1        f2   product\n",
            "f0       1.000000 -0.471379 -0.002739  0.128379\n",
            "f1      -0.471379  1.000000  0.001440 -0.181136\n",
            "f2      -0.002739  0.001440  1.000000  0.486370\n",
            "product  0.128379 -0.181136  0.486370  1.000000\n",
            "\n",
            "               f0        f1        f2   product\n",
            "f0       1.000000  0.182247 -0.002024 -0.122901\n",
            "f1       0.182247  1.000000 -0.003674 -0.033906\n",
            "f2      -0.002024 -0.003674  1.000000  0.975604\n",
            "product -0.122901 -0.033906  0.975604  1.000000\n",
            "\n",
            "               f0        f1        f2   product\n",
            "f0       1.000000  0.002471  0.000046 -0.002453\n",
            "f1       0.002471  1.000000  0.000349 -0.001508\n",
            "f2       0.000046  0.000349  1.000000  0.448459\n",
            "product -0.002453 -0.001508  0.448459  1.000000\n",
            "\n"
          ]
        }
      ],
      "source": [
        "for i in range(len(datas)):\n",
        "    print(datas[i].corr(method='spearman'))\n",
        "    print()"
      ]
    },
    {
      "cell_type": "code",
      "execution_count": null,
      "metadata": {
        "id": "FWjLFLZ28623",
        "outputId": "6144d8db-8c55-4391-83a7-3b627f5762b5"
      },
      "outputs": [
        {
          "data": {
            "text/plain": [
              "<AxesSubplot:>"
            ]
          },
          "execution_count": 11,
          "metadata": {},
          "output_type": "execute_result"
        },
        {
          "data": {
            "image/png": "[encoded data removed]",
            "text/plain": [
              "<Figure size 432x288 with 2 Axes>"
            ]
          },
          "metadata": {
            "needs_background": "light"
          },
          "output_type": "display_data"
        }
      ],
      "source": [
        "sns.heatmap(data1.corr(method='spearman'))"
      ]
    },
    {
      "cell_type": "markdown",
      "metadata": {
        "id": "RAZUERke8624"
      },
      "source": [
        "В первом регионе сильной корреляции между данными нет."
      ]
    },
    {
      "cell_type": "code",
      "execution_count": null,
      "metadata": {
        "id": "GrZ_wUD98624",
        "outputId": "f128d747-14af-481d-e5a0-481eceb2d2d8"
      },
      "outputs": [
        {
          "data": {
            "text/plain": [
              "<AxesSubplot:>"
            ]
          },
          "execution_count": 12,
          "metadata": {},
          "output_type": "execute_result"
        },
        {
          "data": {
            "image/png": "[encoded data removed]",
            "text/plain": [
              "<Figure size 432x288 with 2 Axes>"
            ]
          },
          "metadata": {
            "needs_background": "light"
          },
          "output_type": "display_data"
        }
      ],
      "source": [
        "sns.heatmap(data2.corr(method='spearman'))"
      ]
    },
    {
      "cell_type": "markdown",
      "metadata": {
        "id": "58DXeS-J8624"
      },
      "source": [
        "Во втором регионе присутствует сильная корреляция между f2 и product."
      ]
    },
    {
      "cell_type": "code",
      "execution_count": null,
      "metadata": {
        "id": "wIvI3n1b8624",
        "outputId": "988725bc-3742-43c8-deb3-615c6b5192f7"
      },
      "outputs": [
        {
          "data": {
            "text/plain": [
              "<AxesSubplot:>"
            ]
          },
          "execution_count": 13,
          "metadata": {},
          "output_type": "execute_result"
        },
        {
          "data": {
            "image/png": "[encoded data removed]",
            "text/plain": [
              "<Figure size 432x288 with 2 Axes>"
            ]
          },
          "metadata": {
            "needs_background": "light"
          },
          "output_type": "display_data"
        }
      ],
      "source": [
        "sns.heatmap(data3.corr(method='spearman'))"
      ]
    },
    {
      "cell_type": "markdown",
      "metadata": {
        "id": "K_dJfgOm8625"
      },
      "source": [
        "В данных по третьему региону сильной мультиколлинеарности нет."
      ]
    },
    {
      "cell_type": "markdown",
      "metadata": {
        "id": "E2YPwCOSH7tr"
      },
      "source": [
        "## Обучение и проверка модели"
      ]
    },
    {
      "cell_type": "markdown",
      "metadata": {
        "id": "16o-5rMPH7tr"
      },
      "source": [
        "Разобьем данные на обучающую и валидационную выборку. Определим целевой признак - объем запасов в скважине 'product'."
      ]
    },
    {
      "cell_type": "code",
      "execution_count": null,
      "metadata": {
        "id": "m_VR-8QR8626"
      },
      "outputs": [],
      "source": [
        "def split(data):\n",
        "    features = data.drop(['product'], axis=1)\n",
        "    target = data['product']\n",
        "    features_train, features_valid, target_train, target_valid = train_test_split(features, \n",
        "                                                                                  target, \n",
        "                                                                                  test_size=0.25, random_state=42)\n",
        "    return features_train, features_valid, target_train, target_valid"
      ]
    },
    {
      "cell_type": "code",
      "execution_count": null,
      "metadata": {
        "id": "bATTL00J8626"
      },
      "outputs": [],
      "source": [
        "features_train1, features_valid1, target_train1, target_valid1 = split(data1)\n",
        "features_train2, features_valid2, target_train2, target_valid2 = split(data2)\n",
        "features_train3, features_valid3, target_train3, target_valid3 = split(data3)"
      ]
    },
    {
      "cell_type": "markdown",
      "metadata": {
        "id": "2TzGPPJDH7ts"
      },
      "source": [
        "Шкалируем данные."
      ]
    },
    {
      "cell_type": "code",
      "execution_count": null,
      "metadata": {
        "id": "EX0gTyZxH7tt"
      },
      "outputs": [],
      "source": [
        "numeric = ['f0', 'f1', 'f2']\n",
        "pd.options.mode.chained_assignment = None\n",
        "scaler = MinMaxScaler()\n",
        "scaler.fit(features_train1[numeric])\n",
        "features_train1[numeric] = scaler.transform(features_train1[numeric])\n",
        "features_valid1[numeric] = scaler.transform(features_valid1[numeric])\n",
        "\n",
        "scaler.fit(features_train2[numeric])\n",
        "features_train2[numeric] = scaler.transform(features_train2[numeric])\n",
        "features_valid2[numeric] = scaler.transform(features_valid2[numeric])\n",
        "\n",
        "scaler.fit(features_train3[numeric])\n",
        "features_train3[numeric] = scaler.transform(features_train3[numeric])\n",
        "features_valid3[numeric] = scaler.transform(features_valid3[numeric])"
      ]
    },
    {
      "cell_type": "markdown",
      "metadata": {
        "id": "X6vl45z_H7tt"
      },
      "source": [
        "Применим обучающую модель - линейная регрессия."
      ]
    },
    {
      "cell_type": "markdown",
      "metadata": {
        "id": "ibeYo-2tH7tu"
      },
      "source": [
        "Для первой локации."
      ]
    },
    {
      "cell_type": "code",
      "execution_count": null,
      "metadata": {
        "id": "0x1fR5hWH7tu"
      },
      "outputs": [],
      "source": [
        "LinReg = LinearRegression(normalize=False)\n",
        "LinReg.fit(features_train1, target_train1)\n",
        "predicted_valid_geo1 = LinReg.predict(features_valid1)\n",
        "RMSE_geo1 = mean_squared_error(target_valid1, predicted_valid_geo1)**0.5\n",
        "predicted_valid_geo1_mean = predicted_valid_geo1.mean()"
      ]
    },
    {
      "cell_type": "code",
      "execution_count": null,
      "metadata": {
        "colab": {
          "base_uri": "https://localhost:8080/"
        },
        "id": "N214jw5ZH7tu",
        "outputId": "a596e971-dfd0-4e09-bf2c-aa90aa111c2f"
      },
      "outputs": [
        {
          "name": "stdout",
          "output_type": "stream",
          "text": [
            "RMSE 37.75660035026169\n"
          ]
        }
      ],
      "source": [
        "print('RMSE', RMSE_geo1)"
      ]
    },
    {
      "cell_type": "code",
      "execution_count": null,
      "metadata": {
        "colab": {
          "base_uri": "https://localhost:8080/"
        },
        "id": "LioaEKG1H7tv",
        "outputId": "592e79b3-1ab1-4898-eb06-3617d7440972"
      },
      "outputs": [
        {
          "name": "stdout",
          "output_type": "stream",
          "text": [
            "Средний запас предсказанного сырья 92.39879990657768\n"
          ]
        }
      ],
      "source": [
        "print('Средний запас предсказанного сырья', predicted_valid_geo1_mean)"
      ]
    },
    {
      "cell_type": "markdown",
      "metadata": {
        "id": "hwaR54h_H7tv"
      },
      "source": [
        "Для второй локации."
      ]
    },
    {
      "cell_type": "code",
      "execution_count": null,
      "metadata": {
        "id": "DG-neNfzH7tv"
      },
      "outputs": [],
      "source": [
        "LinReg = LinearRegression(normalize=False)\n",
        "LinReg.fit(features_train2, target_train2)\n",
        "predicted_valid_geo2 = LinReg.predict(features_valid2)\n",
        "RMSE_geo2 = mean_squared_error(target_valid2, predicted_valid_geo2)**0.5\n",
        "predicted_valid_geo2_mean = predicted_valid_geo2.mean()"
      ]
    },
    {
      "cell_type": "code",
      "execution_count": null,
      "metadata": {
        "colab": {
          "base_uri": "https://localhost:8080/"
        },
        "id": "QZfe9MedH7tv",
        "outputId": "8edca3fc-f1ab-49f3-9dcb-837bfb1ae5c3"
      },
      "outputs": [
        {
          "name": "stdout",
          "output_type": "stream",
          "text": [
            "RMSE 0.8902801001028844\n"
          ]
        }
      ],
      "source": [
        "print('RMSE', RMSE_geo2)"
      ]
    },
    {
      "cell_type": "code",
      "execution_count": null,
      "metadata": {
        "colab": {
          "base_uri": "https://localhost:8080/"
        },
        "id": "U3vFqWFTH7tw",
        "outputId": "7e42e440-857e-4dae-8c28-bdae4678a231"
      },
      "outputs": [
        {
          "name": "stdout",
          "output_type": "stream",
          "text": [
            "Средний запас предсказанного сырья 68.71287803913762\n"
          ]
        }
      ],
      "source": [
        "print('Средний запас предсказанного сырья', predicted_valid_geo2_mean)"
      ]
    },
    {
      "cell_type": "markdown",
      "metadata": {
        "id": "jsM0hmeHH7tw"
      },
      "source": [
        "Для третьей локации."
      ]
    },
    {
      "cell_type": "code",
      "execution_count": null,
      "metadata": {
        "id": "Qiv2lxQrH7tw"
      },
      "outputs": [],
      "source": [
        "LinReg = LinearRegression(normalize=False)\n",
        "LinReg.fit(features_train3, target_train3)\n",
        "predicted_valid_geo3 = LinReg.predict(features_valid3)\n",
        "RMSE_geo3 = mean_squared_error(target_valid3, predicted_valid_geo3)**0.5\n",
        "predicted_valid_geo3_mean = predicted_valid_geo3.mean()"
      ]
    },
    {
      "cell_type": "code",
      "execution_count": null,
      "metadata": {
        "colab": {
          "base_uri": "https://localhost:8080/"
        },
        "id": "5aGW7oNqH7tx",
        "outputId": "09b78550-a9db-4861-a033-8aadde06d9d0"
      },
      "outputs": [
        {
          "name": "stdout",
          "output_type": "stream",
          "text": [
            "RMSE 40.14587231134218\n"
          ]
        }
      ],
      "source": [
        "print('RMSE', RMSE_geo3)"
      ]
    },
    {
      "cell_type": "code",
      "execution_count": null,
      "metadata": {
        "colab": {
          "base_uri": "https://localhost:8080/"
        },
        "id": "TJB9TH5dH7ty",
        "outputId": "0b50508b-daca-450a-9bd8-6d531e785865"
      },
      "outputs": [
        {
          "name": "stdout",
          "output_type": "stream",
          "text": [
            "Средний запас предсказанного сырья 94.77102387765939\n"
          ]
        }
      ],
      "source": [
        "print('Средний запас предсказанного сырья', predicted_valid_geo3_mean)"
      ]
    },
    {
      "cell_type": "code",
      "execution_count": null,
      "metadata": {
        "colab": {
          "base_uri": "https://localhost:8080/",
          "height": 143
        },
        "id": "Yq1GLZImH7ty",
        "outputId": "b7ca2adc-6c1b-49e0-8c70-1e7d16fb7dd6"
      },
      "outputs": [
        {
          "data": {
            "text/html": [
              "<div>\n",
              "<style scoped>\n",
              "    .dataframe tbody tr th:only-of-type {\n",
              "        vertical-align: middle;\n",
              "    }\n",
              "\n",
              "    .dataframe tbody tr th {\n",
              "        vertical-align: top;\n",
              "    }\n",
              "\n",
              "    .dataframe thead th {\n",
              "        text-align: right;\n",
              "    }\n",
              "</style>\n",
              "<table border=\"1\" class=\"dataframe\">\n",
              "  <thead>\n",
              "    <tr style=\"text-align: right;\">\n",
              "      <th></th>\n",
              "      <th>Локация</th>\n",
              "      <th>RMSE</th>\n",
              "      <th>Средний запас предсказанного сырья</th>\n",
              "    </tr>\n",
              "  </thead>\n",
              "  <tbody>\n",
              "    <tr>\n",
              "      <th>0</th>\n",
              "      <td>1</td>\n",
              "      <td>37.756600</td>\n",
              "      <td>92.398800</td>\n",
              "    </tr>\n",
              "    <tr>\n",
              "      <th>1</th>\n",
              "      <td>2</td>\n",
              "      <td>0.890280</td>\n",
              "      <td>68.712878</td>\n",
              "    </tr>\n",
              "    <tr>\n",
              "      <th>2</th>\n",
              "      <td>3</td>\n",
              "      <td>40.145872</td>\n",
              "      <td>94.771024</td>\n",
              "    </tr>\n",
              "  </tbody>\n",
              "</table>\n",
              "</div>"
            ],
            "text/plain": [
              "  Локация       RMSE  Средний запас предсказанного сырья\n",
              "0       1  37.756600                           92.398800\n",
              "1       2   0.890280                           68.712878\n",
              "2       3  40.145872                           94.771024"
            ]
          },
          "execution_count": 26,
          "metadata": {},
          "output_type": "execute_result"
        }
      ],
      "source": [
        "col = {\n",
        "    'Локация': ['1', '2', '3'],\n",
        "    'RMSE': [RMSE_geo1, RMSE_geo2, RMSE_geo3],\n",
        "    'Средний запас предсказанного сырья': [predicted_valid_geo1_mean, predicted_valid_geo2_mean, predicted_valid_geo3_mean],\n",
        "}\n",
        "rev = pd.DataFrame(data=col)\n",
        "rev"
      ]
    },
    {
      "cell_type": "markdown",
      "metadata": {
        "id": "bV6Hy4XGH7tz"
      },
      "source": [
        "Самый низкий запас нефти во второй локации. И по второй локации самая маленькая среднеквадратичная ошибка. Так как во второй таблице были коррелирующие данные, модель переобучилась."
      ]
    },
    {
      "cell_type": "markdown",
      "metadata": {
        "id": "C3_qLZ57H7tz"
      },
      "source": [
        "## Подготовка к расчёту прибыли"
      ]
    },
    {
      "cell_type": "markdown",
      "metadata": {
        "id": "0RBxrAq7H7tz"
      },
      "source": [
        "Сохраним нужные значения для расчетов в отдельные переменные."
      ]
    },
    {
      "cell_type": "code",
      "execution_count": null,
      "metadata": {
        "id": "pQ5glp-XH7tz"
      },
      "outputs": [],
      "source": [
        "BUDGET = 10_000_000_000 #бюджет\n",
        "INCOME_PBR = 450_000 #доход с единицы продукта\n",
        "BEST_POINTS = 200 #количество лучших точек\n",
        "RESEARCH_POINTS = 500 #количество исследуемых точек\n"
      ]
    },
    {
      "cell_type": "markdown",
      "metadata": {
        "id": "HqvAFr7RH7t0"
      },
      "source": [
        "Рассчитаем достаточный объем сырья для безубыточной разработки новой скважины."
      ]
    },
    {
      "cell_type": "code",
      "execution_count": null,
      "metadata": {
        "colab": {
          "base_uri": "https://localhost:8080/"
        },
        "id": "BTnlvVtVH7t0",
        "outputId": "0927224f-045b-4c5e-f02d-945c43bb656d"
      },
      "outputs": [
        {
          "data": {
            "text/plain": [
              "111.11111111111111"
            ]
          },
          "execution_count": 28,
          "metadata": {},
          "output_type": "execute_result"
        }
      ],
      "source": [
        "n = BUDGET / INCOME_PBR #достаточный объем сырья\n",
        "n/200"
      ]
    },
    {
      "cell_type": "code",
      "execution_count": null,
      "metadata": {
        "colab": {
          "base_uri": "https://localhost:8080/"
        },
        "id": "XeBGxIgTH7t1",
        "outputId": "2b2b67b5-7a85-4149-927a-c6ba3ea02bd3"
      },
      "outputs": [
        {
          "name": "stdout",
          "output_type": "stream",
          "text": [
            "92.49968421774354\n",
            "68.82391591804064\n",
            "94.99834211933378\n"
          ]
        }
      ],
      "source": [
        "for i in range(len(datas)):\n",
        "    print(datas[i]['product'].mean())"
      ]
    },
    {
      "cell_type": "markdown",
      "metadata": {
        "id": "qXLRhpG5863C"
      },
      "source": [
        "Среднее по регионам меньше достаточного объема сырья для безубыточности."
      ]
    },
    {
      "cell_type": "markdown",
      "metadata": {
        "id": "yr4qosCzH7t1"
      },
      "source": [
        "## Расчёт прибыли и рисков "
      ]
    },
    {
      "cell_type": "markdown",
      "metadata": {
        "id": "ePwXafWzH7t1"
      },
      "source": [
        "Напишем функцию для расчета прибыли по выбранным скважинам и предсказаниям модели."
      ]
    },
    {
      "cell_type": "code",
      "execution_count": null,
      "metadata": {
        "id": "9irxcRazH7t1"
      },
      "outputs": [],
      "source": [
        "def oil_revenue(target, predictions):\n",
        "    sorted_predictions = pd.Series(predictions).sort_values(ascending=False)[:200]\n",
        "    target_top = target.iloc[sorted_predictions.index]\n",
        "    sorted_target_sum = target_top.sum()\n",
        "    revenue = sorted_target_sum*INCOME_PBR\n",
        "    \n",
        "    return revenue - BUDGET"
      ]
    },
    {
      "cell_type": "code",
      "execution_count": null,
      "metadata": {
        "id": "ZkDM4hgxH7t2"
      },
      "outputs": [],
      "source": [
        "def bootstrap_1000(target, predications):\n",
        "\n",
        "    values=[]\n",
        "    total=0\n",
        "    state = np.random.RandomState(42)\n",
        "    for i in range(1000):\n",
        "        target_subsample = target.reset_index(drop=True).sample(n=500, replace=True, random_state=state)\n",
        "        pred_subsample = predications[target_subsample.index]\n",
        "        \n",
        "        values.append(oil_revenue(target_subsample, pred_subsample))\n",
        "    for i in values:\n",
        "        if i<0:\n",
        "            total+=1\n",
        "    values = pd.Series(values)\n",
        "    lower = values.quantile(0.025)\n",
        "    upper = values.quantile(0.975)\n",
        "    mean = values.mean()\n",
        "    risk = total/1000\n",
        "    print('Средняя прибыль', mean)\n",
        "    print('95% интервал', (lower, upper))\n",
        "    print('Риск', risk)\n",
        "    return mean, lower, upper, risk"
      ]
    },
    {
      "cell_type": "code",
      "execution_count": null,
      "metadata": {
        "colab": {
          "base_uri": "https://localhost:8080/"
        },
        "id": "EtZkVGwGH7t2",
        "outputId": "690baaa3-138f-4830-d56f-9b3e12f13cbb"
      },
      "outputs": [
        {
          "name": "stdout",
          "output_type": "stream",
          "text": [
            "Средняя прибыль 399575478.05422974\n",
            "95% интервал (-110467895.33197226, 897460327.7178793)\n",
            "Риск 0.06\n"
          ]
        },
        {
          "data": {
            "text/plain": [
              "(399575478.05422974, -110467895.33197226, 897460327.7178793, 0.06)"
            ]
          },
          "execution_count": 32,
          "metadata": {},
          "output_type": "execute_result"
        }
      ],
      "source": [
        "bootstrap_1000(target_valid1, predicted_valid_geo1)"
      ]
    },
    {
      "cell_type": "code",
      "execution_count": null,
      "metadata": {
        "colab": {
          "base_uri": "https://localhost:8080/"
        },
        "id": "XJGQPW2PH7t3",
        "outputId": "9bdc5358-6477-40f1-dc87-9aac12b4c252"
      },
      "outputs": [
        {
          "name": "stdout",
          "output_type": "stream",
          "text": [
            "Средняя прибыль 452048890.9064583\n",
            "95% интервал (61684479.65422669, 845340177.5073848)\n",
            "Риск 0.015\n"
          ]
        },
        {
          "data": {
            "text/plain": [
              "(452048890.9064583, 61684479.65422669, 845340177.5073848, 0.015)"
            ]
          },
          "execution_count": 33,
          "metadata": {},
          "output_type": "execute_result"
        }
      ],
      "source": [
        "bootstrap_1000(target_valid2, predicted_valid_geo2)"
      ]
    },
    {
      "cell_type": "code",
      "execution_count": null,
      "metadata": {
        "colab": {
          "base_uri": "https://localhost:8080/"
        },
        "id": "ojrGD6idH7t3",
        "outputId": "7d94e961-f45b-409b-bc0a-3ee98b4bdb0f"
      },
      "outputs": [
        {
          "name": "stdout",
          "output_type": "stream",
          "text": [
            "Средняя прибыль 375009902.915329\n",
            "95% интервал (-144766727.3048927, 888390403.5342213)\n",
            "Риск 0.08\n"
          ]
        },
        {
          "data": {
            "text/plain": [
              "(375009902.915329, -144766727.3048927, 888390403.5342213, 0.08)"
            ]
          },
          "execution_count": 34,
          "metadata": {},
          "output_type": "execute_result"
        }
      ],
      "source": [
        "bootstrap_1000(target_valid3, predicted_valid_geo3)"
      ]
    },
    {
      "cell_type": "markdown",
      "metadata": {
        "id": "iLur9figqB_5"
      },
      "source": [
        "Самый прибыльный регион с низким риском - второй. Но так как в данных по этому региону есть мультиколлинеарность, эти данные нельзя считать верными. Поэтому, в качестве самого прибыльного региона возьмем первый."
      ]
    },
    {
      "cell_type": "markdown",
      "metadata": {
        "id": "IHLbwPvBrrpv"
      },
      "source": [
        "### Выводы"
      ]
    },
    {
      "cell_type": "markdown",
      "metadata": {
        "id": "VG9ZeNc_r2GR"
      },
      "source": [
        "В данном проекте мы рассмотрели датасет с данными о пробах нефти в трех регионах. Удалили столбец с данными, которые не нужны для предсказания. Разбили данные на выборки для обучения. Обучили модель методом LinearRegression.\n",
        "Проанализировали прибыль и риски техникой bootstrap. \n",
        "Самая большая прибыль получилась во втором регионе."
      ]
    },
    {
      "cell_type": "markdown",
      "metadata": {
        "id": "WOxa3jO4H7t4"
      },
      "source": [
        "## Чек-лист готовности проекта"
      ]
    },
    {
      "cell_type": "code",
      "execution_count": null,
      "metadata": {
        "id": "NSGCJWZOH7t5"
      },
      "outputs": [],
      "source": []
    }
  ],
  "metadata": {
    "ExecuteTimeLog": [
      {
        "duration": 394,
        "start_time": "2022-12-16T09:02:37.042Z"
      },
      {
        "duration": 1646,
        "start_time": "2022-12-16T09:02:37.631Z"
      },
      {
        "duration": 14,
        "start_time": "2022-12-16T09:03:05.426Z"
      },
      {
        "duration": 9,
        "start_time": "2022-12-16T09:03:20.360Z"
      },
      {
        "duration": 11,
        "start_time": "2022-12-16T09:03:25.725Z"
      },
      {
        "duration": 62,
        "start_time": "2022-12-16T09:04:36.780Z"
      },
      {
        "duration": 13,
        "start_time": "2022-12-16T09:04:49.493Z"
      },
      {
        "duration": 12,
        "start_time": "2022-12-16T09:05:18.499Z"
      },
      {
        "duration": 13,
        "start_time": "2022-12-16T09:05:26.395Z"
      },
      {
        "duration": 8,
        "start_time": "2022-12-16T09:10:18.044Z"
      },
      {
        "duration": 34,
        "start_time": "2022-12-16T09:11:08.109Z"
      },
      {
        "duration": 35,
        "start_time": "2022-12-16T09:12:35.360Z"
      },
      {
        "duration": 32,
        "start_time": "2022-12-16T09:13:02.691Z"
      },
      {
        "duration": 8,
        "start_time": "2022-12-16T11:12:50.571Z"
      },
      {
        "duration": 686,
        "start_time": "2022-12-16T11:38:58.189Z"
      },
      {
        "duration": 336,
        "start_time": "2022-12-16T11:39:00.170Z"
      },
      {
        "duration": 38,
        "start_time": "2022-12-16T11:39:02.109Z"
      },
      {
        "duration": 11,
        "start_time": "2022-12-16T11:40:27.440Z"
      },
      {
        "duration": 9,
        "start_time": "2022-12-16T11:41:30.977Z"
      },
      {
        "duration": 8,
        "start_time": "2022-12-16T11:41:45.145Z"
      },
      {
        "duration": 9,
        "start_time": "2022-12-16T11:42:14.184Z"
      },
      {
        "duration": 9,
        "start_time": "2022-12-16T11:42:45.036Z"
      },
      {
        "duration": 12,
        "start_time": "2022-12-16T11:43:24.854Z"
      },
      {
        "duration": 3,
        "start_time": "2022-12-16T11:44:01.019Z"
      },
      {
        "duration": 3,
        "start_time": "2022-12-16T11:44:14.193Z"
      },
      {
        "duration": 3,
        "start_time": "2022-12-16T11:44:48.983Z"
      },
      {
        "duration": 10,
        "start_time": "2022-12-16T11:45:14.488Z"
      },
      {
        "duration": 32,
        "start_time": "2022-12-16T11:46:30.685Z"
      },
      {
        "duration": 31,
        "start_time": "2022-12-16T11:47:55.332Z"
      },
      {
        "duration": 30,
        "start_time": "2022-12-16T11:48:52.044Z"
      },
      {
        "duration": 13,
        "start_time": "2022-12-16T11:49:18.643Z"
      },
      {
        "duration": 89,
        "start_time": "2022-12-16T11:51:19.997Z"
      },
      {
        "duration": 74,
        "start_time": "2022-12-16T11:52:44.528Z"
      },
      {
        "duration": 89,
        "start_time": "2022-12-16T11:53:02.446Z"
      },
      {
        "duration": 9,
        "start_time": "2022-12-16T11:54:03.602Z"
      },
      {
        "duration": 10,
        "start_time": "2022-12-16T12:00:28.797Z"
      },
      {
        "duration": 9,
        "start_time": "2022-12-16T12:00:49.196Z"
      },
      {
        "duration": 21,
        "start_time": "2022-12-16T12:01:01.660Z"
      },
      {
        "duration": 10,
        "start_time": "2022-12-16T12:01:56.285Z"
      },
      {
        "duration": 20,
        "start_time": "2022-12-16T12:02:15.713Z"
      },
      {
        "duration": 44,
        "start_time": "2022-12-16T12:03:16.444Z"
      },
      {
        "duration": 2,
        "start_time": "2022-12-16T12:31:48.285Z"
      },
      {
        "duration": 325,
        "start_time": "2022-12-16T12:31:49.350Z"
      },
      {
        "duration": 12,
        "start_time": "2022-12-16T12:31:50.400Z"
      },
      {
        "duration": 30,
        "start_time": "2022-12-16T12:31:51.303Z"
      },
      {
        "duration": 86,
        "start_time": "2022-12-16T12:31:53.008Z"
      },
      {
        "duration": 8,
        "start_time": "2022-12-16T12:31:53.838Z"
      },
      {
        "duration": 8,
        "start_time": "2022-12-16T12:33:56.957Z"
      },
      {
        "duration": 474,
        "start_time": "2022-12-16T12:34:03.840Z"
      },
      {
        "duration": 122851,
        "start_time": "2022-12-16T12:34:08.915Z"
      },
      {
        "duration": 0,
        "start_time": "2022-12-16T12:36:11.767Z"
      },
      {
        "duration": 2,
        "start_time": "2022-12-16T12:36:18.608Z"
      },
      {
        "duration": 3,
        "start_time": "2022-12-16T13:05:45.138Z"
      },
      {
        "duration": 612,
        "start_time": "2022-12-16T13:10:55.284Z"
      },
      {
        "duration": 560,
        "start_time": "2022-12-16T13:12:29.936Z"
      },
      {
        "duration": 3,
        "start_time": "2022-12-16T13:12:39.216Z"
      },
      {
        "duration": 709,
        "start_time": "2022-12-16T13:12:47.149Z"
      },
      {
        "duration": 486,
        "start_time": "2022-12-16T13:14:32.699Z"
      },
      {
        "duration": 1648,
        "start_time": "2022-12-16T13:15:53.769Z"
      },
      {
        "duration": 1414,
        "start_time": "2022-12-16T13:16:17.203Z"
      },
      {
        "duration": 1643,
        "start_time": "2022-12-16T13:16:44.880Z"
      },
      {
        "duration": 1580,
        "start_time": "2022-12-16T13:17:08.465Z"
      },
      {
        "duration": 1628,
        "start_time": "2022-12-16T13:17:58.161Z"
      },
      {
        "duration": 9,
        "start_time": "2022-12-16T13:22:09.705Z"
      },
      {
        "duration": 11,
        "start_time": "2022-12-16T13:22:30.451Z"
      },
      {
        "duration": 13,
        "start_time": "2022-12-16T13:22:55.016Z"
      },
      {
        "duration": 61,
        "start_time": "2022-12-16T16:40:31.138Z"
      },
      {
        "duration": 1577,
        "start_time": "2022-12-16T16:40:36.768Z"
      },
      {
        "duration": 1740,
        "start_time": "2022-12-16T16:40:38.347Z"
      },
      {
        "duration": 14,
        "start_time": "2022-12-16T16:40:40.089Z"
      },
      {
        "duration": 40,
        "start_time": "2022-12-16T16:40:40.105Z"
      },
      {
        "duration": 122,
        "start_time": "2022-12-16T16:40:40.147Z"
      },
      {
        "duration": 3,
        "start_time": "2022-12-16T16:40:40.271Z"
      },
      {
        "duration": 338,
        "start_time": "2022-12-16T16:40:40.276Z"
      },
      {
        "duration": 1684,
        "start_time": "2022-12-16T16:40:49.748Z"
      },
      {
        "duration": 460,
        "start_time": "2022-12-16T16:41:15.547Z"
      },
      {
        "duration": 1437,
        "start_time": "2022-12-16T16:41:30.688Z"
      },
      {
        "duration": 1380,
        "start_time": "2022-12-16T16:42:26.050Z"
      },
      {
        "duration": 1430,
        "start_time": "2022-12-16T16:42:54.592Z"
      },
      {
        "duration": 1243,
        "start_time": "2022-12-16T16:43:18.849Z"
      },
      {
        "duration": 1335,
        "start_time": "2022-12-16T16:43:42.736Z"
      },
      {
        "duration": 5360,
        "start_time": "2022-12-16T16:44:44.681Z"
      },
      {
        "duration": 95960,
        "start_time": "2022-12-16T16:46:33.391Z"
      },
      {
        "duration": 0,
        "start_time": "2022-12-16T16:48:09.353Z"
      },
      {
        "duration": 1367,
        "start_time": "2022-12-16T16:48:15.658Z"
      },
      {
        "duration": 1183,
        "start_time": "2022-12-16T16:49:08.838Z"
      },
      {
        "duration": 1511,
        "start_time": "2022-12-16T16:50:02.552Z"
      },
      {
        "duration": 1251,
        "start_time": "2022-12-16T16:50:21.870Z"
      },
      {
        "duration": 1415,
        "start_time": "2022-12-16T16:50:34.910Z"
      },
      {
        "duration": 1269,
        "start_time": "2022-12-16T16:50:53.455Z"
      },
      {
        "duration": 1407,
        "start_time": "2022-12-16T16:51:05.610Z"
      },
      {
        "duration": 3,
        "start_time": "2022-12-16T16:58:18.474Z"
      },
      {
        "duration": 1526,
        "start_time": "2022-12-17T14:47:12.573Z"
      },
      {
        "duration": 618,
        "start_time": "2022-12-17T14:47:14.101Z"
      },
      {
        "duration": 17,
        "start_time": "2022-12-17T14:47:14.983Z"
      },
      {
        "duration": 35,
        "start_time": "2022-12-17T14:47:18.688Z"
      },
      {
        "duration": 93,
        "start_time": "2022-12-17T14:47:24.111Z"
      },
      {
        "duration": 3,
        "start_time": "2022-12-17T14:47:36.838Z"
      },
      {
        "duration": 1323,
        "start_time": "2022-12-17T14:47:37.774Z"
      },
      {
        "duration": 61,
        "start_time": "2022-12-17T14:48:19.591Z"
      },
      {
        "duration": 112,
        "start_time": "2022-12-17T14:48:41.576Z"
      },
      {
        "duration": 13,
        "start_time": "2022-12-17T14:49:32.316Z"
      },
      {
        "duration": 14,
        "start_time": "2022-12-17T14:50:47.460Z"
      },
      {
        "duration": 22,
        "start_time": "2022-12-17T14:51:52.842Z"
      },
      {
        "duration": 3,
        "start_time": "2022-12-17T16:11:56.975Z"
      },
      {
        "duration": 357,
        "start_time": "2022-12-17T16:11:58.893Z"
      },
      {
        "duration": 14,
        "start_time": "2022-12-17T16:11:59.619Z"
      },
      {
        "duration": 33,
        "start_time": "2022-12-17T16:12:02.249Z"
      },
      {
        "duration": 79,
        "start_time": "2022-12-17T16:12:06.005Z"
      },
      {
        "duration": 9,
        "start_time": "2022-12-17T16:12:09.307Z"
      },
      {
        "duration": 2,
        "start_time": "2022-12-17T16:12:10.525Z"
      },
      {
        "duration": 1252,
        "start_time": "2022-12-17T16:12:11.813Z"
      },
      {
        "duration": 61,
        "start_time": "2022-12-17T16:13:10.570Z"
      },
      {
        "duration": 32,
        "start_time": "2022-12-17T16:22:32.906Z"
      },
      {
        "duration": 21,
        "start_time": "2022-12-17T16:26:01.876Z"
      },
      {
        "duration": 4,
        "start_time": "2022-12-17T16:35:03.006Z"
      },
      {
        "duration": 17,
        "start_time": "2022-12-17T17:52:56.654Z"
      },
      {
        "duration": 14,
        "start_time": "2022-12-17T17:53:27.862Z"
      },
      {
        "duration": 5,
        "start_time": "2022-12-17T17:53:37.748Z"
      },
      {
        "duration": 22,
        "start_time": "2022-12-17T17:57:06.851Z"
      },
      {
        "duration": 4,
        "start_time": "2022-12-17T17:57:17.167Z"
      },
      {
        "duration": 13,
        "start_time": "2022-12-17T17:57:54.492Z"
      },
      {
        "duration": 6,
        "start_time": "2022-12-17T17:57:55.375Z"
      },
      {
        "duration": 6,
        "start_time": "2022-12-17T17:58:27.908Z"
      },
      {
        "duration": 374,
        "start_time": "2022-12-17T17:58:28.498Z"
      },
      {
        "duration": 24,
        "start_time": "2022-12-17T17:58:29.207Z"
      },
      {
        "duration": 58,
        "start_time": "2022-12-17T17:58:30.423Z"
      },
      {
        "duration": 88,
        "start_time": "2022-12-17T17:58:32.211Z"
      },
      {
        "duration": 7,
        "start_time": "2022-12-17T17:58:35.105Z"
      },
      {
        "duration": 3,
        "start_time": "2022-12-17T17:58:35.641Z"
      },
      {
        "duration": 1274,
        "start_time": "2022-12-17T17:58:36.537Z"
      },
      {
        "duration": 27,
        "start_time": "2022-12-17T17:58:44.499Z"
      },
      {
        "duration": 40,
        "start_time": "2022-12-17T17:59:11.648Z"
      },
      {
        "duration": 95,
        "start_time": "2022-12-17T17:59:13.438Z"
      },
      {
        "duration": 4,
        "start_time": "2022-12-17T17:59:14.729Z"
      },
      {
        "duration": 23,
        "start_time": "2022-12-17T17:59:17.932Z"
      },
      {
        "duration": 4,
        "start_time": "2022-12-17T17:59:18.978Z"
      },
      {
        "duration": 12,
        "start_time": "2022-12-17T18:00:23.629Z"
      },
      {
        "duration": 4,
        "start_time": "2022-12-17T18:00:24.634Z"
      },
      {
        "duration": 43,
        "start_time": "2022-12-17T18:02:22.833Z"
      },
      {
        "duration": 13,
        "start_time": "2022-12-17T18:02:47.352Z"
      },
      {
        "duration": 11,
        "start_time": "2022-12-17T18:03:09.958Z"
      },
      {
        "duration": 28,
        "start_time": "2022-12-17T18:03:35.586Z"
      },
      {
        "duration": 19,
        "start_time": "2022-12-17T18:03:59.797Z"
      },
      {
        "duration": 20,
        "start_time": "2022-12-17T18:04:05.633Z"
      },
      {
        "duration": 26,
        "start_time": "2022-12-17T18:04:18.616Z"
      },
      {
        "duration": 25,
        "start_time": "2022-12-17T18:04:27.924Z"
      },
      {
        "duration": 20,
        "start_time": "2022-12-17T18:04:35.392Z"
      },
      {
        "duration": 56,
        "start_time": "2022-12-18T08:38:22.262Z"
      },
      {
        "duration": 1552,
        "start_time": "2022-12-18T08:38:31.514Z"
      },
      {
        "duration": 635,
        "start_time": "2022-12-18T08:38:33.068Z"
      },
      {
        "duration": 15,
        "start_time": "2022-12-18T08:38:33.706Z"
      },
      {
        "duration": 44,
        "start_time": "2022-12-18T08:38:33.724Z"
      },
      {
        "duration": 85,
        "start_time": "2022-12-18T08:38:35.519Z"
      },
      {
        "duration": 10,
        "start_time": "2022-12-18T08:38:36.589Z"
      },
      {
        "duration": 3,
        "start_time": "2022-12-18T08:38:37.170Z"
      },
      {
        "duration": 1349,
        "start_time": "2022-12-18T08:38:37.743Z"
      },
      {
        "duration": 34,
        "start_time": "2022-12-18T08:38:39.609Z"
      },
      {
        "duration": 35,
        "start_time": "2022-12-18T08:38:41.262Z"
      },
      {
        "duration": 21,
        "start_time": "2022-12-18T08:38:41.875Z"
      },
      {
        "duration": 4,
        "start_time": "2022-12-18T08:38:43.230Z"
      },
      {
        "duration": 5,
        "start_time": "2022-12-18T08:38:53.941Z"
      },
      {
        "duration": 36,
        "start_time": "2022-12-18T08:40:19.902Z"
      },
      {
        "duration": 3,
        "start_time": "2022-12-18T08:40:20.848Z"
      },
      {
        "duration": 3,
        "start_time": "2022-12-18T08:40:22.438Z"
      },
      {
        "duration": 13,
        "start_time": "2022-12-18T08:41:57.438Z"
      },
      {
        "duration": 11,
        "start_time": "2022-12-18T08:41:58.015Z"
      },
      {
        "duration": 4,
        "start_time": "2022-12-18T08:42:08.494Z"
      },
      {
        "duration": 4,
        "start_time": "2022-12-18T08:42:40.352Z"
      },
      {
        "duration": 80,
        "start_time": "2022-12-18T10:10:31.807Z"
      },
      {
        "duration": 3,
        "start_time": "2022-12-18T10:11:22.667Z"
      },
      {
        "duration": 9,
        "start_time": "2022-12-18T10:11:35.596Z"
      },
      {
        "duration": 5062,
        "start_time": "2022-12-18T10:12:14.373Z"
      },
      {
        "duration": 4922,
        "start_time": "2022-12-18T10:12:55.532Z"
      },
      {
        "duration": 4867,
        "start_time": "2022-12-18T10:13:15.286Z"
      },
      {
        "duration": 4745,
        "start_time": "2022-12-18T10:13:35.441Z"
      },
      {
        "duration": 12,
        "start_time": "2022-12-18T11:29:52.568Z"
      },
      {
        "duration": 149,
        "start_time": "2022-12-18T11:30:05.745Z"
      },
      {
        "duration": 836,
        "start_time": "2022-12-18T11:36:08.207Z"
      },
      {
        "duration": 31,
        "start_time": "2022-12-18T11:39:15.432Z"
      },
      {
        "duration": 35,
        "start_time": "2022-12-18T11:39:18.634Z"
      },
      {
        "duration": 18,
        "start_time": "2022-12-18T11:39:22.930Z"
      },
      {
        "duration": 5,
        "start_time": "2022-12-18T11:39:23.528Z"
      },
      {
        "duration": 4,
        "start_time": "2022-12-18T11:39:24.401Z"
      },
      {
        "duration": 73,
        "start_time": "2022-12-18T11:39:25.044Z"
      },
      {
        "duration": 5,
        "start_time": "2022-12-18T11:39:25.626Z"
      },
      {
        "duration": 6,
        "start_time": "2022-12-18T11:39:26.125Z"
      },
      {
        "duration": 15,
        "start_time": "2022-12-18T11:39:27.051Z"
      },
      {
        "duration": 8,
        "start_time": "2022-12-18T11:39:28.036Z"
      },
      {
        "duration": 4,
        "start_time": "2022-12-18T11:39:29.361Z"
      },
      {
        "duration": 9,
        "start_time": "2022-12-18T12:02:35.484Z"
      },
      {
        "duration": 2,
        "start_time": "2022-12-18T12:02:41.057Z"
      },
      {
        "duration": 8,
        "start_time": "2022-12-18T12:02:41.680Z"
      },
      {
        "duration": 4,
        "start_time": "2022-12-18T12:02:50.799Z"
      },
      {
        "duration": 3,
        "start_time": "2022-12-18T12:22:38.063Z"
      },
      {
        "duration": 3,
        "start_time": "2022-12-18T12:22:38.706Z"
      },
      {
        "duration": 4,
        "start_time": "2022-12-18T12:31:12.768Z"
      },
      {
        "duration": 5,
        "start_time": "2022-12-18T12:32:42.192Z"
      },
      {
        "duration": 5,
        "start_time": "2022-12-18T12:33:16.584Z"
      },
      {
        "duration": 3,
        "start_time": "2022-12-18T12:33:26.682Z"
      },
      {
        "duration": 51,
        "start_time": "2022-12-18T12:34:47.580Z"
      },
      {
        "duration": 9,
        "start_time": "2022-12-18T12:35:01.853Z"
      },
      {
        "duration": 7,
        "start_time": "2022-12-18T12:35:27.829Z"
      },
      {
        "duration": 12,
        "start_time": "2022-12-19T08:39:22.076Z"
      },
      {
        "duration": 9,
        "start_time": "2022-12-20T13:11:49.232Z"
      },
      {
        "duration": 1740,
        "start_time": "2022-12-20T13:22:04.395Z"
      },
      {
        "duration": 900,
        "start_time": "2022-12-20T13:22:06.137Z"
      },
      {
        "duration": 14,
        "start_time": "2022-12-20T13:22:07.039Z"
      },
      {
        "duration": 4,
        "start_time": "2022-12-20T13:22:15.625Z"
      },
      {
        "duration": 449,
        "start_time": "2022-12-20T13:22:15.909Z"
      },
      {
        "duration": 21,
        "start_time": "2022-12-20T13:22:16.360Z"
      },
      {
        "duration": 48,
        "start_time": "2022-12-20T13:22:20.361Z"
      },
      {
        "duration": 105,
        "start_time": "2022-12-20T13:22:24.994Z"
      },
      {
        "duration": 13,
        "start_time": "2022-12-20T13:22:28.973Z"
      },
      {
        "duration": 3,
        "start_time": "2022-12-20T13:22:29.712Z"
      },
      {
        "duration": 1550,
        "start_time": "2022-12-20T13:22:31.705Z"
      },
      {
        "duration": 41,
        "start_time": "2022-12-20T13:22:39.056Z"
      },
      {
        "duration": 48,
        "start_time": "2022-12-20T13:22:45.669Z"
      },
      {
        "duration": 286,
        "start_time": "2022-12-20T13:23:08.445Z"
      },
      {
        "duration": 16,
        "start_time": "2022-12-20T13:24:09.626Z"
      },
      {
        "duration": 5,
        "start_time": "2022-12-20T13:24:12.689Z"
      },
      {
        "duration": 5,
        "start_time": "2022-12-20T13:24:14.492Z"
      },
      {
        "duration": 13,
        "start_time": "2022-12-20T13:25:33.950Z"
      },
      {
        "duration": 5,
        "start_time": "2022-12-20T13:25:37.834Z"
      },
      {
        "duration": 4,
        "start_time": "2022-12-20T13:25:46.834Z"
      },
      {
        "duration": 13,
        "start_time": "2022-12-20T13:26:23.492Z"
      },
      {
        "duration": 3,
        "start_time": "2022-12-20T13:26:27.694Z"
      },
      {
        "duration": 13,
        "start_time": "2022-12-20T13:26:28.673Z"
      },
      {
        "duration": 4,
        "start_time": "2022-12-20T13:26:37.794Z"
      },
      {
        "duration": 3,
        "start_time": "2022-12-20T13:26:45.764Z"
      },
      {
        "duration": 11,
        "start_time": "2022-12-20T13:42:58.410Z"
      },
      {
        "duration": 59,
        "start_time": "2022-12-20T13:56:47.212Z"
      },
      {
        "duration": 50,
        "start_time": "2022-12-20T16:51:08.185Z"
      },
      {
        "duration": 1716,
        "start_time": "2022-12-20T16:52:34.461Z"
      },
      {
        "duration": 2002,
        "start_time": "2022-12-20T16:52:36.179Z"
      },
      {
        "duration": 13,
        "start_time": "2022-12-20T16:52:38.183Z"
      },
      {
        "duration": 52,
        "start_time": "2022-12-20T16:52:38.197Z"
      },
      {
        "duration": 107,
        "start_time": "2022-12-20T16:52:39.761Z"
      },
      {
        "duration": 11,
        "start_time": "2022-12-20T16:52:40.875Z"
      },
      {
        "duration": 3,
        "start_time": "2022-12-20T16:52:41.471Z"
      },
      {
        "duration": 1512,
        "start_time": "2022-12-20T16:52:42.365Z"
      },
      {
        "duration": 40,
        "start_time": "2022-12-20T16:52:44.294Z"
      },
      {
        "duration": 36,
        "start_time": "2022-12-20T16:52:45.403Z"
      },
      {
        "duration": 20,
        "start_time": "2022-12-20T16:52:47.006Z"
      },
      {
        "duration": 4,
        "start_time": "2022-12-20T16:52:47.688Z"
      },
      {
        "duration": 4,
        "start_time": "2022-12-20T16:53:07.303Z"
      },
      {
        "duration": 4,
        "start_time": "2022-12-20T16:53:48.474Z"
      },
      {
        "duration": 3,
        "start_time": "2022-12-20T16:54:06.911Z"
      },
      {
        "duration": 29,
        "start_time": "2022-12-20T16:54:12.221Z"
      },
      {
        "duration": 3,
        "start_time": "2022-12-20T16:54:13.223Z"
      },
      {
        "duration": 4,
        "start_time": "2022-12-20T16:54:16.369Z"
      },
      {
        "duration": 21,
        "start_time": "2022-12-20T16:54:46.489Z"
      },
      {
        "duration": 3,
        "start_time": "2022-12-20T16:54:47.064Z"
      },
      {
        "duration": 3,
        "start_time": "2022-12-20T16:55:06.128Z"
      },
      {
        "duration": 3,
        "start_time": "2022-12-20T17:12:43.595Z"
      },
      {
        "duration": 15,
        "start_time": "2022-12-20T17:12:45.205Z"
      },
      {
        "duration": 11,
        "start_time": "2022-12-20T17:16:05.117Z"
      },
      {
        "duration": 10,
        "start_time": "2022-12-20T17:16:51.415Z"
      },
      {
        "duration": 13,
        "start_time": "2022-12-20T17:17:30.655Z"
      },
      {
        "duration": 1449,
        "start_time": "2022-12-21T12:23:23.863Z"
      },
      {
        "duration": 1565,
        "start_time": "2022-12-21T12:23:25.823Z"
      },
      {
        "duration": 12,
        "start_time": "2022-12-21T12:23:32.904Z"
      },
      {
        "duration": 34,
        "start_time": "2022-12-21T12:23:42.164Z"
      },
      {
        "duration": 88,
        "start_time": "2022-12-21T12:23:47.703Z"
      },
      {
        "duration": 10,
        "start_time": "2022-12-21T12:23:54.165Z"
      },
      {
        "duration": 3,
        "start_time": "2022-12-21T12:23:54.944Z"
      },
      {
        "duration": 1245,
        "start_time": "2022-12-21T12:24:03.252Z"
      },
      {
        "duration": 35,
        "start_time": "2022-12-21T12:24:12.522Z"
      },
      {
        "duration": 35,
        "start_time": "2022-12-21T12:24:16.944Z"
      },
      {
        "duration": 13,
        "start_time": "2022-12-21T12:24:23.203Z"
      },
      {
        "duration": 3,
        "start_time": "2022-12-21T12:24:24.863Z"
      },
      {
        "duration": 3,
        "start_time": "2022-12-21T12:24:26.703Z"
      },
      {
        "duration": 13,
        "start_time": "2022-12-21T12:24:31.863Z"
      },
      {
        "duration": 3,
        "start_time": "2022-12-21T12:24:32.668Z"
      },
      {
        "duration": 4,
        "start_time": "2022-12-21T12:24:34.863Z"
      },
      {
        "duration": 12,
        "start_time": "2022-12-21T12:24:37.724Z"
      },
      {
        "duration": 3,
        "start_time": "2022-12-21T12:24:38.344Z"
      },
      {
        "duration": 3,
        "start_time": "2022-12-21T12:24:38.996Z"
      },
      {
        "duration": 10,
        "start_time": "2022-12-21T12:24:42.664Z"
      },
      {
        "duration": 3,
        "start_time": "2022-12-21T12:25:23.649Z"
      },
      {
        "duration": 4,
        "start_time": "2022-12-21T12:25:26.727Z"
      },
      {
        "duration": 2,
        "start_time": "2022-12-21T12:26:12.664Z"
      },
      {
        "duration": 6,
        "start_time": "2022-12-21T12:26:13.563Z"
      },
      {
        "duration": 3,
        "start_time": "2022-12-21T13:45:25.696Z"
      },
      {
        "duration": 2,
        "start_time": "2022-12-21T13:46:04.791Z"
      },
      {
        "duration": 117,
        "start_time": "2022-12-21T14:05:48.551Z"
      },
      {
        "duration": 4,
        "start_time": "2022-12-21T14:20:10.454Z"
      },
      {
        "duration": 6,
        "start_time": "2022-12-21T14:20:20.174Z"
      },
      {
        "duration": 6,
        "start_time": "2022-12-21T14:20:45.014Z"
      },
      {
        "duration": 6,
        "start_time": "2022-12-21T14:21:08.824Z"
      },
      {
        "duration": 53,
        "start_time": "2022-12-21T17:13:37.217Z"
      },
      {
        "duration": 1519,
        "start_time": "2022-12-21T17:13:50.139Z"
      },
      {
        "duration": 10,
        "start_time": "2022-12-21T17:13:59.439Z"
      },
      {
        "duration": 5,
        "start_time": "2022-12-21T17:14:05.696Z"
      },
      {
        "duration": 83,
        "start_time": "2022-12-21T17:17:16.473Z"
      },
      {
        "duration": 13,
        "start_time": "2022-12-21T17:18:19.933Z"
      },
      {
        "duration": 4,
        "start_time": "2022-12-21T17:18:37.065Z"
      },
      {
        "duration": 823,
        "start_time": "2022-12-21T17:18:37.767Z"
      },
      {
        "duration": 19,
        "start_time": "2022-12-21T17:18:39.384Z"
      },
      {
        "duration": 50,
        "start_time": "2022-12-21T17:18:40.280Z"
      },
      {
        "duration": 108,
        "start_time": "2022-12-21T17:18:41.375Z"
      },
      {
        "duration": 11,
        "start_time": "2022-12-21T17:18:41.983Z"
      },
      {
        "duration": 3,
        "start_time": "2022-12-21T17:18:42.283Z"
      },
      {
        "duration": 1577,
        "start_time": "2022-12-21T17:18:43.066Z"
      },
      {
        "duration": 58,
        "start_time": "2022-12-21T17:18:44.646Z"
      },
      {
        "duration": 45,
        "start_time": "2022-12-21T17:18:45.543Z"
      },
      {
        "duration": 22,
        "start_time": "2022-12-21T17:18:46.600Z"
      },
      {
        "duration": 4,
        "start_time": "2022-12-21T17:18:46.976Z"
      },
      {
        "duration": 5,
        "start_time": "2022-12-21T17:18:47.559Z"
      },
      {
        "duration": 79,
        "start_time": "2022-12-21T17:18:48.326Z"
      },
      {
        "duration": 4,
        "start_time": "2022-12-21T17:18:48.795Z"
      },
      {
        "duration": 5,
        "start_time": "2022-12-21T17:18:49.267Z"
      },
      {
        "duration": 39,
        "start_time": "2022-12-21T17:18:51.660Z"
      },
      {
        "duration": 5,
        "start_time": "2022-12-21T17:18:52.105Z"
      },
      {
        "duration": 4,
        "start_time": "2022-12-21T17:18:52.762Z"
      },
      {
        "duration": 13,
        "start_time": "2022-12-21T17:18:53.121Z"
      },
      {
        "duration": 6,
        "start_time": "2022-12-21T17:18:55.207Z"
      },
      {
        "duration": 4,
        "start_time": "2022-12-21T17:18:56.078Z"
      },
      {
        "duration": 3,
        "start_time": "2022-12-21T17:18:57.058Z"
      },
      {
        "duration": 6,
        "start_time": "2022-12-21T17:18:57.427Z"
      },
      {
        "duration": 9,
        "start_time": "2022-12-21T17:19:00.906Z"
      },
      {
        "duration": 23,
        "start_time": "2022-12-21T17:19:02.897Z"
      },
      {
        "duration": 8,
        "start_time": "2022-12-21T17:28:29.656Z"
      },
      {
        "duration": 9,
        "start_time": "2022-12-21T17:29:02.266Z"
      },
      {
        "duration": 20,
        "start_time": "2022-12-21T17:29:05.180Z"
      },
      {
        "duration": 7,
        "start_time": "2022-12-21T17:29:54.339Z"
      },
      {
        "duration": 41,
        "start_time": "2022-12-21T17:29:56.429Z"
      },
      {
        "duration": 7,
        "start_time": "2022-12-21T17:38:52.495Z"
      },
      {
        "duration": 6,
        "start_time": "2022-12-21T17:38:53.344Z"
      },
      {
        "duration": 12,
        "start_time": "2022-12-21T17:39:54.043Z"
      },
      {
        "duration": 11,
        "start_time": "2022-12-21T17:43:35.230Z"
      },
      {
        "duration": 16,
        "start_time": "2022-12-21T17:44:13.846Z"
      },
      {
        "duration": 7,
        "start_time": "2022-12-21T17:45:10.453Z"
      },
      {
        "duration": 15,
        "start_time": "2022-12-21T17:45:20.603Z"
      },
      {
        "duration": 45,
        "start_time": "2022-12-22T01:48:35.811Z"
      },
      {
        "duration": 1496,
        "start_time": "2022-12-22T01:49:08.998Z"
      },
      {
        "duration": 734,
        "start_time": "2022-12-22T01:49:10.496Z"
      },
      {
        "duration": 14,
        "start_time": "2022-12-22T01:49:11.232Z"
      },
      {
        "duration": 37,
        "start_time": "2022-12-22T01:49:11.248Z"
      },
      {
        "duration": 92,
        "start_time": "2022-12-22T01:49:11.287Z"
      },
      {
        "duration": 10,
        "start_time": "2022-12-22T01:49:11.381Z"
      },
      {
        "duration": 5,
        "start_time": "2022-12-22T01:49:11.392Z"
      },
      {
        "duration": 1321,
        "start_time": "2022-12-22T01:49:11.398Z"
      },
      {
        "duration": 36,
        "start_time": "2022-12-22T01:49:12.721Z"
      },
      {
        "duration": 34,
        "start_time": "2022-12-22T01:49:12.758Z"
      },
      {
        "duration": 31,
        "start_time": "2022-12-22T01:49:12.793Z"
      },
      {
        "duration": 5,
        "start_time": "2022-12-22T01:49:12.826Z"
      },
      {
        "duration": 87,
        "start_time": "2022-12-22T01:49:12.832Z"
      },
      {
        "duration": 107,
        "start_time": "2022-12-22T01:49:12.923Z"
      },
      {
        "duration": 4,
        "start_time": "2022-12-22T01:49:13.032Z"
      },
      {
        "duration": 186,
        "start_time": "2022-12-22T01:49:13.039Z"
      },
      {
        "duration": 17,
        "start_time": "2022-12-22T01:49:13.227Z"
      },
      {
        "duration": 3,
        "start_time": "2022-12-22T01:49:13.247Z"
      },
      {
        "duration": 168,
        "start_time": "2022-12-22T01:49:13.252Z"
      },
      {
        "duration": 14,
        "start_time": "2022-12-22T01:49:13.422Z"
      },
      {
        "duration": 8,
        "start_time": "2022-12-22T01:49:13.437Z"
      },
      {
        "duration": 6,
        "start_time": "2022-12-22T01:49:13.446Z"
      },
      {
        "duration": 5,
        "start_time": "2022-12-22T01:49:13.454Z"
      },
      {
        "duration": 9,
        "start_time": "2022-12-22T01:49:13.460Z"
      },
      {
        "duration": 81,
        "start_time": "2022-12-22T01:49:13.470Z"
      },
      {
        "duration": 0,
        "start_time": "2022-12-22T01:49:13.552Z"
      },
      {
        "duration": 0,
        "start_time": "2022-12-22T01:49:13.554Z"
      },
      {
        "duration": 9,
        "start_time": "2022-12-22T01:50:07.242Z"
      },
      {
        "duration": 8,
        "start_time": "2022-12-22T01:50:50.198Z"
      },
      {
        "duration": 10,
        "start_time": "2022-12-22T01:51:22.184Z"
      },
      {
        "duration": 9,
        "start_time": "2022-12-22T01:51:34.886Z"
      },
      {
        "duration": 8,
        "start_time": "2022-12-22T01:52:19.295Z"
      },
      {
        "duration": 9,
        "start_time": "2022-12-22T01:52:47.179Z"
      },
      {
        "duration": 8,
        "start_time": "2022-12-22T01:53:04.969Z"
      },
      {
        "duration": 9,
        "start_time": "2022-12-22T01:53:16.885Z"
      },
      {
        "duration": 8,
        "start_time": "2022-12-22T01:55:49.613Z"
      },
      {
        "duration": 13,
        "start_time": "2022-12-22T01:59:25.722Z"
      },
      {
        "duration": 6,
        "start_time": "2022-12-22T01:59:34.380Z"
      },
      {
        "duration": 9,
        "start_time": "2022-12-22T01:59:45.914Z"
      },
      {
        "duration": 8,
        "start_time": "2022-12-22T02:00:33.626Z"
      },
      {
        "duration": 8,
        "start_time": "2022-12-22T02:01:05.606Z"
      },
      {
        "duration": 7,
        "start_time": "2022-12-22T02:01:39.257Z"
      },
      {
        "duration": 11,
        "start_time": "2022-12-22T02:06:02.376Z"
      },
      {
        "duration": 21,
        "start_time": "2022-12-22T02:12:04.054Z"
      },
      {
        "duration": 12,
        "start_time": "2022-12-22T02:13:06.240Z"
      },
      {
        "duration": 4,
        "start_time": "2022-12-22T02:13:34.820Z"
      },
      {
        "duration": 21,
        "start_time": "2022-12-22T03:18:40.064Z"
      },
      {
        "duration": 64,
        "start_time": "2022-12-22T05:30:36.199Z"
      },
      {
        "duration": 1706,
        "start_time": "2022-12-22T05:30:45.999Z"
      },
      {
        "duration": 926,
        "start_time": "2022-12-22T05:30:47.707Z"
      },
      {
        "duration": 31,
        "start_time": "2022-12-22T05:30:48.640Z"
      },
      {
        "duration": 33,
        "start_time": "2022-12-22T05:30:48.672Z"
      },
      {
        "duration": 95,
        "start_time": "2022-12-22T05:30:48.707Z"
      },
      {
        "duration": 9,
        "start_time": "2022-12-22T05:30:48.804Z"
      },
      {
        "duration": 66,
        "start_time": "2022-12-22T05:30:48.814Z"
      },
      {
        "duration": 1716,
        "start_time": "2022-12-22T05:30:48.882Z"
      },
      {
        "duration": 44,
        "start_time": "2022-12-22T05:30:50.600Z"
      },
      {
        "duration": 64,
        "start_time": "2022-12-22T05:30:50.646Z"
      },
      {
        "duration": 130,
        "start_time": "2022-12-22T05:30:50.712Z"
      },
      {
        "duration": 6,
        "start_time": "2022-12-22T05:30:50.846Z"
      },
      {
        "duration": 21,
        "start_time": "2022-12-22T05:30:50.858Z"
      },
      {
        "duration": 67,
        "start_time": "2022-12-22T05:30:50.883Z"
      },
      {
        "duration": 120,
        "start_time": "2022-12-22T05:30:50.952Z"
      },
      {
        "duration": 17,
        "start_time": "2022-12-22T05:30:51.074Z"
      },
      {
        "duration": 48,
        "start_time": "2022-12-22T05:30:51.093Z"
      },
      {
        "duration": 126,
        "start_time": "2022-12-22T05:30:51.143Z"
      },
      {
        "duration": 10,
        "start_time": "2022-12-22T05:30:51.270Z"
      },
      {
        "duration": 23,
        "start_time": "2022-12-22T05:30:51.281Z"
      },
      {
        "duration": 6,
        "start_time": "2022-12-22T05:30:51.305Z"
      },
      {
        "duration": 10,
        "start_time": "2022-12-22T05:30:51.313Z"
      },
      {
        "duration": 8,
        "start_time": "2022-12-22T05:30:51.325Z"
      },
      {
        "duration": 38,
        "start_time": "2022-12-22T05:30:51.339Z"
      },
      {
        "duration": 25,
        "start_time": "2022-12-22T05:30:51.379Z"
      },
      {
        "duration": 128,
        "start_time": "2022-12-22T05:30:56.754Z"
      },
      {
        "duration": 56,
        "start_time": "2022-12-22T13:35:54.300Z"
      },
      {
        "duration": 1602,
        "start_time": "2022-12-22T13:36:02.689Z"
      },
      {
        "duration": 1001,
        "start_time": "2022-12-22T13:36:04.294Z"
      },
      {
        "duration": 15,
        "start_time": "2022-12-22T13:36:05.297Z"
      },
      {
        "duration": 91,
        "start_time": "2022-12-22T13:36:05.313Z"
      },
      {
        "duration": 106,
        "start_time": "2022-12-22T13:36:05.407Z"
      },
      {
        "duration": 11,
        "start_time": "2022-12-22T13:36:05.515Z"
      },
      {
        "duration": 86,
        "start_time": "2022-12-22T13:36:05.528Z"
      },
      {
        "duration": 1590,
        "start_time": "2022-12-22T13:36:05.617Z"
      },
      {
        "duration": 50,
        "start_time": "2022-12-22T13:36:07.210Z"
      },
      {
        "duration": 38,
        "start_time": "2022-12-22T13:36:07.262Z"
      },
      {
        "duration": 46,
        "start_time": "2022-12-22T13:36:07.301Z"
      },
      {
        "duration": 97,
        "start_time": "2022-12-22T13:36:07.349Z"
      },
      {
        "duration": 63,
        "start_time": "2022-12-22T13:36:07.449Z"
      },
      {
        "duration": 47,
        "start_time": "2022-12-22T13:36:07.516Z"
      },
      {
        "duration": 199,
        "start_time": "2022-12-22T13:36:07.566Z"
      },
      {
        "duration": 40,
        "start_time": "2022-12-22T13:36:07.767Z"
      },
      {
        "duration": 29,
        "start_time": "2022-12-22T13:36:07.809Z"
      },
      {
        "duration": 206,
        "start_time": "2022-12-22T13:36:07.841Z"
      },
      {
        "duration": 23,
        "start_time": "2022-12-22T13:36:08.049Z"
      },
      {
        "duration": 17,
        "start_time": "2022-12-22T13:36:08.074Z"
      },
      {
        "duration": 33,
        "start_time": "2022-12-22T13:36:08.093Z"
      },
      {
        "duration": 9,
        "start_time": "2022-12-22T13:36:08.128Z"
      },
      {
        "duration": 18,
        "start_time": "2022-12-22T13:36:08.138Z"
      },
      {
        "duration": 27,
        "start_time": "2022-12-22T13:36:08.159Z"
      },
      {
        "duration": 13,
        "start_time": "2022-12-22T13:36:08.189Z"
      },
      {
        "duration": 96,
        "start_time": "2022-12-22T13:36:15.519Z"
      },
      {
        "duration": 19,
        "start_time": "2022-12-22T13:46:08.269Z"
      },
      {
        "duration": 17,
        "start_time": "2022-12-22T13:48:20.767Z"
      },
      {
        "duration": 18,
        "start_time": "2022-12-22T13:53:56.708Z"
      },
      {
        "duration": 22,
        "start_time": "2022-12-22T14:09:58.718Z"
      },
      {
        "duration": 14,
        "start_time": "2022-12-22T14:10:17.078Z"
      },
      {
        "duration": 7,
        "start_time": "2022-12-22T14:11:28.955Z"
      },
      {
        "duration": 7,
        "start_time": "2022-12-22T14:11:38.758Z"
      },
      {
        "duration": 6,
        "start_time": "2022-12-22T14:12:14.878Z"
      },
      {
        "duration": 52,
        "start_time": "2022-12-22T15:32:52.079Z"
      },
      {
        "duration": 1487,
        "start_time": "2022-12-22T15:33:10.055Z"
      },
      {
        "duration": 1806,
        "start_time": "2022-12-22T15:33:11.544Z"
      },
      {
        "duration": 12,
        "start_time": "2022-12-22T15:33:13.351Z"
      },
      {
        "duration": 34,
        "start_time": "2022-12-22T15:33:13.365Z"
      },
      {
        "duration": 85,
        "start_time": "2022-12-22T15:33:13.404Z"
      },
      {
        "duration": 18,
        "start_time": "2022-12-22T15:33:13.491Z"
      },
      {
        "duration": 7,
        "start_time": "2022-12-22T15:33:13.511Z"
      },
      {
        "duration": 1306,
        "start_time": "2022-12-22T15:33:13.519Z"
      },
      {
        "duration": 35,
        "start_time": "2022-12-22T15:33:14.826Z"
      },
      {
        "duration": 46,
        "start_time": "2022-12-22T15:33:14.863Z"
      },
      {
        "duration": 13,
        "start_time": "2022-12-22T15:33:14.911Z"
      },
      {
        "duration": 77,
        "start_time": "2022-12-22T15:33:14.928Z"
      },
      {
        "duration": 102,
        "start_time": "2022-12-22T15:33:15.008Z"
      },
      {
        "duration": 21,
        "start_time": "2022-12-22T15:33:15.114Z"
      },
      {
        "duration": 70,
        "start_time": "2022-12-22T15:33:15.137Z"
      },
      {
        "duration": 98,
        "start_time": "2022-12-22T15:33:15.214Z"
      },
      {
        "duration": 13,
        "start_time": "2022-12-22T15:33:15.314Z"
      },
      {
        "duration": 76,
        "start_time": "2022-12-22T15:33:15.329Z"
      },
      {
        "duration": 105,
        "start_time": "2022-12-22T15:33:15.407Z"
      },
      {
        "duration": 13,
        "start_time": "2022-12-22T15:33:15.513Z"
      },
      {
        "duration": 8,
        "start_time": "2022-12-22T15:33:15.528Z"
      },
      {
        "duration": 9,
        "start_time": "2022-12-22T15:33:15.537Z"
      },
      {
        "duration": 7,
        "start_time": "2022-12-22T15:33:15.548Z"
      },
      {
        "duration": 8,
        "start_time": "2022-12-22T15:33:15.557Z"
      },
      {
        "duration": 6,
        "start_time": "2022-12-22T15:33:15.566Z"
      },
      {
        "duration": 12,
        "start_time": "2022-12-22T15:33:15.573Z"
      },
      {
        "duration": 4,
        "start_time": "2022-12-22T15:33:25.147Z"
      },
      {
        "duration": 990,
        "start_time": "2022-12-22T15:33:33.359Z"
      },
      {
        "duration": 3,
        "start_time": "2022-12-22T15:36:46.774Z"
      },
      {
        "duration": 4,
        "start_time": "2022-12-22T16:14:33.384Z"
      },
      {
        "duration": 72,
        "start_time": "2022-12-22T16:17:10.309Z"
      },
      {
        "duration": 9,
        "start_time": "2022-12-22T16:17:28.152Z"
      },
      {
        "duration": 4,
        "start_time": "2022-12-22T16:22:14.680Z"
      },
      {
        "duration": 7,
        "start_time": "2022-12-22T16:22:16.201Z"
      },
      {
        "duration": 3,
        "start_time": "2022-12-22T16:23:29.361Z"
      },
      {
        "duration": 8,
        "start_time": "2022-12-22T16:23:31.795Z"
      },
      {
        "duration": 4,
        "start_time": "2022-12-22T16:23:32.564Z"
      },
      {
        "duration": 3,
        "start_time": "2022-12-22T16:23:33.223Z"
      },
      {
        "duration": 6,
        "start_time": "2022-12-22T16:37:19.761Z"
      },
      {
        "duration": 14,
        "start_time": "2022-12-22T16:38:01.671Z"
      },
      {
        "duration": 13,
        "start_time": "2022-12-22T16:38:52.060Z"
      },
      {
        "duration": 5,
        "start_time": "2022-12-22T16:47:16.755Z"
      },
      {
        "duration": 13,
        "start_time": "2022-12-22T16:47:36.832Z"
      },
      {
        "duration": 13,
        "start_time": "2022-12-22T16:48:34.508Z"
      },
      {
        "duration": 13,
        "start_time": "2022-12-22T16:49:47.729Z"
      },
      {
        "duration": 14,
        "start_time": "2022-12-22T16:50:34.942Z"
      },
      {
        "duration": 6,
        "start_time": "2022-12-22T16:51:01.712Z"
      },
      {
        "duration": 15,
        "start_time": "2022-12-22T16:56:01.824Z"
      },
      {
        "duration": 12,
        "start_time": "2022-12-22T16:56:53.247Z"
      },
      {
        "duration": 12,
        "start_time": "2022-12-22T16:57:04.783Z"
      },
      {
        "duration": 12,
        "start_time": "2022-12-22T17:30:51.654Z"
      },
      {
        "duration": 7,
        "start_time": "2022-12-22T17:32:04.239Z"
      },
      {
        "duration": 8,
        "start_time": "2022-12-22T17:32:05.343Z"
      },
      {
        "duration": 7,
        "start_time": "2022-12-22T17:42:10.392Z"
      },
      {
        "duration": 18,
        "start_time": "2022-12-22T17:45:15.441Z"
      },
      {
        "duration": 9,
        "start_time": "2022-12-22T17:47:04.440Z"
      },
      {
        "duration": 4,
        "start_time": "2022-12-22T17:47:22.219Z"
      },
      {
        "duration": 13,
        "start_time": "2022-12-22T17:47:37.175Z"
      },
      {
        "duration": 9,
        "start_time": "2022-12-22T17:50:01.568Z"
      },
      {
        "duration": 9,
        "start_time": "2022-12-22T17:50:17.361Z"
      },
      {
        "duration": 5,
        "start_time": "2022-12-22T17:50:33.033Z"
      },
      {
        "duration": 5,
        "start_time": "2022-12-22T17:52:00.748Z"
      },
      {
        "duration": 13,
        "start_time": "2022-12-22T17:52:39.793Z"
      },
      {
        "duration": 1615,
        "start_time": "2022-12-23T06:47:04.946Z"
      },
      {
        "duration": 1621,
        "start_time": "2022-12-23T06:47:07.206Z"
      },
      {
        "duration": 14,
        "start_time": "2022-12-23T06:47:09.286Z"
      },
      {
        "duration": 37,
        "start_time": "2022-12-23T06:47:13.827Z"
      },
      {
        "duration": 111,
        "start_time": "2022-12-23T06:47:20.719Z"
      },
      {
        "duration": 13,
        "start_time": "2022-12-23T06:47:25.146Z"
      },
      {
        "duration": 3,
        "start_time": "2022-12-23T06:47:26.786Z"
      },
      {
        "duration": 1511,
        "start_time": "2022-12-23T06:47:46.945Z"
      },
      {
        "duration": 37,
        "start_time": "2022-12-23T06:47:54.249Z"
      },
      {
        "duration": 37,
        "start_time": "2022-12-23T06:47:58.046Z"
      },
      {
        "duration": 26,
        "start_time": "2022-12-23T06:47:59.925Z"
      },
      {
        "duration": 4,
        "start_time": "2022-12-23T06:48:02.306Z"
      },
      {
        "duration": 3,
        "start_time": "2022-12-23T06:48:03.946Z"
      },
      {
        "duration": 16,
        "start_time": "2022-12-23T06:48:09.446Z"
      },
      {
        "duration": 4,
        "start_time": "2022-12-23T06:48:10.189Z"
      },
      {
        "duration": 4,
        "start_time": "2022-12-23T06:48:12.639Z"
      },
      {
        "duration": 13,
        "start_time": "2022-12-23T06:48:14.806Z"
      },
      {
        "duration": 5,
        "start_time": "2022-12-23T06:48:16.845Z"
      },
      {
        "duration": 4,
        "start_time": "2022-12-23T06:48:17.736Z"
      },
      {
        "duration": 11,
        "start_time": "2022-12-23T06:48:21.786Z"
      },
      {
        "duration": 3,
        "start_time": "2022-12-23T06:48:39.066Z"
      },
      {
        "duration": 4,
        "start_time": "2022-12-23T06:48:41.134Z"
      },
      {
        "duration": 3,
        "start_time": "2022-12-23T06:48:51.746Z"
      },
      {
        "duration": 4,
        "start_time": "2022-12-23T06:48:53.467Z"
      },
      {
        "duration": 4,
        "start_time": "2022-12-23T07:19:01.134Z"
      },
      {
        "duration": 114,
        "start_time": "2022-12-23T07:19:01.784Z"
      },
      {
        "duration": 4,
        "start_time": "2022-12-23T07:19:35.135Z"
      },
      {
        "duration": 8,
        "start_time": "2022-12-23T07:19:35.744Z"
      },
      {
        "duration": 12,
        "start_time": "2022-12-23T07:27:50.844Z"
      },
      {
        "duration": 12,
        "start_time": "2022-12-23T07:28:48.861Z"
      },
      {
        "duration": 9,
        "start_time": "2022-12-23T07:29:29.103Z"
      },
      {
        "duration": 13,
        "start_time": "2022-12-23T07:29:37.120Z"
      },
      {
        "duration": 6,
        "start_time": "2022-12-23T07:29:58.622Z"
      },
      {
        "duration": 9,
        "start_time": "2022-12-23T07:30:10.483Z"
      },
      {
        "duration": 18,
        "start_time": "2022-12-23T07:30:50.515Z"
      },
      {
        "duration": 6,
        "start_time": "2022-12-23T07:41:07.500Z"
      },
      {
        "duration": 12,
        "start_time": "2022-12-23T07:41:20.441Z"
      },
      {
        "duration": 11,
        "start_time": "2022-12-23T07:41:37.301Z"
      },
      {
        "duration": 3,
        "start_time": "2022-12-23T07:44:12.381Z"
      },
      {
        "duration": 5,
        "start_time": "2022-12-23T07:44:39.513Z"
      },
      {
        "duration": 5,
        "start_time": "2022-12-23T07:48:08.501Z"
      },
      {
        "duration": 12,
        "start_time": "2022-12-23T07:48:09.000Z"
      },
      {
        "duration": 14,
        "start_time": "2022-12-23T07:53:45.822Z"
      },
      {
        "duration": 5,
        "start_time": "2022-12-23T07:55:50.182Z"
      },
      {
        "duration": 14,
        "start_time": "2022-12-23T07:55:54.284Z"
      },
      {
        "duration": 7,
        "start_time": "2022-12-23T08:01:49.458Z"
      },
      {
        "duration": 3,
        "start_time": "2022-12-23T08:03:44.138Z"
      },
      {
        "duration": 3,
        "start_time": "2022-12-23T08:03:44.929Z"
      },
      {
        "duration": 5,
        "start_time": "2022-12-23T08:03:46.449Z"
      },
      {
        "duration": 11,
        "start_time": "2022-12-23T08:03:50.137Z"
      },
      {
        "duration": 17,
        "start_time": "2022-12-23T08:06:06.179Z"
      },
      {
        "duration": 5,
        "start_time": "2022-12-23T08:07:43.557Z"
      },
      {
        "duration": 15,
        "start_time": "2022-12-23T08:07:44.026Z"
      },
      {
        "duration": 4,
        "start_time": "2022-12-23T08:33:13.238Z"
      },
      {
        "duration": 14,
        "start_time": "2022-12-23T08:34:00.356Z"
      },
      {
        "duration": 5,
        "start_time": "2022-12-23T08:35:17.164Z"
      },
      {
        "duration": 5,
        "start_time": "2022-12-23T08:35:26.436Z"
      },
      {
        "duration": 14,
        "start_time": "2022-12-23T08:35:27.036Z"
      },
      {
        "duration": 13,
        "start_time": "2022-12-23T08:37:45.645Z"
      },
      {
        "duration": 16,
        "start_time": "2022-12-23T08:39:04.675Z"
      },
      {
        "duration": 7,
        "start_time": "2022-12-23T08:39:44.676Z"
      },
      {
        "duration": 14,
        "start_time": "2022-12-23T08:39:48.189Z"
      },
      {
        "duration": 12,
        "start_time": "2022-12-23T08:40:47.816Z"
      },
      {
        "duration": 12,
        "start_time": "2022-12-23T08:48:22.768Z"
      },
      {
        "duration": 6,
        "start_time": "2022-12-23T08:49:50.104Z"
      },
      {
        "duration": 6,
        "start_time": "2022-12-23T08:51:44.983Z"
      },
      {
        "duration": 899,
        "start_time": "2022-12-23T08:51:45.615Z"
      },
      {
        "duration": 6,
        "start_time": "2022-12-23T08:58:00.103Z"
      },
      {
        "duration": 904,
        "start_time": "2022-12-23T08:58:00.756Z"
      },
      {
        "duration": 5,
        "start_time": "2022-12-23T08:58:29.203Z"
      },
      {
        "duration": 412,
        "start_time": "2022-12-23T08:58:29.212Z"
      },
      {
        "duration": 26,
        "start_time": "2022-12-23T08:58:29.626Z"
      },
      {
        "duration": 61,
        "start_time": "2022-12-23T08:58:29.654Z"
      },
      {
        "duration": 118,
        "start_time": "2022-12-23T08:58:29.718Z"
      },
      {
        "duration": 19,
        "start_time": "2022-12-23T08:58:29.840Z"
      },
      {
        "duration": 29,
        "start_time": "2022-12-23T08:58:29.861Z"
      },
      {
        "duration": 1408,
        "start_time": "2022-12-23T08:58:29.892Z"
      },
      {
        "duration": 35,
        "start_time": "2022-12-23T08:58:31.302Z"
      },
      {
        "duration": 55,
        "start_time": "2022-12-23T08:58:31.338Z"
      },
      {
        "duration": 73,
        "start_time": "2022-12-23T08:58:31.395Z"
      },
      {
        "duration": 90,
        "start_time": "2022-12-23T08:58:31.470Z"
      },
      {
        "duration": 19,
        "start_time": "2022-12-23T08:58:31.563Z"
      },
      {
        "duration": 77,
        "start_time": "2022-12-23T08:58:31.584Z"
      },
      {
        "duration": 84,
        "start_time": "2022-12-23T08:58:31.668Z"
      },
      {
        "duration": 8,
        "start_time": "2022-12-23T08:58:31.754Z"
      },
      {
        "duration": 20,
        "start_time": "2022-12-23T08:58:31.764Z"
      },
      {
        "duration": 164,
        "start_time": "2022-12-23T08:58:31.787Z"
      },
      {
        "duration": 8,
        "start_time": "2022-12-23T08:58:31.953Z"
      },
      {
        "duration": 20,
        "start_time": "2022-12-23T08:58:31.963Z"
      },
      {
        "duration": 29,
        "start_time": "2022-12-23T08:58:31.985Z"
      },
      {
        "duration": 27,
        "start_time": "2022-12-23T08:58:32.016Z"
      },
      {
        "duration": 24,
        "start_time": "2022-12-23T08:58:32.045Z"
      },
      {
        "duration": 17,
        "start_time": "2022-12-23T08:58:32.071Z"
      },
      {
        "duration": 13,
        "start_time": "2022-12-23T08:58:32.090Z"
      },
      {
        "duration": 4,
        "start_time": "2022-12-23T08:58:41.864Z"
      },
      {
        "duration": 6,
        "start_time": "2022-12-23T08:58:42.844Z"
      },
      {
        "duration": 694,
        "start_time": "2022-12-23T08:58:46.832Z"
      },
      {
        "duration": 17,
        "start_time": "2022-12-23T09:00:27.504Z"
      },
      {
        "duration": 693,
        "start_time": "2022-12-23T09:00:56.036Z"
      },
      {
        "duration": 708,
        "start_time": "2022-12-23T09:01:24.776Z"
      },
      {
        "duration": 723,
        "start_time": "2022-12-23T09:02:29.640Z"
      },
      {
        "duration": 5,
        "start_time": "2022-12-23T09:12:50.405Z"
      },
      {
        "duration": 815,
        "start_time": "2022-12-23T09:12:51.176Z"
      },
      {
        "duration": 991,
        "start_time": "2022-12-23T09:13:41.474Z"
      },
      {
        "duration": 890,
        "start_time": "2022-12-23T09:13:50.136Z"
      },
      {
        "duration": 8,
        "start_time": "2022-12-23T09:24:59.850Z"
      },
      {
        "duration": 862,
        "start_time": "2022-12-23T09:25:00.470Z"
      },
      {
        "duration": 9,
        "start_time": "2022-12-23T09:25:28.793Z"
      },
      {
        "duration": 10,
        "start_time": "2022-12-23T09:25:45.151Z"
      },
      {
        "duration": 5,
        "start_time": "2022-12-23T09:25:56.197Z"
      },
      {
        "duration": 809,
        "start_time": "2022-12-23T09:26:02.720Z"
      },
      {
        "duration": 827,
        "start_time": "2022-12-23T09:26:03.843Z"
      },
      {
        "duration": 864,
        "start_time": "2022-12-23T09:26:05.011Z"
      },
      {
        "duration": 9,
        "start_time": "2022-12-23T09:26:09.299Z"
      },
      {
        "duration": 9,
        "start_time": "2022-12-23T09:28:54.514Z"
      },
      {
        "duration": 851,
        "start_time": "2022-12-23T09:29:08.008Z"
      },
      {
        "duration": 9,
        "start_time": "2022-12-23T09:29:10.147Z"
      },
      {
        "duration": 8,
        "start_time": "2022-12-23T09:45:00.176Z"
      },
      {
        "duration": 831,
        "start_time": "2022-12-23T09:45:00.997Z"
      },
      {
        "duration": 12,
        "start_time": "2022-12-23T09:50:10.534Z"
      },
      {
        "duration": 9,
        "start_time": "2022-12-23T09:50:38.453Z"
      },
      {
        "duration": 843,
        "start_time": "2022-12-23T09:51:06.073Z"
      },
      {
        "duration": 865,
        "start_time": "2022-12-23T09:51:23.233Z"
      },
      {
        "duration": 856,
        "start_time": "2022-12-23T09:51:24.930Z"
      },
      {
        "duration": 6,
        "start_time": "2022-12-23T09:52:30.150Z"
      },
      {
        "duration": 886,
        "start_time": "2022-12-23T09:52:30.674Z"
      },
      {
        "duration": 853,
        "start_time": "2022-12-23T09:53:20.169Z"
      },
      {
        "duration": 845,
        "start_time": "2022-12-23T09:53:22.169Z"
      },
      {
        "duration": 10,
        "start_time": "2022-12-23T09:53:26.557Z"
      },
      {
        "duration": 5,
        "start_time": "2022-12-23T09:56:11.758Z"
      },
      {
        "duration": 836,
        "start_time": "2022-12-23T09:56:12.259Z"
      },
      {
        "duration": 931,
        "start_time": "2022-12-23T09:56:36.622Z"
      },
      {
        "duration": 1054,
        "start_time": "2022-12-23T09:56:39.510Z"
      },
      {
        "duration": 6,
        "start_time": "2022-12-23T09:59:36.725Z"
      },
      {
        "duration": 893,
        "start_time": "2022-12-23T09:59:39.912Z"
      },
      {
        "duration": 885,
        "start_time": "2022-12-23T09:59:41.904Z"
      },
      {
        "duration": 5,
        "start_time": "2022-12-23T09:59:56.033Z"
      },
      {
        "duration": 898,
        "start_time": "2022-12-23T09:59:56.926Z"
      },
      {
        "duration": 937,
        "start_time": "2022-12-23T10:00:00.653Z"
      },
      {
        "duration": 909,
        "start_time": "2022-12-23T10:00:02.610Z"
      },
      {
        "duration": 9,
        "start_time": "2022-12-23T10:00:07.718Z"
      },
      {
        "duration": 99,
        "start_time": "2022-12-23T10:03:15.813Z"
      },
      {
        "duration": 7,
        "start_time": "2022-12-23T10:03:29.393Z"
      },
      {
        "duration": 855,
        "start_time": "2022-12-23T10:03:30.397Z"
      },
      {
        "duration": 836,
        "start_time": "2022-12-23T10:03:35.404Z"
      },
      {
        "duration": 827,
        "start_time": "2022-12-23T10:03:37.274Z"
      },
      {
        "duration": 4,
        "start_time": "2022-12-23T10:06:13.032Z"
      },
      {
        "duration": 71,
        "start_time": "2022-12-23T10:07:12.931Z"
      },
      {
        "duration": 848,
        "start_time": "2022-12-23T10:08:14.564Z"
      },
      {
        "duration": 904,
        "start_time": "2022-12-23T10:08:40.147Z"
      },
      {
        "duration": 838,
        "start_time": "2022-12-23T10:10:24.389Z"
      },
      {
        "duration": 17,
        "start_time": "2022-12-23T10:15:12.294Z"
      },
      {
        "duration": 4,
        "start_time": "2022-12-23T10:15:51.710Z"
      },
      {
        "duration": 15,
        "start_time": "2022-12-23T10:15:53.431Z"
      },
      {
        "duration": 5,
        "start_time": "2022-12-23T10:19:08.480Z"
      },
      {
        "duration": 787,
        "start_time": "2022-12-23T10:19:09.350Z"
      },
      {
        "duration": 6,
        "start_time": "2022-12-23T10:26:41.170Z"
      },
      {
        "duration": 694,
        "start_time": "2022-12-23T10:26:41.778Z"
      },
      {
        "duration": 710,
        "start_time": "2022-12-23T10:40:59.741Z"
      },
      {
        "duration": 6,
        "start_time": "2022-12-23T11:29:15.898Z"
      },
      {
        "duration": 1449,
        "start_time": "2022-12-23T11:29:17.258Z"
      },
      {
        "duration": 1401,
        "start_time": "2022-12-23T11:29:45.834Z"
      },
      {
        "duration": 7,
        "start_time": "2022-12-23T11:35:12.579Z"
      },
      {
        "duration": 973,
        "start_time": "2022-12-23T11:35:21.573Z"
      },
      {
        "duration": 776,
        "start_time": "2022-12-23T11:35:51.072Z"
      },
      {
        "duration": 5,
        "start_time": "2022-12-23T11:37:25.948Z"
      },
      {
        "duration": 664,
        "start_time": "2022-12-23T11:37:26.471Z"
      },
      {
        "duration": 8,
        "start_time": "2022-12-23T11:41:01.121Z"
      },
      {
        "duration": 894,
        "start_time": "2022-12-23T11:41:01.885Z"
      },
      {
        "duration": 5,
        "start_time": "2022-12-23T11:41:33.085Z"
      },
      {
        "duration": 691,
        "start_time": "2022-12-23T11:41:33.677Z"
      },
      {
        "duration": 750,
        "start_time": "2022-12-23T11:45:53.117Z"
      },
      {
        "duration": 708,
        "start_time": "2022-12-23T11:46:06.777Z"
      },
      {
        "duration": 1139,
        "start_time": "2022-12-23T11:56:39.320Z"
      },
      {
        "duration": 850,
        "start_time": "2022-12-23T11:59:03.526Z"
      },
      {
        "duration": 885,
        "start_time": "2022-12-23T12:01:39.483Z"
      },
      {
        "duration": 10,
        "start_time": "2022-12-23T12:02:09.972Z"
      },
      {
        "duration": 855,
        "start_time": "2022-12-23T12:02:14.460Z"
      },
      {
        "duration": 877,
        "start_time": "2022-12-23T12:02:53.132Z"
      },
      {
        "duration": 871,
        "start_time": "2022-12-23T12:02:57.826Z"
      },
      {
        "duration": 8,
        "start_time": "2022-12-23T12:06:10.980Z"
      },
      {
        "duration": 933,
        "start_time": "2022-12-23T12:06:12.641Z"
      },
      {
        "duration": 1022,
        "start_time": "2022-12-23T12:06:15.025Z"
      },
      {
        "duration": 923,
        "start_time": "2022-12-23T12:06:16.935Z"
      },
      {
        "duration": 4,
        "start_time": "2022-12-23T12:06:42.184Z"
      },
      {
        "duration": 5,
        "start_time": "2022-12-23T12:06:42.687Z"
      },
      {
        "duration": 715,
        "start_time": "2022-12-23T12:06:44.283Z"
      },
      {
        "duration": 5,
        "start_time": "2022-12-23T12:08:40.581Z"
      },
      {
        "duration": 21,
        "start_time": "2022-12-23T12:08:42.623Z"
      },
      {
        "duration": 4,
        "start_time": "2022-12-23T12:10:25.095Z"
      },
      {
        "duration": 8,
        "start_time": "2022-12-23T12:10:25.772Z"
      },
      {
        "duration": 4,
        "start_time": "2022-12-23T12:11:45.439Z"
      },
      {
        "duration": 5,
        "start_time": "2022-12-23T12:11:46.236Z"
      },
      {
        "duration": 4,
        "start_time": "2022-12-23T12:12:11.394Z"
      },
      {
        "duration": 5,
        "start_time": "2022-12-23T12:12:11.875Z"
      },
      {
        "duration": 21,
        "start_time": "2022-12-23T12:16:50.561Z"
      },
      {
        "duration": 5,
        "start_time": "2022-12-23T12:31:49.863Z"
      },
      {
        "duration": 5,
        "start_time": "2022-12-23T12:31:50.486Z"
      },
      {
        "duration": 4,
        "start_time": "2022-12-23T12:32:40.118Z"
      },
      {
        "duration": 4,
        "start_time": "2022-12-23T12:32:40.998Z"
      },
      {
        "duration": 4,
        "start_time": "2022-12-23T12:33:43.577Z"
      },
      {
        "duration": 5,
        "start_time": "2022-12-23T12:33:49.522Z"
      },
      {
        "duration": 22,
        "start_time": "2022-12-23T12:34:04.726Z"
      },
      {
        "duration": 3,
        "start_time": "2022-12-23T12:38:16.416Z"
      },
      {
        "duration": 4,
        "start_time": "2022-12-23T12:38:17.204Z"
      },
      {
        "duration": 5,
        "start_time": "2022-12-23T12:39:25.623Z"
      },
      {
        "duration": 6,
        "start_time": "2022-12-23T12:39:26.625Z"
      },
      {
        "duration": 1655,
        "start_time": "2022-12-24T09:27:58.904Z"
      },
      {
        "duration": 370,
        "start_time": "2022-12-24T09:28:00.561Z"
      },
      {
        "duration": 13,
        "start_time": "2022-12-24T09:28:00.933Z"
      },
      {
        "duration": 73,
        "start_time": "2022-12-24T09:28:00.948Z"
      },
      {
        "duration": 89,
        "start_time": "2022-12-24T09:28:01.023Z"
      },
      {
        "duration": 9,
        "start_time": "2022-12-24T09:28:01.114Z"
      },
      {
        "duration": 21,
        "start_time": "2022-12-24T09:28:01.125Z"
      },
      {
        "duration": 1266,
        "start_time": "2022-12-24T09:28:01.147Z"
      },
      {
        "duration": 33,
        "start_time": "2022-12-24T09:28:02.414Z"
      },
      {
        "duration": 39,
        "start_time": "2022-12-24T09:28:02.449Z"
      },
      {
        "duration": 20,
        "start_time": "2022-12-24T09:28:02.497Z"
      },
      {
        "duration": 184,
        "start_time": "2022-12-24T09:28:02.520Z"
      },
      {
        "duration": 26,
        "start_time": "2022-12-24T09:28:02.706Z"
      },
      {
        "duration": 39,
        "start_time": "2022-12-24T09:28:02.734Z"
      },
      {
        "duration": 129,
        "start_time": "2022-12-24T09:28:02.776Z"
      },
      {
        "duration": 15,
        "start_time": "2022-12-24T09:28:02.907Z"
      },
      {
        "duration": 16,
        "start_time": "2022-12-24T09:28:02.923Z"
      },
      {
        "duration": 59,
        "start_time": "2022-12-24T09:28:02.941Z"
      },
      {
        "duration": 112,
        "start_time": "2022-12-24T09:28:03.002Z"
      },
      {
        "duration": 18,
        "start_time": "2022-12-24T09:28:03.116Z"
      },
      {
        "duration": 12,
        "start_time": "2022-12-24T09:28:03.135Z"
      },
      {
        "duration": 17,
        "start_time": "2022-12-24T09:28:03.149Z"
      },
      {
        "duration": 6,
        "start_time": "2022-12-24T09:28:03.167Z"
      },
      {
        "duration": 9,
        "start_time": "2022-12-24T09:28:03.175Z"
      },
      {
        "duration": 12,
        "start_time": "2022-12-24T09:28:03.186Z"
      },
      {
        "duration": 12,
        "start_time": "2022-12-24T09:28:03.200Z"
      },
      {
        "duration": 749,
        "start_time": "2022-12-24T09:28:03.214Z"
      },
      {
        "duration": 847,
        "start_time": "2022-12-24T09:28:03.966Z"
      },
      {
        "duration": 693,
        "start_time": "2022-12-24T09:28:04.815Z"
      },
      {
        "duration": 4,
        "start_time": "2022-12-24T09:29:07.872Z"
      },
      {
        "duration": 707,
        "start_time": "2022-12-24T09:29:10.454Z"
      },
      {
        "duration": 876,
        "start_time": "2022-12-24T09:29:14.221Z"
      },
      {
        "duration": 699,
        "start_time": "2022-12-24T09:29:17.118Z"
      },
      {
        "duration": 3,
        "start_time": "2022-12-24T09:50:33.307Z"
      },
      {
        "duration": 1279,
        "start_time": "2022-12-24T09:50:33.311Z"
      },
      {
        "duration": 17,
        "start_time": "2022-12-24T09:50:34.592Z"
      },
      {
        "duration": 51,
        "start_time": "2022-12-24T09:50:34.611Z"
      },
      {
        "duration": 104,
        "start_time": "2022-12-24T09:50:34.665Z"
      },
      {
        "duration": 11,
        "start_time": "2022-12-24T09:50:34.771Z"
      },
      {
        "duration": 15,
        "start_time": "2022-12-24T09:50:34.784Z"
      },
      {
        "duration": 1652,
        "start_time": "2022-12-24T09:54:10.647Z"
      },
      {
        "duration": 425,
        "start_time": "2022-12-24T09:54:12.301Z"
      },
      {
        "duration": 12,
        "start_time": "2022-12-24T09:54:12.728Z"
      },
      {
        "duration": 36,
        "start_time": "2022-12-24T09:54:12.742Z"
      },
      {
        "duration": 96,
        "start_time": "2022-12-24T09:54:12.802Z"
      },
      {
        "duration": 10,
        "start_time": "2022-12-24T09:54:12.900Z"
      },
      {
        "duration": 11,
        "start_time": "2022-12-24T09:54:12.912Z"
      },
      {
        "duration": 1724,
        "start_time": "2022-12-24T09:58:33.439Z"
      },
      {
        "duration": 379,
        "start_time": "2022-12-24T09:58:35.165Z"
      },
      {
        "duration": 14,
        "start_time": "2022-12-24T09:58:35.546Z"
      },
      {
        "duration": 48,
        "start_time": "2022-12-24T09:58:35.561Z"
      },
      {
        "duration": 113,
        "start_time": "2022-12-24T09:58:35.611Z"
      },
      {
        "duration": 11,
        "start_time": "2022-12-24T09:58:35.726Z"
      },
      {
        "duration": 30,
        "start_time": "2022-12-24T09:58:35.738Z"
      },
      {
        "duration": 1319,
        "start_time": "2022-12-24T09:58:35.769Z"
      },
      {
        "duration": 39,
        "start_time": "2022-12-24T09:58:37.089Z"
      },
      {
        "duration": 43,
        "start_time": "2022-12-24T09:58:37.131Z"
      },
      {
        "duration": 28,
        "start_time": "2022-12-24T09:58:37.176Z"
      },
      {
        "duration": 8,
        "start_time": "2022-12-24T09:58:37.206Z"
      },
      {
        "duration": 94,
        "start_time": "2022-12-24T09:58:37.216Z"
      },
      {
        "duration": 107,
        "start_time": "2022-12-24T09:58:37.312Z"
      },
      {
        "duration": 81,
        "start_time": "2022-12-24T09:58:37.422Z"
      },
      {
        "duration": 95,
        "start_time": "2022-12-24T09:58:37.504Z"
      },
      {
        "duration": 15,
        "start_time": "2022-12-24T09:58:37.600Z"
      },
      {
        "duration": 4,
        "start_time": "2022-12-24T09:58:37.617Z"
      },
      {
        "duration": 180,
        "start_time": "2022-12-24T09:58:37.623Z"
      },
      {
        "duration": 12,
        "start_time": "2022-12-24T09:58:37.805Z"
      },
      {
        "duration": 5,
        "start_time": "2022-12-24T09:58:37.819Z"
      },
      {
        "duration": 17,
        "start_time": "2022-12-24T09:58:37.825Z"
      },
      {
        "duration": 10,
        "start_time": "2022-12-24T09:58:37.844Z"
      },
      {
        "duration": 9,
        "start_time": "2022-12-24T09:58:37.855Z"
      },
      {
        "duration": 4,
        "start_time": "2022-12-24T09:58:37.865Z"
      },
      {
        "duration": 9,
        "start_time": "2022-12-24T09:58:37.870Z"
      },
      {
        "duration": 758,
        "start_time": "2022-12-24T09:58:37.880Z"
      },
      {
        "duration": 733,
        "start_time": "2022-12-24T09:58:38.640Z"
      },
      {
        "duration": 753,
        "start_time": "2022-12-24T09:58:39.375Z"
      },
      {
        "duration": 10,
        "start_time": "2022-12-24T10:03:28.295Z"
      },
      {
        "duration": 7,
        "start_time": "2022-12-24T10:03:39.238Z"
      },
      {
        "duration": 3,
        "start_time": "2022-12-24T10:04:06.463Z"
      },
      {
        "duration": 5,
        "start_time": "2022-12-24T10:04:09.552Z"
      },
      {
        "duration": 743,
        "start_time": "2022-12-24T10:04:12.399Z"
      },
      {
        "duration": 638,
        "start_time": "2022-12-24T10:04:15.736Z"
      },
      {
        "duration": 620,
        "start_time": "2022-12-24T10:04:18.168Z"
      },
      {
        "duration": 3,
        "start_time": "2022-12-24T10:05:24.336Z"
      },
      {
        "duration": 4,
        "start_time": "2022-12-24T10:06:49.370Z"
      },
      {
        "duration": 6,
        "start_time": "2022-12-24T10:06:52.984Z"
      },
      {
        "duration": 744,
        "start_time": "2022-12-24T10:06:55.055Z"
      },
      {
        "duration": 722,
        "start_time": "2022-12-24T10:07:00.086Z"
      },
      {
        "duration": 717,
        "start_time": "2022-12-24T10:07:02.538Z"
      },
      {
        "duration": 3,
        "start_time": "2022-12-24T10:07:51.215Z"
      },
      {
        "duration": 5,
        "start_time": "2022-12-24T10:07:57.175Z"
      },
      {
        "duration": 629,
        "start_time": "2022-12-24T10:07:58.944Z"
      },
      {
        "duration": 701,
        "start_time": "2022-12-24T10:08:01.910Z"
      },
      {
        "duration": 671,
        "start_time": "2022-12-24T10:08:05.875Z"
      },
      {
        "duration": 1710,
        "start_time": "2022-12-24T10:19:52.835Z"
      },
      {
        "duration": 410,
        "start_time": "2022-12-24T10:19:54.548Z"
      },
      {
        "duration": 13,
        "start_time": "2022-12-24T10:19:54.959Z"
      },
      {
        "duration": 40,
        "start_time": "2022-12-24T10:19:54.974Z"
      },
      {
        "duration": 89,
        "start_time": "2022-12-24T10:19:55.016Z"
      },
      {
        "duration": 10,
        "start_time": "2022-12-24T10:19:55.106Z"
      },
      {
        "duration": 7,
        "start_time": "2022-12-24T10:19:55.117Z"
      },
      {
        "duration": 1247,
        "start_time": "2022-12-24T10:19:55.125Z"
      },
      {
        "duration": 40,
        "start_time": "2022-12-24T10:19:56.374Z"
      },
      {
        "duration": 33,
        "start_time": "2022-12-24T10:19:56.416Z"
      },
      {
        "duration": 53,
        "start_time": "2022-12-24T10:19:56.450Z"
      },
      {
        "duration": 5,
        "start_time": "2022-12-24T10:19:56.505Z"
      },
      {
        "duration": 93,
        "start_time": "2022-12-24T10:19:56.511Z"
      },
      {
        "duration": 21,
        "start_time": "2022-12-24T10:19:56.606Z"
      },
      {
        "duration": 7,
        "start_time": "2022-12-24T10:19:56.699Z"
      },
      {
        "duration": 108,
        "start_time": "2022-12-24T10:19:56.710Z"
      },
      {
        "duration": 20,
        "start_time": "2022-12-24T10:19:56.819Z"
      },
      {
        "duration": 62,
        "start_time": "2022-12-24T10:19:56.841Z"
      },
      {
        "duration": 89,
        "start_time": "2022-12-24T10:19:56.910Z"
      },
      {
        "duration": 13,
        "start_time": "2022-12-24T10:19:57.001Z"
      },
      {
        "duration": 4,
        "start_time": "2022-12-24T10:19:57.015Z"
      },
      {
        "duration": 11,
        "start_time": "2022-12-24T10:19:57.020Z"
      },
      {
        "duration": 4,
        "start_time": "2022-12-24T10:19:57.032Z"
      },
      {
        "duration": 11,
        "start_time": "2022-12-24T10:19:57.038Z"
      },
      {
        "duration": 6,
        "start_time": "2022-12-24T10:19:57.050Z"
      },
      {
        "duration": 7,
        "start_time": "2022-12-24T10:19:57.057Z"
      },
      {
        "duration": 747,
        "start_time": "2022-12-24T10:19:57.065Z"
      },
      {
        "duration": 720,
        "start_time": "2022-12-24T10:19:57.814Z"
      },
      {
        "duration": 738,
        "start_time": "2022-12-24T10:19:58.536Z"
      },
      {
        "duration": 47,
        "start_time": "2022-12-24T10:59:17.281Z"
      },
      {
        "duration": 6,
        "start_time": "2022-12-24T10:59:29.980Z"
      },
      {
        "duration": 7,
        "start_time": "2022-12-24T10:59:40.042Z"
      },
      {
        "duration": 1598,
        "start_time": "2022-12-24T10:59:50.600Z"
      },
      {
        "duration": 752,
        "start_time": "2022-12-24T10:59:52.200Z"
      },
      {
        "duration": 14,
        "start_time": "2022-12-24T10:59:53.815Z"
      },
      {
        "duration": 36,
        "start_time": "2022-12-24T10:59:55.404Z"
      },
      {
        "duration": 41,
        "start_time": "2022-12-24T10:59:58.600Z"
      },
      {
        "duration": 108,
        "start_time": "2022-12-24T11:02:30.331Z"
      },
      {
        "duration": 92,
        "start_time": "2022-12-24T11:03:39.020Z"
      },
      {
        "duration": 15,
        "start_time": "2022-12-24T11:03:43.811Z"
      },
      {
        "duration": 1331,
        "start_time": "2022-12-24T11:04:17.140Z"
      },
      {
        "duration": 187,
        "start_time": "2022-12-24T11:08:17.456Z"
      },
      {
        "duration": 174,
        "start_time": "2022-12-24T11:09:14.450Z"
      },
      {
        "duration": 806,
        "start_time": "2022-12-24T11:15:59.304Z"
      },
      {
        "duration": 328,
        "start_time": "2022-12-24T11:16:29.565Z"
      },
      {
        "duration": 296,
        "start_time": "2022-12-24T11:18:38.481Z"
      },
      {
        "duration": 74,
        "start_time": "2022-12-24T11:20:17.193Z"
      },
      {
        "duration": 607,
        "start_time": "2022-12-24T11:20:27.453Z"
      },
      {
        "duration": 645,
        "start_time": "2022-12-24T11:21:43.344Z"
      },
      {
        "duration": 319,
        "start_time": "2022-12-24T11:22:45.154Z"
      },
      {
        "duration": 321,
        "start_time": "2022-12-24T11:23:16.534Z"
      },
      {
        "duration": 429,
        "start_time": "2022-12-24T11:23:20.243Z"
      },
      {
        "duration": 60,
        "start_time": "2022-12-24T11:51:59.485Z"
      },
      {
        "duration": 4,
        "start_time": "2022-12-24T12:21:30.719Z"
      },
      {
        "duration": 4,
        "start_time": "2022-12-24T12:21:45.133Z"
      },
      {
        "duration": 468,
        "start_time": "2022-12-24T12:21:49.167Z"
      },
      {
        "duration": 21,
        "start_time": "2022-12-24T12:21:52.525Z"
      },
      {
        "duration": 36,
        "start_time": "2022-12-24T12:21:56.551Z"
      },
      {
        "duration": 50,
        "start_time": "2022-12-24T12:22:00.722Z"
      },
      {
        "duration": 90,
        "start_time": "2022-12-24T12:22:05.046Z"
      },
      {
        "duration": 92,
        "start_time": "2022-12-24T12:22:18.733Z"
      },
      {
        "duration": 10,
        "start_time": "2022-12-24T12:22:22.828Z"
      },
      {
        "duration": 1276,
        "start_time": "2022-12-24T12:22:27.342Z"
      },
      {
        "duration": 177,
        "start_time": "2022-12-24T12:22:33.420Z"
      },
      {
        "duration": 313,
        "start_time": "2022-12-24T12:22:38.488Z"
      },
      {
        "duration": 338,
        "start_time": "2022-12-24T12:22:42.426Z"
      },
      {
        "duration": 331,
        "start_time": "2022-12-24T12:22:47.419Z"
      },
      {
        "duration": 4,
        "start_time": "2022-12-24T12:22:57.440Z"
      },
      {
        "duration": 11,
        "start_time": "2022-12-24T12:23:02.185Z"
      },
      {
        "duration": 11,
        "start_time": "2022-12-24T12:23:32.308Z"
      },
      {
        "duration": 4,
        "start_time": "2022-12-24T12:23:40.616Z"
      },
      {
        "duration": 5,
        "start_time": "2022-12-24T12:24:03.630Z"
      },
      {
        "duration": 4,
        "start_time": "2022-12-24T12:24:18.422Z"
      },
      {
        "duration": 10,
        "start_time": "2022-12-24T12:24:34.020Z"
      },
      {
        "duration": 5,
        "start_time": "2022-12-24T12:24:57.684Z"
      },
      {
        "duration": 31,
        "start_time": "2022-12-24T12:26:58.368Z"
      },
      {
        "duration": 140,
        "start_time": "2022-12-24T12:32:09.075Z"
      },
      {
        "duration": 13,
        "start_time": "2022-12-24T12:32:53.449Z"
      },
      {
        "duration": 4,
        "start_time": "2022-12-24T12:32:53.978Z"
      },
      {
        "duration": 4,
        "start_time": "2022-12-24T12:32:54.671Z"
      },
      {
        "duration": 13,
        "start_time": "2022-12-24T12:33:01.481Z"
      },
      {
        "duration": 3,
        "start_time": "2022-12-24T12:33:02.216Z"
      },
      {
        "duration": 3,
        "start_time": "2022-12-24T12:33:13.120Z"
      },
      {
        "duration": 13,
        "start_time": "2022-12-24T12:33:24.224Z"
      },
      {
        "duration": 3,
        "start_time": "2022-12-24T12:33:24.850Z"
      },
      {
        "duration": 3,
        "start_time": "2022-12-24T12:33:33.556Z"
      },
      {
        "duration": 10,
        "start_time": "2022-12-24T12:33:36.118Z"
      },
      {
        "duration": 12,
        "start_time": "2022-12-24T12:37:26.977Z"
      },
      {
        "duration": 2,
        "start_time": "2022-12-24T12:37:34.119Z"
      },
      {
        "duration": 3,
        "start_time": "2022-12-24T12:37:38.010Z"
      },
      {
        "duration": 9,
        "start_time": "2022-12-24T12:37:52.277Z"
      },
      {
        "duration": 3,
        "start_time": "2022-12-24T12:38:26.598Z"
      },
      {
        "duration": 6,
        "start_time": "2022-12-24T12:38:30.503Z"
      },
      {
        "duration": 3,
        "start_time": "2022-12-24T12:49:08.078Z"
      },
      {
        "duration": 381,
        "start_time": "2022-12-24T12:49:12.748Z"
      },
      {
        "duration": 17,
        "start_time": "2022-12-24T12:49:16.449Z"
      },
      {
        "duration": 36,
        "start_time": "2022-12-24T12:49:22.647Z"
      },
      {
        "duration": 47,
        "start_time": "2022-12-24T12:49:28.651Z"
      },
      {
        "duration": 88,
        "start_time": "2022-12-24T12:49:33.726Z"
      },
      {
        "duration": 87,
        "start_time": "2022-12-24T12:49:39.085Z"
      },
      {
        "duration": 10,
        "start_time": "2022-12-24T12:49:56.962Z"
      },
      {
        "duration": 1282,
        "start_time": "2022-12-24T12:49:59.504Z"
      },
      {
        "duration": 204,
        "start_time": "2022-12-24T12:50:06.186Z"
      },
      {
        "duration": 371,
        "start_time": "2022-12-24T12:50:09.236Z"
      },
      {
        "duration": 305,
        "start_time": "2022-12-24T12:50:11.278Z"
      },
      {
        "duration": 298,
        "start_time": "2022-12-24T12:50:15.792Z"
      },
      {
        "duration": 29,
        "start_time": "2022-12-24T12:51:41.719Z"
      },
      {
        "duration": 31,
        "start_time": "2022-12-24T12:51:45.951Z"
      },
      {
        "duration": 13,
        "start_time": "2022-12-24T12:51:49.755Z"
      },
      {
        "duration": 3,
        "start_time": "2022-12-24T12:51:50.724Z"
      },
      {
        "duration": 3,
        "start_time": "2022-12-24T12:51:51.939Z"
      },
      {
        "duration": 16,
        "start_time": "2022-12-24T12:51:58.771Z"
      },
      {
        "duration": 3,
        "start_time": "2022-12-24T12:52:01.482Z"
      },
      {
        "duration": 4,
        "start_time": "2022-12-24T12:52:04.619Z"
      },
      {
        "duration": 3,
        "start_time": "2022-12-24T13:15:47.384Z"
      },
      {
        "duration": 353,
        "start_time": "2022-12-24T13:15:47.980Z"
      },
      {
        "duration": 19,
        "start_time": "2022-12-24T13:15:49.848Z"
      },
      {
        "duration": 35,
        "start_time": "2022-12-24T13:15:50.770Z"
      },
      {
        "duration": 52,
        "start_time": "2022-12-24T13:15:52.368Z"
      },
      {
        "duration": 90,
        "start_time": "2022-12-24T13:15:54.368Z"
      },
      {
        "duration": 84,
        "start_time": "2022-12-24T13:15:55.448Z"
      },
      {
        "duration": 9,
        "start_time": "2022-12-24T13:15:56.478Z"
      },
      {
        "duration": 1380,
        "start_time": "2022-12-24T13:15:58.528Z"
      },
      {
        "duration": 173,
        "start_time": "2022-12-24T13:16:00.383Z"
      },
      {
        "duration": 302,
        "start_time": "2022-12-24T13:16:00.895Z"
      },
      {
        "duration": 312,
        "start_time": "2022-12-24T13:16:02.178Z"
      },
      {
        "duration": 317,
        "start_time": "2022-12-24T13:16:03.519Z"
      },
      {
        "duration": 3,
        "start_time": "2022-12-24T13:16:08.325Z"
      },
      {
        "duration": 25,
        "start_time": "2022-12-24T13:16:11.539Z"
      },
      {
        "duration": 2,
        "start_time": "2022-12-24T13:16:12.149Z"
      },
      {
        "duration": 35,
        "start_time": "2022-12-24T13:16:32.627Z"
      },
      {
        "duration": 13,
        "start_time": "2022-12-24T13:16:39.679Z"
      },
      {
        "duration": 4,
        "start_time": "2022-12-24T13:16:40.213Z"
      },
      {
        "duration": 3,
        "start_time": "2022-12-24T13:16:40.857Z"
      },
      {
        "duration": 15,
        "start_time": "2022-12-24T13:16:43.584Z"
      },
      {
        "duration": 4,
        "start_time": "2022-12-24T13:16:44.227Z"
      },
      {
        "duration": 4,
        "start_time": "2022-12-24T13:16:47.055Z"
      },
      {
        "duration": 21,
        "start_time": "2022-12-24T13:17:16.042Z"
      },
      {
        "duration": 3,
        "start_time": "2022-12-24T13:17:16.825Z"
      },
      {
        "duration": 3,
        "start_time": "2022-12-24T13:17:17.924Z"
      },
      {
        "duration": 10,
        "start_time": "2022-12-24T13:17:19.823Z"
      },
      {
        "duration": 4,
        "start_time": "2022-12-24T13:45:03.739Z"
      },
      {
        "duration": 361,
        "start_time": "2022-12-24T13:45:04.951Z"
      },
      {
        "duration": 18,
        "start_time": "2022-12-24T13:45:06.585Z"
      },
      {
        "duration": 38,
        "start_time": "2022-12-24T13:45:09.419Z"
      },
      {
        "duration": 40,
        "start_time": "2022-12-24T13:45:11.512Z"
      },
      {
        "duration": 90,
        "start_time": "2022-12-24T13:45:19.379Z"
      },
      {
        "duration": 86,
        "start_time": "2022-12-24T13:45:20.951Z"
      },
      {
        "duration": 10,
        "start_time": "2022-12-24T13:45:22.493Z"
      },
      {
        "duration": 1343,
        "start_time": "2022-12-24T13:45:24.432Z"
      },
      {
        "duration": 175,
        "start_time": "2022-12-24T13:45:27.221Z"
      },
      {
        "duration": 327,
        "start_time": "2022-12-24T13:45:28.652Z"
      },
      {
        "duration": 328,
        "start_time": "2022-12-24T13:45:29.758Z"
      },
      {
        "duration": 314,
        "start_time": "2022-12-24T13:45:30.950Z"
      },
      {
        "duration": 45,
        "start_time": "2022-12-24T13:46:13.681Z"
      },
      {
        "duration": 52,
        "start_time": "2022-12-24T13:47:15.609Z"
      },
      {
        "duration": 4,
        "start_time": "2022-12-24T13:59:02.581Z"
      },
      {
        "duration": 352,
        "start_time": "2022-12-24T13:59:03.355Z"
      },
      {
        "duration": 17,
        "start_time": "2022-12-24T13:59:04.161Z"
      },
      {
        "duration": 36,
        "start_time": "2022-12-24T13:59:04.843Z"
      },
      {
        "duration": 46,
        "start_time": "2022-12-24T13:59:05.746Z"
      },
      {
        "duration": 110,
        "start_time": "2022-12-24T13:59:06.280Z"
      },
      {
        "duration": 87,
        "start_time": "2022-12-24T13:59:06.796Z"
      },
      {
        "duration": 10,
        "start_time": "2022-12-24T13:59:07.509Z"
      },
      {
        "duration": 1360,
        "start_time": "2022-12-24T13:59:08.377Z"
      },
      {
        "duration": 182,
        "start_time": "2022-12-24T13:59:09.739Z"
      },
      {
        "duration": 349,
        "start_time": "2022-12-24T13:59:09.924Z"
      },
      {
        "duration": 296,
        "start_time": "2022-12-24T13:59:10.275Z"
      },
      {
        "duration": 307,
        "start_time": "2022-12-24T13:59:10.658Z"
      },
      {
        "duration": 4,
        "start_time": "2022-12-24T13:59:13.359Z"
      },
      {
        "duration": 24,
        "start_time": "2022-12-24T13:59:13.652Z"
      },
      {
        "duration": 37,
        "start_time": "2022-12-24T13:59:15.388Z"
      },
      {
        "duration": 15,
        "start_time": "2022-12-24T13:59:21.300Z"
      },
      {
        "duration": 4,
        "start_time": "2022-12-24T13:59:22.717Z"
      },
      {
        "duration": 3,
        "start_time": "2022-12-24T13:59:23.922Z"
      },
      {
        "duration": 17,
        "start_time": "2022-12-24T13:59:25.572Z"
      },
      {
        "duration": 4,
        "start_time": "2022-12-24T13:59:26.148Z"
      },
      {
        "duration": 3,
        "start_time": "2022-12-24T13:59:27.677Z"
      },
      {
        "duration": 14,
        "start_time": "2022-12-24T13:59:29.485Z"
      },
      {
        "duration": 3,
        "start_time": "2022-12-24T13:59:29.990Z"
      },
      {
        "duration": 3,
        "start_time": "2022-12-24T13:59:32.024Z"
      },
      {
        "duration": 8,
        "start_time": "2022-12-24T13:59:33.360Z"
      },
      {
        "duration": 3,
        "start_time": "2022-12-24T14:02:01.152Z"
      },
      {
        "duration": 4,
        "start_time": "2022-12-24T14:03:08.994Z"
      },
      {
        "duration": 2,
        "start_time": "2022-12-24T14:03:59.747Z"
      },
      {
        "duration": 6,
        "start_time": "2022-12-24T14:04:00.606Z"
      },
      {
        "duration": 3,
        "start_time": "2022-12-24T14:18:59.844Z"
      },
      {
        "duration": 5,
        "start_time": "2022-12-24T14:19:11.480Z"
      },
      {
        "duration": 5,
        "start_time": "2022-12-24T14:20:19.289Z"
      },
      {
        "duration": 18,
        "start_time": "2022-12-24T14:20:27.875Z"
      },
      {
        "duration": 3,
        "start_time": "2022-12-24T14:22:17.357Z"
      },
      {
        "duration": 5,
        "start_time": "2022-12-24T14:22:18.871Z"
      },
      {
        "duration": 13,
        "start_time": "2022-12-24T14:22:20.956Z"
      },
      {
        "duration": 5,
        "start_time": "2022-12-24T14:23:06.564Z"
      },
      {
        "duration": 9,
        "start_time": "2022-12-24T14:23:09.645Z"
      },
      {
        "duration": 4,
        "start_time": "2022-12-24T14:25:05.484Z"
      },
      {
        "duration": 4,
        "start_time": "2022-12-24T14:25:08.531Z"
      },
      {
        "duration": 10,
        "start_time": "2022-12-24T14:25:11.656Z"
      },
      {
        "duration": 774,
        "start_time": "2022-12-24T14:25:21.554Z"
      },
      {
        "duration": 725,
        "start_time": "2022-12-24T14:26:04.305Z"
      },
      {
        "duration": 750,
        "start_time": "2022-12-24T14:26:15.032Z"
      },
      {
        "duration": 4,
        "start_time": "2022-12-24T14:45:29.593Z"
      },
      {
        "duration": 4,
        "start_time": "2022-12-24T14:45:40.888Z"
      },
      {
        "duration": 47,
        "start_time": "2022-12-24T14:48:11.752Z"
      },
      {
        "duration": 5,
        "start_time": "2022-12-24T14:48:42.457Z"
      },
      {
        "duration": 3,
        "start_time": "2022-12-24T14:49:45.815Z"
      },
      {
        "duration": 4,
        "start_time": "2022-12-24T14:50:26.444Z"
      },
      {
        "duration": 714,
        "start_time": "2022-12-24T14:51:17.311Z"
      },
      {
        "duration": 748,
        "start_time": "2022-12-24T14:51:22.145Z"
      },
      {
        "duration": 684,
        "start_time": "2022-12-24T14:51:26.607Z"
      },
      {
        "duration": 3,
        "start_time": "2022-12-24T14:55:21.090Z"
      },
      {
        "duration": 5,
        "start_time": "2022-12-24T14:55:22.880Z"
      },
      {
        "duration": 24,
        "start_time": "2022-12-24T14:55:24.862Z"
      },
      {
        "duration": 4,
        "start_time": "2022-12-24T14:55:46.686Z"
      },
      {
        "duration": 5,
        "start_time": "2022-12-24T14:55:47.435Z"
      },
      {
        "duration": 715,
        "start_time": "2022-12-24T14:55:48.939Z"
      },
      {
        "duration": 728,
        "start_time": "2022-12-24T14:55:49.767Z"
      },
      {
        "duration": 715,
        "start_time": "2022-12-24T14:55:50.497Z"
      },
      {
        "duration": 1925,
        "start_time": "2022-12-24T15:45:58.389Z"
      },
      {
        "duration": 399,
        "start_time": "2022-12-24T15:46:00.316Z"
      },
      {
        "duration": 13,
        "start_time": "2022-12-24T15:46:00.717Z"
      },
      {
        "duration": 62,
        "start_time": "2022-12-24T15:46:00.732Z"
      },
      {
        "duration": 47,
        "start_time": "2022-12-24T15:46:00.796Z"
      },
      {
        "duration": 120,
        "start_time": "2022-12-24T15:46:00.845Z"
      },
      {
        "duration": 100,
        "start_time": "2022-12-24T15:46:00.967Z"
      },
      {
        "duration": 12,
        "start_time": "2022-12-24T15:46:01.069Z"
      },
      {
        "duration": 1281,
        "start_time": "2022-12-24T15:46:01.083Z"
      },
      {
        "duration": 173,
        "start_time": "2022-12-24T15:46:02.367Z"
      },
      {
        "duration": 310,
        "start_time": "2022-12-24T15:46:02.542Z"
      },
      {
        "duration": 320,
        "start_time": "2022-12-24T15:46:02.853Z"
      },
      {
        "duration": 296,
        "start_time": "2022-12-24T15:46:03.175Z"
      },
      {
        "duration": 3,
        "start_time": "2022-12-24T15:46:03.472Z"
      },
      {
        "duration": 49,
        "start_time": "2022-12-24T15:46:03.476Z"
      },
      {
        "duration": 33,
        "start_time": "2022-12-24T15:46:03.527Z"
      },
      {
        "duration": 43,
        "start_time": "2022-12-24T15:46:03.562Z"
      },
      {
        "duration": 96,
        "start_time": "2022-12-24T15:46:03.608Z"
      },
      {
        "duration": 4,
        "start_time": "2022-12-24T15:46:03.706Z"
      },
      {
        "duration": 20,
        "start_time": "2022-12-24T15:46:03.712Z"
      },
      {
        "duration": 73,
        "start_time": "2022-12-24T15:46:03.734Z"
      },
      {
        "duration": 102,
        "start_time": "2022-12-24T15:46:03.809Z"
      },
      {
        "duration": 19,
        "start_time": "2022-12-24T15:46:03.913Z"
      },
      {
        "duration": 74,
        "start_time": "2022-12-24T15:46:03.934Z"
      },
      {
        "duration": 104,
        "start_time": "2022-12-24T15:46:04.010Z"
      },
      {
        "duration": 14,
        "start_time": "2022-12-24T15:46:04.116Z"
      },
      {
        "duration": 10,
        "start_time": "2022-12-24T15:46:04.132Z"
      },
      {
        "duration": 14,
        "start_time": "2022-12-24T15:46:04.145Z"
      },
      {
        "duration": 11,
        "start_time": "2022-12-24T15:46:04.161Z"
      },
      {
        "duration": 7,
        "start_time": "2022-12-24T15:46:04.173Z"
      },
      {
        "duration": 7,
        "start_time": "2022-12-24T15:46:04.181Z"
      },
      {
        "duration": 655,
        "start_time": "2022-12-24T15:46:04.189Z"
      },
      {
        "duration": 630,
        "start_time": "2022-12-24T15:46:04.845Z"
      },
      {
        "duration": 622,
        "start_time": "2022-12-24T15:46:05.477Z"
      }
    ],
    "colab": {
      "provenance": []
    },
    "kernelspec": {
      "display_name": "Python 3 (ipykernel)",
      "language": "python",
      "name": "python3"
    },
    "language_info": {
      "codemirror_mode": {
        "name": "ipython",
        "version": 3
      },
      "file_extension": ".py",
      "mimetype": "text/x-python",
      "name": "python",
      "nbconvert_exporter": "python",
      "pygments_lexer": "ipython3",
      "version": "3.9.5"
    },
    "toc": {
      "base_numbering": 1,
      "nav_menu": {},
      "number_sections": true,
      "sideBar": true,
      "skip_h1_title": true,
      "title_cell": "Table of Contents",
      "title_sidebar": "Contents",
      "toc_cell": false,
      "toc_position": {},
      "toc_section_display": true,
      "toc_window_display": true
    }
  },
  "nbformat": 4,
  "nbformat_minor": 0
}
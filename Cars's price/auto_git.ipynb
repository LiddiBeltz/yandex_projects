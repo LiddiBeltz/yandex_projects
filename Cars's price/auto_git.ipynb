{
  "cells": [
    {
      "cell_type": "markdown",
      "metadata": {
        "id": "OPvOEGIdSe2e"
      },
      "source": [
        "# Определение стоимости автомобилей"
      ]
    },
    {
      "cell_type": "markdown",
      "metadata": {
        "id": "vYVid_-BzB7Q"
      },
      "source": [
        "В данном проекте нам нужно построить модель для вычисления рыночной стоимости автомобиля. \n",
        "Для этого: \n",
        "- рассмотрим датасэт, содержащий сведения: техническими характеристиками, комплектацией и ценами автомобилей.\n",
        "\n",
        "- избавимся от аномалий в данных.\n",
        "\n",
        "- подготовим данные для обучения.\n",
        "\n",
        "- обучим данные несколькими моделями."
      ]
    },
    {
      "cell_type": "markdown",
      "metadata": {
        "id": "W7FGIxAASe2k"
      },
      "source": [
        "## Подготовка данных"
      ]
    },
    {
      "cell_type": "code",
      "execution_count": null,
      "metadata": {
        "id": "pEWWRIeKSe2m"
      },
      "outputs": [],
      "source": [
        "import pandas as pd\n",
        "import matplotlib.pyplot as plt\n",
        "from catboost import CatBoostRegressor\n",
        "from lightgbm.sklearn import LGBMRegressor\n",
        "from sklearn.ensemble import RandomForestRegressor\n",
        "from sklearn.feature_selection import mutual_info_regression\n",
        "from sklearn.preprocessing import OneHotEncoder, LabelEncoder\n",
        "from sklearn.linear_model import LinearRegression, Lasso, Ridge\n",
        "from sklearn.metrics import make_scorer, mean_squared_error\n",
        "from sklearn.model_selection import cross_val_score, train_test_split, GridSearchCV, RandomizedSearchCV\n",
        "from sklearn.tree import DecisionTreeRegressor\n",
        "from warnings import simplefilter\n",
        "simplefilter(action='ignore', category=FutureWarning)"
      ]
    },
    {
      "cell_type": "markdown",
      "metadata": {
        "id": "fHwryq5z0kHD"
      },
      "source": [
        "Посмотрим, какие данные есть в датасэте."
      ]
    },
    {
      "cell_type": "code",
      "execution_count": null,
      "metadata": {
        "colab": {
          "base_uri": "https://localhost:8080/"
        },
        "id": "vQ69XEF1Se2o",
        "outputId": "3e967212-2967-4a36-a0eb-871ac3a46dfc"
      },
      "outputs": [
        {
          "output_type": "stream",
          "name": "stdout",
          "text": [
            "<class 'pandas.core.frame.DataFrame'>\n",
            "RangeIndex: 354369 entries, 0 to 354368\n",
            "Data columns (total 16 columns):\n",
            " #   Column             Non-Null Count   Dtype \n",
            "---  ------             --------------   ----- \n",
            " 0   DateCrawled        354369 non-null  object\n",
            " 1   Price              354369 non-null  int64 \n",
            " 2   VehicleType        316879 non-null  object\n",
            " 3   RegistrationYear   354369 non-null  int64 \n",
            " 4   Gearbox            334536 non-null  object\n",
            " 5   Power              354369 non-null  int64 \n",
            " 6   Model              334664 non-null  object\n",
            " 7   Kilometer          354369 non-null  int64 \n",
            " 8   RegistrationMonth  354369 non-null  int64 \n",
            " 9   FuelType           321474 non-null  object\n",
            " 10  Brand              354369 non-null  object\n",
            " 11  Repaired           283215 non-null  object\n",
            " 12  DateCreated        354369 non-null  object\n",
            " 13  NumberOfPictures   354369 non-null  int64 \n",
            " 14  PostalCode         354369 non-null  int64 \n",
            " 15  LastSeen           354369 non-null  object\n",
            "dtypes: int64(7), object(9)\n",
            "memory usage: 43.3+ MB\n"
          ]
        }
      ],
      "source": [
        "data.info()"
      ]
    },
    {
      "cell_type": "markdown",
      "metadata": {
        "id": "iGxaTMqDSe2p"
      },
      "source": [
        "- DateCrawled — дата скачивания анкеты из базы\n",
        "- VehicleType — тип автомобильного кузова\n",
        "- RegistrationYear — год регистрации автомобиля\n",
        "- Gearbox — тип коробки передач\n",
        "- Power — мощность (л. с.)\n",
        "- Model — модель автомобиля\n",
        "- Kilometer — пробег (км)\n",
        "- RegistrationMonth — месяц регистрации автомобиля\n",
        "- FuelType — тип топлива\n",
        "- Brand — марка автомобиля\n",
        "- Repaired — была машина в ремонте или нет\n",
        "- DateCreated — дата создания анкеты\n",
        "- NumberOfPictures — количество фотографий автомобиля\n",
        "- PostalCode — почтовый индекс владельца анкеты (пользователя)\n",
        "- LastSeen — дата последней активности пользователя\n",
        "- Price — цена (евро)"
      ]
    },
    {
      "cell_type": "code",
      "execution_count": null,
      "metadata": {
        "colab": {
          "base_uri": "https://localhost:8080/",
          "height": 465
        },
        "id": "iNqVCGEXyTeA",
        "outputId": "f146f2f0-5f5c-48fb-e58f-50a42e1a4d9c"
      },
      "outputs": [
        {
          "output_type": "execute_result",
          "data": {
            "text/plain": [
              "array([[<matplotlib.axes._subplots.AxesSubplot object at 0x7ff801df6f10>,\n",
              "        <matplotlib.axes._subplots.AxesSubplot object at 0x7ff801d603a0>,\n",
              "        <matplotlib.axes._subplots.AxesSubplot object at 0x7ff801d8e7c0>],\n",
              "       [<matplotlib.axes._subplots.AxesSubplot object at 0x7ff801d3bbb0>,\n",
              "        <matplotlib.axes._subplots.AxesSubplot object at 0x7ff801ceafa0>,\n",
              "        <matplotlib.axes._subplots.AxesSubplot object at 0x7ff801ca1310>],\n",
              "       [<matplotlib.axes._subplots.AxesSubplot object at 0x7ff801ca1400>,\n",
              "        <matplotlib.axes._subplots.AxesSubplot object at 0x7ff801c7cbe0>,\n",
              "        <matplotlib.axes._subplots.AxesSubplot object at 0x7ff801c29100>]],\n",
              "      dtype=object)"
            ]
          },
          "metadata": {},
          "execution_count": 7
        },
        {
          "output_type": "display_data",
          "data": {
            "text/plain": [
              "<Figure size 432x288 with 9 Axes>"
            ],
            "image/png": "[encoded data removed]"
          },
          "metadata": {
            "needs_background": "light"
          }
        }
      ],
      "source": [
        "data.hist()"
      ]
    },
    {
      "cell_type": "code",
      "execution_count": null,
      "metadata": {
        "colab": {
          "base_uri": "https://localhost:8080/",
          "height": 337
        },
        "id": "9THIlX4rSe2q",
        "outputId": "3871c86e-75e0-45db-b394-92058ca257e2",
        "scrolled": true
      },
      "outputs": [
        {
          "output_type": "execute_result",
          "data": {
            "text/plain": [
              "           DateCrawled  Price VehicleType  RegistrationYear Gearbox  Power  \\\n",
              "0  2016-03-24 11:52:17    480         NaN              1993  manual      0   \n",
              "1  2016-03-24 10:58:45  18300       coupe              2011  manual    190   \n",
              "2  2016-03-14 12:52:21   9800         suv              2004    auto    163   \n",
              "3  2016-03-17 16:54:04   1500       small              2001  manual     75   \n",
              "4  2016-03-31 17:25:20   3600       small              2008  manual     69   \n",
              "\n",
              "   Model  Kilometer  RegistrationMonth  FuelType       Brand Repaired  \\\n",
              "0   golf     150000                  0    petrol  volkswagen      NaN   \n",
              "1    NaN     125000                  5  gasoline        audi      yes   \n",
              "2  grand     125000                  8  gasoline        jeep      NaN   \n",
              "3   golf     150000                  6    petrol  volkswagen       no   \n",
              "4  fabia      90000                  7  gasoline       skoda       no   \n",
              "\n",
              "           DateCreated  NumberOfPictures  PostalCode             LastSeen  \n",
              "0  2016-03-24 00:00:00                 0       70435  2016-04-07 03:16:57  \n",
              "1  2016-03-24 00:00:00                 0       66954  2016-04-07 01:46:50  \n",
              "2  2016-03-14 00:00:00                 0       90480  2016-04-05 12:47:46  \n",
              "3  2016-03-17 00:00:00                 0       91074  2016-03-17 17:40:17  \n",
              "4  2016-03-31 00:00:00                 0       60437  2016-04-06 10:17:21  "
            ],
            "text/html": [
              "\n",
              "  <div id=\"df-dd6beeac-9f4c-484e-a1bd-a8ed831bb7b3\">\n",
              "    <div class=\"colab-df-container\">\n",
              "      <div>\n",
              "<style scoped>\n",
              "    .dataframe tbody tr th:only-of-type {\n",
              "        vertical-align: middle;\n",
              "    }\n",
              "\n",
              "    .dataframe tbody tr th {\n",
              "        vertical-align: top;\n",
              "    }\n",
              "\n",
              "    .dataframe thead th {\n",
              "        text-align: right;\n",
              "    }\n",
              "</style>\n",
              "<table border=\"1\" class=\"dataframe\">\n",
              "  <thead>\n",
              "    <tr style=\"text-align: right;\">\n",
              "      <th></th>\n",
              "      <th>DateCrawled</th>\n",
              "      <th>Price</th>\n",
              "      <th>VehicleType</th>\n",
              "      <th>RegistrationYear</th>\n",
              "      <th>Gearbox</th>\n",
              "      <th>Power</th>\n",
              "      <th>Model</th>\n",
              "      <th>Kilometer</th>\n",
              "      <th>RegistrationMonth</th>\n",
              "      <th>FuelType</th>\n",
              "      <th>Brand</th>\n",
              "      <th>Repaired</th>\n",
              "      <th>DateCreated</th>\n",
              "      <th>NumberOfPictures</th>\n",
              "      <th>PostalCode</th>\n",
              "      <th>LastSeen</th>\n",
              "    </tr>\n",
              "  </thead>\n",
              "  <tbody>\n",
              "    <tr>\n",
              "      <th>0</th>\n",
              "      <td>2016-03-24 11:52:17</td>\n",
              "      <td>480</td>\n",
              "      <td>NaN</td>\n",
              "      <td>1993</td>\n",
              "      <td>manual</td>\n",
              "      <td>0</td>\n",
              "      <td>golf</td>\n",
              "      <td>150000</td>\n",
              "      <td>0</td>\n",
              "      <td>petrol</td>\n",
              "      <td>volkswagen</td>\n",
              "      <td>NaN</td>\n",
              "      <td>2016-03-24 00:00:00</td>\n",
              "      <td>0</td>\n",
              "      <td>70435</td>\n",
              "      <td>2016-04-07 03:16:57</td>\n",
              "    </tr>\n",
              "    <tr>\n",
              "      <th>1</th>\n",
              "      <td>2016-03-24 10:58:45</td>\n",
              "      <td>18300</td>\n",
              "      <td>coupe</td>\n",
              "      <td>2011</td>\n",
              "      <td>manual</td>\n",
              "      <td>190</td>\n",
              "      <td>NaN</td>\n",
              "      <td>125000</td>\n",
              "      <td>5</td>\n",
              "      <td>gasoline</td>\n",
              "      <td>audi</td>\n",
              "      <td>yes</td>\n",
              "      <td>2016-03-24 00:00:00</td>\n",
              "      <td>0</td>\n",
              "      <td>66954</td>\n",
              "      <td>2016-04-07 01:46:50</td>\n",
              "    </tr>\n",
              "    <tr>\n",
              "      <th>2</th>\n",
              "      <td>2016-03-14 12:52:21</td>\n",
              "      <td>9800</td>\n",
              "      <td>suv</td>\n",
              "      <td>2004</td>\n",
              "      <td>auto</td>\n",
              "      <td>163</td>\n",
              "      <td>grand</td>\n",
              "      <td>125000</td>\n",
              "      <td>8</td>\n",
              "      <td>gasoline</td>\n",
              "      <td>jeep</td>\n",
              "      <td>NaN</td>\n",
              "      <td>2016-03-14 00:00:00</td>\n",
              "      <td>0</td>\n",
              "      <td>90480</td>\n",
              "      <td>2016-04-05 12:47:46</td>\n",
              "    </tr>\n",
              "    <tr>\n",
              "      <th>3</th>\n",
              "      <td>2016-03-17 16:54:04</td>\n",
              "      <td>1500</td>\n",
              "      <td>small</td>\n",
              "      <td>2001</td>\n",
              "      <td>manual</td>\n",
              "      <td>75</td>\n",
              "      <td>golf</td>\n",
              "      <td>150000</td>\n",
              "      <td>6</td>\n",
              "      <td>petrol</td>\n",
              "      <td>volkswagen</td>\n",
              "      <td>no</td>\n",
              "      <td>2016-03-17 00:00:00</td>\n",
              "      <td>0</td>\n",
              "      <td>91074</td>\n",
              "      <td>2016-03-17 17:40:17</td>\n",
              "    </tr>\n",
              "    <tr>\n",
              "      <th>4</th>\n",
              "      <td>2016-03-31 17:25:20</td>\n",
              "      <td>3600</td>\n",
              "      <td>small</td>\n",
              "      <td>2008</td>\n",
              "      <td>manual</td>\n",
              "      <td>69</td>\n",
              "      <td>fabia</td>\n",
              "      <td>90000</td>\n",
              "      <td>7</td>\n",
              "      <td>gasoline</td>\n",
              "      <td>skoda</td>\n",
              "      <td>no</td>\n",
              "      <td>2016-03-31 00:00:00</td>\n",
              "      <td>0</td>\n",
              "      <td>60437</td>\n",
              "      <td>2016-04-06 10:17:21</td>\n",
              "    </tr>\n",
              "  </tbody>\n",
              "</table>\n",
              "</div>\n",
              "      <button class=\"colab-df-convert\" onclick=\"convertToInteractive('df-dd6beeac-9f4c-484e-a1bd-a8ed831bb7b3')\"\n",
              "              title=\"Convert this dataframe to an interactive table.\"\n",
              "              style=\"display:none;\">\n",
              "        \n",
              "  <svg xmlns=\"http://www.w3.org/2000/svg\" height=\"24px\"viewBox=\"0 0 24 24\"\n",
              "       width=\"24px\">\n",
              "    <path d=\"M0 0h24v24H0V0z\" fill=\"none\"/>\n",
              "    <path d=\"M18.56 5.44l.94 2.06.94-2.06 2.06-.94-2.06-.94-.94-2.06-.94 2.06-2.06.94zm-11 1L8.5 8.5l.94-2.06 2.06-.94-2.06-.94L8.5 2.5l-.94 2.06-2.06.94zm10 10l.94 2.06.94-2.06 2.06-.94-2.06-.94-.94-2.06-.94 2.06-2.06.94z\"/><path d=\"M17.41 7.96l-1.37-1.37c-.4-.4-.92-.59-1.43-.59-.52 0-1.04.2-1.43.59L10.3 9.45l-7.72 7.72c-.78.78-.78 2.05 0 2.83L4 21.41c.39.39.9.59 1.41.59.51 0 1.02-.2 1.41-.59l7.78-7.78 2.81-2.81c.8-.78.8-2.07 0-2.86zM5.41 20L4 18.59l7.72-7.72 1.47 1.35L5.41 20z\"/>\n",
              "  </svg>\n",
              "      </button>\n",
              "      \n",
              "  <style>\n",
              "    .colab-df-container {\n",
              "      display:flex;\n",
              "      flex-wrap:wrap;\n",
              "      gap: 12px;\n",
              "    }\n",
              "\n",
              "    .colab-df-convert {\n",
              "      background-color: #E8F0FE;\n",
              "      border: none;\n",
              "      border-radius: 50%;\n",
              "      cursor: pointer;\n",
              "      display: none;\n",
              "      fill: #1967D2;\n",
              "      height: 32px;\n",
              "      padding: 0 0 0 0;\n",
              "      width: 32px;\n",
              "    }\n",
              "\n",
              "    .colab-df-convert:hover {\n",
              "      background-color: #E2EBFA;\n",
              "      box-shadow: 0px 1px 2px rgba(60, 64, 67, 0.3), 0px 1px 3px 1px rgba(60, 64, 67, 0.15);\n",
              "      fill: #174EA6;\n",
              "    }\n",
              "\n",
              "    [theme=dark] .colab-df-convert {\n",
              "      background-color: #3B4455;\n",
              "      fill: #D2E3FC;\n",
              "    }\n",
              "\n",
              "    [theme=dark] .colab-df-convert:hover {\n",
              "      background-color: #434B5C;\n",
              "      box-shadow: 0px 1px 3px 1px rgba(0, 0, 0, 0.15);\n",
              "      filter: drop-shadow(0px 1px 2px rgba(0, 0, 0, 0.3));\n",
              "      fill: #FFFFFF;\n",
              "    }\n",
              "  </style>\n",
              "\n",
              "      <script>\n",
              "        const buttonEl =\n",
              "          document.querySelector('#df-dd6beeac-9f4c-484e-a1bd-a8ed831bb7b3 button.colab-df-convert');\n",
              "        buttonEl.style.display =\n",
              "          google.colab.kernel.accessAllowed ? 'block' : 'none';\n",
              "\n",
              "        async function convertToInteractive(key) {\n",
              "          const element = document.querySelector('#df-dd6beeac-9f4c-484e-a1bd-a8ed831bb7b3');\n",
              "          const dataTable =\n",
              "            await google.colab.kernel.invokeFunction('convertToInteractive',\n",
              "                                                     [key], {});\n",
              "          if (!dataTable) return;\n",
              "\n",
              "          const docLinkHtml = 'Like what you see? Visit the ' +\n",
              "            '<a target=\"_blank\" href=https://colab.research.google.com/notebooks/data_table.ipynb>data table notebook</a>'\n",
              "            + ' to learn more about interactive tables.';\n",
              "          element.innerHTML = '';\n",
              "          dataTable['output_type'] = 'display_data';\n",
              "          await google.colab.output.renderOutput(dataTable, element);\n",
              "          const docLink = document.createElement('div');\n",
              "          docLink.innerHTML = docLinkHtml;\n",
              "          element.appendChild(docLink);\n",
              "        }\n",
              "      </script>\n",
              "    </div>\n",
              "  </div>\n",
              "  "
            ]
          },
          "metadata": {},
          "execution_count": 8
        }
      ],
      "source": [
        "data.head()"
      ]
    },
    {
      "cell_type": "markdown",
      "metadata": {
        "id": "9Kyjo2jF0-C0"
      },
      "source": [
        "Данные содержат множество пропусков и аномальных значений."
      ]
    },
    {
      "cell_type": "code",
      "execution_count": null,
      "metadata": {
        "colab": {
          "base_uri": "https://localhost:8080/",
          "height": 300
        },
        "id": "OlJpoCQFSe2s",
        "outputId": "30820109-72e5-4eb1-bd2c-7c0c26826a9e"
      },
      "outputs": [
        {
          "output_type": "execute_result",
          "data": {
            "text/plain": [
              "               Price  RegistrationYear          Power      Kilometer  \\\n",
              "count  354369.000000     354369.000000  354369.000000  354369.000000   \n",
              "mean     4416.656776       2004.234448     110.094337  128211.172535   \n",
              "std      4514.158514         90.227958     189.850405   37905.341530   \n",
              "min         0.000000       1000.000000       0.000000    5000.000000   \n",
              "25%      1050.000000       1999.000000      69.000000  125000.000000   \n",
              "50%      2700.000000       2003.000000     105.000000  150000.000000   \n",
              "75%      6400.000000       2008.000000     143.000000  150000.000000   \n",
              "max     20000.000000       9999.000000   20000.000000  150000.000000   \n",
              "\n",
              "       RegistrationMonth  NumberOfPictures     PostalCode  \n",
              "count      354369.000000          354369.0  354369.000000  \n",
              "mean            5.714645               0.0   50508.689087  \n",
              "std             3.726421               0.0   25783.096248  \n",
              "min             0.000000               0.0    1067.000000  \n",
              "25%             3.000000               0.0   30165.000000  \n",
              "50%             6.000000               0.0   49413.000000  \n",
              "75%             9.000000               0.0   71083.000000  \n",
              "max            12.000000               0.0   99998.000000  "
            ],
            "text/html": [
              "\n",
              "  <div id=\"df-b2c86273-34f5-44b7-844f-3c74f648f037\">\n",
              "    <div class=\"colab-df-container\">\n",
              "      <div>\n",
              "<style scoped>\n",
              "    .dataframe tbody tr th:only-of-type {\n",
              "        vertical-align: middle;\n",
              "    }\n",
              "\n",
              "    .dataframe tbody tr th {\n",
              "        vertical-align: top;\n",
              "    }\n",
              "\n",
              "    .dataframe thead th {\n",
              "        text-align: right;\n",
              "    }\n",
              "</style>\n",
              "<table border=\"1\" class=\"dataframe\">\n",
              "  <thead>\n",
              "    <tr style=\"text-align: right;\">\n",
              "      <th></th>\n",
              "      <th>Price</th>\n",
              "      <th>RegistrationYear</th>\n",
              "      <th>Power</th>\n",
              "      <th>Kilometer</th>\n",
              "      <th>RegistrationMonth</th>\n",
              "      <th>NumberOfPictures</th>\n",
              "      <th>PostalCode</th>\n",
              "    </tr>\n",
              "  </thead>\n",
              "  <tbody>\n",
              "    <tr>\n",
              "      <th>count</th>\n",
              "      <td>354369.000000</td>\n",
              "      <td>354369.000000</td>\n",
              "      <td>354369.000000</td>\n",
              "      <td>354369.000000</td>\n",
              "      <td>354369.000000</td>\n",
              "      <td>354369.0</td>\n",
              "      <td>354369.000000</td>\n",
              "    </tr>\n",
              "    <tr>\n",
              "      <th>mean</th>\n",
              "      <td>4416.656776</td>\n",
              "      <td>2004.234448</td>\n",
              "      <td>110.094337</td>\n",
              "      <td>128211.172535</td>\n",
              "      <td>5.714645</td>\n",
              "      <td>0.0</td>\n",
              "      <td>50508.689087</td>\n",
              "    </tr>\n",
              "    <tr>\n",
              "      <th>std</th>\n",
              "      <td>4514.158514</td>\n",
              "      <td>90.227958</td>\n",
              "      <td>189.850405</td>\n",
              "      <td>37905.341530</td>\n",
              "      <td>3.726421</td>\n",
              "      <td>0.0</td>\n",
              "      <td>25783.096248</td>\n",
              "    </tr>\n",
              "    <tr>\n",
              "      <th>min</th>\n",
              "      <td>0.000000</td>\n",
              "      <td>1000.000000</td>\n",
              "      <td>0.000000</td>\n",
              "      <td>5000.000000</td>\n",
              "      <td>0.000000</td>\n",
              "      <td>0.0</td>\n",
              "      <td>1067.000000</td>\n",
              "    </tr>\n",
              "    <tr>\n",
              "      <th>25%</th>\n",
              "      <td>1050.000000</td>\n",
              "      <td>1999.000000</td>\n",
              "      <td>69.000000</td>\n",
              "      <td>125000.000000</td>\n",
              "      <td>3.000000</td>\n",
              "      <td>0.0</td>\n",
              "      <td>30165.000000</td>\n",
              "    </tr>\n",
              "    <tr>\n",
              "      <th>50%</th>\n",
              "      <td>2700.000000</td>\n",
              "      <td>2003.000000</td>\n",
              "      <td>105.000000</td>\n",
              "      <td>150000.000000</td>\n",
              "      <td>6.000000</td>\n",
              "      <td>0.0</td>\n",
              "      <td>49413.000000</td>\n",
              "    </tr>\n",
              "    <tr>\n",
              "      <th>75%</th>\n",
              "      <td>6400.000000</td>\n",
              "      <td>2008.000000</td>\n",
              "      <td>143.000000</td>\n",
              "      <td>150000.000000</td>\n",
              "      <td>9.000000</td>\n",
              "      <td>0.0</td>\n",
              "      <td>71083.000000</td>\n",
              "    </tr>\n",
              "    <tr>\n",
              "      <th>max</th>\n",
              "      <td>20000.000000</td>\n",
              "      <td>9999.000000</td>\n",
              "      <td>20000.000000</td>\n",
              "      <td>150000.000000</td>\n",
              "      <td>12.000000</td>\n",
              "      <td>0.0</td>\n",
              "      <td>99998.000000</td>\n",
              "    </tr>\n",
              "  </tbody>\n",
              "</table>\n",
              "</div>\n",
              "      <button class=\"colab-df-convert\" onclick=\"convertToInteractive('df-b2c86273-34f5-44b7-844f-3c74f648f037')\"\n",
              "              title=\"Convert this dataframe to an interactive table.\"\n",
              "              style=\"display:none;\">\n",
              "        \n",
              "  <svg xmlns=\"http://www.w3.org/2000/svg\" height=\"24px\"viewBox=\"0 0 24 24\"\n",
              "       width=\"24px\">\n",
              "    <path d=\"M0 0h24v24H0V0z\" fill=\"none\"/>\n",
              "    <path d=\"M18.56 5.44l.94 2.06.94-2.06 2.06-.94-2.06-.94-.94-2.06-.94 2.06-2.06.94zm-11 1L8.5 8.5l.94-2.06 2.06-.94-2.06-.94L8.5 2.5l-.94 2.06-2.06.94zm10 10l.94 2.06.94-2.06 2.06-.94-2.06-.94-.94-2.06-.94 2.06-2.06.94z\"/><path d=\"M17.41 7.96l-1.37-1.37c-.4-.4-.92-.59-1.43-.59-.52 0-1.04.2-1.43.59L10.3 9.45l-7.72 7.72c-.78.78-.78 2.05 0 2.83L4 21.41c.39.39.9.59 1.41.59.51 0 1.02-.2 1.41-.59l7.78-7.78 2.81-2.81c.8-.78.8-2.07 0-2.86zM5.41 20L4 18.59l7.72-7.72 1.47 1.35L5.41 20z\"/>\n",
              "  </svg>\n",
              "      </button>\n",
              "      \n",
              "  <style>\n",
              "    .colab-df-container {\n",
              "      display:flex;\n",
              "      flex-wrap:wrap;\n",
              "      gap: 12px;\n",
              "    }\n",
              "\n",
              "    .colab-df-convert {\n",
              "      background-color: #E8F0FE;\n",
              "      border: none;\n",
              "      border-radius: 50%;\n",
              "      cursor: pointer;\n",
              "      display: none;\n",
              "      fill: #1967D2;\n",
              "      height: 32px;\n",
              "      padding: 0 0 0 0;\n",
              "      width: 32px;\n",
              "    }\n",
              "\n",
              "    .colab-df-convert:hover {\n",
              "      background-color: #E2EBFA;\n",
              "      box-shadow: 0px 1px 2px rgba(60, 64, 67, 0.3), 0px 1px 3px 1px rgba(60, 64, 67, 0.15);\n",
              "      fill: #174EA6;\n",
              "    }\n",
              "\n",
              "    [theme=dark] .colab-df-convert {\n",
              "      background-color: #3B4455;\n",
              "      fill: #D2E3FC;\n",
              "    }\n",
              "\n",
              "    [theme=dark] .colab-df-convert:hover {\n",
              "      background-color: #434B5C;\n",
              "      box-shadow: 0px 1px 3px 1px rgba(0, 0, 0, 0.15);\n",
              "      filter: drop-shadow(0px 1px 2px rgba(0, 0, 0, 0.3));\n",
              "      fill: #FFFFFF;\n",
              "    }\n",
              "  </style>\n",
              "\n",
              "      <script>\n",
              "        const buttonEl =\n",
              "          document.querySelector('#df-b2c86273-34f5-44b7-844f-3c74f648f037 button.colab-df-convert');\n",
              "        buttonEl.style.display =\n",
              "          google.colab.kernel.accessAllowed ? 'block' : 'none';\n",
              "\n",
              "        async function convertToInteractive(key) {\n",
              "          const element = document.querySelector('#df-b2c86273-34f5-44b7-844f-3c74f648f037');\n",
              "          const dataTable =\n",
              "            await google.colab.kernel.invokeFunction('convertToInteractive',\n",
              "                                                     [key], {});\n",
              "          if (!dataTable) return;\n",
              "\n",
              "          const docLinkHtml = 'Like what you see? Visit the ' +\n",
              "            '<a target=\"_blank\" href=https://colab.research.google.com/notebooks/data_table.ipynb>data table notebook</a>'\n",
              "            + ' to learn more about interactive tables.';\n",
              "          element.innerHTML = '';\n",
              "          dataTable['output_type'] = 'display_data';\n",
              "          await google.colab.output.renderOutput(dataTable, element);\n",
              "          const docLink = document.createElement('div');\n",
              "          docLink.innerHTML = docLinkHtml;\n",
              "          element.appendChild(docLink);\n",
              "        }\n",
              "      </script>\n",
              "    </div>\n",
              "  </div>\n",
              "  "
            ]
          },
          "metadata": {},
          "execution_count": 9
        }
      ],
      "source": [
        "data.describe()"
      ]
    },
    {
      "cell_type": "code",
      "execution_count": null,
      "metadata": {
        "colab": {
          "base_uri": "https://localhost:8080/"
        },
        "id": "WNkP4Qwcg6FX",
        "outputId": "7c523aa1-bb7c-42cd-f497-aec73a54d910"
      },
      "outputs": [
        {
          "output_type": "execute_result",
          "data": {
            "text/plain": [
              "329497    2016-03-05 14:06:22\n",
              "220583    2016-03-05 14:06:23\n",
              "176823    2016-03-05 14:06:24\n",
              "99885     2016-03-05 14:06:24\n",
              "324763    2016-03-05 14:06:24\n",
              "                 ...         \n",
              "204218    2016-04-07 14:36:53\n",
              "53739     2016-04-07 14:36:54\n",
              "301030    2016-04-07 14:36:55\n",
              "339649    2016-04-07 14:36:56\n",
              "90713     2016-04-07 14:36:58\n",
              "Name: DateCrawled, Length: 354369, dtype: object"
            ]
          },
          "metadata": {},
          "execution_count": 10
        }
      ],
      "source": [
        "data['DateCrawled'].sort_values()"
      ]
    },
    {
      "cell_type": "markdown",
      "metadata": {
        "id": "lgOQsiQv1LKQ"
      },
      "source": [
        "Удалим столбцы 'DateCrawled', 'NumberOfPictures', 'PostalCode', 'LastSeen', 'RegistrationMonth', 'DateCreated' так как эти данные не влияют на цену автомобиля."
      ]
    },
    {
      "cell_type": "code",
      "execution_count": null,
      "metadata": {
        "id": "VRv5WMsaSe2t"
      },
      "outputs": [],
      "source": [
        "data = data.drop(['DateCrawled', 'NumberOfPictures', 'PostalCode', 'LastSeen', 'RegistrationMonth', 'DateCreated'], axis=1)"
      ]
    },
    {
      "cell_type": "markdown",
      "metadata": {
        "id": "Wzo953wC1end"
      },
      "source": [
        "Удалим аномальные значения в мощности, цене и годе регистрации."
      ]
    },
    {
      "cell_type": "code",
      "execution_count": null,
      "metadata": {
        "id": "6DkX4zXPSe2u"
      },
      "outputs": [],
      "source": [
        "data = data[(data['Power']<400)&\n",
        "            (data['Power']>=1)&\n",
        "            (data['RegistrationYear']>1950)&\n",
        "            (data['RegistrationYear']<2017)&\n",
        "            (data['Price']>100)]"
      ]
    },
    {
      "cell_type": "markdown",
      "metadata": {
        "id": "7jLJ0jkH1ytK"
      },
      "source": [
        "Посмотрим, что получилось."
      ]
    },
    {
      "cell_type": "code",
      "execution_count": null,
      "metadata": {
        "colab": {
          "base_uri": "https://localhost:8080/"
        },
        "id": "SX8xzDfJSe2v",
        "outputId": "df24a0c6-67aa-4d7d-aac0-acf98f4ffd72"
      },
      "outputs": [
        {
          "output_type": "stream",
          "name": "stdout",
          "text": [
            "<class 'pandas.core.frame.DataFrame'>\n",
            "Int64Index: 294357 entries, 1 to 354368\n",
            "Data columns (total 10 columns):\n",
            " #   Column            Non-Null Count   Dtype \n",
            "---  ------            --------------   ----- \n",
            " 0   Price             294357 non-null  int64 \n",
            " 1   VehicleType       283661 non-null  object\n",
            " 2   RegistrationYear  294357 non-null  int64 \n",
            " 3   Gearbox           289139 non-null  object\n",
            " 4   Power             294357 non-null  int64 \n",
            " 5   Model             283377 non-null  object\n",
            " 6   Kilometer         294357 non-null  int64 \n",
            " 7   FuelType          279180 non-null  object\n",
            " 8   Brand             294357 non-null  object\n",
            " 9   Repaired          252128 non-null  object\n",
            "dtypes: int64(4), object(6)\n",
            "memory usage: 24.7+ MB\n"
          ]
        }
      ],
      "source": [
        "data.info()"
      ]
    },
    {
      "cell_type": "code",
      "execution_count": null,
      "metadata": {
        "colab": {
          "base_uri": "https://localhost:8080/",
          "height": 300
        },
        "id": "hDpwVoTwSe2x",
        "outputId": "87210f7a-77d6-4e92-b82f-eabdf2e32c1f"
      },
      "outputs": [
        {
          "output_type": "execute_result",
          "data": {
            "text/plain": [
              "               Price  RegistrationYear          Power      Kilometer\n",
              "count  294357.000000     294357.000000  294357.000000  294357.000000\n",
              "mean     4872.325299       2002.851857     120.324174  128249.285731\n",
              "std      4599.012421          6.482798      52.507437   36756.668880\n",
              "min       101.000000       1951.000000       1.000000    5000.000000\n",
              "25%      1350.000000       1999.000000      76.000000  125000.000000\n",
              "50%      3200.000000       2003.000000     111.000000  150000.000000\n",
              "75%      6999.000000       2007.000000     150.000000  150000.000000\n",
              "max     20000.000000       2016.000000     399.000000  150000.000000"
            ],
            "text/html": [
              "\n",
              "  <div id=\"df-5bfb499b-f84f-4b32-9bba-c44940b2282b\">\n",
              "    <div class=\"colab-df-container\">\n",
              "      <div>\n",
              "<style scoped>\n",
              "    .dataframe tbody tr th:only-of-type {\n",
              "        vertical-align: middle;\n",
              "    }\n",
              "\n",
              "    .dataframe tbody tr th {\n",
              "        vertical-align: top;\n",
              "    }\n",
              "\n",
              "    .dataframe thead th {\n",
              "        text-align: right;\n",
              "    }\n",
              "</style>\n",
              "<table border=\"1\" class=\"dataframe\">\n",
              "  <thead>\n",
              "    <tr style=\"text-align: right;\">\n",
              "      <th></th>\n",
              "      <th>Price</th>\n",
              "      <th>RegistrationYear</th>\n",
              "      <th>Power</th>\n",
              "      <th>Kilometer</th>\n",
              "    </tr>\n",
              "  </thead>\n",
              "  <tbody>\n",
              "    <tr>\n",
              "      <th>count</th>\n",
              "      <td>294357.000000</td>\n",
              "      <td>294357.000000</td>\n",
              "      <td>294357.000000</td>\n",
              "      <td>294357.000000</td>\n",
              "    </tr>\n",
              "    <tr>\n",
              "      <th>mean</th>\n",
              "      <td>4872.325299</td>\n",
              "      <td>2002.851857</td>\n",
              "      <td>120.324174</td>\n",
              "      <td>128249.285731</td>\n",
              "    </tr>\n",
              "    <tr>\n",
              "      <th>std</th>\n",
              "      <td>4599.012421</td>\n",
              "      <td>6.482798</td>\n",
              "      <td>52.507437</td>\n",
              "      <td>36756.668880</td>\n",
              "    </tr>\n",
              "    <tr>\n",
              "      <th>min</th>\n",
              "      <td>101.000000</td>\n",
              "      <td>1951.000000</td>\n",
              "      <td>1.000000</td>\n",
              "      <td>5000.000000</td>\n",
              "    </tr>\n",
              "    <tr>\n",
              "      <th>25%</th>\n",
              "      <td>1350.000000</td>\n",
              "      <td>1999.000000</td>\n",
              "      <td>76.000000</td>\n",
              "      <td>125000.000000</td>\n",
              "    </tr>\n",
              "    <tr>\n",
              "      <th>50%</th>\n",
              "      <td>3200.000000</td>\n",
              "      <td>2003.000000</td>\n",
              "      <td>111.000000</td>\n",
              "      <td>150000.000000</td>\n",
              "    </tr>\n",
              "    <tr>\n",
              "      <th>75%</th>\n",
              "      <td>6999.000000</td>\n",
              "      <td>2007.000000</td>\n",
              "      <td>150.000000</td>\n",
              "      <td>150000.000000</td>\n",
              "    </tr>\n",
              "    <tr>\n",
              "      <th>max</th>\n",
              "      <td>20000.000000</td>\n",
              "      <td>2016.000000</td>\n",
              "      <td>399.000000</td>\n",
              "      <td>150000.000000</td>\n",
              "    </tr>\n",
              "  </tbody>\n",
              "</table>\n",
              "</div>\n",
              "      <button class=\"colab-df-convert\" onclick=\"convertToInteractive('df-5bfb499b-f84f-4b32-9bba-c44940b2282b')\"\n",
              "              title=\"Convert this dataframe to an interactive table.\"\n",
              "              style=\"display:none;\">\n",
              "        \n",
              "  <svg xmlns=\"http://www.w3.org/2000/svg\" height=\"24px\"viewBox=\"0 0 24 24\"\n",
              "       width=\"24px\">\n",
              "    <path d=\"M0 0h24v24H0V0z\" fill=\"none\"/>\n",
              "    <path d=\"M18.56 5.44l.94 2.06.94-2.06 2.06-.94-2.06-.94-.94-2.06-.94 2.06-2.06.94zm-11 1L8.5 8.5l.94-2.06 2.06-.94-2.06-.94L8.5 2.5l-.94 2.06-2.06.94zm10 10l.94 2.06.94-2.06 2.06-.94-2.06-.94-.94-2.06-.94 2.06-2.06.94z\"/><path d=\"M17.41 7.96l-1.37-1.37c-.4-.4-.92-.59-1.43-.59-.52 0-1.04.2-1.43.59L10.3 9.45l-7.72 7.72c-.78.78-.78 2.05 0 2.83L4 21.41c.39.39.9.59 1.41.59.51 0 1.02-.2 1.41-.59l7.78-7.78 2.81-2.81c.8-.78.8-2.07 0-2.86zM5.41 20L4 18.59l7.72-7.72 1.47 1.35L5.41 20z\"/>\n",
              "  </svg>\n",
              "      </button>\n",
              "      \n",
              "  <style>\n",
              "    .colab-df-container {\n",
              "      display:flex;\n",
              "      flex-wrap:wrap;\n",
              "      gap: 12px;\n",
              "    }\n",
              "\n",
              "    .colab-df-convert {\n",
              "      background-color: #E8F0FE;\n",
              "      border: none;\n",
              "      border-radius: 50%;\n",
              "      cursor: pointer;\n",
              "      display: none;\n",
              "      fill: #1967D2;\n",
              "      height: 32px;\n",
              "      padding: 0 0 0 0;\n",
              "      width: 32px;\n",
              "    }\n",
              "\n",
              "    .colab-df-convert:hover {\n",
              "      background-color: #E2EBFA;\n",
              "      box-shadow: 0px 1px 2px rgba(60, 64, 67, 0.3), 0px 1px 3px 1px rgba(60, 64, 67, 0.15);\n",
              "      fill: #174EA6;\n",
              "    }\n",
              "\n",
              "    [theme=dark] .colab-df-convert {\n",
              "      background-color: #3B4455;\n",
              "      fill: #D2E3FC;\n",
              "    }\n",
              "\n",
              "    [theme=dark] .colab-df-convert:hover {\n",
              "      background-color: #434B5C;\n",
              "      box-shadow: 0px 1px 3px 1px rgba(0, 0, 0, 0.15);\n",
              "      filter: drop-shadow(0px 1px 2px rgba(0, 0, 0, 0.3));\n",
              "      fill: #FFFFFF;\n",
              "    }\n",
              "  </style>\n",
              "\n",
              "      <script>\n",
              "        const buttonEl =\n",
              "          document.querySelector('#df-5bfb499b-f84f-4b32-9bba-c44940b2282b button.colab-df-convert');\n",
              "        buttonEl.style.display =\n",
              "          google.colab.kernel.accessAllowed ? 'block' : 'none';\n",
              "\n",
              "        async function convertToInteractive(key) {\n",
              "          const element = document.querySelector('#df-5bfb499b-f84f-4b32-9bba-c44940b2282b');\n",
              "          const dataTable =\n",
              "            await google.colab.kernel.invokeFunction('convertToInteractive',\n",
              "                                                     [key], {});\n",
              "          if (!dataTable) return;\n",
              "\n",
              "          const docLinkHtml = 'Like what you see? Visit the ' +\n",
              "            '<a target=\"_blank\" href=https://colab.research.google.com/notebooks/data_table.ipynb>data table notebook</a>'\n",
              "            + ' to learn more about interactive tables.';\n",
              "          element.innerHTML = '';\n",
              "          dataTable['output_type'] = 'display_data';\n",
              "          await google.colab.output.renderOutput(dataTable, element);\n",
              "          const docLink = document.createElement('div');\n",
              "          docLink.innerHTML = docLinkHtml;\n",
              "          element.appendChild(docLink);\n",
              "        }\n",
              "      </script>\n",
              "    </div>\n",
              "  </div>\n",
              "  "
            ]
          },
          "metadata": {},
          "execution_count": 14
        }
      ],
      "source": [
        "data.describe()"
      ]
    },
    {
      "cell_type": "markdown",
      "metadata": {
        "id": "GnEmevrK16fc"
      },
      "source": [
        "Посчитаем количество пропусков."
      ]
    },
    {
      "cell_type": "code",
      "execution_count": null,
      "metadata": {
        "colab": {
          "base_uri": "https://localhost:8080/"
        },
        "id": "A9G99raYSe2y",
        "outputId": "65aa654a-331d-4e60-b2f8-c43863f689f2"
      },
      "outputs": [
        {
          "output_type": "execute_result",
          "data": {
            "text/plain": [
              "Price                   0\n",
              "VehicleType         10696\n",
              "RegistrationYear        0\n",
              "Gearbox              5218\n",
              "Power                   0\n",
              "Model               10980\n",
              "Kilometer               0\n",
              "FuelType            15177\n",
              "Brand                   0\n",
              "Repaired            42229\n",
              "dtype: int64"
            ]
          },
          "metadata": {},
          "execution_count": 15
        }
      ],
      "source": [
        "data.isna().sum()"
      ]
    },
    {
      "cell_type": "markdown",
      "metadata": {
        "id": "4mit1cNv1_-5"
      },
      "source": [
        "Заполним пропуски в столбце 'Repaired' значением 'no'. Скорее всего пользователи ничего не указывали, если машина не была в ремонте."
      ]
    },
    {
      "cell_type": "code",
      "execution_count": null,
      "metadata": {
        "id": "vUYQBqpJSe2y"
      },
      "outputs": [],
      "source": [
        "data['Repaired'] = data['Repaired'].fillna('no')"
      ]
    },
    {
      "cell_type": "markdown",
      "metadata": {
        "id": "wI7lQ6SN2aNJ"
      },
      "source": [
        "Посмотрим уникальные значения в столбце 'Model'."
      ]
    },
    {
      "cell_type": "code",
      "execution_count": null,
      "metadata": {
        "colab": {
          "base_uri": "https://localhost:8080/"
        },
        "id": "-7hSlEMlSe2z",
        "outputId": "99cbb224-7fda-43dd-ee36-f7242c7d69a2"
      },
      "outputs": [
        {
          "output_type": "execute_result",
          "data": {
            "text/plain": [
              "array([nan, 'grand', 'golf', 'fabia', '3er', '2_reihe', 'c_max',\n",
              "       '3_reihe', 'passat', 'navara', 'polo', 'twingo', 'a_klasse',\n",
              "       'scirocco', '5er', 'arosa', 'other', 'civic', 'transporter',\n",
              "       'punto', 'e_klasse', 'clio', 'kadett', 'one', 'fortwo', '1er',\n",
              "       'b_klasse', 'a8', 'jetta', 'fiesta', 'c_klasse', 'micra', 'vito',\n",
              "       'sprinter', 'astra', '156', 'escort', 'forester', 'xc_reihe',\n",
              "       'scenic', 'ka', 'a1', 'focus', 'a4', 'tt', 'a6', 'jazz', 'omega',\n",
              "       'slk', '7er', 'combo', 'corsa', '80', '147', 'z_reihe', 'sorento',\n",
              "       'ibiza', 'mustang', 'eos', 'touran', 'getz', 'insignia', 'almera',\n",
              "       'megane', 'a3', 'lupo', 'r19', 'caddy', 'mondeo', 'cordoba',\n",
              "       'colt', 'impreza', 'vectra', 'berlingo', 'tiguan', '6_reihe', 'c4',\n",
              "       'panda', 'up', 'i_reihe', 'ceed', 'kangoo', '5_reihe', 'yeti',\n",
              "       'octavia', 'zafira', 'mii', 'rx_reihe', '6er', 'modus', 'fox',\n",
              "       'matiz', 'beetle', 'rio', 'touareg', 'logan', 'spider', 'cuore',\n",
              "       's_max', 'a2', 'galaxy', 'c3', 'viano', 's_klasse', '1_reihe',\n",
              "       'sharan', 'avensis', 'roomster', 'sl', 'kaefer', 'santa', 'leon',\n",
              "       'cooper', '4_reihe', 'a5', 'sportage', 'laguna', 'ptcruiser',\n",
              "       'clk', 'primera', 'espace', 'exeo', '159', 'transit', 'juke',\n",
              "       'x_reihe', 'v40', 'carisma', 'accord', 'corolla', 'lanos',\n",
              "       'phaeton', 'verso', 'swift', 'rav', 'qashqai', 'picanto',\n",
              "       'boxster', 'superb', 'stilo', 'alhambra', 'roadster', 'ypsilon',\n",
              "       'galant', 'justy', '90', 'sirion', 'signum', 'crossfire', 'agila',\n",
              "       'duster', 'v50', 'mx_reihe', '500', 'meriva', 'c_reihe',\n",
              "       'v_klasse', 'm_klasse', 'yaris', 'c5', 'aygo', 'seicento', 'cc',\n",
              "       'carnival', 'fusion', '911', 'bora', 'forfour', 'cl', 'tigra',\n",
              "       '300c', '100', 'cr_reihe', 'spark', 'kuga', 'x_type', 'ducato',\n",
              "       's_type', 'x_trail', 'toledo', 'altea', 'voyager', 'calibra',\n",
              "       'v70', 'bravo', 'tucson', 'c1', 'citigo', 'jimny', 'cayenne',\n",
              "       'wrangler', 'lybra', 'lancer', 'captiva', 'discovery',\n",
              "       'freelander', 'sandero', 'q7', 'note', 'antara', '900', 'cherokee',\n",
              "       'clubman', 'defender', 'cx_reihe', 'legacy', 'pajero', 'auris',\n",
              "       'c2', 'niva', 's60', 'm_reihe', 'nubira', 'vivaro', 'g_klasse',\n",
              "       'lodgy', 'range_rover', '601', '850', 'q3', 'serie_2', 'glk',\n",
              "       'charade', 'croma', 'outlander', 'doblo', 'musa', '9000', 'kalos',\n",
              "       'v60', '200', '145', 'b_max', 'range_rover_sport', 'aveo', 'move',\n",
              "       'rangerover', 'q5', 'range_rover_evoque', 'materia', 'delta',\n",
              "       'terios', 'gl', 'kalina', 'elefantino', 'i3', 'samara', 'amarok',\n",
              "       'kappa', 'serie_3'], dtype=object)"
            ]
          },
          "metadata": {},
          "execution_count": 17
        }
      ],
      "source": [
        "data['Model'].unique()"
      ]
    },
    {
      "cell_type": "markdown",
      "metadata": {
        "id": "Iz5WWyMMC5ag"
      },
      "source": [
        "Заполним пропуски значением other."
      ]
    },
    {
      "cell_type": "code",
      "execution_count": null,
      "metadata": {
        "id": "cH5ugjicSe2z"
      },
      "outputs": [],
      "source": [
        "data['Model'] = data['Model'].fillna('other')"
      ]
    },
    {
      "cell_type": "markdown",
      "metadata": {
        "id": "hqC9FQtUDThu"
      },
      "source": [
        "Проверим оставшиеся пропуски."
      ]
    },
    {
      "cell_type": "code",
      "execution_count": null,
      "metadata": {
        "colab": {
          "base_uri": "https://localhost:8080/"
        },
        "id": "BpygIX0SSe2z",
        "outputId": "f09cf9a2-b08b-4cdb-992f-852594edbc01"
      },
      "outputs": [
        {
          "output_type": "execute_result",
          "data": {
            "text/plain": [
              "Price                   0\n",
              "VehicleType         10696\n",
              "RegistrationYear        0\n",
              "Gearbox              5218\n",
              "Power                   0\n",
              "Model                   0\n",
              "Kilometer               0\n",
              "FuelType            15177\n",
              "Brand                   0\n",
              "Repaired                0\n",
              "dtype: int64"
            ]
          },
          "metadata": {},
          "execution_count": 19
        }
      ],
      "source": [
        "data.isna().sum()"
      ]
    },
    {
      "cell_type": "markdown",
      "metadata": {
        "id": "thnvgWGmDomR"
      },
      "source": [
        "Запполним пропуски в столбцах 'VehicleType', 'FuelType' и 'Gearbox' значениями, которые чаще встречаются для данных моделей."
      ]
    },
    {
      "cell_type": "code",
      "execution_count": null,
      "metadata": {
        "id": "po31qiZrSe21"
      },
      "outputs": [],
      "source": [
        "for t in data['Model'].unique():\n",
        "    data.loc[(data['Model'] == t) & (data['VehicleType'].isna()), 'VehicleType'] = \\\n",
        "    data.loc[(data['Model'] == t) & (data['VehicleType']), 'VehicleType'].mode()[0]"
      ]
    },
    {
      "cell_type": "code",
      "execution_count": null,
      "metadata": {
        "id": "-gqZ8GjMSe21"
      },
      "outputs": [],
      "source": [
        "for t in data['Model'].unique():\n",
        "    data.loc[(data['Model'] == t) & (data['Gearbox'].isna()), 'Gearbox'] = \\\n",
        "    data.loc[(data['Model'] == t) & (data['Gearbox']), 'Gearbox'].mode()[0]"
      ]
    },
    {
      "cell_type": "code",
      "execution_count": null,
      "metadata": {
        "id": "kenVkcQcSe22"
      },
      "outputs": [],
      "source": [
        "for t in data['Model'].unique():\n",
        "    data.loc[(data['Model'] == t) & (data['FuelType'].isna()), 'FuelType'] = \\\n",
        "    data.loc[(data['Model'] == t) & (data['FuelType']), 'FuelType'].mode()[0]"
      ]
    },
    {
      "cell_type": "code",
      "execution_count": null,
      "metadata": {
        "colab": {
          "base_uri": "https://localhost:8080/"
        },
        "id": "y5U4YbLlSe22",
        "outputId": "6a9e926d-3dc5-4aa0-d903-f110d036f217",
        "scrolled": true
      },
      "outputs": [
        {
          "output_type": "execute_result",
          "data": {
            "text/plain": [
              "Price               0\n",
              "VehicleType         0\n",
              "RegistrationYear    0\n",
              "Gearbox             0\n",
              "Power               0\n",
              "Model               0\n",
              "Kilometer           0\n",
              "FuelType            0\n",
              "Brand               0\n",
              "Repaired            0\n",
              "dtype: int64"
            ]
          },
          "metadata": {},
          "execution_count": 23
        }
      ],
      "source": [
        "data.isna().sum()"
      ]
    },
    {
      "cell_type": "markdown",
      "metadata": {
        "id": "aWEZMCF4FlTL"
      },
      "source": [
        "Пропуски полностью убраны."
      ]
    },
    {
      "cell_type": "code",
      "execution_count": null,
      "metadata": {
        "colab": {
          "base_uri": "https://localhost:8080/"
        },
        "id": "E5cS9rIjSe23",
        "outputId": "1c7d9133-363b-41f6-b9ec-548729bfe64b"
      },
      "outputs": [
        {
          "output_type": "stream",
          "name": "stdout",
          "text": [
            "<class 'pandas.core.frame.DataFrame'>\n",
            "Int64Index: 294357 entries, 1 to 354368\n",
            "Data columns (total 10 columns):\n",
            " #   Column            Non-Null Count   Dtype \n",
            "---  ------            --------------   ----- \n",
            " 0   Price             294357 non-null  int64 \n",
            " 1   VehicleType       294357 non-null  object\n",
            " 2   RegistrationYear  294357 non-null  int64 \n",
            " 3   Gearbox           294357 non-null  object\n",
            " 4   Power             294357 non-null  int64 \n",
            " 5   Model             294357 non-null  object\n",
            " 6   Kilometer         294357 non-null  int64 \n",
            " 7   FuelType          294357 non-null  object\n",
            " 8   Brand             294357 non-null  object\n",
            " 9   Repaired          294357 non-null  object\n",
            "dtypes: int64(4), object(6)\n",
            "memory usage: 24.7+ MB\n"
          ]
        }
      ],
      "source": [
        "data.info()"
      ]
    },
    {
      "cell_type": "markdown",
      "metadata": {
        "id": "SfwSPOzXKyts"
      },
      "source": [
        "В данном разделе мы провели предобработку данных:\n",
        "\n",
        "- удалили аномальные значения.\n",
        "\n",
        "- заполнили пропуски.\n",
        "\n",
        "- удалили неинформативные столбцы с датами и количеством фото."
      ]
    },
    {
      "cell_type": "markdown",
      "metadata": {
        "id": "Gh26udq_Se23"
      },
      "source": [
        "## Обучение моделей"
      ]
    },
    {
      "cell_type": "markdown",
      "metadata": {
        "id": "acBx4RYKLbOc"
      },
      "source": [
        "Разделим датасэт на три выборки."
      ]
    },
    {
      "cell_type": "code",
      "execution_count": null,
      "metadata": {
        "id": "qiSz6Z6pSe24"
      },
      "outputs": [],
      "source": [
        "data_train_valid, data_test = train_test_split(data, test_size=0.2, random_state=42, stratify=data['Model'])\n",
        "data_train, data_valid = train_test_split(data_train_valid, test_size=0.25, random_state=42, stratify=data_train_valid['Model'])"
      ]
    },
    {
      "cell_type": "markdown",
      "metadata": {
        "id": "hgNQGuyZLrY1"
      },
      "source": [
        "Выделим целевой признак - 'Price', который будем предсказывать."
      ]
    },
    {
      "cell_type": "code",
      "execution_count": null,
      "metadata": {
        "id": "jYwczvUcSe24"
      },
      "outputs": [],
      "source": [
        "features_test = data_test.drop(['Price'], axis=1)\n",
        "target_test = data_test['Price']\n",
        "features_train = data_train.drop(['Price'], axis=1)\n",
        "target_train = data_train['Price']\n",
        "features_valid = data_valid.drop(['Price'], axis=1)\n",
        "target_valid = data_valid['Price']"
      ]
    },
    {
      "cell_type": "markdown",
      "metadata": {
        "id": "Chyb6saDMCux"
      },
      "source": [
        "Закодируем категориальные признаки."
      ]
    },
    {
      "cell_type": "code",
      "execution_count": null,
      "metadata": {
        "id": "2jCEBAi4Se24"
      },
      "outputs": [],
      "source": [
        "cat = ['VehicleType', 'Gearbox', 'Model', 'FuelType', 'Brand', 'Repaired']\n",
        "numeric = ['RegistrationYear', 'Kilometer']\n",
        "encoder = OneHotEncoder(handle_unknown='error', drop='first')\n",
        "encoder.fit(features_train[cat])\n",
        "features_train_encoded = pd.DataFrame(\n",
        "    encoder.transform(features_train[cat]).toarray(),\n",
        "    columns = encoder.get_feature_names(cat),\n",
        "    index = features_train.index\n",
        ")\n",
        "features_train_ohe = pd.concat((features_train[numeric], features_train_encoded), axis=1)\n",
        "\n",
        "features_test_encoded = pd.DataFrame(\n",
        "    encoder.transform(features_test[cat]).toarray(),\n",
        "    columns = encoder.get_feature_names(cat),\n",
        "    index = features_test.index\n",
        ")\n",
        "features_test_ohe = pd.concat((features_test[numeric], features_test_encoded), axis=1)\n",
        "\n",
        "features_valid_encoded = pd.DataFrame(\n",
        "    encoder.transform(features_valid[cat]).toarray(),\n",
        "    columns = encoder.get_feature_names(cat),\n",
        "    index = features_valid.index\n",
        ")\n",
        "features_valid_ohe = pd.concat((features_valid[numeric], features_valid_encoded), axis=1)"
      ]
    },
    {
      "cell_type": "code",
      "execution_count": null,
      "metadata": {
        "id": "YRToagwVfyx0"
      },
      "outputs": [],
      "source": [
        "features_train_lab = features_train.copy()\n",
        "features_test_lab = features_test.copy()\n",
        "features_valid_lab = features_valid.copy()"
      ]
    },
    {
      "cell_type": "code",
      "execution_count": null,
      "metadata": {
        "id": "Sx1TPaKyYsDN"
      },
      "outputs": [],
      "source": [
        "label_encoder = LabelEncoder()\n",
        "for i in cat:\n",
        "    features_train_lab[i] = label_encoder.fit_transform(features_train_lab[i])\n",
        "    features_valid_lab[i] = label_encoder.transform(features_valid_lab[i])\n",
        "    features_test_lab[i] = label_encoder.transform(features_test_lab[i])"
      ]
    },
    {
      "cell_type": "markdown",
      "metadata": {
        "id": "gU3PLrK4SxlO"
      },
      "source": [
        "Посмотрим важность признаков."
      ]
    },
    {
      "cell_type": "code",
      "execution_count": null,
      "metadata": {
        "colab": {
          "base_uri": "https://localhost:8080/",
          "height": 265
        },
        "id": "G5NgGxL0ucgt",
        "outputId": "a88e97c5-2e30-4414-80a8-d63dfee09bbe"
      },
      "outputs": [
        {
          "output_type": "display_data",
          "data": {
            "text/plain": [
              "<Figure size 432x288 with 1 Axes>"
            ],
            "image/png": "[encoded data removed]"
          },
          "metadata": {
            "needs_background": "light"
          }
        }
      ],
      "source": [
        "X = features_train_lab\n",
        "y = target_train\n",
        "importances = mutual_info_regression(X=X, y=y)\n",
        "feature_importances = pd.Series(importances, X.columns)\n",
        "feature_importances.sort_values().plot(kind='barh', color='teal')\n",
        "plt.show()"
      ]
    },
    {
      "cell_type": "markdown",
      "metadata": {
        "id": "HcOrtwzlTW_9"
      },
      "source": [
        "Больше всего на цену влияет год регистрации, мощность и пробег."
      ]
    },
    {
      "cell_type": "markdown",
      "metadata": {
        "id": "zGERETkzoOMR"
      },
      "source": [
        "![Снимок экрана 2023-02-11 в 15.43.38.png](data:image/png;base64,iVBORw0KGgoAAAANSUhEUgAABegAAAQaCAYAAAA465g7AAABPmlDQ1BJQ0MgUHJvZmlsZQAAKJFjYGASSCwoyGFhYGDIzSspCnJ3UoiIjFJgf87AxMDNwMUgzaCcmFxc4BgQ4ANUwgCjUcG3awyMIPqyLsislo2+20q3Fzdnb+mZG804zwlTPQrgSkktTgbSf4A4KbmgqISBgTEByFYuLykAsVuAbJEioKOA7BkgdjqEvQbEToKwD4DVhAQ5A9lXgGyB5IzEFCD7CZCtk4Qkno7EhtoLAhxRga66zk6OBJxKOihJrSgB0c75BZVFmekZJQqOwBBKVfDMS9bTUTAyMDJmYACFN0T1ZzFwODKKnUKIVUswMFjKgMIBIRaylYFhcxEDgzAbQkydE8gHiu1bVJBYlAh3AOM3luI0YyMImwcoz/rj///PsgwM7LsYGP4W/f//e+7//3+XMDAw32RgOFAIALOEXKYaBedzAAAAVmVYSWZNTQAqAAAACAABh2kABAAAAAEAAAAaAAAAAAADkoYABwAAABIAAABEoAIABAAAAAEAAAXooAMABAAAAAEAAAQaAAAAAEFTQ0lJAAAAU2NyZWVuc2hvdPKSgF0AAAHYaVRYdFhNTDpjb20uYWRvYmUueG1wAAAAAAA8eDp4bXBtZXRhIHhtbG5zOng9ImFkb2JlOm5zOm1ldGEvIiB4OnhtcHRrPSJYTVAgQ29yZSA2LjAuMCI+CiAgIDxyZGY6UkRGIHhtbG5zOnJkZj0iaHR0cDovL3d3dy53My5vcmcvMTk5OS8wMi8yMi1yZGYtc3ludGF4LW5zIyI+CiAgICAgIDxyZGY6RGVzY3JpcHRpb24gcmRmOmFib3V0PSIiCiAgICAgICAgICAgIHhtbG5zOmV4aWY9Imh0dHA6Ly9ucy5hZG9iZS5jb20vZXhpZi8xLjAvIj4KICAgICAgICAgPGV4aWY6UGl4ZWxZRGltZW5zaW9uPjEwNTA8L2V4aWY6UGl4ZWxZRGltZW5zaW9uPgogICAgICAgICA8ZXhpZjpQaXhlbFhEaW1lbnNpb24+MTUxMjwvZXhpZjpQaXhlbFhEaW1lbnNpb24+CiAgICAgICAgIDxleGlmOlVzZXJDb21tZW50PlNjcmVlbnNob3Q8L2V4aWY6VXNlckNvbW1lbnQ+CiAgICAgIDwvcmRmOkRlc2NyaXB0aW9uPgogICA8L3JkZjpSREY+CjwveDp4bXBtZXRhPgpjZCayAABAAElEQVR4AeydB4DcxPXG3xX3hhvuDRdsbIptTO/g0FvoAUIgCYTQQmgJhBDyJ9QAoYTeIfQQei+u9F5Ns42NjXvv9p3/73uzo5W0u3d7d7t3e3ff2LuaptHoJ+2N9OnpTdF6DcJAAiRAAiRAAiRQKwTKysoEn3Xr1snatWtk5cqVsmbNal2ukOLiYikqwkcS8aKUZZEWug/qaUUNxcUuD3Gfl2mJOj74Oj7NJQmQAAmQAAmQAAmQAAmQAAmQAAmQQO0SKK3dzXFrJEACJEACJNC4CZSUlAg+TZs2VZG+qcVXrCgWPC+HaF9eXqaAinRZnlZsh6gOIV+k3Oq5uhDpk1xRB+2lWyZrSVAnnMc4CZAACZAACZAACZAACZAACZAACZBA7REoogV97cHmlkiABEiABEggTAAiOj5r1qyxz9Kli2X58uUqrEM8d1b03jreWdent6iHSO+Ee2dRjzg+CJmW4X74OuE8xkmABEiABEiABEiABEiABEiABEiABPJPgBb0+WfMLZAACZAACZBAWgJeSG/SpIla0sOKvlyXpebuBtb0SJeXw5WN80bnhXSI9RD2ffCCvhrda12f68R51MN68WWyFi3pwywYJwESIAESIAESIAESIAESIAESIIHaJECBvjZpc1skQAIkQAIkkIYAXN5AdG/Tpo00a9bc3NuUlS03X/UqnwcubbxA75twrm5cyov0zpreie4oCa9Dkd6T45IESIAESIAESIAESIAESIAESIAECoMAXdwUxnFgL0iABEiABEjArNwxgezq1ats8tjly5fpRLJrTaiHGB92dwNRH+I7PijzcSfQI9+J8z4fSx983C99Ppbp8sLljJMACZAACZAACZAACZAACZAACZAACeSOAC3oc8eSLZEACZAACZBAjQhAHC8tLdVPa/00MUt6kRXm6gaW9HBho1q8Cfl+ElmI84h7a3ro8M77jRPpo65wnEhPS/oaHSauTAIkQAIkQAIkQAIkQAIkQAIkQAI5I0AL+pyhZEMkQAIkQAIkkDsCEN1hPb9y5QpZsWK5WtWvtolkvSW9WzrLecQh7vuls4J31vUQ7JEOf3wvXb30VvO+zNflkgRIgARIgARIgARIgARIgARIgARIIPcEqmVBD9GgvLxMP+vNig/WfnjVnoEESIAESIAESCA3BCC2N2vWLGgMgjkmjS0rwxiMiV9hUe8s57H0gjrWQ4AwT0v6AB8jJEACJEACJEACJEACJEACJEACJFCQBKol0K9bt86s+dasWSPl6iu33QYbSIsWLQtyB9kpEiABEiABEqjPBJo2bWoPwfEwvLi4xMbftWvXqFAPdzfOZQ3EeQjzEOoR4iI9slE37O4G9ZzoD7HflXmRH2UI3hWOS/GbBEiABEiABEiABEiABEiABEiABEgg1wSqJdAvWrRQvv/uW1m0aJG9bj98+Ejp3adPrvvG9kiABEiABEig0ROAaA5x3lvTI71q1QrBw3L3RpuzpgeosEiPekjrwizpIdIj7gPKvQAfX/o6WPqycB7jJEACJEACJEACJEACJEACJEACJEACuSGgAv36Krc0e/YsmThhnEz74Qe15FspHTt2VIG+d5Xb4QokQAIkQAIkQALZEWjSpIkJ9Vg2aVIqixcvTri7KTMhfv16NanX4EV6CPA+7UV6legTgr0b+6si0ltj+uXb9WkuSYAESIAESIAESIAESIAESIAESIAEqk+gWhb0cGuzatUqnbhupU1eV4b37BlIgARIgARIgATySgDiOKzpW7RooUJ5sT4kdxPI4mH7+vVFZlEPi3dnOZ80l8+FJb3fMVrUexJckgAJkAAJkAAJkAAJkAAJkAAJkEDNCVRLoK/qZnEz7ye2g5iPz/rEhHZF+vp9SQk+pSY6VLVt1icBEiABEiCBxkQAk7IXFzdXK/qmuiyStWvXqrubtSrOY/J2uLRx1vFhS3qMwwg1taT3nCnSexJckgAJkAAJkAAJkAAJkAAJkAAJkEDNCNSKQA/xYOHChTJr1k/y4/RpMmfOHFm4YIFZALZt2066dusmvXv3kX4bbVSvRfrp06ZJ9+7dpUStGxlIgARIgARIIF8EYEkPob5ly5a2XLFiubmcg196iOfhyWLDcfTHi/TV9Unv94kivSfBJQmQAAmQAAmQAAmQAAmQAAmQAAlUn0BelWTcvJs4r2L8tzqpLCaW/f6772SO+rBfoHnNmzeXdu3aSc9evWX5smXSrHkz6dCho7Ru3br6e5RmzXfefsu2m6ZIWrZqJf36bWQPB9q2bZuuSqV5i3Wy3FNP+Z1g2bRpUzn/L3+VESO3rHQ9ViABEiABEiCBmhAoLYVf+iYqusOdTZGsXr1ax901JtB7YT7cPqzqEbxIj3VcPDofDdrzArxfhtvx8YrKfB0uSYAESIAESIAESIAESIAESIAESIAEMhMoTbz1nrlGmhK/Dm7n7aNfPi9cHeLAggUL5dtvv5Uxr7+amFR2hYrYTaR9hw4qJKySRSpqL1261Ca7W7xksQwfPlKGDts03EyN42PHvCETxo+rtJ299t5Xfv3bk0xkr7RyqMKYN143cR5Za9askUcfeViGj6BAH0LEKAmQAAmQQB4JNGvWXN3dlKo1/XKdI6ZYPytVpHeW9F5s94I90pl80juhH2P6ehP9w0vffV/Hp1HHh3iZz+eSBEiABEiABEiABEiABEiABEiABEggPYG8WtCvW1cmP0ydIp9/9olMmTxZxevV0qVrV3MD07nzhrJcX8lfMH+elc1W9zd4Nb99+w5mUY8J8GCNXpvhxReek/fee0duue2uKm27abNmkW7C5QADCZAACZAACdQWgeLiEh23ilVYL09Y04tZ0zu/9BDQy02Uh0jvfdOHRXpY0rtH7q7HENrD4jyF99o6ktwOCZAACZAACZAACZAACZAACZBAYyOQZ4F+rUz66gv56IP31Up+ifRSP/Pb77CjDB48RPr07WcW9BDun336Sfn+++9ksn569+kjAwYOkq5du1VJJM/VgZs/b548cN89csJvTsy6yV123U3Gjx0jn3/+mXTr1l2O+sUxWa/LiiRAAiRAAiSQCwIQ0Zs3b2E+6Z0rmyJZuXK5ifbl5RDgJSLOe7FeV9M6KI26u8kk0nuL+XSivS9Da409pOPT2Jlw/0mABEiABEiABEiABEiABEiABFIJ5E2gx6SwM2fOkJ9++kknrlshbdq0UYG+twweMkRF7B7SSn2/N1PL8y5dusrGKtivVuv6b77+WmbPmqXLSTaBLPzT5yPssOPOcvIpp1nTP2kfr77qCu3nzGBTTz35hBypInu2lvAQRP5x+VXm3qa2rf6DTjNCAiRAAiRAAkoAk8fC5Q0E4lKdtBzubpxfemdJ74Vjvwxb0lc2cawHjHXjYrxvz9dp7Ms4n8bOg/tPAg2NAP/mNbQjyv0hARIgARIgARIggbojkDeBHq5rMCnsvHlzpaysTDp26iS91YK+X7/+Jr5jlyEcQITfWEX7Jep/Htb08+bOlUmTvjIL+146eWw+Ln5btGgeTEQ7cNDGcuoZZ8oFfzonchTgmmfIJkPlzYnj5eOPPwrK9tl3f5kwbqy89eZE6auTy55z3p/l60mT5LXXXg7qDBwwSEbvuVeQRmTu3DnyyksvynfKZOaMGbLhhhtK/wED5eBDDpNMk9OOU9/5n376sXynPvyLioukf/8BMnLLrWTb7baPtM0ECZAACZAACXgCcHfTrFmJjbFNmzbTcVTMhRxc2JSVrVcremdNHx5fEXdpCO/wUe9bSy7D9SE+h9OolS4vuTZjJEACJNCwCPBvXsM6ntwbEiABEiABEiABEqhLAnkT6DH56/RpP8jyZculhfpk799/oPTq1css+8I73Fx9zffu3VdmqaV9WxXrYW0/bepUma/C/gr1Ue9f1w+vk+v4kCGbWL/wIMGHH36YagL9h+qe55WXX/LZMvaNN8waERkr1SoRYeqUyfLSC89bHF9zhs+OCPTvvP2WXHHZJfagwleCxf4nn3wszz7zlFx40d9ls8238EXG4PJL/08+CT0YQOHk77+3vuANgD/88Wxp0qRJsA4jJEACJEACJBAmAMt4jBOtW7fVZVNZvnyZzQWDOt69TXziWJRB0IclfVykD4tREOeR9sGL9eE8X8Zl7RPwx6P2t8wtkkDjIsC/eY3reBfS3vLvfCEdDfaFBEiABEiABGpOII2NXM0axYUqbvgXLlwg06dPM7G5VctW0rdvX3Ntg1fvwwHiQceOHdWivIt07tTZ5qmbp37gFyyYr1b1SxJWf+E1ch9Pd4GDCWvTBbgK8KG4qHJ8c+bMkUsvuTgizvv1sVyzZo1cpmL86tWrg+yrr7o8RZwPCjUyYfxYeeK/j4WzGCcBEiABEiCBCAGMbRDp4U6udes25rYNQj0s7BEwVvsxO7x0ghPG8vVWjnS6T3hjbp1wDuN1SYDHoy7pc9skQAIkkH8C/Duff8bcAgmQAAmQAAnUJoGcW9Djhn+tis7z581XC/ppJgC0at1duvfoKZ06dzaxIN0Otmrd2nzUL1MLP/ithw97uMeB73qIC/kMX375RYqA3k/d11QW3CR8Fdd68IF7Uyp07ryhubzxBSuWL5cXnn9WDjr4EGP2/nvv+iJbtmzVStatXWtivi94/NGH5eCfH1onE+n6PnBJAiRAAiRQPwhgvGrZsrW+LVaqE8eusIfCZWXrbIxGGcZuLMM3/Krvaz4s6jWi7nHiAXXTPeCO12O65gSqwzl8LGveA7ZAAg2DQHV+Sw1jz7kXDZFAtn/nC+G8z7avDfE4cZ9IgARIgAQaLoFcjrE5F+hhYb5gwQKzoIe7mg4dOqgw38n8rDdv3jzjUYEQ32+j/jJ79iyZ8eOPMlctz+GrvbtOKAvLv1yGWToR7Qfvv2dNfvjh+/Lyiy+kNI++ZAo/23Nv2WL4CHW/k3l//Lrjxo7xUVv+3z8uN3c2zz37tNx2y01B2bfffG1xCPXhMHLLUXLBhX8z8eTkE38dCPuwvP/qqy9l85BrnPB6jJMACZAACZAACPiLBkxinvQ/X2zu2iDM4+ProH744TO0eXiywcfVSQr1SPsb7nAcbYRDuO1wPuPZE/Ccs18jtzV5DHPLk63VHQH8lng+1x1/brluCNTFeV/X41bdkOZWSYAESIAEGhuB+HhXk+vMnAv08DkP3/OLFi3Um/wSFec3VNc23aVpJVbwbdu0tUlQIVSXqVgwa9ZP1s6wYZvm/Ph+9ukngk+mcMBBPzdXAOnKt9t+BznltDPSFaXkwd9v2K89xBHva37kyFGR+nAHhICHEuEw+md7mX98uAbafIvh8uorSX/4s5WRZoarM04CJEACJEACGQmUljbRN9NKdQLZJiZS4aH66tXrAuHer4gLi/gnk1Dv1+GSBEiABGqbQHVuguI3UrXdZ26PBKpLoDrnu99W/LyvSVuZ2vT51VnG+1edNrgOCZAACZAACeSaQFXHy4rGs8rayplAj06Uqd/2uXPnmPgNgb2kpFi6du2mk8P2scleKwLVTK3RO6kP+g02aC8tNA7/89OnT5epU6eoG5dm0rFTp4hVX0Vt1aSsd+8+8svjjs/YRA911ZNtmDN7dqQq3Pj40LVbN7nvP4/4pInwSIBbOFx/3TVy7913WtbiJYvDRTaxbiSDCRIgARIgARKolECRTR7bUueHgbU8PuvWrY08UMbFAz5xa3o0DaEeE8Zg3NcqDA2cAM6Dii40G/juc/cKmADPzQI+OOxajQjg3E4Xqvq3OFM7aDvcVkX1fD/C9X1edsvkm3fZ1WctEiABEiABEigkAtmOY+nH7vCepBtLw2NwzQV6vUHHjf2qlSvVr+1KswD/4vPPzM0NfMd3695devbqXak7GFiX4wOXOBu0by8L1U0OrMlhUd+8RQtpoZ+mzfB6PsSEksCyL7yzNYk3b95Cjj7mWNn/wIOt7Zq05dddunSpj9qyqU7OFw7t2rULJy0eF+Hhnx6fdAH++hlIgARIgARIoKoESkthRV+q46kT4uGXHm98YWJY9TwfiPPe/Q0uHJIff2MP4TbV9U1V+8L6uSUQvsjLRcvpLiRz0W5jayPXx6Wx8Uu3v4VwbvK4pjsyzKspAZzbtXluZdpe+DeG/oTTyX1MChe4JsgcKhcuMq/rrzsqqsEyEiABEiABEqg6gcrG24rHNmzPD35+mexD9Hl76jgYH1trLNCv0xv6KZMnWw9mzvhRJmscPujhU75b9x4Ci/TO6oMe4ns2oY9Ozrr9DjvKu++8o5PFzpQPP/jA2vtp5kzp2LGjtG8Pn/ad1ad9u4S4UJxNs5E68Nt+8KGHWV7rVq3tAQIeAOQ6wC1NOEDoqCw0adKksiosJwESIAESIIGcEGiiD47x0BtiPcZpzB0DoV6fhQe+6XHhgA8ekPubeHch4wQE5K1fH73gcOWui+lv6F1Z9KIlJ7vU6BsJ8w4fh0YPpg4B4DiEj0sddoWbziEBHtccwmRTOSXg//aH/+74vEwbQt1wnfC6WCeahgiR+nctLmK49rxggaWPo0UfUtvxJVySAAmQAAmQQL4JRMe39FuLjmfhOuF74MrGMz/OujEUrcS3XWOBHm5tpk6ZLPPnz1Of8dMEftdxo9+zZy/ZRP3H9+jZs0qTvMIlzuZbjJB58+bJ8mVLzWUOLPuWqHsX+LPfcMMusvHGg6W4V7G0advWBIMwnmziG3bpIsOHj8ymao3qdNa+hsOqVauCJA5E2A9+y5YtZcDAQeriZwNZvGhRUO+0M86UYcM2C9LhSKvWrcJJxkmABEiABEigSgTwIBkf93ZasYrz5TZ5LG6iYU1fVOQuJHBRgnELS//BhtzFSnLp8+IXG5k6FRf2M9VjfvUI8AFI9bjlai3PP9vfQ662W2jt+L8ThdavmvanLo5rQ2WZzbFobPte2flVEQ+sGy9PlxfnXtE2k+vjobwTFbANl4+W3DZdG06Ixxjv24zWjYsSYYEj3iumSYAESIAESKBuCaxfnzS29uMrxkJc64fHOfQyOd5hbHNivKtblLi/Rh2f78drl66xQL9OBfopU6aoKF+iN/WrzMK9b79+MmLklrLF8BGCyV+rEmB5X1LSS7baahuBdfvnn31iFvSTv/9epv0wTcX+1uZSx6z91IVOIVucd1ZL/3BYunSJuQGCtf7XX0+SCy/4U1A8UMX5f157vfTo0Ut+mDo1yJ+iDz/2GL1nkEbk7bffND5h38CRCkyQAAmQAAmQQJYEcFEBkR6u3nBBgXEVD9sxvuPNL4w1yA9/0DTSfhmO+4sUKwx9+TqhLI3iYqThhPT7WHf7l+lY1F2Pst1ywxBrcDGeKRTauZKpn7nIL6TzMPFnKxe7VSdtFBLLXALI5vfQUPc9W45xRul4hOugPJyObyddmW8zWuYEeYzX/mVw/I7cb0kFC427v3Wohz967g8f4i7fXS+4N8mTfxT1qiIQNaxvQTvxnjJNAiRAAiRAAnVDwMa65NBl42q5uoNNBnePHB4/3fgYfoCtte3WJjkuu/EUaTdWunVEaizQ48a9g7qe6aSTuGIy1w033FD69O1r1uCwdq9qgDDQRkX4furqBj7sW7dpbZOhwm0OBna8gg/RH0v4zi3kgIubLl26yuzZs4JuXn3V5bLHz/aUxx95OMhDpP+AgZYeMmSIvDlxfFD27NNPyYL5C2T3PUbLsmXL5MUXnpOvvvxCfnH0sXLEUUcH9RghARIgARIggeoQ8DfiGM+bNWtuFx6wEsBD9zVrVtsNNMZf1It/sD2/vl+G87LpT3i9bOoXcp2GtC91yblxcCzsa9jcH//C2F8vGOZ+/2qnxYb62/A3thVR9DevFdVpyGVgVNHxR1mYYzjt1wu3EY+H2bky5Lg23dtuuAZwtdx2VFTQpFkVWsSV4bs89END1AkQ6D9adI2UwxpRo0FVE0DsK9kQYyRAAiRAAiRQhwTCb3tjDFtvb5i7cQyjoB9L3ViHMc2NY8WJAdNSqK6foiI1erOR091TY7eS7bsxvsYCPYTy4SNGyki1mMcEr61bt5EW6q6libq5qW4oVks+WJ+jvcGDh8jCRQvVH/1P5he3RAUECP/tO7Q3IaG626it9X75qxPkqisuDTb33rvvCD7xsMuuu1nWPvsdII+qeA9rex8g2IdFe+Q/+J/7ZadddpVu3br7alySAAmQAAmQQLUJ4AYelvQQ6d0EsiU27paVwZI+cWMdcnmDDfmbfr8M51XWkfA6ldUt5PKGsh9VOXaFfDx83xrScfH7VN1lY2TRUPfZ3QC6G8Pqng+FvV7mfQuE3MLegax7V51z1N/4YyOJe/+020Pb4bq+Ujjfx329eH/cuI/jgbfonAiBPLHX8p1IgXXx0VlqbBPWVqKu3ya0CAj2fjvIh0gP0cKtm6iZoc+JUi5IgARIgARIoNYJ2NiYuADBuIU0RkYd1YK+uDw3rvlMNW3TSgkhXqvqO2g2llpdNTS3JhPltg0dR5FXfRU9sWVY3EFM79mrt7Rs2UJfjW9qN/a+Y9VdQqTHp4k+ACjSbaBdPKFH51u2aGnW9dh2oYcddtxJnnnqfzJp0lcZuzpaLeqHbDLUyiGK/PHsc+WSv19kwkimlSDM4w0DBhIgARIgARLIJQGMs6WlTXRMb2nubVavXm2u5bAsLy9zFxR6maHVbEzGtt2FRbIX8XSyJDVWlbqpaxdGTkPYB5BsSPsRFoMK4yypei9ydTwKgUWu9iVbivnY59reh0z7mst9K5R9Su5r8oY3mZffWF0xyO44QgZIH3AjH+472sO4jODiLoE6Pu2XqOPfjEMcAWXRgPVdHsr8RyP4bx9XH6JEuZUjvb7MyRZBe4l2IdKjf8j3fbLmbTOhbSf669rmNwmQAAmQAAnUPgEbXxPjl23dBjCN6ZjlxzC31MfYKENILJGPkbHIC/FW5ER5NFmUGA9tncSXW1XvwcOZ1YlDPG/btp10VDc3+QrNmzdX37jNq918SUn1dxMPCCoLpU0qbv/yq66Rh9Ti/fHHHomI7rBUPP7Xv5X99j8wsgn477/ltrvkmquvNHc24cI26t5nZ7WcP0HXK6nBWwrhNhknARIgARIgAU/ALkg0AUt6uK5bu3atTRyLm2on0sPvHm6m3YWGWy8pDCDt23BlVf+u6fpV32Ju1qiv/Q7vPfchTKPu4jgOgcBVd93IyZYbyr40hN9G+IA2lOMS3qeqxguZgTvfQsJ1aOf8uZj8G+HEAbvxTwgEbpx2K/n9DC9R4sVyXze+Pizmk9tAfR3/ExO/JmR42wBe+ce6yHP1Xb8Rdx/XD79Ntz3tM1aKhdScWAUmSYAESIAESKAWCCRk9+iWbIzFSJWwjteYpVBZy9w4i1U0Dgt5/Avsyt16GEdNzC/CPTUs592Da6xbpE/PqzwOfvLxR/LsM0/KVJ3MdMWKFXLiSb830RjdYKiYwIIF82XmjBnSWX31w1UPDkJFAdYNP82caW5++vbtZ5PkVlSfZSRAAiRAAiSQSwJlZWU2Yey6dWtNrF+7dk1iuTZwgZO8GMH1Ruq4li4vl33MdVtpdiHXm8hLe/WNMyDUxz7XZb/JKy8/nawara/sK9q5hrhPFe1vurJCZlBR33xZfAlRACGZ7/YaaZ/ncuL5ENN9HScPmJ94E9ldXRPftchbzFtat4f7VeQ6Md4JEBbXfNdS4hsCf6J/aNG3h3gk6C64tiO5TJAACZAACZBA3gnYWOmGrei2dGxCGcanYlXdddSzdGLUtbowYEfAvWRy3FVHcJYfEuJRwcZcraeW9vpt9Ss2/bamK/4q1xv3WT/NlG++nlRxxRyVwu2N93XvfOQGjyNytIX8NtOhQ0ftf/ZvG+BA9ujZ0z757RlbJwESIAESIIFUAnjby/mmb2aCPCaOhSU9lmvWrFHxHk/+3U23W6a2UWg56USKQutjVfpTf/fHXdJWZV8LoW5d8a6r7daUeX3td3i/G8I+YH8ayn40lH2pzvHAPX3FwYvhWLqbflc/VW3w23diOMQB1Aytb+K8T7syCBIQ5LXIRAqV523pbf68WI8Kvg7W8YI7lipvaGOJt/CwTduEy/NbwZKBBEiABEiABOqCgI6Iic0mxqbEWOXHSfiYtxLNwFhq/1BobtlxvYUJYfWfiu8od+Mh8tVmPiFhW3UV6fEWms+rsUCPm/Q3Xn9V3n//vVrhBlc3u+62u2y22RbStl07ff2+chc0tdIxboQESIAESIAEGjgBPDSG6xvMC1Ne3ko/ZSbaww0OPuvWrVMCuHm3u+2CpVEf5rCpDXjugrGwj1VtcKjONnBRXdvBi2m1vd36vD27aaqLg1WfodWg77AoY8iOAERr3LxXNdjfgdhq/jyH+I1xGGMzgrv591vASs56z0Ry+11E//57QR3toY65rrHVnSiPqNWBSxv8U6Eew71Z2iNt1oBoU4UJiBL4Z33V9TXbeoAGEvuNbfiA9lAfSwYSIAESIAESqGsCfkzC0gcbgy2RGE817sY51HJjmI2fKtTb3Cv2QBsW9KgPcb5Y752dRT0mYHf3pG7MxfBXLYEeoni7dhvIBhtsIGtUoF+5cqV9fKfzuWyhk9bBrU6ZXXhwAM8na7ZNAiRAAiRAAmECXgQIC9y4CHHub9bpBQeEgeRkceF1Cyke7n8h9asu+oLjl7zYrIsecJskkD8C/K3nj22mlinSZyITzTchujq3snqDn+lvNv6eY+41//Ac4zHiqO+0cJPIg44gz40BeLCCzrgO+YfslmMroiLqOjEeb8s5v/MQ5bEnWMKesNjmrmnZqnXiYX4TFR9Kgu0xQgIkQAIkQAINmUCZPiTHW+bLli/XOdxW2BiM8VGHY5tMFg+0IdSbeG9m8+XOXY4+4Fan9dUT6Ju3aCFdunSVtfpqO9zM1GaABX2bNm3Ueq+J7hitNGqTPbdFAiRAAiRAAnECuPEvLW1iH+fiJmEFEK/IdMERyCTyFFxH2SESIAESIIGsCUCU9xO8r13rHppDEHCCvLf2QxoPaNXaXUUBBJTbuAAB3mVZJgR4iApufQgNEOSdKI+HALAabNq0ubTboL0J8yUluEfXXGyUgQRIgARIgAQaCQG4ZG/eoqU0adpMXcK2kqVLF6pQv8oJ9Tok4qE1xsxidQ/n/usYXOIH3OLqCfTt23eQYZtuJr379JHl+mSgNgMeCPTp209a6E7DJy4DCZAACZAACZBA3RLwN+FFRRyX6/ZIcOskQAIkQAIkoK/Jqw2d2rXZ/TJc0uINNwRn4Abh3L095TR0iO1WbG7rvJhvS4jzCUEe63hhHg/ky8pgCVgkeMO9ZctWJs7XtvGe6zW/SYAESIAESKDuCfh7Yj8Wrl/f1sbd5cuWYU5YDW7cVD9wKtbrwKvjqz7+1qQbhKtl/g7XNvgwkAAJkAAJkAAJkAAJkAAJkAAJkAAJFAYBuHbCp0mTUpszZt06zBfjBHonsqOf7m03CATOd7zqBHAUbyK8WsAXQTLQVEK5h795lRCcWK/xMv3Aer5YBXrMTdOiRSsazwErAwmQAAmQAAkoARiUN2/e0uaGWaYCvejbbWo3b1b05uIGgj3GWij3OuDibbZqCfSkTQIkQAIkQAIkQAIkQAIkQAIkQAIkUKgE3ER0zZo11Q6uV7c3a0xwT1rImzmfdd6L86bKQyvwwryKBrCWN3G+TCefVQEBwkLgg15Fe4gQ3lqwUEmwXyRAAiRAAiRQmwRgTY+xEWPkehXndeRUPd65hSsq0QfeOr6WrC/WXM3TJQKduNfmEeK2SIAESIAESIAESIAESIAESIAESKAWCECMLy1tavO3QXNPCu/eXQ0s52HTh6BW9frRHEs5dzZwcaMCvdVZb25tnDW9E+mtLCHm20r8IgESIAESIAESCAhgLMU8LuXqFk4HYX0DTS3pE67j3PAJ6d6NzxToA2yMkAAJkAAJkAAJkAAJkAAJkAAJkEDDIACf86WlJWrBV6qvzzsBAKK695ML4SAch7W8s6aHCxwwsK+ksA9/uRAWtA1MRkuBvmGcJ9wLEiABEiCB/BDAWFpe5sZOjJlOjddtaYEfQ/3Dcwr0+TkGbJUESIAESIAESIAESIAESIAESIAE6pQAxPniYn3FXkUCLwIkl86Cvny9vn5vijwEef9J1Hcz2zlhXutA0Le2YHFv68DqnoEESIAESIAESCA9AVjJJyzldQmLehtH9QtLvL+GJQX69PSYSwIkQAIkQAIkQAIkQAIkQAIkQAL1noC3noeg7sV5CPHJuO6i6uwQ3/ExK7/IXmtdVElY4VtKBQYT81HAQAIkQAIkQAIkkEIgGHd1/PVvoGHshEiPMRUBYyrqcZJYx4PfJEACJEACJEACJEACJEACJEACJNDgCHgh3gsFWCZd2zjhPbrTCet4Fd9NjDcVAQJCQkiAmxv9p3K+K9dvBhIgARIgARIggTiBxNiJcdfmeCnBQKoB+RhJLWpftKAHDAYSIAESIAESIAESIAESIAESIAESaKAEvEjvdy+ejudDfE8GSAgQEsJLzTHBIVmLMRIgARIgARIggSQBPNhGwNIEeYjy+CAvUWBxzaNADyAMJEACJEACJEACJEACJEACJEACJNCACXhxICEL6J6aPBARDSK771+/D5QECAxurfVqRY/gZIbIWkyQAAmQAAmQAAkogaKihCDvB0/Nw1jsgw2vSOubahToPRUuSYAESIAESIAESIAESIAESIAESKABEkiK804c8AKBX1Zll1VvsFCddauyHdYlARIgARIggfpPwGR42w2nxWNCFyTDb6oJfdDX/wPNPSABEiABEiABEiABEiABEiABEiCBiggkrfggrHsf9OE1IoK7WvN5K3mTEEI6wnqN2/qooyIDPgwkQAIkQAIkQAJRAhgfy/Urm2GSFvRRdkyRAAmQAAmQAAmQAAmQAAmQAAmQQIMk4EV4v8T8r/A3b/+QSAQv4luO5WsNXSKNj4kN2SgOvkEuSYAESIAESIAEMhIoTQytGSuwgARIgARIgARIgARIgARIgARIgARIoH4SgNi+fn154PfWi+/QAtbDHN7keSwgwqu1H/zL638nxOt3Io60D4ijbjpLfF+HSxIgARIgARIggSgBjMHFZi6vb7NpkY2jyItWY4oESIAESIAESIAESIAESIAESIAESKBREQjUdyfSm2rgvgIM9pJ+QsRHphMVgmJGSIAESIAESIAE0hAIDbH2dBsvoAV5Ks5jPFULegYSIAESIAESIAESIIHGQmDlypWydOkyWbFihaxdu1YtJcsby66n3c9iNWFp0qSJtGzZUtq0aS0tWrRIW686mfWBdWPf/2yPKzllRyqfnLLrAWtVlUDSAh5W85ALYNGnS/3vBPmw+bwT74vUzq9IZ4pVTSGkMFR1y6xPAiRAAiRAAg2bAEbVYhXfbbjEA25NJ8fd6L5ToI/yYIoESIAESIAESIAEGiSB1atXy9y582TNmjXStm1b6dKlizRr1kxKSkoa5P5mu1NlZWUCNsuXL5effpolTZs2lc6dOxmbbNuI10vHunnz5vo6a+G9vNrY9z9+7DKlySkTmWh+PjhFt8BUdQmkEwRcHuQCZ72HiexUP0i4wkF+Qn+HsuAUe/2GSJ/8mOqAYgYSIAESIAESIIEIATzyDj/JtnEXT7cx2CaCjanFOq6Wl5fZcOsLuCQBEiABEiABEiABEmhYBJYsWWLic+fOnaVjh47BdaLzS9y4LwW90GRHXFHMXzBfH2TMlW7dutqDjKqeCWHWHTp0CKxkCpV1Y9//bI8vOWVHKtecstsqa1VGAG/zzJ8/Rx/QrpXS0lL9u1SsD2eL7aEh4hDofYBmAB/0yb9Z6+1NK9UNZN26Mqtbpku8fYXj3aVrD2nXbgO/OpckQAIkQAIkQAIJAosWLZSZM6bbmFqsIjwMo/Ap9stipDEelzQ8FzerVq3iiUACJEACJEACDYYArG4ZSKAmBCAYw3K+d+/e5sYFFq74RF3bwIojKdCkbq/hl/uL5o4dO5qbm5kzZxoGvG2QbQDrOXPmVsI629Zqtx6s+3HDkJ/9x7nVMM6v/HLK5G6q/v3+csGpdn8BjWdrEN6dexr3m3RpWMQnJoc1G3mUaYb+R7l7qquObVTMx/gBYR55VtR40HFPSYAESIAESKCaBHQstbFTV/fLxLWxG2fVFU41W+ZqJEACJEACJEACJEACBU4ArlbgtqV7t+6Chz1wb5Pe77wTajLvTsMvxwMLsAEjsAIzsAPDbIJn3aNHj0pYZ9Na7dfJ7/43nPMnv5wyHff6x6+mnDKRYH7NCDhh3bXh33bweU6oR5meb6a/J17Mdzq9rQSf9FY/IS74NlyL/CYBEiABEiABEogQwCUcxlT9wj+I8zbEWl5iuNU8jMH0QR8hxwQJkAAJkAAJkAAJNBwCsJzv1KmTNG/RPGuhueHsffX2xL9hAGZgB4Y9e/aotLGAtYr72Yr6lTZaBxUa+/5ni5ycsiNVXU7Ztc5a1SEQFtWdKO9UAuTbpLCJ50GQEDBnrJMSNBO6Pero5LCICyaJtQ647+r0heuQAAmQAAmQQIMmgCHWJmB3b0naiBuMrZZygr1+04K+QZ8J3DkSIAESIAESIIHGSgA+h2ENDj/oWDJUjUCYHVhWFBoi68a+/xUd73AZOYVpZI5XhVPmVlhSEwJhYT5dO6q9mwCPenBlgyXCehUWrEx95yJAsLe2ICaggPq8ceEXCZAACZAACaQjYGOojaluHPX+4ewBuObjfTWMq7SgT0ePeSRAAiRAAiRAAiRQzwksXbpM2rRpk8GlTT3fuVroPixL4fIGDMGyRYsWGbfaEFk39v3PeLBjBeQUA5IhWRVOGZpgdt4JQGz3NvEaT1jKQ0Aw8cAE+WIpL9LJYU20Rx3tFD4MJEACJEACJEACKQTcEKljKyJ40A1B3izq/eCZeMqtYy4t6FPw5SYDfheXL1+edWNLly7Num6uK2JiXdyAMpAACZAACZAACTQcAitWrDBRGS4mGKpHAOwgzINlRQHlLVu2tMkTK6pX38oa+/5ne7zIKTtS2XLKrjXWyg0BLxBAm3f+5ZETynUJzfCG8s6yXl/VV5GhSC3tGUiABEiABEiABComYGMnxlmtZnEdQ20cxWqJh+ONzoIeF4bHHXOUkdt0s83kvD//xeLpviCyn3ryibJkyRLp0bOXXHHV1VZt7pw5cuYZp0r79h3khptuCVbFRc1rr74ijz/6sCxcuNDycbM2eMgQOebYX2kbPYO6iHzx+Wdy7z13yQ9Tp1p+kyZNZKP+/eWAAw+WLUdtZXn4Sre98H788exzZcTILYP6PvLxRx/JP6+8TDbdbHPdzwt8ti2XLl0id9x2q/XBPxzAhGi77TFaDj/iSL0ZbRmpzwQJkAAJkAAJkED9IoCH76WlpSoaq7UjxJWE+JK6tOtDlmfgU1JSWqkhA1iXlJQ0OIEeZ3xV9h/Xzo31/Ko+p8b1+8uGU/36S1vfexvI7k4wSOyOy3Wv3EM3gJiAf/iPNCLOrt6V1XcK7D8JkAAJkAAJ5IMAhsxitZwvT9xn2EDqhlMMqRqQcLFGJ9Bj9721+IcffCDz58+Xjh07IjslvPvO21aOgqVLFgfl69atszaWhPJQeP2/rpE3J06wehDmu3btJpMnfy/YzicffywXXnSxDNlkqJW/8fprcstNN1ocN3R9+/WTqVOmyNeTJslVky6TY487Xvbb/wArz7Q9vx83XHet3HTrHSmvXq9duybRzyXWjv/CA4G//uXPAst5bHvAwEEyf95ce6jw/LPPyLtvvy3XXHe9NGvW3K/CJQmQAAmQAAmQQD0jALHUBVwaugu/9LuQm/JZs2bJPffcY5s444wzQtclVW8fk6zOnDlT+un1kbPbzH//07NB7npJskxfywvT6Utzkwvjj+eeey5tY7vvvrt069YtbVnNM2u6/1U//tE+p64/d+5cuemmm+Tggw+WTTfdVKsnz4+vv/5a3n///ZQHBWjzqKOO0pukuMVvavuVbT99eXU55Wr7yV5h/9966y1ZvHix/Ya22WYb2WijjZIVNIYHKd9995288847Mm3aNCvfddddZcMNN4zUy/3vr3JOsQ4wmWcCZsmX2AbOCwsQElRQ8EnLw88sURz85hKigluJ3yRAAiRAAiRAAmECbozFQ+1g5NS4H1CT168YXxulQB+G9eILz8nRx/wynBXEn3vm6SBeWWTq1CmBOH/OeX8OLOAhgt9z1x0CQf66a6+WW26/y6yr7rz9Vmty7332lV/+6gS7WcDN3fhxY+WmG6+X+++9W3bccSdpt8EGlW3aXru+647b5ZTTTq+0Lirc9O8bTJzfRB8WnHf+XwSW8wgzZ86QP597tsxTsf7BB+6X43/9W8vnFwmQAAmQAAmQQP0kgDfuvOCS7+WYMWNkauKtwAkTJsgee+xh0Kq63UWLFslFF10kI0eOlL59+9Za/zP1szJx3p8ZYJ3P8M033wi4pgvDhg1Tw5Cu6YpqnJftfqEebkIyccxVPibkvfrqq82wBAJ0vN0333zTROd0O37ooYdK06ZNrSi+Xk3TVTlP8snptddek8cee8z2sX379jJu3Dj7HH/88bL11lsHvFDv8ccfF7zB265dO3njjTfs/DrnnHOkd+/eQb2acomvny2ndMePebkj4EX56NK5uIEK7x8bmYig+kFYqLfzFzUozufugLAlEiABEiCBhklAh0t/LYTxMxg6MbYmRls/1jZ6gf7lF1+QXxx9rN1QhM8GWOZ8883X4awK419+8YWVwxo/7J4G4veRvzjGBHpYPsFdzeo1qwMr/kMOOyKw5IFFz8677CqPPPQfs9x///33ZHd1OZNNGDf2DdlFrV6GDoMVUebw+WefqaX+ZLOcP1fd3nhxHmt0795DjtK+3q0PFMaNHRMI9Iv1RnncuDHqRmeU9OjRI3PjLCEBEiABEiABEigoAmFRBR3zF4i+k7kqh+g2ceJE6dChg1ntvvrqqybQV6d9zOEDC3pcF1Vnfb9vbn/DqZrvf7S12k398MMPtkG8ndCnT5/IxsPXc5GCWk7k6/zyu/HVV1/JHXfcEczzhDdBwwHb95wg4nvxEXUQ9+K8XyfX55dvN9tlrrcPw6Ann3zSRPd//vOf9nucPn26nH/++fLggw/KVls5F5oLFiyQJ554wsovvfRSadWqlXykrjGvueYaeeCBB6w+9iHX/YufH9lyYr3cEkh9i8S374QDN3kdZAOI8FqmJ4I/F+A9V9+BCIzLUIwPAwmQAAmQAAmQQCoBJ8KH8zGO6viqwcT6xECK69RGK9DDBU3Hjp1k+vRp8v5778qorbYOExNY1iMg/71334mUpUt07tzZsuEyZ6Fe9LbXG1QfNlAr+L9fcpmsXKkTiLVqKa3btPZF8vlnn8q2220fpBG54MK/ydy5c/RV5e6R/EyJPffaW17SBw3XXn2V/PuW29U1TbNMVWXSV19aGbaJSc/iYfSee0lbtaJBwEU0TpKnnvyfPPfs0/LWmxPl0suviq/CNAmQAAmQAAmQQIESWL/eubmJC2PJtLtATKbdjiTT2ZV/rK784HoPrjTmqDECXGzA1cigQYOsQbQHy+fvv/9eunTpIv66Sa82zBJ6xowZZrUL4QiW4gjz5s2Tz/Q6afDgweZLH3m4zkK7mB+oe/fusvHGG9t1T7K/qOWuYRKxWDqR69WmxAVyZeu7tSr+jrdRce2ql/q3E7bYYgsTYMMtQJhds2ZNOKvW4+H9T8azO3+S9V23k+nk+m+rC8b77rvPKvTq1Uuv4adbHHV9fSzhaqmnzvuE8yweMO9SuD7OPwS/vq+fTFev3LeTbpnP7X/77bd2fT969Ghz4YltwRoevxW4jMJvCsZEeICGh2pwEdS6dWvb/xEjRki/fv1kirrcnD17duI3Wr39r4xfOi7Myz8B3NfhgxCOR7eMcncPGPyZTKThHcqJ91bFCfPanjtLoq0wRQIkQAIkQAIk4MZb3N+Ul2O0dOOwflsc6XAoTQ684ez6G69sf3w5biL32e8AufXmG+VZdWWz5aikQI8L1ldffskgjP7ZXibQA6VfN3wR4vOGbbq5tGnTRnDhf85Zf5BfHHOcCe/eomnQxoMjUDfbfAv59JOPBf7j8ZBg9z1+plYszhd+9x49BR8EtJ9ue367qHPU0b9UP5NvyhJ9zfeB+++VE359IrKD/objP/0008p69sKrqxaNfBUXl2i/dwjyUGekTlj7+eefyh6j90q7TlCZERIgARIggZwTSPe3OucbYYMkUEMCcI+BAIEe4jkE+ldeeSUQ6FEGER5+w+H65uc//zmyLMByF642TjjhBLNwfuSRRyx/ks7Lg88ll1xilr5PPfWUvPSSuz5LrGpi5MknnywDBgzwWXlb1vVvEYI03lCA9TP8hiPgAQXE6NpwG1LX+w93Ntjf4447Tud4mmyW9PGDDWEZoX///gKxGg+O4L5l6NChAoOZpHAcXzN36brkBFdH+I0hLFu2zM4LiPIQ5+HKBucPAvghDB8+3O5dwAVvF8CtFAT6n376KfQQzarm/KsuOeV8Z+pBgxDkw8xxzL1Yj3zo9j5tu4PyQDjQQlRCPS1ECf7beutRC7kMJEACJEACJEACKQR07ETAOOst5y2NvMQHaYzLjdaCHjcyO6iP9ztuu9msyufPh0VJJ3BRQf5t89G+0Ub9pVMnZxlvBRV8QYi/6O//kBuv/5e5kIHwj8+mm20u+x9wkECQD4czzjxb7rz9FvNb/9/HHhV8IJrvu9/+suNOuwSWYuF1MsVxQf3Hs86Vv/31AoHLnh133EUGJizW4uvAMh/B76svx6vk8eAt8eGr/oqrro0XM00CJEACJEACJFDgBGpDkIQgDzEU4h+sdSHy4LroC3X/hzIYMISDE4oSV6taEBaFIKSeeeaZcu2118qoUaPkkEMOsfUh+EOcR1unnHKKudyDr/GHHnpIbrjhBrn88ssjbvvC26uteD5ZgyOMSyDOn3XWWZFdwsSe8K1e1yGf+49923///eWwww6z3cSbGD6Et+vd24wdO1bw8QGWS/DBDivxug7h/ua6LxDhEXCu4Df54osvCtwCIfzqV78yF5eYKwAGRQi41vdvXuBewP9Ww779rSK/GjQB/zcY56bFTTGAkoCI/q3W/8U6YWx5eTLt1zEwyGYgARIgARIgARJIIWDCPJ5oa3BjZ7kuSzC0JhR6N4iirNEK9Lg4xUXsbrvvIa+otfxLLzyvVu9uslg/Oex+KqyvWZv968I9e/aSy6+82lzmPPH4o2qd8r189ukn9oHYf+Hf/i9wKwNfj6f/4Sw56OeHysMPPiCffPyR/KiW9Lfe/G+bIPbv/7hcLaJ64ZBlFQYP2UR23W0P9XX/qlx7zZVyw79vzWo9VJo9e5accerJKfXvvu/BoL8phczIKYGH3l4j1728KtLmqH6lctroZvLL25ZH8pvqr3bc+W1lp0uXyJp1kSK569etZJMeUX+s0RpMkQAJkAAJkEBuCcD3PAIs4yH2QQzdeeedTVDHBJX77ruvlXt/4X5pmfpVWuouR7GE+z3vmgTuCGEdDktguORAOO+886Rv374WR7uY3wciJPqw++67W35D/Jo2bZrtFq5djznmGOnXr5/A5QveUsDbC0jD+rkhB5w3MLCBq6R162IXQIkd95xwDh155JHmvgWToYLV3Xffbb774eKloQb8/rzg/sEHH9hDMuwr2OH35Sf8hRiPvDhH/+avF/AbKifuVyoBaAclJerDRgMs4r2Vn2kKCV1eFYWEgK9LrQ8xgQ5uUlkyhwRIgARIgAQ8gYQ0bxbyyIOrOCfUR99sg2LfaAV6D2vvffY3gf7ll16wyVxhSY/JYXEDtPU22+prnu4VUF8/myUmicUHLmfGjHldHnvkIRPr//bX81Ms0Xv37iPn/ukCs3R59523bYLYOXNmy5/PPUtuvPk2fS13g2w2aXWOO/7X8s7bb8oC9c+KiWYHDto4Zd3u3XvK1/q6uLekR4UWLVrK8BHJm7qPPvwgZT1m5JfAmnXuZxveyqq166XMuQ4OZweifLqystRmIusyQQIkQAIk0LgI5NNa15MMWyqPHz/esr0lL8TjvffeO3Eh6tfAxWn6AQvCIfypI6AOhEKIij/++KNZyEOcX7FihQmLEBO33nprE+hRnqnN5FbzG8vn9uHaBa5+YOHsBeaNNtrIBOhHH33UrMXr2jo8n/uPI4fJg9OF8HYPPPBAfZN0R3uTw4vNQ4YMsQc5mLvgvffekz333DNdM7WWF+5vPjd6xBFH2FsDcPNz5513ys033ywnnniibLbZZmY5jwdfXrD3/fDiPsT82uqn3zaXdUcAxxpigV9aT/RPtP8zHZfhTVhIiPUog6TPQAIkQAIkQAIkkErAi/FF+iaaGz/d+IpH4vb8W8fb4sSY2qgFelyEdO/RQ/r228jc0mCy2K8nuddAR++5t1mWrDdH/qmQ4zkzZ86Q1atWW3veNQwmWz3gwINlk6HD5C9/Pld+mDpVX02ebwdl0cJFdoPlJ2TFjez2O+woW229jZxw3NEm2H+sPll33mXX+KYypnEj8oc/niOXXnKxPP3U/+Tnhx6eUheW9rCyR198aNu2rZz357/4pBx52MFBnJHaIXD41k1ln82bRjbWTH+drZsXyTNnRl0D6O/awtN/aCPx07NDK14gRyAyQQIkQAIkEBCIiC+aC/FFrweDUJ1yvC3orW0hFMcDrJ0/++wzEwXRfjj47Yf9p6OOT6McAqLPg0U9RFq470BYvnxF4NYGwn51+l+V/Q/3vbbjePOyUyfnihEPMGD5jOvNHXbYQcDd+16v7X6Ft5dv/vH2w9tGHOXwMw9OiK9YsVKX5XaO7LTTTja5MHyr+4DzqyrHP779dOv7trNZplvf3cS5tWtajrdRYCWPNyvgsuauu+6yuSEg0OMhDyZchiAPV5kI2D//W8b5VtPtV7a+20t+1yWB8PkW7gfycT6IJCyFME7AZB4ubrSsSMtQal82hlgKOQwkQAIkQAIkQAJhAjpE4nrTriM134ZNfOkH+S6NSrSgN2z7H3CgTdYKURtuZhD22Wc/W2b7dcu/bzDL+zPOPCsyySrWHzBgoFnk44Zy2g8/yPfff2dW9bvutrucdPKpkU1AqB86bFP5+KMPZbLWq4pAj4bg6x6TvL715gSBm514GKxWRAiwtF+kr4Vv0L59vArTdUCgRZMiaeHchqZsvXMb+8mm5HdsnT4/pSIzSIAESIAEGi0BJ7K43Te9xckqiQynr3g41Sn31vPwgQ5LZS+uw83Np59+KpjYFS5GNt10U70IdeMWBGbrl16LQtaZM8fNj4Pth/uLUp+GOA+REUK8bwcre8EV1uTV6T+270Nl6/t6mZa+r5nKa5IPy2886IAgDz//CLiuxOSfCJgINZ/bt41U8lUZv5yXJ/rj9xvt/+9//5NZs2aZT/7mzZrbzQ5EaP8AA/Mk+Po4f6py/LPrfyWQtDif2/9Q34LFBMJ77bWX9Ovbz/YfBjxwFYUwd+5c2z4eYnzzzTd2/vTp08fKsH94EwXB6mtG7vmEW7RN8atWCTjrPfwNDf6OqiIQTYfOUScbaA+9b3o9fjhR8KdcP7AGdMEvE0kuSIAESIAESIAEjACuptwVlX7rGFqk90iJgthYqpb0ZCayzbbbm4D+3bff2GvVGw8eLJ06Zzc5rOe3nVq/I9x/3z0yTy9+wwFiuLf26qsXy9tsu50Vjxs7Rr784vNwVX0Fd4GJ88gcopOzVif85sTfBRZl8fW7dOkqwzbdzLIvu/TvaimzJFJlyuT0Ln3gpz64oYiswQQJkAAJkAAJkEAhE0iO304c82l3sRgWftNC8QAAQABJREFUY6pWvmr1KoH7DFjpwo0N3LBApMcHcUzqiYAJPTG5KSx6EfxEntg+ro8++eQTy4cIFA7ePzb6279/f7Omh1/tcP9ffvllWwUCvV8/XI5Cn655uW2qTr7mzZsnb731ljz22GOR7cOFEMKwYcMi+XWTqNr5U9Pzz+9j+PjCjQ0E6tdffz1xM+SOv3+QBE6+fk23n2l9369My3xuH25rvvzyS3nyySeD/cdbLP53MmjQINv/bbfd1roHl1S+P6v194wHQTAW6tevX7C+L6/57yd6fmTiw/y6IAABPiHC6+bxLNV9vH/chPsblKF7eihV1venhMtAPgMJkAAJkAAJkEAKARszMYBicLWFLi1umRbF9VajdnFjZPQLN5ajf7aXPP/cM5a13/4H+aKslzvvspu8OWG8WdGf+vsTpYO+Otq//0C9Kf3WfMKjoZ123tUs1mG1vu9+B8hzzz4tf//bhSamww0OhP1p036wbcIVjRfys+5EoiJeS/39qWfINf+8Iu2qcGdzwZ/OMTc3vz/pN+aCB68E/6RWWPC/j7CJPhzwrnqefOJxeVh92o/aahs565zz0rbJTBIgARIgARIggcIj4C3avciWyyXEPLS/5ZZb6oVlUeAew1PAdcRWW20l7777rk1kethhh5n4N2XKFHO3AStdtAHx3ge054X8999/39rdZ5995Nhjj5Vzzz1X7r33XpkxY4ZNJAuxfpLOqwNxHg8EIETmcv/QJ9+e719Fy6rUraiddGWwnH/++edlqroo/Pe//y3wNz9ZjSogRsNC+qCDDgqMQdKtXxt52H/PIN9Lvz9+m3578EGPc+Kll16y82rAgAE2gTDevhg4cKC9ybFkyZK89dP3q6Kl7zPq+H7narn99tvLs88+a+fGLbfcotfzm9hvDA/FILzjPMFvDG+04G0CnD9426WfCvKYiBkPzE477TTrfj77WREfltUtAWdZ7x6mmEiv3TH5QBM6r539TS5SE7/1ZSo3aJ7VwVc9CO+8/Za9ye67irngdthxJ5+0JX4fT/z3sWCyZWT+/JBD9e9sC3uLC/fvPjRT91CHHHaET9oSBn/vvvtOkNe3b1/ZbntnyPfqKy8Fb4z5CoMHD5ERI7f0ycjyrTcnpsyH17nzhqpb7Gn1pk6dIm9OnBBZJ1MC4/Eh6v521aqVun+Pp60Gd1fdu3eXnr16Sy/9uHMhWRXrPvnEf9XFqjs/4DP5yF8ck6wQii3Ucf2jjz6Qb5UHDADbtW0nfZTFoI0H21x9oaoZo5jHb626c/Ph8COOCiaV93l+GT+2FXH161RlOW7MG/LjDPeGEdbbRbUfuEquLGDOnNdfe8XcKeNap2XLVrL5FsP1b/Bm0rVbtwpX//zzz+SjD95Xo4apVg9umTfbbHPZWM8Zr9NkagBvJn76yUem7czVeGudv2bQoI1l6NBNZSM1eKgsVPX4QcOaMH5c0GzXrl1lt91HB+l4ZNJXXwre+PJhiI5Vw4cn50REPgxZP/74I18l66X/vcJ9tde2sPIWyh2aWzxgrPv44w/l26+/0fqT7Lzvoden4DV8xJbBNWl4vfhvz/++wnUQH/PG6/qm2owgG39v8HcnHmpyrONtMV14BIJxEpPDavf82BntKcqKKNB7KHvts68J9LjJGbnlKJ8dvLpXjCuRRMCFLIJfIo6byYsvuUwef+xhGavWTPPmzQ2EebR58CGHyX77H4iqFo497nj74/qoDjxwq/Oh/vH1Ydfd9pBfHHOsTwbbCW8vKMwQgS97DPZoF4NnOOAC/aK/X6Judh42a/1PQn/4Ntywi4DFPvs6qzes10z7j9CypbN8swS/SIAESIAESIAEGjWBN9980/Z/t912E1juepHRQ4EF/OjRo02gnzhxokCgP/vss+Xaa6/VG/eP7IN5cI455hh54IEHAjEA7log+kOgxzZg9QyB+sILL5Trr7/ehERsA9dF8K99yimn1Lk47fc5X0swueiii+TGG280ARoiNALck4AprjX925r56kMhthsXkIYOHSqnn3663H777SY+Q4BG2G677WyCVLhIasihdevWcvHFF8sNN9xglvSwpkfAw7BTTz3VJhXGAwpwwPl05ZVX2psZeDsDBj4Q8DHxcvihWUPm1Zj3Lf7bCbNAGTRY+5ueuI10skLivRGnz+rfbK0TXrHA4+PGvhEREWGkh/tluFDzAWPZ/ffe7ZO23Ftd30Kgh/j+iBqt+YD14wL9G2+8Js8+/ZSvYrqCF+jvuevOlLfXIVpnEuhvvukGWbxoUdAWIj179goE+m/VTVW4P5GKsQTEdwj0mLslm3WwnTPPOkcGDBwUtPTj9Ony0IMPBGlE0gn0eLBw1RWXpkxC/bZ6FUCAeH72eX8WPGzIFCbrm3cP3H9vpBiC6Zajtork+UT82OIhRiaufp1sl3ho869r/xnZn+V6nvz2pJMrbOLFF56TO2+/NfKwByuMHzfG1ttj9J5y2hlnWjz8NX/ePLn2mqvks0/924Wu9D198IOHFjiW/7z2eh3/+4ZXC+KvvPSi3HjDv4K0j+AhA8I+++4nvznxZDNS9WXhZXWOHx6QhM+r/gMGVijQ49iG9w8PO26+9c5wN0zHeuzRhyN52ST23Gsf+73+V909h71VlOucRnGBftGihWow+1f5/rtvo00nnrG1adNW/qa6Wfh3gIrpfnuos7m6mw6H++69S3A8fejevUdEoK/psfbtclngBDCgYh4XSPAhbTYxvEY6XxpJNYIEBtKHH/tfyp5CmE6XP0D/uMTz4SYmnocGAfuww4+yDy5858yerZb0HfSCt3XK9pABER0f/NGfpZNW4eKgnVqyhw8a6qXbXqb9QH0fzv3TBT6askSffnXCbywfFyLLly8TMIhvGxVwUbLb7nvok1on1Kc0xgwSIAESIAESIIGCJBAXzXPZSQh8MFDARK4LdV6beEA+XGpAfId4DGEQAuodd9xhvuNxzdGli7v2gM9sWJrhg/X+8Ic/mOgP/+Goh8krYSUP63GIh9gexOnS0lK7jkJ5Pvc1vm/p0riey1cAl169eskVV1whi1SwgU/1HnpDC0EWAUzyuf1s9qs2+eOBDR7+4K0JTBzsA+J4a2PUqFFmqYrzAucJjFPAB/XrOuSTE84TWMBedtlldp7AirKbWmm2UetJBPxusH1wwESx/nzC+dOvXz/7raGNuj6X6voYNZbtx+/7oCH4gDJ3ruoy8Q9lJtRDaLByd//r1gmt7Bsp8CXGmmefflIOP/KoUE/T7Qfy/CdU1aLp6ofrZFrP1flB34qCZToesoYDhLu4OJ8s99v0y2RJxbGK+xJe98cfp8tZZ54uV6sQPEDfPsocon146skn5K47bs9cXUsmTfpKTj/1ZLn3/geDSarjK3gRO5wPEX5L/duefYj2Lfv1ojU//+zTiDiP0vHjx6pA/7toxVDqlZdfkpt1jsKKAt6oKCtbJ5jD0P8WYdhwwZ/P1WukmRlXxXXR2XpsrrrmX9K3b79IvdtvvVmefSb5lkekMJF4/rln5YsvPpfrbrgp2K6vV/3jl451ujwxl9JhcR7bnqlvRi5YME/f7Orou1KDJbabftvhfOhvp53yu5QHKOENwx00fgfn/+WvsvU224aKUtt/6D/3qUC/eahOumiybzU91ulaZ16BEtD5WnDk3e88Kcsj7X/7GFsRT5qFF+i+1Ndu4TWXXjqJVyZxPrxfsADDU0O4vvEHKFye7zhu7vAQoKJtU5zP91Fg+yRAAiRAAiSQWwK4vsinGIhrHYSKRE+IfQgQSNEXGAUgQDTEK9AImDQ2HCCa4IPrE7jhgLUYBH4vwiMPPukhzqOeFx3DbeQyjn5X9hZjvlljP+GmBX2BW0I8rAAfCKnY/3wKqoWw/9keTxjI4JzDNS0e/sDFDc493AiDUz5DIXDCeRA+T/CADOI8+oZ8nEc+hOvBTRSYQfjxv1lfL9fLbDjleptsL0kgfr/n0hAMkqIBauM4oSwhK1gDmjRhXgsS6eg6llnPvv77+GOR30VddP+Lzz9L2WzY/UdKYTUyiotLqrGWyOWXXpL1+ILx/d6770rZTkt9OwfGheGwQh+mPvSfqDV+uHz8uLHhpMVh2Y3zsrZDuocFeHgyfdq0tF3BOHTj9akW7HEGWPmN11+Td995O2gHTNKJ8/F18bf68n9cEqyHCPqTTpzHNVQ84MHQy2ppHw65PH7hduPxsOeIcNlEdRcdDsUl+ZUq70jzdgO2H2eNvBuu+1elfye+0jfWvLtqrFNZqMmxrqxtlhcYAf2zhdHS/n5hvpfEP4yl/h8q4K9bo7OgL7BDxe6QAAmQAAmQAAmQQF4IeGESQnY+wvz58yttFuJ7WICHmI8P+oQLVS8YQnwPB1j0QvSGQOTr+LZw84Sy2nLpAnEXLCsKKEd/wvW8wOXXq2kaN/2YLBb7jw+2Zxf7iQ3UtP1M62e7/6iXr3PNM/RLCAn+YY/P80tY0eODvvjzJMzJ18v1slA4QbgJnyfoV7oHODh/UA+M/PmUaybp2suGU7r1mFdzAl6cN+E9IbLjt1Gs1n0VBVfq6ziB1KcgMNSBZlpRd6tUBuv1MW+8Jrvv8bMqrZfLyh+oO7ewi120nUnErGi7HTt1kutvvDltlYr+Nt986x3SVt2offP1JHnwgfvNb7xvZO7cOTJd3fFmcqfi62H5yMMPBuM10uaK5ZrrzPc8zrM7brslIiDDWvuXvzrexnnU92H27FmC7cYD/rZ99dWXNldevCyf6Qkx4dhvCw8Rwm6Jff7HH33oo8Hy1NP/IHuM/pnM+PFH+csFfxL4ePcBfta9dfaHHybdHqMcRpyXXnaltFF3gI8/+kjExRCEfFxP4U1GhLvujL65ALdMV/zzaunbt589oD3/vHPkxx+nW1183XP3neYlwV+35Or4BRvIEEn38AVV4SZ6/wMOCtY6QuccOODAg4M0Iqf+/qQIu9+ceJLAPXQ4wF1bZQEPKOAyKBzg+ufXvz3JxkPMG3D9v64NimFJj/kqw/0LCkORRx56UM5R903ZhJoc62zaZ51CIhAaNzFgJgZQ/F3EPwzH7jpVx+NC6jb7QgIkQAIkQAIkQAIkkBsCcJ1XWyJ2VXsMkc4L75nWhaiYrg7yanO/sK2wj+J0/UU59gnBXWSnq+XyalqO7UCoSCe65mP72e5/bR6TzHSTJZ5TZbyTa9QsVmic8Dup6Dzxe4vzqDaPXTacfN+4zC8BL9j7rUAkcDZ8bo4PS0MtQH7igzz3Sb6yH28HrdSn8NB/kn7l66LfmMwyHj7USdCrGjBnHt6sSveJu9AJt40JRLEOfLaff+Ffw0UWh5iZTYgLr0cc9QsT57EuzhHMwRcO+BsFwToeJoyPWlKHyyeMGxdO5j0OX/iw9k8Xxo0dky47xYoaDyogzoNBT3VVt8uuu0XWCwv68PMfDnA13F7fGsQDloN1suJ4gPsdBBgwxB/qnHLa6dK3bz8rxzw2F1/yD4v7L+wXJif1IVfHz7eXbonxJt35jrrffvtNxGVdie5z/FzGA+VwaK4umON1svl79PJLL4SbMcYnnXyKccb6eGC34047R+q8/GL0jYNIYSKBiXLh1z6bUN1jnU3brFNYBIr0bzM+NnhiMNX/kOx1EQR/3ubHpCrYDCMkQAIkQAIkQAIkQAJ1QQA3LbBMr+jGvC76Vd+2CZET/rorCnHWXhT2S7+uT8eXhVxenf33+9OYluSU3dHOhlN2LbFWLgh4USDcFvLwN8oJCBDiEYOYoP8gMljavabv/5ZZhXr6BWvtT9SKefMthtfJHsBifJmO1RDKEeCPG5b9dRHgAxwTY8Ji2Ie5OpdFZQHnQdgqHPW33jrss1vsWgRW/uFJM7/55msTrcPtj88gfKPOhAnj5MTfVTw5a7itmsbjonW4PViwY1+wT+HQvn2HcNIelM6bNzeYFHe0Tg6L35IPG7TfwEdtzj/8jfThWxWtfYBbQez7vLnJSUcxhyACzqF42Ha77SNZnTp1tglKw25Y8IBk+PAR9nvP1fGLbDSW+Pyzz4xHLDtIYrJZzH2Y7xB/MLT77qNTNol+hI//rFk/pdRJl/HkE/8N5npMV+7z4EK6Osfar89lfSKA8VKDjq02kurS/Q3Q9Prk3wKUUaCvT8eVfSUBEiABEiABEiCBLAngtWdYbsGyiiJ9ltBi1cAODP0r5LHiIJkNawgY6cQw30ghludy//1+NsQlOWV3VLPllF1rrJVLAuG/Tf5vEQSE8vWY/NqJ8aYwQLhXQcF0Bi3BemF5IZd9qs224NqlrgR67CfcnOyw4062y7n2P18VjmX6htaKFVGLcVh9VxYWpZnjIy5co41TTzvDJrD27W262WY+aktMJj9lyuQgr3PnDW3eFS9Uw/f7Dz9MzcrlTtBIDSJhgRbN7LX3vvLiC88FLcJv+gEHRd2wbLRR/6DcRy48/89ywYUX2RyFPXr2lOOOP8EXRZZ9+/WT8ASq48a8Ib169pJDDj1MYFG+734HROr7BCY8DQc8ZPGua8L5cJkTEehnuDcYcnX8wttKF4/7899nv/3l+WefCapif2tDoJ81K/pAA8ckHuJ5ENMxhlV2Pf2c7s9RRx+rD1uaxZuMpKt7rCONMFEvCOiwacHGSv0KRk31R+8fgHvhngJ9vTik7CQJkAAJkAAJkAAJVJ1A586d9Wb2h8BvubeM5NJZiFbEAa44MGFmnz59sgLvWeMVbNwYe5ErvERD4XR8+4VUno/9j+9vQ0iTk3vwVNF5jeNcVU5Z/ehYKe8E3G/UWdFDlA/EeAjzyFDhIaE95L0vud4AXId4q+FJk74y4XKDDdrnejMZ28PDX29B+8H77wUCPeI+hOv4vEzLBQvmyzln/SGlGFbW2frFhr/1uGu5AQMGprQZz5iTxso+nWs4uNGpKLz91puRYvjmb9++fcQvPkTzPsf2jdTLRyLuC79Ll67q73y3iEA/RgXlFIG+f38ZOHBQpM+wtof/9JFbbim/OPqXMmBgeqZH/eKYiECP/frPA/fJ//73XzlcfbLDT3o64Tdu3Q1m6UIHPefDwQv7uTp+4bbTxeP+/I886mh56YXng3Pu008/sbEi3cOFdO1VN2/+/ORbCGgDfwviAW6B4mHOnNn2FkI8HxMhr1bx3ruWgwudyvzVV/dYx7fNdOETsLFSR09cJ6mzm+A+AD2HWI9x1cZWKy/8/WEPSYAESIAESIAESIAEqkEAN3Jdu3Y1v57wyY2LQwt+wXRaHuvWwopwhbFLdzOc7lB41ljP+6NPV68+5KH/Ndp/5YfQ0M83LzrjN1ad8wTrO1CJRQP9PVbn9+SI8DvXBJxQkL5VlGHCWOcvF8tkPZya9nv2eYlztcjqJ+vVp9hIFYthoe0DJniszTB06LBgcx984CYHBWPvVxyF4TpB5QwRiIPffP11yuezhJ/yDKvJvTpZ6G233Cyn/O5EueafV0aqQXhMZwkfqaSJTHOixOtVlo77dd9y1CgTtcPr1ZYf+rgv/C1HbSWDNh5sBg++P99/923aCcv/ePa5amntJm/1dbHEhMBnnXm6nHf2HyMTtvo6Q4cNk/32T7WSh7/4e+66Q4456nD572OPJsfWxIr+QY9vp4k+/EkXmjaNWnX7MShXxy/dNn1e3J9/t27dBSL4oI039lVM4I770g8KcxiJP4RK90AALmjiAWNZutCqZSt9eLN7UPSYTugbXP8EudFIdY91tBWm6gcBHUADFV57nIjbeBzO16IGZ0Ff2Ssn9eMAspckQAIkQAIkQAIkkBsCbdu2tYbwSi+uk0xI1AtCd/OAK0N34Ri5mWjE5atXr7bXmCG6enbZHglf37P216VgG+ZbyGns/8qVK+3hhN+f6u6/u8FtmOcXXnXHJ1fnSfj8wM2bS9f/3+fq1dXnlO15x3r5IQDxALbzOAuTwr7+nhGg3tt5inPVZdW3b+wTJjK98fp/WdcxwePhRx5Va7sxfORI+eijD217cN0yf/58WbJ4cWBVj4ItRowI6uSrY6++8nLGpk8/48yMZbkuwNgTdu+C9uECB+NISUlJYGUNa3TMGxB+uJLrvqC9CePHRpqF9TvekBsyZJPI5Kqw+scksOEAVzI333a7/P2iv0Zc9vg6eGPj9FNOlgv/9nfzAe/zsfztSSdL127d5O477wj22ZdDiL/v3ruN0/nqMgdvWNSXkMJTH74g4MHHV19+GewGHtJsvU10/oKgsIAjhx1+pPjfEn7Pb705sdLeNtRjXemON7IKzkbejaNhlzYRDBhoNUSnQXZ5/CYBEiABEiABEiABEmhABCC0wlULbi6XLVtmwiIsiNabf2EvBiZ3OCkWOuUlmXZ1kun6X459gcU4xAGwASOwqqo47el51hB/MEkvRNzw2wtJdnGWdZOG5Zzff/QXIRf77861pcY1vP9oP8mg/pw/6DN+MzhPwClX5wnaQXto1/0mww9z6g8fHFeE6O+p5pxcq/zOJQET3iGwZxFMTNCqqO1X8esj7fMg0teHT3iX0d9dd909Yun8xOOPh6tYPLxf8cJwGeJxfz/h8vi6gwYNjmTBcvj9kHsbWGB3757qG9u3GVlZExCxNx48JOWzhU5+69exPsZXzJA+48yzZZttt0+um6Ze0G5FZVmeG7AuD4fevfuoOA8r9CIZOmzTcJFMHD8+2a9E++EKQb+y3Ha8/uLFSwQW3+EwdNhmtk243QkHCMrx9ZFu376jXHv9v+Uvf71Yeqof+XjA3/v/+9tfZfGixSnr77f/QXL3fQ/KvmpNj+MaD3iw88B99wbruV9otFa6Pmm3UoLVS8mt2u85ft6jufj2x40dG9nKlltuZXVGjIjyfPedt/WNDIyDqW1EGsA20mzHr1dR3XgZGvLrhZfxen578Xyku3TtJlvohLs+PPzQf3w0uUyznaoe63D/GE9/3AqOi54BEOndOOrleverRR4C+oycBmdBj91iIAESIAESIAESIAESiBKA5XxPnQgL1tEQouHCBK8318arzdGeFFYKAileb4a/XPiRr2xC2Gx6D9a9dGK9+sA6X/vf0M41csrmzFfrrzz8nrLbMmtVnYAKBaawmzIQrB4W3VFuwoFOZieYHBb/VFGwPKxm6kJ0/aChehDBxJsH/fwQefjBB6y3Y954rdZ6jYdZsMb+6itnPQyBetHCBcH2t9p6G33AuzJIVxbp0KGjXHHVNZVVy7o8LkRXtGIrdYUTD5hwFnyzDfEJRJfrZLWPPuzcDi1XFy/hMFZ9vx948CHhrJzG33n7zZT2nlI/8AgzEhOr+gqf6AS/sGzPZM0OC3GzEtfjfOvN/5apoUlwIdI/pOfeSSef4psLlnjY/9sTT5Zjjv2VPP3U/+Sh/9wflCHy1JNP6OSxh0tbdRPTunXrSBlc4qQLK2MTAPt5AnJx/NJtz+fBdzveeggHuHL65utJKdo+WH7x+WcybNPNwtVzGm/SpKk+EE/+tpYtX5bSPq6R46Fli5bxrEgaPvU/TrwV88PUqZGyihJVOdYVtcOyAiWQGCsxbmIoxbiJodOiiQHXjcUN0MVNgR4SdosESIAESIAESIAECoIABOhciNAFsTMF3onGzrqx73+2pyc5ZUuK9WpCwAsAFbeRnMDOifNeRtC1TIzXpaoKJtBrpLioRLN9QcUtF2rpfvsfKI898lCKO5F89xcPcLfbfseQQP9upA/bbLtdWv/mue7Xff95xCa4/O2vj4s0/dwzT8lRRx8bycuUwES08bB02VKJT7p7y003yvTp04KqB6nIPmqrrc1Q4P333g3yEZk/b548GBOlfYXJk7/XN4+WSJs2bX1WTpeYiDYeMvUF9TCx77bbbW+rwLUJjq0PWwwfLnh4gocx1153o/z+pN8I3PT48OWXn1sUk9J+8bmLIwP+2fGQBOPDEUf+Qvr26yeXXfJ3v5otwQFW23H+i5csjtTziQULkg+AkNe9ew8riq+PzKocP2ukgq+J6j4qHh5/7JF4VpAG/3wK9BtuuKFNCu03uGjhQh8NlgtDD8t8Zmddr6IwWI8x3vyYNu2HiqpJTY51hQ2zsDAJ6BDpRkkdPC2Or0SODaYa1yXmdKGLm8I8hOwVCZAACZAACZAACZAACZAACZAACdSYQHbifHIzsO7GJxqcoODs/lRf0LclUCNeK7pO4adgfbzrbntU2tG42zNYP8ffQINoHA5t2rQJJyNxuD/betukr21YDqNNH0aoj/rVWqc2AoTHTUKT1mKbTz35v5T9y9QXzLcStyCfPi0pxPv1xrzxullHw0IaH+++BXHsf1UCfL/nI8Dd2KeffFylpsPW/zdcf61c/6+rg89HH34QtIXf4W57jA7SiPw004n12GZ4vX9d889IPbiE8bx8wYwff7RoT31jLxxgQT9v3txwlsW/njQpkgdf+Qg1PX6RRtMk0j3wSFMtyHpz4oQgno9Ij5jLofDEzH57kxJvtvg0JkyO8/dl4eURakVfWajJsa6sbZYXJoH1+gYahlR78J3oIkZUeyvN5Hsn0lOgL8zjx16RAAmQAAmQAAmQAAmQAAmQAAmQQM4IpBPq43kuDVc2XpBPbB4WfsG/ZJdS6iWL6k3s0MOOqLSvPXv1TqkTntwShZ+r0BwOffr0CycjcTwAgeVy+w4dIvlIDBw4yHzjlyfmiUmpkIeMnx9yaKRVuNeZOGF8JK+iRPceUX/5r77yUqT6999/l+Kyp/+AAVZnfGxC1siKGRJVFX0zNJOSjbkAqhpg/e8f1nTt0jWyOnyqh0PcWru42PmY79ate7iavSEQdqeDBzrhBzioXFzi5DxMmBsXjx9/NGqhDsv++AOkvn2T52dNjl+k47HEkiXqz18t/asS0M8pkydXZZUq1d2of/9IfTwQwBsbPmDenCf++5hP2jLMKlIQS2y3/Q6VvtlRk2Md2xyT9YSAm8/FjaluHHVivQ2zmm3lui+l9WR/2E0SIAESIAESIAESIAESIAESIAESIIEaEICgHhbVw/GUZlU4KIIGWB6ylLc8zQzE4/puQy/StZub4NH7j07hoBlwNQIr2rB/739c8jc5+uhfSmu1lIdgHBb50IYXoBHPFLbViViff+6ZSPE2CXcpkcxKEvDxfcdtt6St1bRZU/nlcSekLfOZI9VCGy5jwiLu4489LDvutLOvUuESbliuuOySoA78xEO0HjFylCxRlyuPJPzJ+wrt2m2gblw2sOSEmAuUQw8/Ug444CBf1Zbge/ttNwd5sEKGtTvmfImH9959JyMLTLwaF0jD64et4ZE/aOON5S8XXhyuIgvU/ckfTvt9kAfrfzyc2Wyzze1tjLAg/c7bb8mNalW/9TbbybfffC2vvPxisB4imwwdaukhmwy1hzLheQfOP+8cOfa4420fn3/26ch6SPjJc/Eb/vkhh8ljjz4c1Hnxhedk0aKFxh9Cv/eh7yv0HzBQBg7a2CfNjU51j1/QSJpI3J8/HiTcec/96h7LPVzwq5xy8omRc2/cuDHSb6ONfHFOl/vsu7/NO+EfeGB52qm/k4N/fqjNR/TySy/IzBkzIts8+pjjIulMCRyLw444Uu6647ZMVaQmxzpjoywoWAIQ5Iv1vPAjJR7O4jxBuljd2iDYOKxRCvSGg18kQAIkQAIkQAIkQAIkQAIkQAIk0HgIqEaQEpxrm4Qvenv1Xl3ZFEGh9/KCey0fKRMVrE5KM/UuIzzBY6bOH3/Cb+TfN1wXFEOsD4vGQYFG+vbbSDbbfItwVto4fM2nCPSaV53wrPqNTxcgilYm0ONY7nfAgZHJSDHRJSyZsxFK4YO9i1qPw7+2DxDVM1m6n3HmWVYN7YcfeiATTDD5aThsu/32Kazh+x0Wy/GwePEiycRio/4DMgr0eKAQ94W/1dbbpvQFfcPDBWzHhwkqKEOgH73nnnY8w37mX33lZcEnXdhtd+fyBsfoxN/93tzc+HpoH+J+utCxUyfzd+7LDtG3QJ55+qnIWwpwA5TJFdDvYhPTVvf4+e1nWsaPP/y0x+cmwLrDR4yUcWPfCJqZoOfOcb+q+KFSULmKEUyKC8H9vnvvCtbEOfif++8N0uEI3D8NHTYsnFVh/Gd77i333n1nyhsPfqWaHmvfDpf1g0Awcpowr31OiPMYfjGshsfh6GOr+rF/7CUJkAAJkAAJkAAJkAAJkAAJkAAJkEAOCDihPdlQUZHJ78kMiAhIqR9d/LOExgOTwGTNehvzEzxWtAOjf7aXbKoibGUB/tjPPudPiQcYFdcequIfBDsfYMXeI+Yuxpfle7n33vumbKKiyTzjlf9y0cVpXfbE6/1sr73VsntLyx4/fkykGCz6q4geD5hoNe4OKCzoxutXJ53OF/5IfQMgXYCgHA4TEu6AmjdvIddef6O5KQqXp4vvtPOussOOOwVFu+2+h5z7pwuCdKYIGP3t7/+IFMOP/MX/9w97yyNSkCaBBwFh63lfpTrHz6+bbpnOn/+WOvFtuoAJccMBb4SEH/aEy3IRP/Cgg2WP0T+rtCk8aDv73D9VWi9cAccCk09XFGpyrCtql2WFSMANoBhn1ZY+Ici7MRbjqo2pWGq5CvQo4IcMeA7wHOA5wHOA5wDPAZ4DPAd4DvAc4DnAc4DnQEM8B+IifCYZI1zPTxRreTDzc2qCWxVxCzhfCj+UliZF8Ey9zWaCx//7x+Vy+h/OSutnGsLpzrvsKnfd84DEJ+7MtM2S0tKI6L/1NttkqhrJb1LaJJLOJpGOQfjhACzDt9o6uv2335qYZsLg9FvrpX76b771DmMAoToeYGF/8f9dKr8/5fSg6P133w3iiOABSPgcDBeOGOFEfZ/n/cWn2y9fpypLuMYJBzxo6duvXzgriMcFZVhg//jjdCvHvl925dVy0MGHRKzc/cqwvj/rnPPkj2ef67OCJd4I+MdlV9kDDLhUioftd9hJ7rjrPgHreNh48BC5/c57BXXik/biOMOtzXU33Cxw8ZIuVOf4pWunVM9pBDzwiAe4PEoXhg8fkZIdPzdSKlQho0mT6O8Fv7tTTz9T/vyXv9qbH/Gm8KAMc1Nc868bBA+HwiGb3x6OfWWhJse6srZZXjgE7O+ZvYGmUryNm1i6AdT7nkdvzZq+rGxd/RhRC4cve0ICJEACJEACJEACJEACJEACJEAC9YLAmjWrZeHCheoTvEx93hbbp0h9QJvmrl9eLMDSxSER4GV7lQ9UNfATYJaXI7/c0i4u6uqjvfpnb1kvOOS6k5i486eZM2XFihXSvXv3FAvvXG+vvrW3ZPFimT59mrmD6aZ+/iGKNsaASUcxSS5EcrwdgfkMsg2Y1wDucjbs0kUwGaz/rWazPlzk/Dh9unTs2Em6dO1apXXRfmM6fvBDj3N11cqV0lcfyqR7wJQN85rUqcmxrsl2uW5+CSxftlTmzZttG8HfAIy9JZjgGcvQeCz65loRBfr8Hgy2TgIkQAIkQAIkQAIkQAIkQAIkQAJ1RaCqAj1E+eLiEhXn1fe8ivQm0Ks270R5l0Ye5HpYA7dokWrpW1f7yu2SAAmQAAmQQKEQWKYC/fx5c6w7xSXqxqa4VD+6LCoxob7IJop1D8fpg75Qjhr7QQIkQAIkQAIkQAIkQAIkQAIkQAJ1TCCtlS7eyDeTeyxdHPXS1q3j/nPzJEACJEACJFAIBDBsYszEA21EvOs4N45aZjCOUqB3PPhNAiRAAiRAAiRAAiRAAiRAAiRAAg2agBPUoRgkQzqR3VnPo45TF8w/bmg1l6vFTnVINsYYCZAACZAACZBAkoCOk/ZAW3P82Il0INYnyinQJ5ExRgIkQAIkQAIkQAIkQAIkQAIkQAIkkInA+oRK763nzTwwU2XmkwAJkAAJkEAjJmAPsTFuYk4XXWDMDInz63VMtSr6TYG+EZ8n3HUSIAESIAESIAESIAESIAESIAESCBMIrPrM1s+VBNZ+0BbsH0z+wmsxTgIkQAIkQAIkECFgD7ORoyOn+ZvXqFPkbSR1JTpBrNajQA8aDCRAAiRAAiRAAiRAAiRAAiRAAiTQQAng5r+igPJ4HQj1JhoUO9nAmjALQG3JEmgzoTRU1DjLSIAESIAESKBREnAPszFkOldxGrH/fonhVOMaKNA3yhOEO00CJEACJEACJEACJEACJEACJNCYCHgRwO8z0vE8lKXmqVCvyoHlOx3BmnCW9KEM3zCXJEACJEACJEACRgCjpP8ED7VDQ6c6vzHxngI9TxgSIAESIAESIAESIAESIAESIAESIIEIAW/xB2kB/3wIhHnNov28p8IlCZAACZAACUQJYLw03/PITgyjLp0YPTXPPyynQB9lxxQJkAAJkAAJkAAJkAAJkAAJkAAJNGgCiTfqM+wjXNukFjlRQeUGFKIcb+6nq5i6asHkzPppplz5j4tkzZo1BdMndiT/BBYvXiTXXHmJLFmyOP8b4xZIgARIIEEAMrz5nrcx1T3qRtSNnRYLBPxSUiMBEiABEiABEiABEiABEiABEiABEmj4BLylXqY9DQvuTns3VSHwnQu/9OXebL4IEf/J1GLh5C9fvlxuu+k6WbVqpcyfN0em/TBVvv7qi0gH23foKP0HDpJNhm4a5L/z1sSUer6wZ6/estvovXxSli9fJv995EFLD9E2Rm29bVCGyLtvvymTvvw8yCsuKZH2HTrIoI2HyMBBg4N8RJYtXSpvvPaS9bO8vFw2GjBQRm21rWzYpWuk3qKFC2TcmNdk+rQf9Ditl569+shOu+wmHTp2Cuo9/b/HZNHChVJaWipHHH2clOh2ESaMe0Mmf/etxX/xyxOs3BI5+Jr8/Xfy/rtvyeFHHZuD1rJvoqysTD79+ENZsGC+7J44NrN/miHz5s6RG6+9Us694G853c/se8aaJEACjY9AMGAmHm7rmKqDq5vjxZfpSKp/uynQN76zg3tMAiRAAiRAAiRAAiRAAiRAAiRAAgGBsDAfZAaRpAivsoLl4rvidYKVCyby+isvmDi/5ahtpFv3HjL2jVdlUkygR2ffmjjOxPJf/eZ3to9TJn+Xth7qLlu2NCLQf/7pJ0HdGTOmpwj0U6d8H5RjfR8mjhsjw0eOksOOPMay5s6ZLdddfblAmPfhp5kz5K0J4+Tk086UHj17W/aUyd/LnbfeGKk3c8aPJowf9+uTAtH/048/khUrlts6A957W7baZnuLf/ftN/LNpC8tXq7CtirXFq/u16qVK3Xbb8v4ca/L0iVLrJmKBHr0/8XnnrJ6+x90iD1cqO62F6ogP3H8WHsIsm7dWmXUKxDoBw3exB68fK/7+9Lzz8i+Bxxc3c1wPRIgARKoAoHEW2cqwLvH3clV/RhqdvQq2tPFTZINYyRAAiRAAiRAAiRAAiRAAiRAAiTQ4AhACPBiQHznfL5fqvSuVZJSgq2ractJFCVS8aYKNr127RqBJTzCHnvtk9LPvv36m4DrC779ZpK8/eZ4nwyWqLfxkKHBB8JvOHzy0QdBEgI1hPZMAW1BRPbhow/eE1idIzzz5H8D0R1W+t66HoL9ow89YHVgcfnog/cF9dq120AG/z97ZwEYx3Vu/293xSzZArPMzCE75iR2mNMwtmnTNGmbpim8/vva1/a9MlPSpGnIcRx0wJA4YHYcMzODLFtosbTw/84dzWp3vZIlW7YF5ya7Q3fu3PnNasd77jfn076hoN7M6XXbzMrat88+/ihwsdnm0Z+f/fcPZM4Hs/zi/KkaP6HWM4j8x+tEraB/qn3Cbd+3d4/89pc/k2VLFgrE+XDlyquvM6uXLl4gVZWV4apwHQmQAAk0MwEkgDVpYM1U30z75h6qs3V3WkbQNzN4NkcCJEACJEACJEACJEACJEACJEACrZ8AdATL5gZGNpaSYAvzEBxqg+lbxYmuXvmFEa07d+kqSUnJJ/X5S3fdKykpqbJ/3x555u9/NtvXrVklYy6dEFTXrhe0snahuqpKECEfWDasX+uP4g5cj/nb7rxHUlPTjD3NvNnvmc2I1u/Vu48cOLDPLDudTnnksScE0z//7peSm3vUiP4YcED0ObzVUYYOHyl3qHUNBlNmvTXTRJEjYn7r5o0yeOhwU8d+wz6w9sFAw9koUdHRplnwaKggH8DGDev8VTC4ERsbJz179TbrYAWECH8I7t179JQRoy4wHPw7BMyABwquYVFRYcCWulk8dZCQkGieelivFjgXXTK2biPnSIAESOAsEcD3stHlawfKAwe7zSE1dB51GEF/li4AmyUBEiABEiABEiABEiABEiABEiCB1koAgoGR5n0qy9cKDEaXV23ehP3pZqtOyz/DzZvWm05mZnVqsLMQgu2Sn5dnzzZquq3WKgaVIyIizT6BEfX1NdKlS10UPSxiUOLjE8wUkfC7dm438/c88LA8/PVvmpfT6ZJjKtbbZfQFF/mvxfCRo+3Vkns0xz8fOPPxR3MDF5tlHp8F2Or8989+Jb169Tllmxhg2LJpg7/eRh3M2FQr2L8+42V56T/Pmoh4+Pa/OXO6/OMvvxf4y4crWVmd5RvfetL4y9sDBOHq2f79eFqBhQRIgATONgEMaptbqR0rrwsmaax9YJPLxVqgQG9D4ZQESIAESIAESIAESIAESIAESIAESOAkAlY0vSXU2xst0R5qfcsvBfn5ppMd0zMa7GygoJ2cknJS3VlvzpQZr7xgXq/pNNAjHolJUSDOT5h8mZlHYtITJ4rNfLg3CM7r1q7yb7Itby648GL/uheee1peev5fKk67TXQ5IsyR5NU+J1RMUnsbuyQmJtmzkp8fPMiASHyUw4cOCrzqm7v0V8sf+xinaht5ALp17+Gv1iO7l/Tu009tfnYKnl5AQVu24I7+woM/XElMSvL78ofbbq/r0NFKnNuQ9ZBdl1MSIAESOFMC5g6JQW5tCPdMW6y3Brextq6cWQaQunY4RwIkQAIkQAIkQAIkQAIkQAIkQAIk0MYIwM7GFuONtY2en89E1beeEy2utT3p2DE9bKchtiMqPdCiZtCQYSfV3bF9a9C62+681yxDqIclC0qfvv3UC36QfDp/nlnetH6djB0/0cwHvv39T7+T6upqv2d6XFy89O0/0FSZOOUKOarR74gqR0EyW7xGaaT8zbfdaYTrQK91CPZ2iYi0ovex7Ha77dVmGhMTK/0GDDQC+Kcffxi0rbELixZ8IkWFBf7qvXr3lSHDRviXGzuT3bOXjB03UWaqjz7K+ElTZNDgofL26zP8TSAhbnpGlvz0R0+ZdWvXrJRxEyf7tzd1pkPt9bcT5jZ1f9YnARIggaYSsCziINLDj94W6XEfte6t1hYd3G1qw6xPAiRAAiRAAiRAAiRAAiRAAiRAAiTQOghYUXsQBUwMX6M77RcPdD+feI2tjRX9pzGBCAtUoaE1FHih25HutkAb2u8D+/cFrUJi1kkqkocWJGuNiY31r7aYiuzetcN/DHi7w+8c0d84LiLkwwn0oSLxo9/8jlrbxJu2se+d9zwgF148RuZ+8K7kHDls1q9Z9YVEqgB/w81fqr2eVldwORpbJl821Qj0sJfJzMxq7G7+eki2W1hgPZGAlRhkOB2B3t9gyMxxferALp06dzUcEfkOy6HQJwLseo2dduhgRdCjPhLFRsfENHZX1iMBEiCBJhMIvO/iexpivHX/DLaIw3oK9E3Ea0cMNHE3VicBEiABEiABEiABEiABEiABEjjPBGxB9Tx3o/UdXpUFww5ivfG7gcZgRf+1+JOxRhVMN6urwycu7dO3v8SoWJuiSVt7ZPc8KbGqfY433XaHSURqL9vTjeusSHcsz539rnyiHu/2oMChgwcE3vKBwj7qIXoctjilpSVY9Ee7Yz874h+WN48/8T3ZosleX3nhOVMPAvn1N93m96nHygpNCGuXivJye9YkRfUv1M6kZ2SqVU4fTTK7yySdDd1+qmU8HXDsWK6/WtduPfzzzTFjJ3yFVRAGKlCSk1ONQO+uqTmjQzgcVnumkYDPxRk1yp1JgARIoAECGMoOGkQNGdu2LOQYQd8AwpM34R8iXi8eSfDWPYrAL/WTQXENCZAACZAACZAACZAACZAACbQAAvgNZwdZwQaEAn3wRWmIh70N/DBvcbQi8W2mwa21zKWoqCjjCw9LGPi2Z/fsfVJHb/7SnWGF95Mq1rNi00YrCS02I2Ifr8ACgR32NIHl0gmTBJHh7896y6yGdcytt98tJSUn5Le//JlZh4GDh776qLF+QVQ/xH6U4uIitX7JNPN4O3TggA4s9DLLdh0s1Oe5f9nUq+S5p/9q6jf17bobb23qLk2qn5SUbPzxcb3sgY3jx60BgfgEK3lukxoMqJyXZ0XnQ/yPjo4O2MJZEiABEjgLBGrvn3oDRey8iaA3+ry1YK3R+yvusYygbyR//AME/m0VFeU6Ol0u5WZUWiE6Q4Y+Gtkeq5EACZAACZAACZAACZAACZAACZxFAhqyZqK89ScxxPmU1FRjIYIfwni159I4BuEj5PWnsZ8f5ltDSU5JNhHYBSFJU5va953bt0liYqJ/t/j4BHG6nFJZWWHWIfHpkKHDzXylivSLVXRHWb929UkCPdaPvuBimf3eO5YVjiZGve6GWzRaPEXgRw8LHCRMXb1yhaR16CBHc3KwiynY3lu97u2CqH08HRAZGSUfzZttr5b+6jcfrvTq3ccMDsA2JrTs2LZFajRSHZHx4RLlhtY/k+VIHTyxy4F9e6W3+tl37tLV+O1j/cf6JAIGJkpOnDDVOnXqYlc/rSmS9qLgu4CFBEiABM42Adwi/QPa+u8O/JtEb6BhD0uBPiyWk1cCaJXeYAsLCvRxrmOC7O4aTO//h8nJe3ANCZAACZAACZAACZAACZAACZDA+SYQoeJ8dGyM9FVBEzYmERHt+2dwPdpAoy8TpAX8FnZqQ2faVqMPeoYVO3TMaBYP83fefC2oJxCTe/Xp6183fuIUGTHqAv/yiuVLTDQ9POpDE7aiUpRGcaM+vOVhbfO51p84+XKZetW1MuutmWbdW6+/6m8PMwPU4x5PBeA1YdJlgsh77Dv/wzlB9eBfnxbguR60URcuu+IqeX3Gy6Gr5ZUXn9e+1ggi5cdcOv6k7c25onefukEGnAeeHrjm+ptkwafzzTktW7Iw6HCXT7sqaLmpC3nHj5td6stF0NT2WJ8ESIAEGiJgggFqb5R6xzT/QV+2ggSwrKV2pLt9/8ukIYoh22BrgxHpfH0k7qA+PrZfR3fhIWeSuOAfJhbWkL24SAIkQAIkQAIkQAIkQAIkQAIkcD4IeDweI4pWVVXq4R3SIa2jpKdnmGj69h5BX9/1ABd/tF9ApaBIeVUUHLoCkYGtpQwbPlIQGX60Ntkq+m37m2O+oc9DYD3UDS2bN27wr+rTr79/HjN91aJmsyZjhYC+e+f2oOMYYUbrjJsw2Qj0qA9BGgL9RZeMNYNJ82a/J0VFhdhkCsR8JIi1y5XXXK8R/Uny4dwPjKiO9bBvmTjlcply+TS7WtC52iuHjRgl773zpj/6317v9XrM7JkMZDXWaQA2MxhkWLLoM8PI5XSZpwceeezb8rJ67tuR8zinW2+/y0T12/08nemx3KNmtxEjR5/O7tyHBEiABE6bgHXX9OngtrP2XoC7qKrJRsBX0d7jcbem++ppgzizHWFv49ER9+N6c90k2/Wxtp07dqifW7pmPc9Umxsb7pkdhXuTAAmQAAmQAAmQAAmQAAmQAAmcIYHaX7jVNdXGwxpPQJeXlcuNN98iF150kfGehuVNeylIullcXKwCqEeFAKeKtZYgAFHAfoGFPV8n0FtRfhDn8YKGYOdjg+CsErcmIU3QSO6W7+WNwZqf/+SHJpr9uz/4cYOR5S3tcwE/eySSRQLbhgYLEH3u00cbkpKTT/sUjmvy1z/+9v/M/t/8zvclq1Pn026rKTsiYr+0pEQtdVLN59Det6ysTJAYtjmsdvbt3SP/+sefzQDAf/3kFw2ytI/PKQmQAAmcCQF8hxUVFZgmcO916iCkPUWgN+6rGNDEv0kYQd8o0rX/cIEQr+BiY+M0IUuG9O8/QPr176+ecwrYjHg0qjFWIgESIAESIAESIAESIAESIAESOEsEjD6vb8gfdkK9qzdsWC/79uyp/VHM4KpTYbei+eyn7i0BwdoHory9HnF/radA/Bg7boIs+GS+fPDu23LfQ19tNZ2HDU6avk5VEEl/pgXR/ijwuM/M6nSmzTV6f0TIYwAitBjHgtCVp7GMQac5779j9pw05QqK86fBkLuQAAk0nQCkYgjyXvjCaTGiPO6eeAoN4nytloxBcAr0TeBrQGrEAbzecPPL6tRJevfpU/uIpLMJLbEqCZAACZAACZAACZAACZAACZDA2SRQWloqBZpDbP/+ffgVbH4I2z+Gz+Zx20LbdVH00BFUSFDxwGYHPcGnygKW8V9rKZMmXyFrV600CUgPHzogXbp2by1dP2f9LNdoT5QHvvI1//U+Zwc/iwfaumWTHDp4QAMtM2WMDtSwkAAJkMC5ImDun3owc7fEW8ht0763UqA/nSuiMAEQjyZgJN7liuAI7Olw5D4kQAIkQAIkQAIkQAIkQAIkcBYIQFS2fqsxYt7GawR1qOtnWMDWtKJvrcmJHpHojzz2hMx89SUNtutyhhTa5u5XX3ejXDb1KmMD1ZbOsEd2L+nVu6/cee8D5nuhLZ0bz4UESKBlE8D9EtHyuHPaA94qKqsTC/qNdVaUfQRmWE5NAJyAyvDyMwNNRM5jasjqlIUESIAESIAESIAESIAESIAESOD8E7B/p+kUv+dCXue/f+emB2f6m9+K7rOi6NFjaPzWb2P/D+NzcyLNcBR4mX/10W82Q0tttwkkbm1rBVY5X3nksbZ2WjwfEiCBFk7AVorNv0b05mndT82S9tzeap0EfVla+MVk90iABEiABEiABEiABEiABEiABEjgbBKwRIP6j4CoP38J0BROtZ9/H86QAAmQAAmQQDsjgDunuU/6n15D8vVgCPZ9lAJ9MBcukQAJkAAJkAAJkAAJkAAJkAAJkAAJ1BIIFOchJBjfeTOtfcKcpEiABEiABEiABMISMCK92VI30G2L8vYOuM/Sg96mwSkJkAAJkAAJkAAJkAAJkAAJkAAJtEECEAOCguADQvhChYJwp2/vb4n1dmpYS2wIbDfcvlxHAiRAAiRAAu2TgBUuj7ulEwPbZnBb1+HGGXAfht0NI+jb5yeEZ00CJEACJEACJEACJEACJEACJNAOCdiCvD09FQKrniXG+/ehKn8qbNxOAiRAAiRAAsZpvk6LR2p12NxAuNepndZUlyjQ88NCAiRAAiRAAiRAAiRAAiRAAiRAAiTQaAJGXDCBgZZw3+gdWZEESIAESIAE2hMBvVdaz53hpmlF0deJ9HUgKNDXseAcCZAACZAACZAACZAACZAACZAACbQbAv6IeD3j+uZtGHYEIKa18fRBtjl2PU5JgARIgARIgARAwLpb4j3wHhuODQX6cFS4jgRIgARIgARIgARIgARIgARIgATaMYFAMaFu3ooAbMdYeOokQAIkQAIk0CgCdsYWVA5KuG6MbxBPr7K8qvfYRoG+UUhZiQRIgARIgARIgARIgARIgARIgARaMwE8Wt+4/tcJ8lZ923LeFhhCtzeuVdYiARIgARIggfZFwNx2fZDqrf9MUL3DxNQbELif4kWBvn19Lni2JEACJEACJEACJEACJEACJEAC7YzA6QjqgfvY85ja8+0MIU+XBEiABEiABJpEwDK4wS465x8g988EtUWBPggHF0iABEiABEiABEiABEiABEiABEiABOojYKLoVV9wUE2oDxHXkwAJkAAJkEAtAQjyeFkiPRLEBqj1fusb3lJrcXFCAiRAAiRAAiRAAiRAAiRAAiRAAiTQEIG6eEA8kM9o+nolcIoAAEAASURBVIZYcRsJkAAJkEB7JuC/RwYEzfvXhYChQB8ChIskQAIkQAIkQAIkQAIkQAIkQAIkQALBBGxRwfjR1+n0wZW4RAIkQAIkQAIkUEvAipfHQvA9tO4maq+PIDMSIAESIAESIAESIAESIAESIAESIAESaCwBCAr6vxaIDHVCQ2P3P5f1brr+mnN5OB6LBEiABEjgHBF4573Z5+hIp3mY2gzr9u3S4bRC6a17qH0ftdqmQH+ajLkbCZAACZAACZAACZAACZAACZAACbQXAsZ7XsV4h5rP+3xePW0IDS1foG8v14fnSQIkQALtj0DLHiBG76zBbL1f6v/Q682d0yyareaSoQ4F+vb36eUZkwAJkAAJkAAJkAAJkAAJkAAJkECjCCDSD+K8/Ri+ERh0nSU6NKqJ81rpnfc+OK/H58FJgARIgATaJwHrPglJ3ipmDuK8edWtxz1WBXqMfLOcmgA42S97hMZeroN66nZYgwRIgARIgARIgARIgARIgARI4OwSwG82+/ca5u2Xve7sHr1ltW7/fq3rlf14fd2a8HO2KB9+qxUNWN82ricBEiABEiABEsA9WAe1Tex8/TSYJLZ+NtxCAiRAAiRAAiRAAiRAAiRAAiRAAq2cgCXQ22K7PT2dk0L0vDXYgSA1RNEzWO10OHIfEiABEiCB9kHAFuZNuli9ZVr3TTyZhvO3pyIU6NvH54FnSQIkQAIkQAIkQAIkQAIkQAIk0A4JQAywhXR7eroY7P0tP/rTbYX7kQAJkAAJkEA7IGCNjwedqCXM20J93SYK9HUsOEcCJEACJEACJEACJEACJEACJEACJBBAgGJ8AAzOkgAJkAAJkEAjCTic1gC5GSg30fJYhj2cxtPbSn1tWxToGwmV1UiABEiABEiABEiABEiABEiABEiABKzIvxBtgVhIgARIgARIgARCCCCI3uHQd2NvY4nz9tNoqGrPU6APAcdFEiABEiABEiABEiABEiABEiABEiCBkwnYEX/21PKjP7ke15AACZAACZBAeydgD2TbU+SrtwV5e2rfTynQt/dPC8+fBEiABEiABEiABEiABEiABEiABJpAoC43LJPENgEbq5IACZAACbQrAr46QR4h9KboOqPGBxvUR7QrLjxZEiABEiABEiABEiABEiABEiABEiABEiABEiABEiABEjiLBBAlj/9UpTcWNziUHTkfelhG0IcS4TIJkAAJkAAJkAAJkAAJkAAJkAAJkMBJBIzYYAcBnrSVK0iABEiABEiABE4iEBwsf9JmrKBAHxYLV5IACZAACZAACZAACZAACZAACZBA2yBQn7BeXyRf/WdtqQwmGLDO56b+6txCAiRAAiRAAu2YgE+N5829tlakN57zOo918Ka3b6UU6Nvxh4SnTgIkQAIkQAIkQAIkQAIkQAIkQAIkQAIkQAIkQAIkcHYIQKS3nG7U8EYVeVuct48GkZ4CvU2DUxIgARIgARIgARIgARIgARIgARIggSACJvIvaA0XSIAESIAESIAETk3AEuOtelbEPOYROV9XrAUK9HVEOEcCJEACJEACJEACJEACJEACJEAC7Y7AqUR4O+LPBhMsLthrOSUBEiABEiABEggkgLQtwRHzdVH0gfUo0AfS4DwJkAAJkAAJkAAJkAAJkAAJkAAJtFECoUI7TvNU4nwwCiM1BK/iEgmQAAmQAAmQQBgCMLfRCHk43BhrmzBValdF1L+JW0iABEiABEiABEiABEiABEiABEiABNoagXBCvX2O9Qn2JrFdbaX66thttOVpZWWllJWVSUpKijidTtm9a5fMmztHUtPS5JprrzPr2/L589xIgASCCfhOFIuvrEQc0THiSElTM/EmxkJXVYqvqEAkNk4ciclQcoMPELDkKy0R0WOJ1nPExQds4WyLJoBLGubRs0DRvomfmhZ9uuwcCZAACZAACZAACZAACZAACZAACZDAaRJorPAOsR6vBnSk0+zBud2tprpaXp3+itx0/bVmimW74Pz2798nTz35hNn+x9//Tg4fPiQvv/iCfOXB+2XJ4kXi8XikrLxMli9bJtu3bpWamhp7d05JgATaOAHf8Vyp/tcfpHTyYCm79hIpvWKEVPzwUfFu3yTi9TZ89rrde3CfVP3hf6RkbB8pvfoibWeIVP78KfHu3hG8v9stno1rpOLJL0vpxIFW3fH9pfr5vwr6wNKyCRgRXjPEWmJ8rSe9EeuDjOiZJLZlX0b2jgRIgARIgARIgARIgARIgARIgARI4FwSgDh/9OhReeH5f8uunTtl+PARcsddd0tCfIKc0GhZlBMnTphBinPZrzM91qGDB+WxRx+Rh+6/T3Zs39bq+n+m58/9SaC5CCDivfqFv0nVM38IatL98QdS+esfi3ePiuxGhA3abC3oeu/OrVL5429K9fRngyrUvPua7v8j8e7dZe3vcYt76adS8ehd4l7wYVDdqr//Wqqe+7P4Co4HredCyyEQOOhtmd1Yorwt1tf11EGBvg4G50iABEiABEiABEiABEiABEiABEiABBpDIFB4aEz91lSnsLBQXpsxXdatXSt9+vaVB7/yFcnKypKk5GS559775ac//4VMnjxFIiLoGtyariv7SgLNQgDR79s3S81H74tr9BiJn/GRJK48IAkfrpGoOx4Uz/qV4l72mfjUuiZc8VWUiXvhhyYqPuruhyXho7WSuOqgJMxZKZE33y2e1cv1tUz0kRzx5R2Xmjlvi6+8VGL+61eSsHi7OVb8q/PENfJices2785twRH34Q7KdeeFgH+MRi1u/KK8zhtf+toe2XV4Nzkvl4gHJQESIAESIAESIAESIAESIAESIIFzR6A5BXWrreDH88/dmZy9I+GMSkpK5M3XZ8qiBQukU6dO8uWHvyrdu/cw4gosbPLz86WivFyKiookLr5+D2hE4aPuNrW+2b1rp0THxMjQocOM4B8dHW1Owq3WFbt0W5EOCGRkZEpVVZVs3LhBykpLpV///qZ+fEKCHDlyWDasXy85R45Il65dTUR/p86dTZ9sGvbxtm7ZbHzx4ZE/TCP/e2T3UJ3PLds1Yn7vnj1SWFCox6mUNWvWmKcA+g8YKImJiaaZUj0uIuu3bVPBT8uQIUNNP2K07ygFBQX6RMEOcblcZp9tW7dJRUW5TJg02QxgNOdnzByQbyTQEgnUVItHbWx8BXkS8dDj4uzRy/jOO9I6SsSUq41w79myQSJLTojExJ58BprDwrNnpzgyO0nEpCsF++kfszjSMyRizCSpeXu6eA8fEF9lhXgL80w0fsTFE8R1yQS/77yjR2+tO1Gq1q4Qb84hcandVpO970/uGdecDQL2rTIktYAlzMMqztpAgf5swGebzU6gyu2TSrUDLK3ySrW72ZtvEQ3ibzImwiGxUQ5JiHGIixkiWsR1YSdIgARIgARIgARIgARIgATaB4GyslKZN2eOzJ0zW5KTU+Thrz0i/fr19wso1epRv2DBpzL/ww/lm99+QrJUwA9XPGpLsWrlKvnn3/8mxcVF/iozZ7yqYvYkufe+B6Rjx44CgX750qXy3ruz/HUCZ3Dsvv36mSS08Lu3S2pqmnz7O0/K0GHDTN9wvLUquP/jb3+TwkJNNhlQHvzyV+TiSy6R9999V1avWunfgr5A7P/BD38kCToIsH//fnn2mX/Kls2b/XXemPmaXHb5FXL3vfdq8ttUyTt+TJ7+xz+CjhGniSoHDRliBHr/jpwhgTZMwKcDab7cHHOGzi7dRSIjrbPV5LCODumCdb6jh63EsemZJ5FwJKdKzBP/LT6vRzAPcd4UKLYq/psSGSUQhZzde0nsX14Sh9MljtQO1ja8674+O2eGJqcVZ4j6W1eTc+eVgF5Tc2nwZl0jXGanuV5YttV7EQr05/VC8eCNJVBW5ZPjJV45kOeRorK6D3Bj928N9SJdImkJTslKdkl0pFO/i60/3tbQd/aRBEiABEiABEiABEiABEigPRHAb7K29XulWCPi582dK6+rKB0ZFSUPqa3N0GHDVUhpWuQUItl3qm/9v599xojz48ZPkAsvvEjy8vNk1ttvmch8RLfffsed2rb+CAwol11+uQwbNsIko33nnbdlx47t5gWbnalTr9S8k14zeIDktYsWLpBevXtLvEbx7961S5771zNGOL9i2jQT+b5v714j/M+cMUMyMzPkmmuv0/VD5I3XXzcR9Lfc9iXpq+3CticvL09eeelFI84PGz5cJql9T8mJEpmlffjk4/nSvUcPufLKqwJ6as1C+M9U65/EBCsC/6QKXEECbZGAzys+fXIEke+O2Dg9w4DvQhXWHfr34M07JvqHFv7s9fsF0fMBe5n2vNs2Ss27M80+rsEjxIHoe1eEP2rebsxXXCielUvFPfdtcQ0YKq5efVXxDf4usetyen4J2NHxRoi3QuZ1sMVp0hPY4zJ2DynQ2yQ4bdEETlT4jDi/co9bDuXXRQ606E43sXPRkQ7JTnfJoC4iWSlOiakdhG1iM6xOAiRAAiRAAiRAAiRAAiRAAmedQKi4cNYPeJYP8NGH8/xHGDN2rIwYMfK0POYrKytl+bKlcvz4cZmmovY9994nCWohA3G9V6/e8off/UYWL1wkY8eOM8K3fdAbb77FiPawk0GkfqRG5U5/5WXJ7tlTHv/WE9KtWzdTNT0jXX7761/JoUMHpUytMuCDv3zZMsnNzZUbb7pZbrv9DomLi9Oo+THGgmf6yy/Jpo2b5M6775H09HT5WAX38rJyGT16tEbn9zf9WrtmtYmuHzFypDz6jcclPSPDrIf4/nvt76ovvpBLtD27wBIHEfwjRo5q8gCG3QanJNBqCcAbXu1nTAkdwFP7Jx3ha9yp6XeCRy1qKn7wdWOXY+8U/dTPxXXxOCPO2+vgR1/zwRtS+Yvv+VchUj/q698VZ+8BOkYQKPf7q3CmBRCASK9jOjqIYsXL13elKNC3gIvFLpyaQGmlT44UeWXDgRrZntM2Bfq4aIeUV/skJc4hNR78adb3Z3tqXqxBAiRAAiRAAiRAAiRAAiRAAs1JwIgMtRGA9m8V/2JzHqgFtAX/efjFI5K8qYlgYWkDmxhE4V940UUCD3kUROIj4n3kqNEm+h0Ce9da0R3bk5KSjLc75uHx3kEtcFC6du0mqampxsoG0fmwo4nVqF34xdeokA/P/J07d5i68MiH2O5wIELTa7ztsSEnJ8dEzZtKIW8YDNi5w9rfpdG6W7duMU8AoNrRozn6ZLfTTHEc+3oj6h6e+U19uiDk0FwkgRZNwHeiSKpnPC/ejav9/XR0zJTIG273L5+NGd/BPaKjbyJx1ndHfccwPvVHDqrVTaU4IhquW18bXH9uCCApLBQ+67vZ8p3H93nguAoF+nNzLXgUEiABEiABEiABEiABEiABEiABEjivBOoetz/zbthi7Zm31HJauO76G0zk+OwP3pfX1KMdiVgHDRpsxPHG9hKJXpHkFYJ7slrZBJYoFe07dLB8pJFkFlH1Z1oqKirU2qbQNIN+4xVaSktLNCq/JnS1WYbIj76gwKM+0KferNQ3RPPjOJiykEC7IaB5H3yagNW9fKH/lJ19B0rkdbeJo74oefxNN/bvWge/XKPHSML8deLThLLePTukevq/pPq1/4ijW0+Juuku0ezS1rH1by9SlyNvuEN8Rfni2bhWqv75W6n666/E0aWHJoydQJsb/1VqOTPmPqmOcJoCuPY+AlFeQ+lVrcc6xNRbQr2DHvQt57KxJyRAAiRAAiRAAiRAAiRAAiRAAiRwdgk0t0jfWC3q7J7V6bWOvtsDDVOnXSW3fulOdZKwBOulSxYL/NsfefQxTYBqJYM151qbEg2WBWZ/naJgtX9d7Qp72Y6SRH2323oiHNHqgcdHP7Bsv7CvXfzrauv41+uyx+PVfazKw9WWJzMzy97sn6bpoIDLFSlVvtoElLrFbtPj9Zk2UDk7u6exvQn9jETHREusJoNFtL1ddDfThr3MKQm0OQIJyRL59e9J5Je/XXdqsLSB37v6w/sK8sSrdlGOwL9VHQiD2A6bG6/+zUnAtrpGwszFJ4lj8CiJuO1Btb35QjzrV4tnyrXi6Fgr0Pt30eOnaCLaiydJZH6+VP3vU+LZulGcIy8xffJX40yLIGDfX+zOmO9Wh355GnHeXmtNGUEfzINLJEACJEACJEACJEACJEACJEACJEACYQhAXEC0X1sssG2J1gh3JF296Zbb5NDBg7Jxw3p5/91Zcsdd9wh81xtTYmNjJSUlVXbv3iX5KqD17NXbH4FfoYklc3OPmmaQKLY5LGLs4xVpFP01114vo0Zf4D9eaH/Ly9U2I6REqZAICx2UCRMnydXaRrhIeVz3nZq0loUE2g0BJGhNP3nAS9R/3l7vKziOUTJ4WFmjfSrO+wrzxdFD/+51UCtc8R7YI9U/e1J8VZUS/ZM/irOPesij6Pcr9nEkp4mvvFSkukI8XyyWqqceFteUqyTq8R+ZxLSmrkuPV2ufhbo+jzuM5Gtq8u08EjD3TBxfg+XNvdMfOX9yp/SKspAACZAACZAACZAACZAACZAACZAACZBA4wlAeDDRgI3fpVXUxDl1797DiPJI2Dpv7mz1jP/M+L035gSSkpJl4MBBpv7CBZ9JQUGB2c2jAtrWLZtl7do1ktWpk3rLd28WgR7H6z9goCA57aeffGwGBXBAiEHHjuXKi//5t2zfvs1E2cNSIUJFx8ASFR2tUfP9zKqP538k+/ft8w/CIAntO2+/KcuWLtYnC8Jb5AS2xXkSaBcE1G7G0bOvOVXPyiUaSa8iPYoK9551XwgEeGfv/iKJSdZ6t1t8x3PFV1Zilh2xKsJndhbvto3i3av5H+y/La3n3bfLrHNmdVUP+kRxJCarhU038W7fJD71m9c/TtOGr7xc12222tO2HJHR1rH43sIIWH7z6FR990t7ffA3cws7DXaHBEiABEiABEiABEiABEiABEiABEjgzAio5tzsxYqkh1jUmiPqA/tvz/vUDsYpI0eOlLvuuU+ef+5f8sbMGSqod9Ukr30CONbVr1vpk+joKLl0/HhZs3qVfL58qeQcOSywnsnPzxPY5qBMnXqlJojtWmtNY/MLbM+et1u2l+26detxvDFjxsiKz5eZ4+3Zs0uXx6qVjluWLF4kxcXFqul5Tf/j4mOlY3q67N+/T1584d86kDBYLp86VQYPGaoJbS+WlV+skJ/8+IcyfsIk46G/auUXpu6w4SOkd9C54/h2n+y+cEoC7YSAJnF2DRgirklXinveLBMx77rgUvEe2ifud18TR0YncV0yQRyazFk8NeL+dI5U/egbEnnHQxL58BPi0CdsXOOmiPujd6Xqvx4Vj/rKI4reu2ub2R8UXRePV3Fen9px9RDXpZdJzQt/k8onH5SIa9X/Pi1dPKuWimfJJ+IcNFxcIy5USx3Iu6HfD+3kerTw07TuldbYilP95zFQiv+wPvDeTIG+hV9Ido8ESIAESIAESIAESIAESIAESIAEzpSAHaV3pu20l/0j1e5m/IQJsm/fXvn04/ky49Xp8uWHv2oHsNaLAZx79MiWrz7yqDz37NOyd88eI3LbO9xz3/1yxbRpgoSxiHo/04LjYeDg0W88Ls/+62k5eOCAvDvrHX+z11x7ndxw083Guidao+UvUfEeiWC3bd0qeXl5ZjAhOztL7rv/QRPh+cWKz2X+R/P8+2Nw4f4HH5L0jAwj9vs3cIYE2jEBRMBHPfANqVY7G8+KxeYFHI64BIl67AfiGjrKsr1xqwl9dZUh5YPFlA6cqYeUuCZOlej/+ZNU//3XflEelZzde6nv/VPiGjNRxXm12NEo/Mjb9W9Tk8VWP/M7qXnpn6YtvKFO5Fe+Lc5e+gRMoNLrr8GZlkQg9B6MS2ZdNgysqGTvdldziKURV8yjnlIFBfmyedMmHQE/olnSi2T0BReov9toHV13NcujaY3oRrutsumQW1bvq5G566pke46VVKetwYiLdsiQrhEytm+kXDsyWjok0IGqrV1jng8JkAAJkAAJkAAJkMC5IYDItNLSUvMbbtHChbJuzRr1Fb9Vo4QvMv7azeH9fW7O5MyP4nbXSDnsEDQrKAQCWyQIneJI9rqGjmpHA6JOtIpGSHbaWgvOpaioUCoqKsT2cg9lAJuXkhPqK611YXnj8XrUvqZGEjS6FX71JSUlxkomIiJCOnfuokzqrCaw74ED+wX+8OCUnZ1thG77GLgmRUVFUqVCfWxcnCSrDz622Z/fUm0bfvCpaRpxW8sZoj7aczgdxus+8HgVep33aXS8dTyXdOnS1djpQLOwC6x2Duw/YLzw0f8+ffqaY2M7bGwOHz4kR3NyTPX09Ay1++mu+S6jzHJDxzYV+EYC7YwAEsL61JbGV1IsEhUtzh69xNEhwxLna1n4ytQjfs8OcWSpFU3HTFuVNSHVvuJC8R3cJ77SExpZn6Z2Nt2NrY1+EQST1O8dX94x8WpdWOI4MrLE2UltcBClz9JiCSCxtp37w6nf2fh+t1/odN1lVvuxFnsW7BgJkAAJkAAJkAAJkAAJkAAJkAAJkAAJnCUCEEpSU9P0Vf8BIGLjVV+BqI5XuIL94EdfX8FAUVpa2kmb0S8kpQ2XmBaDBPCwD1cg8jd0POwDob9nr17mFdoGBgOys3uaV+g2LDd07HD1uY4E2joBRLg7EC3fQHHEJ4Sv41CxFqK8vk5ZnC7LOkftc1haDwG9xBobj6J2NrVzZkkHfPE9H1gYohtIg/MkQAIkQAIkQAIkQAIkQAIkQAIkQAIkQAIkQAIkQAIkcI4IUKA/R6B5GBIgARIgARIgARIgARIgARIgARJoCQRCI/dOp0/N0cbpHJf7kAAJkAAJkEBrIWDfK31BSXyDo+dxLhToW8sVZT9JgARIgARIgARIgARIgARIgARIoBkJ2MJBU5qs20flBma0awo61iUBEiABEmhnBIwwD6sbWBrVTsMhoEAfjgrXkQAJkAAJkAAJkAAJkAAJkAAJkEAbJlAntDf9JM9k36YfjXuQAAmQAAmQQOsmUDegHX5km0liW/f1Ze9JgARIgARIgARIgARIgARIgARIgATqIVBZWVnPFq4mARIgARJozQSQuLrll5PtbNDn0IHuiDoFv+Wf0vnsITj5XwEd8a8LPwASUJOzZ0QAfNsBY/vv0f5cnREz7kwCJEACJEACJEACJEAC7ZSA/e9p8+/rgN8RQevbKRueNgmQAAmQQPMRqKgWKSjziVM9SjomOCTS1Xxts6W2SQDivE//QRIo0lOgb+S1tv8hZ6rX/gPPXmdPG9kUq50GAaPPB/zD+jSaaDW72J8nTFlIgARIgARIgARIgARIgASaTsD+t7T5t3Xt7oH/zra3N73l1rdH4LkGigGhZ9LQttC6bWW5pqZGZr3zlsx6+62wpzR+wkSZOGmy9O3XXyIiaEAQFhJXkkA7JVBa6ZO5Gz3yzIJqgUiPkpHkkMcvj5JxfV0S1YivDI9X5FChV5bs8Mg7a9zynWlRcklvlzjDBF27te72HK/M3+yWd9e6JTHGIb+8NVoGdXFKmOpWh/h+Xgmo67wR4SHGWwVXCi97uXa1ThrxcamrzDkSIAESIAESIAESIAESIAESIAESIIHWQwC6QKD4Hjjfes7i/PR08aKFgte99z8oU6ZcJlHR0eenIzwqCZBAiyJQWSPy9mq3ivM6E1COnfDJT2dVyU9uiJZJA1ziCpP5E9JskUbcrz3glTdX1sj6g6q8a2lI0C/RwYDXVrjlhSXBxzM78q3FEjAJYlWMDx1Ase7Lwd2mQB/Mg0skQAIkQAIkQAIkQAIkQAIkQAIk0GYI2IK8PW0zJ9bMJzJp8hSZdtXVEhkZZVqurKiQhQs+lfkffSjvvztLsrOzpf+AgUGDHc3cBTZHAiTQCghAYEfU+5wNbonVr4vvX22J8dVun7yx0i3PLqwx24Z1c0p6Yqg0a9lnQ5z/8dtVjTrbarfInPUevzh/1yWRRvxPjnNIh3jEaLO0ZAK493pVpMdTETpbb6FAXy8abiABEiABEiABEiABEiABEiABEiABEmgPBFJSU6VTp84q0Ef6Tzc1LU2Ki4vlixWfy57du6V3n75mu8fjkZycI7Jz+3Y5dPiQdOzYUQYPGSpdunQVl8slSEy7e9dOKS8vl+49siUjI8MI+7DU2btnt5SWlkqv3r0lJSXVHAv1du3cIdXV1dIju6dpDxsKCgpk+7atsnfvHklOTpEhQ4ZIt+49zDFgmXDkyBE5osePi4tT/2unbNm8WRISE+XSS8eZqf9EOEMCJNBsBLwa8L7nuFcOFvhkXD+XjOrhNL7zkS6HEc4/3uKR7Ue9klPsk44q0IfTZCHWIsL+yqER0jnFIf/4tEbW7Pec1EcMBuzP96r9TY0kxzrkB9dEyVi1z4kIE5l/0s5c0SIIWF7z2hW95rie+DyEE+op0LeIy8VOkAAJkAAJkAAJkAAJkAAJkAAJkEDrIdAeIvJjY2MlIzPTXJSy8jIzRWT9xx/PlxnTXz7pYt1+591yxdRpRizfuGGDvP/eLLn73vvNOgj/RUVFMuPV6Ua8/8bj35ILL7rYCPdHVex/9pmnJSYmRr71xHfEqwrghvXr5Ll/PaP7FAYd55777pcpl11hPPH36CDA0//8e9D2Xr37yIiRoyjQB1HhAgk0HwGvqqzH1coGpUcHp8RH10nwENG7pTlkrwr4haVqcKLVQsVYiPOXqsg+ob/lNW8SzNY1EdRReNRvPGQNBtx6YYT0y3LKURX+UT1No+cRwc/Ssgng+uNzYC6aTq1PDpIKB4+yqEBvbWrZp9MSehfKCcuhr5bQz7baB5t1Wz2/0PNqb+cbev5cJgESIAESIAESIAESIIEzIWD/e9qeoi173p6eSfvctz0QQCR83vHj5lRjY2IFkfMrv1hhxHlEyl91zbXSQyPkd+/eJfPmzJaZM6ZrpHuyjBl7qUbb9zGR7jt3bJdx48eroJ4kx3KPyqGDB0w7u3ftkuEjRpqI/KNHj2q0fL6MnzhJkjWqHlH2L77wvBHnJ192uQwaNFj2798nc2d/IG+/+YZ07txFBg0eEnQJEEU/avQFktWpk0RFUbULgsMFEmhGAhBby2uTwiZoWopAn3nM24J9ebUl0BthNuT4ka6QFfUsVtb4ZPcxVem1vKeJYd9UCx27dEhwmKSyEPsb2569L6ctj0CLiqBH2D9eGC3GCyPyGFGwRxWwzodtZujBgmltR1bcupEHe3/rMQIrY25gOy3vMrBHJEACJEACJEACJEACJEACJEACJEAC54tAUWGhHM3Jkcgoy+IGtjPLliyRz5cvM9HoENxLS0pk8eJFpov3PfCQTJw02QjsiISHjc1LL/xHli5ZrFY0Q9Uup5NkZmbJwQP7pbioWKPjYzVyfpexvUEDO3Zsk5ITJyRJBf0D+/ebNvv27Wf0jy9WrJDjx47JNddeLzfdcqsgkv+CCy40VjavvzZD1q9bJ3369jX74K1nr17y9Ucfl85duhgdxb+BMyRAAs1OAFHtFSqcowSK81hGdHxziuWVOhCAiHkUeNGjZCY5JFcj+PM1Qv9386p1QCBKRmdb0fhWDb63FALQtSFhY6oKt5kGSNpB3WxRAr3b7TZebSfU4620tESiNUN6bGycuWFBbC8vKzNebeX6aBmWIyIiJD4+XuITEiRBXzhJj8dt6pSVlklFZYVE6Kh2fLxuT7TqQMhvD4/iBV1lLpAACZAACZAACZAACZAACZAACZAACdRLYMFnnwpe4cpVV18r2dk9jRc8otu7du0mAwcO8vvVw75myJBhZv1BjZDPz8+TThrl3ltF9GUq2B87litxql3s0Gh6FNQ/eOCAesgfFqdqFgc0Oh5+9Gi3QgcG9uzZZeq53TUqxq81oj0CEYvVIgcFkfhVVXUJJrOyOpnIfWodBg/fSKDNEKjRwYDyKkugh9/9Y5dFSVe10Cks88kzC2rkg3Vu+XizRwZ0ckpiDIxvWFoiAejVqtEHFTuo3F7ZIgR6dNTn8wq83JAE5bAmOcENB0lQ0jp0NDcjiPd5eccFo9rFJ4pN/3FTS0pKkg5ax74RIelKbm6uFOTnG6Eej3alpKToyHWmuQk6nTqqpFH5AIEpRH4WEiABEiABEiABEiABEiABEiABEiABErAJwA9+/ISJcvElYzRavZ/RDipUs4Aw3qFDByO423UxhQCP9bmqZSAJLKLeERG/eOECtafZb/SIvXv2GBubnj17yfSXX5Rd6iFvxPqDB9Uqp4eJwofXPXQPlA/nzTUvsxDwVlpWKjXVNQFrOEsCJHCuCEBojUCofJgCKV3H0pqtoC2I9PCav2V0hHRJtZLOpsQ5ZNoQlyzY6pGdaoFTVC4q0DfbYdlQcxGAMI+2QtR5aNi2jm0fqkWo0xDnIcBDeD906KBs27pF9u3do49ndZXumqEckfRV6v22V9ed0DplGknv0D8GiOt4TKysrNyMOrtUcEfW88OHDpmbIkaesW9JyQkjxkdrXZc+fwIIEOixDdH1oVBsOJySAAmQAAmQAAmQAAmQAAmQAAmQAAm0fQI33nyL3HjTLUYwD3e20BDwqq8gwr1GdQ140+OFgMCuXbsaR4CNG9abKHokfIX9Tffu3dUCp7NsUKuaqsoq4z8/ecplxiEA4r5t6zt02HAj2oceMzUtTSI0YJGFBEjg3BOANh9Xm+ahVB9kgeWNbWvj9oiU1ka8R0VAhD2z/kWoV31MGOUWfUjShLSJsSJFGk0Pr/paKfjMDsi9zw4B3DuCPgwnX68wl/ns9KWhViHOw9ImX6Pe8YgXHv9CJH1CYpKK6yVm9BijyPBgi4iM0KQpKeZmhwQtEOvx+BgSokBwxw2zDKPJGkkfrSPesLipVKub4uIis2zfLCHuJ2r7cXHxFOgbujjcRgIkQAIkQAIkQAIkQAIkQAIkQAIkoBpCorHYhWaBQEA8rW8HAJZoMKGlTVg2vFifkZEpPbN7yvr162TH9m2SmZVlxPmOHdOl/4AB8snH8/1R9Nk9e6r/fZTEaOQ93ARgZzPtqqtlhCaSDRdUCD2EhQRI4NwTgO88fOBRjqkXfJXbJzGR1nKlPtiSV+KThGiHpMafed9idRwuK8Upaw94jRe9V3VdiPOQd6v0WPClRzR9VItQd8/8fNtiC/Y94lTnVpdZ9VQ1z9J2COoQ04v05nP8+DHJ1ezlpSWl1tHsbcWFUqiC/QlNoJKQkCj9+vXX1wDp1q2bJmRwmsQqSOYCWxv40+NGFRsbo5nNO0vH9HQV811G6M/JOSI5R46o0K83U22rGp5tGMVgIQESIAESIAESIAESIAESIAESIAESIIF6CPgFd7WnyVH9YeUXK0wOPVSv1Cf+V69eZfQMCO0dO1o2vMiZ17tPXTJXWN6kpXUwwYP9+g/wHwl+9XjhGBgE6Nevn2lz0YLPTPAiKkI7OX78uEx/5SXZuWOH2mg0o4+GvyecIQESOBUBlSGlWwendEhwyMq9Htl73KdPvYi49U9y02GvbM3x6naHivhOI6bX6FgakrqWVjZdf4xToX9IF0u6nbfRLTlF+iSPdhDi/Kp9HpMoNrujQ5I1mp6l5RHA1TJXTL/b9f8Gy3kdY8ENBv5tGHnO0xsNMpvjUa5YjYbHjQnZ092a9BX2NjU11eZk4uLjzA0N23Fy8HVDdvXyinL1fIur9Zl3irvGbUR4L7ztdX/cvDz6rAmi7CM1ej5Ok89iZPpUhNBHvLC/1+vR/nktuA1i5UYSIAESIAESIAESIAESIAESIAESIIG2RCApOVmmXHa5bN+2Vd5+8w2Nit8uEOR3q5f81i1bzJP92J6UlGxOGzY02I4n+RFICFEeegfsb3r0yFabm05G7O+ryWSTtW0UaBYXXnyJrFz5hXyx4nNj9XvRRZcYW+Dly5fKieJi8aka2KlTlqnPNxIggXNLADprDxXgx/V1ybtr3fL/3q6SKQNdRjT/aLPbWN5gOT3RYUT72evd8tu51XL5IJd8e2qURtafQqkNOJ0I1eYv7uWSC3u6zGDAt6ZXypg+LjlU4DMCPbzppw6OMHY3AbtxtkURwPXGsAqm0LJPHqiBxn1eBXqI3kiyUqw3mLy8PGNNgwQpGDFGBHxkZJSK6m7jK+9Wcd2pz5HAcz4pOcmI5hDtYWNjErWoCI8TxXa0gbZhj4OpW2+EuBmiLRQMAkRBqK+tZ4n9wX8gtjCP/WDBg1dFRaXpC4R+bYKFBEiABEiABEiABEiABEiABEiABEignRCA0D5cLWe+/PDX5MUXnpdNGzeYF04f4v1DX35Y4BsPAR4FU+TW69K1mzoFlEiP7GyzDhpEmiaU7TdgoBHoe/fuY4R57INtSCL78FcfkRee/7fJ0zf7g/ewyZRpV14t115/vQr9zeCfYTfKKQmQQJMIJMQ45K4xkXJc7WyW7fLIW6ssvRGN3HJBhFw1NMLYziB6vqp2U3m15VffpANp5cxkh3x9SqRUf+ST9Qe9MmuN1SBsbb51RZRcpAI+bG9YWi4BfK9bAr3VR2s5uL/nTaCH8I2ErrCugbc8blaREZHSRR/rQrJY+K0huh0CO+oikazDoY+H6A3OqVOfnpvD3PQ04aueE0aQY2KiJSU11UTU+yDQa3IV2NgAA5YRjY+2EJGfl3fciO64ieKxM0TiBxZTT/fF6DQGEOBrn1+QbxLQIvks+sJCAiRAAiRAAiRAAiRAAiRAAiRAAi2dQDgxoKX3+Vz0D7nprpg6TcaNn2iCBLF8qoJAvzFjL5VBgwfLwQMHjP4APSFbRfWkpKSTds/IyJAnn/qe0SygV9jXAnn0br/jLrnhhpuMuA/x3y6YHzhosPz05/8rB/bvNzn1LLG/i2RmZpmIfAQVjhw1Wn7/p78YLQWR+SwkQALnhgB0xq6pDvn5zdGy57jXeNFjHaxtuqU5/UljkTz26mEu6ZsZLZ3US76DRtWHFiR7ffLKKBNtn6LSZKjYjuX+WU757e3RsvuYz9jaxKg3fe8Mp3TU9kLrh7bP5fNPAEHe0OjxvW20etMlqNl1n4dT333O0nlYEenlJnI+NzfXiPKxGv2Omwosa2xhHkI5bpIeTYtsTgTdt87KOhH/uWhUfFS0eSwMbUdoquNI9aRH8tmK8gptT+1ptI3qaljqlBhxHsljq3RZJMOMVqNd+2bp1ePW6AACBgtyc48aj/xCFejzVdgH2Pj4hLNEhs2SAAmQAAmQAAmQAAmQAAmQAAmQAAmcbQL4/Z+Skqqvph2pbr/UU+4IsR1JYUML2oCtjW1tE7odyxD+kUw2XMH+Ceo+gBcLCZDA+SEAoXxQZ6e+6j9+okbbj+pRNwAXWhM2NlkaJX+qEq9+9MO6nbreqdrh9nNPAN/XKNY0WJi3t503gb6qqtKI3kdzc/SRriNSXlYm1RrJHqOWNUVFhVJUWKi+TR4TJV+pNjgQ6XE+sKeBeI/TQVS9mak9ySjNeI4ksjHRMZKqI9NIvoIkKhgAQPsQ5EtLy1SgL9URJkdtZHy5sbrBSLd1DAsaBgM8ehxE+Veovz0i6Ev1BZubCBewoQcsJEACJEACJEACJEACJEACJEACJEACJEACJEACJEACJBBMoLEGLOdNoEdEvLumxojt6DpGlREtj4SxsLspKy8zj4DBdx5aOMT3yMgIY1mDCHuHPsOBaHi3u8Y8EBBhtkcakR2PfiGKHlO0C+sbRNBDdDfR+XocFxLQ6r6wsIF4j2h5p7aJfVCcuh+OmaIj2oimR8Q8Xi6ny4j29giHqcw3EiABEiABEiABEiABEiABEiABEmjBBPgbtgVfHHaNBEiABEigzRHAfVeVZqNHW2429Qd7nzeBHqo7OhqrEfNJ+khWpfq41ahgD0saiPNV6v+OOhFetbfRbR6Py9Sv0Ch4iPgQ3mFdA495FETNwwsObRr7HK1XpD72iH5HXTwahsh3bHOrCJ9S+wwbEszihUh5ZFi3LecQTQ9POET0Z2Zlmf3y8wt0Xawc04j8EydKzHH5RgIkQAIkQAIkQAIkQAIkQAIkQAKtgQBF+tZwldhHEiABEiCBtkAAFukouPdiXidm3lob/H7eBHoI36lpadJT+5OuSVPcNW4TEV+pFjIHDh4wkexGwI+Nk4zMTBNpj8Sx8I/fs2e3EdshqkPUh/ienp5ukr3i9JAQFmMUOAYi4vGq1MSwpZo0FvtXqr1OuQ4CGEFeo/KRnBYiPmxv7IJj2/v6fLpNI+ejNaI+QutiPqCqvQunJEACJEACJEACJEACJEACJEACJNDiCTSPUI8cbjjV+iMCWwaIlt6/lkGJvSABEiCB1kegpX+/W0lhLXEe90yfiaYPdw8+bwJ9dG3Ee6JGz8PaBgUiepl6xMO+xrKccUpiUrL06tVL4EO/b98eqdI6hw8dsgT1WjuaxMQkFfkzgxK3QnCPT0gQpHLFsSDOQ3Av0ESvxkte24nT5bi4eIlWCxwI747a9kxn9M0GhinscWB7gzbs9XY9TkmABEiABEiABEiABEiABEiABEigNRBovt+zLV0YaQ1Xg30kARIgARJoqwSC77fWPdNehym0ZrucN4EeHYGI7lC3fJdJumoJ4hiAR4ZziPXYlqhJXzMzs0ykvBHYCwvUXuaEEcmjIqNUwE+STBXnMzXKPl6TzKJdeMdDTEcEPQrmYX/jUj972NnguIi+h6c8jpWkPvNR0bpPiEBvduYbCZAACZAACZAACZAACZAACZAACZBAqyRg6wKtsvPsNAmQAAmQQCsmgIh5fc5MXypXa6lzboE4b4v12HJeBXp0TLVyf0HH8B9Ec8tGRj3q1b4GVjheta1BklhExcNbHsUkcU1JlTTdnqwiOyxrUFzqH49XdHS0WcYb7GsgwMODPla95RGJj7bT0jqqB36SEe0Dwfh35AwJkAAJkAAJkAAJkAAJkAAJkAAJtGEC/C18/i4uRJqysjLjLJCkAYgt/Vqgv8XFxSYIEkGSLBYBaFabN22SL1Z8Lp07d5FJkycb7Yl82j6B8mqfFJSq64ZTLbwTnRIZoHO2/bPnGTZMAIK8ZW2DeqGifOC+502gD+yEPQ8BPUpF9Y7qJ5+SmmpWm3UaEY+TwMh3h44djciOjU5E36sQj+h4JHVt6EYWqW0kap2Y2BjJ6tTZCP5ouzH72v3jlARIgARIgARIgARIgARIgARIgATaEoGGfkef6jz1Z7qJDDxVvZa6HU/uvzZjunzw3rsndRG58KZdeZWMGTvO5Lw7E04nNR6w4ljuMfn7X/8sucdy5Tvf/Z707duvQW0jYNdzPgtdZuuWLfLH3/9GsrN7ytcefUwDLDuelX4gMPOff/uLrF69Svr06Svf+s6T0km1nHClvLxcZkx/WebOmS2pqiU99YP/OuccvV6f5OXlyZzZH8il48bLpeMnSEyde0W4bnNdKydQUumT2euq5R8fVwhEepSMJKc8cWWsTBwQKVERddHS9Z2qxytysMAji7bVyJsrq+R718TJ2L6a+zLMrtVun2zP8cj8TdWyep9bfnFrvPRM52hAfWxbynrcO/DdidLQfaRFCfToKF6IfA+MfrehQoQXsWxr7HWNnUKMx8tqo7F7sR4JkAAJkAAJkAAJkAAJkAAJkAAJkEB7I3AsN1defvEF+WT+fPnmE9+R3r37NCiunC6fyqpK4xJQWlIiFSo0N6UcOnRQfvurX0p5eVmzi9Lh2kbfcKxSzR1YWFio1sFVTenuadfdtWun7Nq5UzLU3hiWxYEFwtfRozmydu2awNVndb4+Nmf1oGy8RRGorPHJG19UGXE+sGPHTnjl/71ZJj9X8fyyQVGiTtsnFWi1heU+Wb23Rl5fUSVr97tNnXCCvo77yJFCryzdUSMvL62Uo8Wq6GvJ7hj8d2BW8q3FEcC1xneUSt21BUK9f8FeaaYtSqAP6hkXSIAESIAESIAESIAESIAESIAESIAESOAcELjs8ivk6muuk8ioSCOoHD50yETXH9i/Xz6cN1fuf+BBSdAcec1dunTpKt/+znelSsXu3r17n5VBgObqMwIqhw4bLj/+yf8oiwTJyurUXE2fsp01Gkk/YsRIk4cwsDJsjBHVfzQnJ3A150ngrBGA6HqwwCsfrK2WuCiH/OiGOJmiYjwi3F/7vEr++UmF2Taie4SJqA/tCCTaNftq5Ievl4VuOmnZ7fHJ+2ur5N8LK0/axhWtgUCwz3xgj0Oj6SnQB9LhPAmQAAmQAAmQAAmQAAmQAAmQAAmQQLsjkJqaJp27dFYb3Chz7radyh9//zvZsW2biXK3Bfrq6mrZu2ePbN26RU6cKDZ2KoOHDJGkpOQgbrDQ2bJ5k2zatFGitF27DiK+4TffR+1sqquqtO1CY+VbUlJqcuyhEXiaHzlyWHbu2CGHDx+SLuprjvpdunaVGj3+9u3bZd/ePRrJXiBV2sa6NWuk5MQJ6duvv+kTBhjiNP8enAQ2bdxohO3xEyZKYmKi2b5dz2n7tq3GJz27Zy/pp/thG/L1NdQ2+ltWVio1NdXG+gc5/lAQJZqfn2/a3L17l8REx8iQoUOlt9rT2A4JENN379plzhfivsfrkfXr1kphQaH00sGJYSr+IwdhqHCF9jesXyeIXB8wcFDQdvjhQ7xvqJSVlsqOHdsNSzyxMGDAQBk0eLB/wAV9B2MwS05JMddmszI7ePCAZGRmmYGBzl26NMgdNjx2wbXLyTkiy5ftkUMHDwa1gevB0roJIKp9d65HDuR7ZIJa2YzOVuttDWiPdDlk8qBI+XBjtWw74pacIq/xpK+Lnq47b1jYQNS/ZkSUdEl1yl8+qpBVe61I+rpa1hza/dLF0XLFEOu76ccaoc/SOgjY32VWFH1d5Ly9PvAsKNAH0uA8CZAACZAACZAACZAACZAACZAACZBAuycAAQW58RIS4qXGXSMet8cwKSgokDdmzpD5H30YxKhf/wHytUcele49ehgBuUDF6hdfeF6WLlnsr/fmGzP985dfMU3rZkuJisczZ7yq4naesamBhzpE8E8+mS/PP/esv749c8ddd8u4cRNk9vvvGn92e/3r2idE4z/5ve/Lnt275W9/+ZO9yUwhII8cNVqOHD4s/1BvdwjSgaWXWvh8XT3lcfz62v7u938gxUXF8tc//9EI6o998wkj8Hs8Hlm9aqU888+/mwSydrvo0/gJk+Tue+8zXvUQ6JcvXxrW8x/7QDj/+mOPmySrdhv2FEI8BjrQT1vwhxCOQYotmzfb1YKmEMX26vZnn/mnEeftje/JO6YdXC8MDKAdWOiEMrPrJycnq83Rk9K9W/d62YC7XZYvW6ri/FJ70UztNoYOHWYGTYI2cqFVEYBvPKxsUGA1Ex9dJ7ymxDmlewen7DnmkXxNHBvO0ATi/Pj+UTJpYJTxmi8o9Yb1nEf7ESrO3z8+xp94dsdR63sI21haBwGHA5+CUxcK9KdmxBokQAIkQAIkQAIkQAIkQAIkQAIk0GoJhIvWa7Unc446DtH2sEY/w2sd4ntsbKzxiJ8z+30jzmd16iTXXne9ibj/eP6HsmP7NnnvvVnywAMPSXRMjCxauMAvzsM6p1v37rJq5RdGyG7oFCAq79i5QwcBXjNtX3fDDdK9ew8V3XfJe+/OkrfeeMMI8Vddc60M0qj9t9543UTQ33zLbRph31eSE5OCmkcU/YUXXWwSrCLyfeZr0404P/qCC2Xs2EvN4MPHH30k8Hn/6MO5ctvtd8rVel5h29YnBCDQBxb0F+L28/9+1ojzSJB6wYUXSn5evrw7621ZvGiBpGhU+m2333GSMD1y5CiTTLVIGaPuNo3oX79unWRq1Hpgga0OnkRYvXKljNPkq/bTDXhCARH4iOZHtD4i4ANLXt5xmfHKy0ac79uvn2BQxOfzyrw5cwzP6a+8KI98/THpEJLoFtcKCYJdrgj5cO4c2bdvryxdvEi63Xl3/WxCuNfXRh8dYIhXeyCW1kzAJ2VVluiaEONQn/k6gT5CH5BIqBXskThW/zzCWo4j4r4xBU07G1m3Me2xzrklgOtvPgP1+M4H9oYCfSANzpMACZAACZAACZAACZAACZAACZAACbQ7ArCKyTmSo2KYU44fPy7b1NccgjjKxZdcotH0KbJ/335ZvHChdExPl8c1erxf//5mO6LT//C738gGFYsPqy1NSnKKrFix3Gz72te/IZOnXCYRERFGEJ/52gyByF9fwcBArlrglGjS2EmTp8j1N9xorFggqCMCfc7sD4zAfsONN5l+fPrxxyZx68jRo43VDva3C6LNv/mtJ4wtDtZtU0ue/fv2SXZ2T7n/wYdMpDoE9vT0DPn9b39tbHtg3zN8+Ajp0KGDhLZttxs4hUj++fJlkqfMrph2pdx9z72mv+hHz1695E9/+J0sWbxQxowdq4MUPfy7Tpw0We7TwQxEltfU1IgrwiUv/ud5YyuDPtgFlkM496jISPPEgJ0sFlYxdnJYXA8I9xDei4uLzK6I6t+8aZNJHosBlse/9W0j7ON8Bw4aLH/90x/VNme9bNmyWcZeOs4+nOnz48qsm0bLo3RU8R5sDqn4D/71sQnkjvOur42ysjIK9H7arXPGrX9iFTVW3yHIBxZ98MZY3QSu43z7JYDPQ2BpaLCcAn0gKc6TAAmQAAmQAAmQAAmQAAmQAAmQAAm0OwKffDxf8AotiJKfMuVyE00NT3JY0cBK5uDB/VJQkG+qIzIdBdH2+Xl5AnH4WG6uiZofqJ7pEOdRYjQKv4t6mTdUIDynpKSa6PmlS5YY8fyCCy9Sf/wucpNGyV959TUazR+nbUY21IzZ1kmj/OGpbotCEKb//cLLJuIeSVVXfL7c2LscPHDArKuoqFARulZ5PGXrVgVYz2xVkRtCOvoZH29Fh+M8evXqLSM0Sn7xooVG4O7StZu/VYj1iO5HQd3E2gj0chWwwc8uXvWph+3OBfoUwGr1mreTxYKlnRz2yquuka7aNoR+u2DgYNvWrWYRAywQ2lHAIiMjQ8Zceql5agBPJqDfdumsXv/IR4B6EPMR7Y6nJ+BjX62R+o0pzdFGY47DOiRAAi2fgP1dYn8P19djCvT1keF6EiABEiABEiABEiABEiABEiABEiCBdkEAUdhIUupyuYwlCmxNLr5kjNx4860mwSrE36IiKzob/u1P/+PvYblAyI2Kitao9goj0ENIbkqBiANR/5rrrpNZb78lb7z+mnmhX9ded4NcMXWasYw5ldgT7piI8kbS2eeefdpEy4er09R18Msv1QEKJL3FkwOBJSoqykTiYx3YBUaZB9ZraB5iPc61/4ABkp3d0ySLPYjEqyqyQ6zHwMDwESNV7I8PagbR7qWlJWZdWloHM8BiV4B1DdahoF/uRgrv9v6ctm8CCIoOjZy3icDOxANbGxYSqCWAgb7GfF9ToOdHhgRIgARIgARIgARIgARIgARIgARIoF0TmDRpitxy220mMn3v3j3Gsgae8bBOuejiS5SNTwVmK7IbEd0jNOGqHRlvg3OpWTSEfggyLleI94VdqRFTRG3foX7nl4wZK2vXrJbPPv3EROTDpx19+tYT31Erlt6NaKmuCvp0RO13bHEe/u+XjL3URIcjgv7tt96oq9xMc9Ap3bXR8KGsmnIIiFvpHdON1c1bb75uRPpOnTub5LCDBg82tjSVGv3f2AIWdpR+pFrnOBynf60ae0zWazsE8KdtJ4YtrdTvBf082UbzsL/BOpQoVVxDHE7Mer61LwKNEedBhAJ9+/pc8GxJgARIgARIgARIgARIgARIgARIgATqIQAxBXYpl18+VV55+UVNCDvPeLunpqWZyHXsNmToMLnvvgdMZH1oMxB/d2vCVdii5KndDaK44efeWJGmqqrSRLmXl5ebCPxbb7tdkAAWIvoc+YqtAABAAElEQVSM6S8bm5dVq1ZK11qP9NDj17eMfsF/fu+ePZo09iL56iPfMNYxWI9BBSS6PZ2CJwQQOb97925j+QP/dftcYZkDqx8UJIqFlc3plqjoaBk2fLhJZPvurHc0Yj7WJIeFPz187CsrgwV6eNbDKgjl2LFc4x+PiH4URNfnHj1q5mEBFKF1WUigsQSQFDYz2fosHy32SpU6K8XUfoQqNTFsXolXkDw2LV7rUKFvLNZ2X+/0vx3bPToCIAESIAESIAESIAESIAESIAESIAESaGsEEFUN4bd7jx4mkejatWuMPUv3HtkqtnfUpKjLZePGDf4obNjfLF2yWBDhDj962Kdk9+wl8HlHBDxsYFDg175t27YGcbndHm1rifz217+UZTpFwlTY28CDvp/avKAgWhx2MRDCkVy1MSUwary6usbf9yrt247t241/fmA7jW0b1jYDBg0yYvnCBZ+pSF9gmkGEOrzp165ZI1nqhd+1W7czEugh7mNQAoMjNWpJA5bweh+kvvrhovMh6MMWB2XhZ5/JgQP7zZMN4IBcArhe4Nq3bz+1JLKEe1O5EW+NZdOIplilFRJQfV66d3BKx0SnfLHHLbuPeTSKHk+LiGw85JbNh9263SVZKuKjbo2uh5BfUhtZ3wpPmV0+BwQYQX8OIPMQJEACJEACJEACJEACJEACJEACJEACrYMABFhYqEybdpU8+6+n5ZP5HwmsVBBZP2nyFIHNyh9+9xvjUd9dk53u2LFd1q9ba8T7/v0HSB8VfS8dN96I89NffslsS8/IlHUq1iORbEMFkfcjR40SiN2vzZguW7dukQEDB8oh9V2HqIwCexsMIsB3HdYvB/bvl5f+87wRyqdcdkXY5iFwQyjHAAP6+r8//6kRp3fu3GGi87FTjSaI9UBl1BKu7cv0qYLQEq1C+LhxE4wf/OfLlxkbnRHqCZ+fn+/vL3zzwe50POgDj5eg1j9I6Lp82VKzGgloMzMz/RH7gXUhvkPMx3UAt1/+4mcyRi19vKqkLlm8UHMElMvESZP1ug5p8sBBODb1cQ/sE+fbBgH9epDsji6Z0D9S3l5VJT+YWSqXD4mSSo2kn7ehWjxqc3P54EjJSHIY0f79NVXyf++Xy9ShUfLdq+M0sp5h9W3jk9C8Z8EI+ublydZIgARIgARIgARIgARIgARIgARIgARaOQFEZQ9XAXigRmjvUsualStWmEhtJG+9+dbbzNmt+Hy5SeAKwTtDheJHvvGY9O3X39S7WH3r77jrblNv08aN8tknH59SnEdlCOkQuL/88MMSExNjxPSZM141IjMSot7/4EMmuh8CdGJiovGpx37btm1V4XmRia7HcmjBoENPjeq/8+57TLuwzPlU+4RpdnZPs66woFDy8vNMpHlj20a7eNLgq488arzgMVjw3ruz/OL8Pffer4ltr2xylHpo/7FsR7zDRgdsMJDRUBJe2Orcefe9RqRHxP28uXOMRY4R53Wg5c677jHJbcMdq6F1jWXTUBvc1roJJKqFzb3jYmRcv0gpKPPJ6yuq5D0V4qvdPvnSxdFy7cho9aB3aOYKfeLFbZ1reZXmPkCoPUu7IYDvR7waUxzV1foJYTklATyehUe1tmzeJDlHjmim70IZNfoCvSGMNjeJM/FSO+XBWcE8IrR6b40ZjdyeY43otzUscdEOGdwlQsb2jZRrRmi2+wSOn7W1a8zzIQESIAESIAESIAESODcEYGMBqxFE8S5etFDWr10rN958i4m+ReRxe/r9ht+y1dWVxtIknFjQWPEg9MpBc4iIiDa/h0O3tZZlRHQXFRUZ//LY2Djjkx7IA58jbK+oKBdEisPTHCIx9jt27JgRt90adZ6YmKTid09Bcle7oE5VZaXxoUdyVnzmMjSKHtHfb74xU66/4Ub50h13aXtOgTCO+imafBbCMwqOjWj7/fv3GdEdQnQPtdhBgtrAPuL6QhTPzT0q8fHx0rt3HxUBvcb7PjIiUuCdjz7bJbBdd41brXM6S0eNqj9RcsJ4s0N8jo9PMMcIbbtPn76mGYjdTm0TfcHfk13KysqUyX7TbwxwoL/pGRn+/tq84bMP3vCOx7mgT6WlpUF9RpsFBflh+wQ9Bj7yuB64Liiw6sF6nwqggRyxDZY4hw8dNoywnJVlWe7YXMId395WqdewSK+DQ71KAo8XyqYh7vW1gb6wtG4ClTWacyLXI7knNGxeDed7dHQae5vIuj85OVHhkx1HPdI51Smd1PYmVK/FQyvH1bceCWZT4hwC8b++UqEe9/mlPtNGhwSHet/XX7e+Nrj+3BHA94TbXaXfcac+Ji1uTs2INUiABEiABEiABEiABEiABEiABEiABNoYAYjmaSpg11cgHkOExiuwYL+srCzzClxvz0OI3rB+ncyd/YER4S/SaHoUJGldvXqlmYefOsRtCMGIvg8tODb61lD/sA/2R0Q5XoEFQnu4Ul+76bUDA4H71Nd2bFxcYDX/PAYIBgwc5F8OnamPN/qE/ob2OT09I7QJc76w6QktEOozM7NCV5tlPHmQrQMoeIUr9R0fdTFgAmug0FIfm9BzaKiN0Da53PoIQCAf3DVCBjfQ9aRYh1zQs375FWkkOqU0LkAzNkqTWKdRlG8Ad6vdVP8npNWeEjtOAiRAAiRAAiRAAiRAAiRAAiRAAiRAAueHAKK58fT96tWrzKtb9+4m+nrjhvWmQyPVOgf+6BB5WUiABEiABEiAAj0/AyRAAiRAAiRAAiRAAiRAAiRAAiRAAiTQTASQ6PWue+4zr2Zqks2QAAmQAAm0YQKNe4aiDQPgqZEACZAACZAACZAACZAACZAACZAACZAACZAACZAACZDA+SBAgf58UOcxSYAESIAESIAESIAESIAESIAESIAESIAESIAESIAE2j0BCvTt/iNAACRAAiRAAiRAAiRAAiRAAiRAAiRAAiRAAiRAAiRAAueDAD3ozwd1HpMESIAESIAESIAESIAESIAESIAEziEBh8MheLW3UllZ2d5OmedLAiRAAu2CQExMTJs5T0bQt5lLyRMhARIgARIgARIgARIgARIgARIggcYTaI+CfePptJ6axUVF8ptf/Z+89MJ/Gux0VVWVuGtqGqxzphs/nDvH9GXnju1n2hT3J4FWQ6CiWqTGc/rdLan0ia8Ru3u1UnFFY2o2ojFWaVEEGEHfoi4HO0MCJEACJEACJEACJEACJEACJEACzUsgnBAfbl3zHrV1tPbWm6/LB++9e1JnU1JTpWvXbnLjzbdI7959TtreklaUl5fLhvXr5NDBg3LfAw8Gda24uFggmq9ds1oOHjxgtiUkJMrUK6+U62+4SSIimlcW2rp1i+nLpePGS99+/YP6wgUSaGsEpi93y6ufu/2ieUaiQ56YFinj+7lOearVbpFfzamWBds8gnmXhlD3TnfKT2+Mku4dgp922n3MK7+aXSNbc7ymXdS9tK9LntRjdUgIrnvKA7NCiySg38QceWnclQGnwJe9V7h19jZOm49Ae/qc8jPVfJ8btkQCJEACJEACJEACJNA+Cdj/pg49e3t9e/t9EcqByzaBivIKqdGo8sjISIEoj+Jxe+T4sWPmBWH7jrvulmuvu8HepdmnixZ8Jq9Of0WuvPpqufGmW5qtfdj7/PS/f2TOw+VySe8+fSX36FEpLS2Rt998Q9asWiU//79ftUvro2aDzIbaLYFnFtTIy8vcRli/qKdTyjWKftNhr/zwzWr531uiZGL/hkX6R16skh25XomNEhnbxyUH8r1m+d5nK+WNb8QIxH6Uo8U+eej5KvGoNh+lKm7/LKdsPOSVRds9sl0F+9e+HiORDR+q3V6j1nTizTtU2prOnH0lARIgARIgARIgARIgARIgARIgARIgASUwddqVcufd9/pZ5OUdl9kfvC/zP5wnr706XUaPvlA6de7s396cM6VlpUY0R7R7cxWfzye//fUvjTjfr39/+d73/0tiYmNN83v37JZf/u/PZd++vXqO753VwYfmOh+2QwItiUClOkUhch7ln/dFy6DOloP4O6vd8vsPa+Tpz2oaFOgh5EOcT451yKtfi5bkOIcJCf6RivuLdnjkVY3M//bUSNP+ayvcRpzvneGU5x6MNmJ8cblPrv9LpeSe8MlnWz0ydQgVegOrFb9RoG/FF49dJwESIAESIAESIAESIAESIAESIIHzR8B+IuH89eDURz7V0xKB2+vmO3bsKPfd/4AsXbxIYCGzaeN6Feg7+Q934kSxrF+3Tnbt3CmdVbgfMnSYdOna1b/dnvF4PLJs6RLZt3evWdW9Rw8Ze+k4E7FfWFAgq1atlM2bNpptu3ftlPkfzZOBAwdJ127d7CZk65YtAk/3vLw8yerUScaMvVRSa6P9rUp1/bZdEvbv3yfbt20VRM5/7/s/VHEeyRStej179ZK7771Pnn3maVmyaJEK9Nf7j4WZnCNHZN26tXJMnyLomd1TRowaKUlJyUF1sIAI/ZVfrJDdu3ZJWocOMmrU6JA6df3CgMHOHTtktZ4vnlboP2CgDB02LKQ+F0mgdRBYuddrRPOBnZwqziPS3fqs3zDKJX/9pEYOFvikoMwrafHh7Wc+2mSJ+zeNdqk4j3P2CWp+eUKEEeg/U9ubb0+1JNstRyxbm2uHu1Sct46DfS4b5JKPNnlkp9rfTBVrgAAtta9S9x3TMs+78f2jQN8yryB7RQIkQAIkQAIkQAIkQAIkQAIkQAIkcB4JwKd/gIrla1avkpycHH9P5s7+QKa/8rJ/2Z655dbb5KZbbrUXpbCwUH74vadMdLx/pc5Mf/klYy2Tk3NEXvzP8/5Ne3bvFrxuv/MuI9CXl5fJn/7we9myebO/DmZe1WM/+dT3ZeSoUUHrAxcg9qOMGz/BHzkfuB379u3bT6Ki1V+jtkBE/91vfmUGHux1mEJQ/9YT35ERI+uOl6+DBf/zk/+WgoJ8f9XXX5th6vpX1M6UlZUZDoF1sWn4iBHyxJNPNbsPfujxuUwCzU3gmEauowzqEizAO3WxZ0enbD/qNdY09Qn0sK1BgcAfWHplWO0VaYS8Xfroui1HdOCsdh97/ZFCq06PEL96ezunrYsABfrWdb3YWxIgARIgARIgARIgARIgARIgARIggXNAwK3e9Os1khzFtrdZ8fnnRpxHZPqDX/6K9NNEqEiM+tIL/5G31NcdUfQXXXyJ2ef55/5lxPneffrI7XfcJdXVVTJzxv9n7yzgqzjaLv7EPSECwaW4U7xF6u7y1ZV6KW/bt260b93dqLu7Ii2lFG+Lu0sSIArE/ZszN7PZvfdGiZIz/d3s7tjO/ndvaM48e+ZTvVjrKy+9IPfcd788+sRTMmvm7zJdWemMGDlKC/wxMTG6/Zeff67F+fi2beXiSy6ViMhI+eWnn2ThgvmC9m+9+76u5+0HotWR7JH49nqIiL//wYfsWfLu229pcb5Vq2i55rrrlSd/K/njd9fYnn7yCXnxlVclJiZWt3n91Ve0OB+r3jSYcMVVOlL/119+8hD38QbBYw8/qOtiQuC0M8+U5N27lQf+V7rujOnT5IQTT3KMgwck0NQJJGe6xHFvAnx0mGv0KWV1vF1LaqYr19Q1dSDPw2cei8Zm54uEBYkc099PflhaLN8tLlLiv48MV373M1YVa797tBvb0ynym764bV4EKNA3r/vF0ZIACZAACZAACZAACZAACZAACZAACdQxgQIlxufm5upeC/LztXj8hxLOITBDjB82fLgu++zTj/X2+hv+I6NGu4T49h06SL5qg8j29955xxLot2zeouti4dd+/fvr/fj4tsr//WEpyC+QoKAg6dy5s8S1bq3LsEgtjk3y9fXVUevnnHuewBoH6eprr5N//l6k7WXgkx8X52pr2phtYkKC3o1V1jPVSbj2mb//pqs+9OhjloXOJZddLklJicriZ4WaXPhErps4SR9jUgLpYbXIbEREhN7vP2CA3H3H7XoCQmeoHytWLFde91slNDRUJv/vQWtB2qioKHnpheflx++/p0BvYHHbbAjkF7oEen8v1u+B/q4o+EKXi43Xa8ota+9tcddA1ScE+sJinMNHDu7iK/efFiD/+75QnvhFmd+XJT+ly795WaC0Uv71TM2fgL96g4mpGgTAyfqo+ta+Lb8a3bBKLQm0tOfUPF+1xMVmJEACJEACJEACJEACJNCiCZj/n9Z/R5T9zWvP0/ktmhAv3p0AFoPFxz1BnIcYj8hxCPcpypcdli8jR41yVEX0OwR6eNPnKbEbC7L27tNHR7sjMj076zwZpCxdEImPSPTqpIsvvUxXg50MPOHhWY8JAwj78MXPyXFNKFTWl49P9aJr4XGPBF94p7+9qImIQ7RAv74sKn/7tm267oCBAy1xHhmwBEK0/44d23U5fqxfu1bv4y2CtWvWWPkhZQvWgldJSYlgMoKJBEjAk0BOgciPKoLepDYRPoII/mJlTT99VYn0iPcVWOswNW8CjKBv3vePoycBEiABEiABEiABEiABEiABEiABEthPArB16XZQN90LRG1EnkNMHztunIr+dnlWbNvuEqaxICrEaHtqraLgYRsDwXnXrl3StVs3mXDlVZKeliYbNqyX1197RVfv1KmznHTyKTJ2/Hh7c6/7mBB49pmntDjutUIlmbCnkS0iezLSK6lVXoSFXpEQ4e+ejNc9rgUJkxRIsbFxelvZD2O1s2L5csHHW9q7d6/HpIC3eswjgaZCIKCSKPkiHfkuEhTg/B1hHztsbJAQKe+eCsq0+KCyc7wwvVAWbyuRUQf5yuRTA9Sisj56EdobPy6QzxYWSWflQX/qEC+h/O4d87hJE6BA36RvDwdHAiRAAiRAAiRAAiRAAiRAAiRAAiRQ3wTGjB0r5194UaWnCQoK1uUQqrGgqrtIbxqHhYfr3bCwMO3zjojyBfPny5y/Zuvocoj1W7ZsFhMhb9q5bz/84H0tzrdv30FOOOkk6d69h8Dz/e47bxdE1VeW0GbJ4sWSZFvc1l4fljZYrNbf318um3CFBAW7rm337l32anrfR9lsICFyHym4rC4sdqpKvvDhUAlR+D179fJaHfY3TCTQnAjER7q+Exm2xVzN+NOyXHuxrl8DJtuxba2i4Dcll8qeHEe24IUviPb42oSUrd/85zqXYn/VYf5anEeLTjE+ctGh/vLstEL5TfnRU6B3cmyORxTom+Nd45hJgARIgARIgARIgARIgARIgARIgAQalEC7du30+QqVX/3mzZu0YG4GgMh5fGB/g2h6CODwikf0PfzrETn/f+ecK4sWLpAXn39OfpsxXS646GLtb2/6sG8RPQ8PfKSbb7nVWqQWxxDVq0q9eveWn3/6Uf76c5ZcqM7j3mb5sqUy64+Z2pIGfXXo0FF3uXrVKst335zDWNv0UIu8IsHGBgmWNZVNVKAO+l21cqVmcvwJJyKLiQSaPYF2US6BfnVimYda2RWVqMPt6cp7RiUj4pcVOTYdol3t1+wskTG2RV63pbr6iwxxlcPGJkstFovUpmxSwHUk0rZsDAnpzjGYcm6bFwGafDWv+8XRkgAJkAAJkAAJkAAJkAAJkAAJkAAJNAIBiO99+/bTZ54+9VdrBBCpEY2O1KdvX71FdP2U116V55RFzbZtW3UefnTp2k3vw0u+sECZS6tkItP3KasXk3yV971JWdllIbkq46/Zf8puZaGDVFjoaq8P3H4MHTZcC+l5eXny5pTXtJBuqmAi4cP339eHh44Zq7fwy0dkPMY1b+4cU1X76X/y8Yf6GP70SL1699ETC6j796KFOg8/diYlqcV1l1jH2Bk+YqQ+/vWXn3W5KSwqKpKXX3zBWpjW5HNLAs2BwFC1cCui3CGwb9jtEuQxbkSz56qvZUclwMeGu0R25O/a6/KMxz7SEX1c3+9v/y2WrDxXHn5+OE+Fz6t0ZF+XXItzmH5Q1yRI8l//46rbI778PKac2+ZHoOpp1+Z3TRwxCZAACZAACZAACZAACZAACZAACZAACdQ5gSuuulruuO0WmTtnjiQmJEj3Hj1l/bp12romPDxCrpt4gz4nxG7YuixcMF8m33O3YEHV4OAQ5cO+TJcfdvgReiFZHAwaNFjnIeL+pReelzHK937o0GHSU0Wsw7/+4f89oIX/VGVrY8R5NEhKTHRE8etOyn5gguDa6yfqthjrqpWrtMUMxpyUlKhrwQbn9DPO1PsY76WXT9CTCphYQKR/VFQrWfzvv/rNgP4DBoiJgEfdM846W7764nP9NsCgwUPUBECJmOh7+zj69e+vRXpc252336qZYEHY5cuW6X5zc3PkyKOOtjfhPgk0eQKwnzl7uL98vqhIrny3QI7q5ydFSj+fucYlok8YVy63/rqiWB75sVD6tvOVNy93+dYM6ewr3Vr7yJaUUjl/Sr6MU1H0W1T0/IoEl9h/zojy9pOO9pcHviuUd+cUyS/Li2VQJ1+Zv1EJ+2WR9dccHtDkeXGAVRPwu+++ex+ouhprYEYcr6ilpCRLVlamYBYaC8bgFTf841KR9xzJ1Q2BlMwS2bmnRDbuLpa0rAPz9R0sMtIm0lc6xfpKz7Z+EhrIWdC6eXrYCwmQAAmQAAmQAAmQQEskgOhi/A23fds2LWr2UZHP7Tt00JG/LenvN/wtW1JS7GFFUhcM/FSUNxZUbcoJkdqVpRUrlsvGDRt0VPiAAa4I8crqQ4Qfdcgh2t5lu1o0dsvmzZKtItz79R8gN918i2Ph1BEjR0l+fp6uk6SiyyGOwx4Hwv1lE660bGdClVc9POW3btmi67RpE6/7G6JE+k2bNigdIkUvzJqdlSWjDzlUolpF6eN27dpL/wEDJTsnW6ZPmyro5/gTTrKGHxMTqxa5HS8bN67X0esQ9DMzM/V34JjjjpeJk/6jLHlcgiEade7SVS2U210v5orvzdatW3RdjPf6iZPEz2at06dPX+VM7yPr16+TXcrnPnn3bunUubPABgeR9CNHjZaOytYHCfsw116/bq3+PoIbnr8jjjxaTSJgQoN/+2pQ/NGsCIxQi7bmq18vqxKhVZVqgR2Lv952QoAcP7D8DZhtaaUya22JdI3zkeMGlOcf299f1u8q0V7063aVSvK+UoE3/QsXBCrxvvz36kFqv6PynF+2vVTSsktlsxL1sZAsfOgfOztQ+ijhv6Umd+uupsYB//7iTaPqJB/1j8WBqXZW5+prUAdA09PT1YzwStm5M0mthL5H8MoYVjPH/5RApGeqPwKrEotk8dYimbq8QNbtrN7DXX+jqZ+eQ4N8pH8Hfzm0p7+cODhQvcbEZ6p+SLNXEiABEiABEiABEiCBA50A/iiGaJqWli5zlCUIbDdOO+MsFck7QnuEt6S/3yDOY7ICf9PaRXn7fm2fB4i7vr7lglNt+6nPdgiuq68EsT0lOVnalgXuVXaejIwMyVdjiVP+9BWJSphQgv1MXFxrrTOY/pCfnp4m8fFtK2xr6la0xXcCWkaY8sSPatWqompWPiYDsrOzpU18vJXnbcf0i8kARNZXldLUArtKmxfUZyKBA4XAzj2lAnHe2NG4X1deoVpcuYJAd/jMJ2S4xPnQ8vky9y708b5ciPTKf1750ZtFZL1WbCGZ1fmd05gozL+/1RlD+TsT1anNOiRAAiRAAiRAAiRAAiRAAiRAAiRAAiRAAnqyB29lVCdFR0dXWS0kJETwcU/IM4u4updV9xgTMrC0qW4KCw8XfKpKNe03NpbCfFVMWd78CLRrVflbIBWJ87hS+Mx3ia28vSGCxWMjPX9FmGJumzEBhug245vHoZMACZAACZAACZAACZAACZAACZAACZAACZAACZAACTRfAhTom++948hJgARIgARIgARIgARIgARIgARIgARIgARIgARIgASaMQEK9M345nHoJEACJEACJEACJEACJEACJEACJEACJEACJEACJEACzZcABfrme+84chIgARIgARIgARIgARIgARIgARIgARIgARIgARIggWZMgAJ9M755HDoJkAAJkAAJkAAJkAAJkAAJkAAJkAAJkAAJkAAJkEDzJeDffIfOkZMACZAACZAACZAACZAACZAACZAACdSUgI+PT02bNNv6wcHBzXbsHDgJkAAJkEDLIMAI+pZxn3mVJEACJEACJEACJEACJEACJEACLZiAEeXNtgWjaHKXXlJSIoWFBU1uXBUNKD8/X0pLSysqZj4JtDgCOQWlUlhc+8vel1sq1flGFalzoC7TgUeAEfQH3j3lFZEACZAACZAACZAACZAACZAACZCAJkBBvvIH4bNPP5YfvvvOUSkgwF/i49tK/4ED5ayzz5Hw8HBHeV0fXHvVBNm3b5+8OuVNiYmJrevu67S/3bt2yQ3XXyNt4uPlldfeqNO+TWf79u2ViddeLcXFJXLr7XfI0GHDTZG1XbVypTzy0P/Ez89XXnzldYmOjrbKuEMCDUXg/Tn58uHcPNmb4xLN20T6yu0nhchhfQKqHEJBkchD3+fIzNWFUlBUKupRlh7xfvLI2WHSJc4ZTz1vQ6E88XOuJGWU6H5R94RBgXLz8SESGdJy3oiqEmozruC84834Qjh0EiABEiABEiABEiABEiABEiABEiABEqgJgZzsHCt6PTomWvBBhPiWLZvlpx++l6uvuFzS0tJq0mWN6xYVFSkxulgQSV/TNGnitTLh0ovUNRTWtGmV9b31bcZYrMZcXykyMkoOHTNW35d333nL62neefsNXT5i5CiK814JMbO+CbzyW568PCNXsvJKZXR3fxnYyV+S96lJpU+z5Y81VX8fJ7yVKVOXF4i/UmbH9QqQ9q18Zd3OYjn3lX26HzP+31YVyo0fZWtxPibMR59HzV3JT0sL5Pr3s6oVeW/64rbpEmAEfdO9NxwZCZAACZAACZAACZAACZAACZAACZBAAxA44cST5OJLL9Nngli+atVKefWlF7Q4j+19DzxYb6N48533tcBeG7/8lOTkWov7VV2Qt77btW8vH37yuQQGBlbVfL/KL7z4Evlz1h+ya+dOmT9vrhxy6Birv8X//iPbt21T0fN+cslll1v53CGBhiKQV1iqI+dxvrevjJD+Hfz0qb9alK8j3SHcH9G34ij6FTuKtBgfFeojX02KlFZqixj825W4P2ttoXygIvNvPTFE9/n4Tzl6e+2RwXLFYa41NWBzc+yTe3Uf/24pkuHdKO9qSM34B+9gM755HDoJkAAJkAAJkAAJkAAJkAAJkAAJkEDdEoDwO2jQYDn7/86VKa+/KmvWrPE4QVJioixcMF/27t0r3Xv0kNGHHCoBAU5BDj7t//y9SFavXiWBAYHSr39/6dq1m8yfP086d+ki/fr11/3O+Wu25ObmyjHHHqdFZ3OyHdu3yaKFCyU1NUXi4lrL0OHDpVu3g3TxooULJD09XYvzyJgxbaqEhoXJkUcdLWmpqfK3Om/HTp0kJCREFsybJ0HBQfp6UDc/P0+WL1sm69atlYL8Aj2Www4/XI3fJbpX1jfGCeE8KirKIZqbfmE9s3TJEl3ep28/6T9gAIqstH79Otm8aZMcfPBQKVC++4v/+UeSk3frsR5x5NFiJikQRX/mWWfLl198Lu+/+7bma+yaTFT9KaeeLq1aOa1tqnNfMBiMc926NZKakiKYdBg7drx6eyLGGmdVDK2K3GmRBBZuUm+9qCj2fkqYN+I8QJw5PEiem5Yn29NKJD2rVGLCvdvP/LrcFWH/fyOCtDiPtqh5tRLhIdD/rmxvINBnquj8XLU8RXiwj5w3OgjVdIKtzQglyi9Q49iwq5gCvQHTjLcU6JvxzePQSYAESIAESIAESIAESIAESIAESIAE6odA9549dcdYwBViOwRibJ9+8nElnC9wnPSTjz6UBx95VFq3bmO1efyRh2X58mVWvW++/lJ7tyfv3i1jxo6zBPq33nhd8vLyZOy48Zbf/S8//ShGiDYdwC//pJNPlcsmXCE4X2JigimS9997R4v7EOg3b94kb785RUJDQyUnxxV9C0EdEw47dmyXhx6YLBkZGVZb7Hz4/rvy7AsvS2xsbKV9Z6hJAfSNevao9vVK7J98793WhIHpfNjwEXLTf2+1hPfZs2bJtKm/SI8ePWXjxg2mmt5+/eUX8srrb0hQkCtK+Awl0P+obIZgMYRJgcOPOFLmzZ2jo+oxmXDW/51jta/ufcnOzpann3hMVq5cYbXFzgfvvSt33n2vYLxIlTHUFfijRRPYvddlRzWgo1NW9VV2Nd3b+MqapGLZqerEhLsi691h7drjag+B357gQY+Uke0qj1DC/Nz7ouxVrP2tqa467aPVSZmaPQHexWZ/C3kBJEACJEACJEACJEACJEACJEACJEACdU1g6q+/6C779R+gxXkcfKCEcIjzEKivu/4GtYjpnToCHVHuU1571RoChGWI84jGv27iJHn40Sfk1NPPEIjzVSUI0h8owRzpiquukSefeU7Ov+AiffzzTz/oiPy77rlPnn7uBSvi/pHHn5Snn31B1zE/IM63bddOt73qmut09pOPP6rF+ZGjRgva3HXvZOnUqbMW8t+c8pquU52+zTmwhQ3NA5Pv0+I8rvHZF14S9BERESH//vO3joC318c+xHn4zN87+QGZcOVVWsDH2wjT1ZsAJkGEv2zClfoQ3OHV/16ZJz2sbUy0PSpU97589slHWpwHF4zxsSee1uNAH88/+zQ2juSNoaMCD1okAXjNI8V6iZCPDnNJraaON0DJma72MeFOWRZR9IH+Pjo6PzvftfCse/uE9BJ5cXqu7FITAKh7aE/nmzvu9XncPAg4p3qax5g5ShIgARIgARIgARIgARIgARIgARIgARKoMwK7du2U1cp3HgmR6Yj0XrvWZW1zxJFH6XxYw/z04w96f/IDD0n7Dh30Pqxcrrz8Elm2dIkgwhxWKd9+/ZUuu/mW22TU6EP0fu8+faRE+dubPnSmlx8rVyzXYjesV44/4URdA9Y2KWoSYInyX4fIb+xxTPMuXbqqyPNyCwzkQyB/8qlnJURF0iNh/O3bd5DOnbvIf276r1U/KDBICez3yBplxYMU37at3pof3vo2Zdj++MN3esHWI48+Ri6+5DJdBNH//gcflltvvlF+mzFdR+/HxsXpMvw4eOgwARukwUMO1iL/Lz//JJs2btR55gfeCPhK2dxgAuSeu27XkwvR0dFy7HHHmyr6ugzTqu6LrwpxHjpsuJx/4UXabgidXH/DJG1XhLcYUlKSrbcgUObOEHlMJJDncqhRC7x6WtgElimtBUXeBXbQyy1wlQU4A+g1WLQvKHJ9wmxf6c8X5ithPk+Vudpiwdj3ro4Qb33wDjU/AhTom98944hJgARIgARIgARIgARIgARIgARIgATqkACi4t1taxD9PnHSjTJu/GH6TBs3uMRjiLawiLHbxCCiHpHvSUlJEqAWUIXYi/aIVLcnCNdVJXjVI+1Ufb391hty2GFHaJ/7a669vqqmjvKDuvewxHkUwDoGUeNIWGR1584k7aFfUKBMrlXKz8/X25r+WLN6tW5y8smnOJpC2Dc2O5s2bRS7QD9o8BBH3f4DBgoE+n379jnyYSt09bXXyaMPP6i961GItwEgtJtU3fuCiZPLr7hKN4Pgv3jxv5Ku7llxcZGerEC0vLEEMn27MzT53JJAQxOIVdH2sM/ZlFyiRfr07FKZvrJQLhkbpP3rG3o8PF/dEqBAX7c82RsJkAAJkAAJkAAJkAAJkAAJkAAJNEkCZpHNJjm4Rh4UItSNmI6FTJco8bZt23aWOI/hwWcdKTMzU0ec6wO3H4jADo8I17mRkZGWNY5btUoP4WN/4823yMsvPi9Tf/lZf2D3MmbsWLngwosdi5lW2pGXwoQdO+SJxx/REeteimuVBV97JNjGuCd4uv81+0/B4q2VJV9fL6HEZQ0QbW8867uqRXZHjBzl6Kq69wWNMAnx5GOPONYGcHTGAxKoBoEAEyVf7BklX1Ts6iA4wDO63nQNaxqkfC9R9oieRwpyc645un+A4FOi3HGWbC+Sie9nycszcmVwZz8Z0pnyrota8/3JO9h87x1HTgIkQAIkQAIkQAIkQAIkQAIkQAKNTMBToGrkAdXw9K7xDxw0SM4+x7XoKKLfJ1x6iba6mTf3L8uj3ERtIwr+qGOO8XqeXr16ib+/S2pBNHhpaUklIr07Oxy78saOG6eE6BEqqn+hLJg/X3u5z/pjptqfJ88o7/k28fFu5y9va/pwbcvPUazsdYw4P3zESDX5MF66qyj7gMAAuebKK8r6K69ffgJvfaPUVRdvCqBveNF36uz9DQHXpIV7P/ZzmX17nfIR9BswQPvWu94uMHVd5dW9LxgvPOyxNkCHDh3l5FNPlR49e0lrZb1z639v1jY65czMObyPp3xk3GuJBNpGud7gcC3map4VF4m0LKWgqxQXARHeWaYL1I82kT6yUS1HsUcvBlteB3uwsPFT3YcGonZ5GY6Q8PLIsK5+csKgQPlpaYH8trJACfQVT3C5WvFnUydAgb6p3yGOjwRIgARIgARIgARIgARIgARIgASaJAFP8ahJDrOGg8LioxdefLESc9+Wt96Yoj3kIUJ37NRJ9+Sn1LOT3Oxc7KeAWI2ELTzVe/TsaS+ucn+18oKHzzxsX2Cvgw/84++49VaXP76KSD/7/1yTCVV2ZqsAj3yI6Li+W2+/w1pgFn3vT8KbBvDth0WQu0Bv7G/gv19fqbr3BdHz8MNHuv3Ou6w1BHDsb0KiccBEAlUQaN/KFQG/MqEsXL6sfon6lbgt1SXQx0e6RHxvXXWMcZWtTiyWcb3LQ+W3prjaRoW4+seCsFe9kyVYePaja8PFbnkfH+Wqs3PPgfl72Bu35pdX/XtT8dPS/K6aIyYBEiABEiABEiABEiABEiABEiABEiCB/SaAxVnhNQ87m59/+lH3B5EZQv3WrVu1bYv9JD98/51Mee1VLcqjTq/evXXxjOnTrGoQiFGvqrRowQJ55aUX5fVXXraqwj++Q0fXorR7lP+9SQEBLnEvM9Pp3W7K7Vs/P1eMZmFhoRQVlfloqApvvP66vZq1X92+Dzv8cN3mtxkztPe+6QAR//B6hz1Px46uyQ1TVpfbmtwXc96srCyzKxgnJi6QCgvKVv+0SrlDAp4EhnXz11HuENjX7yoX6aevKJQctQBsJyXAuyLoXW137imRYpf2rjOO6uf63n75d4Fk5pWLuO/95ZosO3qAq7yNEvlTM0tlgzrH7HXlzyZsbn5c4jo+WEXTMzV/Aoygb/73kFdAAiRAAiRAAiRAAiRAAiRAAiRAAiRQhwQgsl9+xZXy4vPPyWeffCJHHX2MhIeHyxVXXa0E7dd0/qyZM6VN23jlTb9OL7oaHR2tPOIvkgjlPX/xpZfJfXffJTN//00tbrpRWdK0lTUqMh6Cf1UJ55r66y/aimXiddfIABVJD5/3DevX6wmC004/w+piyMEHawucBx+4X/r27SfXTbzBKnPfgf0OxPLCwgK58vJLpY+qv2njBmtMiPjPSE+3PO6r2/epajzTpv6qxfgb1HjhEZ+Wlqp8/BfrIdx3/wOV2Py4j7LmxzW5L5g4wf2afO/dAruclJQUS5zHmRMSdtT4jYeaj5gtmjuB0EAfOXdUkHwyP18umZIlxyhBvUiJ5r+pRVuRrj4i2LpE2ND879tc6dfBT96/2rU+xdCu/nJQGz/ZnFwsZ7+YKeP7BMiWlGJZtt0l9p8/Oki3D1Sq7cVjguTDufly26c50rudn3SI9pU56wuVFY5IVKiPnDFMe+FY5+NO8yTACPrmed84ahIgARIgARIgARIgARIgARIgARIggf0kYBbO9bF7R5T1OXbceO31DkH722++0rnHHHuctodBdD28zH+bPl0SExIEHvbPPP+iFudRsU+fvnLXPfdqOxlE3MP+BQL4sOHDy3r33JixwCbmqWee0z7psLqByA9xPioqSp37Tmndpo3V+ORTTpPY2FjZmZSk61kFasfHxyn5hISGygMPPaTrw2d/6ZLFkpOTo+x8LtHjRNvEpESrC299G793e9+YzHjuxZf1Irt79+7VNjIQ57Hw7p133yt9+/Wz+jTXaLamwLeMv+nf5Jutr4/LzsO9nSmv7n25/Y679HhwL1YsX67F+UPHjNX3D33hXtqT/Trt+dwngZuOD5ZLxrqE9KnLC7U4D0H9vtNC5PhBrgh4UAoqWxA2PMj1DBty71wZJqO7+0t6dql892+BFucRMf/BNeFiLHBQ94ZjgmXi0cGCvtftLJaZq13i/MiD/OVDVTfMrV/TP7fNi4CP8horf5eieY29QUeLX97paiZ59aqVsnNnkuzJ2CNDhw2Xg4cO1TPYFf0j0qCDPIBPtiqxSBZvLZKpywv0L6QD8VJD1S/V/h385dCe/nLi4ECJDXf+z9SBeM28JhIgARIgARIgARIgARKoDwKlpaWSnZ2lonjTZY7y64b39mlnnCXDR4xQEcQBapG9lvP/2liktKAgX0qUJ0JF4mZt74GLZcu1V4BNyj4lSLdr394rWzyHYI4obSwciwj7hx98QD2PS+WMs87W0fZVsYcVDTSIqKhWEqki8ytKEOgRuY9o8uqkDGWTk69E+vi2bb2O3d5HTfrGcwa7mNi4WIEtT2Okqu4LxpSrJibS0tKkbbt21qK+jTFWnvPAIJCUUaIEdB+HrY39ynKV7U2Iirr3lmB9sz2tROLVwrHQhSpLsLuBJQ4E/ICW+6u3MkRNqqykpFi9sVRuTVTZ4NT8CxMJkAAJkAAJkAAJkAAJkAAJkAAJkAAJkEBNCEAMr0gQhwj/wnPPyOQHHpSu3brpbtevX6fFeRz07z+gWqeCsN+pU+cq62KSoCYJkwXVTTXpG5Nf7Tt0qG7X9VKvsvtiToi3CTqqDxMJ1AWB9sp2prJUkTiPNmrNaenWuvL2pm/42tu97U0+t82fAAX65n8PeQUkQAIkQAIkQAIkQAIkQAIkQAIkUCGBuo6cr/BELLAIwIMdfvO33XKzjtLOVtH2xn9+8JAhgg8TCZAACZAACYAABXo+ByRAAiRAAiRAAiRAAiRAAiRAAiRwgBOgSN+wN/jIo44WfJhIgARIgARIoCoC1XuHoqpeWE4CJEACJEACJEACJEACJEACJEACJEACJEACJEACJEACJFAjAhToa4SLlUmABEiABEiABEiABEiABEiABEiABEiABEiABEiABEigbghQoK8bjuyFBEiABEiABEiABEiABEiABEiABJoogdImOi4OiwRIgARIgARIQHnQ8x/q6j0G4GQ+aGH27dvq9cRatSFgONembXNqg+s0yb5v8rglARIgARIgARIgARIgARKomoD5+8Fs0cLsm23VvRwYNXC9TCRAAiRAAiRAAk2VACPom+qd4bhIgARIgARIgARIgARIgARIgARIgARIgARIgARIgAQOaAIU6A/o28uLIwESIAESIAESIAESIAESIAESIAESIAESIAESIAESaKoEKNA31TvDcZEACZAACZAACZAACZAACZAACZAACZAACZAACZAACRzQBCjQH9C3lxdHAiRAAiRAAiRAAiRAAiRAAiRAAiRAAiRAAiRAAiTQVAlQoG+qd4bjIgESIAESIAESIAESIAESIAESIAESIAESIAESIAESOKAJUKA/oG8vL44ESIAESIAESIAESIAESIAESIAESIAESIAESIAESKCpEqBA31TvDMdFAiRAAiRAAiRAAiRAAiRAAiRAAk2YQGlpEx4ch0YCJEACJEACjUigJv9G+jfiOHlqEiABEiABEiABEiABEiABEiABEiCBZkygJgJEM75MDp0ESIAESIAE6o0AI+jrDS07JgESIAESIAESIAESIAESIAESIAESIAESIAESIAESIIGKCVCgr5gNS0iABEiABEiABEiABEiABEiABEiABEiABEiABEiABEig3ghQoK83tOyYBEiABEiABEiABEiABEiABEiABEiABEiABEiABEiABComQIG+YjYsIQESIAESIAESIAESIAESIAESIAESIAESIAESIAESIIF6I0CBvt7QsmMSIAESIAESIAESIAESIAESIAESIAESIAESIAESIAESqJgABfqK2bCEBEiABEiABEiABEiABEiABEiABEiABEiABEiABEiABOqNgH9pab31fUB1DE76g6uyMbPybXkH1IU3kYuxODeR8dTLMMqeIeta+UzVC2Z2SgIkQAIkQAIkQAIkcOATMP9PjSvF/1ab/7U2+di2lNSSrrWl3FNeJwmQAAmQwIFFgBH0B9b95NWQAAmQAAmQAAmQAAmQAAmQAAmQAAmQAAmQAAmQAAk0EwIU6JvJjeIwSYAESIAESIAESIAESIAESIAESIAESIAESIAESIAEDiwC/gfW5fBqSIAESIAESIAESIAESIAESIAESIAEGo5AC/ILajioPBMJkAAJkEALIsAI+hZ0s3mpJEACJEACJEACJEACJEACJEACJEACJEACJEACJEACTYdAo0bQl6rVagoKCiQ/L0+ysrMkPz9fCgsLxdfXV/z9/SU0NFRCgkMkICBA52fnZEtuTq7kqfo6+Yj4+PhIUGCQhIapuiGhEhQUKNnZOZKbm6v6yxM/Pz+VHyJhYWG6HPXxYSIBEiABEiABEiABEiABEiABEiABEiABEiABEiABEiCBxiTQaAI9xPni4mLJyc6WPXv2SEpKsmRlQaR3ieqBgYESExMjUVGtlLgergT3HFUnRTIyMmTfvr1axIeQj09ERITExsZJVCvUDZPUVFUvPV31lynop1WraIlr3VoL/b6+fpZAD6Ee7ZlIgARIgARIgARIgARIgARIgARIgARIgARIgARIgARIoKEJNJpAX1RUpCPnIczvTEqSnTt3qsj4XPH185WSkhJBjPuePRkSHR2jxfdsJeQn7NihBPp0yczMlPDwCAkOCdYCOxzvQkLDdLQ8ovETExIkOXm3irbPkcCgICXo7xPUgViPiHoI85ggCAgI1FH6jKhv6MeO5yMBEiABEiABEiABEiABEiABEiABEiABEiABEiABEmg0gR4iPOxscpSIDvG9oCBfi+2Ils9RVjaIrC9KTdV2NhDTYVmD6HmI7kiIlI+KihIfXx8JVxH0sMMpLimW3H25sldF5GcpER+pUFnoQKDfo4T9ECXo+6kIel8l0iNyPjw8XNvfUKDXqPiDBEiABEiABEiABEiABEiABEiABEiABEiABEiABEigAQk0mkAP0R0fRLSHhYcp7/ggtQ2X1sqKJnn3bklMTJC0tDRlVZOhy0pKVAy8CquPjo2VqMhI6d6jp6rbRkXDi+rDXwICA3Q71IdQH6x856Ojo/U5spW/PaLuJWmnquurI+lDVcQ9vO2ZSIAESIAESIAESIAESIAESIAESIAESIAESIAESIAESKAxCDSaQA9hPig4SGLj4iQ4OFhH0MOHBlH1+fkFKvK9UFvR+PnDksZXCe2FAlucYvUpUt71WFAWH4js/v4+6hMgfmphWUTGwx6ntCxCv0SJ9QWqL5Fs7XkfqBaUjVATAfC2D1QWN1UlM5Ggt6pPvdWGOVW1ZDkJkAAJkAAJkAAJkAAJkAAJkAAJkAAJkAAJkAAJkAAJVEyg0QR6COv4IJLdZUOzVy8Cu1NFuacqX3rY0vgrcT5EWddAwM/JLlb18i2BHm1hewNLnFZqcVgtzishH5H4WAi2sLBA29qUqCh9LEZbpIR/fMLCSrW1DdrBFqcyexu7OI8+iiHQI5IfhvZMJEACJEACJEACJEACJEACJEACJEACJEACJEACJEACJLAfBBpNoDdj1gu2qgNEzsOLHovA7tm7R+1naW95CO8Q3eFZHxISqqPoIeinpaZJdla2+Af4q0VkY1U0fZ6yuQmUmJgY7WFfUlqi/e1LlFAPQR3tdQR+sVqcVtVNS0tVecUSoexyQpQdTlBQsBmS3qIuxgQv+8ysTN1Xenq6tt7BebXljqMFD0iABEiABEiABEiABEiABEiABEiABEiABEiABEiABEig+gQaVaA3EeoQyouLS6QEke5KQDfR6hDVkfyVxzzEedjS5OflSYES3YuKCpWQn6uj710Lx/pIhw4dlFgfp61v0A4e9hD9lWmOmEj6wsIilYeFZpOV9U2B6qtQifqxypc+yBFNj3PDQgcL0yYn75a9atIAAn2K2ldB+Xo8OAcTCZAACZAACZAACZAACZAACZAACZAACZAACZAACZAACdSGQKMJ9BDAIcgX6kj1Im1j07Z9B4mMipKkpCTZuTNJRchn6U+eEuXDIyKkS9euLhFdKeQQ8mGDk7Bjh7a62bVrp14UtkOHYGnbtp2OjI+OjtEifVpqiq4DwR2R+Tk5KlI/3U/27d2n9+GHH64WqsVis/CwR8LkAcYHET8nJ0eyysaSm5unF7YNCaHPTW0eOLYhARIgARIgARIgARIgARIgARIgARIgARIgARIgARJwEWg8gb5M/M5S9jF5SjiH1U2g8pWPVOI6Iujz8nIFkfEQ1XPVfmhYmEQokR5+9IHKygZ1EPWeovzqM2FDsy9Ti+mwxAlV/WALKxz0k5MTqiPoYUsD33osNIvFZ7OylBivVpRFBD3sbLAYrRHoMR5/1QfsbzBpoFeeVcwg2OPclXnX8+EiARIgARIgARIgARIgARIgARIgARIgARIgARIgARIggaoINJpAD493iOXJKSkqkn2vFsax2Gt8fFstjEOER2Q7oudzc3IlKzBTfJVojv+wQCwE+MCgQOVBr/bVorDGLqdUec8XF5dqYX6v6hfR7+gHQrufr78W14tUlHxkZIQ+Z56KiMenIL9AnTfA4qXFebWIbLv27SWudZwS5guVxU2abFy/Xkflo18mEiABEiABEiABEiABEiABEiABEiABEiABEiABEiABEqgtgUYT6GEQA5ubPCXS79mToSPlMzP36S383mFfgwRhPTAwQEe4pyqrGljNBKs8COgQ+PPz8vU+IuxR11eJ9cXFhVKqouUhzIeGhkmYKkM9iOrZOVnawx7WOv6q3MdXSf74qOh5FUxvJUTSI0oefWCRWu2LryLnw5QVDiL2c3Mp0FuwuEMCJEACJEACJEACJEACJEACJEACJEACJEACJEACJFBjAo0m0EP8hjAOL/nsrGxJTU3WEe1paalapMdisAEBgcobPlzZ24TrxWGxWCtEfdVUl5VKqeSoBV8jIiMlLq61tsCBcF+k7Wp8lGAfqj+wxYGw75uRLv6qfywwC5Edgj76x3nQzqfMf95Q1GPEycoSxHrUob2NIcItCZAACZAACZAACZAACZAACZAACZAACZAACZAACZBAbQk0mkAfEKC84lV0e3ybtmpFViW4qyh5RKUj8h32NiHBIdIqOlpgexPVKloL9GFKTN+3b69eOBYiua8SzCMjo7SHfHtlRYN95Aeo9uFqi36QYIcDWxxExRvLG3jOI7I+JiZOopTHPKL0jf98bWGyHQmQAAmQAAmQAAmQAAmQAAmQAAmQAAmQAAmQAAmQAAlUl0CjCfR+fmoB1mBfHfmO6HV4ye/ds0dFxGfpiHZEt7du00YJ6DESHhGpF2cNC4vQkfbwgkckPdpBwI+NjZPWrdvoiHgt0Ku+IMiHKA95k/zV+RABX1hYoCxrArU9DiYI0C5SReDj/IyMN7S4JQESIAESIAESIAESIAESIAESIAESIAESIAESIAESqG8CjSbQ6wtTUe4hIcEqwj1OebuHa/G8WHnDw0YGYnpwULCOgod4jmh4fFpFt1Jifb5eFBYR7xDigwKDJEjZ2KBNRQkR+uG+Ebp+mzbx2lMekfXwl8eH4nxF5JhPAiRAAiRAAiRAAiRAAiRAAiRAAiRAAiRAAiRAAiRQHwQaVaCHKA7xHZ9QdpvROwAAQABJREFUW7R7RRcKgR6e8bVJEO/xgRjPRAIkQAIkQAIkQAIkQAIkQAIkQAIkQAIkQAIkQAIkQAKNTcC3sQfA85MACZAACZAACZAACZAACZAACZAACZAACZAACZAACZBASyTQqBH0LRE4r5kESIAESIAESIAESIAESIAESIAESKBxCOTn58vSJUtk86aNsnHDBlF+t9KlSxfp0rWrHDpmrLbFrWpkc/6aLUmJiVa1ceMPk3bt21vH2Pl70ULZsnmzI6+qgwi1Pt4JJ54kRcr69/vvvhVYAFcnHa/aYG09e9qxfbusXrVKNm/eJOlpaXqNvg4dOkiffv1k8OAh9qpe91NSUmTliuWaUUpKsnIziJAePXtKX9W+W7eDvLb59ZefJXPfPo8yX+Vm0Lp1a+nQoaPmDKti9zT1119k3969VvZRRx8jsXFx1rHZycjIkOXLlsrGjRtk65Yt6rqjpLO6fz179pKhw4aZapVuq3P/TAfbtm2VhfPnm0OJjo6RY447zjre351169bKMvU8mtS7b99q3Z/S0lKZO+cv2bBhvSQlJEpoWJi+PwMGDJSu3bpVauO8e9cumTt3juzYvk2yMrOkbft2MmDAIOmn7i2ewcpSbm6OLFuq+KvvTmJigjqPr3Tv0UOfe9CgwZWeF/3W9PuXl5cnP/7wvZSqdSiRYIn9f+ecq/e9/cDzMWPaVKsoJjZWjj7mWOsYO2mpqfL7bzMcedU5GH3IofpZ27Fju8yfO9dqEt+2rRx2+BHWsX0HvwPWrFmteWVlZeq1Nnv06Clg5e359vbd9/b9Xrtmjf4emHP1qOD53597bfrmtmEIUKBvGM48CwmQAAmQAAmQAAmQAAmQAAmQAAmQQCMSSEjYIY88+D9JU4K1Pa1YvkwffvTB+/LfW29TInR/e7Fjv0QJha+89KJe184UZGdny+VXXGkO9fbrr75UkwCbHHlVHURERGiBfs+eDPn800+qqm6VQzg0Aj2EW7T95uuvrHL3HYjZ/7npZoGw6C1BvJzy2qseRRC2kY47/gS5bMIVHusAfvXF55KZmenRzp4RrNYPvPra62TsuPH2bHn/3XccTAcMHOQhYC5csECef/ZpRz10gskQpF69e8tN/71F4uJa62NvP6p7/0zbTRs3yldffmEOdd91KdB/9sknsmrlCqt/TPS88NIr1rG3HQi+Lz73rMdzPH+eSzTGRMyjTzyp1nwMdTSH+AvO06b+6shfpiY8pv3qypt0402CCSdvCaL8ww8+IDk5OY7if/5epI8h1N95970SFRXlKDcHtfn+YRLgy88/M13obWUC/exZfzjuFxqMGTvWwWL37t0edRwnqOAA3xdMBv2zaJGj/UHdu3sI9MXFxfLWm1Pk9xmeEwEzpk3T3x18D4448ijH2bx99wsKCuSiSy511Ptj5u+Cj0njxo93TFDt7702/XLbcARocdNwrHkmEiABEiABEiABEiABEiABEiABEiCBRiCwft06ue2/N3uImvah7FUR3Pffd69s37bNnu3YR1Q6xDd7mqeikZtKevzRhysV5zFORF3/7/7JHteBsnfffsurOI8ykyDw3nHbLYLJgJomRES/+Pxz8uP339Wo6U8//iDPPPWE1zGbjnCPb735JiksLDRZHtumdP/y8/Mc4jwGuzMpSTLS0z3GbTLwZsSD6t65TzKZcmwT1dsdd95+m2DiyJ5eeuF5D3HeXo591PlTidzuacH8eXL3nbd7iPP2epjMmHT9tYK3L9xTXX3/3Pt1P56j3ipwT4sWuiZw3PPr6xi/H26/5b9exXlzTtR57ZWX5f333jVZFW7xZgrePKhJ2p97XZPzsG7dEVACPX6h8lM1A0AHJyT7luyqZleXjFx34MD+WZe82FfDPp/kTd58BvgM8BngM8BngM8An4Gm9wyYv+Fa6r05sP96qu7VvfnG6x7iLqxWENHtnl568Xn3LOt47lxPARDCPqKDGysZyxjYXixZvNhjGKbcXpCamqJtdOx5uAaIge7JW3tMYtTGJsT0/aF6WyElOdkcVrrNzsqSjz/8wKNOaGioRxQ/oru/+OxTj7omoyndP2/3CuOcr8TwitLLL77g8Rz7+fl5VIfQ/9knH1v5q1atFBNhb2WqHW/3Fm+I2MV9iMmvv+oZ1e/tvJiAQZS+e6qr7597v/Zj2Ctt27rVnqX33SfQvI3bo9F+ZPw2fbrABsc9eWP9s5p4SkpKdK/qOMaE08zff3PkVXawP/e6sn5ZVr8EaHFTv3zZOwmQAAmQAAmQAAmQAAmQAAmQAAk0IgFMTLTsBM95d+Fu0o03KysPl83K38qy4qknHrMgoS7sPOC57p7s3tP2srlz5si5551vZT3w4MMOD/ksJTJPmnidVY6dp559TuJiy33Wff0qNjl45bUpAkHaPaGNsTJ5/z2nMArLnEcef0Latm2nI7PfmPK6I2J71syZcuZZZ1tdfuAWzYvJi4cefUx59HeVfUr8vP/eu3V0tmkASyB4b3sTHlHniquulrFjx0lqWqqKmP9eZv85yzTV20ULF8hJp5zqyPN28JWyC7K/tYDzPfbEU9puBFH8773ztmNiAdH2F1x0sVc/9OreP2/jqOs8PDPe0l+z/5QTTzrZowii+ZYtmx354H/l1VerCOsCeVlNLOFZNwle8SYtmOcU/SFSP/7U0/rewuIG1k/2hDcNRowcqbOwPoC7rQ2+P2PHjdPrJbz1xhSH3QruKyZwYAeDVJffP91hBT8qipRfvmyZHqe/v0sChRXSu+9/6OgFdjT2+zFs+HC5YdKNjjrBISGOY28HENM//sg5mYT1Le7/30NqHYdwvS7FvXff6XjLAxMad91zn7furLxv1Hfg+BNO9PpMW5XKdvbnXrv3xeOGI1Dxb/+GGwPPRAIkQAIkQAIkQAIkQAIkQAIkQAIkQAL1QsB4p5vO+/Xvb4nzyIMQ6b7wKWxg3BPEUXeh0tSZ+5czsh7idpgS5MzHm7geGhpmlaOeEdpNn/Yt2pu+7FvTBnYpsBixpyuvvkaL88iDt/m1111vL5Zdu3Zawjfa28VdVLxG1Yc4jwSP+3snP6D3zQ+wWL16lTn02GJhWYwVfdzwnxs9vMm3eol29uhEZcxzsy05Wy0SasRfH7XI7wUXXeRoBjHfvoivKazJ/TNt6msLL/zF//7jtXvcR3sEu6mE++WeTj/jTAkKCtb355TTTncUoz4i2pHcbZsGDhpk3VssGgwR2Z6wQLBJ022LriIPkwKY3AJ7TJZcN/EGj3s764+ZprnU1ffP6rCCHW/2NqiK52HZ0vKJC4zb/h3CfmBgkKPXgIBAjzrVibzHZIBhbjq85777tTiP424HHaTXYDBl2OJNCnjGV5bwlk5FExDu7fbnXrv3xeOGI0CBvuFY80wkQAIkQAIkQAIkQAIkQAIkQAIkcMAQgAV5c/gkKbsPexoxcrTHuLt07WavIuvWrvWoY4+wdVRWBxBDU1PTPNpYfNwbqGOrzAtH9+p4D6Ky+snJnr7fw0eMcrRpE99WW/pAaDSfhIQEXWf3Lk+7GXdOMSrav1Onzo6hJSUkWudwFJQd2Mfcf8BARxVY3JhyR4E6MNdbUlIqGRkZjuLhI0Za7dA+MDBYYmNjHXU2qDcgTN9mW9v75+gYY/Nyv2qat2rlKkcUtfs58FaHe59Rka3cq6n1BMqvs2/f/nLq6WdYn9NOP1PAD/20io52tN2yebNVhvILLrzYaoc+sEivOX+qm6f84UccaZWZOmPHHeboH7Ytpmx/vn+Ww7Std9OvfZuXl+94O8RWXe/+NXu2NR57O/u+ext7mWPfo2L5M7Fzp/N3TdduB6nJi1aOc48cdYh7D+r3x26rjkdhWQYWy7WPw17Pnr8/99reD/fL7+v+sLDfp8r2aXFTGR2WkQAJkAAJkAAJkAAJkAAJkAAJkAAJNGsCKcm7HeOPiyu3lTEFsBRBZL1JHTp2NLvWdp6bJckxxx4nM6ZPs8oXzJ8rJ51ctWWL1aAOd5J3O68REfzG0sN+mvc/+tR+aO3v3r3L2scO7HG8WdcgEt/ur12Vf7a902Q3z/mOnZ1iv72u2d+zZ4/ZtbbuYjwKrr52ouzdW163/4ABVn2z05Tu37y5zjcujjv+BMcCrog6R6S6PcWq5xYTK3a7nzenvCZhYWGCSQuUXXjRJfYm1j4it+0e9IjIxqK711w3Ud/rIQcPFXzcE6LB3RfdbduunXs1ad+hgyMvKbFcqK6r75/jBG4HSxb/68gZf9gRylLpDyvv70ULlbhdWi2LGKtRLXZ27XJ+j9qr74t7wncTb8TY38bZqSY0OrgxdG+3ffs22bB+vfTs1cu9yHFc23vt6IQHDU6AAn2DI+cJSYAESIAESIAESIAESIAESIAESOBAIKBCb72FuDaxS4MYaU8Qn93H3aVrF2Xz0cVezVEnWYn8WFjVpDZt4mX8YYc5BPo5Kkr3pJNPMVXctmDlnqrP78EHJivBPcC9A7n73nuVQBsuKSnOCPjIyChV19s5PbrQGe72Ka1aIVrbs32raGcUt0vY96znOkv59YHfRjfboO7du3s9h71tqtt1oSxEe4E7zznk4CGuZo6f5XVqf//K+3B1XX5NjlPV8MAulqMpbHt+mzHdEt9XrVyhhPECj0mS05SlDfzITYJ4jvUTIO6ec94FMmr0aK8i9NHHHCOIwLaL7RCtYbNz9DHHyhlnniXRMTGmW2ubnOwUnFEQFeX5bLVqhbzylKbWHTDPT118/8p7xp77PVE2SHOdfv4jR43Ui6+aZw7XvXbNaunbr5+zK+vIvc+a3mdX+107nTZEMZqpe9+wjIpyCPSuCTbPehhetHr7wbxF8tWXnyu/+ntVrre6rrza3msLBXfqkIC3++S9ewr03rkwlwRIgARIgARIgARIgARIgARIgARI4AAk4OPrU+Ormu+2yObQYcPUIrK9HBHNmzdvUt7hWVowr/EJqmiwdcsWrzUKC13e1faoalT09S13NIa3vHuEPOrAi3v8YYdr2xu7cIsyeHB7S4GBznz3dvY2M6ZN01ZBiYkJsmJ5uae5qdOnb1+zW+EWXu11kRr7/tmvAffSHj2NRXzh8Y9FiWGthGR80xEZb09Y1Pfff/72WPQ4MTFRnnvmKW31g7UHhg4bbm+mn8kb/nOTrmMvwHmmTf1Vf/AsTLjyqrIJEFetorLny94Gkfruyf25qOy+1eb7534++7E3P39Y9OzYvt0xKTRv3pxKBHp7j7XfLygocDT29hYKKrjzKiwqdLSzH2Dy5k21wDPS0iWLBdZQlSVM2NXmXlfWJ8vqn0D5b+z6PxfPQAIkQAIkQAIkQAIkQAIkQAIkQAIkQALNjoB7hC7sQCCC9+7dx3Et1V3I0dGong9+/OF7eeetNz0+b7/5hmzd6l34r4shYQHZqb/+4lWcR9Q2hOmGSk3p/rmP5eChLmuZoUOHOXDMcVt4GIUQfB99/En99oajctlBWlqaPPHYo/K1Lcre1Bt9yCHywIMPa3sVk2ffzv5zltxy03+qFIDtbZrC/prVqx1vBuBtArxl4W7ZM3/u3KYw3BqPAW9FuN76cTX99puvq+zjQL3XVV54M65Agb4Z3zwOnQRIgARIgARIgARIgARIgARIgARIoH4JZGbuE/cIduNXb8RVM4K5c5ze4iZ/f7fde/SQXr16e3wCAurGGKHm7xTU/oqOPf54ueKqq2vfQQ1bNoX7Zx+y+zOCtzGQhpQJ9abuP39joVhPiwysLTBx0o3y9HMveIjQpu0Xn30qy5ctNYfWFhYvb737vlx6+QSvQr1L4H/Eqt8cdjwnPFw84cVuj/bPzMyU7du21esl+aq3Uuo6YSLwDPXmhEmz/pgpWVmZ5rDC7YF4ryu82AOgoG5+kx8AIHgJJEACJEACJEACJEACJEACJEACJEACBx4BRB3brVjycnNrdJF/L1rkUf+nH3/QeUnKWsSeYOWCc1VkbWGvW5P9e+6bXKl1DhaetCdY7ZjUunXrMt9wUQupOv34TZ2w8HCzq7d2CxZ7QW6Ok11oaJi9uFr7gwcPcVjwVNYoVC2A6p5gy2IXXt3L3Y+bwv0zY4I9SWoq/NnL06pVq2TDhg0eYjyeozXqLYR+/T0XvEXrTp06aT9y9PnJxx95+LC//eab8sLLr5SfqGwP7LAo8gknniRYjBZvV9jv944dOwSTA7DXwQK07gkLx7o/bzluz4X9+d/f75/7+d2P3QX6bdu2Wm8QYDFWCPMmzVVe9Z27dDGHdb51/x5l52R7PUeOWz7GWVnCGycff/iBtj7C8//P339XVt0qq8m9thpxp1EIUKBvFOw8KQmQAAmQAAmQAAmQAAmQAAmQAAmQQEMQiI2NE/siqFlZ5eK1OT8W6JxrsxTpP3CgnP1/5+jiuXPmmGrWFhHKFaUli/+VkaNGV1RcL/nt27d39GsXXK+9fqJVdu7ZZ1r79p3WrdvYD2XfPu9CfkZGuqNeu3YV29TcePN/5ZBDx8hVEy5ziKTffvONFn8dHVVw0KaNc1yolqUE1yi9iG15o7femCKJCQlWxsmnnirDho/Qx03p/rkvDosBfleJZQnGbgT69evWyk7bIqSdO3cRRIm3VozAOjwiXKZPnWoxwDNfVFSkRd0F8+dZ+diB3zzWIBg3/jAVhX+wXHn5ZY7yNWpBVQj0sXFxjnwc7N2zR4LbtnXk78nIcBzH28r39/vn6NjtABZN9mcdxZgk87bmAcrmKZ7nX3AhdusluT+v7lzMSd0nyir7HqFNUFCQHH/CifLzTz+aLrxu8/Pzpbb32muHzGwwAhToGww1T0QCJEACJEACJEACJEACJEACJEACJNDQBNrExzsEem1zMc45in//+UfgmW5S14O66V0IXitXeC5waup528LCpKEF+nbtOziGgihbXGd1o4Xh221PED3TVKS3u0C7Yf16ezVp5zYx4ChUBxCBTzrlVPnsk4+too0b1msxvUPHjlZeRTsQJt0jsBOUEO8u0P81+09BZLdJp51xht5tavcPEdw1SQsXzJerrrlWN4E4u2D+fKv5oWPGKGH+Fuv4sMOPcAj0KNi9a5cEKoavvvySVQ87WEQ1NjZW50VEREqfvv1krRLlTUrY4ZrsgJ0OorvtIvjatWvELsCjDfLsyS4478/3z96nt30I7jVJycm7JSUlRfBWSX0k92faLPprPxfOb3+jB2Xx1ViP4ZTTTq9SoN+3b1+t77V9jNxveAL0oG945jwjCZAACZAACZAACZAACZAACZAACZBAAxHo2rWr40yw9YCAbRLEshXLl5lDve3evafeLlu6xJFfnQOI/SUlJdWpWmd1oqKiPGx1vvzis2r3H6cES3fbGPfFKBctXOCIhEfn1ZkAOObY4zzG8cP333nkVZTR3m3yYObvvzmqbtm82SHOo7DbQd11naZ0/7x54TsuxMsB7FnMQr5t2znfkkCUuP05RmS7e/Lz97OEeHvZ4n//sR+Ke6S3v2pnUucuXc2u3n7/7Tc6Mt9kwrcez4Y9denqmuBC3v58/+x9ett39/P3Vsc9b34NJ0nc21d23MXtdw0i5f9etNDRxP2NCXzv4ry8qeBopA6io6P1Gynu+fZjM+liz6vJvba3437DEmAEfcPy5tlIgARIgARIgARIgARIgARIgARIgAQakAAiuO2CMATFu++8XSAcYwHGX3/+2SOitU/fvnqE7gJgj5695I677naMHuLmbbfcbOVB8F+tfMUHKJucukofvv++h++36fvU08+QmJgYOU1tv/ryC5OtRNOFcv9998qYsWMFkeSV+VYj0h3tv/n6K6v9jOnTlGf9Hr0QaVJSovz0g8t331Q4SIngPXq4JjJMnrdtuPK3HzX6EEE0uEmIeL9swgQJCancexv1YTX0zFNPmqbaNx0TIFigFxHDX9uuGZUwWYEPUl3fP/jHv/fO27pv9x9DDh6q7WLc882xuxc+hNnXprwpPuoZtKf/3jjJMRECm5uuXbvJ2HHjHXY4EO8n33uPnHLqafo+QTi3J7x50LYsMhs2NkuXlE82vfv2W2qh0SztY4/nwm4BhT769y9/ds87/wJ5YPK9VteJat2Fu26/TY46+hg1MZIr33/3rWOiANd1woknWvX35/tndeJlx5uf/72THxB3kfzNKa/p74LpYo56wwXfmfpI+D7ge7F58yar+6effEJOOvkU6ajWDMA9sH8PUAnfO3z/qpPOPPts8WaTZNri99n+3GvTD7cNT4ACfcMz5xlJgARIgARIgARIgARIgARIgARIgAQaiEAr5VeORRbhM2/S1i1b5M0pr5tDx/bEk0/WEa0QgRENb08jRoyQyMhIe5Y+hiBs95XGwpV1KdD/MfN3xzntB/ATh0B/+plnCRavtVu9wLbEbl1ib4d9WJiYhPa//PyToz1Efny8pSuuvtpbttc8eMLbhUlEfs+YNq1aQinsgtq0iRfYk5gEvu6Lg5qy62+YpHfr6/79+svP5lSOLe4/xNGKkrsXfu/efTysetB28JAhahLiL6ubeUpQvvCii7WYjns9+89ZVhnsgp575inr2L4DQd+kCy++RFatXGlNRIG/3XbI1DPbEaNGmV3p26+f9B8wQLc3mdu3b5N333nLHDq2/3fueY6Jl9p+/xydejlwF6oxMYDvnLvYDS99+zO8betWNQGyT2DtUx8JlkR33XGbo+uKvOMxiXLaGd7XhXB0UHaAdQcwSYj7XlHan3tdUZ/Mr38Czmm6+j8fz0ACJEACJEACJEACJEACJEACJEACJEACDUrgoksu0SJjVSeFF/sFF16sq61ZvdoSNE27ISpq21uCqGpP7uKhvay+9iH23XXvfdozvKpzoO7Nt9zmiICH3/s9k++vVvsJV17laFvV+Xr16q1Fdns9vNVQWlpqz6pw/46779YWHxVWKCvARAwi2ZGa0v3z5oWPNwC8pYOHDnNkI2rfTE5MnPQfFZ1+kqPc2wEsUy6/4kqrCMLuE08/W617e93EGzw82ifdeLN07VZuW2N17LYDH3xE9Lun2nz/3PtwP3b38+/br7+HOI82g4d4TposXOC05HHve3+OD+re3Vo3oLJ+4O1/3/3/q/DNmIrannveeRUV6fz9vdeVds7CeiNAgb7e0LJjEiABEiABEiABEiABEiABEiABEiCBpkAAViqTH3hQzr/gQsv+xD4uiGWXXj5Bnnn+RcvL/d9//rZX0fld3Py4TQV3URWLasIKpCGSPQq+T5++8uqUN+TQMWO9Cn/wqIaI+tobb8noQw7xGB6E9Jdfm6K9riHi2xMilGHf8dSzz8lxx59gL9L79nEgw/34lNOcwi0sWjZUEAns3rZjx07y/EuvaJuX4OBgj3Mjwh72JmZBVVSoi/vnzsDjxNXMwGSBe6posmfQYOdkD9ot/udfq/llE66Qq6+9TnCvcE/sCcewBAIrTLjYEyaf8Hwjst6bVzkE+MeeeEoOP+JIezO9D//zx598WvcdERHhUY4JgZv+e4vg7QX3e4fKtfn+eZzEloEJD7wFY08VTXgggt/9et2fDXs/Nd33dr2YKHpWse7eo4fHPcIzNVK9ofDSq69L7z59ano6wfNRlWf9/tzrGg+IDeqEgE9eXk71pivr5HTNt5Pi4hJJT0/Tq7rvSkqSPWrxjaHDhumZWfwChM8TU/0RWJVYJIu3FsnUFUWyfmdx/Z2oEXsODfSR/h395JAe/nLi4ECJDa+eB1kjDpmnJgESIAESIAESIAESIIEmSQBRudnZWepvuHT5a/ZswUKRpysbgWHDR2iRtSX9/VZaWqIWdCxUi5bW/Z/+fn7+zfZvYQh827ZtFX91DViE1Jvo2yQf7hoOCiJ4YsIOCQuPkPbt23uIhVV1B9uWxMQEiY2JlTbx8V4jlKvqoz7K4T2foK4rKjJK2rZrV+Prqo8xNUaf+F2XkJCgf9+1U4vIGu/96owlNzdHtiiRG5ZN8Kr3JjRX1A9slGBzExgYqKx3OteYf0v5/hl+eAMiNSVFOnTo6NXWyNSrr+3+3Ov6GlNL6Bc2W8XFRdW61HKzsWpVZyUSIAESIAESIAESIAESIAESIAESIAESaN4EEF2MCOQDPSHauU/ffrW+TPuCq7XupB4aQlTupyxNWnqC33ontfhobRKi2mvLEBNa+/P9aSnfP3Nf8IYHPo2V9udeN9aYW9p5Gfbd0u44r5cESIAESIAESIAESIAESIAESIAESIAESIAESIAESKBJEKBA3yRuAwdBAiRAAiRAAiRAAiRAAiRAAiRAAiRAAiRAAiRAAiTQ0ghQoG9pd5zXSwIkQAIkQAIkQAIkQAIkQAIkQAIkQAIkQAIkQAIk0CQIUKBvEreBgyABEiABEiABEiABEiABEiABEiABEiABEiABEiABEmhpBCjQt7Q7zuslARIgARIgARIgARIgARIgARIgARIgARIgARIgARJoEgQo0DeJ28BBkAAJkAAJkAAJkAAJkAAJkAAJkAAJkAAJkAAJkAAJtDQCFOhb2h3n9ZIACZAACZAACZAACZAACZAACZAACZAACZAACZAACTQJAhTom8Rt4CBIgARIgARIgARIgARIgARIgARIgATqk0Dy7l3y/NOPSWFBQX2ehn2TQLMjsG/fXnn5+ackM3Nfsxs7B0wCBwIB/wPhIngNJEACJEACJEACJEACJEACJEACJEAC3gmUlnrPb0m5OTnZ8s6br0l+Xp6kpaVK23bt9eWvX7tGli9bLLt2JklYeIR07tJVxh92pAQEBjrwbNuyWf79Z5HsTEqQ0LBw6dKlm4w97AgJLKuXn58n33zxmaNNcEiItIlvK8OGjxTsI+3Yvk3m/PmHo15EZKR07NRZBg8ZKj6+rjjKfxYtkA3r1jrqmYP2HTvKqEPGyLdffq6zevTqLSNGHWKKvW4XLZgrmzZs0GVnnXO+BAYF6f35c2bLVnVtlaWTTz9Tj3vZ4n91teNOPEViYmOtJkv+/VvWrVktqanJKj9OevfpJ8NGjLLKd2zbKnNmz9LHAwcPkQGDhuj9rMxM+fG7r/V+vwEDZfDBw/S+/ce/fy8U3COTfBWfVtEx0qNXL+neo5fJdmx/+PYryc7K0vVOOPlUq+y7r7+Q3Jwc69h9JyQ0VE4/6xyZ9fsMdZ8Txc/fX845/yKrWmFhocxV17Ft2xbJUkJ2u/Yd5OChI6Rb9x5WnersLFbP0fJlS/RYunbrLkcdc5x1P6rTfn/rFBcXy8rly2RPRrocduTRurvkXbskLTVVprz8gtx821362vf3PGxPAiRQfQL+/Ie6erDASbPCVjUxx/Zt9XpirdoQ0OzREPAP4GSu0zxXB/Cl8tJIgARIgARIgARIgARIoN4ImP+f1v9/rf+A8/wbrt5O3sQ6Nn9jNLFhNfhw/pz5mxbnDx42whLnZ0z7Reb99ac1FgiU27duEYjCN95yhwQFBesyiNjTp/5s1ZOUFF0PQuvV10+SyKhWAvF2/bpyIbm8sijBd7pcdd0kLdZnpKd7rYdz/vnH73L9f/4rAQEBsm3rZq/10G9WVqYMVddhzhcQGFClQD/zt+n6+tF+3drVMnDwwdiVTRs3qM96vV/Rj7zcXC1Ym/ONGX+4S6BXD9fHH74rG9evs5qCISYWVixfKpdOuFp8fHwkPT3NGuuOHduk/4BBeiIiNzfHyo+MivIq0G9T98Oc1zqJ2lkw7y9dH4K6PWWoc2HCwKRxahIlPCJCH65asUyKiopMkcfWXwny6A98MGFjT2D+5msvyb69e63sVPUcrFi2VI446lgZf8RRVn5lOzNnTJO//pxpVcFbHevWrpJJN98ufn5+Vr7ZKcjPlw/efUsfDj54aJX32bTztoUgv2DeHP18gwMmGIxAj0keTDRs2bRRfpv+q2AShokESKDhCNDipuFY80wkQAIkQAIkQAIkQAIkQAIkQAIkQAINTADiOSLSkY44+li9TUne7RDne/buo4T2KF2GKOvfp0/V+/v27nGI851UhH1823a6LDs7S6b+8pPet/8ICg5WEd69reh6iKHffuWKdrfXQxS6PfoaAursWb/bq+j9zl27CcZnfXr18ahTWUZSYoIlzqMexHOTDurR0+oX4zap60HdrXwT/W/KzHalErzt4nyfvv0FUehIeOPALpSbNmC7auVyc1ijLThAVDZp2ZJ/PaL/MSZ7Wr2q/Fx9+w+0rsnUQUS+4dpPTRxUlH6b9qslzkPI7z9wsKAt0h9qAgYTE1UlvGUx969ZuhrevGjdJl7v792zRwn9S7w2x7OTmLBdf/DM1jZtV28xvPDME7Jw/twKJymOPvYE3T1EfIyViQRIoOEI+DfcqXgmEiABEiABEiABEiABEiABEiABEiABEmhYAksX/yMlJSU6cj4iIlKfHCKkSZdcfpVLKFcR4Y8/8oAWs9esXiknnnK6zJ9bXu+U08+SocquplTVg193elqarFm1QhAJbk8Hde+prVFwzscevE8Lojoi2+11hjHjDtf9oWzKKy/oLrZs2iRyjL03kTPPPk+iWrVyZGYqz/DqJnfRetOG9QKbE0RsHzp2vP6gr08/fM+KVj/73AskLCy80lPMnlUeCX7DTbdJbFyctpZ5+vGHdDtMNoCXe5o1c4Zlc+NeVtnxGWedq2xropXI/af8pt5+QMJEQNduB1nNYN1iT8uXLpWRo8forDP/7zyrCPelQK1FEBoWJhdcfLmV720HaxZgMgAJkzgTb7xVT77gGfnikw91/vy5s+Xk087U+xX9wJsFeCaQTjn9bIGtz0OT79LHsLwZMnS43jc/8vJyZd6c8jc8ILIvW7JYvTkwVFeB9c/mTRv089WpcxcZpN6KMBZJpg+zLSx0rbuA5wgTAt5S+w4d9T3HxBM42m2KvNVnHgmQQN0RYAR93bFkTyRAAiRAAiRAAiRAAiRAAiRAAiRAAk2MAIRUJPjBm5SammJ2pZuKFtdJ2bH0U1HWiGwPVtHkEOLtUcvwiEeCbUv/AYP1Pn6kKasTbwkR1rFxra0iiOLekn1c+fm53qrsVx6sXZAQ+Y0EkXizsrbZ3wQ7GaS41q21OI/9sPBwK8q9IiEY0eawrqltam+LooeIbRKEZVjGIJlrRfT5/kaDZ6g3G0zC82HWHYDXvkm7y85rjr1t99iE8Tbx8ToC30yC7N2T4dEEPvqYjDBp966dyh7H9YbFN19+Jp9+9J6OiIc9Evz131AWPBU9Y/Hx7bTN0k233mWN3/Rr37ZW40JatnSxPZv7JEAC9UyAAn09A2b3JEACJEACJEACJEACJEACJEACJEACjUcAvu9IcTax3AiiWshVgrtJp55xtvYDR5Q0hPiMDJcIDbEdi4aahIVdTbILuCYPWwjREFWRIMTa2+vMsh/wMTepXfuOZtfa/vT9N/LV5x+XfT6R0rIobKtCJTsQ0Y1v+hFHH2fZsthtbippXmERosqNn3tkpDO637ylgMYQme3JCOd//vGbPbva+yVqkgPR5ibZea1Z5ZqIQdnxJ51qqsja1aut/drsmOcHbSMjo6wu8EwYsR72RFWlzH37rCqGkXmOsGCuewoJCVVWOoOsbES/Dzl4uGzdvMmyxLGPAW9iLFIWNt4SfPgRIV9ViolxLf6bmpJcVVWWkwAJ1CEBCvR1CJNdkQAJkAAJkAAJkAAJkAAJkAAJkAAJNC0C8JFHiomNswZmIo0hcFaWKqpnhGa0NUK16WfdmlXy9GMPaRsckzf60LFm19r++tP38vjD96vo53J/+uEjR1vlZmfjhnWyasXyss8yKXGzyjH1vG3t9ja9+/SVDp0662qw5lGvCHhrUq08wwWV/fydi5ti0VqTiouLzK7eHjruML3FYqRpaVX7ttsbv/Hai/LYQ5MFlkVI8Lvv0auXVcVMOkA0x2LA5t6uXFE+AWJVrsGO/Rrcr9VMuth5VNR1aanL3sZejkmgihLsd048+XSruFfvvjJWLXprn6C44pqJcuud91l19jfy3XxHsFYAEwmQQMMRqPxfooYbB89EAiRAAiRAAiRAAiRAAiRAAiRAAiRAAnVKAD7jxvcb1jUmGfHWHNflFueD3YpJg5Q1DoRV9wRhPz+vfDFOeKR37tLVvZp079FLR1Ijmhof30pEXffGxpMdojXsdnqVLTCLc2/fvs29evWPbboyrICqm1q1ihYIzUh/zqxZFD1EY/tkyFXX3iChoWG6L9zn7WW2OVgDAPcXC/oiwc6nOgK6ruztRw14e2tu8ioT402d6mzt9kzt2rWXAHVvzbNtbIeq04+3OqYflO2vNZC3/plHAiTgnUD5+1ney5lLAiRAAiRAAiRAAiRAAiRAAiRAAiRAAl4IQJitvjjrpYN6z/Kxja+wIN8aL+xDYP3iEnzLrwGR3fuUFQnE1EGDhwjqwUvdvV5OTrY19nDlu27n0Co6RrBwqYn0dtU15zBbkR49e0lefp4kbN+u+3ItNltebk5wyulneiwSa8rKt57t7J7sELAR1W8XXeFN37lLl/IuHHvoz7NPV5VSCVKisEmuaOvyujm26GtEgTv7KZXDjjxKL0arF841nehzlfdhZdt2Rh0yRi9eaiY/7Pdkw7o1Vs31ah/XahbvxYTJJvUWQi/1BoH3VNl5S9UkQKjVLCcb9728vplgcdUpz7ca2HaCgoKsIzwTIaEh1v0IDglx9GtVtJ3LlVcqsBdCwlscPr6YKSlVi9e20osW25noSlX+cI7ZPhfhmoNxllfZHSuQAAnYCFT/+8MIehs27pIACZAACZAACZAACZAACZAACZAACdSEAASIpvuB3Yqxo3F5xbvGGh0Toy8S4m1WJrzBXfmfffyBXnDzx+++VqvBirRu08aC4VqA1FUvMWGHlR8Ti76Q70rt2reXU08/w/In37h+nWTu26sKXW1Nvb79B6h6Z5lDtQDoHx51XIWmnfvWamprV17H7smOmhC2XQKuqx1sc8rHZNq5yjzzUW5SqRaGzQKn8NkvLcECuKqOsnFJSkzQFRG17+9mf4OC9h06SFsV+e2ZzBjct66aow8dI+OPOMJqNvevWWrfVXfl8nIbG/MGA7Ymuexv7P2aEmzt+di3p1K1dkG5NVLCDkymuOrDd96cI1bbJ7n34zw2zxx6z0iHvU+p7MlwLQ4bHh5h9Wv6L9+iBZKrv8iy9Q9wL12L5JaK8YwvnxBxntu0dW1dvbl+Outh3QQkfGcCgzAJ4yznMXnwGajJM6C/TtX6QYG+WphYiQRIgARIgARIgARIgARIgARIgARIoDkSiIxyLeyZrhZMNalP335mVz7+4D1Zv3aNzPxtuiDSHKmtEtmR+vTrr7f48cE7b8myJYvllx+/FyN+Q6Q2C2taFdWOj7JYGXnIoVbW/HlzrH37DiYAjFiNhUI3KTsW94Q8jM98XCJxeS0sYmrK9HbdWqWhlYrxZEfN8YcfKUccfYz+xLVurRu7Iux3l3dUw73efV0R6RCK337jdVm9coV88N7blm1Pz959KuzxcBVFX5s0ZOhwy1sei+vm5+drkXw9rlklTAqY68TWTM6sXb1KIYGwVvOEBVaxQCsS7sV3X3+pFmldKu+9/YbVGZ4TvGmxRp3H2z1ExY5l/v/Yn/PXn7JAPRNG4O960EHI9kj+AeV+/jvVIrBZWZnWs4nKs36fIcuXLlGTTJm6bdu27Tz6qElGWmqKrm6utyZtWZcESKD2BGhxU3t2bEkCJEACJEACJEACJEACJEACJEACJNDECWDhy/S0NBW1nG6NdNCQg7UgD5sbWK18+tEHVhl2jjv+JH3cT0W5xyvRE1HiELQhztrTiaecqsV4e57ZHzn6EJnz5yx9+PeC+XLUMceZIsd2zLjx8vUXn+m8ObNnKc/5no7yH7/7xnEMQf+Ciy+18hCx7j7+O+6ZrDzZt+o6EJghVpsE2x5MMiBhEdkj4481RTXaHnXsccrG518tMuONgi8/+8RqDw/4Y48/0Tp238GCtRiXEZbdyys6hgA/UFkPYaIE4vY/CxdowdoI3RDKMRlhUlJCgqxTkxuYRNi+bat06drNFNVoC5uhj957R7fBufExqVV0tAwZOkz+Xjhffv3pRz1JcNfk/5lia4vJmI6dO2tLo21btgg+Jo1W9j3eEq4XEyqpKSm63ZRXXpLrJ92knytc88L58xzNDj/qaMdxTQ/Mwr1msdiatmd9EiCB2hFgBH3tuLEVCZAACZAACZAACZAACZAACZAACbR4AghKbuqf/gMG6fu0a6eyYikbL/xrrpn4Hw8xHBHx5110qXRQ0c6m7oSrrxMI+vaFZUOUL/l5F14iffsP1PWkVPnhlCUfH1+dFx4eafUPgXjVihWqRnk97OMc6MNEem/dvNnywDf9ed/a+/GssWnjRisTXvfmWrDt0bO3VYaod1Nmvz5cj8nH1tu4Q0LCZNLNtynLmo5Wf9hp3SZerr3hJomIjNJ9OArLrlmZ5Mg4x8K5zvOZczsXVnXVOWTMOKvLBfPnqrcZVlnHPXv1dozbHsW/euVKq8w08C27V+Z82NrPafKx8OzFl1+pJxVMW2wxIXDtxBvVno8UFcLmR+2pyQnTzn17Pp6tjp10PfyAAO/qN7LCNocfebTyq3f54GO8wWqC5fKrrnWMBc/PWeecp+5Fpwr7MWOxTq52TJ7ZpiQn6+KBg4Z4lJk63HpyIxMy8fYM2L9rVe37qEUz9K/aqiq29PLi4hLB63B4XQmvFe3J2CNDhw2TIQcPFT8/P8c/1C2dVX1c/6rEIlmyrUimLi+S9btc/+jVx3kas8/QQB/p18FPDu3pLycMCpTY8Mr/h6sxx8pzkwAJkAAJkAAJkAAJkEBTJgArC0Q7p6uI6TmzZ8syZQFx2hlnyrDhIyRAWUY4hMimfCF1MLZS5QleVFSoxLa6/9Mffwvbxcw6GG69dFFSXCxPPvqgtq+ZdPOtEh0T6zhPqYpEztiTIeFKnA+0LeTpqIQDxXCPsjHBgp7BwcEexS05A4wzlJ96K2UF46fE4gM5FShbHfx+wWLA9uf/04/elw3Kaueg7j3kosuuqBQB+sjNy5UotbhrtZJ69rCGAur7qu+dSVhstqiwSC0S67JxMvm12eINg/femqInA269454K3wypTd9sQwItkQD+3S1WvxurkxhBXx1KrEMCJEACJEACJEACJEACJEACJEACJNAsCUDQHFlmITLtl588rgERz/CRr1ScRysfHyXKRlOc9yAoWjSOVYupHujiPC4dzwkmeeziPCYotmxyvbXQf+BgL4ScWeij2uI8mqpnD+f8f/beAz6O48z2PYOccyAIgDmCUSSVmBVIJSvYsi1bDrKt6A3edN+9u9f73q73/m7aZK/XUZZsK1gOkigqUllMokgxijkCzCAAkgCR48z7Tg0aHIAACcokiAFO6TeY6e7qqup/z3SLp74+X6g4z9UJCYmXRJzn5NPby15nk5g7f6HEeUdCf0Sg7whIoO871upJBERABERABERABERABERABERABETgChCg6JhilitMJkrPdhURuJQE+PRAtNnVMHr+qpmzLmXTfdIWffr5u6Df/TXXnU1u3CedqxMREAEM7OeOdIJFQAREQAREQAREQAREQAREQAREQAQGPQF6fdNLfsnzv3NJXwc9EAG4pAT49MDfmC2Ml6z2kjbeB40VDh+OESNH4fP33e9snPugS3UhAiIQQsAE+kvvQxfS/gD6SE7eK/SwvHXiGErl8n0eLJwHy3Fevm+KWhYBERABERABERABERjMBLz/n+a795k8vOXQdYOZ0+A6dvp0f+OhRwfXQeto+4wAc1uEa34LWuV8/VsP9xkrdSQCItCZgCxuOvPQkgiIgAiIgAiIgAiIgAiIgAiIgAiIgAiIgAiIgAiIgAj0CQEJ9H2CWZ2IgAiIgAiIgAiIgAiIgAiIgAiIgAiIgAiIgAiIgAiIQGcCEug789CSCIiACIiACIiACIiACIiACIiACIiACIiACIiACIiACPQJAQn0fYJZnYiACIiACIiACIiACIiACIiACIiACIiACIiACIiACIhAZwIS6Dvz0JIIiIAIiIAIiIAIiIAIiIAIiIAIiIAIiIAIiIAIiIAI9AkBCfR9glmdiIAIiIAIiIAIiIAIiIAIiIAIiIAIiIAIiIAIiIAIiEBnAhLoO/PQkgiIgAiIgAiIgAiIgAiIgAiIgAiIgAiIgAiIgAiIgAj0CQEJ9H2CWZ2IgAiIgAiIgAiIgAiIgAiIgAiIgAiIgAiIgAiIgAiIQGcCEug789CSCIiACIiACIiACIiACIiACIiACIiACIiACIiACIiACPQJAQn0fYJZnYiACIiACIiACIiACIiACIiACIiACIiACIiACIiACIhAZwIS6Dvz0JIIiIAIiIAIiIAIiIAIiIAIiIAIiIAIiIAIiIAIiIAI9AkBCfR9glmdiIAIiIAIiIAIiIAIiIAIiIAIiIAIiIAIiIAIiIAIiEBnAlGdF7UkAiIgAiIgAiIgAiIgAiIgAiIgAiIgAgODwJe+8PmBcSA6ChEQAREQgU4Efvf8C52Ww3lBEfThfPY0dhEQAREQAREQAREQAREQAREQAREQAREQAREQAREQgbAloAj6sD11GrgIiIAIiIAIiIAIiIAIiIAIiIAIiMD5CAykCMvzHae2iYAIiIAIhC8BRdCH77nTyEVABERABERABERABERABERABERABERABERABERABMKYgAT6MD55GroIiIAIiIAIiIAIiIAIiIAIiIAIiIAIiIAIiIAIiED4EpBAH77nTiMXAREQAREQAREQAREQAREQAREQAREQAREQAREQAREIYwIS6MP45GnoIiACIiACIiACIiACIiACIiACIiACIiACIiACIiAC4UtAAn34njuNXAREQAREQAREQAREQAREQAREQAREQAREQAREQAREIIwJRIXx2DV0ERABERABERABERABERABERABERCBK0YgcMV6VsciIAIiIAIi0L8J9P4eqQj6/n0mNToREAEREAEREAEREAEREAEREAEREAEREAEREAEREIEBSkAC/QA9sTosERABERABERABERABERABERABERABERABERABERCB/k1AAn3/Pj8anQiIgAiIgAiIgAiIgAiIgAiIgAiIgAiIgAiIgAiIwAAlIIF+gJ5YHZYIiIAIiIAIiIAIiIAIiIAIiIAIiIAIiIAIiIAIiED/JiCBvn+fH41OBERABERABERABERABERABERABERABERABERABERggBKQQD9AT6wOSwREQAREQAREQAREQAREQAREQAREQAREQAREQAREoH8TkEDfv8+PRicCIiACIiACIiACIiACIiACIiACIiACIiACIiACIjBACUigH6AnVoclAiIgAiIgAiIgAiIgAiIgAiIgAiIgAiIgAiIgAiLQvwlE9e/haXQiIAIiIAIiIAIiIAIiIAIiIAIiIAIiED4Eqqur8cH77+PMmTOYM2cORo0eDZ/P1+0BBAIBsH5UVBQSExO7rdPdyra2NmzcsAEfr1uHCRMnYt78+YiNje2uqtaJgAhcRgINzcDpugAi7CeelexDdOTFddbQYvvXBpBoP9/UBB+6v1JcXJuqHX4EJNCH3znTiEVABERABERABERABERABERABETgihMwbRl8hWM5efIkHv/pT7B9+zbc/5Wv4ZbbbkN0dHSnQ6F4/sknW/DD7/874uLj8Vd//V8wZuzYHsV2b+emphZ8suUT7Nu7B5MmTYHfD9vH23r2ne3v2b0LP/yPH2D48OF46JHHkJmZebbCeT61tQVw6tRprF61CsnJKWhr9cPfefjd7k1h//333sWvnnyi2+1dV375K1/Frbfdfg6brvW0LAKDjUBtYwDLtrXhZx80gyI9S06KD39+cwzmjYtEzHkUV79dNw+d9OPpD1vx1vbW4M72d/aYSDy0IBrjhkQ4wZ8bGk3Af2ZNC361yj50U7jPf78zBhmJ3VxkuqmvVf2TgCxu+ud50ahEQAREQAREQAREQAREQAREQAREQAQuE4HU1FRMnTbdtb5r107U1tae01NzczP27tmNxsZGE9onYUhe3gXF+XMaucCK+vp61FnfVZVVYH8qIiAC/Z8ARfMXN7bi+2+dFec56vLqAP5xaRNW7m1Dm03MdVcozu867sf/8/umTuI8667Z34bvLbXrzgk/vLnPNtuhusFb6q5FrRsIBM4znzMQDk/HIAIiIAIiIAIiIAIiIAIiIAIiIAIiIAKdCdBSZvyECUhLT8e+fXtRevwY0tLSOgnwVVVV2L51m9tx0uQpSEhI6NzIH7lE2xu2+3ff/Xuzt0lCbm7uH9nihXePiIjAtddehylTpnYIgEePHMGTTzzudn7woUdQUFjY0RCPmaxUREAEggQolR+t9GPZJ62IjwH+9o5YLJwQiebWAJ5f34rHl7dg2dZWTCuMQLZZ3nQt9c0BJ8wfrwrglslReOzGaBd5X2rLP3ynGSv3tGHtgTaMyo5wUfjNFmB/yixwGJH/17fEYNqwiE7XqRiz1EmJP7efrv1quX8T0FW2f58fjU4EREAEREAEREAEREAEREAEREAEROASE6A4zoh4RsZ/uHq1ifT7MHbc+A4rF9rPHDt6BIcOHUSe1aOPPMVtFka6HzxYYvY0u1Fj/vGjx4zBxKJJSElJOWeUjJDftm0rdu3caTY0rc4vfsKEiUgwv3n2UVNTg7q6OjS3tCArOxvxZqXDwm3lZWXYYxH8R20ceXlD3RgKCgoRGXl+k2va2JSWHsfuXbtworQUQ/Pz3URATk6OE/ZS7OkBvrzS3NSEmHZ7H9bh8bLQG//A/n1otXEPGz4C3v4cW+Xp0ygpKbZaPuRb++UV5WhpbnFMOdmxd88eRMfEYLJNQNAWqKt90MUwdIPRHxHoJwRoWVVc7sfh0wFnZTNjeITznY+O9GGBCfXv7GjD7lI/KLjTk76rdF7XCByw/SnuL54c6UR81sk1e5z54yOdQH/4VAANLRTlfWhus9+i7ZMc58OY3AgMyzSBvp+w0DAuHYErKtDzos4bBy/2vDjz3W/LvFFGRNoXPDrGXcQ5W8u63N7S0uwu+gGb62W9qKhoVyfGLvy26PzvWuzG5uq1tLbXiQK384bAffhSEQEREAEREAEREAEREAEREAEREAERGLwEGB0+Zeo0J9Dv2LYNc+bOQ1ZWlgPSZLY2O3fuMG2hxdXJysp2WkJlZSVefOEPeP/ddzuBGztuHB58+BEUFg7rWM99f/yf/9GxzA+vvfoKbrp5Eb74pS8jKSnJRPgT+OmPf4QRI0fh23/6Z06g534fffghfv2rJ529TmgDX/jifVh86209JoRtbGjA8g8+wNNP/Sp0NyfIP/rYt52tz4UEfm9HaidrPlzt+Nz35ftx+x2fcbqK3xTKrVs/weM/+ymumjED937hi3hl6VLs3LHd27Xj/aUXX8Bn7roLd9/zuY4kuL1hKN2mA6E+9DMCtKgprwlazgw3sTwh9qzGmGaR7IUZPpRU+F3iWJMy7brR+QDSzSv+u3fGutwU6ZYXmsllWdgio+VZGC1ver8rTbaOFjdJ1k+LifXHbGKAbWYk+RDfi7wTwVb0t78TuOICfZPN1NLrjbOvdXW17ubDmwWzj6emptlNJMXdtCjk19XWoaqq0mVC5w2B9ZKSk6xeqj2Klm6z2ZH2Bfe77dWWLZ0z2ayTaDe9dHtsLdUeV+OyLvT9/Wup8YmACIiACIiACIiACIiACIiACIjA5SVAfWDkqFEuwry4+ABOnCh1SVqpGVBE3rl9hxOkJ0+Zgri4ODSY+P3msjecOJ87ZAhuu/0OizyPcUlX9+3di9dffRVf/foD5wz65kWLnZ1O8YEDWPbG6/hozds3J3sAAEAASURBVIe49vrrUWRR910LgxPpif/ss087fSS470Qct6j01155Gc//4ffItEmEa6+7vuuuLgBy48YN+I3tywDFu+75LIbYODdt3Oj6fP73v0dO7hAMHTq0V7oIJzBowcMnDHbt2IF58+Yjw5LY0pOfEfIsTIKbmGAqY3sh0xtuvMlx3bZ1K9Z+tMbG/QqGDRuO62fPccGZvWGYnJzsNal3EehXBCi61zcFh5QYB0SFZPe0WGMnpHMrrWxYt2u4O8X3oWmdVXvW3XrEjxc3BBX6qWaPExfjc6J9g22rsYS0ZWcC+PZTFkrfXij0/8WiaLPXsaDkK6rueiPS+x9DIMp9Wf6YFj7lvhTcGTV/+tQpVJRXoMxmjesb6p3AzpmgSBPbKbqnZ6TbDSALrTaDfNpE/MrTp1Bl4jsLL/x8/CvTbW9DjIn6/OaXnShDhT1eRZGedZJTktFi0fc+azMmJtq17bcDZ2R+MPK+8w/DNd7dH/thOV78gVnh59BXcK3+XhYCHvvL0nj/alTfqf51PjQaERABERABERABERCB8CMQ+v/U7f98c+GJoevD76g+3Yh5zCo9E6CeQBuWt99601nCjB07zonbhw8fwpEjh8Hl4WbvQtH+2LGjJlavclH2jHbnNpZRY0bjhz/4vrOyob0LNQyv3P/Vr2HxLbc67WGaJaWtra3BqpUrTbc4AVrddC2cBNjw8ceoNeubz37uXtx59z1ucoCOAhkZGXjyF49jx/ZtmGqR/13LGfPMX7VihRPqH370MfdEADWRyeY3zx/AR2vWYN/ePU605/oLFVr60NqHljfFJcVuAiPdxlBZeRp7rR3699PeJzLEo/6b33oI8xYscAzpdc8xv/H6a9i8aaN7EoFaTW8YJpndkIIrL3SGtP1KEGDy10azn2GhIB9aGA0fdeGfltuFkfj0mv/vLzR1RM5zw4PzozF/XKQT/tkLJwMau8kfXVkXwP94pdn9Tm6YGKzvGtafsCRwxeZY6L3GR68qKircTe/4sWPmudaM2LhYs7JpMW+2NlQyWr46E4yyp5hPEb/KZrHp0RYZGeXEd94w6NfGdz4exvWc9T5+/LhF0LcL9DbzSsE/LjbO3dgi7dfC9inue7Y3YXn2NGgREAEREAEREAEREAEREAEREAEREIFPTYCR8YyQ/+D995xAv3DhDc4fnlHsDCycaqI6n8bn0/pMpsogQ3q683Pl6UrXL90AWKhXnDp12gINM90y9Yb8/AKnO3BFlC0nJwd96ulNzza7FuodJcXF5haQ7IR1uguwUFBnUtvP3HmXtZHsImtD92Xk/cmTFThonvk8Jor1G9avd1Uo7jPqnaW8vMzZB/dGoKdATmufokmT8d677zif/lGjx+DI4SOghnP1Ndc4z3m2z8LjpYDvJZWNtwj8GTNnmuXO+1b/uHNP6C3DMXY8EugdVv0ZZAQOnfSj1kR5Ruez5Jg3/Vdn0/obuKkoCrmpPktSG8AvljfjvZ1teN2S1TLinh72KuFL4IoJ9PSQ53+8KSRacpSh+UNtRjnWzcBW2WzsqVMn7fGxRrvBnHQ3LV7waW/jIubtca74+AQnsvPmwhvbCZt9TreI+4TEBOcRF2ue84lD8tyZ4U0vWKfU3agYNe8ldwlNjBK+p1EjFwEREAEREAEREAEREAEREAEREAERuFgC1AYYIT/ahOfiA/tdACFF6Z1m6UK9YELRRCc8U5M40/40P8XpJx7/ebdd1dfXmZAWjK7ttsIFVjJha60J/tQ+4hOCCWO5C8VqJohlRD6LJ4q7hfY/tA9uMH2EHva/fe43oZs6PtdU17iJh44VF/jgTWBQZKfNzYwZM10UPndjZD4DJatsMqC7wjFzooG2w87S2II0+4Jhd2PROhG4ZAQYJe8Zx3dplL98Rsb3prCJ2WMi8cHfJqDGPOb3nvDjiZUteNdE9+FZrbj/+mjnMZ+f7sNX7HNooc/9/ddFY/sxv0s4e9I88SnkS6IPpRRen6+YQM8LNaPaOaNKGxt6zVN0p+98pN0gKajX1dWj0d45TcSZa96k6CWfn19otjUpbga4pqbazcKespniCGuTN1dG5zNKntY2/raAi7CnfU6LRebz5sJ+Ek3Ib22zWede3DhZx73OmaMOr5Ot0YqACIiACIiACIiACIiACIiACIiACHQmwAh5Rsrv3r0L9E3PzslxEfLXXncdhuad9Wv3It5p7UK7Gi9S3GuNAYj0h79U5WLlNo6PL0ayz7r6aiSEeMNzTNRhRowc2RGw2JtxUmMZYQlsR4wYif3792HLls3YtXOns/mh/Y0X/NhdW9RRqOUEbEw+a8dnimRfM+xuXFonAn8MASZvTQg+2II6ezCFljfR7bY2ZtaBWvOLZ4mJsl9wLxRzVkmx5LIzRkTi67Y/LW82H/bjM9MDJtB33wDXpiX4XNR8cXmgw+++N/1xbCr9j8AVE+ijoqIt2j0CeVFDnehebzY1dTbbe6K01B65Mv94Jni1CziTkkRb0hV/wJ7vsO94rNnUpNnNMykp2SVjSUxMckJ9Y2OTu/BHmAEUL/r0rGdSF3dDMMGeN41ms7/hMh8RS0q0WVy7WfEG1VNhXRbeQNrsF+fnK+DvlajfU5taLwIiIAIiIAIiIAIiIAIiIAIiIAJ9R6CX4Zx9N6B+1xMFbUbKM2KeVi5cZqG1C6O/WagppNp2lkmTJrlI9p4SmZ4yG5xPW+Iscp6Bi4fNquaM2fZ6hfpEpeXlKykpRrS5Aow00bxr8aLVUyyg8XP3fgH5BQVdq3yqZR530eTJOGBPGPz2N8+6NubMnYucnNzzaiqsyIh5RvbnWWLaWHNN6C3DTzVQ7SQCfUCAvvOMVmcpqw6gqTWAuHYhvaEFOFkbcIliMxK6H8yBcj/+rt13/v98IRbj80zHtKqUJxMtMWxirM985wPOl57JYf/z3RYs29qK73021hLCRlpwcrDdZgYkm1QabcpujM0anEfe7H4gWtuvCNjXijfrvn9F2Dcq2r5FSUmJSLFI9zjznmeEOxOGnLZEsEyIwlHRjobR8BTSAyaOc4aaUfD0qo+NjbHEsEG7GvrWU5jnNor6TBjLdU1Nje6dHvbNzU1osXc+7tXa1uI87xsZWW/e910Z+P1tbj8+hsUEKCcr2hPP2qNbjY0Nbixd99FyX3yP+tXv5zINpi84qg/9XvUd0HdA3wF9B/Qd0HdA3wF9BwbLd8D73/bBcrxdj9M7fr33RIB6Q55Fyo8fP97pBXyiP3fIEIwZO7YjQpwC/bBhwywBbCY+XrfOJWpldDgLNQYmYH3tlVecGN1TP71Zn2wTAmMs8So94zdv3OgcAbgfLW3oKf9v//LPWLN6tQtQDG2Px5CdnYMRZtdDn/e1H60x2+AGV4Xi/v59e/Hcs8+gvKzsooMOGeQ4yQR6ai1emTR5SqdlrieH45Ykl+8sFOY/XrfWHQsnFBhs2RcMXef6IwKXiYBdCjAsIwKZST6sL2lDSUXA2dq0WiT9DrOc2XXcj8JMi25PjXBieotdJsrOBDoi6ynA56REoNzEfdraMOqehe/7yvxg8te8NLOHsij9WIvCLzCLG0bpf7S/DRTsWdjm1iNBext6z2fYWNp1e7ddf8KPwBWLoA9F5TeDpubmFnfjoRjOGdY6821zXvE2NUXrGn7RvIh2CvG8OfIRKb5zI8X7mBgmXEm2L3UwQQlvlox+Z+Q79+UyXxTtT9vMM7cx0p4zuBT+Q6PpWY83RM580w+fPm2Vlacswv+Eu9lwbCoiIAIiIAIiIAIiIAIiIAIiIAIiIALhT4Be6vRUX//xx+5gJln0fG5IhDj1AnrAz1+wAEuXLMEPf/B9lyS1cNhw7N+7F1u3fuLE+7Hjxv1RNjexFnR4jVnrUNh+681lOLB/vxPHjx49go0bNrigxKuvufYccZyDpgA+b8FC7NixHS++8Dw+2bIFU6ZOdclj13z4odNDGFXPSYau9jznO4M89qFD8zFq1Ghs377NTV6MHDWqY/IidN/fPPO0+fdvd6xoGbTP2FDYn2UJZWlx3FuG42yyJFSjCe1Dn0XgShKgPjk8y4e54yLx8qZWfPfFJkveGolGm5d6e3urE9NvnBiJ7GRz9zBhnUlc//mNZtw8KRJ/tTjGCfsLx0di08E2/J/Xm7FqbxvGD4nAHhPrP9wXVOvnWdu0vaHkee3oSLxmbbAdRt9fZ8tHTvtdglhyWDTZEscqQeyV/Epckr6vmEBPwZw+ZBTCORPssn2nZ2D4iDZ30aanvFVBvfnQ86LMCHgu84/bN7jgPrtQe6tDKxw+fsbHvZLM+obJZ5m5nHY5TZZohbO4jKKvrvZb4pQGN5tbVxtM4MKIe96g6BnH4sR7G1eDRdhXn6l2CWqZoZ0Z1TlhwL5UREAEREAEREAEREAEREAEREAEREAEwp8Ag/8YMc/I+ZMVFU7Ypt1MaOHyrbfd4bSJl19a4sR8T9Cnb/23HnzYtdFT0tTQtnr6TP2DCWsffPhRPPmLnzvfd3q/s9DC5pvfetD88qd1K15Tz6D3/MOPPIann/pVp32puXz9G9/Etdddf1HivDdOBjbSp58C/cSJReZBn93tGFh/86ZN7sXPHNOXvvwVFBVNcoJ+bxlKnCc9lf5KICnOErdaktYKi4JfY5HtL6wPBgpzvPfOisLtU6PMgz4Y6d7Uvqne7GgYCU+/+lunRJqUGYOffdDsRHlPmE81Uf5PborGggmmT5o4zzImJwJ/e3sMfvBOC3aX+t0ruAV4YE609RXp+vLW6T08Cfjq680c6QoUf7sw32SCeTD7ePBhDP49Yo9jHTK/NfrRnzlT1S7I2wYbKR+rmjxlsrsx8bGzHdu3o6zshBPbp02/CtPtxeh2CuxMIFt2ogzHjh517dTW1nQI7xTrmRU9zSYF+PgYZ3+57AnvTRY9X2u++Nz32LGjLuKe0f1VFnlP/3wmkZl19TWYftVV7objIvmvAMfB0uXOY23YdKgVb21rdY8ADcTjTjCvsaL8SFw/JhK3TY12s6oD8Th1TCIgAiIgAiIgAiIgAiJwuQkwqKvO/j1H+9TVq1Zhq0US333PZzFj1iwXHDaY/v0WfJq8NRjcdonBBzkG/y1/iZu+Is0xgJA+722mJzAandYu3RXqDRUm4tNKhta6fJJ/+IiRLkiQ9ak3UKSn7sFtCRY8yML96BhAvYHR5PSK55P71bYuwoRs9un537M+LWLoRV9TU+si54ePGOEcAChe87xyIoGaCZPBcmLBCzjkNgYqUldpMN2ExzFs+AiX/6874ZsBjd6kQk/HzXG+tORFvPryUvzJn/05rp89p6M/Og/89Mc/smj5PfjTP/8OcnJzUWG5Bfn9YMQ8Jy+6/uYuxJDHryIC/Z0Ao+aLK/zOroZjHWbWNoVmf+MljeU62tLss+j4vLQIDDHrGu+KSTGWdjYltn+1uVFlJPpcZH6qJX/16nB/r9Q3s24AFTUBJ96PzLK8ntaeJ+R79fTenwiY/ZFd93tTrlgEPUV5+qHxQk47G0al86aVnpbuZnOd97x9y3jz8G4+QSucJndzspVotP35ooUNbzixJswzCp43o2a7wTirHPufMtrfuBurfcN5c6I1DpPM8ubVZjdT3mg4lhiLim/PBePa4WNYTGSSbB75jLinLc4Ru8FRuO8t4N6cBNURAREQAREQAREQAREQAREQAREQARG4sgSoEWRlZ19wEBSbc02E5qu7QpE9u5t2uF96enqnXRgoyFd3hbY7TFTbXaFOQuGbr66F21zE+9RpXTd1u0y9pKdj4Q7UWEpLj2PDx+tQUFgI+sl7kwFdG2TQ43CbDBgxYmTXTZ2WL8SwU2UtiEA/JRBn+aSLhkbYq+cBJlu0/YwRQbeO0FoU4SnKZySeuy20nveZQZ2T8ruT7r0aeg9nAldMoOeMNG1rqqoqnfBNET3NMpVHW3Q6bWgogFNI58U9ypLJUoRvtmSunNmlUM4Z6RarRwsalkSbMWaCWN4kuG+LTQA0NjSaAG/2OSbcM9EsE8pyYiBg/XqPqrEv1mltabWkDmdnNTh7HWv980bFGyhn0jOsX3rWM2Kf4r+KCIiACIiACIiACIiACIiACIiACIiACAxEAtRWdu3ciVUrV3Qke73381/o1STGQOShYxIBERCBy0Xgign0nNHlq9WE77q6WvdI12mLpq+yx7PoO097GlrapKen2WNe6U6cr6ysdJHuhw8fRHxcvAnqfGyx3s02Z+dkW1R8kntsyu9vs3efifBxro+UQKoT9BsbG9xjjoyir7HHvSj8c2abL5eQNuLsrJU3Ps4UezPDFO05acDofRUREAEREAEREAEREAEREAEREAEREAERGKgEGOVOm2G+HvuTP+3xMDMt6ezf/3//0ON2bRABERABETg/gSsm0EeafQ0j2hn5Tr80eqs1WnQ8LW8YrW66uHskKyU1xWVAb25qtmj2ONRaktZ6s8RpazUR3tqgCJ+RkWGPYw1xtjUU1nkTYeR9cnKKtU2xPsJZ3tBKh0leGbnP9miHE/SDS+qIvu+Ki+2xsA3a8HBR8nxXSloWAREQAREQAREQAREQAREQAREQAREQAREQAREQARG4WAJXTKBnotWEBPNts0QmFMqj7UXbGFrWxMbEWlR8nHmp5Vpm8CyXyLXFRHWK6eVlZTh58qRL2sI20tJSnedaXt5QJFoEPQX1yMgo298sasyexitMwsJl2t5QYGeEPm1usrJyXCIWfvYi5b199C4CIiACIiACIiACIiACIiACIiACInA+Akx1qCICIiACIiACIvBpCVwxgT4opEcGbWlMVKd4Xm/WM/SEp1DOhK1MzkrRPT4+wUXV05KGnzNNtKcXGi1nGIFPaxvW87Kds22+GPXeUcyfnvY0Q/KGmNCf5BLDsj6TxSZb5nROEqiIgAiIgAiIgAiIgAiIgAiIgAiIgAgMHAKNFqynIgIiIAIiMPAIMBfpQClXVJWmiE6YfGWYZ9mFCjObZ2ZmXahat9spwPOVkJDQ7XatFAEREAEREAEREAEREAEREAEREAEREIH+TMBvlsA7duzAtq2fYPiIkbj6mmtcTr3+PGaNTQQGMoGGFqCyzqyxza4jKwmIOpvesleH3cj964H4aLP6NsmyJ1ttvz2sxH4aW4EU06WT7NVT3V51rEr9isAVFej7FQkNRgREQAREQAREQAREQAREQAREQAREYNAQaGlpwWuvvIJXX3n5nGPOys7GTTfdjGuuvdZsd9PdU/rnVLoCK2goVFFRgXffeQeLb7kVs2bNugKjUJciIAK1TcDbO4AnVwVAkZ4lOxn49kIfZo8GYs6juDLv5qFTwHPrAnh3V3Bf/r1uFPCNOT6MzTHxvV19txSc2HQYeHxFAMUnz9ZdVATcf60PwzLO1j27VZ/CjUCIB0y4DV3jFQEREAEREAEREAEREAEREAEREAEREIFLT+CkieC//91v8fOf/RRllgsvQEVNRQREQASMQJMJ8i9vAX70/llxnmAqaoD/+XoAH+6H5c7sHhUvJbtOAN99qbM4z9pri4H/ZfvvKwd4xWm1NpbvDdYNFedZ952dwL+8FcDRymBdrlMJXwLnmc8J34PSyEVABERABERABERABERABERABERABESgtwTmLViAmxctdrntKMYfP3bUBPrfYe+ePdi+bRuyLBeectf1lqbqicDAJUDh/FgV8Nb2gLOl+ZtbfJg/Fmi2SPclm4Bfrg7grR0BTCnwOcubriTqm4F3dwZQega4eSLw0Hyfi7w/Ycs//SCA1Sbuf1wCjDAn8Ipa4KVNASf2f2uuD3dPBxJjTeAvNXH+zQB2Hgc2HATyUi/eWqfruLR8ZQlIoL+y/NW7CIiACIiACIiACIiACIiACIiACIjAFSaQlpqGIUOGOIGeQ8k2i5vS0hNY8sLzTqxvaWlGbW0NSopLEBkZgcSkJOzftx+NjQ24/vrZyM7JQXNzMw6WlDhRn/Y5hcMKMXLUaMull+kscij8nygtxfHjx5GSmork5GTs3rXLtZ+dnYNJkydjSF4eIiLOmh00WZLbPTZJwHrR0dEYPWYM6mpNtVMRARG4IgT8FtVeYlYzjFynlc20wqA4Tu/5eSbUv78b2FsGUHDPNE/6rj7xdWaNw/3pOX9zkYnz7XVyzB5nzlifCfQBHDltkfnNPpTaRMBBqzt+CHDjBCDZfOdZxpgFzg0TfHhqTQBl1QG0+H0X7X0fbEl/+wsBCfT95UxoHCIgAiIgAiIgAiIgAiIgAiIgAiIgAv2CQJslY21saHBjiYmJNZHNh1OnTuHpp36NM1WmmrWX+PgEjB8/wQnwtMTZtHGjt8m9J5mQ/41vPYhp06c7oa64uBhP/uLxTnW8hZSUFDz86GOYWFTkRHr2s+TFF7Bq5Uqvit5FQASuMAEma6WVDcswi3JPjAl+5t/UeKAgLSiqM/Gr86npotCnWSLY/3qrD2wnnUlh27czMr/ZEsCy0L+e83SxJuLfOgXITfZ1iPPczl2i25PRxsf4XIJarlcJXwIS6MP33GnkIiACIiACIiACIiACIiACIiACIiACl4BA1Zkq85o/YVHqMWhtbbWI9Z147713XdT62HHjEB0TosK19zdj5kwXaU/rG9alOF9QUIgbb7oJsXFx2LJ5M9Z/vA5vvP6arS9wNjmhQ83Pz8cNN96ESAu9ff+993Dk8GF8vG4tRowc6fr96KM1TpyPiIzEokWLkDd0KLZ+8sk5kwChbeqzCIjA5SVgD8KgvplyOu1mfLAHajoKP9OChoVWNhThI7sI9BTfaUkTWlh3+zHztd8cbHdyvg/xdsmZks9XlwZsx1N1Zm1zKGixMzHPBP12sT60TX0OLwIS6MPrfGm0IiACIiACIiACIiACIiACIiACIiACl5jAqhUrwFfX8rl7P4/JZj0TajvDqHhGutOShutPnjyJkgMHnCh/35e/jKJJk1xE/UgT2in6lx4vxenTp53Vjdf+sOHD8fAjj2KoifQsGRmZ+MmPf+Tsbxrq61FnKuCG9evdtq8/8ABmz5nrPPBnzrra1X33nbfdNv0RARHoWwJtpqE3WpJYlq7iO6PhaXXTm0Khf10J8I+vBDoi57nfA7N9mDPG2gkR/kPbo0XOG9sC2HIYWFQEjMs9G4UfWk+fw4uABPrwOl8arQiIgAiIgAiIgAiIgAiIgAiIgAiIQB8R+HjdOie4M6rdK/SOZ9JYT7Tn57/7+/8XfrPFoVjPKHd60FefOeP84ltbW8yf3lS1kJJnXvOpaWkd3vQJiQmIs6j7+ro652VfU1OD8rIyMMp+zJixHQlqWYc+9SoiIAIDk8Bh85+va/K5SPyusfO0wKHH/W/WAvlmpXPPVT6kmk2OSvgTkEAf/udQRyACIiACIiACIiACIiACIiACIiACIvBHELjzrrvxmbvuctYyTObKiPeXXnwRaz5cjXffeQdfuv/+Hltn/YqKCqv/AtatNeWsS2Fy14stDeZ/39TU5ET8+AQpcBfLT/VF4HIRoGjeU5Q8o+Jpa9Obwmj760YBy/7Sh9pGYF858OsPA/jABPhhGcB9VwNxIZeO1jZYAlngxx8EnHj/2EJfMHq+N52pTr8nIIG+358iDVAEREAEREAEREAEREAEREAEREAERKCvCPhMOcvIyMDcefOwedMmHDpYglqLaO+p1NXW4pWlS504z4j3+QsWIi09DdXV1eY///p59+2pzYiIrrGzPdXUehEQgb4kwJ9mgiVmZQbYOvOi9/vtc7utTZsfFv0eHA194b0EsOcbH1tKjgOuKrQksdf6nOXNJ0cDuG2Kr0Ogp+i/ySxtfvR+UP3/8xt9uGakdduDDc75+tO2/klAAn3/PC8alQiIgAiIgAiIgAiIgAiIgAiIgAiIwBUkQKE+0hSwNr/fXha+2k1h9PypU6ewZ/cu5OTm4iHzlae/PPdlFP7GDRs+lUAfn5CI+Ph4nLa2a20CIK3dDqebIWiVCIhAHxKgKJ6dHOywvBpoMtuZ2PZI9wbzpj9ZG0wUm24PvlB871qKTwL/sNR85+2S8k93WxT8kPZ6VjnREsMm2KveRH7a2bAwKn+HJZD9j3cDqKoHvnOTDwvHA9G99LoPtqK//Z2A5lr6+xnS+ERABERABERABERABERABERABERABPqUQI1Fv6//eJ0Tx3NzcpGYmNRj/34T8FvNf56+8232zkI/+qNHjuD4MVPWLrJQ3M/MzEThsGE4ceIEdmzb5nzp2UxNTTX279t3kS2qugiIwKUiYHmhUZgOZCZaVPsh4OCpoIjeatHzu0qBPSeAAtuekxKMoKc1DYX82vbIeorw2batwh7K2W+2NtzOwvcDFXAifF4qkBTLGP3gOkbOl54BHp7nwy2TgRiFWztmA+mPTulAOps6FhEQAREQAREQAREQAREQAREQAREQgYsmQK/5qjNVFjEfiROlpdi9a5drI8KWr58zB6kpKaisPH1OuxTTmey1oKAAO7Zvxw9/8H1MmTrVRdV7bXCnlpb2cNhzWuh+RWpqKq67frZr8w+//x127dzpbHO2bt2KM1VV3e+ktSIgApedAKPiC80j/vrRwGtb4SxpGNHOSPr37LJBm5uF433Isjk9ivbLtgPffyeAGycAf2bWNBkm7M8f68OWwwH829sBrDkAjM3xmQd9AB/ZZ5bZY3zO9qbMRPmfLQ84f3pG7u8tC+DxFcE63l9G0t80sd2PnoNTCUsCEujD8rRp0CIgAiIgAiIgAiIgAiIgAiIgAiIgApeKAG1qVq3orHylmw/9F++7D1fNmAkK9T0V2s8wySztaEpN3P9w9WpXlZY3jKqvNKub8rIyZ5XTUxtd13OiYNbVV7tEsc/95lls22ZKoIoIiEC/IJBknvH3XeMzO5sA1hYDSzefHdY9VwG3TApGuTMq3rOqqW8OivcU1G8uYtS9D0+sCoryHx0IesunxAOPzPdh3tigvzyj7o+2z8dR+F+x92w/3idG088Y7i3pPVwJ+Orr7dukckECfGSNN9udO3e42fQqm7HmTXr6VVe5GfYIPuOictkI7DzWZo8OteKtba3Ye8KuSgOwMMlIUb5FZ4yJxG1To5GZpKnPAXiadUgiIAIiIAIiIAIiIAJ9QIC+4HV1deYBfgqrV63C1i1bcPc9n8WMWbMQHR2NwfTvN7Joa2s1MejS/9M/HDg2Njb2+I0jk+ozZ9DQTR16z6empiEmxvwo2kuT1Ttj9X2WJbLrNlapr6/HkcOHnS1OVlYWcocMAfdh+/FxcUi2KHzW4XczKirK+cpTiGfpqW1a5vB7fKL0BFpbWzHUktAmJCS4dmJjY5CSkjqovs8Olv6IQD8h0GSe8yXmKV9udjX2MI2ztqH9TVTIfF6NXYIOmJXNELOtybWXp/TwikxP+YO2f7XVyTDPekbmp9q7V6fR2j9dZ5ZZ57l8s99UE/ZpiTPYSpxdV/t7oZ7cm6II+t5QUh0REAEREAEREAEREAEREAEREAEREIEBRcCzpzHNrFcl1sSgnPMIQhTOx08wH4uQQgEptP2kpCTw1bX01DYF/OzsHPcK3Sc5uT1LZehKfRYBEehTAkwOOyEv+Oqp42TTkKcPO3crRXgmkk3vZptXO87aH5rmLel9IBOQQD+Qz66OTQREQAREQAREQAREQAREQAREQAQuE4HLEJR/yUcaDmO85AetBkVABERgEBAYSNd3+bIMgi+sDlEEREAEREAEREAEREAEREAEREAEREAEREAEREAERKD/EZBA3//OiUYkAiIgAiIgAiIgAiIgAiIgAiIgAiIgAiIgAiIgAiIwCAhIoB8EJ1mHKAIiIAIiIAIiIAIiIAIiIAIiIAIiIAIiIAIiIAIi0P8ISKDvf+dEIxIBERABERABERABERABERABERABERABERABERABERgEBJQkdhCcZB2iCIiACIiACIiACIiACIiACIiACAxGAnFxcYPxsHXMIiACIiACYURAAn0YnSwNVQREQAREQAREQAREQAREQAREQAREIPwJNDQ0YMUH76OkpASz58zBlKnTEBEhk4PwP7M6gsFGoKEZOF0XsN8vkJXkQ3TkxRFobAnunxADpCb44Lu43VV7gBCQQD9ATqQOQwREQAREQAREQAREQAREQAREQAREoPcEWlpasPSlJVi65MUed4qOjsZf/PXfYPr0q+DzXTrpzO/34/Dhw1i9aiUmT56CshMn8JMf/yeKDxzocSzehqFD8/GXf/NfkJ+f763SuwiIQB8TqG0MYNm2Nvx8eQso0rPkpPjw5zdHY+7YSMScR3H1B4BDJ/14ek0r3t7eFtzZ/s4eE4mH5kdh7JAIRHS53DS3AvvK/HhvZxs2H/bjH+6OwYisLpU6WtKHcCNwnq9LuB2KxisCIiACIiACIiACIiACIiACIiACIiACIiACIiACl48Ao96XbAyK86G9lFcH8I9Lm514vnBCJCK7eSiG4vyu4yawW73SKlsIKWv2t+FYZVB8H5cXgYBtZp2PbP1za1tRZu2zDM+UMB+CbUB8lEA/IE6jDkIEREAEREAEREAEREAEREAEREAERODTElh4w4245bbbEB1tPhMhJcKi5pOTky9p9HxI8x0f0zMy8J2/+Cu0tgWjaVtamvHWsmVYbjY4XccWaapfWmpax776IAIi0HcEKJEfNRH9ja2tiLfLxX+7PQYU4xnh/vz6VvxiRYtta8PUwghkJ58rpNc3B/CWRc1TeF88ORLfviEa2RZ5f8KWf/huC1buacNHB/wYmR1U99nPr1db4yoDmoAE+gF9enVwIiACIiACIiACIiACIiACIiACIiACFyKQlp6OvLyhJtBHn1O1tbUVe/fuwZmqKuQOGYKCgkLnFx+w8Nbjx4/j+LGjSElJwajRYzr2bzOhvbT0OPbs2u3e8/MLUDR5MnJycroV+9lvtm3zCu13OCaW0LGx3UOHDuJgyUEkJiVi7JixiImNdfW4T0lxMapsnBkm+HO/QwdLEBMTY8uZ2L9/ny0fREZmJqZNm478goJzfO/r6uqwf99eO969rs2ioiKMGTsOse19uJX6IwKDmIC5U6G4IoAjpwOYOy4SM4ZHON95es9TqH/XLGj2nPCj9EwAWSbQd5Xo65ps/3K/E/dvMYHeq0N7nPnWHgX6I6f9aGgJID7ah6hIH+6dFYWbioLm9t+zyHuVgUdAAv3AO6c6IhEQAREQAREQAREQAREQAREQARHoAwKd7Rn6oMNL3AXH7x2D99lbPttVa2sLPl67FsveeB3f+NaD7d7vPvj9bSg20ftnP/0JbrjpJhQWFppAH4VGSwC7fPkHeOapp842Yp9SUlPxyKOPYeq0ae39en1117e3jk14n5mI0oczZ6rwkx/9ENnZOeaP/9c2YVDASra+Es//4XfYuWMH/vwv/gL+QBt++cQTJthXuu2hf/7wu9/i4UcexXWzZ7tJBU42HDlyBL/+5ZPYs3t3R1X68y+44QZ88b77kJYWnDDo2KgPIjAICdCipqLaVHortJpJdPNj/I1aktf4AAozfCip8KOy1m8WNSbQd1Ho0xOA794ZjTbbJd2Swkb4gvvyb1Nr8DP9602XN3E+gK9eH9mReJYe9GdLsO7ZZX0KZwIS6MP57GnsIiACIiACIiACIiACIiACIiACIiAC/YYAI9w3btyI55591gnfd919j4u637xpIz5aswYv/OH3yMnNRaqJ9Z+mMFEtJwLGjhvnhPiDJSUW+Z/nIuHLTpRZZH0Jhg0fjoLCYW6iwOuDkwM3L1pkkf6pWL1yhUXT78fzz/8BeUOHYvSYMTh96hT+8NvfOnF+kkX6z5s3HzW1NXj91dew4oMPXJ83L1rc8YSA167eRWCwEaAvfH17EHuSifOhPvP8HBTsg3VYt2sIPcX3vLTOqj3b23rEb772QSubqQURiDP7HCaKjQgGzg82zIPueCXQD7pTrgMWAREQAREQAREQAREQAREQAREQAREIJbB0yRLw1bV85y//qj3iveuW7pcZ3b7KBHAK9YxQnz13LiIjIzF5yhSX8HHtR2uw3+xjrpo5s/sGerGWIjtFdEbK7969CzNmzEC02dgcMNG9vr4eEycWOYub48eOudYY+f5n3/kOJkyc6Ox1pk+fjid+8Ti2b9vm2igwwX/Xrl3YvHkTpkydioceeQRZWdn2hIDfLHly8aMf/gc22aTD1ddc49b3YoiqIgIDlkCbBbE3WJJYllBxnsvMWUGrm94URuKvNa/5777Y7PzrvX0enB+FeWZ1E9VNglmvjt4HHgEJ9APvnOqIREAEREAEREAEREAEREAEREAEREAE+pgAbWJOVpw0j/hDiIuLQ5WJ9Rs3rHejoI99U2Oj+1xeXo42W/60hX7148dPQJIlr6XH/enKSiQmJjqffE4GTDTf+FDP+ISEBGevw+h7FnrQz7r6GifQHzef/NraWhQf2O+2RUVGYe+ePbZ8wC2XlZW5CQa+19bUIjMzq1sPfVdZf0RABP5oAgdPBlDbFEBi3Ln+9X9042qg3xIwgV6eRb07O+TUlZW3znvvXUuq9WkIdGX/adoIh3284/Tew2HMGqMIiIAIiIAIiIAIiIAI9DcC3r/RvHeOz/vsvfe3MV+u8fB4VS5EYOENN+KW227rZOFCPTspKflCu3baTrG7waLYmbD1d88912mbt1BTU+0i7L3li32n0J43NA/jxo23yPYNKDExPTMryxLElmD4iBHO4iYioufwW25LS0tz3dZW17iJgzNnzrhlRtHz1bVE2aRAg3nrq4jAYCfA60JP0e0Bu88wiWxvCu1rZo+JwPv/LQ41DQHsLQvgyRWteM+SzNLb/ivXRyHu3JzVvWladcKQgAT6Xp8073/iQt+5c9flXjeoihdFwON8UTuFaeXBdKxheoo0bBEQAREQAREQAREQgX5OoKf/p/bW832wFO+YB8vxfrrjTEtPc17ujE7vWhrbI9+7ru9umbYwfLGdmbOutsh2ywgZWkzdGzlipPOMD119sZ+Tk1Oc9Q4F+i1bNiMrO9slg503f/4F/e0Z6d/WFozgj4wyPw4TCjlmFvrXjxkz9pzElrGxcS5K/2LHqfoiMNAIUFhPMH94ltomgJY3nq1Na1twHbfRa55i/oUKq6TE+zBjuA/Nc6Kc5c2Ww37cOT1gAn0vGrhQB9oeFgRkcRMWp0mDFAEREAEREAEREAEREAEREAEREAERuNIEKGRT4O6pJJvtTGJSElJMQP/cvfciv6Cg26p1dXXdru/tSkbBjx492kXOr/3oI7ebs76ZOKGTvU137dEf//Tp024Txxpn4ntqajCifo555t9ya+cnCbprQ+tEYLASoO98bkpQOC+vDqCp9ayQ3mje9CdrAmDy2PTE7sX1A+UB/PcXzHfexPz//Xmzq8qLcHlkKeYzwWxirA91ljS26dO7YA3WUxPWx93zM09hfVgavAiIgAiIgAiIgAiIgAiIgAiIgAiIgAj88QQohtPHneVEaSmam009s8LIevrNe4XWM4xkH25R6EePHsHatR912MJQ1N+/bx+ee/ZZlJeXnVfk99o73zv7ysnNxWRLFuuVsePGodASvnJbaKmqqkS5ech7kwv0wF/XLuqPHDkKySkpGDN2jNtl+fvv48jhwx3jq7eJhFdfeRmcBKBtj4oIDHYCdI8qNAuazCQf1pf4UVJhtjY2Z9dqkfTbj/mxq9Rv2yOciM9o+xYT4stMyK8NpqBwInyOCfwU9/eeCIBR9yx83282N5V1AQxN8zmRP7hFfwcDAUXQD4azrGMUAREQAREQAREQAREQAREQAREQARH4VASioqKc9Qsj1N9+600nvufk5GLP7l0oNcE+tNDbff6CBdi5YweWvPACtm7ZgslTp7rksR+t+dB5zzOqfvpVV4Xu9qk+x8fHY+LEIqxYvtztz8+M3O9a6s0T/z++/++4bvZsJCUmYYMlrq0wkX7EiBEomjTJ2fFMLJqEGTNnOU/7//k//gmz58wFnwbYtGmjE+wnT5niIvazc3K6Nq9lERhUBDj9RY/4uWMj8PLmNvz9khbcODECTTZ/9faONmd5w+XsZJ8T7V//pA3/sqwFNxdF4i8XRzlhf+GESGw65Mf/faMFq/e1YdyQCBPr/fhwX9Bqim3T9kZl8BCIOs+TWYOHQi+OlJzcy+qGPszWsT50ZS/aU5WLI0C8gwWxvlMX991QbREQAREQAREQAREQARHoSqDT/1O3/0PC/ZvC/njbuu6jZRHoiQAj6IuKilwS2ddeecWJ7xTguyuRkZGYZd7zDz3yCJ556ins37/fvViXAv/XHvgGrr3uuj8qSazXL/saZTY3BQWFZllzCuPGj0d0TLs5tlep/Z3R76tWrOhYm5GRiS995SvOd58R9xkZGbjfliMs5HfD+vV4/713O+pOsQmGr3z1a+7pgI6V+iACg5hAUpwP91sS1wqzs1mz348XN7SHwRuTe2dF4rYpkc6DntHztMBhqW+23A/tfvW3TI5096KfLW9xorwnzKeaKP8nN0aBAj6tdFQGDwFF0A+ec60jFQEREAEREAEREAEREAEREAEREAERaCfAyPhFixdj7rz5iI+PA5d7KgmJifjCF+/D7NlzzKKm3NnI5A0diiTzcG9oqEeMCeOxcXFu95jYWMybvwDTpl+Fw2aBwwj2WFtH65u09HS3b2trK27/zJ248aabkW7iOCcBQktvxkbbnKamJjQ0Njihfmj+0HPsbdjm0KH5eOSxx5zFzZkzVW6cw4ePcMlkPTscvvN4/uw7f4HS48dRZpY4bJ+WPbTN4eSCigiIQJAAY9sL0n34H5+LQXGF39nVcB2tbQozfB1JY5k89vapkRibG4E8s63JtKh6liS7VNx7dSRuLIpwFjnVDQFkmGUOI/NTE3zOk95V7PKnMCMC//nVGPudAxk9eNx32UWLYUKg57tPmByAhikCIiACIiACIiACIiACIiACIiACIiACF0uAonRaWrq9ercnRfPhI0a4V+geqampoYvuM9vmekafd1fYVkEPCWRZvzdjoxf+ls2bcerkSSy+5RazpDnX3sbrmxMM+fn53mKP7xTih9lEAl8qIiAC5ycQZ/NWRUPtCZuhPddLtmj7GcODwnxoLa6hyH4xQjv7y7eJAZWBR0AC/cA7pzoiERABERABERABERABERABERABERCBAUqguroaTOa6fv3HKD5wALlDhliy2CnnfQJggKLQYYmACIjAgCAggX5AnEYdhAiIgAiIgAiIgAiIgAiIgAiIgAiIwGAgkJKSgrvuuce9ejpeRuCPGTsWP/7Zz3qqovUiIAIiIAL9hEBnk7N+MigNQwREQAREQAREQAREQAREQAREQAREQAREQAREQAREQAQGOgEJ9AP9DOv4REAEREAEREAEREAEREAEREAEREAEREAEREAEREAE+iUBCfT98rRoUCIgAiIgAiIgAiIgAiIgAiIgAiIgAiIgAiIgAiIgAgOdgDzoB/oZ1vGJgAiIgAiIgAiIgAiIgAiIgAiIwCAl0NjYNEiPXIctAiIgAgObQFxc7IA5QAn0A+ZU6kBEQAREQAREQAREQAREQAREQAREQAQGKoG2tjZUV1cjMTERMTExl/Uwq6oqsXrlSjQ2NmLO3HkYkpcHJp5VEQER6EygoQWorAMizKMkKxGIiuy8/UJLjdy/Hoi3n3RqPNDTr8wfCPbT2Aokmy6dfJ66F+pT2/sfAQn0/e+caEQiIAIiIAIiIAIiIAIiIAIiIAIiIAKXmUCTic9LX1qCt99685yesrKzccONN2HW1dcgMzPziovTFOc/XL0KT/3ql7jt9jvwmbvuRlxc3DnjvlQrmptbsGXzZpyuPI0ZM2deqmbVjggMGAK19nDO2zuAX64OgCI9S3Yy8NgCH2aPBmLOo7gGTGw/dBp4bl0A7+0K7su/140CHpjtw9gcE+rblXrW3VcOPGn9bDh4tu5tk4H7r/UhL61nUf9sbX3q7wTkQd/fz5DGJwIiIAIiIAIiIAIiIAIiIAIiIAIi0KcETlZU4Pnf/w7//q//jIMHSxCgSnYFi9/vR01NjRvBmeozoGCvIgIicGUINJkg/8oW4McfnBXnOZIK+4n+rzcCWHMAaPN3PzZeSnadAL77UmdxnrXXFgP/2/anIM8rDl/FJ4H/u6yzOM+6y7YDP1sRwKlaLqmEO4HzzOeE+6Fp/CIgAiIgAiIgAiIgAiIgAiIgAiIgAiJwYQLz5i/AzYsWIzo6Gn5T0E6UHsfSJUtw9OgRLH//fXzxS1921jIXbuny1OC45i9YiJEjR2LIkDwkJCRcno7UqgiIwHkJUDQ/VgW8tSOA+Gjgrxf7MH8s0GxzZks2Ab/6MOC2Tc73ISvp3Kbqm2FR83aNOQPcNBF4eJ7Vs8j7Mlv+yfIAPtwPfFwCjMgMCvQU7Q+eguvj0YU+5FrdvSbg/8ubwboLxgELxwORCsE+F3YYrZFAH0YnS0MVAREQAREQAREQAREQAREQAREQARG49ARS09KQO2SIE+jZem5uruvk5z/9CQ7s34fqM2c6BPrm5mYcPnwI+/budVHto0aNwvgJE5GcbMqZlYaGBhQfOICWlmZrZwhOnCjFvn37EGMi+8SiSRg1enRHP24H+8Po+P1Wh33Fxcdj2LBhVm8MkpKCCh8j6M9UVTlPeNrOpKSmora2BiXFJYg0ZY719u/bb9sbcN31s5GdYx4ZViorK22ce3Do4EG3z8SiIhQUFNo+Z42y+XRARXk5PvlkC/jkQH5BAdKMR2urmV2riIAIdCJgP0WUWFT70Uo4K5tphUHfeXrPzzOh/oPdJqCXwQnwmfbz7eopX2fWOCUV5jlv4v7NE4MiPuvQHmfuGJ8J9AFrO4DGFp8T/bcdDTjxfeEEH3KsDq1vRpp4v6jIh8dXBrCrNIDrR/uQcHnTUnRioIVLT0AC/aVnqhZFQAREQAREQAREQAREQAREQAREQATCmAAToqaaCJ5gCVlbTKj2LGWYPPWVpUuxYvkHnY5u9Jgx+PoD33TiNgX6N15/Fbt3hZhLt9d+9ZWXcettt+OOz9zp2qY4fuDAfvz6ySdQWlraqc3hI0bgG998EIUm1rMeJwSefeYpLL7lVhTkF+D0qVN45ulfO+He2zE+PgHjxk9Ahvnm79i+HU/9+pedtrPefV++HwsW3oDY2Fj4zSpn27Zt+PUvn3AJaL12vHdOXKiIgAicJcBkrSfbbWUKM4DEEGGcSV7z04MR70z86jxquij0afbwy3+91Yc2ayfdPnd4zVt1RuGz0L+eSWfrGyyyvhrIsOSzQ1LP1o22yYCh7T/NcrPVaba5NAn0QXbh+lcCfbieOY1bBERABERABERABERABERABERABETgshBgxPrx48eduE3xnQlZKby/+847TpzPsQj7RYtvcZHwK1cst8j3/XjrzWW4z6xwQkuERarPN/sciu07d+zA+o/X4c1lb6CgcBiuvfZaVFlU/MuWqJbi/LTp011SWkaur1y+HCUlxVj+wfv4/Bfvc2J6aLvdfb5qxkyLnM824T/BRcw/95tn3PhpjTNh4kQcOXwYb1lCXE4w5OUNRdGkSSg7cQIvvfiCE+cZ2T97zlyLzK/F++++061g312/WicCg4mAzZWhvtn+WEmK9XWylqHNTGJskEaDWdlQzI/sItBTfKfYHlpoe7PjOLB0c7DdyUN9iLMIewrvjfaKtX34Cm2KEfh8MSK/pV3YD21Tn8OLgAT68DpfGq0IiIAIiIAIiIAIiIAIiIAIiIAIiMAlJkD7mLKyEya2ReLUqZMuWp2CO8uMmbOcPczRI0ew9qM1Ljr9wYcfwWizoGEZOXIUfvaTH2HHju1mZ3MC6RkWVttevvq1r2PO3HmIiopy4nt6ejreNpF86yebMWnyZJy0vthuoQn2933pfmezw2j5zMws/PTHP8LhQ4ecYM5o954K7W0eeuQx116Ehd02NTbi5ZeXOruaWyxa/8677ka82eZQwGeE/ZIXn8f2bVsx0qx59uzejSNHDjsB/xvfehDZ2TkuWn/cuPH4xeM/AycqVERABM4SYOR7oyWJZaEgH1oYDc/o9t4UCv3rSoDvvRpwQry3zwOzfZhtlxa2zYh65oOOMPU2IlSdt8q01GGUvcrAICCBfmCcRx2FCIiACIiACIiACIiACIiACIiACIjApySwauUK8NW1MEp+LgV2i4Q/fvwYKk+ftujzPBw/dgxVlZYp0kp9fZ17p8h/2ranmQjPwsSuFOQ9v3eK5NOmX2X9rETp8VI01NeDQvj3f/gj0Ne+vKwMmzZuNFG8Dces/abmJucp32YR9ecr9L7PysoysS6o1tXV1eGgRd+ztLa0ODHe54sw4d187M8Ex1xunvN15mF/5OhhV2/K1GnmOx8cN+19OMmQlpoG+t2riIAI9B2BQ6cCFhVvnvI9z8n13WDUU58RkEDfZ6jVkQiIgAiIgAiIgAiIgAiIgAiIgAgMHAKMAO3v5Xxj5PC97fRsL7IErrSkKbEEr4wqnzFzJm674zNITEp2CVPPWKJYFtrRPPWrX7rPXf/Um+geoK9Fe2H7Xh80qEhMTLL2ElFnon5TU7NFx/ot0esB/ObZp120vLef9+6N0bUT2qZ99toNrcMqDQ2NzjqHn98zqxq+upa6ulpXr76ORtkwv/00J/B7bdI7m+2yuL69heAq/RWBwUvAfgte5Lz32/B+N3zgxH7SrvAn423vCda1I4HXv+NDbSOwvxx4ak0Ay/cAw+whnC/MCtrjcN6ta1ts1+uHbV+on576D/f1HvdwPw6OXwL9QDiLOgYREAEREAEREAEREAEREAEREAEREIFPTWD27Lm44867nBXN4cOH8POf/BhbNm/BNdfucUI9bWc8uxcmTp08earV7exlQXE/IyOzs1F0yIjYRptFx7MdRrvTsYIe8J44P3nKVMycdbXzu2e0/uuvvhqyd+8/+i1S3pskoI1OVlb2OTunp2e4CH9Gy6uIgAj0ngCtZhJi+LuxSHfzovcHzv6GKJrTE54lxi4Pvfl5ce/kOGB6oVnaXOPD914LYOvRAG6b7HN2OWynySx1muxBGgr1Xm+02eGLnvbehAH7VQlPAhLow/O8adQiIAIiIAIiIAIiIAIiIAIiIAIicIUJUC7q7+V8Y+Q2b3vwMwU1WtjMW7AALz7/B0vW+gFGjRoFivIpKSnuYCdMmIgv3PdFJFlkfXeFNjedy9k+qi0Kv662DkPyhiAyOsr85w+7yPnpV12Fr339G64fCvklxZlg8tlg8cZ5tp2z4/Z68urACfwpqSlmZ3MGN928GFOmTjWh0JP1vPom7plXPe1xWE6drHBPCcTEeKbWZ9sL7uH1HVzSXxEYrAQohme3//QraiicB1wCV/KgYH6qNpgoNi0h0CGmh7IqOQn84ytBf/nv3QWMzW0X3e0nSlubhBgmoWWC2IAloQ32tecEUFlnv0H+DK0effBPm7MWJwSykijSD9bf58A5bu/KG/pd0WcREAEREAEREAEREAEREAEREAEREAERGJQE6B0/bdp0FBQUYOfOHebhvs1FvRcUFJqnfIb5xG/Arp27zJ7GsjdaaTWP+PUfr8Oby94A/d+90mL+7ydKj4PvLLSV4b5NTY0YPnyEE8e9NlinrT0ha7N5zx84sB/0tP80JTk5CWPGjHX9fLh6JSorK10zFP5PnjyJP/z+dziwf797WmDEyJFu20YbFz3wg08K0AP/qIvu/zT9ax8RGMgEaDlTYOkaMhKBjYeAgya4208LrSaW7ywF9pQFt+eYiM95sVa7TJSbkF/bHllPAZ4CP8V92tpwOwvfD1QAVeY6NSQ1KPInmkA/Osdsq+wSsv6gXUNMuGeJHGQLAABAAElEQVSptMvM2uLg5zG2PS46+Fl/w5eAIujD99xp5CIgAiIgAiIgAiIgAiIgAiIgAiIgApeYAKPNc3JzseCGG/GbZ57GypXLMW78eOQNHYrZc+ea9cwr+PlPf+ysb/JNtC82MX3H9u1OvB89ZkzQ5qZ9TBTDd+/ehaH5Bdi3d48Txpks9qoZM8H3nJxctx/3/8G//6tF649GsXnSMwktC8V/T8Rvb/KCbzExsZgxa5ZLOLtxwwYcOnQIM2fOMgGwFR+vW4ea6mqzwPG74+Fx0QaH/X/f+p9iNjtVVZVuUoIdxcSaQqgiAiLQQcA0dxSaQH/9aPOP3wr802vAwnEWPW8WNO/vDka1L7BlRrZTtH9zB/CDd4EbxgN/ekNQ2J87FthyBPj3d4A1ByyK3kT2fSbWe6L79aOCtje007luJPCOtfHSZuCIPZwzKju4716bCBiZBUwtkMVNx8kJ4w8S6MP45GnoIiACIiACIiACIiACIiACIiACIiACl55AVFSU+cxPwdhx452wvnnzJrOLWYSbFy124bKvv/aqE8A3bdzoOs/KzsZXv/YARo8ebQJ3MJmsN6qtn3wCvlgiIiJx7xe+iPETJiDSPOuHDR+Oz957r00EPONEeU+YLywchvLychdFT8ucIWa709vCCYYRI0bggW9+y/nbs8233lzWsftNixbh1ttuR0JCgpskuO9L9+O3zz1rTwXsxOpVKzvq6YMIiED3BJLMM/6LlsT1pNnZrLNI9qVbzta7ezqwuCjoDc+oeHrHs9RbFDwtaaLNU/7mibbCou6fXB0U5T1hPsXafXg+MM8EfM9XfnI+8MgC4IfvARsOBV9sj1H4j1pdJpQ1HV8lzAn46uqqB45hz2U8GUzicvrUKezctdMeUSt1N0nOeE+bPt3dVJngReXyEdh5vA2bDrXh7W1t2HvCrmgDsDDJSFF+BK4bHYnbpkYhM0mX2AF4mnVIIiACIiACIiACIiACfUCANh20GqGw+eGqVU4cveuee1zEM+1LBte/3ywxqVmx0IJhMJbGxnZfiW4Onv/Or7Zo8ibzYo+Li0NKamonr3Z+j+gZT6/2mNgYpNp2Cuzc75RZxRwz4bu1tcV50Q8bNgwJieZ5YYXfu18+8biLln/okceQbeL9SfN45/duaH6+S9oa+h1kP/SLP3rkiIuYHzJkCNIzMlBbW2PLbdZ+khPS62prUd/QgFiLaqcffktLs9vP54twY4uJMe+MLqXB6h89esQdB/vMyxtqTwfkuOMIrVpvv5cys7iprDztjodPCzQ1Ndmxtrm2Y2NNOVQRARHoRIDiOz3laVdDBYfWN3yF5o+uaQxa19C2JtfSWHhKDy/JtLOhRQ7rpNvlg2J7SvzZOl5nvH5zMqDY6tLnnkllR1skfXd1vX0Gw3tc3MB5wkcR9IPhG6tjFAEREAEREAEREAEREAEREAEREAER6ESAgnWaJX/tqTASnclhTVfrVLhfdk6Oe3Xa0M0CJ4QKTbxnpHxPhf1wHF3HQiE+tCSbKM+XVyia5+ScXzinjc7Ysea3cYHCyYWRlgx3JMxbo714CWS9Zb2LgAh0JhBrquqEIcFX5y1nlyimTy88u+x9olCfnmCvYd6ant/tEuEi5r3ktD3X1JZwJaCw73A9cxq3CIiACIiACIiACIiACIiACIiACIiACIiACIiACIhAWBNQBH1Ynz4NXgREQAREQAREQAREQAREQAREQAREoD8RyDB7mv/yX/+2Pw1JYxEBERABEejHBBRB349PjoYmAiIgAiIgAiIgAiIgAiIgAiIgAiIgAiIgAiIgAiIwcAlIoB+451ZHJgIiIAIiIAIiIAIiIAIiIAIiIAIiIAIiIAIiIAIi0I8JSKDvxydHQxMBERABERABERABERABERABERABERABERABERABERi4BORBP3DPrY5MBERABERABERABERABERABERABAY1gbi42EF9/Dp4ERABERCB/k9AAn3/P0caoQiIgAiIgAiIgAiIgAiIgAiIgAiIwGUmEAgEUF1djcaGBkRFRyMtLQ2RkZGXudeem29ubsa6tR+huLgYkydPxvSrZlzR8fQ8Um0RgcFLoKEZOF0XQIR5lGQl+RB9EZeMgGGrbgigphGIjwbSE32I8A1eloP5yCXQD+azr2MXAREQAREQAREQAREQAREQAREQgUFOoLW1FXv37MGrr7yMbVu3dtCgQP/5L96Ha669BgkJiR3r++qD3+/H4UOH8M5bbyEzMxPTpvlhCn1fda9+REAEzkOg1kT1Zdva8PiKVlCkZ8lJ9uHPbo7C3LERiDmP4uo3Zb64IoAnbN/V++x33V4m50fgkYWRmFoYdCR/dXMb/u2tVm9zt++ZNinwv+6NQpHtK22/W0RhsVIe9GFxmjRIERABERABERABERABERABERABERCBS02A4vy6tWvxL//3/3QS59lPVVUVnnj851jywouoq6u71F2rPREQgTAl0NgCLNnUhv9456w4z0Mprwngey+3YNVeP9rO6u6djpLi/K7jfvzdCy2dxHlW2n7Mj39Y2orNh/xgvd4UTgRER0ma7w2r/lznPPM5/XnYGpsIiIAIiIAIiIAIiIAIiIAIiIAIiED/IEBxqJdqUv8YsBsFLW0OlpTgD7//HVpaWnD7HZ/BLbfeigyLVm9sbMSaD1fj2aefxjtvv4UxY8fi6muukcVMPzp/GooIXAkCvNIdqwxg2dY2xMcA/+22aCyYEIFmC3R/YUMbfmFR8Yysn1roQ7ZF1Hct9U3A61v9KK0K4OaiCDx6QxSGpPrc8o/ea8XKPX68u9OPCXkR+OzMSPfq2kZLG/DaJxZd/2ari9bPT/Mper4rpCu47PP5wPtLsPD93O9B1+FJoO9KRMsiIAIiIAIiIAIiIAIiIAIiIAIiIAK9IOAJ854Q0Ytd+lGVFvN4p6XNqZMncd311+OOO+9EamqqG2F8fDzmzJ2H8vJyvP7qq9ixfTumTpvaYXXT1taG0tJS7Nm9CyfsfWh+PoomTUZOTg4ozniF9Y4dPYpdu3bh5MkKFBQUYOTIUci3d8/fvrKyEsUHDrjlpKQk7Nu7Fw2NDZg16+qOaY/GhkbsMRsebqurq3UTBpPMlz4pKdnryr1749q3d4/1ewyZWVlgvXwbH/s7c+YMDhzYj7bWNuQOGeLGE2Hm2bTTOXLkMMrLyhAZFYXRo8d0sOjUgRZEYJATsJ+Ks6c5cjrgxPGrhgd95+k9v2B8hInrPuw5EcCJMwFkmUB/9moQBFdZH8BOi5RPsvzVd10VidyUYB2K9LdMjsSHZnlTVh1AY0sAyXFd9w62cao2gA92+ZEa73Nj4ESBSv8hQHGet4GgRt/9Oew6WhPow/NG2vVALv8yOXVl5a3z3i//KAZvD13ZD3QSg+14B/r51PGJgAiIgAiIgAiIgAj0LQHv32jne+/bEQ203oIRghYX2CFChN8RNlgy2OLiA27gQbE7qdNBxMbGYsbMmWhpbkF6ejpaTdRmYRLZFcuX45mnn+pUPyUlFQ8/+qgJ+dOcGE5bnGWvv46lLy3pVI8L9335fixatAixcXFuguBXTz7hLHW8igkJCRg1arS36Nro2g7H/M0HH0Jubq6bFOC43nv3Xfz2ud907Od9uO9LX8bNixcjzvrjUwNLXnjBCfcPPfIosrOz3Rh+88wz2LljBz73+c9jkk02qIiACJxLgNYztLJhGZ7pQ2LsWQE2NR4oTPehpMJviWODAm3IfJ3bh0lgrx0ddBynOB+aFDbKVkfaK8ESxvK9u0LrnE+O+LHJbHAWT47A6JzObXS3j9b1NQGfTXoGvyMRdoLPRtP3PA5F0PfMRltEQAREQAREQAREQAREQAREQAREQAS6IUDxwecLtEcIssJZkaqb6v1yVYPZ2FRVVllUfIKJ1DlgJHlo4STE+PET3Mtbzwj1jRs34rnfPIvo6GjceffdJpAPwZbNm/DRmjV48fk/OME8x0TzTRs3OGGdUe6333EHsi26vqS4GG+8/pqLyh89ejQmTJzoNd3xPtMi53Nycyw6vvOEwayrr8bMWbNQdqIMby57w0X1L3//fdzz2c8iOiYG69d/7MR5RsrfdvsdGD5iOA7sP+Dq/v53v3UR8bPnzsW8efNdUtzt27Zhw/r1mDd/nhs7xfmiSZMw17ZzckJFBETgXAKMiq5vCoqviRbhHiqkR5oY6wn29c3t18cul8Z8E/C/bbY2XQutb9aX+J1VDpPE9hQ9X2UR+Ct2+12/88ZG9liva/ta7jsCoRH0fDop9KmqnkZx7jeip5paLwIiIAIiIAIiIAIiIAIiIAIiIAIiIAJGIBg5b5Gbpml3WO2GGRm/ie1NTY2IiopGjAncLBRWampq0FBf3+kZeorejKKvrq7G6lUrQaH+oUcewew5c120/OQpU9y+az/6CPv27UWKWeXQtoblns99FjcvWmz9RGHK1KmoNYualRaBf/z4MYwbP97V4R8K+d/+0z91dThZQB9839qP3PYFC2/Al+6/H8nJyc6OZviIEfjJj/7TTQLMnT8f8RYZv3rVKlf3aw98AwsXLkSUTSDMuvoaNzHwzFO/xofmqc+oe9re3HLrbW58y2yyoKam2o2HExUU9rNsu4oIiED3BBjBziSxLKHiPJcZDU+rm4st9JRfs78NL1ni2TEWEX/tqAhEddMOg7J3lwawttiPmcMjMCm/8wTBxfar+peHQPD+GLS56e3ktQT6y3Mu1KoIiIAIiIAIiIAIiIAIiIAIiIAIDGgCnR/dpxgR4UTqcDtoHocXPc9ox4/XrcWvf/nLTofByPJHHvs2Tp86hUMHDzmrmKqqM9i4YYOr19ra6gR1LtC3PsbE8Qe++S18/RvfdNY1u82Dvt5E/+amJlSUlbt9KMAHaGjdXlJSkp3djDcWbz3f84bmORGen7l91KhRGDNmLPbv34cK9hcb46Lz6XE/0aLyKc6zMMp/sonyXH/k8BGcsvEzCe7EoiIstoS4S5cswStLl7q693zuc259d/27CvojAiJwyQlQdN9qljU/fj9oofWV66NQaNY5XQLvXb/VDQG8t6vNRdkvnBiBjKTual3yIarBXhIIWr/xmm7nr6u30QXakEB/AUDaLAIiIAIiIAIiIAIiIAIiIAIiIAIicC6BoK+ulwwv6LnraRI0gOjv0hGFaArZzZYslmJ5bwqj3xsa6tHS0oLf//a5bnepqa5Bq0XYN9fW4p233sKLLzzfbb0/ZiUtbZIsmp7j4NgZ0d9k4j/F94TExE5Nc5nryywBLMfPQi96Wt3s2bXbEtjuNFG/yC1zvYoIiEDPBHiNo1d8d4XXvTb+6WWhOL/ruB//+mYrmPj12zdGYd44uy510z7rHigPYN2BAMbl+jDdbHC6q9fLrlXtMhAI3hODdz4+WebdD3vTlQT63lBSHREQAREQAREQAREQAREQAREQAREQgW4IMAFecHVQjKA4EXBWDybdO/8brvfqeA1cjHDh7XOp3+Pj45GRkYHDhw7hzJkzNki/2dBEYpElU+WLYssnWz7BD/7931zXLjrSIt7b7MXIdHrCx5stTGhh3OvIUSOtqTasWrnKifO0paHFTb5FsbeaoL5ixXLs2rkz2KZF77tIy3Yg/OyxoV2G29begc/VPdtbUAwKLvNz+2lw+3htcCu3McI/wmx6oiKj2tsPoNYmEE6eOuka4DuXc62V0D6Dresvp5tCeYvI4CXw/7N3HwByXuW98M/21e6qF8vdxjYdA6YZQidOSAKElk6AkA6hpDfS781N4N7v3jS+5EtuAoRmILk3AZLQTQDTDTZg04yLbNmqK+1K2r77Pc8ZzWoly3LXzs78XhjN7Mw777znd1a78n+eeU7+vRw6vDDswcmF+HlwpK3NbKTzBw/3p+/vOfJ3+Xha+ff1+t0L5S8+NFe27V0oP/b4nvKcR/SUwcaHX27zlEPTpfznN+bL/qii/5GLe8vWtXEitmUUyBls/P5r/Mycj58ROSfx+y/e/M3ru7IJ6O+Kln0JECBAgAABAgQIECBAgACBEwg0Q4u8zo/6N9reNMLNIz3rM7BfGiKf4ID32UNDw0PlvPPOjwVev1iuuvLKcuHDLyxr1qw55vWOtKCJKKYMx8KtI8MjZXW0o3nu818QrWNOP2b/xpf7RkfrIq7Zu/4nfvIny2Me+9ga2mS1+w03Xn84oL9twLY0BE7BJbH7UQFx9sjfvXtXrYRfvXqk9tHP88p2N+PRJ3/9+nWL5zUWbz7s3bsnznu4DMclw6R9+/aVD7z/P+r+uWM+LxeefdGP/3hZF732bUcLLMSbNxnG2Qhk3/kth39M7BgrZWp2IUL1xvdG9qbfPR7rScQay+uP/iDLUXD5d3v76EJ5w0dmy1duni/Pvain/MjjcsHXo3Zb/CL3v373fPn41+fLqeu6yqPP6S59Et1Fn5N1I392NhZ9zVdshvHN+5pvyNy9N/OO86GJkzUsr0OAAAECBAgQIECAAAECBAi0n0DGSbk1Aox663Aan8F8o7KwUXmYLdiX69LT01ceEou7ZhX9Jz/x8fLRD38kqsgPLZ7P7OxcVNaP1TYykY7XesjNmzeXs885u9x8003lM7Eg7MGDE3X/2dn58o2vf7O89S1viVYyO2uV/ezsTG09MzMzW8P1uaiu3RmPfTP2a2wL8dzGpamSPk2PalUrMkv55je+GaH6WH1senqmfOUrXynXX3ddOfXUU2PR183llK2n1Mr9W265pXzus59dPK88vyu+8IVy6y23xnmfWzZGq5t8/uc++7kY8ydqH/tXvvoX6/WnLr+8fObTn62PN8/BdWM+hPOHv2Vd1U8HnbWxu2yM/u+fv36+VsHPx1/WrJ7/arSrueaW+XLmhq5a4Z7V9jNx/46x+MTK1BG8bGfzvz8+Wz597Xy55CHd5aVP7Cnrhhoh/5G9jtyamlkon/rWfNk5vlCe8oDucvZG35FHdE7erfyZnGutLP2UUf6MXPr13T0b77fcXTnPI0CAAAECBAgQIECAAAECBO60wOGMPvZfGtzf6aff6ztmqHLOOeeWZz/n+8ub3vgP5Z2XvqN84AP/UR7+iEfUVjDbtm2L0P3r9XVPP+PMqFZfVQYHBsqTnvyUcvVXv1r++Z/eXa688kvlYQ+7sFazZ8CdveBPP/2M8uhHPzqOfU75ype/XP6/v/5/YzHZz9Xj5KKyuU9u2fu+EfjkV7UhUKXpOpzTNa4ab3Z84fOfLdde+416bmPxpsEXr7gin1Qe9/gn1NA9K/Wf9vRnlK997Wv1vL7+9a9FYH+/cu23vlWr9bMVz9Oe/vSo/F9TF5N933veU/r7+8r3Puv7yiMeeVEETAvlr9/wV+V9731PDfrPv+CCeyV0qifpDwJtJJB/P8/aUMp3nN9d/vVLc+W1/zxbnh4LtmaI/sGvZgusUp72oJ4a4Md7fOXfrpovr//32fKMB3eX11zSGwtId5W3fXq+fOAr+amMEr3nS3njx+dK5L6LWwb7jzq7qzzh/J6SFfvZAucj18yXtavyvu4ycLhif/EJbpwkgcbP4/rmaX3FZtX8PX95Af09N3QEAgQIECBAgAABAgQIECBAYAUKZEj9lKc9PRZcHSn/+OY3l32j+8rHPnrZUSN5wQ/8QHnGM76ztofJB7L3/OzsT9f9MwDPS255rB9/yUvKxRdfXPojyM/AfPv2W6KC/fPls5/5TN1nZGR1tJBZW27adlPZfvP2COnv3OK0eexjz+2S7/ru8uQnPzlet78e+8KHP6L85E/9dHnzG99Y2+t8Narsc1uzdm15WbTZediFF0b7m/Hyb+97b9m1a2cN7B/8kIfW887rJz7pKeUjH/5Q+fd/e1958Ut+Is7zSJuceiB/ECBQBUaiB/2PRs/43VEJf3lUtv/T5xtvuuWDz39UT/meh0WIHolrVs9ncJ/bRPSQn5vviq9LuWlvI5zP+6+4YT4ueevobcvq3pKV+XNzXeVz1y3UkP6ZD+sp522JVmGNd++OfoKvVrRA18GD+xvfKSt6GPf9yWePob179pSrr7kmPhp2S9kf/doeedFF9d3rfKe6sQDAfX8enfoKV2+fqz+0PvDlufKNW4/8IGsnj6H+rvLg07vLxefFD/MLG++2ttP4jIUAAQIECBAgQIDAyRLIPt4HDx6Mvtt7yyc//vHaX/w5z31uuehRj6qLe3baf79lxfaRir+TNQsr73UmJiaOLBgbp5995rMaPhd5PbaFQX6PjUWv91xgdmLiUITcA+Wss8+O3u/rj9o328ls335T2b1rV7wJsCaOd1p9PBdk7e3tK+vXrasLuGZP+FwEdt269YuBe+YQuXjt1NRkGRoaLtNTUyWr+ufmZku22jktzi0Xq1265Xnt37c/9ruxntdgLISbnxJo9tbPMWZP+mzYk28WNHvSN//OHDgwHp9v6Kqhfi6iayNA4PYFpmZL+fbOaF0VrWfyUzBnbuiOSy4aeyRBH4+FZL+5Y6GcFr3jT1nTVSvsM9ifOZLpH/cFhuNNgHWxBnW2UMn9sxp/OHrbZyuc5qdsjvtEd65IARX0K3LanDQBAgQIECBAgAABAgQIECBwbwpkIP2ABz7wTh0yA/u1UZmeVekn2rLyPQPyvCzdMhxvbj29vdFDfmvzy8XrfCMpA/+l26YI5k+05Xll5fvtVb/nGI8XvOfzRnIB3LjYCBC4cwJZJf+g07rKg2rbruM/Z/VgV7ko2tU0t96eUvvTN7++o+vuu7j/HR3P460psOwBfb4jnJe52dm6iErezi1/OWRlerM6ve4T7/rnO//Nfm3N/fKXVnPfnmjOlAu55D75nKXHyX3yaxsBAgQIECBAgAABAgQIECBAgAABAgQIEFhugWUN6PMjVDMzM2Xi0KH60bCDhw6WyYnJGqL3xjvII/Exsvy41eDgYF08ZTw+PjYeH7c6dPDQolt+BGxo1VD9yFnun+8E58fM8uNih+K4fXmceAc4P86Vj2eYL6Rf5HODAAECBAgQIECAAAECBAgQIECAAAECBJZJYNkC+oWF+VrpnqF79gXcuXNnDdWnp6eybVMN0tdGL7b8yFguaJLBfS5iMjo6WsbHx2PV477S29cbYXt3Dd+zWj47Ps1G4L9jx47aL/7gwQOxX3/J48zNz8X+fVFpnwF9d/TfW6hV98f2a1umefCyBAgQIECAAAECBAgQIECAAAECBAgQINBhAssW0M/NzUdV/FSE83vKTTfdFCuYbyuHYrGSnqhwzxY1CxG4D8eirOsiXN+85ZS6uMn2m28uo3tHy4EI3jO4H4rq+u6ooM+K+OGRvN1dq/Fzvx233lomJifKQCzUklX3PdHkaVVU2jcC+q5of7MQlfkDsShLhvza3nTY973hEiBAgAABAgQIECBAoCMEojbNRoAAAQIECLSwQO9y/bKeixB+anI6quYPRSuaiVitvCcWP9lQNm7cGC1sDtY2NZOTGeDvrRXvs7FKea5+Pji0qobxuZJ6XSwlwvVVcV+2sJmcnCzjY+Nx3Kk4XndZt3Zd6T7ck35s/1jZ0bejBvS5AEujcn5NrIQ+UkP+O5qjdKr/rsk/8vZxLnd0DI/ffYH6fVon4O4fY0U88/AYm99fK+KcnSQBAgQIECBAgACBFhNo/nu6Xh8+t6Pu64T/tmixOVmu08lcwUaAAAEC7SeQhdftsi1bQD9bK+hnytTUVCzoOh994leXzbEa+f3ud16tqt++fXvZtu3GCOrHa9ie1fEL8b+snN+wYUO54IL7ly1RWZ/V73npjgVgb45K/J0TO2o7m4GBgQj7N0Wl/FzZv39/tMU5UCvzc6HYfCwD/cGBVYtB+x1NaFbcN/5Bl2fR2PwD747U7r3Hl/7D+t47ausdKb+3ln5ftd4ZOiMCBAgQIECAAAECrS9w1L+p4x/Z9b/h8nrJpfVH4QwJNATe8ba3lltvvaW89GUviy4DG046S21FHK/aHx0KTrTNR2Hle9/73nLFFz4fGcxYeeb3fF+55Lu++0RPOe5jjZbIs1FY2X/cx91JoNUEJmYWSl9PKb3R5ePubAfifcTh+Ha/owYf+Tss9109eHdexXNaWWDZWtxkq5lmiN4fgXl39IVfHaH5cCzomj3mM3Tviar6DNTzsYUIyKens+L+QPW8OdrY5DvheYyhoaH6vAzxBwYGa6ubmdh3/77R2spmcmoy3gSYK3Ozs3XB2XzO8PBIfd6J2ttkn/rc8jp73OcbCfW+w/fXB/1BgAABAgQIECBAgAABAgQIrEiBf/k//1ze/x//Vk6LT+m/9nd/L8Zw24Dtv/7RH0RB4Lby67/52+Xsc8496eO86qory85Ya+9gdBs4eQH9Qnnve95TPvj+98frNnKYM888qzzikY8sz7jkklpkeSzE//67vy2f+fSn692Z5eT5ZtHkL/z8zx67a7Qh7iunnHJKufDhjyjf873fe1QY/yu/9JpyIIos//S///eTON7bnKI7CNyhwKWfL+XSz5YyNtn4ubF5dSmvfHopTzjvDp9apucWyv/4QFf5xDdLmZotkYGWcs7GUn7nWQvljPVH/xzaMVbKH713oXxzZ1cUJZcyEGnuY84p5deeuVCG+o/e945f2R6tKLBsAX13hO/9A/1l/Yb1NVzvjR7xvfEDujuC+QzTZ2Kx10bgPlBD9dkI17PcYXpquozPj8e7x7fW1jirVg2WdevXL9pmWD8YIX22yZmInvY1mI/v3vnDlzxm3s5gPuP3fJ3sQ5/3L90yiM/n5utm2D8d++WCtocOHaq3ZfRLtdwmQIAAAQIECBAgQIAAAQIrTyBzg2yne/1115X3//u/le+Oqu9jt2ylm/vMRYV4p2xve8tbykc+/KE63LXr1tZiyOxykJcrrvh8+d3f/8MoqDwSKWWVfTOc//lXvKI86tGPrc/Nqvq0y23Tps31Ov8YG9tXzdP9wx/8YPnjP31dFFIO18dnZ6LAMvKYLJS8q9sb/+F/ly9+4Yry8le+sjzgAQ+8q0+3P4E7LfD3n1wob/tMFheX8uizSzk0vVCuvqWr/O6/lPL7zynlieef+FCvfFtXuXZXKav6Snl8BPo37in16598U1d5608tlE0jjeB9bKKUl70xQ/yusiXeADj/lFKu3FbKJ75VynVv6SpvetmJX8ejK0PgyE/Tk3y++W5qV9dA/YHe+KG7UCvi90XV++7du8qeWCC2Kz4akr8I8od49pXPCvq8ZKg+GovLjkXrmuwxn61sZmdmy+rVq2tf+hrMxw/yDNSz6j23/IhU/jLNH/JZUb9nz+6Sfe2zZU6zmn4pQQbz2X5n3759cRktB6NyP/vh3xKtd/L+PH8bAQIECBAgQIAAAQIECBAg0B4C73rnO8tFj3pM2bxlS3sM6G6O4mOXfaSG8wODg+VXfu3Xy7nn3q8e6UC0rXn96/4kPk1wc/mbN7whQvBXLb7Crl076+3MV5rh/OKDh2/8t9e9vhZL5pdZWX/VlVeWN73xH2p28+Y3/n35+Ve8su75P//sz2ruMzC46vAz7/zVnt17asX/ZLzxYiNwXwlMzS6USz/XCND//IdLecDWfKWu8q9fWih//pGu8ncf74qAvtGV43jncPUtjTB+TbSqeeNPlLImvtWzEPj331PKJyN4z2O/4mmNZ/7LlY0K+0eeVcrrXtj4jM/BeDPgZf9Qys37usqnv71QLr5f41yO91ruWxkCyxbQ1xY2EXJn0F1D81zgNVrb3HrL9jI6ujd+GE/XXvPro9/8hg0bo3I+mizF91tWs+f+c/HDPO8bixB+T9ldeuOd2/7+/vqc/GWai8DuXbWq9j3Lj1Vle5t8I2AynrMQwf5UhPRZDZ8Ly+bv3lxYoCta6TRb3mQFfYb0NZjfszf62O+LNwX21rA+T6T5zu7KmGZnSYAAAQIECBAgQIAAAQIECNyRwF+/4a/K7/z+H5xwtywqvOrKL5XTzzjzqCrtrBa/7LKPRr4wVJ7wHd9Rj3Httd8qN1x/XW3lkkWGV199deQY+2NdvQvKhRc+vGQIvWvnzvLlL19Ztkcr302xNt/jn/CEKCY80imgeTJRd1i+eMUXyje/+Y3aCeBBD3pwedCDH9J8+KjrAwfG67433nBjnOcZ5aKLLipr1q5b3CePk9nLYx772Njvi3GO3y5Pe/ol5YwzzyyXvv1tdb+f/bmfXwzn846R1WvKr/3Gb5VX/8Iroor+C2VH9MU/Zeup9XW+8fWv1+fMx0l+5MMfrPnME5/0lHrf8f7IrgqPeORF9Rze+o//WL7yla8s7vbpT38msppD5alPfVoUZR6JrSYmDpWrv/rV8vWvfa2uK/iwCy9cbDl03XXfLtd9+9o4p1vrcb74xStqYebjLn5CVP/3l//82GW1zfHFj2/MS/PFvvD5z9Z1C5/wHU+MeVtVvh3zdX3M10Me8tByyy23xHx9Neb4AUe96ZDjzj77+/ePlXPOPbc8+jGPqR0hmsfM6/T/9Kc+VTOuofhkwPnnnx/fA49cuovbK1jgCzc0Ws08IKrZG+F8YzDPfnhX+Zv/LOWm0YWyL94jWnc77zF9+JrG/s95RCOcz6+i0Ud5yeMbAf1/fmMhAvpG6P6hqxv7vvQJC5FGNu4bjrY2P/CYUv76slI+9o2uCOgb+/hz5Qoc+Um3TGPIIDwr4g9EOL8reqrdcP318YN4ov6yyV9Mp512eq1wz7A8Q/H8ZszK+pnZqKIfHS3XfuubJd8ZzZY3m7dsLoMRym+Ny/r1G+ol38XNx7J3/UQE8tn6JivrcxtbPVbb4GRP+nVRqZ+tbrq6GpXxeV7z8UZAVuznL4HsuZZBfwb6uZ+NAAECBAgQIECAAAECBAgQaA+BDFm/eMUV5YYbri8f/ciHIqz+ztsd2LXf+lbJFjAXXfSoowL6yWjJm/dn5XkzoL/8Ex8vH7vssvKB/3h/7RbQPOhHPvShkj3dn/aMp5c3v/GNzbvr9f/5p38qv/N7f1DD8qUP/M//5/Wx1t7+xbv+LRZkzdf5iZ/86cViw3zwwx/6YHn7W9+yuF/eeOc73lZe8cpXl4c89GH1/ne989La1/5f/s//rXlH3nnB/R8QLYiHa0ua7GaQ/eGP3bJC/nEXX1zb2WQongH9pW9/++LYMndJgyzGPFFA3zzuQx96Yb05FVnLbOQ82fr4rW95c3RRmIzXeULkQI385covfbH8xZ/9r+bT6vX/jfUDnvq0p5UXvfil5TMRhn/ogx9YfPwT/xkpaWwXXHD/2mkhz2lVtEQ+NqC/9O3viG4Je2ogP7h1VfnU5ZfH/H+45lDN3vuZI+WnAjInesNf/nn9Pll8objxz+9+d/n13/rt6O4QDcRj++pXvlz+/H/9z1pcWu84/MfZZ59TfvO1r61jXHq/2ytPYGcjViwPOu3oc8+Q/axYx/mb8YGSHfFX9fYC+p3jjec9sFbeHznGuZsat/dNNIL4/GrvwcZ95x/zwZ77H/761sPn0tjLnytVoHs5Tzwr2rMdTQbtN910U7l1RwTpEYRnyH766aeXzZu3LC48UvvAxy+73BoLww7Hu5/DjYVE4m9A/iBvtrPJfbKlTfZAy2r7rKZfFb8gsz99vkub/ebz67zOCvmJQ42ec9mbvrnlL5P8pbpp06aSP0TzF9UF979/nNcZ8U72uqN++TWf45oAAQIECBAgQIAAAQIECBBYeQL5yf0f+/EX1xN/x9veFp+e33uvDiKr7p/17OeU3/it3yrPe8ELaoCd/dwznM/M4edf8QvlZT/1M2VLLJyaOca73vmO27x+hvMv/MEfLL/12t8pP/yjP1Yfv/yTnyxfimrx5nbVlV+s4Xx/f1951nO+v/zqr/9GrfDOPvBv+Ku/rNlJc9+8zhD6iU96UnnxS18amccDa1/4vP+ss87Oq+NuZ59zTr3/um9fV69/+Vd/rfzUz/xsvb0h1hn8/T/8L3H5o/r1Hf3xmU9/qu6S+UuG88fbtt14QwTjf1Ef+qEf/pHyB3/0R+UFL3xhVOn3lcs++tF4s+BTYfvs+rppmdsP/ciP1q9Pi2zp7mzpkp9O+JEfe1G8idJ4s+ad73h7DedzjC992cviDY9X1TdRMuDPFj3NLZ1zDp/y1KfEGy2/X37iZT9Z86V88+e9//qvzd1cr2CB3QcW6tlvGGpcLx3K+sZSCmXXgaX3Hn27GfCvHzr6/gz4cwHYjCezjU0efWKmsYDsQO+R0D6ftfbwa+cbAbaVL9B4K3IZxlEr1COgz6r03bt2lRvjB25tbRMV66ecsrVWzq9bt76G61nxnu1v8mNgwyMjsdp3tsbprb/Q6nWE7tmaJr+Rm5Xvk9GzPp+T/eL7+mIR2K6h+sM+q/Xj/2X1mjV11FkRn/vMxC+r/gjym1sG9KvijYLB+CWRLXPyh2v2oO+L6vkdUemfrXVsBAgQIECAAAECBAgQIECAQHsIPPkpTy0f/8+PRauUb5e//Zu/iXD7N++1gT3t6c8oz33+C+rxzr/gAbWtzSc+/vGaa/zSr/5qrdjOB0eigj2rr6+/7vq679I/MkR/8lOeVu+633nnRyvfmQjy31lD30dGNX9u77r00nr9wh/8ofL0Z1xSbz/ggQ8qv/bLr4lMY7R89jOfXazuzwczyL7ku7677pd/fPxjl9XbWTB5e1t2LMgtg/PcMjOZiE4IuQ0MDN6m8r8+EH9kt4Tmlp0OPvfZz5TLolo9t4svflzzodtcf/AD76+ZzLPjDYdLvvuZ9fHTzzirzEdFe37a4FOXfzKq7R9fW/BkO5nctsQ5Zbueu7s99GEPK6/5pV9ZfHq2Sc7zyO2Xf/XX6ycH8na2KnrNq14ZVfNfiZY3o7FgaE+t/s/HfvCHfqS2MDr7nHOjE0R3+b///O7IqaSpabPSt1ywNbfensb10vH0NxpzlFjr+Ha3xvMX4vm33SXvm4r1qOfmoxh5LiP6275GPqsvuovkNjd/+/vUHfyxIgSWLaDPwDvD8ey1luH8jTfcUH9YZyCeQXz+sM4FWrPKPReIzX7x4wfGImSPXvN9/aU3wvRsP5MV8L0RwK9bty5+kY3E4z1lOo7dHWn9qlVDNeDPsD0r9bPNzVgsapK3x6MfWPM4Gczn8/IHZnNr9qLP6wz9c8vj5D7Nx5r7uiZAgAABAgQIECBAgAABAgRWvsDPvfwXym/9+q/WPudZnd5sVXNPR3ZKVMYv3bLVTAb093/AAxfD+Xw8+53ntjTMrnfEH+dFH/Ol23c86ck1oM9uBLllD/zsm57bpk2by9e//rV6O/846+xza0B/663bF+/LGw9+yIOP+jp7yN/R1mz7m7nOXdle+fKfP+7u5513Xnwi4EXHfSzv/Fa0FMrtiU9+Sr1u/vGd33lJDeJXR2/8e3trtgJqHvf666+vN7PFz75YSyAvzS0r6vPNj1tv3VFbHuU+WYH/59GS55nf873lAQ98YHwfPbFems9xTYAAgaUCyxrQZ8BeQ/OoRs8fXtlnPtvXZMuZvXv21POslfERis/NztVe9dnPbDZu118I+WZRXFavXh0/lE+J6zWLLWyyrU3en1t//0A9fra3ydA/f9HVXySxqEL2tR9cNViD/HwzYOnWDOKb193x7lQuJFtL9Zfu6DYBAgQIECBAgAABAgQIECCw4gWyj/gP/NAPl3e87a3lLW/+h+jDfuF9MqZmyJ05w9JtaeHg0vuPd3tkpJF5ZL/2+fm5sm3btsXdsgr/eNue3buPd/fifaed1miqvWfP7e+3+/AxzjzrrMXn3ZkbD3/EkZ72mdOcsnVrtJF58FF9/I93nJ3RxSC3DMKXbrnA7mMee/HSu+6z29+O9Q9zy+zq9X/y3477OtU23l/JtkKv/9M/qW/y5IK2uT3koQ8tz3nu88p58ckH28oX6Dtc+T4dle7HbrOH3+PKVjW3t/X3NgqBj/v8w+979fVEhf1ilfxtjzRXi4m7ymDf0T9Dbrune1aCwAm+Xe7r089vxoW6mvbatWvLqaeeVnvGZ8+xDMSzyj23DNrXRDuaVdGYKX+Aj+3fV0P27MSUv9AyYM93hrfGwiTZtqY7AvTcrycey172uWXw3he9ybICPsP5vM6PJ+W7mvncNWvWxuP9db/6BH8QIECAAAECBAgQIECAAAECHSnwjKjM/mRUt2+LHvF//3d/27IGWTHf3LKYsDuyjtyyN/vzX/iDzYeOuj7jjDOO+vrYL84774J617Ybj4T9x+6z/eab613nnnu/Yx864de/8KrX3K2OBJnhZJFltizOvGc5tmZB5+lnnF6e9OSnHvcU8pMAuWVrnT/7y78s11x9dfnC5z9XPhUL2GYLnLz8wqteXR7xyIuO+3x3rhyBzY33xsq+I12bFk9+z+He8xsP96JffGDJjU0jpXx7Vyn7j3l+Zu7Z3qYnaoNXHQ7eM+jP+6ZmI0Nd0od+9GAjmN8Qx7KtfIFlC+izmr0/QvH1sRBL3s4WNTMz8R13zJb947MSPtvVZPub8Qjz161fH+8Oz9cQfiQC+gzY8/n9UX2fFfXd8Z2clwz3l27Z9iafl61wpmLB2Tze2myNE8fPH7bNSvmlz3GbAAECBAgQIECAAAECBAgQ6ByBzAZ+9uUvL6/9zd8oV1155W0GnllGbqP7Rm/z2H15x7HdZ5oV81msmOfcbKMzFytMPikWfs0K87u6ZT/5DMRz4dNvRIucbMGzdJuKosfLP/mJetc5556z9KH77Hb2w7/11lvKTfEJgey939wOROviPJfsif+Yxz6uefdtrrOAM7fpWH8wP2mQGdRd3U49/MmC7q6e8p2XfNftPn1HnOe1115bcv9cZDYvL3rxS+LTGG+qC9r++/veK6C/Xb2V88Cpaxvnes3RHaPqoq43Hf6xsPkEnZdOW9d4/teiO9XFS97n2jaaxcxdZfXgEYsM82/eF62edsYnMRofcKkPXhsBf25bDr9Z0PjKnytVIN6TWZ4tq9+HhoZjMdjTaj+uix716PK4xz3uNpe8Pxc0yVXCt556au25lh+LynccL7zw4fH1BfVjUUNDuQjs7b/fkGF9BvGnx7vF+QsmF/y44P73j8r7rbUKXzi/PN8HXpUAAQIECBAgQIAAAQIECLSaQH5Kv7mo67HntnHTpnpXLiY7PT21+PD73vOvi7fvixuXvuPti2vkLURa/+53vau+zMMi38gtq8vPPOvsWm3+1rf84+K++ViG7f/j9a+ra/7l1yfavvf7nlUf/qu/+IsajDf3zbG+4a/+sh4/q8VPP+PuL8LaPOaduX7kRY+su/3Tu98VYzrSI//d77y0vPMd74ixfX3xMIODjQr78Vh/sLllwWezCn/pvldd+aX6RkRzvxNdn3f+/esx8lMVn/7U5Uft+oH3/3v5xzf9fV0DYGess5ifuvjvr/vTaM88c3i/rqiqb7QDGo+1EW0rX+DhZy7UKvevR/elZlCeo/rINQtlIqb99AjgNwwdGeeO+Hasa7kevuvJjQ+qlH/9UrRNOvIjpLz9s42q+KdGq6Tm9pQHNNrhvOXTuUZm497pWDz2n65o3H7akn2bz3G98gRuP9G+j8eSgXhemh8Tuo9frr7WyXy9+3o8jk+AAAECBAgQIECAAAECBAjcdwLf96xn1QrtZg/05iudcfrptWVu9iN/zStfEf3FH1Zu2X7LYpi9EFXa98V2zdVfLb/yS68uF1xw/3L9ddeX3bsbJbTf/7wXLL7cT/3MT5ffe+1r47w/WfINhFygNBeOzV7oGVLv3rWzdiFYfMJxbnz/854fz9lePv+5z9VPEZxz7rm1A8F1111Xst/92nVry2t++VfimY0w8TiHuFfvetazn1Muu+yyOobfjk81POhBDyzXXPO1kvOS7Xy+85JLFl/vYVHI+cUrriiXRnCfY37O9z+v5KcCHv7wR5QrrvhCDc6zH/zBgwfD8LrF52Ub5RNt2V75R1/0ogji31T+7v/7m/LJT3wi1kLcXKvls7I/TZ73gh8oD3nIQ2r75fFYa/EXX/2q8tD43shWy1d/9av18M97/pG5OtHreay1BbL9zHMfUWpI/vK3lpKB+myE5h/7RuPvxIsfn99PjdsfiKl/3ftjAehTSvmrH2uM68IzSjkn3ue7fncpL/mHUr7j/IVyw+6u8pXDFfnPb7wnVXd+4aO6yqWfK+Vz15fyc2+JhZ2jiv4z3+4qO8dL2Ti8UB537sn5e9g4c3/eVwLLVkF/Xw3IcQkQIECAAAECBAgQIECAAAECd0Zg8dP0x8m4sq/7y1/xysXDLBwO3Lp7esurf/EXa0g/PT1TA+FswfLM7/meum/XkhYqzeMfu/jr4v1RuLh0a97fk02oj9myVcrEoUM1OM9wPtfV++3f/b2SC9s2t9NPP7P84X/5r1HdfnoN5i/76EdrUH1qdCTIfe93uMd8c/8onWzePOr6Z37258r3PevZ9TgZZH/tmmtqm+InPvnJ5bd++3drG+KlT2geJdsN31tbcwHdbNXzx3/yJ/XNhgzlP3bZx2o4n58W+IM/+uPoqnDq4kte9KhHlXPvd7/q9KnLL481DBv9Rn78pS8p+UZDbtkLPseUQf2RhWcbI2j6N68XDxw3nvLUp5dXvPJV1T3fLPlYvGlwy/bttY3NH/6XP452ytE+Ob43/vhP/rR2bciWOp/77GfKl6+6qh4mP5FxolY8S1/L7dYX+LmnlPJDj2m8sfPha0oN57Nf/K98dynPeFDzb0R8suVw9+3hgaPH9Gc/vFAefXYp+w6V8r6rGuF89rZ/Q4T4zRY4+Yw10e7mb1+8UKvys1r/PdF1K8P5B5+6EPdn8fPRx/XVyhToGh/f3/huWpnnf9LOOnvXZw+2a66+pr4rvn/fvtpmJ9vt5LvQJ+uTACdtwC32QldvnytfvHG+fPArc+Ubtx75SFuLneY9Op2h/q7yoNO6y8Xn9ZRnPqynbBzxU/YegXoyAQIECBAgQIBAxwosRB+ArJDdu3dvufwTHy9XXXVlec5znlseGeFdtj/ttP9+W1iYW2yN0GnfFJOTS/pH3AeD37dvb5mZno0q7c1x9JPz33CjkU1kEL527foTjmhmZjoq5nfVCvLe3sMp4QmfcfwHJyYORRX4ZO31fvw9Tt69uTDujp07yqZNm+Pvcv/tvnDOS25ptDRsPxRvcOyP0D6r6u+JSf58ORBtdLacsvWo4y89ofw5tCta3uTaius3bIiHTs73x9JzcPvkCNy6vxHEL21rs/SVJ2cWyuDhRV+X3p+35yOVvSl6z2ev+cyFTrRNxHEynM8WOr3dJ973RMdpl8eaLa3aYTzL1uKmHfCMgQABAgQIECBAgAABAgQIEOhcgXXrMng9udv6DUcq5k/0yhlgn3ra6Sfa5U49lj3c89IKW1aon3rqHY/p9uYl1y/Myz3dsuVNXk605RsDW06Jvia2thfYenjR2Nsb6O2F87l/5uxnbbhzYXu21jn75P/Iub1huf9eFLj3Pnt0L56UQxEgQIAAAQIECBAgQIAAAQIECBAgQIAAgXYXENC3+wwbHwECBAgQIECAAAECBAgQIECAAAECBAi0pICAviWnxUkRIECAAAECBAgQIECAAAECBAgQIECAQLsLCOjbfYaNjwABAgQIECBAgAABAgQIECBAgAABAgRaUkBA35LT4qQIECBAgAABAgQIECBAgAABAgQIECBAoN0Fett9gMZHgAABAgQIECBAgAABAgQIdKbA4OBAZw7cqAkQIEBgxQiooF8xU+VECRAgQIAAAQIECBAgQIAAAQIECBAgQKCdBAT07TSbxkKAAAECBAgQIECAAAECBAgQIECAAAECK0YgWtwsrJiTXd4TbTrl9bG3l963vGfZ3q/e7s7N8TWv23s2jY4AAQIECBAgQIDAfSfQ/Dd1Xje35u3mY837XRMgQIAAAQIElk9ABf3y2XtlAgQIECBAgAABAgQIECBAgAABAgQIEOhgAQF9B0++oRMgQIAAAQIECBAgQIAAAQIECBAgQIDA8gkI6JfP3isTIECAAAECBAgQIECAAAECBAgQIECAQAcLCOg7ePINnQABAgQIECBAgAABAgQIECBAgAABAgSWT0BAv3z2XpkAAQIECBAgQIAAAQIECBAgQIAAAQIEOlhAQN/Bk2/oBAgQIECAAAECBAgQIECAAAECBAgQILB8AgL65bP3ygQIECBAgAABAgQIECBAgAABAgQIECDQwQIC+g6efEMnQIAAAQIECBAgQIAAAQIECBAgQIAAgeUTENAvn71XJkCAAAECBAgQIECAAAECBAgQIECAAIEOFhDQd/DkGzoBAgQIECBAgAABAgQIECBAgAABAgQILJ+AgH757L0yAQIECBAgQIAAAQIECBAgQIAAAQIECHSwgIC+gyff0AkQIECAAAECBAgQIECAAAECBAgQIEBg+QQE9Mtn75UJECBAgAABAgQIECBAgAABAgQIECBAoIMFBPQdPPmGToAAAQIECBAgQIAAAQIECBAgQIAAAQLLJyCgXz57r0yAAAECBAgQIECAAAECBAgQIECAAAECHSwgoO/gyTd0AgQIECBAgAABAgQIECBAgAABAgQIEFg+AQH98tl7ZQIECBAgQIAAAQIECBAgQIAAAQIECBDoYAEBfQdPvqETIECAAAECBAgQIECAAAECBAgQIECAwPIJCOiXz94rEyBAgAABAgQIECBAgAABAgQIECBAgEAHCwjoO3jyDZ0AAQIECBAgQIAAAQIECBAgQIAAAQIElk9AQL989l6ZAAECBAgQIECAAAECBAgQIECAAAECBDpYQEDfwZNv6AQIECBAgAABAgQIECBAgAABAgQIECCwfAIC+uWz98oECBAgQIAAAQIECBAgQIAAAQIECBAg0MECAvoOnnxDJ0CAAAECBAgQIECAAAECBAgQIECAAIHlExDQL5+9VyZAgAABAgQIECBAgAABAgQIECBAgACBDhYQ0Hfw5Bs6AQIECBAgQIAAAQIECBAgQIAAAQIECCyfgIB++ey9MgECBAgQIECAAAECBAgQIECAAAECBAh0sICAvoMn39AJECBAgAABAgQIECBAgAABAgQIECBAYPkEehcWlu/FV9Irp9Oi1ZLbzfsXH1tJg1pB51p9l7ivoFO/W6fa/L66W0/2JAIECBAgQIAAAQIdLrD039P1P3nzvyXCpHl//e+LDjLqtPF20NQaKgECBAi0gYAK+jaYREMgQIAAAQIECBAgQIAAAQIECBAgQIAAgZUnIKBfeXPmjAkQIECAAAECBAgQIECAAAECBAgQIECgDQQE9G0wiYZAgAABAgQIECBAgAABAgQIECBAgAABAitPQEC/8ubMGRMgQIAAAQIECBAgQIAAAQIECBAgQIBAGwgI6NtgEg2BAAECBAgQIECAAAECBAgQIECAAAECBFaegIB+5c2ZMyZAgAABAgQIECBAgAABAgQIECBAgACBNhAQ0LfBJBoCAQIECBAgQIAAAQIECBAgQIAAAQIECKw8AQH9ypszZ0yAAAECBAgQIECAAAECBAgQIECAAAECbSAgoG+DSTQEAgQIECBAgAABAgQIECBAgAABAgQIEFh5AgL6lTdnzpgAAQIECBAgQIAAAQIECBAgQIAAAQIE2kBAQN8Gk2gIBAgQIECAAAECBAgQIECAAAECBAgQILDyBAT0K2/OnDEBAgQIECBAgAABAgQIECBAgAABAgQItIGAgL4NJtEQCBAgQIAAAQIECBAgQIAAAQIECBAgQGDlCQjoV96cOWMCBAgQIECAAAECBAgQIECAAAECBAgQaAOB3lIW2mAYJ2MI6dS85Os13Zr3Nb8+GefSia/RSb7N76lOnGdjJkCAAAECBAgQIHBvCDT/Td28bh6z+XVed8rWhfsCiQAAQABJREFU1SkDNU4CBAgQILAiBVTQr8hpc9IECBAgQIAAAQIECBAgQODOCHTSmxF3xsM+BAgQIECgtQQE9K01H86GAAECBAgQIECAAAECBAgQIECAAAECBDpEQEDfIRNtmAQIECBAgAABAgQIECBAgAABAgQIECDQWgIC+taaD2dDgAABAgQIECBAgAABAgQIECBAgAABAh0iIKDvkIk2TAIECBAgQIAAAQIECBAgQIAAAQIECBBoLQEBfWvNh7MhQIAAAQIECBAgQIAAAQIECBAgQIAAgQ4RENB3yEQbJgECBAgQIECAAAECBAgQIECAAAECBAi0loCAvrXmw9kQIECAAAECBAgQIECAAAECBAgQIECAQIcICOg7ZKINkwABAgQIECBAgAABAgQIECBAgAABAgRaS0BA31rz4WwIECBAgAABAgQIECBAgAABAgQIECBAoEMEBPQdMtGGSYAAAQIECBAgQIAAAQIECBAgQIAAAQKtJSCgb635cDYECBAgQIAAAQIECBAgQIAAAQIECBAg0CECAvoOmWjDJECAAAECBAgQIECAAAECBAgQIECAAIHWEhDQt9Z8OBsCBAgQIECAAAECBAgQIECAAAECBAgQ6BABAX2HTLRhEiBAgAABAgQIECBAgAABAgQIECBAgEBrCQjoW2s+nA0BAgQIECBAgAABAgQIECBAgAABAgQIdIiAgL5DJtowCRAgQIAAAQIECBAgQIAAAQIECBAgQKC1BAT0rTUfzoYAAQIECBAgQIAAAQIECBAgQIAAAQIEOkRAQN8hE22YBAgQIECAAAECBAgQIECAAAECBAgQINBaAgL61poPZ0OAAAECBAgQIECAAAECBAgQIECAAAECHSIgoO+QiTZMAgQIECBAgAABAgQIECBAgAABAgQIEGgtAQF9a82HsyFAgAABAgQIECBAgAABAgQIECBAgACBDhEQ0HfIRBsmAQIECBAgQIAAAQIECBAgQIAAAQIECLSWQG9rnY6zIUDgrgosLJQyO1/KzFwpUzMLZT6+bqetq6uU3ngrsb+3Ky6ldMfXNgIECBAgQIAAAQIECBAgQIAAAQLtICCgb4dZNIaOFshA/sBkKXsOLJRb9s+Xqdn24shwfs2qrrJxpJRT1zZC+vYaodEQIECAAAECBAgQIECAAAECBAh0qoCAvlNn3rjbRmAuquf3TyyU6/fMl6u2zUdY314l9AN9XTWYv+CU7rJpREDfNt+4BkKAAAECBAgQIECAAAECBAgQIFAE9L4JCKxwgWxvM3pooVy7c6Fc/q35svdgewX0w/1d5f5bu8tg30J50Gk5Nj1uVvi3rNMnQIAAAQIECBAgQIAAAQIECBA4LLCsAf1CNM+enZ0t09PTZWJiokxNTZWZuF2i6XRPTwRyg6viMlgGBwair/bC4n6TkxNlIfp6dHd3l/54bNWqwbisiqd1lzxmHmtycrJMxaWxT388PlT3ya+7sqm1jUAbCWSbm9n4Y2om+9C30cBiKNniZjra9uQbEe311kN7zZPRECBAgAABAgQIECBAgAABAgQI3HWBZQ/opyOUHxsbK3v37onr8XLo0MEaoPf19ZV169aXtWvXxfXaMjc3Vw4cGI/99pZ9+/aV+fn50tPbW1avHinrY7+NmzZFqN8T9y/Ux0dHR8tY7NfT2xP7rKmP98b+ecmQPrcM6oX1d/2bxjMIECBAgAABAgQIECBAgAABAgQIECBA4J4LLFtAn4H7zMx02RPB/M5bd5Ttt2yPcP5QVMbP1/A9hza6dzTC+XVl85bNNaDP0H10dG8Z2z9Wg/UM5LOCfnzTeDw+X6vtu7q7yq233lp27tgRgf/+0hv7jKxeHcecq7f7+/sPB/nzpa8vKuuHsvJeRf09/1ZyBAIECBAgQIAAAQIECBAgQIAAAQIECBC4KwLLFtBnYD49NR1h+/6ye8/uCN5HazA/PDQcbW8a7Wmy5c3Bgwdr65u52H/fvtH6nGyLkxX22c7m4MFDZT7C+ayMz0r5vv6+si+OtX//vmhxM1Wr5TO8H4oWNwMR5g9Ey5zcN1vkDA8Pl8FojyOgvyvfMvYlQIAAAQIECBAgQIAAAQIECBAgQIAAgXtDYNkC+gzNm73nZ2ZmytDQUG1nc+aZZ0a4vr/s2rWz7N6Vwf3e2lN+YWG+TEV/+o0bN5TTN51Rw/V83o033FAr73dE1fz09ExUy49EZf5MyUr5bJGTIX4G9YeiL/2tUak/ODhQH+vt7Svd0ed+XTxuI0CAAAECBAgQIECAAAECBAgQIECAAAECJ1tg2QL6bCqTveAHY3HXDNJzW79+fTll69Z6/8GDB2qAnmF7hvkZtGfV/cDAYNm8eXNtW5MLwe7etav2sB8fH68LwWbQn2F+/FGvs1f9/PxsmYj2OdlSZ3pqVRkeGY43A/qj5U3vHVbP5+vmlsfJ9jv5df7PRoAAAQIECBAgQIAAAQIECBAgQIAAAQIE7onAsgX03Yf7x2/cuKmMjIzUtjOrog1Ntp3ZF+1rurq6S08E+HVB18Nhe4bjg9GiJheOzedkD/nh4ZHa5ib712df+9w/W9bMRBucqWiJk61s8nn1ePGama2vijcFRoZXR9X+8AkD+hrG19fONwfmy1yG/fG1fP6efMt5LgECBAgQIECAAAECBAgQIECAAAECBAikwLIF9LnA68BAf1mzZk0E642gPCvkx8fGaj/67DffFWF7LvDaFZn41HS0qYkQviv+l8/NgL95nYF8Bui9fb2N6vipdTWUz6r6mfmZRtV7VtXHNjcXwX0ca2x8f63Qz9fMKv4M/pdujUVsZ2oP/IMHDpSJyYm6aG220jkwfqAec+n+bhMgQIAAAQIECBAgQIAAAQIECBAgQIAAgbsisGwBfVa6d3f31yr4rFTPhV/HIpzfu3dP2ROLxuYir1nhXlvWRBX8gQPjtVI+m8t0dUdMH6F8vcTtyOwjMJ+vC8euHlkdt6N9TlTgZ2ifi8zOzszW2/n1bFTZZ2ucPXv2RMub2dqvfsOGDbUvffOYCZgBfS5SO7p3b/TD31X74mc//F07d9XXymp/GwECBAgQIECAAAECBAgQIECAAAECBAgQuLsCvRlmL+eW4Xz2mc8q9Z07dpRtN95Yw/me6A+/adPmWhE/PjZew/LuCOUzfZ+fy5YzjbYzGbo3W9hky5tVEeoPRniebXDWrVsXgf/esjfC+Ky+n5qajAVjJ+vitPv37S95ySr7JBiICvpcWDZfN7c8/txsY2HafG72xD944GCE+xPxxkJPVNxn65x6OovX9Yn+uM8Elvlb9T4b17EHbv6dbF4f+/ixX9f9EqfdgQ6P8c66HOvkawIECBAgQIAAgc4RyH8zNi/Nfyc3v25ed4pG/me0jQABAgQIEGhdgWWroE+SZuV8BuC7d+8uOyKg37lzR21ds3bt2rIpF4ONHvPzsUjs/v37a8V8Lhg7PT1d+mPB19kI9rM6Po/T09tT+iJgHxxcFZX0vbUiPyviszI/j58V8XPRzqYuOhvPz+fk19lXPl9rMqros2VOM6DP53b3dNfQflUsPJvPm56eqcfKav183EaAAAECBAgQIECAAAECBAgQIECAAAECBO6uwLIH9IcOHSx7Ipy/8cYb6vVktJXZunVrOf30M8rmCOgzMM9+9L0Rnmcrm+noH5/tbjIgz4r4rGjPAH8gwvmsgM9wPsP36TjOWIT62eImv+6PfvcZuB+ISv1sr9NcIHZudqZW1U9OTJbBgehD39+g7O3tre11Tt16atmwYWN9UyDb3Xz729eWfXE9MTl1d809jwABAgQIECBAgAABAgQIECBAgAABAgQILN8isc1FWEf3jpbt27fX1jY1eI/wPHvDz87O1YA9U/mpw2H4QATokxHKNxZqHa/V8RNRHZ+V76vXrC5D0domw/c89nyE8rllaN9YiDar56dr0D4xEaF+VM9nn/q6RdhfK+KXVMXncfK+PHYuIpuV+/n1rl07S75mvpFgI0CAAAECBAgQIECAAAECBAgQIECAAAECd1dg2SroM0TPoHxnBN7btt0YAf0NNXBfG33jx8b2R7ubvliQtRGcZwV8XoZHhstkPCf37x8YiOi+qx6jtsOJfvUjIyOHA/rZuO6KYH2wtr7JIH46wvmJiUMR+o+VA9F3Pi+NnvXZEqevBvkZyi/dMpDPS752bj1RgV/3iftsBAgQIECAAAECBAgQIECAAAECBAgQIEDgnggsW0DfDN2brWQ2bNxUK9yzh3wu4nMoWtPklo8PR/C+NqrY10ef+PGxsVjYdSyC8wjLo7o9Q/mN8dyt0Yombzeq3nujF/1gLBK7Pirl56NSPqrwozXOoYOD9bgR99egPyvy161fFxX2a2uVfFbLH29rBvW1x87xdnAfAQIECBAgQIAAAQIECBAgQIAAAQIECBC4iwIR0Deqw+/i8+6F3RciTC/RlmZV9HjfkO3la3/5IwduVq33RC/4VWVNLOS6OgL4PXv2NBaBjQr83t6+sn79+rJp06ayecuWCOUH4umxYGxUuvf0DJSBqLJvbtmTvj8q5aenJ2sVfIb8+WZAhvtr10VAH8/NIP72PfJ8mlZLr5v3N+9rvqLre1eg6XzvHrV1j3ZXv5/u6v6tO/Lbnllz7pvXt93DPQQIECBAgAABAgSOFmj+23Hpv5OX3rf0/qOf6SsCBAgQIECAwMkUWLYK+loZPzxUTj311BqyT0WAntXux25ZJZ9Be4brvXFZHdXup556Wm070xUtabLHfFbLZ8B+exXwecxaqT88XCvt16/fUKv1cwHagXheBvVHquSPPQNfEyBAgAABAgQIECBAgAABAgQIECBAgACBe19g2QL6DNPz0t8/UNbehXGtXr36Lux9ZNcM+vvr6/UfudMtAgQIECBAgAABAgQIECBAgAABAgQIECCwTAJHr4q6TCfhZQkQIECAAAECBAgQIECAAAECBAgQIECAQKcJCOg7bcaNlwABAgQIECBAgAABAgQIECBAgAABAgRaQkBA3xLT4CQIECBAgAABAgQIECBAgAABAgQIECBAoNMEBPSdNuPGS4AAAQIECBAgQIAAAQIECBAgQIAAAQItISCgb4lpcBIECBAgQIAAAQIECBAgQIAAAQIECBAg0GkCAvpOm3HjJUCAAAECBAgQIECAAAECBAgQIECAAIGWEBDQt8Q0OAkCBAgQIECAAAECBAgQIECAAAECBAgQ6DQBAX2nzbjxEiBAgAABAgQIECBAgAABAgQIECBAgEBLCAjoW2IanAQBAgQIECBAgAABAgQIECBAgAABAgQIdJqAgL7TZtx4CRAgQIAAAQIECBAgQIAAAQIECBAgQKAlBAT0LTENToIAAQIECBAgQIAAAQIECBAgQIAAAQIEOk1AQN9pM268BAgQIECAAAECBAgQIECAAAECBAgQINASAgL6lpgGJ0GAAAECBAgQIECAAAECBAgQIECAAAECnSYgoO+0GTdeAgQIECBAgAABAgQIECBAgAABAgQIEGgJAQF9S0yDkyBAgAABAgQIECBAgAABAgQIECBAgACBThMQ0HfajBsvAQIECBAgQIAAAQIECBAgQIAAAQIECLSEgIC+JabBSRAgQIAAAQIECBAgQIAAAQIECBAgQIBApwkI6Dttxo2XAAECBAgQIECAAAECBAgQIECAAAECBFpCQEDfEtPgJAgQIECAAAECBAgQIECAAAECBAgQIECg0wQE9J0248ZLgAABAgQIECBAgAABAgQIECBAgAABAi0hIKBviWlwEgQIECBAgAABAgQIECBAgAABAgQIECDQaQIC+k6bceMlQIAAAQIECBAgQIAAAQIECBAgQIAAgZYQENC3xDQ4CQIECBAgQIAAAQIECBAgcO8LzC8s3PsHdUQCBAgQIEDgXhMQ0N9rlA5EgAABAgQIECBAgAABAgRaS6C7q6u1TsjZECBAgAABAkcJCOiP4vAFAQIECBAgQIAAAQIECBBoA4GuqJw/nM3L6NtgPg2BAAECBNpWQEDftlNrYAQIECBAgAABAgQIECDQsQILkc4f7m6zoM1Nx34bGDgBAgQItL6AgL7158gZEiBAgAABAgQIECBAgACBuyUwPx+F9Ero75adJxEgQIAAgZMh0HsyXsRrECBAgAABAgQIECBAgAABAidLIHvbLEQw33g9BfQny93rECBAgACBuy6ggv6um3kGAQIECBAgQIAAAQIECBBoGYHFCvnDgXyzt41gvmWmyIkQIECAAIHbFRDQ3y6NBwgQIECAAAECBAgQIECAwEoQiGr5+K/7xXy+2Xx+JZy6cyRAgAABAh0uoMVNh38DGD4BAgQIECBAgAABAgQIrGyBWil/eEHYxkiORPUre2TOngABAgQItL+ACvr2n2MjJECAAAECBAgQIECAAAECBAgQIECAAIEWFBDQt+CkOCUCBAgQIECAAAECBAgQIECAAAECBAgQaH8BAX37z7EREiBAgAABAgQIECBAgAABAgQIECBAgEALCgjoW3BSnBIBAgQIECBAgAABAgQIECBAgAABAgQItL+AgL7959gICRAgQIAAAQIECBAgQIAAAQIECBAgQKAFBQT0LTgpTokAAQIECBAgQIAAAQIECBAgQIAAAQIE2l9AQN/+c2yEBAgQIECAAAECBAgQIECAAAECBAgQINCCAgL6FpwUp0SAAAECBAgQIECAAAECBAgQIECAAAEC7S8goG//OTZCAgQIECBAgAABAgQIECBAgAABAgQIEGhBAQF9C06KUyJAgAABAgQIECBAgAABAgQIECBAgACB9hcQ0Lf/HBshAQIECBAgQIAAAQIECBAgQIAAAQIECLSggIC+BSfFKREgQIAAAQIECBAgQIAAAQIECBAgQIBA+wsI6Nt/jo2QAAECBAgQIECAAAECBAgQIECAAAECBFpQQEDfgpPilAgQIECAAAECBAgQIECAAAECBAgQIECg/QUE9O0/x0ZIgAABAgQIECBAgAABAgQIECBAgAABAi0oIKBvwUlxSgQIECBAgAABAgQIECBAgAABAgQIECDQ/gIC+vafYyMkQIAAAQIECBAgQIAAAQIECBAgQIAAgRYUENC34KQ4JQIECBAgQIAAAQIECBAgQIAAAQIECBBofwEBffvPsRESIECAAAECBAgQIECAAAECBAgQIECAQAsKCOhbcFKcEgECBAgQIECAAAECBAgQIECAAAECBAi0v4CAvv3n2AgJECBAgAABAgQIECBAgAABAgQIECBAoAUFBPQtOClOiQABAgQIECBAgAABAgQIECBAgAABAgTaX0BA3/5zbIQECBAgQIAAAQIECBAgQIAAAQIECBAg0IICAvoWnBSnRIAAAQIECBAgQIAAAQIECBAgQIAAAQLtLyCgb/85NkICBAgQIECAAAECBAgQIECAAAECBAgQaEEBAX0LTopTIkCAAAECBAgQIECAAAECBAgQIECAAIH2FxDQt/8cGyEBAgQIECBAgAABAgQIECBAgAABAgQItKCAgL4FJ8UpESBAgAABAgQIECBAgAABAgQIECBAgED7Cwjo23+OjZAAAQIECBAgQIAAAQIECBAgQIAAAQIEWlBAQN+Ck+KUCBAgQIAAAQIECBAgQIAAAQIECBAgQKD9BQT07T/HRkiAAAECBAgQIECAAAECBAgQIECAAAECLSggoG/BSXFKBAgQIECAAAECBAgQIECAAAECBAgQIND+AgL69p9jIyRAgAABAgQIECBAgAABAgQIECBAgACBFhQQ0LfgpDglAgQIECBAgAABAgQIECBAgAABAgQIEGh/AQF9+8+xERIgQIAAAQIECBAgQIAAAQIECBAgQIBACwoI6FtwUpwSAQIECBAgQIAAAQIECBAgQIAAAQIECLS/gIC+/efYCAkQIECAAAECBAgQIECAAAECBAgQIECgBQUE9C04KU6JAAECBAgQIECAAAECBAgQIECAAAECBNpfQEDf/nNshAQIECBAgAABAgQIECBAgAABAgQIECDQggIC+hacFKdEgAABAgQIECBAgAABAgQIECBAgAABAu0vIKBv/zk2QgIECBAgQIAAAQIECBAgQIAAAQIECBBoQQEBfQtOilMiQIAAAQIECBAgQIAAAQIECBAgQIAAgfYXENC3/xwbIQECBAgQIECAAAECBAgQIECAAAECBAi0oICAvgUnxSkRIECAAAECBAgQIECAAAECBAgQIECAQPsLCOjbf46NkAABAgQIECBAgAABAgQIECBAgAABAgRaUEBA34KT4pQIECBAgAABAgQIECBAgAABAgQIECBAoP0FBPTtP8dGSIAAAQIECBAgQIAAAQIECBAgQIAAAQItKCCgb8FJcUoECBAgQIAAAQIECBAgQIAAAQIECBAg0P4CAvr2n2MjJECAAAECBAgQIECAAAECBAgQIECAAIEWFBDQt+CkOCUCBAgQIECAAAECBAgQIECAAAECBAgQaH8BAX37z7EREiBAgAABAgQIECBAgAABAgQIECBAgEALCgjoW3BSnBIBAgQIECBAgAABAgQIECBAgAABAgQItL+AgL7959gICRAgQIAAAQIECBAgQIAAAQIECBAgQKAFBQT0LTgpTokAAQIECBAgQIAAAQIECBAgQIAAAQIE2l+gt1WGuLCwUObn58vc3FyZmZku09Mzpaurq/T29JSBwcHS3d1dcp+pqal6mY7r2bnZw6ffFfuW0t8/UAYGBuK6vz43952Zno7jzZS+vr7SP9Afjw/W23lsGwECBAgQIECAAAECBAgQIECAAAECBAgQWC6BlgjoM3jPy+zsbITvk2VsbKyMjx8oPRHKD0Y4v37Dhhqqz88vlP3795W9e/bW64mJieqWYXte1q5dV9avX1/WrVtXA/29o6P1WAcPjJeRkZH6+IY4Vk+E/hn4C+mX69vO6xIgQIAAAQIECBAgQIAAAQIECBAgQIBASwT0GcwfPHiw7NuX4fvusndvI1gfjGr4DOezMn5oaFWZif127dxVtm27seyPfaejOn5w1arS19tXurq7InTPavuB0t3TXeZm58r27TfXYx46dKgG9PkaNZSP4vncN4vo842BPH5W3dsIECBAgAABAgQIECBAgAABAgQIECBAgMDJElj2gL5ZOX/gwIEI33eWm7ZtK7t3744K+f1leHi4hvBbt24tvb09UV0/XUajKv6W7beUA1EVn9vGw9Xw3aW7zC9ki5z5koH8oYOHyo5bd5T9Y/vLbLS4ycr8bHUzNDRUeuJYSyvoV6/uEtCfrO84r0OAAAECBAgQIECAAAECBAgQIECAAAECVWDZA/o8i+w9n33nM0Cfi77yCxG0R217vZ3V9YstcOZm6mO9fb1ly5YtZe26teWss84pIxHkZzl8tsPpjV7zo3v3lMnJiTjCQq2cz/Y2eZzsb59V+nm7O4L9rJrP5wwOrqoY/iBAgAABAgQIECBAgAABAgQIECBAgAABAidLoCUC+qxm7+/rrxXz69ZviKB+tlbOZzuaDNUzoK8LyB4O2WtbmljwtdFXfk1ZvXpN7SvfF8fItjVj0ac+988tK++zVc6h+DoXjR0fH6/HzrY4I6tXl1UR0N/RcrHNNwjqdYT+NgIECBAgQIAAAQIECBAgQIAAAQIECBAgcE8FWiKg74uq91y8dSgq4bMy/vpoQ5Nb9oxvbhmOz0ZYn1X2U5OT9e6uru4I4Ptj8de1ZVX0ol+zZk1ZlS1senpr4J/B+2Tsu2duT62an42+9PPRAmc23gDI/dfGYrJr1qyNvvWDzZc56nppMJ9vFGTovxAL1eb9NgIECBAgQIAAAQIECBAgQIAAAQIECBAgcE8Elj2gzyr5nuwjHyF5T28E69F2JnvP9/f3lYmJ7iNji/2y0j737Y39chHY7Fu/Y8etUTG/v/RHRf3mzVvKxk2bavua1RHWZ2A/NjZWpmIx2WydU1vpzM7EcbpKXxx/OirqDx48UBeYzZY6WYGfx84te9nncyYmJuolg/7RvXvLnj17ao97If2RqXGLAAECBAgQIECAAAECBAgQIECAAAECBO66wLIH9HnKGdI3g/qsVO+KAP3YrTv2yfB8YKDRMz7D9amJyTIZAXpzmzgUfeejun3jxk1l/fr1jT708fXM6N4I2+OYUfi+MD8XtxuV9AdjMdmdsTBtI8Cfr4H+kYB+tlF9v3tPLFq7qwb9o3Gc3D+r8LN3vY0AAQIECBAgQIAAAQIECBAgQIAAAQIECNxdgZYI6I8++duG8/l4BudDQ8Nl85bNtZI+F5KtfekjbN8fFfS7IjgfHx8rO3fsqC1v1qzdWE47/YzoU7+6trLZH4vDZjX9dLTIyUVixw+M18r4/ftGayX+ZIT9PT3RCz8q+LNSP4P+DPKnp6eiYv5g7DPe2C/eBMg3EAair72NAAECBAgQIECAAAECBAgQIECAAAECBAjcXYEWDOiPP5RsbZMtcNatW1/7y2ff+gzKM2y/+eabyt69jdYz2YLmnLgve8xnq5y8ZLV7d3dP7WFfDh4qE7MT5VBcL0RP+azcn56eqWH8uuhJnwvO1mPHaRz/rYK8//YeOf65u5cAAQIECBAgQIAAAQIECBAgQIAAAQIECBwrsGIC+qxmn4ng/WD0nc/L8MhIBO8Dpa+3rwb2vXGd+9Te8FH9nhX2s7PztV/8vqiSn56ZqsH70NCqGsrnvj1RKT80PFS/zl7zufjsbFTYZ7V+vhmQC85uPXVrWROL0OZjo6Oj5Ybrr6uV+DOx0KyNAAECBAgQIECAAAECBAgQIECAAAECBAjcXYEVFNDP10VdD4yP16B8KlrPDA6uiiC9p0xEeF4XeY2QfnDVYATsPdUjQ/issM9LBvlrVq+u1fJdXd01uK997yOIz57y9RIV9fMR7ueWbW6y3U1W02dVfR5rKAL7bHUzG7fH9o/V/fxBgAABAgQIECBAgAABAgQIECBAgAABAgTujsCKCejnoyI+K+j3Rx/5W27ZHv3io+VNXHojQJ+MgH5qcqqs37ChbIoFYrPyPVvaLCzMlt7YZ3h4ZHH/A1F9n8fq2ttVpmKh2fmxxoKvqzLYj2Pl/tnAJsP73PK6VuXH7e54LIP75mN1B38QIECAAAECBAgQIECAAAECBAgQIECAAIG7IdByAX13LsAaPeOzrUyG7NlLvlnJnu1pVq9ZXR+biMVa64KvUc2ez1m/YX3ZsmVLOWXr1jK0aqi2r+mL6viseu+OxV97enpruJ4V8bm4bAb1ecnK+OxTv279hrpvtrfJCvulWwbyzcvtd6Zf+gy3CRAgQIAAAQIECBAgQIAAAQIECBAgQIDAiQVaKqDPEDwr1Eei4n3z5i1lZGR1DecHI6TPdjYZti/ML9Se8zt37Ihq+v01bM8Qf/36DOhPqSF9fp3V7gNx6R8YKBHpV4WshM/QPl9nenq6DMRjhyLoXx/hfIb7I9HXPqvo83EbAQIECBAgQIAAAQIECBAgQIAAAQIECBC4LwVaLqDPtjVZPZ9B+Vy0tMmgfSQq3Pv6G8F5PtYXveHX5sKt0aImQ/fevt4yODAYC74ORw/67Et/ZFjHhu0Dsd/adevqQrBTU6fUtjkZ6GcVfT732P3vS3zHJkCAAAECBAgQIECAAAECBAgQIECAAIHOFTiSZLeAQYbjeclK9rwcb8sgPS9l06bjPXzC+/LYGfTnZXUsGGsjQIAAAQIECBAgQIAAAQIECBAgQIAAAQLLJXB0s/XlOguvS4AAAQIECBAgQIAAAQIECBAgQIAAAQIEOkxAQN9hE264BAgQIECAAAECBAgQIECAAAECBAgQINAaAgL61pgHZ0GAAAECBAgQIECAAAECBAgQIECAAAECHSYgoO+wCTdcAgQIECBAgAABAgQIECBAgAABAgQIEGgNAQF9a8yDsyBAgAABAgQIECBAgAABAgQIECBAgACBDhMQ0HfYhBsuAQIECBAgQIAAAQIECBAgQIAAAQIECLSGgIC+NebBWRAgQIAAAQIECBAgQIAAAQIECBAgQIBAhwkI6Dtswg2XAAECBAgQIECAAAECBAgQIECAAAECBFpDQEDfGvPgLAgQIECAAAECBAgQIECAAAECBAgQIECgwwQE9B024YZLgAABAgQIECBAgAABAgQIECBAgAABAq0hIKBvjXlwFgQIECBAgAABAgQIECBAgAABAgQIECDQYQIC+g6bcMMlQIAAAQIECBAgQIAAAQIECBAgQIAAgdYQENC3xjw4CwIECBAgQIAAAQIECBAgQIAAAQIECBDoMAEBfYdNuOESIECAAAECBAgQIECAAAECBAgQIECAQGsICOhbYx6cBQECBAgQIECAAAECBAgQIECAAAECBAh0mICAvsMm3HAJECBAgAABAgQIECBAgAABAgQIECBAoDUEBPStMQ/OggABAgQIECBAgAABAgQIECBAgAABAgQ6TEBA32ETbrgECBAgQIAAAQIECBAgQIAAAQIECBAg0BoCAvrWmAdnQYAAAQIECBAgQIAAAQIECBAgQIAAAQIdJiCg77AJN1wCBAgQIECAAAECBAgQIECAAAECBAgQaA0BAX1rzIOzIECAAAECBAgQIECAAAECBAgQIECAAIEOExDQd9iEGy4BAgQIECBAgAABAgQIECBAgAABAgQItIaAgL415sFZECBAgAABAgQIECBAgAABAgQIECBAgECHCQjoO2zCDZcAAQIECBAgQIAAAQIECBAgQIAAAQIEWkNAQN8a8+AsCBAgQIAAAQIECBAgQIAAAQIECBAgQKDDBAT0HTbhhkuAAAECBAgQIECAAAECBAgQIECAAAECrSEgoG+NeXAWBAgQIECAAAECBAgQIECAAAECBAgQINBhAgL6DptwwyVAgAABAgQIECBAgAABAgQIECBAgACB1hAQ0LfGPDgLAgQIECBAgAABAgQIECBAgAABAgQIEOgwAQF9h0244RIgQIAAAQIECBAgQIAAAQIECBAgQIBAawgI6FtjHpwFAQIECBAgQIAAAQIECBAgQIAAAQIECHSYgIC+wybccAkQIECAAAECBAgQIECAAAECBAgQIECgNQQE9K0xD86CAAECBAgQIECAAAECBAgQIECAAAECBDpMQEDfYRNuuAQIECBAgAABAgQIECBAgAABAgQIECDQGgIC+taYB2dBgAABAgQIECBAgAABAgQIECBAgAABAh0mIKDvsAk3XAIECBAgQIAAAQIECBAgQIAAAQIECBBoDQEBfWvMg7MgQIAAAQIECBAgQIAAAQIECBAgQIAAgQ4TENB32IQbLgECBAgQIECAAAECBAgQIECAAAECBAi0hoCAvjXmwVkQIECAAAECBAgQIECAAAECBAgQIECAQIcJCOg7bMINlwABAgQIECBAgAABAgQIECBAgAABAgRaQ0BA3xrz4CwIECBAgAABAgQIECBAgAABAgQIECBAoMMEBPQdNuGGS4AAAQIECBAgQIAAAQIECBAgQIAAAQKtISCgb415cBYECBAgQIAAAQIECBAgQIAAAQIECBAg0GECAvoOm3DDJUCAAAECBAgQIECAAAECBAgQIECAAIHWEBDQt8Y8OAsCBAgQIECAAAECBAgQIECAAAECBAgQ6DABAX2HTbjhEiBAgAABAgQIECBAgAABAgQIECBAgEBrCAjoW2MenAUBAgQIECBAgAABAgQIECBAgAABAgQIdJiAgL7DJtxwCRAgQIAAAQIECBAgQIAAAQIECBAgQKA1BAT0rTEPzoIAAQIECBAgQIAAAQIECBAgQIAAAQIEOkxAQN9hE264BAgQIECAAAECBAgQIECAAAECBAgQINAaAgL61pgHZ0GAAAECBAgQIECAAAECBAgQIECAAAECHSYgoO+wCTdcAgQIECBAgAABAgQIECBAgAABAgQIEGgNAQF9a8yDsyBAgAABAgQIECBAgAABAgQIECBAgACBDhMQ0HfYhBsuAQIECBAgQIAAAQIECBAgQIAAAQIECLSGgIC+NebBWRAgQIAAAQIECBAgQIAAAQIECBAgQIBAhwkI6Dtswg2XAAECBAgQIECAAAECBAgQIECAAAECBFpDQEDfGvPgLAgQIECAAAECBAgQIECAAAECBAgQIECgwwQE9B024YZLgAABAgQIECBAgAABAgQIECBAgAABAq0hIKBvjXlwFgQIECBAgAABAgQIECBAgAABAgQIECDQYQIC+g6bcMMlQIAAAQIECBAgQIAAAQIECBAgQIAAgdYQENC3xjw4CwIECBAgQIAAAQIECBAgQIAAAQIECBDoMIHeDhuv4RIg0CECc/OlTMyUMj6xUPYcXCizc+018J54e3VVf1dZs6qUjcNdJb+2ESBAgAABAgQIECBAgAABAgQIrCwBAf3Kmi9nS4DAnRSYXyjlQITzN+1dKN/YMV/D+jv51BWxW3/89N440lXO3NBV1q4S0K+ISXOSBAgQIECAAAECBAgQIECAAIFjBAT0x4D4kgCB9hDIivnRQ6V8a9dC+eS3FmolfXuMrDGKVf2lnLUxyubjjYj7bS5lwE/zdppeYyFAgAABAgQIECBAgAABAgQ6RECk0yETbZgEOk0gK+gnZxbK6IGFcuOehbLvUNzRRtvwQCn9vQtl/0RXmY92PjYCBAgQIECAAAECBAgQIECAAIGVJ6Br8cqbM2dMgAABAgQIECBAgAABAgQIECBAgAABAm0gIKBvg0k0BAIECBAgQIAAAQIECBAgQIAAAQIECBBYeQIC+pU3Z86YAAECBAgQIECAAAECBAgQIECAAAECBNpAQEDfBpNoCAQIECBAgAABAgQIECBAgAABAgQIECCw8gQE9CtvzpwxAQIECBAgQIAAAQIECBAgQIAAAQIECLSBgIC+DSbREAgQIECAAAECBAgQIECAAAECBAgQIEBg5QkI6FfenDljAgQIECBAgAABAgQIECBAgAABAgQIEGgDAQF9G0yiIRAgQIAAAQIECBAgQIAAAQIECBAgQIDAyhMQ0K+8OXPGBAgQIECAAAECBAgQIECAAAECBAgQINAGAgL6NphEQyBAgAABAgQIECBAgAABAgQIECBAgACBlScgoF95c+aMCRAgQIAAAQIECBAgQIAAAQIECBAgQKANBAT0bTCJhkCAAAECBAgQIECAAAECBAgQIECAAAECK09AQL/y5swZEyBAgAABAgQIECBAgAABAgQIECBAgEAbCAjo22ASDYEAAQIECBAgQIAAAQIECBAgQIAAAQIEVp6AgH7lzZkzJkCAAAECBAgQIECAAAECBAgQIECAAIE2EBDQt8EkGgIBAgQIECBAgAABAgQIECBAgAABAgQIrDwBAf3KmzNnTIAAAQIECBAgQIAAAQIECBAgQIAAAQJtICCgb4NJNAQCBAgQIECAAAECBAgQIECAAAECBAgQWHkCva10ygsLCyUv8/Pz9ZLn1t3dFZee0tXVVbri6/nDj8/NzcW+83Ep9bHu7u7S09MT+zbec1g8TuyXx+uK+/Ox5iWPZyNAgAABAgQIECBAgAABAgQIECBAgAABAssl0DIBfYboGbrPzEyXgwcPlYmJiQjTu0p/X38ZWb269Pf3l+4I1ScnJ8uhQ4fK+PhY7DNZw/e+/r4yNDRURkZGyvDwSAT2JY4zWw4cOBDHOlgOxWVgYKDus3rNmrJq1VCE+d012F8ueK9LgAABAgQIECBAgAABAgQIECBAgAABAp0t0BIBfQbz09MZzB8oY2NjZf++fXE9Xvr6+srqCOd7enpr9XxO1b54bO/ePXHZW/dfmF8o/YfD902bN5f8ujsq6aenp8rOnbvKvtG9ZWz//rJqaLisiXA+K/Czej6PnddZad8b+/f0tgRFZ383Gj0BAgQIECBAgAABAgQIECBAgAABAgQ6SKAlUunZ2dkI5PeXHTt2lFtu3l727Nld9u8fK0PDQ+WULaeUtWvXRujeXeZiv507d5Rt27ZFUD9aJqPKPlvX9EaA39vbV6Ymp2pAPzA4WKamJsst27eX3bt31YB+KAL6PE5vBPFZmZ8V9dk0Z25uPqruh8qQgL6Dvu0NlQABAgQIECBAgAABAgQIECBAgAABAssvsOwBfVawZwX9ZITrh6K1TbalOXDgYK2Oz7Y3q0dWRzAfFfZTU/WxrJwfjUtvX29Zt35DDdqn4rGskh8dHa2V8LVSPp47MXGohvBr1qyNIL8r2t7MRPC/L5rWlzI4MFh71mcVfW9fT7wZMLz8s+EMCBAgQIAAAQIECBAgQIAAAQIECBAgQKBjBFoioM8gfjbC8wzQ5+Zm6+KvOQN5O++bj8VgswVOtrfJEH78wHg5++xzytatW6M//ZqyJ6rkD4yP1770+Zz5CPx7o4VNBvvZm37d+vW1p/1E9K7P1jnZx34gAvqBgf56GR4RznfMd7yBEiBA4P9n706f20jSBM07eJ/ipfvIs66u7p7pnZn/38Z213bN9utY11RVHpWHrpRIiZd4gsS+zxt0CmKRTJISJAL5RCYEEIgIIH7h4eH+uoeHAgoooIACCiiggAIKKKCAAgoooMA1EfjkAXp6sHMD2MXFxRwXfiGC6U8ePy5Pnz6JoPz+MVMzTv1uYTgcusATeGfImunoYb8bAXf+pic9PfEZZ55hbOgpz3uMWd+Om8a22/tlOG5C294fy7HnJ2MonBs35svExOTx93S/oHc/U+3lT0NCJxoLSvN296y+VkABBRRQQAEFFFBAAQUUUEABBRRQQAEFFFDgUgKfPEDPr+WGrTci2M4wM4uLS9lzfjN6yTMOfZ0IjhOwJ1Afcfcc2mZ6ZibGj58ubyI4T5B9d3cve9rzOWPSs15uFru+vk2UPVdFgwDrGI4x7emZn2PRx3sE/odiPHseTATls2d/vM9n9OR/8+ZNNgA0jQRG6RPKfxRQQAEFFFBAAQUUUEABBRRQQAEFFFBAAQWuJPDJA/QEzJlqcJybwbZaTZC8e4tqwJyg+eEhwfG4xWvMx3LcKDYD67mqThmfGI+e8Tcy0M/7BwereYNZlsve8LEOgvSMUb+8vJzB9/0I/s/MzkSgfyK/ls/pfb8WY9vzeBNj4zO8ztMnT8pO3IB26JTf2P17fa2AAgoooIACCiiggAIKKKCAAgoooIACCiigwHkCnzxAX38cgfoMtkfg+yhmXz969zk7rp/Se72J80fcPobMGR8vsxGgpwc9r3mm9/v21nb2hj88aMa0X19fz173BOoZl55hcUZGRvLmsTQE0Guese1XIojPzWVfv3odQfpX+Xvoue+kgAIKKKCAAgoooIACCiiggAIKKKCAAgoooMBVBa5NgP7XNoCgffOInvMMchND0DAefH0QUGciyD821vSgZzx7xrZfWloqL375JR4vIlC/mT3jt7e3M2hPT3kC9VtxA1l6z09MTuawN9lj/yiQTwCfAD/LEsgfGR7h650UUEABBRRQQAEFFFBAAQUUUEABBRRQQAEFFLiyQB8F6IfKaIwrz9jxxMb39vayR/zw8HDeJJax5rl7KzecrQ+C9cx3EIF2JnrHM+Y8Uw5TE5+PRO/6TgT3t+hhH4F4hrVh+eH4jHkXFhdiCJ1W3JB2Pm9Ky3u7cSPaOjRPrsx/FFBAAQUUUEABBRRQQAEFFFBAAQUUUEABBRS4pEDfBOgJxGfgnN7r8d929GTfjHHhGZaG3u+78Tej3ExEAH1sbDTeH46x6g/KTvSUX42x43e24/OYgR7ywyPDZT9u/ErAfi5uTktQfm9/L3vH78Xrwxi+hmFxJuM7JyYnyp07d3PM+levXmUve3ri0+veSQEFFFBAAQUUUEABBRRQQAEFFFBAAQUUUECBqwr0TYCegPmNCKYztvza+lpZjxu3HrT3y+TUVAbo9+Imr9wY9uatW2UygvAE7hn1hmD8VMzD8izbjmU2Y6gahqzZj971a6urzbA4EdhnHh70jq895HlmuBuGtKGRoBknn6YAJwUUUEABBRRQQAEFFFBAAQUUUEABBRRQQAEFri5w7QL09HKn9/voaDNUzWgMN8Pf9J4nwD6/MF82NtazZ/zy8lYOUcPmD0XwnM9rgL4JspcMuM/MzsQczdj1u3txM9iYd211LW8Cu7OznUF+xp8fH5/I7x2KG9UydQfp+bvexDa76vOGkwIKKKCAAgoooIACCiiggAIKKKCAAgoooIACVxS4VgF6AuIEwadnZsqt6Ak/FUPNMGQNw8yME0CPx927d8tQzLeyvJJD3DDcDePCT8e8d+Kz27fvxDA0kxlcH4kx63mfm8bWiZu8Mr48Q+KMRW95bvzK+PJLN29GD/0b8R3j8RvsIV+9fFZAAQUUUEABBRRQQAEFFFBAAQUUUEABBRTojcC1DNDfmJ0th/fuFcaDZ8gZhqihBz096RcXFvNmsZOTUxlc5waw9H6nl/zC/EIOc8PY8k0PegL+Y9krHj6GqhmJ3vN8dnjYKTPREMBQN7PxfQTpZ2ZmY1z6GOLGAH1vUptrVUABBRRQQAEFFFBAAQUUUEABBRRQQAEFFDgWuHYBesZ5Z6x5etETUCeYTsCdnvVMvM8Y84tLSxFkP8x5+IwH87H8WRPrYsicGzEfQX9uIss6CPyzXPM99p4/y8/3FVBAAQUUUEABBRRQQAEFFFBAAQUUUEABBT6cwLUK0LNZNSBPsPy0iUA6j9HTPrzAe6y/ruMCszuLAgoooIACCiiggAIKKKCAAgoooIACCiiggAI9EWi6pfdk1a5UAQUUUEABBRRQQAEFFFBAAQUUUEABBRRQQAEFzhIwQH+WjO8roIACCiiggAIKKKCAAgoooIACCiiggAIKKNBDAQP0PcR11QoooIACCiiggAIKKKCAAgoooIACCiiggAIKnCVggP4sGd9XQAEFFFBAAQUUUEABBRRQQAEFFFBAAQUUUKCHAgboe4jrqhVQQAEFFFBAAQUUUEABBRRQQAEFFFBAAQUUOEvAAP1ZMr6vgAIKKKCAAgoooIACCiiggAIKKKCAAgoooEAPBQzQ9xDXVSuggAIKKKCAAgoooIACCiiggAIKKKCAAgoocJaAAfqzZHxfAQUUUEABBRRQQAEFFFBAAQUUUEABBRRQQIEeChig7yGuq1ZAAQUUUEABBRRQQAEFFFBAAQUUUEABBRRQ4CwBA/Rnyfi+AgoooIACCiiggAIKKKCAAgoooIACCiiggAI9FDBA30NcV62AAgoooIACCiiggAIKKKCAAgoooIACCiigwFkCBujPkvF9BRRQQAEFFFBAAQUUUEABBRRQQAEFFFBAAQV6KGCAvoe4rloBBRRQQAEFFFBAAQUUUEABBRRQQAEFFFBAgbMEDNCfJeP7CiiggAIKKKCAAgoooIACCiiggAIKKKCAAgr0UMAAfQ9xXbUCCiiggAIKKKCAAgoooIACCiiggAIKKKCAAmcJGKA/S8b3FVBAAQUUUEABBRRQQAEFFFBAAQUUUEABBRTooYAB+h7iumoFFFBAAQUUUEABBRRQQAEFFFBAAQUUUEABBc4SMEB/lozvK6CAAgoooIACCiiggAIKKKCAAgoooIACCijQQwED9D3EddUKKKCAAgoooIACCiiggAIKKKCAAgoooIACCpwlYID+LBnfV0ABBRRQQAEFFFBAAQUUUEABBRRQQAEFFFCghwIG6HuI66oVUEABBRRQQAEFFFBAAQUUUEABBRRQQAEFFDhLwAD9WTK+r4ACCiiggAIKKKCAAgoooIACCiiggAIKKKBADwUM0PcQ11UroIACCiiggAIKKKCAAgoooIACCiiggAIKKHCWgAH6s2R8XwEFFFBAAQUUUEABBRRQQAEFFFBAAQUUUECBHgoYoO8hrqtWQAEFFFBAAQUUUEABBRRQQAEFFFBAAQUUUOAsAQP0Z8n4vgIKKKCAAgoooIACCiiggAIKKKCAAgoooIACPRQwQN9DXFetgAIKKKCAAgoooIACCiiggAIKKKCAAgoooMBZAiNnfeD7CiiggAKDJ3DYKWV3v1Pe7Jaytt0pB/H3IE3DrVLGRlplZryUualWGYq/nRRQQAEFFFBAAQUUUEABBRRQQIHrKmCA/rruGX+XAgoo0AOBg8NSNiM4/3S1U/7x8rDstXvwJZ9wlaNxVpubbJUHCxGkn4gA/fAn/DF+tQIKKKCAAgoooIACCiiggAIKKPArAgbofwXIjxVQQIFBEmhHgJ6e89+/7JT/55voSb83WF3oJ0db5f5CKQeHrfLZYimjBugHKfm6LQoooIACCiiggAIKKKCAAgoMnIAB+oHbpW6QAgoocLbAYQToGd7mWfSg/88nh2V95+x5+/EThrbZ2ivl3tzgDd/Tj/vD36yAAgoooIACCiiggAIKKKCAAucLeJPY8338VAEFFFBAAQUUUEABBRRQQAEFFFBAAQUUUECBnggYoO8JqytVQAEFFFBAAQUUUEABBRRQQAEFFFBAAQUUUOB8AQP05/v4qQIKKKCAAgoooIACCiiggAIKKKCAAgoooIACPREwQN8TVleqgAIKKKCAAgoooIACCiiggAIKKKCAAgoooMD5Agboz/fxUwUUUEABBRRQQAEFFFBAAQUUUEABBRRQQAEFeiJggL4nrK5UAQUUUEABBRRQQAEFFFBAAQUUUEABBRRQQIHzBQzQn+/jpwoooIACCiiggAIKKKCAAgoooIACCiiggAIK9ETAAH1PWF2pAgoooIACCiiggAIKKKCAAgoooIACCiiggALnCxigP9/HTxVQQAEFFFBAAQUUUEABBRRQQAEFFFBAAQUU6ImAAfqesLpSBRRQQAEFFFBAAQUUUEABBRRQQAEFFFBAAQXOFzBAf76PnyqggAIKKKCAAgoooIACCiiggAIKKKCAAgoo0BMBA/Q9YXWlCiiggAIKKKCAAgoooIACCiiggAIKKKCAAgqcL2CA/nwfP1VAAQUUUEABBRRQQAEFFFBAAQUUUEABBRRQoCcCBuh7wupKFVBAAQUUUEABBRRQQAEFFFBAAQUUUEABBRQ4X8AA/fk+fqqAAgoooIACCiiggAIKKKCAAgoooIACCiigQE8EDND3hNWVKqCAAgoooIACCiiggAIKKKCAAgoooIACCihwvoAB+vN9/FQBBRRQQAEFFFBAAQUUUEABBRRQQAEFFFBAgZ4IGKDvCasrVUABBRRQQAEFFFBAAQUUUEABBRRQQAEFFFDgfAED9Of7+KkCCiiggAIKKKCAAgoooIACCiiggAIKKKCAAj0RMEDfE1ZXqoACCiiggAIKKKCAAgoooIACCiiggAIKKKDA+QIG6M/38VMFFFBAAQUUUEABBRRQQAEFFFBAAQUUUEABBXoiYIC+J6yuVAEFFFBAAQUUUEABBRRQQAEFFFBAAQUUUECB8wUM0J/v46cKKKCAAgoooIACCiiggAIKKKCAAgoooIACCvREwAB9T1hdqQIKKKCAAgoooIACCiiggAIKKKCAAgoooIAC5wsYoD/fx08VUEABBRRQQAEFFFBAAQUUUEABBRRQQAEFFOiJgAH6nrC6UgUUUEABBRRQQAEFFFBAAQUUUEABBRRQQAEFzhcwQH++j58qoIACCiiggAIKKKCAAgoooIACCiiggAIKKNATAQP0PWF1pQoooIACCiiggAIKKKCAAgoooIACCiiggAIKnC9ggP58Hz9VQAEFFFBAAQUUUEABBRRQQAEFFFBAAQUUUKAnAgboe8LqShVQQAEFFFBAAQUUUEABBRRQQAEFFFBAAQUUOF/AAP35Pn6qgAIKKKCAAgoooIACCiiggAIKKKCAAgoooEBPBAzQ94TVlSqggAIKKKCAAgoooIACCiiggAIKKKCAAgoocL6AAfrzffxUAQUUUEABBRRQQAEFFFBAASUMQjgAAEAASURBVAUUUEABBRRQQIGeCBig7wmrK1VAAQUUUEABBRRQQAEFFFBAAQUUUEABBRRQ4HwBA/Tn+/ipAgoooIACCiiggAIKKKCAAgoooIACCiiggAI9ETBA3xNWV6qAAgoooIACCiiggAIKKKCAAgoooIACCiigwPkCBujP9/FTBRRQQAEFFFBAAQUUUEABBRRQQAEFFFBAAQV6ImCAviesrlQBBRRQQAEFFFBAAQUUUEABBRRQQAEFFFBAgfMFDNCf7+OnCiiggAIKKKCAAgoooIACCiiggAIKKKCAAgr0RMAAfU9YXakCCiiggAIKKKCAAgoooIACCiiggAIKKKCAAucLGKA/38dPFVBAAQUUUEABBRRQQAEFFFBAAQUUUEABBRToiYAB+p6wulIFFFBAAQUUUEABBRRQQAEFFFBAAQUUUEABBc4XMEB/vo+fKqCAAgoooIACCiiggAIKKKCAAgoooIACCijQE4GRnqzVlSqggAIKKNBHAoedUtoHpezsd8qb3VL4e5CmoWiOH4nH5Fgp02Ot0moN0ta5LQoooIACCiiggAIKKKCAAgr0r4AB+v7dd/5yBRRQQIEPJHBwWCIw3ynP1zrlp1edDNZ/oFVfi9WMDpcyM1HK3blW+XypVYYN0F+L/eKPUEABBRRQQAEFFFBAAQUUUMAAvWlAAQUUUOA3L0CAfm27lH8sd8r/9/1h9KQfLBJ6zt++0Srtw1Z5uFDKsAPcDdYOdmsUUEABBRRQQAEFFFBAAQX6VsAAfd/uOn+4AgoooMCHEmhHgH59u5MB+v/3u8Mc5uZDrfs6rIfe81/cHCpzU51yMGDD91wHX3+DAgoooIACCiiggAIKKKCAAlcVsA/dVeVcTgEFFFBAAQUUUEABBRRQQAEFFFBAAQUUUECB9xAwQP8eeC6qgAIKKKCAAgoooIACCiiggAIKKKCAAgoooMBVBQzQX1XO5RRQQAEFFFBAAQUUUEABBRRQQAEFFFBAAQUUeA8BA/TvgeeiCiiggAIKKKCAAgoooIACCiiggAIKKKCAAgpcVcAA/VXlXE4BBRRQQAEFFFBAAQUUUEABBRRQQAEFFFBAgfcQMED/HnguqoACCiiggAIKKKCAAgoooIACCiiggAIKKKDAVQVGrrrgp1yu0+nk19fnk7+l1Wodv1Xnqe/V5+MZfKGAAgoooIACCiiggAIKKKCAAgoooIACCiigwCcQ6LsA/e7ubtnZ2SkbG+tle2u7tNvtctg5TLrRkZEyMjpaxkbHSmuoVfb390vnsAnmT01Nlenp6TI+MVFGYx4nBRRQQAEFFFBAAQUUUEABBRRQQAEFFFBAAQU+pUBfBuhXV1+X58+eldevX5f2frt04j96xo+Pj5eJCMCPj0/E36Vsb2+Xw4MI3scfCwsLZWlpqczH89DQUKFnPct0Pz7ljvC7FVBAAQUUUEABBRRQQAEFFFBAAQUUUEABBX5bAn0XoN/e3iory8vlxx9+KMsvX5bh6DU/Gj3mx8bHykQE5rfHt0uE3bNn/Zs3m+Xg4CAD8rze29stQ8PD+fl+e78MRYB+dGw0e9SPjNir/reV9N1aBRRQQAEFFFBAAQUUUEABBRRQQAEFFFDg0wr0XYB+f2+/bL15U97EYy9eL8zMlhs3bpTpmekyMjySPeI3Ixi/G8H4PYa4iZ7ybCTLrKysxDA3M/neXgyVQ3B+dnY2AvjDJeL8TgoooIACCiiggAIKKKCAAgoooIACCiiggAIKfDSBvgtLHx4eloN4jI6NlYXFxfL73/++3L17N4euobc8w9o8fvxziSh89qxnOJuxCMTv7uyW9bX18urVSgT292Ic++0Mzk9OTsaszRj2H03dL1JAAQUUUEABBRRQQAEFFFBAAQUUUEABBRT4zQv0ZYCececJsrejhzxD3tCbfiS6wDN8DT3mh+OZx0HcTLbdjhHqIwC/u7uTN40lSM88BO6ZZywC/cPR8/6siXl50DDAg9cx5L2TAgoooIACCiiggAIKKKCAAgoooIACCiiggALvJXB2ZPq9VtubhWugvN0+KDvbOxmcX15eycD5+vp6DF8znTeKZT4C8HsRlGcYHMapb7fjZrIRYN/c3MjP5ubnIjg/njeUJVB/cspAfLxZA/P0zmcdPB/a4/4kl38roIACCiiggAIKKKCAAgoooIACCiiggAIKXFKgrwL0bBs95ScmxgtD0+zvM1TNTiFI32q9yvempqayV/z4+HiZivHmh4Z3ykEE1odaQ6UzVDLAzvj0LEdQ//nzZ2UmxrEnuM+6a7CeQPx+9NDf2NjIx9bWVnn96lV5+vRJjGe/Fb/EbvSXTGvOroACCiiggAIKKKCAAgoooIACCiiggAIKKNAl0HcBem7syg1hFxbmsyf8xMREaR+0y/ab7UIQnYD67du3Y56Zshhj1G9vbecQOATlGRKHHvHcIPbN5mYOV8PQN0tLN5OEIH0N0Dfz7ZW1tbXy8sUv+fz69euy/PJlLkdDgJMCCiiggAIKKKCAAgoooIACCiiggAIKKKCAAlcV6JsAfR1yhp7zt27dKmOjYzkO/cTEZNne2SorKytlJXrSE6Cfm5vL4PyDBw/KXvSyJ6hOcH09gu2tVsnlctz61dUyGcvv7e7FsDWd7EFPz3umZjid6EUfY91vHQX5WYahdQjiMxS9kwIKKKCAAgoooIACCiiggAIKKKCAAgoooIACVxXomwA9G0iv9lJa0XN+uExEoJ7H7OxsjEU/lUPXMGRNu72fr1sRiSeYTzCdoWu4Gezk5ER8xo1eIyAf62IIG+Zb31gvYzFszsLCwrEjY9iPjIzGMDnTEexfKKOjI7mew6Ox6FnOSQEFFFBAAQUUUEABBRRQQAEFFFBAAQUUUECBqwr0TYCeHu0E13dj7PjNGJ6GMeQJvM/euHEcgB+NgPpwBO+Z9mPc+TdbTY/39fWN7BE/GcPS7O+3M2hPwJ1O8AT7ufkrQ9nQW75OrHtyarLcG7tbbt68mfMwBv23U99Eb/3lHDanzuuzAgoooIACCiiggAIKKKCAAgoooIACCiiggAKXFeibAH2zYZ0cnoZhbFZjyBpu5LoVQXgC9xvRe57x5MejJzzjz09PTUfv+KG4Sexw3AB2qoyMjmYgfy2GtWHe7e3tGNbmsIwMNz3jCe7Ta75O9JCn9z0B/NHofc93MXY9Y94TvKcnv5MCCiiggAIKKKCAAgoooIACCiiggAIKKKCAAlcV6JsAPT3oeTAsDUH5ly9fZE/6V9GrndFm9qL3ex3WhjHoa896wujzMXQNN3VlfPlOBPO3Yiz53Qi2E3QfjbHsM6BPED8D728pWV8zkk0TjCfY3yKI37z5dkZfKaCAAgoooIACCiiggAIKKKCAAgoooIACCihwSYG+CdA3Y8KPlLn5+XL/oB3911t541eGp+lET/jR6CE/Ez3n5+cXyp07tzMo39zMtZPD04yMRHA9/ltYXIwbx+7nox3PYxG0ZwibW7duZ+/4S/o5uwIKKKCAAgoooIACCiiggAIKKKCAAgoooIACVxLomwB9HXKGIPzwcAxdE8PXcAPXzRju5uDwIIeqoaf80tJiBuen4zOGuGE5pmYM+4MM8DO0TacclnaMR8/NY2/evBU3gl3MYP2VFF1IAQUUUEABBRRQQAEFFFBAAQUUUEABBRRQQIFLCvRNgL5uFz3lh4Zmcmiam7duZe/4iL5nIJ7PGC+e5+7gPMvWAP/s7EwOdUNAvnMYy8WQNQTpedDj3kkBBRRQQAEFFFBAAQUUUEABBRRQQAEFFFBAgY8h0HcBeoa64UEQ/rITQXrGnM9x56OHvZMCCiiggAIKKKCAAgoooIACCiiggAIKKKCAAp9KIO546qSAAgoooIACCiiggAIKKKCAAgoooIACCiiggAIfW8AA/ccW9/sUUEABBRRQQAEFFFBAAQUUUEABBRRQQAEFFAgBA/QmAwUUUEABBRRQQAEFFFBAAQUUUEABBRRQQAEFPoGAAfpPgO5XKqCAAgoooIACCiiggAIKKKCAAgoooIACCihggN40oIACCiiggAIKKKCAAgoooIACCiiggAIKKKDAJxAwQP8J0P1KBRRQQAEFFFBAAQUUUEABBRRQQAEFFFBAAQUM0JsGFFBAAQUUUEABBRRQQAEFFFBAAQUUUEABBRT4BAIG6D8Bul+pgAIKKKCAAgoooIACCiiggAIKKKCAAgoooIABetOAAgoooIACCiiggAIKKKCAAgoooIACCiiggAKfQMAA/SdA9ysVUEABBRRQQAEFFFBAAQUUUEABBRRQQAEFFDBAbxpQQAEFFFBAAQUUUEABBRRQQAEFFFBAAQUUUOATCBig/wTofqUCCiiggAIKKKCAAgoooIACCiiggAIKKKCAAgboTQMKKKCAAgoooIACCiiggAIKKKCAAgoooIACCnwCAQP0nwDdr1RAAQUUUEABBRRQQAEFFFBAAQUUUEABBRRQwAC9aUABBRRQQAEFFFBAAQUUUEABBRRQQAEFFFBAgU8gYID+E6D7lQoooIACCiiggAIKKKCAAgoooIACCiiggAIKjEiggAIKKKCAAgr8mkCnU0r8X3gexKkVG9WKf3g4KaCAAgoooIACCiiggAIKKPCxBAzQfyxpv0cBBRRQQIE+Fdg/KGVnv1NebpTy6s3gRehHh0uZGG2VW7OtsjjdpzvJn62AAgoooIACCiiggAIKKNCXAgbo+3K3+aMVUEABBRT4eAJ77VLWt0v5/uVh+eb54AXop8ZLmZ8aKsPRe35x2i70Hy9l+U0KKKCAAgoooIACCiiggAIG6E0DCiiggAIKKHCuwN5Bp7ze6pT//bRT/u9vDs+dtx8/XIhe8/fmOuXm7HD53R0D9P24D/3NCiiggAIKKKCAAgoooEC/Chig79c95+9WQAEFFFDgIwkcREx+N3rRM7zNk9eD14N+Z79VRoZK2d4bvG37SEnEr1FAAQUUUEABBRRQQAEFFLiiQFRHnRRQQAEFFFBAAQUUUEABBRRQQAEFFFBAAQUUUOBjCxig/9jifp8CCiiggAIKKKCAAgoooIACCiiggAIKKKCAAiFggN5koIACCiiggAIKKKCAAgoooIACCiiggAIKKKDAJxAwQP8J0P1KBRRQQAEFFFBAAQUUUEABBRRQQAEFFFBAAQW8SaxpQAEFFFBAAQUUuILAYdxTlsde3EB3rz14N5gdasWllq1WGR8tZXT4CkAuooACCiiggAIKKKCAAgoo8KsCBuh/lcgZFFBAAQUUUECBfxZoH5SytdcpT1c75cX64AXox0ZaZXK0Ux4stMrtGxGtd1JAAQUUUEABBRRQQAEFFPjgAgboPzipK1RAAQUUUECB34IAvebXt0v55pdO+cuTw4Hb5OmJVlmYogc9AfqB2zw3SAEFFFBAAQUUUEABBRS4FgIG6K/FbvBHKKCAAgoooEC/CezG0DarWxGcf9op//NvgxegX5hulXtzrfJosVX+fN8e9P2WPv29CiiggAIKKKCAAgoo0B8CBuj7Yz/5KxVQQAEFFFDgmgkwqA1j0O/ud8qb3Wv24z7Az5mIsed39ktpD17bwwfQcRUKKKCAAgoooIACCiigwIcRGPowq3EtCiiggAIKKKCAAgoooIACCiiggAIKKKCAAgoocBkBA/SX0XJeBRRQQAEFFFBAAQUUUEABBRRQQAEFFFBAAQU+kIAB+g8E6WoUUEABBRRQQAEFFFBAAQUUUEABBRRQQAEFFLiMgAH6y2g5rwIKKKCAAgoooIACCiiggAIKKKCAAgoooIACH0jAAP0HgnQ1CiiggAIKKKCAAgoooIACCiiggAIKKKCAAgpcRsAA/WW0nFcBBRRQQAEFFFBAAQUUUEABBRRQQAEFFFBAgQ8kYID+A0G6GgUUUEABBRRQQAEFFFBAAQUUUEABBRRQQAEFLiNggP4yWs6rgAIKKKCAAgoooIACCiiggAIKKKCAAgoooMAHEjBA/4EgXY0CCiiggAIKKKCAAgoooIACCiiggAIKKKCAApcRGLnMzM6rgAIKKKCAAgoooMB5AoedUnjs7peyfxAvBmxqtUoZin8mRksZHR6wjXNzFFBAAQUUUEABBRRQ4KMLGKD/6OR+oQIKKKCAAgooMLgC7YNStiM4//j1YXmxPngB+rHhVpkc65RHi61yazai9U4KKKCAAgoooIACCiigwHsIGKB/DzwXVUABBRRQQAEFFHhXYC8C9Bs7nfLN8075y9PDdz8cgL9mxltlboogPQH6AdggN0EBBRRQQAEFFFBAAQU+qYAB+k/K75croIACCiiggAKDJbDX7pS1rSY4/z//OngB+sXpVrl9o1W+vNkq/3LPHvSDlXrdGgUUUEABBRRQQAEFPr6AAfqPb+43KqCAAgoooIACAyvQqWPQt0vZ2hu8zWTs+Z39TmkPXtvD4O0st0gBBRRQQAEFFFBAgT4QGOqD3+hPVEABBRRQQAEFFFBAAQUUUEABBRRQQAEFFFBg4AQM0A/cLnWDFFBAAQUUUEABBRRQQAEFFFBAAQUUUEABBfpBwAB9P+wlf6MCCiiggAIKKKCAAgoooIACCiiggAIKKKDAwAkYoB+4XeoGKaCAAgoooIACCiiggAIKKKCAAgoooIACCvSDgAH6fthL/kYFFFBAAQUUUEABBRRQQAEFFFBAAQUUUECBgRMwQD9wu9QNUkABBRRQQAEFFFBAAQUUUEABBRRQQAEFFOgHAQP0/bCX/I0KKKCAAgoooIACCiiggAIKKKCAAgoooIACAydggH7gdqkbpIACCiiggAIKKKCAAgoooIACCiiggAIKKNAPAgbo+2Ev+RsVUEABBRRQQAEFFFBAAQUUUEABBRRQQAEFBk5gZOC2yA1SQAEFFFBAAQUUUOCaCRx2SuGxu1/K3kG8GLBpqFUKj4nRVhkdHrCNc3MUUEABBRRQQAEFFOihgAH6HuK6agUUUEABBRRQQAEFEGgflLLTLuXnlcPyYn3wAvRjUasgOP/ZUim3ZiNS76SAAgoooIACCiiggAIXEjBAfyEmZ1JAAQUUUEABBRRQ4OoC+xGg39zplL8975S/Pju8+oqu6ZJTY60yP9Up0+NDBuiv6T7yZymggAIKKKCAAgpcTwED9Ndzv/irFFBAAQUUUEABBQZIYK/dKevbpfzlaaf8n38bvAD9/FSr3Jlrla9vl/KnewO049wUBRRQQAEFFFBAAQV6LGCAvsfArl4BBRRQQAEFFFBAAQa1Yej53f1O2dobPI/xqFXsxPj6B4PX9jB4O8stUkABBRRQQAEFFLhWAkPX6tf4YxRQQAEFFFBAAQUUUEABBRRQQAEFFFBAAQUU+I0IGKD/jexoN1MBBRRQQAEFFFBAAQUUUEABBRRQQAEFFFDgegk4xM312h/+GgUUUEABBRRQQAEFfjMCnRj25zAeDI+zxxhAAzi1Ypta8c/IUKtMjJYybBepAdzLbpICCiiggAIKKHB1AQP0V7dzSQUUUEABBRRQQAEFFHgPgf0Ys34nxuX/aaVTXq4PZoC+RHB+fKRVbkx0yuc3W2V2gpC9kwIKKKCAAgoooIACjYABelOCAgoooIACCiiggAIKfBKB/XYpmzul/O15p/z12WDeYZZw/EwE5R8utMrSLAH6T0LtlyqggAIKKKCAAgpcUwED9Nd0x/izFFBAAQUUUEABBRQYdIH9GNZmfbtT/vLksPxffx/QAH1E6JdmWuVf7rfKvz+M8W3mBn2vun0KKKCAAgoooIAClxEwQH8ZLedVQAEFFFBAAQUUUECBDyZQx6DfjZ70W3sfbLXXakWMPz8V27Yb4+wz3r6TAgoooIACCiiggALdAt6iqFvD1woooIACCiiggAIKKKCAAgoooIACCiiggAIKfCQBA/QfCdqvUUABBRRQQAEFFFBAAQUUUEABBRRQQAEFFFCgW8AAfbeGrxVQQAEFFFBAAQUUUEABBRRQQAEFFFBAAQUU+EgCBug/ErRfo4ACCiiggAIKKKCAAgoooIACCiiggAIKKKBAt4AB+m4NXyuggAIKKKCAAgoooIACCiiggAIKKKCAAgoo8JEEDNB/JGi/RgEFFFBAAQUUUEABBRRQQAEFFFBAAQUUUECBbgED9N0avlZAAQUUUEABBRRQQAEFFFBAAQUUUEABBRRQ4CMJGKD/SNB+jQIKKKCAAgoooIACCiiggAIKKKCAAgoooIAC3QIG6Ls1fK2AAgoooIACCiiggAIKKKCAAgoooIACCiigwEcSMED/kaD9GgUUUEABBRRQQAEFFFBAAQUUUEABBRRQQAEFugUM0Hdr+FoBBRRQQAEFFFBAAQUUUEABBRRQQAEFFFBAgY8kYID+I0H7NQoooIACCiiggAIKKKCAAgoooIACCiiggAIKdAsYoO/W8LUCCiiggAIKKKCAAgoooIACCiiggAIKKKCAAh9JwAD9R4L2axRQQAEFFFBAAQUUUEABBRRQQAEFFFBAAQUU6BYwQN+t4WsFFFBAAQUUUEABBRRQQAEFFFBAAQUUUEABBT6SgAH6jwTt1yiggAIKKKCAAgoooIACCiiggAIKKKCAAgoo0C1ggL5bw9cKKKCAAgoooIACCiiggAIKKKCAAgoooIACCnwkAQP0Hwnar1FAAQUUUEABBRRQQAEFFFBAAQUUUEABBRRQoFtgpPuPfnh9eHhYeOzt7ZV9Hu390ul0SqvVKmOjY2V0bLQMtYbKYby3t7tb2gcH8flhGY3Pxsaax/DwcD9sqr9RAQUUUEABBRRQQAEFFFBAAQUUUEABBRRQYIAF+jBAf1B2d/fK2upqWV9fKxsbG+Xg4LAMDw+Vubm5cuPGXBkZHS3tdrusvn5dtre34/V+uRGfLcwvxOc3yvDk5ADvUjdNAQUUUEABBRRQQAEFFFBAAQUUUEABBRRQoB8E+ipAT0/5ra3tsrr6ujx7+qy8erUSwfqdchgB+uhCn0F7AvHj4xMZoH/58mXZiQD9YfSgn9/YjNc7zT5pleiF38nXQ0OtMjIyGo++ouiHtOVvVEABBRRQQAEFFFBAAQUUUEABBRRQQAEFFDhHoG+i0gTnebx586a8fPGyPP75p7KyslKGoud8J4LtBzGUzfr6epmKXvOT0UOeoP3Lly9yKJyhoaGys7NT9vf3y+TUZCwzHPO3c1gcgvNTU8UA/TmJxI8UUEABBRRQQAEFFFBAAQUUUEABBRRQQAEFPrxA3wToGXeeADvD2ixHz3iGrpmYmCiPHn2WQXqGuuGxvrZWNuOZMekZa35ufr5MRwSeMem3t7bK61evSnu/nWPXT8byc3Pz5WB8/MPLukYFFFBAAQUUUEABBRRQQAEFFFBAAQUUUEABBc4R6LsA/ZvNN2VtbTWD9TMzM+XBw4c55vzKynLeNHZlOZ4jkE+vecabHx8bj17zUzE0zlYG9VdX1/JzAv4RvY8APaPjxJg350y1934+l2ZoHGZ/5/1oAHDqnQDWDT3Og2od6TDTEVeLNOnrIqJv5602A+bTaVxC5VIu2L09ZqvNRUT7ZZ5Wbh8o1eYiv/zd9MISA5ZejhFiu7C54OYdz3c8//GL4zX294uj/CVNLu5yvM0AJRIug2ZzvJW5iXm+efvW+a8qS841gC7Hm0SaOf7jfJP4lDypwWTWiy/3qyu+djNc0gWKQT+Octdf0uU4vSTQtdvLH/oHZdlkkA+LDw32HutrrEmP77ESF1VAAQUUUEABBT6CQF8F6Pf29nLM+Z3d3ewdPz09nUH40bgp7N7ebhmfmMz3d+NzhrzZjfmHtt7k6/39vRiX/qBsbm5kJXNycqKMjY2V6Qjyj42OnUpdK6ME87kRLc8Mp9MU9uJ1lPZ479cC/Keu3DcvJdC4R6NK3E9gYEvZWalt5f0RaD86PDy/4agCMm+tgAyiT1NdZyirxoTtvcgUWUDef6KTaSb+GLTKWcKESzyTVi7q0qQX8q94lAF2uWR6yWTCvUk6mAymSycauy57HNVjjfu25DmxgapvD85zNgTic/FjiY1/ezyRZi6YOfWRWmYzmW4u55LJJDKnJv8dPJcmnozJwYXz3ia9UG4cYJdCuYXG48ulF0y40nVg00s95o/zGeoUFyvj1UV9vppArat14ljNc9jVVuNSCiiggAIKKKBAzwX6JkDfiVowQfd2u53Po3FTVwLzBNlH4nk0guwjI8PZc573CZpPxNA1w0PDOQ49yxJM39vdKyPDO7nsXgTtt2JMewpsE/EfQ+LQ856Jefmu3Ri7nvHraRR4/fpV3qCWoXTokc9Nap89fZrLteJms069E1h+2Smbr6LytnVYRncHsLIfdMNRWTvYbMV2tsovz4bLTtwb4SLTzn4pr8Jne7VThnYOwoeQyuBMI1GhTZfXQ+X5s6GyNXmxbdveC5dlXA7DhXQzWC7DuLyJ9HLksnnBkbpwWYljCZfh7cF0OcTl1VB5Full6vT2139KRFtHLlu4kF72Biy9RNDscLM06eXpcBkf/SeCc99Y3YrjKfKYvXXymMHLg4eGm3xmbWWoPH3alAPOBTn6MF3WcOFYiiD9gE24HEZJcXV5+FIua5FeViK97W+QXgbTpRMua1dyiSEbN0gvA3gcRVn4cKQV6SWOo9mLH0fr26SXzlF6GTwXsgUu1m3F8bS33irLL4bLjAH63ueWcRqnE8P29lbep+xNdNqKd44C9YOZznqP6jcooIACCiigQK8E+idAHwUsbvx63PMoSrotgukUeOM1gfV8bg2VyehJPzY+luPLE3wnmE7AfSgqDtwclsA8PeoZq/5ZrHdhcaHMx1j1k5NTxwF6Avo7O7t5I9pXcTNabkBLgP7FL7/ka8bAf/zzz7neVnynveh7lUSb9f6y3ikrryMNvD4sE29ipw3gNBpH436k0ZVI1N9ExW1q7GKNPvsR+8BnLYLRwxEkmtgdLJzR2J79MEmXg1aZvKDLXri8CJf1cBnBJQKwgzSNxfa0I+9biTTz90gvE6MXSy977VKWIxCyFo06oxEkmogGnkGaSC/taLzA5W+RbsYjWHSRaTdcXkXesv6icenE34M0jUZ6OYh0shLp5K9lqIwOX27r3kSDxeuIbWy9GMw8eDj2d9yepjz7Yaj8ZefigcU34UqQfjtdBi/gg0s7tvGyLjR4EXTdfnEwkOfskXA53G81LtsXy2M44rbiOFrfqell8Moyw3E+OYh9//QfcRxtXfw42o7lNiK97LwczPTCvidAz/G0Ey9++CY6G/xy8XTD8k5XFIjDbG9/N4P0q69f58WUXKlBvZBgvZMCCiiggAIKKHBdBPomQF8D8RRwIzQffkc9ILJsVXtDxGcRlCHQTsCd8ekphL2OAhm93hm/nuX29/YLhbQ30Xt+YmI1AvHbEbBvl9u3b2fPenYOPfYPI5hPD/q8+WzcnHZ9bT2XoUf9XvSof7O5GT3qV8uQAXrIrjzF3sveLAxNhCtXLnA1A0MYjYw0V0O0o/fzdHzDF7OdcvuCPWKv/IM+0YLDUZedjl7QM5HI32xEsCh6Wl1kinar0olK/3wE3P4wH+n71M6KKMc6c5io3bwPA41X3MeBq1CaBqaLfd9FftOHnAcXekFPH7nsXcVloVNihKueTejSgLgbQ22RhvfiPhjchBpfauVNnvVhvz5dIr1Mx9rfbLTK7gVjIaSXwwigzA93yh8Xe+vyYbaY/CHSbjSqNsOcNS1QM7OzOTzZycZRXCaP0stm9FS8aKy1HS4H+81x9KdwwWmQpmOXSC8b4dJ9GGXuEMbtOOeRR3CO414us7M3ysTkZAaW9qNxrBM+t8ejIfDmIMk020KDxURcVTAa27m2evG8kIbATgQX70xEQ+DNLJD8Ew6+DNNGGuY8RwP/eFzhNxv3ybnu5QdcxqOkeFkXzkORnM51+SeoK72RqTe+K9JupNmt6CnbjvLcjRtzUb4b79m5LV2isYtA/WXSy/5B5C2xzN1IL2N9cBzVtNtu72e+QLmZMvaNuRtpe/LcFheyZnoZaV/uOCK9xC48cjn9OLpS8rhOC0W2MhY+M+Ot0o7GiLWjHvSZgsl/uWo3yhCbUbcYGR6J22TN5fPJc9x12qTr/lsyJUUBgrxhZ3cn899M0/Ee5QoeTgoooIACCiigwHUR6JsAPQVUesDXnvIEF+n9cJi9IHjdjC3IfFNxU9ibN2+Wzz7/PApfhzE2fTN8zUFE6KhkUEHe2NiKz6JCHUPlUHCjkHYjAj6z8WCizFa/I4MWMc9+LMs6Do+Gy2nHM8GMoRhGxwJ0sl3pn3SO/bS+thY3AF4rOxG8GIub+967fy8q2JO5z8cj6DYeQ77cvOCwL1f6IddpoQgO7l8iQDgZlb7JSLp3m+T7T1tSKySbm1sRTFjNhiaOmftLD/I+Ds3QThcPSv3TF3ysNz6wy4f62aRh8hHSL1fbbB5slKXZm+XevYnjPOtDfddp62HI9NMbZk6bOwKRkV5IK2ell9OX+jTvYstj881WBJbXy9rBWv6QhzcfRgPIUPqe9csu7RL5TL+4nLXNF3n/MAJh72YvzfjPO9s7eZ8WrhajQfvRZ5+VpWgspeGb/8hnPptvHhf5nn6dJw7lC0/kmhxP57mQfrkqbzOCm+uR/y5vL5e5ibny6O5ElkHq0HoX/tJPNONlXPiJnLfPc/kQm1HPbXSmIHj8sv2ybO1vlc8XvigLCwtlKFqmTgaRP8T3dq/jKi6fL5T4jd1ruZ6vm7TbjitRt/Mq0ufrz8vNyVvl83tRNgtbGpjOmi7rMhar6heXs7b5Mu+/9aEO08nOQpQhnj55kg2jY2Oj0ZDXlCEus17nfVeANEz9rR3glHup4DV1vHfn8y8FFFBAAQUUUOBTC/RNgJ4K7Gj09KW3L4XWvegFTy80erEz/vx2VB4YX56g/WiMFTISDyps3DyWwC+V48noCbjfHjkOmFFAI0DPZ2trq9nrte4Q3p+MQP/de3ezlxu97F+/el1++vGH8mrlVfZw+d3vf19+97vfxfoIYJxdSanr9Pl0ARpR6F345PHjGOP2SV6VwM17/+3f/i17wWXwIhpenN5DICoo3IBt+eXL8uTJ47KyvJzp/s9//nO5c/deXrGQ3WTf4yt+y4uShgluPo17Uvzy/Fn5JYbC+uLLLyMN//vRPSrMH66aPqhcc0XTcqTZ52FL8ILpz//6b+VWXPU0nEOdmT9c1TeXO8ofOFe+fPmi/PzTTzm82x/++Mfy+RdfNmnYPPjKxKRhgkPLyy8j/T6NvPcwGqDvl//23/97lmmGohHE6YoC5A/xoGH01atXWR5bXX1d/vinP2UD0wi2pt0r4tJRJcbL56rTMP0p8gWGjHz46GH5b//jf0Tv7rhvk2n3yrbHC5L/xjluLa7U5b5WGM/NzZX/8h//kVfhDUdveqcrCoQt03bU4bga+i//+Z9Rj/sx7082TOOdecMVYV1MAQUUUEABBXoh0DelPoK0Y3HzV8aXJ3C+t7cWQfmtDCIwDAoBdnrGU1mYiB7z9DrJ8eajhzsVYwL7vEegfSgKZPR+p1JHwZfgMEMnZM+KI2W+j0vQWW5ubj6DmVwyTY95hl8Zi88ePHhQvvr666wQZhC5F3voN7DOel8BCsrN8DYj2av788+jB9ziYtMAYvztvVICaZ0K4FQ0UtEgRY9Crgx5GD1kHz16lMeBFZWrE2NLfsRVPgSTaUC8e/du+fKrrzO/oCLodDWB47Qb+T516d24Nwi9ZundfT+CnOTHpt2r2dalMOZBgLM2eJNP3H/wsHz11Vdp7Dmual3+GVvKGHQSIDjPDeZpXPriy69yGBbSsNPVBGraZdhCrp7ElulhDHFI2qWzhfnD1WxZCl/K1jSQ7kYapiMFw0FWW9Pu1W3rkhhThiD/pWxGA+lilH2/+OKL7KRCGna6mgC2TDR6MCTp82fRgeLZ8766culqW+5SCiiggAIKKNCPAn1T6iM4MBoBesYdXlxcyh7zXM78wz/+EUGxoRhbsBm7nADkbPQ8mb0xG8H6kQw23Ii/JyI4Pxo976lkUFEm0M6QFMNR8J2ZnonA5VSO9Vh3YneFjteU8fh+GgemZ2azNzLDrxDg5/sNXlS5yz8PDVE5iZs5RqPHVIw7z018p2di/PnwpvJnBfDypieXoJJCOuYqlKmpyTiOZnK4pvEYSog0jHF3mj+5vH+fL4AdeQmNgKThGzG2NOP0jsSAvNiaP5zvd96npF38aBQln2YYMt6j8bTmD6bd8wR//TM80zTyXBq4uXfCzs58vsbYIOevG543B7YYco6bjjIEZZKZyCdG472ahs9b3s/OFsCWiXMb+S/5A50ysK625g9n+/3aJ/hS9iW/pQFkfn4h7g80k+m5+v7aOvz8fAGMOcfhTP5L73nSMY2l5Bs4O11NAFseGHL1NfU97lFG/kC+YN5wNVeXUkABBRRQQIHeCPRNgJ5CVAbTo9B669atvFnVUPQ2oUcP0XMKYNNTTWCMnicEyFoxNiaVinxEYYxgWTvGkGcoHG7CxLA0FNoI+tNTmwDQyakW3ugZS+GZ9fJdNcjJ8hbyTqpd/m8qJ5MROGbM2GwIiYaW8dh3vF/3weXX6hLdAljSUMUVIQzAeRA9tujRWY117ta63GsMqUhzY2PyH/IkKtkMf1V9L7dG5+4WIG1ORP5MYPN2NMZGjp+BDGx5OL2fAL6c1whyzkTj6M04x9KgTRDZc9z72dalGYppYjLy3wgO3b93vywuLUWZxvyh+lz1+TjtRvlsenoqyoe3M28gLzbtXlX13eXIYwkcE5x/EFcmcI7D1nPbu05X/Ys0TA966io34sbc9+8/iE4qM1kW1viqqs1yNX9oGkgn4tx2M4c/pQHEssP72bq0AgoooIACCnx4gb4K0FPQomdfU+CKG7NFD3bGxeTGrRS+bt5cysvGb928lePGMx8TgQdeUwBux50UuXR/Z3cnx4zmJlcU2O7cuRPByokzhVmewjMVlBzLPnpozcWQN7xfv+fMhf3gQgJUqMvtkoHN7LF11MPlQgs707kCNY0SIKJyTU+4pqFpykr2uXIX/5A8iCt3CFzMxFU2N+ZuhK1jM11c8PQ5SbukVQJENOCRD2faPWpcOn0p372KQAaIohGExuv5sJ7Nhm7PcVexPLkMplxVsxQ3sOc+OVP0Qo6rl2refHJ+/76cQPaOjaDb/Qf3oxPGUna8wFbfyzmeNncToJ+MMvbNHCKyaXy288RpVld9j3RKp5S5+bkYGu/LOM81Q2yafq8q+u5ylM8oQ9yLxtGp6MxFQ6n5w7tG/qWAAgoooIACn16gbwL0lYpLPmemI+gV4zvTA2J7+24G3hnjmUIXvU4Yhua0XicUxhg6pRVBs/EoqLXb+1lA45JHhvxg3edNFPBYfmJiPL+TdVh4Pk/sYp9VQy5Pp8fx4dRBPuNdP7vYmpzrPAEsCcC14hiZiOBmRDlPvWrkvHX42ekC2NYgBvfEoAGECjbvm4ZPN7vMuxjSu3v6KA0zqAV/O304AYzJc2mAppGJe7gQ0DD9vr8xhuQPmf+ShqO3N43QlEX0/TC+DNU2MdHKRjw6bZh239+VNbxNu3FFTZQduBKVofF437T7YYzrWsh/GSKPvII8mIfGVefqz2/TMA0g83m1LmU0ba9u6pIKKKCAAgoo0BuB1traq2YAz96s/5qulSFxmp719KrvniiwdT+6P+t+TQ9OHnV5XjNlf9muddRl+Pwi663z9+tzdanPdTu6t53Xp011mfpc5+letr5X3U/7rM4zaM+4MOW2x+vuA7c6ULE7baqmPFe7Ol9dtj7XeZu/qaCfvs66/CA9123vfq7bhwcTxtWqflaf63LdxiwWuUr2Sj4531n5RZ1vUJ6rS/fzyW3rtqjG3fPUZbHldfdU90d9rv71b54Hcaom1ePk9ub7HPPkF11m3fP9mk33d5y1DmzrfLxmnWflRXzeT1Pd5u7tq9vGdtb363PdNlIcveardX3/5HNdf03X9W/mq/uGG9vHH7lo/R5+Q/0dJ9fZT3/X7anbXb3YXJJs9+d1HrYvNWImrlLiHFWtTtv2s2zffte7+5F1YHveOk/7nuv2XvWqhvy+us31vZpXnvztddurQ/375Hys5yxf5u1Oo/U7ea/7/ZPrvP5/s81Nnso21eltmmzSTt3e+nw8X6bbplx1lmudt1k2znl839GbHBs1zbN8XT/PTHWfHc3et09sT01b3RvBNvNgO7u3vW4/89Z56nP38idf8x3NccA+fftps2xjXd+t3zEoxnW7fFZAAQUUUECB6yHQdz3o35eNwlW73c4x7Le23uRY9O39dhbO6N1Gr6vshR+9CGtvt5PfyfK7MQ7y5sZG2Yix7Pf2dnOYHeZjyBwuW6enPT00KFHnkDo7O9lbmTHs6TlHT5lBmyjgYrO1tRWPN3F1w3YMKdSOQnRzxQJD2HCVw2k929gvmO5s78Q+2Yj9E8seDV3U7JPpHB4AM27yu/VmMwvSjOHLcCJpPWigXdvTnW7fRJrDdifSFIEb7s0wFWPvcg+GHHc3/qZi0UydSH+HmUbfvNlq0myk2+5pJIZbYOgFDHmw/0jTXFFCb9o6lm/3MoP6mrRF2ltbXStb21uZfmuFjGOWG4txtQ0mmNUgA/NwnJOGt+Lm1RuRhmu+Mh5X3OA4G+mUGx9znGzHurdif/B3rjN6JpIvDOLE9nJDbtLV+vpaplvuA9I91Uo0xzpXQHETt3pMY8s62C+kYdaxvbXdvXjkrZFWY8gz7ifCfiL/YRlec0ND9tcgTTW95bnsKC/gnhIj0eOSYZa4eoPel6Tn3cgnNuKYJ821I43yft5MM9Ic5zqMajo+aVTTNDdkZ/+xDhqb6K1cz3Gk7Wb/7KQ7+5bhcZobSfZ3D1C2iyvtdnZ2G784J3FS5zzOEHu4kbYx5r42OB0cxhVgR/e/oTcsV/pRlsD5tKmWR17HPXVy+dhHNc/h/DbGVYOxn0jjBOm4785O7HPum8NQI/XYOW3d1/k9tpFz/H7cFJ7zGeccLMhXm3sIEXg8zGMe242N9eNyFqe3NI78GF/G8z8t/6zHCa5ZrojyBd83lMdA3LA38gbSL49tyi3xO0jn3LyXoYjOKgNeZ9f625q025R1OW73oyzGdONoGLa9vf005Vx32kQ+wfmJYcVqufVkPsE5jnx55dVKns+46iZ2a04sjx/7p17tRLrFl3tc1LR72ndf5/dwPYxjPI/3zSZfJN3SYsSVBXmuj3HkOe+Tf+Z5b20t82L+xoTzXM1DKH+9La+93XLSLt9Fuqz5724cI+S/5AWcH0m/PJPPs4/Zl+QzS3E88D2UDftxqttOWWozzz1v8t5hbAvHOX6kK87re5H/kq44x+3G0KWc4zBo0t6NnIfXJ9Mu66r5w/r6ellZXs68nH3ExD5hmdyfkd+TnpmffIh9wL3QuBL1tH2XK/AfBRRQQAEFFFDgCgL9WXq7woayCIUrCtJUBhm7/lVUiF+trGShjIIwQQ0qwlTMqJQQJKKAdrIARoWcAvMvv/xSXsSDQGk7KibDMTxLBtyiMLh4cynXkZXv/L61DJww9uzQ0PSZlfUrbtq1WAwXbCno4roZQXQqDhhSkeDS0lthSwNGvTkePxx7CsVUeFZfvy7LsTyVaewITlBAXor7BLBPGAKH73j54pdcjhv7sv4azLsWEB/4R9RKBBW11dXV8uLFi7SiUkLapDLCeOeLi0tpQaWhBiuoLFOZJKC5/PJlLEuafRHpNPZB7AcmhmzixrGkd76L+QgwU/lZiHsuUBmicjLoE9tOgB3jxz//nM+kQSpjpDHSGkHJWwe304MAXZ1Iv7ns69XIV1YiDb/MfKUTaZuAE4Hj27dvZzolfpHzhHMNRjH2bN1ndZ2D8lzzXY5v0u5GVIYJtDdTE4QgDyD4SNBmKfLO8aMABPPU9L+xsZlp89mzp2V9bT3zWvYLE2mVgAfrIRhEOmffEbS/fSeGNovPB2Wq+SX5IPnkegR/NtYjv4w0yH1UhoYfRr7Q9CykMY/0/DLSGg0bpNMa4CBIdivSPEF6GolOTnwPaZrgBZ5r8T0ETMhzyDvIL8iTOV+Sx6zFPsm8IwIYX7a+znUy9NzJ8+fJ77mOf9c0x/aTbrFj+znHsT0PHz7KcxH5Ip+/XomyRBz3zJMB+kiXmNJQ0W7fznRN2eK0iYAxQZ+ff/qprMR5k36yfAf7kMAS5z+CQTzvxbzrsa8J5n8d89RA9mnrvc7v1TSMHYE1fClT0bjDOOfY0diE5evXrzLf+OX583IYjc2UsfDhc/LjduTHjNt9Mv+s+Q7lM8ojz54/y0DefgSmSZcTkS/Px3KcNzmH8jsoE1L+oDzB/RdYZ7+lX7YbX7a7pl18aWQiv3z48GHmi9vx+csXL8vTp0+PkkqcmbK8EI1SkU/gS1769ddfZ9ojrdf8tqat/Wi8wu2nH39MO5Zn2CYaT7Cj4wDpn3vfkPe8iuOE8iH7kAAr6+sn35qmaJB7Geey5eWVSLeb0Ri/HyRxI/MoK9EJ5e69u3lDc+Z7HXUN0i55CemXY5o8l/IA9wOq9/mopvUZL/KbV1Empp5BXs69s/DKBtboKHD79p1Iu6MZnH/96nX58Ycfcl+RV9AI1a8BerZ9L7xo+Mltj7wBSybSZHNev5NlA/INzoEctzRS0CGF+gV5CDeMrvU53E9O7E+MyU+/+ebv+Zp5yHvJI6irUG8hT6Z+R5niyZMnsaejzMF5M/Z3P6Xfk9vv3woooIACCihw/QR+YwH60hWAe5xBXgpmTFyKzjAAFPwo8FFAJKhDoe5kASwr1FHheRYVmx9/+EdWZggcUyimgE7BkF6gBN82o+JNpeTZs2dxA9tbGfCkISBmGaiJgm5WRsLz8eOfw+ZJ2Y/C7GE4xkfZ02Q2PiNgSaCTCnAtMNPrisojQc0nj59kMIlAEAVkKnBU9ugRS+969gmBaoIZFMSzIh09k2/GjYEHdaqBspXwI839/PNPx5UVPqNiOLk8GWltMwMN3b0Js0IZvdyoqD+PNPhTuD158jgDa1x5wLQX6ZaAG0EKHqRV9gXBNyoiVHB+KxO9ATlef4jjmgovQQmOVxoxOLaJYNyIwAI9B7GtE5U8rqgh3T+PQNDyynIGnGtQg/xgPxqrCNgRrKBy//3332eQk0o2vWHpbTuoEwFcGuuyMh0BRqyYmrS9k41uXFFwK4IWBOWoWNeJefBdi0AzaffHf/yQgVDSOXktE/kMeQV5cGQWmT/wfTfiRt7YEwwZhIk0x7kJR4LuTx4/zkZNAnA4kb6a3q5jmUYJWjBP06i3cdwwSgAC74NIx/cfPDh2rEb1e2gAIEDy3Xff5j7jfR4E4QhI31y6mccIRwLB5R8jULf88kU2+BF8Ikh3MqhXv+M6PzN8RQZ2I8/Fj6Aijfr0QmabuFppirQWwTIaJf7x/XfZe/VNnKc45pno/T2/sJhp+/PPv8jG/9O2eTeC0jSifB/rIJDXNJhM5PmR9H0Q51HOe+z3tWgs+eWX5+Vp/CYaSD777LNmf8Tv6JeJ9MPxTKMxwS7OaWtrq5mmCcp9+dVX2SBxEM7MRzonAEyjKfYLYUqZjHMVgTMCnOyvk1OTt+xGgP91lEkel28jAEfQMocLitlZfvnlZHn4aDfzCOaj8e/HH37MoNznX3yR5YuT673uf+d2RzCTRgnKCjQ64Lsd5acMDkd+2Iq8E2vSK/kqE5YEkGujFOuhDDa/MB8B53vvnO+qAec01v3tt99kgHRmejbzEnp4812kWcoZdGAhz6Lcxr68fed2eRD5Tj/lDU3ex9Vv0cEn0soPEQyncYMjj9RH2ZaJQC51BMpNbHNTrn2cn5F+ceW4JpjMeauOOZ8zHP1TjxHy36dxzvvmm28a//iiJlgcweNIv+RHBIkpL7+MfPdvf/trNgaSp9NRo54fu9d93V/X45ZzGsf893HuoYxbJz6nrsaVCeQPnHdI6+wT0hkupDsMabgmPXfXN+p6eGZdNNhh95//63/lstORXjP9Rueg7MgSwf656ADDOrli+pu//51sv5A/1Jsld6/T1woooIACCiigwPsI/KYC9BRtKazRE4VKBUFhemPQE3ZsbDR6ukQlMSosL6KwRlDnbtyItgbYupEpqO3GsgTzdrLw11zGTkWGAD+F8HwdBeT1WCcFSXrIUUgkaETP5yg9Zm8MSnq19yy9ivpxoiCMCdtJZYTCMr2q6HlCJY0ABAVpPqPXVBNAGs3P2F4qGewTAqPMgxHLMZQIFcC8/DQqmQzhQKCNAjUBZwL08dUZSGG/8uB3MKQOPe9r75aTDSz9Zsw2YZJDKkU6Iv2QbgnQEOTInrThTWWXQC9BSpzr1Cwf6T6vaIhedBGcY9k7d+7mLFRGqERjTg8hKo7sPyp3NIpUVyr0HA9UgLDledCm5pJ9huqgJ9ZBOhHkxRPzqSls4/L1sKnpivSPUfY0jryDYBufTca8NNJx7LPvfqFXd1QgaUxiKAWMySu2Ix9heb6TS7Szx3440yDA5/V7+tWa309aIf9bit6qDAMwF0E13OgRzGX5pDte8x7HbnfgpuYv2JBPkJfgQk9b8hIm0jyBDt7HlsAIpnwvDYccPzzzPQxDxvBN+HZ/T7/4ElRgezLPPAq+8Zr3CGQwBAr55l5Y1p7DmDV5agTLotcrVyAQ2GAin+bRnc4IHGXem/M1V0TxOb3uaVDFluAR83Gu49yFL/kyvcgJbvN7WIbAFcMQcFUEPT/ZJ9ffPYLIcZ6hEYPALb24OV7ZrqbHKkOwtfOcxPsr0ZM2NjZuYE+vyvFstF+NfUPQiAD7YgSVy/376X3yH9ZDeQI7joG7kabJnzOoxHks8prZOBdy/qv7fTWOGX5L/obYB3wHr9kPHAunlVtOfu+n/Luek7iahjTK1XakYY5b8kc+p9MEaZUGec5xBOVovCD4SLiObeSYJw/gdfdU8wyWfRWNpTxIl7fv3CnzcbUYdpznaLiiwwCdJzg/kgeTj9MDl+/O4QujnMHx01wN1Qx9SKC/+3jp/u5P+Zrt5kHnCLaFMhXpd2uLq0DWI98bz2OX448ALumSRjqmw2hQIs1z/mI/0KjKxLzNlZ/v3ouG7+F8lnlBHAMY3YgroAhaTkdeT3CTPJYrR5iPtEsa5/fQe5/0ynukXfIH8qdrnXZjezN4HL+d4HFzVcJ2nodoxCfN0qhPoyj1B87r5A1Y8hllCGw4dmksoWGKbb4X6Zk8saYnXPN7Io+tVz/RSHr37r30ZV2kVb6HchuNshiSpknjHDfsR8prrJP9w75s6jnNUFv1u3IHX6N/avrNtBIdTtie9TC8FXkC6YiGuLWwxyNvVBxlfczpwMN2z07FsDcxHz3qsePKL95/9OhR+p/cVL6P8xn5C1c6ND3ul7IBlrRLPsD3khcTnMeY/c55ljRLmseX30t6ptF2LM9x1zN/OLn9/q2AAgoooIAC109g8CJs5xhTGKMgVQNiBBnvLtzLoBGX4n777bfZg2othqlYvfE6C14UvAn6dE8MxUCFg4IfBTcKfw8ePix3o/JXxyTk0lKCF6tReKxTU/BuhnIhuMEwDxSU6RHGuMHTXYX0ukw/PNNTkMIplWwC7FRKmB4++iwv4SUAR69iesMQ6GA4Fior01G5ZmKfUHlcjc8oWNPz8ubN2+Xu/btZmfv+u++yhxCB6akIeFI5jl15PFFIzmBVVPQpQBOkIOB0M56puF/XysjxBvzKi2YM+WacXraVwO+dqKz97uvfZZCNIMOP0ZuLQDC+XO5fp6yARGCHS9bpmZxBn/vj5V/+5c/l69/9LmfDh0o4Y33SSzTA6uJZsSTIwT56FeueiMoH+43eYYNge7yhRy+whB0lAAA6AUlEQVQIUpCeubSZ4MUf/vCHtF6KHoe44ERlmm3ndZ1q5ZhAHb3n6HHIsBTz84vZAyx71b9czoo3QQzykDoR+CH4vPr6IPbncq6XvIlK6WjM2+8TTgRmb96Mhss4Lgk+kDdiwDj/XHXw808TmcYWlxbL7bsMifB2+KAm32yGwWLfZF4ZgdD/8l//axrjQ15MOq5B1GpGPsExQ6AVWwIbNLQQKCEQ2I8NIHlMhx/bRRCd9INxE/BiGIUmQEfAnGOWHt53orH5bjTIEaAkn/j+u+8zcEQQ79Hnn+c+YR01r6zBYPJjAiA0BN65e6f8+V//NYPJ5DP0miUIQqCfPIH9Wide89v4DXwHQZXFCCQtLt1s8qDYB9d5avLNgzBtAl3kwRz32cP4YCe39SDSb91GyhQc8/fvP4iADld5bZdvDv+edk+jl/gXX36ZgdPqW7e9pm28yFM4b/3hj38sD2I9BJ5J10zMR6cCepPXKY0jDWQQMMoTmzEeNufVO5RDIv8YusbGpFnGn2dIG84tnHGw4TXpmiltwp2AJAFi8tOvonf9f/zH/3GcTikLsF/+qYwWXgQtCdxRJlmPNE8HjfvRSPLVV19nuYLyCFeLkS/Qy5zOFnXK/R/fm/dticAcDawcX3TaIO+ojf91/uv0TJ6HWY7NHccfwVkalXjvsLMTrnFF4zgNmlNZ1voiegIz8Xle1RD5MdtK4BHbuWigJrh7Mu3iSRokr+CKHPL2P/3LnzKfwah7foKfGNeJvJ/9TLmN/Ihhm2joO067Q9cvf6jpkXN1dhCJ9MuVNF9FOYxGH9LuX//61yzr0iObPI9yPnUIzjVc7UL+8MM/vo8rG37Oq+g4Tgmk0wjH8c9U91/TuNT0DKeHPDaU2dgvP/30Ywb4yd8ZspCOA8dTrIByDGUSGkJI3wTsaYRiKEMCzt375ni5a/KCNIVlNljGM2nwUdhRxyJd/vCPf5Tn0bjBOYgyLed2jn/mwWjp5lJzhe1332YDHA17mLH/urebv/M4j+9jnsiB8vz47//+X44bSHP+yJx4Jp0fTywbf2NMAwzlZp7vRbmcK/uGhppG0uP5faGAAgoooIACClxQ4DcVoKeQRY8VKr5N7/hmHF2ClgQnKORxeWoNVDB//P9PE4W5WrmkJwwFMwIZY7F8c3l6M8QNPbmz5hlroOcHN3hinF4CePTY4CZdFKzpNTQdlaV+ndg2xuCkFyDBGC7BJcBGpYXxXUGg1wkVkBoso4GjTlQMay8UCuf0OqayRoCUAjRBh5WoyGNGgZj9ROE4e3mGJQV15nsRl/6zfho8qPDw3iBMeUUA6ZZKb6QpAg+48jcBTm5oR5plYqglesh3T5jSM3x/r+mxRiWHyiM9sKj8YEUabLyaBM9rKnU0nNDTizROpZMetK3WnTIX62CerMB0f1kfv2Z7CMDR+zDTY4uxoTcjONEMAYBT9qqKdNzkDW8zB0ypaNPjkn1A2icdEnCjBz6BzLxqJ/ILXKlYMrEcQSDuZ0F6pmfYdASfb8Y9F6hMN/ukqSD2Me1xnkoekNsU1vT0LttN5Zn8gCA+gZ2lCOIypFCdmv0SwdJIw1yNQ+V9aCh6vEVPTNI96yTPoOdyrvtot5CvkNcSHGIeGklo5FuMxqV+zh/YFgJDBCN4zTBtjNVL3hesMTWBM/6u+So+XF1DvopZzTs4rgmicxUTV5HV45mgHss35ymuNBuNwE7cjDPWwTmPXocE+cjzCSRx3qThgx/QBPqiQSQaq8hnCC4RwB7me29Emo786LpPOHCs0zBHmsKYdMTxSuCI95p8eTxdP4tGDoaqYogmtpN8hGHDuFqj6W39bp6ceynWwXqwJJ3W/cX6yS/4m3TKg0bnWi5hGfYPwWeCbwxdRk9T3A8PI0AVv/m0IV+ukznbQ6POg4cxFEcct5xnyAPpXcz2pU+UK8gnOd5JZzQyY0MjRQ3Ksw6OgdOm2rBN/kpAmLIZ6T4bCeM7yD/4HblPjwLw+b0R3KThheExVqOzBsPesC8od1B25H4i13Ui3ZIuSbsMP3UYDcykDYZaxI7yExPlCAxJU504bjFnmym/4c3VBeQZNGhQ/mK+7qlJgzSCNFfa4FPi/0y74++mXa7QI4DPxHIc/6w/r+7JtLua38lvv9ZpN34fDWacp27EufnBw+YKTq7q5D22nXH7c4pzEOUuGjxoHFmIfJchA+mcQo930h7lKrw5D05F2n6bjpv8m6tpWCfHNfuTZcnDyZNnIj/iPfw3Io8dHY3vjcOGsjfpmXnI22m8o9zB/qNBhjz8uk+kA+ppHK/3otFzNn4zjZ+UDfDCMxJUHo/U3W7EFY00OnBlDec3yrIszzZjSn5c62Entz3LxtEIS9onDeNGYx7vc6zUq74YlpDfxUT2xD7ht9BDv5aPeY/fQpmv5mEnv8+/FVBAAQUUUECBXxMY6AB9VgaoEBw9KHTRE4tKFgU4Klzc0KmpMMQNN0OLQh3v8zmFu5MVE0C7g8MMc0MBmLE6KdAxHiqFtIWlGB89Kjjd303hj3F7qYxSaeJ7CHhQMOznAh2/nQBPrUgzRAdD/VBopnLH+7XQTKUZMwqzdWqCQc0logER805kL1kqwlReWAe9OLO3XQRB2U98JxV2TBkfOIcQifF7m8J9DDEQhW6qK82jflN/PpMOCdKQVrBgG/HkPdInvYqb8fqb+Qg61AkngkV4U3EjwEkPMHrdU2shqMk6Cfg3+yRreU0FhV7dESgiqMlNY+kpy3FBJbEfgmzV4DLPNL5R6SWwiRfHK8Fjxn4m36CSyP6gIt6J/VArbfUyfY6DyUlugMdVIjcyCMWNDNlfNCQRwOd4zx7k8V0cG/QgzEvUw5ux6anwUxnnuBikCavqRbokvdHDj/wQbyrBGBPIILhZp2be5iod7Oq+IXBGkJIeigQ9CLyxz2LVObF+8mSGtyBIzPjefE5vUPZxv04E1uilTT7JMD85DnIE3Or9VNguApJsK41BPE9mgCeGnojGH/Jg0iYNbgQ+SYPkl5wb61QDF+QVfMZxTzomwDM8NJJBeQJEGxvDYRwB/BiKhXynWa6dgaHh4V+aRpHYB+RTBAzJq452T/2qa/nM7615LGmLcwz3P2DIGoJmTMwzOjaS+4C8mLyBcxYNFpHQcx6upOOKp27b/ODoH7xq3swNN7OMEPlsJ/YRDR7kzRwTTX5AWaY59xHUJ/iWV0/FmN50EOD3UvZgnQTqrvNE2Yd0zDFPoy892UmH9CyuU5y5Mq3WY55ngro//vhDBkQZToIruebDmnWRL9cpz3tHjUzkAWhQHiGgz7A4BD8JWBKAozGDYCb7kxnx47hgXzO8xnfffRuNUU0ew29g3Tyu64QDx+borWaoRc5h5H1Pomc8FhSgal6c2xwbQhrk3EfQkbLUZjRMz8cN4h999ujMBgkMKIPRcJp5zdH+IdhJnlzTLvk5xz0Ty/BdrJ/8h3u9kI4Z1owyyHW2xQwvbi5MWYzjkr/ZPrY/fnxuI+9lfhj7gfyX98kb8OAY5ZnhG7OXezbqxzA/YdI94UVa4/zGa4bMIe8m/2X9BKZ5Dy/yI+odfDv5fi1TcFUCjXc0/pH22S/MH3N1f9W1e832kZ9yA2eOcWy4so48YysaPNgG7iPBeZxOEJz32Qf13kvkjTUdkQ4xpwH5tIn5Mv1GGqZMxhUd3Dh5bWwtjyHcaFyhgbqxY3eyTFy5FOUWes5/+803mWewP+ikETOc9lW+p4ACCiiggAIKXEjgbY38QrP3z0wU6iioEpihAtAEIRijdSSDDTnURxTeqMy8jh4oFMoobFG4ozBIATwLdl2Vvrr1LEPAgl4zFAD5LoJMXGLOZbz0Hn+w/SB7wRKQI9BGjyEeFN6oAFIIvRW9kx48fJSVTAp3NXhVv6dfnimwUtlgu3gw5aX5VATzv3wn36eyQYCouwzL62ZZ1hN/UBGKR1aI8rnpfcU8XGbKg9cEQqhwso8JghAgopDOkEMErhimpPbcyi/v039IK6Q3KoS1IkfljZu7Lb9czt6zWPE5208Qok61UknlhnQ5FmmQChuVOgzZd8xPb0GOCYJCHANUNAjM0/uIMXppcOGqk/sPYiinuIyXY6Nf02u1Oe2ZwDuVQywIVjAGP0H3ldarDHJS0WYfMNwClbfWUf5AQIy0nUPkxGt6KOaDtByGvM7jhPQby/OgUs8+pLGOABDfS75DT7BHMTwUPccwHjTndIjtx5ftpxGItHgnGia4aoBgW/dxm2k4GkDpiclxTnCNSjUBNCrU5BlU0JeWbmZapqKNL/ktwSau3qG3N8cQwcCH5A/x3HxPE0g9LS1cx/cyLZBHRpoaimcCwKSvk1OTHo/SZOS3TMxHvsqDBj3y5kyzYV/zgrqemlZ5nwAm++M4HUJGuow0HauIzwnuNd9BmibYydUK5DEM8UCPws8/+zzTNYEk8qLrPmWaO3LlfH+aMe8z1AkPzt/Mk0HkaEymoY2GN9Jc0+D27pAfbD/GTFzxhAkBOK7MI0hP+qVhlTyBhhHSLPNgjTHHDjeL5XcSnGe+L778MoeBoOfpdTau6YhnDHnU9xLk6B/SXObH4UvAmbTI+Z5GCQKRIyPD2dv13r37ObwF6+memjTcBIR53Wq9/R7Sfv5Hz+74DNPR6JlLOubcR2CU4DH7k78fPniYvjQI8FtOSw/d3/2pX1dbfsdFfivnfMpTy9EQxVUvBCQpT5Cn0rh32hS7L/MSyl00TFEOI13SkQJH0iDB6M/j6hKuImH/4Uz6pnE1G74j7+fY+frrr8vDhw/zGCBfvo4TpljSMEraq3kmxyrnosePf85jnkYfzkc0OtB4SlrN/DOWzXVwVc1R3kJHBxrnWVedSKtkDbzHunlNgJllMc/nyHvJx5t5IiAd85KX40t+wM262Z8E6T+LRpbPIv+9HUOcUdbrPrfW77wuz2wbE/kmjciHU1wVxBBK5HPrecNcGtypXywsLuSwQaSx4/vPxDbTIEX+y9U4lKceRLo6bUiqmv9yHuNzGmLJQ8i32WfkzpR/uaEx35eNW/EmxwodVn6MhsL8XVH3exj1OIbfuh1l5HouyA3xHwUUUEABBRRQ4JIC17MkfMmNOG12Cl8ExwmcU1jj5q8E6Rm/eCF6BmVwLcqC9BDkclMqu1QcMogTlTAKdrw+Wenju5pecVMReJjLIFCtDDOGKd9HYZ0ecwRBqKw0vcZ3MuBJZY/gH0ELeihReaeAyXf190Slonm8ux0Uc6kK13/5lPd4vJ2ohDRF4qP3okCeZfV8bgrtfJ7/xcxc+k4Ajn3HMC+zezH2bhSO6U1DJXomCvdUCgdhojLHg4orFTYqYfRAW15ubsjbNFBMZ8MS20/wvHviRlcEFQgus49Ia6yLig9BtKxUx7HB5eXYEfyklzLjdTM/PZW41Dg/j3mofHJc1MpU93f1+2saKKjENoEJGn6mMkhTG4II3FAZxDMrYifTWJOQSeyZfjHKdJxHQMaC8h/yBII/GNOzjbH9sWeYDL6b14NqTLpjGCGC69yfgnsfEARieBB6CjNEUPeEIQERvDPtxefkteS7aRjrIa8nHTMkAwGIDARFbzu+g0ZZhmsgAMRNauvNZU/L27u/99q+Jk3FjyNoQJD+vOOwO0/OXJTEyPK5gmYLmedkfkz2nEk5PztKy0dpmKVy+fib51z6aD562xMYYhgS9gcT497T6MQ5leOmXyZcyXfxycaIrh8OXw2sk44IkLO9dAZYjp7BXG1EXs3VRqQ7gp1nTQQ4SdukS4YZomc3wXmuTCB/oOMAbgRBa/5Pw+FKNM4yHxPBLJxZB7/lvDRx1u/4mO/X31eN8Tw5YU9+zFUBO4vbGURjHtw3tzfiHNUMS8F8bDudJXJYwa4VHaf/SKRNmn37IX/zvZl+MyAXpYvY14zdTsMeV0wwnAbGnFfrcC+1vPd2TdfvVfXF5tcCsrnN0dObewjV+3RQPm6GZzu/HEU5gvIsDdZv4pmrRsl7d3cYIijGlo9gMZ9zzmyCyc3VadwXg17InAcIjN6LfJtzHmn3Ok+4sv95cCxSp2g6Srw86q2+H/lclKOinMR5jE4ilFlrWmPbyL3r/iHbxL9JhSe2/Pgz0i5LvZ14/XYdb8vF2HPO474X/D4eDMdD/kv577r7soVsF+mqllFpwKATw8so73KlDQ3A5KeM6095iQYTyvqU0biamW0nOM/EPBy3dIA4barfRb0QI/JZbj5L+ZcOKjTu05DUXMHUXJnEVSP8hqdxRQr5A1fbUIdjDHyG0Or/utxpUr6ngAIKKKCAAh9LYKAD9PRGo9DGmIJUuHYiGE9BmALUbLxPJZcCGJeBElAgSETBmmAklQYqNycnCtOMNU9h91H0mqDiRoGOHkP0QqZ3Fzc95EazjA1O2ZuKCd9FMJSAUi3gM/YqBebTvufk9173v5seQtR4m57C9Oah5kvVo/7LKyrXVFzerW40hfLsNc9MsRTOTb2leU0FB6e0itf0ks19G5VAfHGkQE8wmUp93wbfcvtP/weTGpxn7MsfowcPASEqJxkEyxsUvtt7kgoI6Y0KzYMH96PCshTraMY7pSc9Qwpw1QcVZual9yX3SsgAfVwRwnfm/orP6IGP7SCk19OE2f46bAiBHpxo7CDwRiWcIQK4SobhLqiQUfkrR52Ba6U7j4NIn9kDK9MwvepJw00gjUAfgVX+Ji+gcYUxwJuJezdEBTHS8qAG59lOggY0jFLppkLNsYzzrVu3s+H0COP4Ka/iiN6IBOdx3r8TPTQjoEa6Jv9+/PhxBoKomGcwKAJCNHrgmr3nI18fGX47pAYB0UFNw8doRy9I06Q58mHMmnTZ9IpnFj7PfDXyZV4fTyx39BnPBCnJC46nfMk/R8sfnSvrObfuV4LKnB8JQDPswyBO2eAUxzJDDD1nKJEI7HKu5z4U3DSQ8sRkDKV3cqq+pP0c3uNrhorby17ENORzv5qfoicsQdO80WMEqjh22Bfk0XQGiJ2UeTuBfcovHBPv7MeTX9pHfxPcZHtoeGdIJ4alIu+kwflJHPOU2zh3UZ77/e//kA2rQzH80vEUyZm0T5kjkmmWE44KJPlE6iVNk+q5VwBu9RxLnr+y8irzea5kYig4gneDVq5ge2v5lB7KnNsIOtMjmCtJ6YzSlSsc0/ICL3oe0wjFzUvZPwT2KTtQLvnu22+zcYmy9Vysk33Hd2VQO/J+vpvG8MwfIrDPvu6Xid/O+ZtjkPPP0zjm6bm9uHQzylkEw+ez3MC5hnMWeW9TDmieMy/GMNInaSrT6ImND97j96lfvM19m7IxvyHzkFiecken0wTkSbt03sCVhhHyBfLffku7bB/lXQLlBOYfP+bGur9E+Wgi0xuNOnnvroDiXE8Z9snPj8v333+fPd+50pN9QRD/tKA5dpiQ/3I/F74PK4Y9pbMWQzBt/CWGI41g/7Onz7PhlF2Ux0sM08k9VrKzRpTX8iqqSMPkWU4KKKCAAgoooMD7CAxsaYLCFwV+KgBUfhmig6ER+JveqhTo6LnJjUXp5cP8BOW5DJTC9Wk9/SjAMdWKHZUXAsKzMZ4kBWQuQ6UhgNn4Lm6mlxXmWIaCIIVECoMsR0WbgjQ95GrFj9/Qj1NT0G16eLO92GaALIJwvKbCRmWGXu9UhHHoDpDxmh6y2XM2DBi3kwYNgngsywNTKjusvykER8U7TAlm8uB9vpOeLRSu6/v96Hnab65BICqE3EiUMWUZj5e0Q+CSKzF4pvHotHREmiWNUrmZmmrSIpUfAhwESjdiP9HgwXukc/YJl7mzLr6DyiWX/tI7FudM1+E/KBPbjHEe43EY0htzYoKbWt7ItMR2EmjYPKTnZpMuqTTXCS+Oca6awQpL0jDpkGAb6T9No8dVXl1DI1V8D45MGLN/3kQDAGmYNJ9pPfKKQZvqEEv0DCaQgxE9z+ilRvo8OWV+G28S6MCQMYBpjCMvJT/hKhrScOMW4x/H+lgm85p4jS0P9sHmxmbmDwTyMw33aZ570ujk302eTHqMK7kirWFOvtg0vu1F+oyxfCO9Y5DpMTy78426PHkuy++23+bFBNh4cKUNx0uTTpt0TMMWxwHnWPYr+4y0nA0l7ItogOr+npO/u5/+jjDZccCRdExwnkAdzpQLuLEhwaGpGLqG9Hpywq4++IzzIg/ycXzJDwhCZ5AqemmOj8dY/mFLUI9zYBMUYqixuBIwAvY0CtCTnmNoMIw5iptAMI07k5MRsA8fhhChdzbnrr14UI7CiPy7e8oyWXiRPvEhTyYtcv46TsMRVM4h3CIvYV/glvl0fF/mEZFfs+6tuNEsw1pQdjttX3Z/bz+9xozt49yeVyOGJWnwTqRbGpjOSkdYwZ1mscEsMzwxfJx2MeK9Ju3GefAoD2Z9mT/E3+TfkT3k+ZQbnTLeeOYZ1zxPpuxOr268KItxzFMuI7DLlQQ0brCdnG9oOGMjyRNIf7y3G3kvZQI6pFBeI31yXNeJzU+nMOzOQ2u5g7RLfs5zU05phtzhigTWyRVjXMmAc6wqrh5mqJv1PAeyX87ap/X7r8Mz6RJnfverCITT+E7jEecjrrRgyC/GqI+NyTIp++JxdDah4wrH90KkX4a6ZMhHGie6fbu3r0nHzRA6WHPl7XyURfJcGeU8yhDsMzpS4IpfGkeDP+sdjzROY0sznFBzL7JslAHeSQEFFFBAAQUUuILAP9car7CS67gIhdMahCHwToGPBwUyKmncsJGhbyjUUembi0AcPS6oVFPQZnnmPTnxXhbYotBLcJ1CN+MiT4xHQTvWkwGNLGw34/syP4XDnCd6YeUNNvkNsRwBP3olM/ZsE+Toz91BUCYrZFGppdfOTgw5Q+MEAbPJyWYIFSoXVNYIGBEswwQbKgu1Qsw6mFiWhg56K7MOHvQ4pjBMIZpAPvuHCh6FdRpdeM189LBhqAwqhzz6oTJyMo2d9jdpdzuG7CAo3/SqXMntJQDE+KJUDOn9zvbWdFtfk17zRq9hijVW7APG9OaBO8vU44MAEO/PjyzkZxxHVEifPH4SFfDFrITTM3Ys0/lpv7b/3mP7qRA2w0o0960grTGMFccmaYkKGn4xa6bHfHG0qaRnLncmgEMPV4JlpEsaOaggk/5JswSXmhtqRmUvjgV64rOfyANYN0NtMU43V0TwWT0m+k/0/2/vXtikKJI1ADMjuhxlVW4C4iq6//8Huet6XxVlVVaOHmEYTrwRld3VM8MwIELXEDlPT1dXZWZVfhkZt4zMOvqJ4ZwO24jWZFT/bzi+jFeTqJwKo72bNBxOJEZy4Gh/ZM5fNAlP+/ziOfnS3qg7y0X/DDrXJ29EXvt44w8i8dwv7/XmMpwVRyN5/FnthyXnu8lPy/B/ufvfoLPXg48ETw36RO/okZNH3sErYVjl0X2s5ohrthMZvJjsKgdGvF8laH3ljA86TryD7i/Hagj07z4mwL/68svsKxMx6h73Or4V233VaoRybnLOR4TnV1+mk55j04Tp+7HlwdsRXay9ElxHux376AO8gS6BZ4x+sB/6nOeYcZJfkoc+YTsbq3h+/vnHxBhtZ8BA8I/TgHG+ayYc6HfDeYwvi87mTB+yHV+G58AywZn9gwEcrVS8G851tGiLsl/DWYqXmEAVSPHX3XhpZ0TJm7RSn/qtkBR9ywlK5t6+HVuYfBOBG8F7yM7Rj7PbLfKQzOfQ9B4Q2zKhZ1vb4JHk0FFp4O19CHi57SNhS2fY2a2XeZKdJS9LzzNWJDwbjaqfLizq2b2tiMBr8AdpW/EdY5be/31MyNnr3T7zVljcvPlhbmeV2/2ErLHyCw5oyAQIjH6PSWjjHB2iT9cTq8BFqjG+1oltzRZgJL3mHv9sjsCcjox+0eP5N+gJMRZ2f0/74803g3ZjWy08mh5NJyYDzwc/di99sM0JBmjLJASn/OeffZbR83C8efNm8tVrEUjF1nIO/eiDzz79V/IJupRtbT76+9/Tvhq0pN75MZvCfvJ04yGnBHKRd3hL6mmB68OHVuyF7Rg0zO8OP/rEjRvvxbX95Pmek4xjA4qqj07bZoj72RqBRqARaAQagUZgixFYpkf4BIBSxChSvilbpfTtrxRdERmWon8fL4etvRnPpdM+VOQ0IERHcAINhY4hTeF2nrOIMcdwSydTOJIZjowVkZwUb44QkfjllC5nMsfo+/HCLNEWDESKukhoCrUyHHK+l5ZEqsGYYsro4nDglPk2lGaRhdrqWx4OIYYbgxm2DAZ9Q+HV/jt3Xk9H0DfxErHfQ/lmyMhbRvPb6fTRF5wUHEDK2NtYv+S7BsIw0rcimeHtnttukDyuv7WXQchJYDn1F59/fua3oD+0wjhmoKBJUWoclenECFw5ErSdoaO8iGWOOrYDZ4e8aJiRYgyMaHFYpyMi8BsYM2C8QM6kknHxbhgnyniGMUYe144lXC9j+pd0lHOKoT9L94dDB92hYVFT8DBRweEwjDYYwsryaPui65sfIx8+4JrJQlF16mHMnf9LvOAs8OTU00+2yLJU/qsvv0gje9DvacCYkQsHfE/0K0xNBtlWDN9gGKN1L+XFX00KoWXJXsXy/xTbTli5kJMb4ezgLDbZCp9Lly8lXeMpgx9x4L994e3gE28mr+UILf5gnJjws5pnux0WTzNu0ONw1r4Zk0ze06HdnBF4gchE2NqiTVQ73Mkl/eM4naCBDf6Kxm3fIgr+0399knk46+/v3U9H8VuBr6htdcOdg8T2Axeibk4/E4Tf/PubPD/qw5uWnjiRvAeF3PnHxx9nNK3Ibm1Dv99FdC1ahzM+yqmeW13EOMBzKyr8f8JB6l0UtZrPqgQ4Wnmgz/QJerZHsuhOPCUd9OG4E0zwwQc303mFrjno5eXkdL+lY1zO49pGhJ51+3YFXXCm3wpsYXM+aM27fGBCtsE7ncEh49AiHcCKBPjiObe+u5Xbhlg9SR7iD7DllH74U0XSon1BGh9+9FE6Ock4EfRfxJZy9BSTrnj2aeAbxmZh85/A48dsn4mf+YuG6WdDByEflbGn99CFrfqyekQ+fcAVPybx8Fd6sHGffDv6Cb/BH0yAiCDH1+k19Bf9gHbR8bYl7bPqiKMcX/s89DAvEjbWQ7LH9++57UliFGPa1pr0LO2jZ6EjedEgzPFeEd5oV5l7QbsmjAAIf+NXQMT587fS9qAbkJH2QLflFT1OPv0l0puuoi7l3g++gI/g2/j9119/tZKxQ2/bNnw9T2IcOMPStoKc3v/8x8cZ5GBcsgnoVJElExn0Q9hwt2KC9N8h34bct9rFpI/f6Ar9jcj2e9E35FyufA4Q0TPZpjys9Nde1Jt6NRkXPISO8lpMwignyMi2Vx/cvBl6RznsPcdnn34W/VH6IBrWF50agUagEWgEGoFGoBF4UgROtQbBacNRMRIjg9OH8sag+P7W96mYUeLOh+LM0LaPvGgYRsWlS6H4hgPJlhVjW4+hIFPqOJ0tceXsEMHCoGS0M+BEH1G+Oao5pClsokQZ1JRBzj1Kvs/l+GSESyjbS0xwHpGTFFnLlbWbQaF9cJeHomvFADxgxyjhtFSW0c2x8NfYk9okx6/fc8zfjQjNcE6Hw9/+1BklHgY5448Bp29NCnBUMFREFDG6LXNlQL/zzrU0iuY0sER84cfwLQfDd2UMhxU3nMGi0Hy0kxEDC/TnOhzQJMOCUegFxr6d5ygWTchRr99yoiP6RxRRTraEY4PjlIPDVgu3b4t2+ykjlt8Kpwiadr/TlNIREXQEawauyDcWs721fTgiRbUxJI1hjuOLF2sFCSPwwsULYfAxIgPnoN9z537MCSt9A8vx8mm4MaQZ6YzwK1cu55hwX1FvX3/1dRiQllvHuzBi7OxE+aWndLgF3+TsMsZzUilwQHtw4MDAE9KxEE53E56cZ7DCPzgn8QR9AncRgXgzRx1n0cXg15wPsGaUK/NWTH6K1uSkR/cmTvAHzlKrFBjRS3e0aSfsOA4kez1rF7nGeUnukDlWZ9y9+0s6iUVXcuxci/298eVyUsQWVuEU5sBwjbMMH/FtK7hfYwWPaEa0ry8lPAb9mrwmI016nI8+s++61T34Pd7xbUy4XvjhQtbLYb005/HYXgltmRyCd9Lz7/dXUZ7lHI794YNuHaNlbSWryK63A6eKDN3LLS7wCziox5YXxj79w6oS9XMSqQOfTUdd5OeoNh44/qz4u/nhh9Ef++ngJAP0JXk4HHXZSVv9LzxckdBsrUKq1XHpfQwnnJdpixb+6cef0lleba/VMGjWCier6Djf6AmcevA0FkzYFV+4lM62GCYpw9C+sng9bI0R/MfKP+XQrBfTcsDhLfIJpPj2m29zP3x6CjmwFL6h3XiEttm/f+x3bhzjwcZ8bhEWjvb3/vZe0qrtZoaDMek88qFp/IMD82LQcukWRe8mlWHlY9KVrETT9AgyzzedT//BHI2aAJE4YQVzkHfXrr+b991WBz0stJ9e6yWhnLrGHJ3AJBkZxbZgNwhcGcE3t2//kDT3yy93Qy8IHhzYXw65ZwUMfXgE96hDOfLLfuj0CfRmUgN/QLuRoXhtYIk3Xw7dwfmUe8Fr8Gzb7NBD8IlPPvlnyLwfUh832Yrv4C/bmmBcE+8/5aTjlxGs8FqMN7Id9oJEbv8QL8iOfBzj+J7+8N4TeDtPz81tadK2eOPM1aA3/SSZUIL32VdupB5gpQ7Zph6THOw5PBXvNQ8As3euvpMTIzWxbRXkq7mFjm+y4YuYvPOOoqvXryW9m8Aa4ydv2v8agUagEWgEGoFGoBE4IQKn2kF/EIM0BUO5tezZljaME0YGY+DhQw6gUMhCI6M8nzsXe5WG8sc5lgpjKHQjuoOix2HM6UkJE3XB4GNUUqQpxRwUl8JhNJQ0UV2UaYagF1G6LyVuLwxQTn91LzUx/qTC5UoaBpzujAZOBsYAA42CzaFz7lxss5COoNjHODAc+2jaFiBXMIRjP50dgcnZwJqB590AnEb6ipJ+JZxrnPccHBx85+M9AP/329/COR0vk4vznM8PwzEt4mnpKWljJ15OHM4vxhraEkXFOGCspdEWjbRqYC8iMzk6GML3Ahv4+Hjh2/3772cfWY4rMaQvhHOCwcaJKfLV5BSjkfNBX9nnk2NJH4sk15e5lD26fIyH0f9Z6UL/lQPjlXTo7l0XRbyXTp3iCUGHZ8sphs44fWFnyyFOSU43eJvUu3HjvYzKZESaDMQTOOaTJ0TUIKzxBE6hd6eX+hoXJvOMEffzqZcp289+/nK4hYI7e2w0g98Zp1d3ruV4hg/eoQ9c964KkYT2jT53v/Yyxy/RKDbJye6FhnjFq0HzJjcvhBMa3Y7xbw9lPJkTH3/Ae+1b6z7uIXp50O/s8RZ1iO1yBJE5VmaISpXggU9y2Fx550q0c//MrZx8hlltkUIOXQ2eykEvWjidHTAPOYf+OC3QKR4gz/3oC068e7HVjX6ybc75uAbbS8FbRIbjSV7oaSw4fyEmRWqLndo+Z/QN3JeU4Gy1CwcizP7yWkRkRtvhY3ya7EHD+CcChb1VIJzLPtoLU7KQ4xLPoDMoNzB+sH89HZr/CSccvqHMK6/Ulnjudf3d61lvBgwEzpxCHNMiOfERfU0e+I1P688lJNh69tcDC3RkWyDjHA1pj2AHzka/bwdPpZNpW61cOpeTQMa9vOQgnoEWXz1b0fDGO5zQdU6yBl9PvSHGjFVi5CmateKRc+/S5dj2JvKa5BY0YCss5Kp+DmYObvXgPUtJeB286A344ZBBaKjk3tnUzcg88ouehUfPE3rMCaMY/5yn8sqDNvEHkeEmj+hzoHnttZKlqa8EX4IfWv/tt2vZf3Q6+L5740bqFJzSZKR7bDPt6vXifzEBFDyOjCnH+Lnim5PMR6+vB02hzXv3LuYEUmEjsOKtvGYbFnYEXYvOmisdg/ZMdsL7tdDb8F994jrc3c9klkkO4/692MqG/pDYRh/Ydx0fEh1eevfrKUvxbnnUo+7tTzHpHDRhP/gbMf5hDFNbqhnnwTZyXKIVk2VsLXQtj1T8lo5cNpqVSXtxrO14AXrFu9keqYsFHdb52ooTPZKLJkZNNLM/8GyY4kdujl7x8A/O3AySD54T93b/5FGLwDih6n+NQCPQCDQCjUAjsGUIbGrhW/Zwz/xxwhp8NZRUipXoMwYCRW6usHJuWpZL8aJspdMojd1y6lCeKWKUXWou5VC0eClvsZd0OJ4ofBnxFvXTJBl158Jp8kYofBTu/f0y/iiHDErLtNXpXktNnp1jYjccuhRfuJRDJwyOaD/lmRPDknLOTVYc3OHIeFPWdb/hLlKFk87+0vpJNJxtQEYZxiblXF7OKQ48xgfjhAL/ZkRxclgvGdNBC9pgwkNUH2MYViaXDibLnOVjGNp31/JxeOoLtMbggSfHBCMClnDL1SJhlOsH/WKihAHIueGbca8ekaPGi/uox3OdBnzhqB2MQOMXfZqYQ7P/jYhWDk4vykRnzpUDrvDnQGJgo0MTIWfOXM1j+IjoRJOcZhwVIt30hXMc8gxtk3T6i9N/7/xePocJKE48+HPInaaUToOgOc6Ni4FnbmsQPBF+0ugHv9Enmlzxh8jv2LU3zv+cGOkzUbKXwkEPU/XbMoTzg0NEX8Eez+fQQM9W2vit7LLpt8af6E1R8iMyFr+EkTFr9QuewEl3B2aBCb6g/ZxHWS7GM8fPwJlzgpzM8RB4Vb+ciajEn1PWoVv1i+5UP5nGaWmcxL/k0/rXec8mulmUKHrWH2ToklJGtMZzm+QxdvEBExyi4/EK8v6D2LqO8+hg0nYTmrYbgrs+SukXOJGF5UR7I3mq8hzDd3+J9wOEbIOT7YNg7H6DXgUY0Bkuh1OKnoKv5DiJSUQTIvpmKRiP8W5cem+BRM7TwWAnXY3JeL/xStv+kF0c53gxB+eQT2hY2wVDJM3F+PabQ9REiQhyTnbOOWPCGMAzODj1Dz7B0aZfyEgTXYPW9ZP3X5ikgXEqdvl02/0PvskDAwOORW0fDt3STUM/CLlF5sPjekSwWx2H1uZJPeQ/PPcenAsMJtqFUVxDr7CxxRP9j0xEs8bKpdDr4AjDyJo8GL/GD6wsqRUptuSK1SYhN7ebdusdBWiP41ibD6XEvCZFTP6YwEdvQ67TubwQ3WTfkEPsDjYAGocT/PFvk/ZXr8VKr6A5q0OsPsNznBdcMSb2AXsxJk0+/PCj7E9jAk+wAs24YKPgxfpPf21zSlqL9tKLcjXQxAee+JmjnSaS8Ra8Gh54g/FgnKM7GLvOCe++d36+kysYYQwrPB+tomVjR988uGmCriLrh0zDu1OXCR7iPqdNb3ti7LtAI9AINAKNQCPQCDw1Ajt37vz4yHAKDpLTlLSHgU1h5WgUBSTaap6orqkgh+JG0RqJM5jSxdFJkVMXB5C6fLuubCrWUU5Zx675uK/flD5l5VdWhPe8zLYrzwOPo761i5NG9ODAJSPYU1EOPANThpoED87gXHYduMDAOZ/sG5hGfcNYgafyemtgxxmkPgYzg9A9RR9W9Cesy9hRx5KT9laba/9X+ML6YEJ/DAvOZNFtSVfTN6xEuMKI8zf7KvKPPGVUFE4DR0bjuK5fMloc5lGOwcO4WTq2BzHcxDpoKegJ0mk0RntHm9G1cQ3nOXZwMnlickldumlgaOzDC/bKwnnQt3qdT+yjDuOIIckR4t5L5gsDY+2DyWi78a/9Ji1gJLmeGAY+jgd2vudlYcwRBBdjP/lD8Ai/5YOj+6kftso7596uO5fO4ji/ZGy1ceClfZKJIu0dWGgznuo7MQmMTJqiLbjJN/g2ZxKZiFZdg1WO/Qk7dRSfqfeOwFE+9brmGUQoc1bMaTon9qa+ULfnW0rStjntzdvnvLbZlukwRy6+gQaLPmOMB7bkmnLkGZxGH4qgzch7/RTgwDkdzRPG0U2JcUaCRx70C8vxbCK/ycPRJ76XkAbtDDoduIxxOegbzrCHH/rx0X5btGk3fQ5++IpJFddgr350SX6RgfBSt/L6BU4+7j9oWDnON0l+0bVkgf6gbwy+nBm2+N+gXRjafoUjEX/QjsEfxjWTGCVzOBjXwQ3qGBjKqw84k+V13jnYmvyDn3SYdm17s9YLYTv4i6h5+LpnTSZWn2wjrNo72jF46lHPqS3oC0aSsUkvpTfQq9DbnHbV6QNL/aKP1CEl7U78N6/HuXToJy0WVs4rP3gAfNXjeWHrmokP/e6ZXNvWtKKpaDOMh1x7mufVzsEnBp6wMqYHDY4+Hf1pnCNgk6kmRoacXPHZeCbJRIs6yU5bUNofH++C8eA9T/PM21gGRp0agUagEWgEGoHThsC26kMrB30L4NNGct2eRqARaAQagZMisK1C+qTP/0fztQ7wRxHs8o1AI9AINAJLROBll//zPmtdYI5GHzcCjUAj0Ai8LAhsiy5w9mkF8dOWe1k6uNvZCDQCjUAj8OIQeFIhe5xMe9K6Xlyrj7/zcW08vuThq8+yrsO195lGoBFoBBqBRuDpEHhSmX2cPHvSup7uiZ9vqePa+6RP8izretJ7d/5GoBFoBBqBRuBRCDyp/D5Onj1pXY96ppOcP2INdC9lOwlwnacRaAQagUZgmxE4qSx7/HL/owT28xTUT4PyUc98snpOitvJautcjUAj0Ag0Ao3A80XgpHLsdMr/OdatC8zR6ONGoBFoBBqBlweBZeoCx0TQP15pOa5zn14hOK7WvtYINAKNQCPQCNT+3sfh8PhtU4fQHt/r2ja36D0sCznn5zJuW5z1B59p/nvdunV7j8focLvXdTz+6Oh7P75c52gEGoFGoBFoBI5D4HEy93jZpuYhB8f3+m5Llf/rFkTrZgAc1FfW+dZtn2VfX14dtS6wgqIPGoFGoBFoBLYGgdOqC0QE/drRUI0cAtv3OJ73wzr//GwfNwKNQCPQCDQCzwuBuQH6qHtuyrR5rrnBuZZpRxuyXjopP3lY5Q7e2+/KM7/H8z0+6pnWT1DPfjjPOoejdTv9ah0ACp0agUagEWgEtguBg7LsqKfblGfzHEfL/3mO9fGQ7dst/9fPu+mcd34Tq9YF5lj1cSPQCDQCjcByEdiUb0e3Y4m6QETQ70drCGxC/LCjYkQSbAIwV26yaP9rBBqBRqARaAS2CoGSb/VIw4EuUoxcGzJtnPctv++6Lk85rff3GemO18Ztlavf7nCwvucFxLjvwfs5P55RO8bv+s4nzutVXjvkaR0ggeh/jUAj0Ag0AotG4Mnl/1pmhrRfhPyfd1DJ8vmZOh6yPyR8tmn8rm95qt1VvnWBwwj2mUagEWgEGoGlIrBEXWBy0JfxzoiXGPX7+2vH/XRWpjrMTJs/1xf6qBFoBBqBRqAReHEIcKZP8871EHmCTBuJE37TGZ1ZphVl47gC5ofRfibk4nDSl6Fb+Uad9T2M382zf86vMqgP1l3PBoAU43HZc9azasCQ3fKR6cMgH+XkPawDBGJT/ul+q3oO3r9/NwKNQCPQCDQCLwaBlHVzc5U8i791Oon8j9z0iMl57ajkKX1gO+S/ZxqpdYGBRH83Ao1AI9AINAKT3btQXeDsw4gM3B+O92iEdpTyQQmhn6SGEob53LCPTNngWaubEhqBRqARaAQagS1AQCT4SGmsZwT8JMtCeA0nOtHn7MOMjD9zZjczT+ItLuzshlM6pWBKxnRcq3fUP2V3Jj7rew5juSLYlXi2adS/WWs9g2v1fJwQlaPyx/n4mbI8D9alVzpAXo+WpANiUwfYbx1gDVgfNQKNQCPQCGwlAkM+ezgykJ07ZDEpSB7WBP10fbKBD8p/In1nZze+Srau6ljpF6Peuj7AGPJ55B/n/4zvca/Nuut5XGtdYBOZ/tUINAKNQCPwciCwZF3gbBrd0U8rIR9ynbG++h3XMnJu9OWkyNB65nnG5f5uBBqBRqARaAReJAJpGM9klWfhq2acjyRPyra6kAZ7OqrD+K7yIuYe5HHm5axXfLruXEXUV40cAQcTGZl1HbzwB34/Su6O5sY0Q9yzZLitec5Mkw+cFMrmM0UeKeua8q4e6RgdoMpOOVsHWEHWB41AI9AINALbgUDJ75L1/qf8ju8j5f/skWODu5V8pypE+FrK0ix/hPwna4fcfV7yf/a4Jb/nJ6bj8UytCxwBTp9qBBqBRqAReCkQWLIucNZWNkOYp7HOgF9122TMT4Z4OeppLescob08UklYVdMHjUAj0Ag0Ao3An4zAXBjnrUI+DbnlWjqY43u469OnLk+e40wvY36IONFzjn12pv3p502ocs5sysH1eWVLXs7Pzes46fGoZ55/81y2Ji6X3HYtr+f3XGzHs4bjYZR9+KBk/vidjY1aTFbAw3nPXnXFBbeJc6s0rq1O9EEj0Ag0Ao1AI/B8EUgZe0A2pUG7kutDlq1Xy6WQi8dUlmTMVXOTeCu5V+JuZ5KH8xaRjyUQ/3z5P7/vSlbPTm6eyweLq60LzCDqw0agEWgEGoGXAIHToAuc3dsTIVi9RcCXkN9UNsJUL3s8FZTNazMz/SXo8m5iI9AINAKNwDYjMExTz1gGdkgpxvfKmC6p5Weey2tVim2/u2tJ+5R/d+xbG9cta89CznHcl7Gfhn3UoWzdw53rHlXA72edRv1Vb937gDEel2o7m5LZkxs+C1Q0fZrv2Y7xvEMHUN9IpRM4AYPZhSnD4TOjZH83Ao1AI9AINALPDwEi+lBKwVwyLA33yJC/Up6T9SW/ybgdK+T81SKzkTMKRGb17GyD/J+3cFMCty4wx6aPG4FGoBFoBF5GBJauC+RLYu3R83B6m9x6L1rGfigiwykRvZuG+qYuUH0eKJQR/zKSQLe5EWgEGoFG4EUjkIb3I+TTMMrHM/pdwnv6H8vX0ziPL9vC1PVw1IcITNueOZ8HMsQnLoi0U2bIvrqHc+MhHK+TfAefY331+KNxj3WuzfvY0kYaTviRP/3p8W9EzNf59Qtg/R7n8tiKuqmmrI8OMCFVv+PqaF7mm/7F41Q985N93Ag0Ao1AI9AI/PkIpGx9hGxyjXzaDa87Ced3Sefpf0zKS0R8XnPwYCcn6wm8rNs5pWbyP+VrlqxyeX0lIOVfJ/fPetannurosJx1n9HwaFfrAk+FaxdqBBqBRqARWD4CKWeHSJw3J0Sla0vRBc4+eMAAj5akoe6LMT+M9vo91IxURla6gNbXFfk7NQKNQCPQCDQCLxKBYXanTCOfJnmVtnXKqRDO8YCEdH4iwxDm8oRJ7mK+LHZnNwz6cMLvh0Euqr7qzMshJyNzCkR71LpJ/azDUgCm03ntz/iXtx8NzPsPOa6FZLi7pjSPNtQquHQSTNvb5P70kcM1+RRQ5mgdQGXalV+Zvf5NbU9U41qnRqARaAQagUbgBSDwOPlvj/kUYSGcN+U/OU62T6vnQu67XvKwZP7kw898FdRGPziqkc9H/s/vnHK5dYE5JH3cCDQCjUAj8JIicBp0gbOMbEoJR0TutxvGu0TgM70Z69NRGecuRmL2A8B3p0agEWgEGoFGYBsQGHJpLaDLwB5yLA3v6UHLSK8fZFk5svdLCj6IaLt0znPSlxzcDaN99xUvYSUbU0IShja0nc6Rp+qbrlXV0+/Vjz9wMJe3dY+S0SWrc+saUjmyWQGXznbHXhDrL5zxmlIvh5fPc6sz2qQN/vL5A4s4nXdY6QB1j/Hw6pPfd6dGoBFoBBqBRuBFIzBkku+RyPlK5DOZtdYJRv6SleRj5MkJbRPzJc9N0D+YIurJy5qwL0d8Vhayc12/o5Sc07nxe/bzmRzO5W7dr3WBZwJsV9IINAKNQCOwcASGbF+qLvD/zCcGl+iFsfcAAAAASUVORK5CYII=)"
      ]
    },
    {
      "cell_type": "markdown",
      "metadata": {
        "id": "sumxg9sHT2T9"
      },
      "source": [
        "По корреляции Пирсона большее влияние на цену у типа кузова, пробега и брэнда"
      ]
    },
    {
      "cell_type": "code",
      "execution_count": null,
      "metadata": {
        "id": "ZI0LulXRW3Vx"
      },
      "outputs": [],
      "source": [
        "mse = make_scorer(mean_squared_error, greater_is_better=False)"
      ]
    },
    {
      "cell_type": "markdown",
      "metadata": {
        "id": "jUWiXo_nDREq"
      },
      "source": [
        "Рассмотрим модель - решающее дерево."
      ]
    },
    {
      "cell_type": "code",
      "execution_count": null,
      "metadata": {
        "colab": {
          "base_uri": "https://localhost:8080/"
        },
        "id": "KinsslY6vAtI",
        "outputId": "1be47d3f-ff65-42b1-c583-00fb81ee699d"
      },
      "outputs": [
        {
          "output_type": "execute_result",
          "data": {
            "text/plain": [
              "{'max_depth': 10}"
            ]
          },
          "metadata": {},
          "execution_count": 39
        }
      ],
      "source": [
        "model_dtr = DecisionTreeRegressor(criterion='mse', random_state=189)\n",
        "parametrs = {'max_depth': [i for i in range(1, 11)],\n",
        "               }\n",
        "grid = GridSearchCV(model_dtr, parametrs, cv=5, scoring=mse)\n",
        "grid.fit(features_train_lab, target_train)\n",
        "grid.best_params_"
      ]
    },
    {
      "cell_type": "code",
      "execution_count": null,
      "metadata": {
        "colab": {
          "base_uri": "https://localhost:8080/"
        },
        "id": "4hRmHDbN50-m",
        "outputId": "541027f8-9043-4b3a-e5cd-df0065649dff"
      },
      "outputs": [
        {
          "output_type": "execute_result",
          "data": {
            "text/plain": [
              "DecisionTreeRegressor(criterion='mse', max_depth=10, random_state=189)"
            ]
          },
          "metadata": {},
          "execution_count": 40
        }
      ],
      "source": [
        "model_dtr = model_dtr.set_params(**grid.best_params_)\n",
        "model_dtr"
      ]
    },
    {
      "cell_type": "code",
      "execution_count": null,
      "metadata": {
        "colab": {
          "base_uri": "https://localhost:8080/"
        },
        "id": "AuGdSaIu524E",
        "outputId": "4e8935f8-b624-4d22-9986-ff3884603ba4"
      },
      "outputs": [
        {
          "output_type": "stream",
          "name": "stdout",
          "text": [
            "CPU times: user 408 ms, sys: 0 ns, total: 408 ms\n",
            "Wall time: 406 ms\n"
          ]
        },
        {
          "output_type": "execute_result",
          "data": {
            "text/plain": [
              "DecisionTreeRegressor(criterion='mse', max_depth=10, random_state=189)"
            ]
          },
          "metadata": {},
          "execution_count": 41
        }
      ],
      "source": [
        "%%time\n",
        "model_dtr.fit(features_train_lab, target_train)"
      ]
    },
    {
      "cell_type": "code",
      "execution_count": null,
      "metadata": {
        "colab": {
          "base_uri": "https://localhost:8080/"
        },
        "id": "nA0ZorMk58eV",
        "outputId": "cb2bac0a-ae10-424f-8fbe-76bff563a431"
      },
      "outputs": [
        {
          "output_type": "stream",
          "name": "stdout",
          "text": [
            "CPU times: user 14.8 ms, sys: 0 ns, total: 14.8 ms\n",
            "Wall time: 16.6 ms\n"
          ]
        },
        {
          "output_type": "execute_result",
          "data": {
            "text/plain": [
              "array([ 1975.70695755, 11598.59264498, 13672.44202899, ...,\n",
              "        2873.04347826,  1415.66654728,  1415.66654728])"
            ]
          },
          "metadata": {},
          "execution_count": 42
        }
      ],
      "source": [
        "%%time\n",
        "model_dtr.predict(features_valid_lab)"
      ]
    },
    {
      "cell_type": "markdown",
      "metadata": {
        "id": "j0HaNGfrWGQI"
      },
      "source": [
        "Посмотрим важность признаков для решающего дерева."
      ]
    },
    {
      "cell_type": "code",
      "execution_count": null,
      "metadata": {
        "colab": {
          "base_uri": "https://localhost:8080/",
          "height": 265
        },
        "id": "yzwOI6dt4ywf",
        "outputId": "365d97b3-6340-46f6-d0d7-bbe411021655"
      },
      "outputs": [
        {
          "output_type": "display_data",
          "data": {
            "text/plain": [
              "<Figure size 432x288 with 1 Axes>"
            ],
            "image/png": "[encoded data removed]"
          },
          "metadata": {
            "needs_background": "light"
          }
        }
      ],
      "source": [
        "imp_dtr = model_dtr.feature_importances_\n",
        "feature_dtr_importances = pd.Series(imp_dtr, X.columns)\n",
        "feature_dtr_importances.sort_values().plot(kind='barh', color='teal')\n",
        "plt.show()"
      ]
    },
    {
      "cell_type": "markdown",
      "metadata": {
        "id": "rRSB8GNGWWCx"
      },
      "source": [
        "Самые важные - это год регистрации и мощность."
      ]
    },
    {
      "cell_type": "markdown",
      "metadata": {
        "id": "5ToA3ioFEMjU"
      },
      "source": [
        "Расчитаем RMSE."
      ]
    },
    {
      "cell_type": "code",
      "execution_count": null,
      "metadata": {
        "colab": {
          "base_uri": "https://localhost:8080/"
        },
        "id": "rtXR457qyz5J",
        "outputId": "b733fde2-ba51-4158-e42f-993ea599e290"
      },
      "outputs": [
        {
          "output_type": "execute_result",
          "data": {
            "text/plain": [
              "1966.2593448442165"
            ]
          },
          "metadata": {},
          "execution_count": 44
        }
      ],
      "source": [
        "rmse_dtr = (-grid.best_score_)**0.5\n",
        "rmse_dtr"
      ]
    },
    {
      "cell_type": "markdown",
      "metadata": {
        "id": "aK2IIV79Eq6e"
      },
      "source": [
        "Рассмотрим модель - ридж."
      ]
    },
    {
      "cell_type": "code",
      "execution_count": null,
      "metadata": {
        "colab": {
          "base_uri": "https://localhost:8080/"
        },
        "id": "oT9jJpu0hLVk",
        "outputId": "e2c6da3e-5502-4f0e-aa97-31d863ec1c85"
      },
      "outputs": [
        {
          "output_type": "stream",
          "name": "stdout",
          "text": [
            "CPU times: user 41.4 ms, sys: 41.6 ms, total: 83 ms\n",
            "Wall time: 117 ms\n"
          ]
        },
        {
          "output_type": "execute_result",
          "data": {
            "text/plain": [
              "Ridge(normalize=True, random_state=189)"
            ]
          },
          "metadata": {},
          "execution_count": 45
        }
      ],
      "source": [
        "%%time\n",
        "ridge = Ridge(normalize=True, random_state=189)\n",
        "ridge.fit(features_train_lab, target_train)"
      ]
    },
    {
      "cell_type": "code",
      "execution_count": null,
      "metadata": {
        "colab": {
          "base_uri": "https://localhost:8080/"
        },
        "id": "d38wFUIyFmc2",
        "outputId": "3d8a5650-391d-4558-b6fb-fab558269895"
      },
      "outputs": [
        {
          "output_type": "stream",
          "name": "stdout",
          "text": [
            "CPU times: user 5.11 ms, sys: 6.08 ms, total: 11.2 ms\n",
            "Wall time: 16.4 ms\n"
          ]
        }
      ],
      "source": [
        "%%time\n",
        "ridge_pred = ridge.predict(features_valid_lab)"
      ]
    },
    {
      "cell_type": "markdown",
      "metadata": {
        "id": "woYAAYM9FKWC"
      },
      "source": [
        "Расчитаем RMSE."
      ]
    },
    {
      "cell_type": "code",
      "execution_count": null,
      "metadata": {
        "colab": {
          "base_uri": "https://localhost:8080/"
        },
        "id": "uurllJIWXA8B",
        "outputId": "91dbf40b-99ae-4a7d-ba07-6b8ea79e7448"
      },
      "outputs": [
        {
          "output_type": "execute_result",
          "data": {
            "text/plain": [
              "3327.339441548061"
            ]
          },
          "metadata": {},
          "execution_count": 47
        }
      ],
      "source": [
        "rmse_ridge = mean_squared_error(target_valid, ridge_pred)**(.5)\n",
        "rmse_ridge"
      ]
    },
    {
      "cell_type": "markdown",
      "metadata": {
        "id": "VZEWosvaFd__"
      },
      "source": [
        "Рассмотрим модель - линейную регрессию."
      ]
    },
    {
      "cell_type": "code",
      "execution_count": null,
      "metadata": {
        "colab": {
          "base_uri": "https://localhost:8080/"
        },
        "id": "770jpe1EjcVx",
        "outputId": "99dd530e-d994-4d62-f230-068ef3163014"
      },
      "outputs": [
        {
          "output_type": "stream",
          "name": "stdout",
          "text": [
            "CPU times: user 8.8 s, sys: 1.49 s, total: 10.3 s\n",
            "Wall time: 8.7 s\n"
          ]
        },
        {
          "output_type": "execute_result",
          "data": {
            "text/plain": [
              "LinearRegression(normalize=True)"
            ]
          },
          "metadata": {},
          "execution_count": 48
        }
      ],
      "source": [
        "%%time\n",
        "linreg = LinearRegression(normalize=True)\n",
        "linreg.fit(features_train_ohe, target_train)"
      ]
    },
    {
      "cell_type": "code",
      "execution_count": null,
      "metadata": {
        "colab": {
          "base_uri": "https://localhost:8080/"
        },
        "id": "RkKA2HxdF_eN",
        "outputId": "963e80ec-0900-4ca6-8649-e9af36aef9fd"
      },
      "outputs": [
        {
          "output_type": "stream",
          "name": "stdout",
          "text": [
            "CPU times: user 68.3 ms, sys: 37.3 ms, total: 106 ms\n",
            "Wall time: 98.5 ms\n"
          ]
        }
      ],
      "source": [
        "%%time\n",
        "linreg_pred = linreg.predict(features_valid_ohe)"
      ]
    },
    {
      "cell_type": "markdown",
      "metadata": {
        "id": "v1u_O6QnGKuJ"
      },
      "source": [
        "Расчитаем RMSE."
      ]
    },
    {
      "cell_type": "code",
      "execution_count": null,
      "metadata": {
        "colab": {
          "base_uri": "https://localhost:8080/"
        },
        "id": "M6aFrZ1Ejbx6",
        "outputId": "a24b53f2-49fe-4dc2-cca5-05a14181b502"
      },
      "outputs": [
        {
          "output_type": "execute_result",
          "data": {
            "text/plain": [
              "2862.03492002828"
            ]
          },
          "metadata": {},
          "execution_count": 50
        }
      ],
      "source": [
        "rmse_linreg = mean_squared_error(target_valid, linreg_pred)**(.5)\n",
        "rmse_linreg"
      ]
    },
    {
      "cell_type": "markdown",
      "metadata": {
        "id": "PhBxyKZnGjNT"
      },
      "source": [
        "Рассмотрим модель лассо."
      ]
    },
    {
      "cell_type": "code",
      "execution_count": null,
      "metadata": {
        "colab": {
          "base_uri": "https://localhost:8080/"
        },
        "id": "Nn9l7yr6klng",
        "outputId": "80b8dec0-90f6-47e0-b044-74f9b966be1d"
      },
      "outputs": [
        {
          "output_type": "stream",
          "name": "stdout",
          "text": [
            "CPU times: user 71.9 ms, sys: 9.09 ms, total: 81 ms\n",
            "Wall time: 60 ms\n"
          ]
        },
        {
          "output_type": "execute_result",
          "data": {
            "text/plain": [
              "Lasso(normalize=True, random_state=189)"
            ]
          },
          "metadata": {},
          "execution_count": 51
        }
      ],
      "source": [
        "%%time\n",
        "lasso = Lasso(normalize=True, random_state=189)\n",
        "lasso.fit(features_train_lab, target_train)"
      ]
    },
    {
      "cell_type": "code",
      "execution_count": null,
      "metadata": {
        "colab": {
          "base_uri": "https://localhost:8080/"
        },
        "id": "Jf1z_VihGJKP",
        "outputId": "d0340820-84e3-4439-a7ff-09a419622d35"
      },
      "outputs": [
        {
          "output_type": "stream",
          "name": "stdout",
          "text": [
            "CPU times: user 6.35 ms, sys: 1.92 ms, total: 8.27 ms\n",
            "Wall time: 7.85 ms\n"
          ]
        }
      ],
      "source": [
        "%%time\n",
        "lasso_pred = lasso.predict(features_valid_lab)"
      ]
    },
    {
      "cell_type": "markdown",
      "metadata": {
        "id": "CVglH8DoGw6n"
      },
      "source": [
        "Расчитаем RMSE."
      ]
    },
    {
      "cell_type": "code",
      "execution_count": null,
      "metadata": {
        "colab": {
          "base_uri": "https://localhost:8080/"
        },
        "id": "FSqFSdT9kljj",
        "outputId": "571849dd-d7f8-4c14-d9d3-92f77b37393d"
      },
      "outputs": [
        {
          "output_type": "execute_result",
          "data": {
            "text/plain": [
              "3089.479221803026"
            ]
          },
          "metadata": {},
          "execution_count": 53
        }
      ],
      "source": [
        "rmse_lasso = mean_squared_error(target_valid, lasso_pred)**(.5)\n",
        "rmse_lasso"
      ]
    },
    {
      "cell_type": "markdown",
      "metadata": {
        "id": "CragE-pSzwsZ"
      },
      "source": [
        "Применим модель LightGBM."
      ]
    },
    {
      "cell_type": "code",
      "execution_count": null,
      "metadata": {
        "colab": {
          "base_uri": "https://localhost:8080/"
        },
        "id": "GC_kmNCTHtV2",
        "outputId": "95ea6044-5351-48d1-ec44-3cb216369437"
      },
      "outputs": [
        {
          "output_type": "stream",
          "name": "stdout",
          "text": [
            "CPU times: user 5.48 s, sys: 38.2 ms, total: 5.52 s\n",
            "Wall time: 4.27 s\n"
          ]
        },
        {
          "output_type": "execute_result",
          "data": {
            "text/plain": [
              "LGBMRegressor()"
            ]
          },
          "metadata": {},
          "execution_count": 54
        }
      ],
      "source": [
        "%%time\n",
        "model_lgb = LGBMRegressor()\n",
        "model_lgb.fit(features_train_lab, target_train)"
      ]
    },
    {
      "cell_type": "code",
      "execution_count": null,
      "metadata": {
        "colab": {
          "base_uri": "https://localhost:8080/"
        },
        "id": "jgD-biIgGV5R",
        "outputId": "9dd7f2f7-64c8-409d-c7fd-dc66d8662f52"
      },
      "outputs": [
        {
          "output_type": "stream",
          "name": "stdout",
          "text": [
            "CPU times: user 510 ms, sys: 2.56 ms, total: 512 ms\n",
            "Wall time: 274 ms\n"
          ]
        }
      ],
      "source": [
        "%%time\n",
        "lgb_pred = model_lgb.predict(features_valid_lab)"
      ]
    },
    {
      "cell_type": "code",
      "execution_count": null,
      "metadata": {
        "colab": {
          "base_uri": "https://localhost:8080/",
          "height": 265
        },
        "id": "oaKQQx_V-PFK",
        "outputId": "39f73289-c434-4fb8-8a3c-ddd5900d6486"
      },
      "outputs": [
        {
          "output_type": "display_data",
          "data": {
            "text/plain": [
              "<Figure size 432x288 with 1 Axes>"
            ],
            "image/png": "[encoded data removed]"
          },
          "metadata": {
            "needs_background": "light"
          }
        }
      ],
      "source": [
        "imp_lgb = model_lgb.feature_importances_\n",
        "feature_lgb_importances = pd.Series(imp_lgb, X.columns)\n",
        "feature_lgb_importances.sort_values().plot(kind='barh', color='teal')\n",
        "plt.show()"
      ]
    },
    {
      "cell_type": "markdown",
      "metadata": {
        "id": "U7nV9lgrkc1z"
      },
      "source": [
        "Для модели LightGBM самые важные признаки - год регистрации мощность и бренд."
      ]
    },
    {
      "cell_type": "code",
      "execution_count": null,
      "metadata": {
        "colab": {
          "base_uri": "https://localhost:8080/"
        },
        "id": "xj9I0a--JZ1o",
        "outputId": "81398650-6983-4eeb-80ca-11b16c0202ee"
      },
      "outputs": [
        {
          "output_type": "execute_result",
          "data": {
            "text/plain": [
              "1693.6685261017797"
            ]
          },
          "metadata": {},
          "execution_count": 57
        }
      ],
      "source": [
        "rmse_lgb = mean_squared_error(target_valid, lgb_pred)**(.5)\n",
        "rmse_lgb"
      ]
    },
    {
      "cell_type": "code",
      "execution_count": null,
      "metadata": {
        "colab": {
          "base_uri": "https://localhost:8080/"
        },
        "id": "i053KVGuKWWf",
        "outputId": "b343839e-62e4-46e8-af29-4f2f79347f21"
      },
      "outputs": [
        {
          "output_type": "stream",
          "name": "stdout",
          "text": [
            "CPU times: user 45.3 s, sys: 2.78 s, total: 48.1 s\n",
            "Wall time: 29.5 s\n"
          ]
        },
        {
          "output_type": "execute_result",
          "data": {
            "text/plain": [
              "<catboost.core.CatBoostRegressor at 0x7ff8006b6610>"
            ]
          },
          "metadata": {},
          "execution_count": 58
        }
      ],
      "source": [
        "%%time\n",
        "cat = CatBoostRegressor(loss_function='RMSE')\n",
        "cat.fit(features_train_lab, target_train, verbose=False)"
      ]
    },
    {
      "cell_type": "code",
      "execution_count": null,
      "metadata": {
        "colab": {
          "base_uri": "https://localhost:8080/"
        },
        "id": "Dvdy819iGfrB",
        "outputId": "200b1a4a-a5b0-47ef-904b-91fe92255f41"
      },
      "outputs": [
        {
          "output_type": "stream",
          "name": "stdout",
          "text": [
            "CPU times: user 113 ms, sys: 3.84 ms, total: 117 ms\n",
            "Wall time: 105 ms\n"
          ]
        }
      ],
      "source": [
        "%%time\n",
        "preds = cat.predict(features_valid_lab)"
      ]
    },
    {
      "cell_type": "code",
      "execution_count": null,
      "metadata": {
        "colab": {
          "base_uri": "https://localhost:8080/",
          "height": 265
        },
        "id": "cwJQ0e-B-uDy",
        "outputId": "4b0d3500-6db0-43c4-b1c3-d1c37ede3b67"
      },
      "outputs": [
        {
          "output_type": "display_data",
          "data": {
            "text/plain": [
              "<Figure size 432x288 with 1 Axes>"
            ],
            "image/png": "[encoded data removed]"
          },
          "metadata": {
            "needs_background": "light"
          }
        }
      ],
      "source": [
        "imp_cat = cat.feature_importances_\n",
        "feature_cat_importances = pd.Series(imp_cat, X.columns)\n",
        "feature_cat_importances.sort_values().plot(kind='barh', color='teal')\n",
        "plt.show()"
      ]
    },
    {
      "cell_type": "markdown",
      "metadata": {
        "id": "P9yA-7xon13K"
      },
      "source": [
        "Для модели Catboost самыми важными признаками являются год регистрации и пробег."
      ]
    },
    {
      "cell_type": "code",
      "execution_count": null,
      "metadata": {
        "colab": {
          "base_uri": "https://localhost:8080/"
        },
        "id": "hXArMpPHKWQc",
        "outputId": "f886c212-6e51-4eae-9e82-f3edf3ebb0b4"
      },
      "outputs": [
        {
          "output_type": "execute_result",
          "data": {
            "text/plain": [
              "1601.5399237825698"
            ]
          },
          "metadata": {},
          "execution_count": 61
        }
      ],
      "source": [
        "rmse_cat = mean_squared_error(target_valid, preds)**(.5)\n",
        "rmse_cat"
      ]
    },
    {
      "cell_type": "markdown",
      "metadata": {
        "id": "p5KK24oP44qc"
      },
      "source": [
        "Рассмотрим модель - \"Случайный лес\"."
      ]
    },
    {
      "cell_type": "code",
      "execution_count": null,
      "metadata": {
        "colab": {
          "base_uri": "https://localhost:8080/"
        },
        "id": "Y3TVCQFWRGkt",
        "outputId": "3bc46e13-653a-405a-c631-675ecd50ba91"
      },
      "outputs": [
        {
          "name": "stdout",
          "output_type": "stream",
          "text": [
            "Fitting 3 folds for each of 42 candidates, totalling 126 fits\n"
          ]
        },
        {
          "data": {
            "text/plain": [
              "{'max_depth': 6, 'n_estimators': 70}"
            ]
          },
          "execution_count": 63,
          "metadata": {},
          "output_type": "execute_result"
        }
      ],
      "source": [
        "clf = RandomForestRegressor(random_state=189)\n",
        "n_estimators = range(10, 80, 10)\n",
        "max_depth = range(1, 7)\n",
        "param_dist = {'n_estimators': n_estimators,\n",
        "              'max_depth': max_depth,\n",
        "}\n",
        "gs = GridSearchCV(clf, param_dist, cv = 3, verbose = 1, n_jobs=-1, scoring=mse)\n",
        "gs.fit(features_train_lab, target_train)\n",
        "gs.best_params_"
      ]
    },
    {
      "cell_type": "code",
      "execution_count": null,
      "metadata": {
        "colab": {
          "base_uri": "https://localhost:8080/"
        },
        "id": "Ac8aWRtuIbgq",
        "outputId": "d58d59e4-9a00-42fa-bc45-0c2c02bd8b53"
      },
      "outputs": [
        {
          "data": {
            "text/plain": [
              "RandomForestRegressor(max_depth=6, n_estimators=70, random_state=189)"
            ]
          },
          "execution_count": 64,
          "metadata": {},
          "output_type": "execute_result"
        }
      ],
      "source": [
        "model_rfr = clf.set_params(**gs.best_params_)\n",
        "model_rfr"
      ]
    },
    {
      "cell_type": "code",
      "execution_count": null,
      "metadata": {
        "colab": {
          "base_uri": "https://localhost:8080/"
        },
        "id": "n1Dw7WLTIbbn",
        "outputId": "874bbcfc-4d67-4c76-d588-86f3275655b7"
      },
      "outputs": [
        {
          "name": "stdout",
          "output_type": "stream",
          "text": [
            "CPU times: user 15 s, sys: 16.5 ms, total: 15 s\n",
            "Wall time: 15.1 s\n"
          ]
        },
        {
          "data": {
            "text/plain": [
              "RandomForestRegressor(max_depth=6, n_estimators=70, random_state=189)"
            ]
          },
          "execution_count": 65,
          "metadata": {},
          "output_type": "execute_result"
        }
      ],
      "source": [
        "# %%time\n",
        "# model_rfr.fit(features_train_lab, target_train)"
      ]
    },
    {
      "cell_type": "code",
      "execution_count": null,
      "metadata": {
        "colab": {
          "base_uri": "https://localhost:8080/"
        },
        "id": "DengY2UsIbXC",
        "outputId": "827c7000-3a46-4a80-9286-28acea95808a"
      },
      "outputs": [
        {
          "name": "stdout",
          "output_type": "stream",
          "text": [
            "CPU times: user 278 ms, sys: 848 µs, total: 279 ms\n",
            "Wall time: 279 ms\n"
          ]
        },
        {
          "data": {
            "text/plain": [
              "array([ 1900.70967585, 10850.89206036, 12671.12380546, ...,\n",
              "        1907.86300677,  1552.73900525,  1552.73900525])"
            ]
          },
          "execution_count": 66,
          "metadata": {},
          "output_type": "execute_result"
        }
      ],
      "source": [
        "%%time\n",
        "model_rfr.predict(features_valid_lab)"
      ]
    },
    {
      "cell_type": "code",
      "execution_count": null,
      "metadata": {
        "colab": {
          "base_uri": "https://localhost:8080/",
          "height": 265
        },
        "id": "t2aKlDsdI-85",
        "outputId": "9bf4e362-d229-4e88-9b79-dbf9f961333c"
      },
      "outputs": [
        {
          "data": {
            "image/png": "[encoded data removed]",
            "text/plain": [
              "<Figure size 432x288 with 1 Axes>"
            ]
          },
          "metadata": {
            "needs_background": "light"
          },
          "output_type": "display_data"
        }
      ],
      "source": [
        "imp_rfr = model_rfr.feature_importances_\n",
        "feature_rfr_importances = pd.Series(imp_rfr, X.columns)\n",
        "feature_rfr_importances.sort_values().plot(kind='barh', color='teal')\n",
        "plt.show()"
      ]
    },
    {
      "cell_type": "markdown",
      "metadata": {
        "id": "wktugY7KqqLQ"
      },
      "source": [
        "Для случайного леса важные параметры - год регистрации и мощность автомобиля."
      ]
    },
    {
      "cell_type": "code",
      "execution_count": null,
      "metadata": {
        "colab": {
          "base_uri": "https://localhost:8080/"
        },
        "id": "IWkrocY7EGcU",
        "outputId": "2b2de5fb-e31c-4942-a06f-7dd6f192f402"
      },
      "outputs": [
        {
          "data": {
            "text/plain": [
              "2209.0929120442684"
            ]
          },
          "execution_count": 70,
          "metadata": {},
          "output_type": "execute_result"
        }
      ],
      "source": [
        "rmse_forest = (-gs.best_score_)**0.5\n",
        "rmse_forest"
      ]
    },
    {
      "cell_type": "markdown",
      "metadata": {
        "id": "3UDpDNYz5MxP"
      },
      "source": [
        "В данном разделе мы рассмотрели несколько моделей:\n",
        "\n",
        "- DecisionTree\n",
        "\n",
        "- Ridge\n",
        "\n",
        "- Lasso\n",
        "\n",
        "- RandomForestRegression\n",
        "\n",
        "- LinearRegression\n",
        "\n",
        "Модели бустинга:\n",
        "\n",
        "- LightGBM\n",
        "\n",
        "- CatBoostRegressor\n",
        "\n",
        "Расчитали метрики RMSE и время выполнения моделей. Для каждой модели различается важность признаков. В основном это дата регистрации автомобиля и пробег."
      ]
    },
    {
      "cell_type": "markdown",
      "metadata": {
        "id": "2sDDeOQ_Se25"
      },
      "source": [
        "## Анализ моделей"
      ]
    },
    {
      "cell_type": "markdown",
      "metadata": {
        "id": "yuLe8zgZTjEi"
      },
      "source": [
        "Проанализируем модели и найдем лучшую по метрике и времени выполнения. По условию RMSE должно быть меньше 2500."
      ]
    },
    {
      "cell_type": "code",
      "execution_count": null,
      "metadata": {
        "colab": {
          "base_uri": "https://localhost:8080/",
          "height": 269
        },
        "id": "_s5bDv8sPAw-",
        "outputId": "5fcc2ef2-1b5c-4d9b-b3a5-e51e087e67f7"
      },
      "outputs": [
        {
          "output_type": "execute_result",
          "data": {
            "text/plain": [
              "                    Model         RMSE Fit Time Predict Time\n",
              "0            DecisionTree  1966.259345   873 ms      20,7 ms\n",
              "1                   Ridge  3327.339442   296 ms      7,65 ms\n",
              "2                   Lasso  3089.479222  54,9 ms        13 ms\n",
              "3  RandomForestRegression  2209.000000   15,1 s       279 ms\n",
              "4        LinearRegression  2862.034920   8.7 ms      98.5 ms\n",
              "5                LightGBM  1693.668526    1,6 s       294 ms\n",
              "6       CatBoostRegressor  1601.539924   31,4 s      73,5 ms"
            ],
            "text/html": [
              "\n",
              "  <div id=\"df-f5547752-0737-4764-a7b9-c4e3e48d1472\">\n",
              "    <div class=\"colab-df-container\">\n",
              "      <div>\n",
              "<style scoped>\n",
              "    .dataframe tbody tr th:only-of-type {\n",
              "        vertical-align: middle;\n",
              "    }\n",
              "\n",
              "    .dataframe tbody tr th {\n",
              "        vertical-align: top;\n",
              "    }\n",
              "\n",
              "    .dataframe thead th {\n",
              "        text-align: right;\n",
              "    }\n",
              "</style>\n",
              "<table border=\"1\" class=\"dataframe\">\n",
              "  <thead>\n",
              "    <tr style=\"text-align: right;\">\n",
              "      <th></th>\n",
              "      <th>Model</th>\n",
              "      <th>RMSE</th>\n",
              "      <th>Fit Time</th>\n",
              "      <th>Predict Time</th>\n",
              "    </tr>\n",
              "  </thead>\n",
              "  <tbody>\n",
              "    <tr>\n",
              "      <th>0</th>\n",
              "      <td>DecisionTree</td>\n",
              "      <td>1966.259345</td>\n",
              "      <td>873 ms</td>\n",
              "      <td>20,7 ms</td>\n",
              "    </tr>\n",
              "    <tr>\n",
              "      <th>1</th>\n",
              "      <td>Ridge</td>\n",
              "      <td>3327.339442</td>\n",
              "      <td>296 ms</td>\n",
              "      <td>7,65 ms</td>\n",
              "    </tr>\n",
              "    <tr>\n",
              "      <th>2</th>\n",
              "      <td>Lasso</td>\n",
              "      <td>3089.479222</td>\n",
              "      <td>54,9 ms</td>\n",
              "      <td>13 ms</td>\n",
              "    </tr>\n",
              "    <tr>\n",
              "      <th>3</th>\n",
              "      <td>RandomForestRegression</td>\n",
              "      <td>2209.000000</td>\n",
              "      <td>15,1 s</td>\n",
              "      <td>279 ms</td>\n",
              "    </tr>\n",
              "    <tr>\n",
              "      <th>4</th>\n",
              "      <td>LinearRegression</td>\n",
              "      <td>2862.034920</td>\n",
              "      <td>8.7 ms</td>\n",
              "      <td>98.5 ms</td>\n",
              "    </tr>\n",
              "    <tr>\n",
              "      <th>5</th>\n",
              "      <td>LightGBM</td>\n",
              "      <td>1693.668526</td>\n",
              "      <td>1,6 s</td>\n",
              "      <td>294 ms</td>\n",
              "    </tr>\n",
              "    <tr>\n",
              "      <th>6</th>\n",
              "      <td>CatBoostRegressor</td>\n",
              "      <td>1601.539924</td>\n",
              "      <td>31,4 s</td>\n",
              "      <td>73,5 ms</td>\n",
              "    </tr>\n",
              "  </tbody>\n",
              "</table>\n",
              "</div>\n",
              "      <button class=\"colab-df-convert\" onclick=\"convertToInteractive('df-f5547752-0737-4764-a7b9-c4e3e48d1472')\"\n",
              "              title=\"Convert this dataframe to an interactive table.\"\n",
              "              style=\"display:none;\">\n",
              "        \n",
              "  <svg xmlns=\"http://www.w3.org/2000/svg\" height=\"24px\"viewBox=\"0 0 24 24\"\n",
              "       width=\"24px\">\n",
              "    <path d=\"M0 0h24v24H0V0z\" fill=\"none\"/>\n",
              "    <path d=\"M18.56 5.44l.94 2.06.94-2.06 2.06-.94-2.06-.94-.94-2.06-.94 2.06-2.06.94zm-11 1L8.5 8.5l.94-2.06 2.06-.94-2.06-.94L8.5 2.5l-.94 2.06-2.06.94zm10 10l.94 2.06.94-2.06 2.06-.94-2.06-.94-.94-2.06-.94 2.06-2.06.94z\"/><path d=\"M17.41 7.96l-1.37-1.37c-.4-.4-.92-.59-1.43-.59-.52 0-1.04.2-1.43.59L10.3 9.45l-7.72 7.72c-.78.78-.78 2.05 0 2.83L4 21.41c.39.39.9.59 1.41.59.51 0 1.02-.2 1.41-.59l7.78-7.78 2.81-2.81c.8-.78.8-2.07 0-2.86zM5.41 20L4 18.59l7.72-7.72 1.47 1.35L5.41 20z\"/>\n",
              "  </svg>\n",
              "      </button>\n",
              "      \n",
              "  <style>\n",
              "    .colab-df-container {\n",
              "      display:flex;\n",
              "      flex-wrap:wrap;\n",
              "      gap: 12px;\n",
              "    }\n",
              "\n",
              "    .colab-df-convert {\n",
              "      background-color: #E8F0FE;\n",
              "      border: none;\n",
              "      border-radius: 50%;\n",
              "      cursor: pointer;\n",
              "      display: none;\n",
              "      fill: #1967D2;\n",
              "      height: 32px;\n",
              "      padding: 0 0 0 0;\n",
              "      width: 32px;\n",
              "    }\n",
              "\n",
              "    .colab-df-convert:hover {\n",
              "      background-color: #E2EBFA;\n",
              "      box-shadow: 0px 1px 2px rgba(60, 64, 67, 0.3), 0px 1px 3px 1px rgba(60, 64, 67, 0.15);\n",
              "      fill: #174EA6;\n",
              "    }\n",
              "\n",
              "    [theme=dark] .colab-df-convert {\n",
              "      background-color: #3B4455;\n",
              "      fill: #D2E3FC;\n",
              "    }\n",
              "\n",
              "    [theme=dark] .colab-df-convert:hover {\n",
              "      background-color: #434B5C;\n",
              "      box-shadow: 0px 1px 3px 1px rgba(0, 0, 0, 0.15);\n",
              "      filter: drop-shadow(0px 1px 2px rgba(0, 0, 0, 0.3));\n",
              "      fill: #FFFFFF;\n",
              "    }\n",
              "  </style>\n",
              "\n",
              "      <script>\n",
              "        const buttonEl =\n",
              "          document.querySelector('#df-f5547752-0737-4764-a7b9-c4e3e48d1472 button.colab-df-convert');\n",
              "        buttonEl.style.display =\n",
              "          google.colab.kernel.accessAllowed ? 'block' : 'none';\n",
              "\n",
              "        async function convertToInteractive(key) {\n",
              "          const element = document.querySelector('#df-f5547752-0737-4764-a7b9-c4e3e48d1472');\n",
              "          const dataTable =\n",
              "            await google.colab.kernel.invokeFunction('convertToInteractive',\n",
              "                                                     [key], {});\n",
              "          if (!dataTable) return;\n",
              "\n",
              "          const docLinkHtml = 'Like what you see? Visit the ' +\n",
              "            '<a target=\"_blank\" href=https://colab.research.google.com/notebooks/data_table.ipynb>data table notebook</a>'\n",
              "            + ' to learn more about interactive tables.';\n",
              "          element.innerHTML = '';\n",
              "          dataTable['output_type'] = 'display_data';\n",
              "          await google.colab.output.renderOutput(dataTable, element);\n",
              "          const docLink = document.createElement('div');\n",
              "          docLink.innerHTML = docLinkHtml;\n",
              "          element.appendChild(docLink);\n",
              "        }\n",
              "      </script>\n",
              "    </div>\n",
              "  </div>\n",
              "  "
            ]
          },
          "metadata": {},
          "execution_count": 62
        }
      ],
      "source": [
        "col = {\n",
        "    'Model': ['DecisionTree', 'Ridge', 'Lasso', 'RandomForestRegression', 'LinearRegression', 'LightGBM', 'CatBoostRegressor'],\n",
        "    'RMSE': [rmse_dtr, rmse_ridge, rmse_lasso, 2209, rmse_linreg, rmse_lgb, rmse_cat],\n",
        "    'Fit Time': ['873 ms', '296 ms', '54,9 ms', '15,1 s', '8.7 ms', '1,6 s', '31,4 s'],\n",
        "    'Predict Time': ['20,7 ms', '7,65 ms', '13 ms', '279 ms', '98.5 ms', '294 ms', '73,5 ms'],\n",
        "}\n",
        "final_scoring = pd.DataFrame(data=col)\n",
        "final_scoring"
      ]
    },
    {
      "cell_type": "markdown",
      "metadata": {
        "id": "fDSilOuW8BPQ"
      },
      "source": [
        "Дольше всего выполняется модель CatBoost. Быстрее всего - Лассо. Лучшие метрики у моделей бустинга. У модели LightGBM лучшее быстродействие 1.6s. Но RMSE лучше у CatBoost = 1601.\n"
      ]
    },
    {
      "cell_type": "markdown",
      "metadata": {
        "id": "Owz-1AP69XzE"
      },
      "source": [
        "Проверим модели на тестовой выборке."
      ]
    },
    {
      "cell_type": "code",
      "execution_count": null,
      "metadata": {
        "colab": {
          "base_uri": "https://localhost:8080/"
        },
        "id": "eCXbbxhM9ZJH",
        "outputId": "a8d3cc74-714c-4579-a8ef-04c5817236e8"
      },
      "outputs": [
        {
          "name": "stdout",
          "output_type": "stream",
          "text": [
            "CPU times: user 142 ms, sys: 0 ns, total: 142 ms\n",
            "Wall time: 125 ms\n"
          ]
        },
        {
          "data": {
            "text/plain": [
              "1574.155590565021"
            ]
          },
          "execution_count": 75,
          "metadata": {},
          "output_type": "execute_result"
        }
      ],
      "source": [
        "%%time\n",
        "pred_test = cat.predict(features_test_lab)\n",
        "rmse_test = mean_squared_error(target_test, pred_test)**(.5)\n",
        "rmse_test"
      ]
    },
    {
      "cell_type": "markdown",
      "metadata": {
        "id": "URztxuHz-Bqt"
      },
      "source": [
        "На тестовой выборке модель выдала хороший результат RMSE=1574."
      ]
    },
    {
      "cell_type": "code",
      "execution_count": null,
      "metadata": {
        "colab": {
          "base_uri": "https://localhost:8080/",
          "height": 265
        },
        "id": "S3rLFwGHurhd",
        "outputId": "c0e08d6c-fe21-4c09-dc18-aad51ba7da6c"
      },
      "outputs": [
        {
          "data": {
            "image/png": "[encoded data removed]",
            "text/plain": [
              "<Figure size 432x288 with 1 Axes>"
            ]
          },
          "metadata": {
            "needs_background": "light"
          },
          "output_type": "display_data"
        }
      ],
      "source": [
        "imp_cat_test = cat.feature_importances_\n",
        "feature_cat_test_importances = pd.Series(imp_cat_test, features_test_lab.columns)\n",
        "feature_cat_test_importances.sort_values().plot(kind='barh', color='teal')\n",
        "plt.show()"
      ]
    },
    {
      "cell_type": "markdown",
      "metadata": {
        "id": "8jQtspMU-ZMT"
      },
      "source": [
        "## Выводы."
      ]
    },
    {
      "cell_type": "markdown",
      "metadata": {
        "id": "XuUHdCbB-jxQ"
      },
      "source": [
        "Мы проанализировали датасэт с данными об автомобилях. Целью задачи было построение модели предсказания цены автомобиля.\n",
        "\n",
        "На этапе предобработки данных:\n",
        "\n",
        "- удалили аномальные значения.\n",
        "\n",
        "- заполнили пропуски.\n",
        "\n",
        "- удалили неинформативные столбцы с датами и количеством фото.\n",
        "\n",
        "На этапе обучения моделей рассмотрели:\n",
        "\n",
        "- DecisionTree\n",
        "\n",
        "- Ridge\n",
        "\n",
        "- Lasso\n",
        "\n",
        "- RandomForestRegression\n",
        "\n",
        "- LinearRegression\n",
        "\n",
        "Модели бустинга:\n",
        "\n",
        "- LightGBM\n",
        "\n",
        "- CatBoostRegressor\n",
        "\n",
        "Расчитали метрики RMSE и время выполнения моделей. Узнали важность признаков для каждой модели.\n",
        "\n",
        "Лучший результат показала модель CatBoostRegressor RMSE=1574. Проверка на тестовой выборке подтвердила результат. \n",
        "\n",
        "Самые важные признаки для этой модели:\n",
        "\n",
        "- год регистрации\n",
        "\n",
        "- мощность\n",
        "\n",
        "- пробег\n",
        "\n",
        "- бренд"
      ]
    },
    {
      "cell_type": "code",
      "execution_count": null,
      "metadata": {
        "id": "zIMu6YKySe28"
      },
      "outputs": [],
      "source": []
    }
  ],
  "metadata": {
    "ExecuteTimeLog": [
      {
        "duration": 394,
        "start_time": "2023-02-01T06:01:51.469Z"
      },
      {
        "duration": 1056,
        "start_time": "2023-02-01T06:01:52.081Z"
      },
      {
        "duration": 106,
        "start_time": "2023-02-01T06:02:14.309Z"
      },
      {
        "duration": 19,
        "start_time": "2023-02-01T06:02:39.008Z"
      },
      {
        "duration": 59,
        "start_time": "2023-02-01T06:26:22.739Z"
      },
      {
        "duration": 28,
        "start_time": "2023-02-01T06:27:06.971Z"
      },
      {
        "duration": 2,
        "start_time": "2023-02-01T06:36:15.063Z"
      },
      {
        "duration": 761,
        "start_time": "2023-02-01T06:36:16.443Z"
      },
      {
        "duration": 99,
        "start_time": "2023-02-01T06:36:17.651Z"
      },
      {
        "duration": 13,
        "start_time": "2023-02-01T06:36:24.690Z"
      },
      {
        "duration": 881,
        "start_time": "2023-02-01T06:39:05.343Z"
      },
      {
        "duration": 173,
        "start_time": "2023-02-01T06:40:45.180Z"
      },
      {
        "duration": 8,
        "start_time": "2023-02-01T06:41:55.171Z"
      },
      {
        "duration": 4121,
        "start_time": "2023-02-01T06:42:19.799Z"
      },
      {
        "duration": 46,
        "start_time": "2023-02-02T07:42:15.728Z"
      },
      {
        "duration": 397,
        "start_time": "2023-02-02T07:42:21.652Z"
      },
      {
        "duration": 984,
        "start_time": "2023-02-02T07:42:22.979Z"
      },
      {
        "duration": 135,
        "start_time": "2023-02-02T07:42:24.809Z"
      },
      {
        "duration": 17,
        "start_time": "2023-02-02T07:42:26.722Z"
      },
      {
        "duration": 973,
        "start_time": "2023-02-02T07:42:27.552Z"
      },
      {
        "duration": 3,
        "start_time": "2023-02-02T07:42:28.808Z"
      },
      {
        "duration": 147,
        "start_time": "2023-02-02T07:43:07.083Z"
      },
      {
        "duration": 55,
        "start_time": "2023-02-02T07:47:55.487Z"
      },
      {
        "duration": 120,
        "start_time": "2023-02-02T07:48:09.170Z"
      },
      {
        "duration": 3,
        "start_time": "2023-02-02T07:53:38.728Z"
      },
      {
        "duration": 43,
        "start_time": "2023-02-02T07:55:33.316Z"
      },
      {
        "duration": 92,
        "start_time": "2023-02-02T07:55:43.747Z"
      },
      {
        "duration": 63,
        "start_time": "2023-02-02T08:00:17.111Z"
      },
      {
        "duration": 34,
        "start_time": "2023-02-02T08:04:17.161Z"
      },
      {
        "duration": 69,
        "start_time": "2023-02-02T08:04:18.267Z"
      },
      {
        "duration": 55,
        "start_time": "2023-02-02T08:04:21.486Z"
      },
      {
        "duration": 25,
        "start_time": "2023-02-02T08:06:26.648Z"
      },
      {
        "duration": 64,
        "start_time": "2023-02-02T08:06:28.047Z"
      },
      {
        "duration": 51,
        "start_time": "2023-02-02T08:07:05.289Z"
      },
      {
        "duration": 737,
        "start_time": "2023-02-02T08:15:32.421Z"
      },
      {
        "duration": 45,
        "start_time": "2023-02-02T08:15:46.385Z"
      },
      {
        "duration": 70,
        "start_time": "2023-02-02T08:15:48.301Z"
      },
      {
        "duration": 808,
        "start_time": "2023-02-02T08:16:45.082Z"
      },
      {
        "duration": 52,
        "start_time": "2023-02-02T08:16:49.587Z"
      },
      {
        "duration": 90,
        "start_time": "2023-02-02T08:16:50.673Z"
      },
      {
        "duration": 58,
        "start_time": "2023-02-02T08:17:28.442Z"
      },
      {
        "duration": 732,
        "start_time": "2023-02-02T08:18:22.402Z"
      },
      {
        "duration": 50,
        "start_time": "2023-02-02T08:18:28.361Z"
      },
      {
        "duration": 100,
        "start_time": "2023-02-02T08:18:32.242Z"
      },
      {
        "duration": 58,
        "start_time": "2023-02-02T08:19:09.062Z"
      },
      {
        "duration": 99,
        "start_time": "2023-02-02T08:19:53.129Z"
      },
      {
        "duration": 350,
        "start_time": "2023-02-03T06:39:21.648Z"
      },
      {
        "duration": 2752,
        "start_time": "2023-02-03T06:39:25.711Z"
      },
      {
        "duration": 151,
        "start_time": "2023-02-03T06:39:33.546Z"
      },
      {
        "duration": 21,
        "start_time": "2023-02-03T06:39:40.986Z"
      },
      {
        "duration": 95,
        "start_time": "2023-02-03T06:39:44.909Z"
      },
      {
        "duration": 26,
        "start_time": "2023-02-03T06:42:14.014Z"
      },
      {
        "duration": 33,
        "start_time": "2023-02-03T06:43:15.429Z"
      },
      {
        "duration": 67,
        "start_time": "2023-02-03T06:43:57.668Z"
      },
      {
        "duration": 49,
        "start_time": "2023-02-03T06:44:21.029Z"
      },
      {
        "duration": 68,
        "start_time": "2023-02-03T06:46:08.052Z"
      },
      {
        "duration": 3,
        "start_time": "2023-02-03T06:57:40.249Z"
      },
      {
        "duration": 770,
        "start_time": "2023-02-03T06:57:40.828Z"
      },
      {
        "duration": 132,
        "start_time": "2023-02-03T06:57:41.600Z"
      },
      {
        "duration": 13,
        "start_time": "2023-02-03T06:57:42.429Z"
      },
      {
        "duration": 76,
        "start_time": "2023-02-03T06:57:42.828Z"
      },
      {
        "duration": 16,
        "start_time": "2023-02-03T06:57:43.249Z"
      },
      {
        "duration": 23,
        "start_time": "2023-02-03T06:57:43.688Z"
      },
      {
        "duration": 71,
        "start_time": "2023-02-03T06:57:44.511Z"
      },
      {
        "duration": 39,
        "start_time": "2023-02-03T06:57:45.781Z"
      },
      {
        "duration": 3,
        "start_time": "2023-02-03T06:57:49.468Z"
      },
      {
        "duration": 11,
        "start_time": "2023-02-03T06:57:50.816Z"
      },
      {
        "duration": 60,
        "start_time": "2023-02-03T07:00:16.412Z"
      },
      {
        "duration": 15,
        "start_time": "2023-02-03T07:56:21.695Z"
      },
      {
        "duration": 5,
        "start_time": "2023-02-03T07:57:25.461Z"
      },
      {
        "duration": 14,
        "start_time": "2023-02-03T07:57:57.601Z"
      },
      {
        "duration": 16,
        "start_time": "2023-02-03T07:58:31.156Z"
      },
      {
        "duration": 15,
        "start_time": "2023-02-03T07:59:02.700Z"
      },
      {
        "duration": 17,
        "start_time": "2023-02-03T07:59:45.368Z"
      },
      {
        "duration": 16,
        "start_time": "2023-02-03T08:00:51.452Z"
      },
      {
        "duration": 15,
        "start_time": "2023-02-03T08:01:12.516Z"
      },
      {
        "duration": 16,
        "start_time": "2023-02-03T08:01:14.580Z"
      },
      {
        "duration": 373,
        "start_time": "2023-02-03T11:45:59.725Z"
      },
      {
        "duration": 1118,
        "start_time": "2023-02-03T11:46:00.573Z"
      },
      {
        "duration": 144,
        "start_time": "2023-02-03T11:46:01.693Z"
      },
      {
        "duration": 21,
        "start_time": "2023-02-03T11:46:02.077Z"
      },
      {
        "duration": 100,
        "start_time": "2023-02-03T11:46:02.664Z"
      },
      {
        "duration": 30,
        "start_time": "2023-02-03T11:46:03.165Z"
      },
      {
        "duration": 30,
        "start_time": "2023-02-03T11:46:03.513Z"
      },
      {
        "duration": 62,
        "start_time": "2023-02-03T11:46:03.809Z"
      },
      {
        "duration": 55,
        "start_time": "2023-02-03T11:46:04.171Z"
      },
      {
        "duration": 61,
        "start_time": "2023-02-03T11:46:04.965Z"
      },
      {
        "duration": 14,
        "start_time": "2023-02-03T11:46:05.593Z"
      },
      {
        "duration": 14,
        "start_time": "2023-02-03T11:46:06.293Z"
      },
      {
        "duration": 2,
        "start_time": "2023-02-03T11:46:07.001Z"
      },
      {
        "duration": 32,
        "start_time": "2023-02-03T11:47:24.466Z"
      },
      {
        "duration": 24,
        "start_time": "2023-02-03T11:48:40.494Z"
      },
      {
        "duration": 39,
        "start_time": "2023-02-03T11:49:56.051Z"
      },
      {
        "duration": 27,
        "start_time": "2023-02-03T11:53:00.273Z"
      },
      {
        "duration": 61,
        "start_time": "2023-02-03T11:53:13.273Z"
      },
      {
        "duration": 75,
        "start_time": "2023-02-03T12:26:27.793Z"
      },
      {
        "duration": 175,
        "start_time": "2023-02-03T12:28:08.272Z"
      },
      {
        "duration": 9,
        "start_time": "2023-02-03T14:53:29.585Z"
      },
      {
        "duration": 7,
        "start_time": "2023-02-03T14:53:48.557Z"
      },
      {
        "duration": 132,
        "start_time": "2023-02-03T14:55:25.689Z"
      },
      {
        "duration": 15,
        "start_time": "2023-02-03T14:56:15.081Z"
      },
      {
        "duration": 111,
        "start_time": "2023-02-03T14:57:23.224Z"
      },
      {
        "duration": 155,
        "start_time": "2023-02-03T14:57:35.532Z"
      },
      {
        "duration": 13,
        "start_time": "2023-02-03T14:59:27.386Z"
      },
      {
        "duration": 4,
        "start_time": "2023-02-03T15:00:03.120Z"
      },
      {
        "duration": 194,
        "start_time": "2023-02-03T15:03:46.731Z"
      },
      {
        "duration": 191,
        "start_time": "2023-02-03T15:06:02.420Z"
      },
      {
        "duration": 14,
        "start_time": "2023-02-03T15:07:30.338Z"
      },
      {
        "duration": 16,
        "start_time": "2023-02-03T15:07:53.607Z"
      },
      {
        "duration": 27,
        "start_time": "2023-02-03T15:08:12.722Z"
      },
      {
        "duration": 9,
        "start_time": "2023-02-03T15:22:35.040Z"
      },
      {
        "duration": 10,
        "start_time": "2023-02-03T15:23:06.733Z"
      },
      {
        "duration": 26,
        "start_time": "2023-02-03T16:41:41.686Z"
      },
      {
        "duration": 54,
        "start_time": "2023-02-03T16:41:57.384Z"
      },
      {
        "duration": 21,
        "start_time": "2023-02-03T16:52:51.333Z"
      },
      {
        "duration": 34,
        "start_time": "2023-02-03T16:53:01.851Z"
      },
      {
        "duration": 2244,
        "start_time": "2023-02-03T16:53:53.334Z"
      },
      {
        "duration": 7005,
        "start_time": "2023-02-03T16:56:06.097Z"
      },
      {
        "duration": 53,
        "start_time": "2023-02-03T16:57:32.415Z"
      },
      {
        "duration": 176,
        "start_time": "2023-02-03T16:59:29.445Z"
      },
      {
        "duration": 13,
        "start_time": "2023-02-03T17:00:56.703Z"
      },
      {
        "duration": 51,
        "start_time": "2023-02-03T17:02:02.945Z"
      },
      {
        "duration": 19,
        "start_time": "2023-02-03T17:03:24.155Z"
      },
      {
        "duration": 772,
        "start_time": "2023-02-03T17:04:19.361Z"
      },
      {
        "duration": 22,
        "start_time": "2023-02-03T17:04:29.610Z"
      },
      {
        "duration": 383,
        "start_time": "2023-02-03T17:05:33.420Z"
      },
      {
        "duration": 766,
        "start_time": "2023-02-03T17:05:34.634Z"
      },
      {
        "duration": 132,
        "start_time": "2023-02-03T17:05:36.571Z"
      },
      {
        "duration": 18,
        "start_time": "2023-02-03T17:05:41.296Z"
      },
      {
        "duration": 91,
        "start_time": "2023-02-03T17:05:45.393Z"
      },
      {
        "duration": 27,
        "start_time": "2023-02-03T17:06:14.213Z"
      },
      {
        "duration": 32,
        "start_time": "2023-02-03T17:06:16.833Z"
      },
      {
        "duration": 62,
        "start_time": "2023-02-03T17:06:18.210Z"
      },
      {
        "duration": 39,
        "start_time": "2023-02-03T17:06:27.504Z"
      },
      {
        "duration": 61,
        "start_time": "2023-02-03T17:06:43.836Z"
      },
      {
        "duration": 14,
        "start_time": "2023-02-03T17:07:17.320Z"
      },
      {
        "duration": 14,
        "start_time": "2023-02-03T17:07:19.447Z"
      },
      {
        "duration": 27,
        "start_time": "2023-02-03T17:07:57.450Z"
      },
      {
        "duration": 29,
        "start_time": "2023-02-03T17:08:26.342Z"
      },
      {
        "duration": 55,
        "start_time": "2023-02-03T17:08:35.195Z"
      },
      {
        "duration": 4,
        "start_time": "2023-02-03T17:09:00.714Z"
      },
      {
        "duration": 114,
        "start_time": "2023-02-03T17:09:16.158Z"
      },
      {
        "duration": 118,
        "start_time": "2023-02-03T17:09:31.370Z"
      },
      {
        "duration": 115,
        "start_time": "2023-02-03T17:09:50.117Z"
      },
      {
        "duration": 26,
        "start_time": "2023-02-03T17:09:57.345Z"
      },
      {
        "duration": 60,
        "start_time": "2023-02-03T17:10:42.001Z"
      },
      {
        "duration": 67,
        "start_time": "2023-02-03T17:10:48.098Z"
      },
      {
        "duration": 3,
        "start_time": "2023-02-03T17:11:50.704Z"
      },
      {
        "duration": 87,
        "start_time": "2023-02-03T17:12:20.582Z"
      },
      {
        "duration": 360,
        "start_time": "2023-02-03T17:14:33.945Z"
      },
      {
        "duration": 210,
        "start_time": "2023-02-03T17:15:01.354Z"
      },
      {
        "duration": 4372,
        "start_time": "2023-02-03T17:16:51.287Z"
      },
      {
        "duration": 4143,
        "start_time": "2023-02-03T17:17:11.471Z"
      },
      {
        "duration": 4,
        "start_time": "2023-02-03T17:17:28.078Z"
      },
      {
        "duration": 2269,
        "start_time": "2023-02-03T17:21:23.666Z"
      },
      {
        "duration": 4,
        "start_time": "2023-02-03T17:22:40.679Z"
      },
      {
        "duration": 2810,
        "start_time": "2023-02-03T17:23:12.944Z"
      },
      {
        "duration": 3205,
        "start_time": "2023-02-03T17:24:24.486Z"
      },
      {
        "duration": 10243,
        "start_time": "2023-02-03T17:45:11.925Z"
      },
      {
        "duration": 11,
        "start_time": "2023-02-03T17:45:36.966Z"
      },
      {
        "duration": 60,
        "start_time": "2023-02-03T17:45:53.098Z"
      },
      {
        "duration": 5,
        "start_time": "2023-02-03T17:48:44.738Z"
      },
      {
        "duration": 10399,
        "start_time": "2023-02-03T17:50:12.639Z"
      },
      {
        "duration": 5,
        "start_time": "2023-02-03T17:50:26.004Z"
      },
      {
        "duration": 413,
        "start_time": "2023-02-04T05:07:14.985Z"
      },
      {
        "duration": 995,
        "start_time": "2023-02-04T05:07:15.833Z"
      },
      {
        "duration": 110,
        "start_time": "2023-02-04T05:07:16.830Z"
      },
      {
        "duration": 18,
        "start_time": "2023-02-04T05:07:18.104Z"
      },
      {
        "duration": 94,
        "start_time": "2023-02-04T05:07:18.691Z"
      },
      {
        "duration": 29,
        "start_time": "2023-02-04T05:07:19.311Z"
      },
      {
        "duration": 33,
        "start_time": "2023-02-04T05:07:19.905Z"
      },
      {
        "duration": 57,
        "start_time": "2023-02-04T05:07:20.434Z"
      },
      {
        "duration": 41,
        "start_time": "2023-02-04T05:07:21.064Z"
      },
      {
        "duration": 55,
        "start_time": "2023-02-04T05:07:21.653Z"
      },
      {
        "duration": 15,
        "start_time": "2023-02-04T05:07:22.289Z"
      },
      {
        "duration": 18,
        "start_time": "2023-02-04T05:07:22.954Z"
      },
      {
        "duration": 26,
        "start_time": "2023-02-04T05:07:23.618Z"
      },
      {
        "duration": 74,
        "start_time": "2023-02-04T05:07:26.486Z"
      },
      {
        "duration": 119,
        "start_time": "2023-02-04T05:07:32.608Z"
      },
      {
        "duration": 24,
        "start_time": "2023-02-04T05:07:34.059Z"
      },
      {
        "duration": 6472,
        "start_time": "2023-02-04T05:07:34.707Z"
      },
      {
        "duration": 10766,
        "start_time": "2023-02-04T05:08:34.799Z"
      },
      {
        "duration": 10245,
        "start_time": "2023-02-04T05:09:11.926Z"
      },
      {
        "duration": 10329,
        "start_time": "2023-02-04T05:09:50.045Z"
      },
      {
        "duration": 10488,
        "start_time": "2023-02-04T05:10:29.873Z"
      },
      {
        "duration": 5,
        "start_time": "2023-02-04T05:10:43.363Z"
      },
      {
        "duration": 35,
        "start_time": "2023-02-04T05:13:48.495Z"
      },
      {
        "duration": 42,
        "start_time": "2023-02-04T05:14:06.005Z"
      },
      {
        "duration": 3855,
        "start_time": "2023-02-04T05:15:24.943Z"
      },
      {
        "duration": 52,
        "start_time": "2023-02-04T05:16:19.774Z"
      },
      {
        "duration": 10681,
        "start_time": "2023-02-04T05:16:43.424Z"
      },
      {
        "duration": 5,
        "start_time": "2023-02-04T05:16:54.107Z"
      },
      {
        "duration": 52,
        "start_time": "2023-02-04T05:17:29.762Z"
      },
      {
        "duration": 56,
        "start_time": "2023-02-04T05:27:32.082Z"
      },
      {
        "duration": 54,
        "start_time": "2023-02-04T05:27:32.520Z"
      },
      {
        "duration": 8690,
        "start_time": "2023-02-04T05:28:17.036Z"
      },
      {
        "duration": 9378,
        "start_time": "2023-02-04T05:28:57.352Z"
      },
      {
        "duration": 95,
        "start_time": "2023-02-04T05:29:14.048Z"
      },
      {
        "duration": 706,
        "start_time": "2023-02-04T05:29:27.619Z"
      },
      {
        "duration": 5826,
        "start_time": "2023-02-04T05:29:53.420Z"
      },
      {
        "duration": 55,
        "start_time": "2023-02-04T05:30:21.958Z"
      },
      {
        "duration": 15087,
        "start_time": "2023-02-04T05:30:34.806Z"
      },
      {
        "duration": 111,
        "start_time": "2023-02-04T05:30:52.131Z"
      },
      {
        "duration": 43,
        "start_time": "2023-02-04T05:31:36.715Z"
      },
      {
        "duration": 721,
        "start_time": "2023-02-04T05:31:56.922Z"
      },
      {
        "duration": 17702,
        "start_time": "2023-02-04T05:32:25.084Z"
      },
      {
        "duration": 34,
        "start_time": "2023-02-04T05:32:44.591Z"
      },
      {
        "duration": 56,
        "start_time": "2023-02-04T05:33:10.593Z"
      },
      {
        "duration": 17657,
        "start_time": "2023-02-04T05:34:18.293Z"
      },
      {
        "duration": 62,
        "start_time": "2023-02-04T05:34:43.036Z"
      },
      {
        "duration": 105,
        "start_time": "2023-02-04T05:35:03.422Z"
      },
      {
        "duration": 41,
        "start_time": "2023-02-04T05:35:45.927Z"
      },
      {
        "duration": 42,
        "start_time": "2023-02-04T05:35:58.076Z"
      },
      {
        "duration": 59,
        "start_time": "2023-02-04T05:36:09.291Z"
      },
      {
        "duration": 43,
        "start_time": "2023-02-04T05:36:18.541Z"
      },
      {
        "duration": 6784,
        "start_time": "2023-02-04T05:36:40.786Z"
      },
      {
        "duration": 6694,
        "start_time": "2023-02-04T05:38:00.406Z"
      },
      {
        "duration": 5598,
        "start_time": "2023-02-04T05:38:45.630Z"
      },
      {
        "duration": 15020,
        "start_time": "2023-02-04T05:39:27.993Z"
      },
      {
        "duration": 108,
        "start_time": "2023-02-04T05:39:46.208Z"
      },
      {
        "duration": 17578,
        "start_time": "2023-02-04T05:40:48.480Z"
      },
      {
        "duration": 184,
        "start_time": "2023-02-04T05:41:18.721Z"
      },
      {
        "duration": 407,
        "start_time": "2023-02-04T11:03:36.404Z"
      },
      {
        "duration": 1159,
        "start_time": "2023-02-04T11:03:36.827Z"
      },
      {
        "duration": 145,
        "start_time": "2023-02-04T11:03:37.988Z"
      },
      {
        "duration": 21,
        "start_time": "2023-02-04T11:03:39.182Z"
      },
      {
        "duration": 134,
        "start_time": "2023-02-04T11:03:39.587Z"
      },
      {
        "duration": 31,
        "start_time": "2023-02-04T11:03:39.933Z"
      },
      {
        "duration": 38,
        "start_time": "2023-02-04T11:03:40.194Z"
      },
      {
        "duration": 83,
        "start_time": "2023-02-04T11:03:40.553Z"
      },
      {
        "duration": 54,
        "start_time": "2023-02-04T11:03:40.826Z"
      },
      {
        "duration": 114,
        "start_time": "2023-02-04T11:03:41.139Z"
      },
      {
        "duration": 15,
        "start_time": "2023-02-04T11:03:41.393Z"
      },
      {
        "duration": 20,
        "start_time": "2023-02-04T11:03:41.634Z"
      },
      {
        "duration": 45,
        "start_time": "2023-02-04T11:03:41.941Z"
      },
      {
        "duration": 63,
        "start_time": "2023-02-04T11:03:42.233Z"
      },
      {
        "duration": 134,
        "start_time": "2023-02-04T11:03:43.267Z"
      },
      {
        "duration": 30,
        "start_time": "2023-02-04T11:03:43.760Z"
      },
      {
        "duration": 71,
        "start_time": "2023-02-04T11:03:44.567Z"
      },
      {
        "duration": 11839,
        "start_time": "2023-02-04T11:04:38.640Z"
      },
      {
        "duration": 63,
        "start_time": "2023-02-04T11:04:54.550Z"
      },
      {
        "duration": 28,
        "start_time": "2023-02-04T11:05:25.681Z"
      },
      {
        "duration": 20,
        "start_time": "2023-02-04T11:05:43.658Z"
      },
      {
        "duration": 76,
        "start_time": "2023-02-04T11:05:53.313Z"
      },
      {
        "duration": 6,
        "start_time": "2023-02-04T11:06:01.865Z"
      },
      {
        "duration": 12575,
        "start_time": "2023-02-04T11:10:39.546Z"
      },
      {
        "duration": 75,
        "start_time": "2023-02-04T11:10:57.730Z"
      },
      {
        "duration": 12621,
        "start_time": "2023-02-04T11:12:18.309Z"
      },
      {
        "duration": 61,
        "start_time": "2023-02-04T11:12:35.352Z"
      },
      {
        "duration": 3,
        "start_time": "2023-02-04T11:14:02.521Z"
      },
      {
        "duration": 912,
        "start_time": "2023-02-04T11:14:06.289Z"
      },
      {
        "duration": 160,
        "start_time": "2023-02-04T11:14:09.473Z"
      },
      {
        "duration": 15,
        "start_time": "2023-02-04T11:14:13.997Z"
      },
      {
        "duration": 102,
        "start_time": "2023-02-04T11:14:18.408Z"
      },
      {
        "duration": 18,
        "start_time": "2023-02-04T11:14:34.921Z"
      },
      {
        "duration": 26,
        "start_time": "2023-02-04T11:14:45.262Z"
      },
      {
        "duration": 120,
        "start_time": "2023-02-04T11:14:50.414Z"
      },
      {
        "duration": 50,
        "start_time": "2023-02-04T11:14:59.089Z"
      },
      {
        "duration": 106,
        "start_time": "2023-02-04T11:15:00.396Z"
      },
      {
        "duration": 16,
        "start_time": "2023-02-04T11:15:08.606Z"
      },
      {
        "duration": 17,
        "start_time": "2023-02-04T11:15:11.176Z"
      },
      {
        "duration": 17,
        "start_time": "2023-02-04T11:17:00.628Z"
      },
      {
        "duration": 69,
        "start_time": "2023-02-04T11:17:03.702Z"
      },
      {
        "duration": 136,
        "start_time": "2023-02-04T11:17:12.361Z"
      },
      {
        "duration": 47,
        "start_time": "2023-02-04T11:17:27.813Z"
      },
      {
        "duration": 13046,
        "start_time": "2023-02-04T11:17:37.362Z"
      },
      {
        "duration": 13136,
        "start_time": "2023-02-04T11:17:58.455Z"
      },
      {
        "duration": 12748,
        "start_time": "2023-02-04T11:18:15.536Z"
      },
      {
        "duration": 122,
        "start_time": "2023-02-04T11:18:30.825Z"
      },
      {
        "duration": 20,
        "start_time": "2023-02-04T11:24:46.964Z"
      },
      {
        "duration": 19,
        "start_time": "2023-02-04T11:26:40.302Z"
      },
      {
        "duration": 10,
        "start_time": "2023-02-04T11:33:39.128Z"
      },
      {
        "duration": 829,
        "start_time": "2023-02-04T11:34:21.338Z"
      },
      {
        "duration": 99,
        "start_time": "2023-02-04T11:35:11.931Z"
      },
      {
        "duration": 4,
        "start_time": "2023-02-04T12:08:15.562Z"
      },
      {
        "duration": 29,
        "start_time": "2023-02-04T12:08:54.652Z"
      },
      {
        "duration": 60,
        "start_time": "2023-02-04T12:19:13.363Z"
      },
      {
        "duration": 21,
        "start_time": "2023-02-04T12:19:25.446Z"
      },
      {
        "duration": 17,
        "start_time": "2023-02-04T12:20:23.228Z"
      },
      {
        "duration": 3,
        "start_time": "2023-02-04T12:20:37.752Z"
      },
      {
        "duration": 933,
        "start_time": "2023-02-04T12:20:39.374Z"
      },
      {
        "duration": 137,
        "start_time": "2023-02-04T12:20:41.217Z"
      },
      {
        "duration": 16,
        "start_time": "2023-02-04T12:20:43.008Z"
      },
      {
        "duration": 106,
        "start_time": "2023-02-04T12:20:43.563Z"
      },
      {
        "duration": 18,
        "start_time": "2023-02-04T12:20:44.634Z"
      },
      {
        "duration": 30,
        "start_time": "2023-02-04T12:20:46.327Z"
      },
      {
        "duration": 61,
        "start_time": "2023-02-04T12:20:48.506Z"
      },
      {
        "duration": 40,
        "start_time": "2023-02-04T12:20:49.893Z"
      },
      {
        "duration": 45,
        "start_time": "2023-02-04T12:20:51.287Z"
      },
      {
        "duration": 56,
        "start_time": "2023-02-04T12:20:51.833Z"
      },
      {
        "duration": 16,
        "start_time": "2023-02-04T12:20:57.127Z"
      },
      {
        "duration": 17,
        "start_time": "2023-02-04T12:20:58.341Z"
      },
      {
        "duration": 16,
        "start_time": "2023-02-04T12:20:59.321Z"
      },
      {
        "duration": 57,
        "start_time": "2023-02-04T12:21:00.974Z"
      },
      {
        "duration": 122,
        "start_time": "2023-02-04T12:21:01.809Z"
      },
      {
        "duration": 1191,
        "start_time": "2023-02-04T12:21:50.265Z"
      },
      {
        "duration": 1001,
        "start_time": "2023-02-04T12:21:51.458Z"
      },
      {
        "duration": 160,
        "start_time": "2023-02-04T12:21:52.460Z"
      },
      {
        "duration": 23,
        "start_time": "2023-02-04T12:21:54.368Z"
      },
      {
        "duration": 122,
        "start_time": "2023-02-04T12:21:54.823Z"
      },
      {
        "duration": 27,
        "start_time": "2023-02-04T12:21:55.953Z"
      },
      {
        "duration": 49,
        "start_time": "2023-02-04T12:21:57.824Z"
      },
      {
        "duration": 68,
        "start_time": "2023-02-04T12:21:59.387Z"
      },
      {
        "duration": 3,
        "start_time": "2023-02-04T12:22:01.018Z"
      },
      {
        "duration": 48,
        "start_time": "2023-02-04T12:22:02.514Z"
      },
      {
        "duration": 58,
        "start_time": "2023-02-04T12:22:03.269Z"
      },
      {
        "duration": 16,
        "start_time": "2023-02-04T12:22:03.893Z"
      },
      {
        "duration": 18,
        "start_time": "2023-02-04T12:22:05.652Z"
      },
      {
        "duration": 15,
        "start_time": "2023-02-04T12:22:08.104Z"
      },
      {
        "duration": 58,
        "start_time": "2023-02-04T12:22:11.412Z"
      },
      {
        "duration": 113,
        "start_time": "2023-02-04T12:22:13.899Z"
      },
      {
        "duration": 34,
        "start_time": "2023-02-04T12:22:17.670Z"
      },
      {
        "duration": 12437,
        "start_time": "2023-02-04T12:22:18.928Z"
      },
      {
        "duration": 12316,
        "start_time": "2023-02-04T12:22:31.368Z"
      },
      {
        "duration": 12614,
        "start_time": "2023-02-04T12:22:43.686Z"
      },
      {
        "duration": 55,
        "start_time": "2023-02-04T12:22:56.302Z"
      },
      {
        "duration": 95,
        "start_time": "2023-02-04T12:23:18.320Z"
      },
      {
        "duration": 122,
        "start_time": "2023-02-04T12:23:35.480Z"
      },
      {
        "duration": 29,
        "start_time": "2023-02-04T12:24:21.282Z"
      },
      {
        "duration": 63,
        "start_time": "2023-02-04T12:25:37.029Z"
      },
      {
        "duration": 22,
        "start_time": "2023-02-04T12:28:00.351Z"
      },
      {
        "duration": 1891,
        "start_time": "2023-02-04T12:29:59.080Z"
      },
      {
        "duration": 31,
        "start_time": "2023-02-04T12:35:11.680Z"
      },
      {
        "duration": 57,
        "start_time": "2023-02-04T12:52:27.370Z"
      },
      {
        "duration": 1870,
        "start_time": "2023-02-04T12:52:33.358Z"
      },
      {
        "duration": 68,
        "start_time": "2023-02-04T12:53:33.253Z"
      },
      {
        "duration": 96,
        "start_time": "2023-02-04T12:54:11.155Z"
      },
      {
        "duration": 1708,
        "start_time": "2023-02-04T12:54:15.778Z"
      },
      {
        "duration": 40,
        "start_time": "2023-02-04T13:18:12.319Z"
      },
      {
        "duration": 48,
        "start_time": "2023-02-04T13:47:49.351Z"
      },
      {
        "duration": 50,
        "start_time": "2023-02-04T13:48:27.863Z"
      },
      {
        "duration": 30,
        "start_time": "2023-02-04T13:57:14.577Z"
      },
      {
        "duration": 32,
        "start_time": "2023-02-04T13:59:50.882Z"
      },
      {
        "duration": 42,
        "start_time": "2023-02-04T14:05:02.101Z"
      },
      {
        "duration": 40,
        "start_time": "2023-02-04T14:05:23.027Z"
      },
      {
        "duration": 41,
        "start_time": "2023-02-04T14:05:55.935Z"
      },
      {
        "duration": 16,
        "start_time": "2023-02-04T14:06:05.633Z"
      },
      {
        "duration": 75,
        "start_time": "2023-02-04T14:06:36.034Z"
      },
      {
        "duration": 117,
        "start_time": "2023-02-04T14:07:11.400Z"
      },
      {
        "duration": 19,
        "start_time": "2023-02-04T14:08:28.531Z"
      },
      {
        "duration": 1042,
        "start_time": "2023-02-05T05:49:36.734Z"
      },
      {
        "duration": 1224,
        "start_time": "2023-02-05T05:49:37.778Z"
      },
      {
        "duration": 120,
        "start_time": "2023-02-05T05:49:39.655Z"
      },
      {
        "duration": 28,
        "start_time": "2023-02-05T05:49:45.230Z"
      },
      {
        "duration": 137,
        "start_time": "2023-02-05T05:49:46.067Z"
      },
      {
        "duration": 26,
        "start_time": "2023-02-05T05:49:56.764Z"
      },
      {
        "duration": 44,
        "start_time": "2023-02-05T05:52:36.548Z"
      },
      {
        "duration": 110,
        "start_time": "2023-02-05T05:52:40.809Z"
      },
      {
        "duration": 3,
        "start_time": "2023-02-05T05:52:54.162Z"
      },
      {
        "duration": 57,
        "start_time": "2023-02-05T05:52:55.428Z"
      },
      {
        "duration": 104,
        "start_time": "2023-02-05T05:53:30.160Z"
      },
      {
        "duration": 24,
        "start_time": "2023-02-05T05:53:52.015Z"
      },
      {
        "duration": 25,
        "start_time": "2023-02-05T05:53:53.037Z"
      },
      {
        "duration": 15,
        "start_time": "2023-02-05T05:54:33.313Z"
      },
      {
        "duration": 50,
        "start_time": "2023-02-05T05:54:35.505Z"
      },
      {
        "duration": 177,
        "start_time": "2023-02-05T05:54:42.628Z"
      },
      {
        "duration": 39,
        "start_time": "2023-02-05T05:54:58.436Z"
      },
      {
        "duration": 11141,
        "start_time": "2023-02-05T05:55:08.730Z"
      },
      {
        "duration": 11461,
        "start_time": "2023-02-05T05:55:19.873Z"
      },
      {
        "duration": 11303,
        "start_time": "2023-02-05T05:55:31.336Z"
      },
      {
        "duration": 47,
        "start_time": "2023-02-05T05:55:47.352Z"
      },
      {
        "duration": 57,
        "start_time": "2023-02-05T05:55:51.335Z"
      },
      {
        "duration": 112,
        "start_time": "2023-02-05T06:01:05.888Z"
      },
      {
        "duration": 156,
        "start_time": "2023-02-05T06:02:40.214Z"
      },
      {
        "duration": 1103,
        "start_time": "2023-02-05T06:03:06.776Z"
      },
      {
        "duration": 724,
        "start_time": "2023-02-05T06:06:22.996Z"
      },
      {
        "duration": 12,
        "start_time": "2023-02-05T06:06:42.137Z"
      },
      {
        "duration": 15,
        "start_time": "2023-02-05T06:07:19.761Z"
      },
      {
        "duration": 20,
        "start_time": "2023-02-05T06:07:47.630Z"
      },
      {
        "duration": 46,
        "start_time": "2023-02-05T06:08:25.111Z"
      },
      {
        "duration": 43,
        "start_time": "2023-02-05T06:08:53.078Z"
      },
      {
        "duration": 65,
        "start_time": "2023-02-05T06:08:57.784Z"
      },
      {
        "duration": 10,
        "start_time": "2023-02-05T06:09:02.669Z"
      },
      {
        "duration": 21,
        "start_time": "2023-02-05T06:09:31.489Z"
      },
      {
        "duration": 1633,
        "start_time": "2023-02-05T06:09:35.392Z"
      },
      {
        "duration": 38,
        "start_time": "2023-02-05T06:10:08.898Z"
      },
      {
        "duration": 88,
        "start_time": "2023-02-11T08:29:47.595Z"
      },
      {
        "duration": 2413,
        "start_time": "2023-02-11T08:47:30.880Z"
      },
      {
        "duration": 1252,
        "start_time": "2023-02-11T08:47:43.894Z"
      },
      {
        "duration": 1156,
        "start_time": "2023-02-11T08:47:52.647Z"
      },
      {
        "duration": 107,
        "start_time": "2023-02-11T08:48:24.647Z"
      },
      {
        "duration": 974,
        "start_time": "2023-02-11T08:48:30.022Z"
      },
      {
        "duration": 14,
        "start_time": "2023-02-11T08:48:35.522Z"
      },
      {
        "duration": 88,
        "start_time": "2023-02-11T08:48:41.774Z"
      },
      {
        "duration": 784,
        "start_time": "2023-02-11T08:55:24.358Z"
      },
      {
        "duration": 10,
        "start_time": "2023-02-11T08:55:38.092Z"
      },
      {
        "duration": 11,
        "start_time": "2023-02-11T08:55:50.481Z"
      },
      {
        "duration": 419,
        "start_time": "2023-02-11T08:57:41.781Z"
      },
      {
        "duration": 19,
        "start_time": "2023-02-11T09:15:15.374Z"
      },
      {
        "duration": 33,
        "start_time": "2023-02-11T09:15:20.367Z"
      },
      {
        "duration": 67,
        "start_time": "2023-02-11T09:16:43.182Z"
      },
      {
        "duration": 2,
        "start_time": "2023-02-11T09:16:50.241Z"
      },
      {
        "duration": 48,
        "start_time": "2023-02-11T09:16:54.184Z"
      },
      {
        "duration": 66,
        "start_time": "2023-02-11T09:17:38.839Z"
      },
      {
        "duration": 17,
        "start_time": "2023-02-11T09:17:49.763Z"
      },
      {
        "duration": 18,
        "start_time": "2023-02-11T09:17:54.751Z"
      },
      {
        "duration": 15,
        "start_time": "2023-02-11T09:18:02.929Z"
      },
      {
        "duration": 59,
        "start_time": "2023-02-11T09:18:08.734Z"
      },
      {
        "duration": 13504,
        "start_time": "2023-02-11T09:18:13.928Z"
      },
      {
        "duration": 14219,
        "start_time": "2023-02-11T09:18:50.191Z"
      },
      {
        "duration": 13988,
        "start_time": "2023-02-11T09:19:09.635Z"
      },
      {
        "duration": 57,
        "start_time": "2023-02-11T09:19:25.805Z"
      },
      {
        "duration": 73,
        "start_time": "2023-02-11T09:19:31.381Z"
      },
      {
        "duration": 3772,
        "start_time": "2023-02-11T09:22:55.152Z"
      },
      {
        "duration": 1193,
        "start_time": "2023-02-11T09:24:46.914Z"
      },
      {
        "duration": 763,
        "start_time": "2023-02-11T09:24:52.333Z"
      },
      {
        "duration": 27387,
        "start_time": "2023-02-11T09:25:40.413Z"
      },
      {
        "duration": 316,
        "start_time": "2023-02-11T09:26:29.215Z"
      },
      {
        "duration": 14438,
        "start_time": "2023-02-11T09:30:00.119Z"
      },
      {
        "duration": 138,
        "start_time": "2023-02-11T10:39:35.551Z"
      },
      {
        "duration": 4,
        "start_time": "2023-02-11T10:40:31.546Z"
      },
      {
        "duration": 753,
        "start_time": "2023-02-11T10:40:33.190Z"
      },
      {
        "duration": 129,
        "start_time": "2023-02-11T10:40:35.200Z"
      },
      {
        "duration": 603,
        "start_time": "2023-02-11T10:40:36.596Z"
      },
      {
        "duration": 14,
        "start_time": "2023-02-11T10:40:37.265Z"
      },
      {
        "duration": 89,
        "start_time": "2023-02-11T10:40:39.112Z"
      },
      {
        "duration": 456,
        "start_time": "2023-02-11T10:40:39.939Z"
      },
      {
        "duration": 16,
        "start_time": "2023-02-11T10:40:41.392Z"
      },
      {
        "duration": 24,
        "start_time": "2023-02-11T10:40:43.492Z"
      },
      {
        "duration": 64,
        "start_time": "2023-02-11T10:40:46.757Z"
      },
      {
        "duration": 2,
        "start_time": "2023-02-11T10:40:47.340Z"
      },
      {
        "duration": 48,
        "start_time": "2023-02-11T10:40:47.958Z"
      },
      {
        "duration": 59,
        "start_time": "2023-02-11T10:40:49.544Z"
      },
      {
        "duration": 18,
        "start_time": "2023-02-11T10:40:52.706Z"
      },
      {
        "duration": 18,
        "start_time": "2023-02-11T10:40:53.730Z"
      },
      {
        "duration": 19,
        "start_time": "2023-02-11T10:40:56.782Z"
      },
      {
        "duration": 60,
        "start_time": "2023-02-11T10:40:59.153Z"
      },
      {
        "duration": 13663,
        "start_time": "2023-02-11T10:41:00.886Z"
      },
      {
        "duration": 14210,
        "start_time": "2023-02-11T10:41:14.551Z"
      },
      {
        "duration": 13960,
        "start_time": "2023-02-11T10:41:28.763Z"
      },
      {
        "duration": 60,
        "start_time": "2023-02-11T10:41:45.205Z"
      },
      {
        "duration": 62,
        "start_time": "2023-02-11T10:41:47.557Z"
      },
      {
        "duration": 2,
        "start_time": "2023-02-11T10:41:48.229Z"
      },
      {
        "duration": 3,
        "start_time": "2023-02-11T10:41:50.185Z"
      },
      {
        "duration": 2,
        "start_time": "2023-02-11T10:41:54.397Z"
      },
      {
        "duration": 2,
        "start_time": "2023-02-11T10:41:55.509Z"
      },
      {
        "duration": 73,
        "start_time": "2023-02-11T10:41:57.734Z"
      },
      {
        "duration": 22,
        "start_time": "2023-02-11T10:41:59.495Z"
      },
      {
        "duration": 1450,
        "start_time": "2023-02-11T10:42:00.856Z"
      },
      {
        "duration": 32,
        "start_time": "2023-02-11T10:42:55.834Z"
      },
      {
        "duration": 69,
        "start_time": "2023-02-11T10:43:11.532Z"
      },
      {
        "duration": 19,
        "start_time": "2023-02-11T10:43:14.119Z"
      },
      {
        "duration": 2130,
        "start_time": "2023-02-11T10:43:17.843Z"
      },
      {
        "duration": 3,
        "start_time": "2023-02-11T10:43:26.516Z"
      },
      {
        "duration": 3,
        "start_time": "2023-02-12T19:26:44.211Z"
      },
      {
        "duration": 2317,
        "start_time": "2023-02-12T19:26:44.216Z"
      },
      {
        "duration": 1325,
        "start_time": "2023-02-12T19:26:46.536Z"
      },
      {
        "duration": 849,
        "start_time": "2023-02-12T19:26:47.863Z"
      },
      {
        "duration": 142,
        "start_time": "2023-02-12T19:26:48.714Z"
      },
      {
        "duration": 778,
        "start_time": "2023-02-12T19:26:48.858Z"
      },
      {
        "duration": 16,
        "start_time": "2023-02-12T19:26:49.637Z"
      },
      {
        "duration": 113,
        "start_time": "2023-02-12T19:26:49.655Z"
      },
      {
        "duration": 637,
        "start_time": "2023-02-12T19:26:49.770Z"
      },
      {
        "duration": 21,
        "start_time": "2023-02-12T19:26:50.409Z"
      },
      {
        "duration": 36,
        "start_time": "2023-02-12T19:26:50.431Z"
      },
      {
        "duration": 82,
        "start_time": "2023-02-12T19:26:50.469Z"
      },
      {
        "duration": 2,
        "start_time": "2023-02-12T19:26:50.553Z"
      },
      {
        "duration": 68,
        "start_time": "2023-02-12T19:26:50.558Z"
      },
      {
        "duration": 67,
        "start_time": "2023-02-12T19:26:50.628Z"
      },
      {
        "duration": 21,
        "start_time": "2023-02-12T19:26:50.697Z"
      },
      {
        "duration": 21,
        "start_time": "2023-02-12T19:26:50.720Z"
      },
      {
        "duration": 35,
        "start_time": "2023-02-12T19:26:50.743Z"
      },
      {
        "duration": 72,
        "start_time": "2023-02-12T19:26:50.779Z"
      },
      {
        "duration": 15315,
        "start_time": "2023-02-12T19:26:50.853Z"
      },
      {
        "duration": 15658,
        "start_time": "2023-02-12T19:27:06.170Z"
      },
      {
        "duration": 16035,
        "start_time": "2023-02-12T19:27:21.830Z"
      },
      {
        "duration": 73,
        "start_time": "2023-02-12T19:27:37.867Z"
      },
      {
        "duration": 123,
        "start_time": "2023-02-12T19:27:37.942Z"
      },
      {
        "duration": 3,
        "start_time": "2023-02-12T19:27:38.066Z"
      },
      {
        "duration": 5,
        "start_time": "2023-02-12T19:27:38.070Z"
      },
      {
        "duration": 11,
        "start_time": "2023-02-12T19:27:38.077Z"
      },
      {
        "duration": 681,
        "start_time": "2023-02-12T19:27:38.092Z"
      },
      {
        "duration": 40,
        "start_time": "2023-02-12T19:27:38.775Z"
      },
      {
        "duration": 8,
        "start_time": "2023-02-12T19:27:38.823Z"
      },
      {
        "duration": 13,
        "start_time": "2023-02-12T19:27:38.833Z"
      },
      {
        "duration": 389,
        "start_time": "2023-02-12T19:27:38.849Z"
      },
      {
        "duration": 18,
        "start_time": "2023-02-12T19:31:16.868Z"
      },
      {
        "duration": 16,
        "start_time": "2023-02-12T19:31:30.927Z"
      }
    ],
    "colab": {
      "provenance": []
    },
    "kernelspec": {
      "display_name": "Python 3 (ipykernel)",
      "language": "python",
      "name": "python3"
    },
    "language_info": {
      "codemirror_mode": {
        "name": "ipython",
        "version": 3
      },
      "file_extension": ".py",
      "mimetype": "text/x-python",
      "name": "python",
      "nbconvert_exporter": "python",
      "pygments_lexer": "ipython3",
      "version": "3.9.5"
    },
    "toc": {
      "base_numbering": 1,
      "nav_menu": {},
      "number_sections": true,
      "sideBar": true,
      "skip_h1_title": true,
      "title_cell": "Table of Contents",
      "title_sidebar": "Contents",
      "toc_cell": false,
      "toc_position": {},
      "toc_section_display": true,
      "toc_window_display": true
    }
  },
  "nbformat": 4,
  "nbformat_minor": 0
}
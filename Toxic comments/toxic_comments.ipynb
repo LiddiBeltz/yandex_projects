{
  "cells": [
    {
      "cell_type": "markdown",
      "metadata": {
        "id": "7qebJoILf5uN"
      },
      "source": [
        "<h1>Содержание<span class=\"tocSkip\"></span></h1>\n",
        "<div class=\"toc\"><ul class=\"toc-item\"><li><span><a href=\"#Подготовка\" data-toc-modified-id=\"Подготовка-1\"><span class=\"toc-item-num\">1&nbsp;&nbsp;</span>Подготовка</a></span></li><li><span><a href=\"#Обучение\" data-toc-modified-id=\"Обучение-2\"><span class=\"toc-item-num\">2&nbsp;&nbsp;</span>Обучение</a></span></li><li><span><a href=\"#Выводы\" data-toc-modified-id=\"Выводы-3\"><span class=\"toc-item-num\">3&nbsp;&nbsp;</span>Выводы</a></span></li><li><span><a href=\"#Чек-лист-проверки\" data-toc-modified-id=\"Чек-лист-проверки-4\"><span class=\"toc-item-num\">4&nbsp;&nbsp;</span>Чек-лист проверки</a></span></li></ul></div>"
      ]
    },
    {
      "cell_type": "markdown",
      "metadata": {
        "id": "237s9kqLf5uP"
      },
      "source": [
        "# Проект для «Викишоп»"
      ]
    },
    {
      "cell_type": "markdown",
      "metadata": {
        "id": "ba_L6Vg8f5uR"
      },
      "source": [
        "В данном проекте создадим модель, определяющую, токсичен ли комментарий или нет. Оценим ее по критерию качества f1 (не меньше 0.75).\n",
        "Построим несколько моделей и выберем лучшую."
      ]
    },
    {
      "cell_type": "markdown",
      "metadata": {
        "id": "kh3LYdVtf5uS"
      },
      "source": [
        "## Подготовка"
      ]
    },
    {
      "cell_type": "code",
      "execution_count": null,
      "metadata": {
        "colab": {
          "base_uri": "https://localhost:8080/"
        },
        "id": "AUiBKRotf5uT",
        "outputId": "388f49c7-7791-4830-de90-e943e3eff239"
      },
      "outputs": [
        {
          "name": "stderr",
          "output_type": "stream",
          "text": [
            "/usr/local/lib/python3.8/dist-packages/torch/cuda/__init__.py:497: UserWarning: Can't initialize NVML\n",
            "  warnings.warn(\"Can't initialize NVML\")\n"
          ]
        }
      ],
      "source": [
        "import pandas as pd\n",
        "import re\n",
        "from tqdm import notebook\n",
        "from sklearn.linear_model import LogisticRegression\n",
        "from sklearn.model_selection import cross_val_score, train_test_split, GridSearchCV\n",
        "from sklearn.tree import DecisionTreeClassifier\n",
        "from sklearn.metrics import f1_score\n",
        "from sklearn.ensemble import RandomForestClassifier\n",
        "import nltk\n",
        "from nltk.corpus import stopwords as nltk_stopwords\n",
        "from sklearn.feature_extraction.text import TfidfVectorizer \n",
        "nltk.download('stopwords')\n",
        "stopwords = set(nltk_stopwords.words('english'))\n",
        "import spacy\n",
        "nlp = spacy.load(\"en_core_web_sm\")\n",
        "import en_core_web_sm\n",
        "nlp = en_core_web_sm.load()"
      ]
    },
    {
      "cell_type": "markdown",
      "metadata": {
        "id": "x3GcfBgAf5uZ"
      },
      "source": [
        "Рассмотрим данные."
      ]
    },
    {
      "cell_type": "code",
      "execution_count": null,
      "metadata": {
        "colab": {
          "base_uri": "https://localhost:8080/"
        },
        "id": "opv1IWHLf5uc",
        "outputId": "90a83197-4bdd-4d00-fa3e-98cd8af63e52"
      },
      "outputs": [
        {
          "name": "stdout",
          "output_type": "stream",
          "text": [
            "<class 'pandas.core.frame.DataFrame'>\n",
            "RangeIndex: 159292 entries, 0 to 159291\n",
            "Data columns (total 3 columns):\n",
            " #   Column      Non-Null Count   Dtype \n",
            "---  ------      --------------   ----- \n",
            " 0   Unnamed: 0  159292 non-null  int64 \n",
            " 1   text        159292 non-null  object\n",
            " 2   toxic       159292 non-null  int64 \n",
            "dtypes: int64(2), object(1)\n",
            "memory usage: 3.6+ MB\n"
          ]
        }
      ],
      "source": [
        "data.info()"
      ]
    },
    {
      "cell_type": "code",
      "execution_count": null,
      "metadata": {
        "colab": {
          "base_uri": "https://localhost:8080/",
          "height": 206
        },
        "id": "fq9XgZmqf5uc",
        "outputId": "c21e8f0f-9143-4c3f-cac1-24d8dd723a66"
      },
      "outputs": [
        {
          "data": {
            "text/html": [
              "\n",
              "  <div id=\"df-9b44473f-4c0a-4e5a-81ea-2fce48b77ea1\">\n",
              "    <div class=\"colab-df-container\">\n",
              "      <div>\n",
              "<style scoped>\n",
              "    .dataframe tbody tr th:only-of-type {\n",
              "        vertical-align: middle;\n",
              "    }\n",
              "\n",
              "    .dataframe tbody tr th {\n",
              "        vertical-align: top;\n",
              "    }\n",
              "\n",
              "    .dataframe thead th {\n",
              "        text-align: right;\n",
              "    }\n",
              "</style>\n",
              "<table border=\"1\" class=\"dataframe\">\n",
              "  <thead>\n",
              "    <tr style=\"text-align: right;\">\n",
              "      <th></th>\n",
              "      <th>Unnamed: 0</th>\n",
              "      <th>text</th>\n",
              "      <th>toxic</th>\n",
              "    </tr>\n",
              "  </thead>\n",
              "  <tbody>\n",
              "    <tr>\n",
              "      <th>0</th>\n",
              "      <td>0</td>\n",
              "      <td>Explanation\\nWhy the edits made under my usern...</td>\n",
              "      <td>0</td>\n",
              "    </tr>\n",
              "    <tr>\n",
              "      <th>1</th>\n",
              "      <td>1</td>\n",
              "      <td>D'aww! He matches this background colour I'm s...</td>\n",
              "      <td>0</td>\n",
              "    </tr>\n",
              "    <tr>\n",
              "      <th>2</th>\n",
              "      <td>2</td>\n",
              "      <td>Hey man, I'm really not trying to edit war. It...</td>\n",
              "      <td>0</td>\n",
              "    </tr>\n",
              "    <tr>\n",
              "      <th>3</th>\n",
              "      <td>3</td>\n",
              "      <td>\"\\nMore\\nI can't make any real suggestions on ...</td>\n",
              "      <td>0</td>\n",
              "    </tr>\n",
              "    <tr>\n",
              "      <th>4</th>\n",
              "      <td>4</td>\n",
              "      <td>You, sir, are my hero. Any chance you remember...</td>\n",
              "      <td>0</td>\n",
              "    </tr>\n",
              "  </tbody>\n",
              "</table>\n",
              "</div>\n",
              "      <button class=\"colab-df-convert\" onclick=\"convertToInteractive('df-9b44473f-4c0a-4e5a-81ea-2fce48b77ea1')\"\n",
              "              title=\"Convert this dataframe to an interactive table.\"\n",
              "              style=\"display:none;\">\n",
              "        \n",
              "  <svg xmlns=\"http://www.w3.org/2000/svg\" height=\"24px\"viewBox=\"0 0 24 24\"\n",
              "       width=\"24px\">\n",
              "    <path d=\"M0 0h24v24H0V0z\" fill=\"none\"/>\n",
              "    <path d=\"M18.56 5.44l.94 2.06.94-2.06 2.06-.94-2.06-.94-.94-2.06-.94 2.06-2.06.94zm-11 1L8.5 8.5l.94-2.06 2.06-.94-2.06-.94L8.5 2.5l-.94 2.06-2.06.94zm10 10l.94 2.06.94-2.06 2.06-.94-2.06-.94-.94-2.06-.94 2.06-2.06.94z\"/><path d=\"M17.41 7.96l-1.37-1.37c-.4-.4-.92-.59-1.43-.59-.52 0-1.04.2-1.43.59L10.3 9.45l-7.72 7.72c-.78.78-.78 2.05 0 2.83L4 21.41c.39.39.9.59 1.41.59.51 0 1.02-.2 1.41-.59l7.78-7.78 2.81-2.81c.8-.78.8-2.07 0-2.86zM5.41 20L4 18.59l7.72-7.72 1.47 1.35L5.41 20z\"/>\n",
              "  </svg>\n",
              "      </button>\n",
              "      \n",
              "  <style>\n",
              "    .colab-df-container {\n",
              "      display:flex;\n",
              "      flex-wrap:wrap;\n",
              "      gap: 12px;\n",
              "    }\n",
              "\n",
              "    .colab-df-convert {\n",
              "      background-color: #E8F0FE;\n",
              "      border: none;\n",
              "      border-radius: 50%;\n",
              "      cursor: pointer;\n",
              "      display: none;\n",
              "      fill: #1967D2;\n",
              "      height: 32px;\n",
              "      padding: 0 0 0 0;\n",
              "      width: 32px;\n",
              "    }\n",
              "\n",
              "    .colab-df-convert:hover {\n",
              "      background-color: #E2EBFA;\n",
              "      box-shadow: 0px 1px 2px rgba(60, 64, 67, 0.3), 0px 1px 3px 1px rgba(60, 64, 67, 0.15);\n",
              "      fill: #174EA6;\n",
              "    }\n",
              "\n",
              "    [theme=dark] .colab-df-convert {\n",
              "      background-color: #3B4455;\n",
              "      fill: #D2E3FC;\n",
              "    }\n",
              "\n",
              "    [theme=dark] .colab-df-convert:hover {\n",
              "      background-color: #434B5C;\n",
              "      box-shadow: 0px 1px 3px 1px rgba(0, 0, 0, 0.15);\n",
              "      filter: drop-shadow(0px 1px 2px rgba(0, 0, 0, 0.3));\n",
              "      fill: #FFFFFF;\n",
              "    }\n",
              "  </style>\n",
              "\n",
              "      <script>\n",
              "        const buttonEl =\n",
              "          document.querySelector('#df-9b44473f-4c0a-4e5a-81ea-2fce48b77ea1 button.colab-df-convert');\n",
              "        buttonEl.style.display =\n",
              "          google.colab.kernel.accessAllowed ? 'block' : 'none';\n",
              "\n",
              "        async function convertToInteractive(key) {\n",
              "          const element = document.querySelector('#df-9b44473f-4c0a-4e5a-81ea-2fce48b77ea1');\n",
              "          const dataTable =\n",
              "            await google.colab.kernel.invokeFunction('convertToInteractive',\n",
              "                                                     [key], {});\n",
              "          if (!dataTable) return;\n",
              "\n",
              "          const docLinkHtml = 'Like what you see? Visit the ' +\n",
              "            '<a target=\"_blank\" href=https://colab.research.google.com/notebooks/data_table.ipynb>data table notebook</a>'\n",
              "            + ' to learn more about interactive tables.';\n",
              "          element.innerHTML = '';\n",
              "          dataTable['output_type'] = 'display_data';\n",
              "          await google.colab.output.renderOutput(dataTable, element);\n",
              "          const docLink = document.createElement('div');\n",
              "          docLink.innerHTML = docLinkHtml;\n",
              "          element.appendChild(docLink);\n",
              "        }\n",
              "      </script>\n",
              "    </div>\n",
              "  </div>\n",
              "  "
            ],
            "text/plain": [
              "   Unnamed: 0                                               text  toxic\n",
              "0           0  Explanation\\nWhy the edits made under my usern...      0\n",
              "1           1  D'aww! He matches this background colour I'm s...      0\n",
              "2           2  Hey man, I'm really not trying to edit war. It...      0\n",
              "3           3  \"\\nMore\\nI can't make any real suggestions on ...      0\n",
              "4           4  You, sir, are my hero. Any chance you remember...      0"
            ]
          },
          "execution_count": 5,
          "metadata": {},
          "output_type": "execute_result"
        }
      ],
      "source": [
        "data.head()"
      ]
    },
    {
      "cell_type": "markdown",
      "metadata": {
        "id": "tAyVqVwif5ud"
      },
      "source": [
        "У нас есть столбец с текстом коментария text, столбец с классификацией toxic(токсичен или нет), и столбец, дублирующий индекс Unnamed: 0. Удалим этот столбец."
      ]
    },
    {
      "cell_type": "code",
      "execution_count": null,
      "metadata": {
        "id": "73aA0ar3f5ue"
      },
      "outputs": [],
      "source": [
        "data = data.drop('Unnamed: 0', axis=1)"
      ]
    },
    {
      "cell_type": "markdown",
      "metadata": {
        "id": "uKl98SOgf5ue"
      },
      "source": [
        "Выполним леммитизацию и очистку текста от лишних символов."
      ]
    },
    {
      "cell_type": "code",
      "execution_count": null,
      "metadata": {
        "id": "k1ZfyyHYmzO-"
      },
      "outputs": [],
      "source": [
        "def clear_text(text):\n",
        "    pattern = r'[^a-zA-Z]'\n",
        "    cl_text = re.sub(pattern, ' ', text)\n",
        "    return ' '.join(cl_text.split())"
      ]
    },
    {
      "cell_type": "code",
      "execution_count": null,
      "metadata": {
        "id": "k5IebkBIDrmd"
      },
      "outputs": [],
      "source": [
        "data['lemms'] = data['text'].apply(clear_text)"
      ]
    },
    {
      "cell_type": "code",
      "execution_count": null,
      "metadata": {
        "colab": {
          "base_uri": "https://localhost:8080/",
          "height": 206
        },
        "id": "JQLoBUt5D3TT",
        "outputId": "e8ee892e-67ed-4145-8a07-f6dac98be6f3"
      },
      "outputs": [
        {
          "data": {
            "text/html": [
              "\n",
              "  <div id=\"df-a16a7b64-fe24-4b75-b2c4-6e4e2b972c67\">\n",
              "    <div class=\"colab-df-container\">\n",
              "      <div>\n",
              "<style scoped>\n",
              "    .dataframe tbody tr th:only-of-type {\n",
              "        vertical-align: middle;\n",
              "    }\n",
              "\n",
              "    .dataframe tbody tr th {\n",
              "        vertical-align: top;\n",
              "    }\n",
              "\n",
              "    .dataframe thead th {\n",
              "        text-align: right;\n",
              "    }\n",
              "</style>\n",
              "<table border=\"1\" class=\"dataframe\">\n",
              "  <thead>\n",
              "    <tr style=\"text-align: right;\">\n",
              "      <th></th>\n",
              "      <th>text</th>\n",
              "      <th>toxic</th>\n",
              "      <th>lemms</th>\n",
              "    </tr>\n",
              "  </thead>\n",
              "  <tbody>\n",
              "    <tr>\n",
              "      <th>0</th>\n",
              "      <td>Explanation\\nWhy the edits made under my usern...</td>\n",
              "      <td>0</td>\n",
              "      <td>Explanation Why the edits made under my userna...</td>\n",
              "    </tr>\n",
              "    <tr>\n",
              "      <th>1</th>\n",
              "      <td>D'aww! He matches this background colour I'm s...</td>\n",
              "      <td>0</td>\n",
              "      <td>D aww He matches this background colour I m se...</td>\n",
              "    </tr>\n",
              "    <tr>\n",
              "      <th>2</th>\n",
              "      <td>Hey man, I'm really not trying to edit war. It...</td>\n",
              "      <td>0</td>\n",
              "      <td>Hey man I m really not trying to edit war It s...</td>\n",
              "    </tr>\n",
              "    <tr>\n",
              "      <th>3</th>\n",
              "      <td>\"\\nMore\\nI can't make any real suggestions on ...</td>\n",
              "      <td>0</td>\n",
              "      <td>More I can t make any real suggestions on impr...</td>\n",
              "    </tr>\n",
              "    <tr>\n",
              "      <th>4</th>\n",
              "      <td>You, sir, are my hero. Any chance you remember...</td>\n",
              "      <td>0</td>\n",
              "      <td>You sir are my hero Any chance you remember wh...</td>\n",
              "    </tr>\n",
              "  </tbody>\n",
              "</table>\n",
              "</div>\n",
              "      <button class=\"colab-df-convert\" onclick=\"convertToInteractive('df-a16a7b64-fe24-4b75-b2c4-6e4e2b972c67')\"\n",
              "              title=\"Convert this dataframe to an interactive table.\"\n",
              "              style=\"display:none;\">\n",
              "        \n",
              "  <svg xmlns=\"http://www.w3.org/2000/svg\" height=\"24px\"viewBox=\"0 0 24 24\"\n",
              "       width=\"24px\">\n",
              "    <path d=\"M0 0h24v24H0V0z\" fill=\"none\"/>\n",
              "    <path d=\"M18.56 5.44l.94 2.06.94-2.06 2.06-.94-2.06-.94-.94-2.06-.94 2.06-2.06.94zm-11 1L8.5 8.5l.94-2.06 2.06-.94-2.06-.94L8.5 2.5l-.94 2.06-2.06.94zm10 10l.94 2.06.94-2.06 2.06-.94-2.06-.94-.94-2.06-.94 2.06-2.06.94z\"/><path d=\"M17.41 7.96l-1.37-1.37c-.4-.4-.92-.59-1.43-.59-.52 0-1.04.2-1.43.59L10.3 9.45l-7.72 7.72c-.78.78-.78 2.05 0 2.83L4 21.41c.39.39.9.59 1.41.59.51 0 1.02-.2 1.41-.59l7.78-7.78 2.81-2.81c.8-.78.8-2.07 0-2.86zM5.41 20L4 18.59l7.72-7.72 1.47 1.35L5.41 20z\"/>\n",
              "  </svg>\n",
              "      </button>\n",
              "      \n",
              "  <style>\n",
              "    .colab-df-container {\n",
              "      display:flex;\n",
              "      flex-wrap:wrap;\n",
              "      gap: 12px;\n",
              "    }\n",
              "\n",
              "    .colab-df-convert {\n",
              "      background-color: #E8F0FE;\n",
              "      border: none;\n",
              "      border-radius: 50%;\n",
              "      cursor: pointer;\n",
              "      display: none;\n",
              "      fill: #1967D2;\n",
              "      height: 32px;\n",
              "      padding: 0 0 0 0;\n",
              "      width: 32px;\n",
              "    }\n",
              "\n",
              "    .colab-df-convert:hover {\n",
              "      background-color: #E2EBFA;\n",
              "      box-shadow: 0px 1px 2px rgba(60, 64, 67, 0.3), 0px 1px 3px 1px rgba(60, 64, 67, 0.15);\n",
              "      fill: #174EA6;\n",
              "    }\n",
              "\n",
              "    [theme=dark] .colab-df-convert {\n",
              "      background-color: #3B4455;\n",
              "      fill: #D2E3FC;\n",
              "    }\n",
              "\n",
              "    [theme=dark] .colab-df-convert:hover {\n",
              "      background-color: #434B5C;\n",
              "      box-shadow: 0px 1px 3px 1px rgba(0, 0, 0, 0.15);\n",
              "      filter: drop-shadow(0px 1px 2px rgba(0, 0, 0, 0.3));\n",
              "      fill: #FFFFFF;\n",
              "    }\n",
              "  </style>\n",
              "\n",
              "      <script>\n",
              "        const buttonEl =\n",
              "          document.querySelector('#df-a16a7b64-fe24-4b75-b2c4-6e4e2b972c67 button.colab-df-convert');\n",
              "        buttonEl.style.display =\n",
              "          google.colab.kernel.accessAllowed ? 'block' : 'none';\n",
              "\n",
              "        async function convertToInteractive(key) {\n",
              "          const element = document.querySelector('#df-a16a7b64-fe24-4b75-b2c4-6e4e2b972c67');\n",
              "          const dataTable =\n",
              "            await google.colab.kernel.invokeFunction('convertToInteractive',\n",
              "                                                     [key], {});\n",
              "          if (!dataTable) return;\n",
              "\n",
              "          const docLinkHtml = 'Like what you see? Visit the ' +\n",
              "            '<a target=\"_blank\" href=https://colab.research.google.com/notebooks/data_table.ipynb>data table notebook</a>'\n",
              "            + ' to learn more about interactive tables.';\n",
              "          element.innerHTML = '';\n",
              "          dataTable['output_type'] = 'display_data';\n",
              "          await google.colab.output.renderOutput(dataTable, element);\n",
              "          const docLink = document.createElement('div');\n",
              "          docLink.innerHTML = docLinkHtml;\n",
              "          element.appendChild(docLink);\n",
              "        }\n",
              "      </script>\n",
              "    </div>\n",
              "  </div>\n",
              "  "
            ],
            "text/plain": [
              "                                                text  toxic  \\\n",
              "0  Explanation\\nWhy the edits made under my usern...      0   \n",
              "1  D'aww! He matches this background colour I'm s...      0   \n",
              "2  Hey man, I'm really not trying to edit war. It...      0   \n",
              "3  \"\\nMore\\nI can't make any real suggestions on ...      0   \n",
              "4  You, sir, are my hero. Any chance you remember...      0   \n",
              "\n",
              "                                               lemms  \n",
              "0  Explanation Why the edits made under my userna...  \n",
              "1  D aww He matches this background colour I m se...  \n",
              "2  Hey man I m really not trying to edit war It s...  \n",
              "3  More I can t make any real suggestions on impr...  \n",
              "4  You sir are my hero Any chance you remember wh...  "
            ]
          },
          "execution_count": 10,
          "metadata": {},
          "output_type": "execute_result"
        }
      ],
      "source": [
        "data.head()"
      ]
    },
    {
      "cell_type": "code",
      "execution_count": null,
      "metadata": {
        "id": "9g_CyVe0EUlF"
      },
      "outputs": [],
      "source": [
        "def lemmatize(text):\n",
        "    doc = nlp(text)\n",
        "    return \" \".join([token.lemma_ for token in doc])"
      ]
    },
    {
      "cell_type": "code",
      "execution_count": null,
      "metadata": {
        "colab": {
          "base_uri": "https://localhost:8080/",
          "height": 206
        },
        "id": "sDm0BGIvBEGZ",
        "outputId": "b3a94a77-7a76-4f20-e8f2-fb8e53bdf212"
      },
      "outputs": [
        {
          "data": {
            "text/html": [
              "\n",
              "  <div id=\"df-e96223c3-c05b-4dcb-ad76-5253b3aa4179\">\n",
              "    <div class=\"colab-df-container\">\n",
              "      <div>\n",
              "<style scoped>\n",
              "    .dataframe tbody tr th:only-of-type {\n",
              "        vertical-align: middle;\n",
              "    }\n",
              "\n",
              "    .dataframe tbody tr th {\n",
              "        vertical-align: top;\n",
              "    }\n",
              "\n",
              "    .dataframe thead th {\n",
              "        text-align: right;\n",
              "    }\n",
              "</style>\n",
              "<table border=\"1\" class=\"dataframe\">\n",
              "  <thead>\n",
              "    <tr style=\"text-align: right;\">\n",
              "      <th></th>\n",
              "      <th>text</th>\n",
              "      <th>toxic</th>\n",
              "      <th>lemms</th>\n",
              "    </tr>\n",
              "  </thead>\n",
              "  <tbody>\n",
              "    <tr>\n",
              "      <th>0</th>\n",
              "      <td>Explanation\\nWhy the edits made under my usern...</td>\n",
              "      <td>0</td>\n",
              "      <td>Explanation why the edit make under my usernam...</td>\n",
              "    </tr>\n",
              "    <tr>\n",
              "      <th>1</th>\n",
              "      <td>D'aww! He matches this background colour I'm s...</td>\n",
              "      <td>0</td>\n",
              "      <td>D aww he match this background colour I m seem...</td>\n",
              "    </tr>\n",
              "    <tr>\n",
              "      <th>2</th>\n",
              "      <td>Hey man, I'm really not trying to edit war. It...</td>\n",
              "      <td>0</td>\n",
              "      <td>hey man I m really not try to edit war it s ju...</td>\n",
              "    </tr>\n",
              "    <tr>\n",
              "      <th>3</th>\n",
              "      <td>\"\\nMore\\nI can't make any real suggestions on ...</td>\n",
              "      <td>0</td>\n",
              "      <td>More I can t make any real suggestion on impro...</td>\n",
              "    </tr>\n",
              "    <tr>\n",
              "      <th>4</th>\n",
              "      <td>You, sir, are my hero. Any chance you remember...</td>\n",
              "      <td>0</td>\n",
              "      <td>you sir be my hero any chance you remember wha...</td>\n",
              "    </tr>\n",
              "  </tbody>\n",
              "</table>\n",
              "</div>\n",
              "      <button class=\"colab-df-convert\" onclick=\"convertToInteractive('df-e96223c3-c05b-4dcb-ad76-5253b3aa4179')\"\n",
              "              title=\"Convert this dataframe to an interactive table.\"\n",
              "              style=\"display:none;\">\n",
              "        \n",
              "  <svg xmlns=\"http://www.w3.org/2000/svg\" height=\"24px\"viewBox=\"0 0 24 24\"\n",
              "       width=\"24px\">\n",
              "    <path d=\"M0 0h24v24H0V0z\" fill=\"none\"/>\n",
              "    <path d=\"M18.56 5.44l.94 2.06.94-2.06 2.06-.94-2.06-.94-.94-2.06-.94 2.06-2.06.94zm-11 1L8.5 8.5l.94-2.06 2.06-.94-2.06-.94L8.5 2.5l-.94 2.06-2.06.94zm10 10l.94 2.06.94-2.06 2.06-.94-2.06-.94-.94-2.06-.94 2.06-2.06.94z\"/><path d=\"M17.41 7.96l-1.37-1.37c-.4-.4-.92-.59-1.43-.59-.52 0-1.04.2-1.43.59L10.3 9.45l-7.72 7.72c-.78.78-.78 2.05 0 2.83L4 21.41c.39.39.9.59 1.41.59.51 0 1.02-.2 1.41-.59l7.78-7.78 2.81-2.81c.8-.78.8-2.07 0-2.86zM5.41 20L4 18.59l7.72-7.72 1.47 1.35L5.41 20z\"/>\n",
              "  </svg>\n",
              "      </button>\n",
              "      \n",
              "  <style>\n",
              "    .colab-df-container {\n",
              "      display:flex;\n",
              "      flex-wrap:wrap;\n",
              "      gap: 12px;\n",
              "    }\n",
              "\n",
              "    .colab-df-convert {\n",
              "      background-color: #E8F0FE;\n",
              "      border: none;\n",
              "      border-radius: 50%;\n",
              "      cursor: pointer;\n",
              "      display: none;\n",
              "      fill: #1967D2;\n",
              "      height: 32px;\n",
              "      padding: 0 0 0 0;\n",
              "      width: 32px;\n",
              "    }\n",
              "\n",
              "    .colab-df-convert:hover {\n",
              "      background-color: #E2EBFA;\n",
              "      box-shadow: 0px 1px 2px rgba(60, 64, 67, 0.3), 0px 1px 3px 1px rgba(60, 64, 67, 0.15);\n",
              "      fill: #174EA6;\n",
              "    }\n",
              "\n",
              "    [theme=dark] .colab-df-convert {\n",
              "      background-color: #3B4455;\n",
              "      fill: #D2E3FC;\n",
              "    }\n",
              "\n",
              "    [theme=dark] .colab-df-convert:hover {\n",
              "      background-color: #434B5C;\n",
              "      box-shadow: 0px 1px 3px 1px rgba(0, 0, 0, 0.15);\n",
              "      filter: drop-shadow(0px 1px 2px rgba(0, 0, 0, 0.3));\n",
              "      fill: #FFFFFF;\n",
              "    }\n",
              "  </style>\n",
              "\n",
              "      <script>\n",
              "        const buttonEl =\n",
              "          document.querySelector('#df-e96223c3-c05b-4dcb-ad76-5253b3aa4179 button.colab-df-convert');\n",
              "        buttonEl.style.display =\n",
              "          google.colab.kernel.accessAllowed ? 'block' : 'none';\n",
              "\n",
              "        async function convertToInteractive(key) {\n",
              "          const element = document.querySelector('#df-e96223c3-c05b-4dcb-ad76-5253b3aa4179');\n",
              "          const dataTable =\n",
              "            await google.colab.kernel.invokeFunction('convertToInteractive',\n",
              "                                                     [key], {});\n",
              "          if (!dataTable) return;\n",
              "\n",
              "          const docLinkHtml = 'Like what you see? Visit the ' +\n",
              "            '<a target=\"_blank\" href=https://colab.research.google.com/notebooks/data_table.ipynb>data table notebook</a>'\n",
              "            + ' to learn more about interactive tables.';\n",
              "          element.innerHTML = '';\n",
              "          dataTable['output_type'] = 'display_data';\n",
              "          await google.colab.output.renderOutput(dataTable, element);\n",
              "          const docLink = document.createElement('div');\n",
              "          docLink.innerHTML = docLinkHtml;\n",
              "          element.appendChild(docLink);\n",
              "        }\n",
              "      </script>\n",
              "    </div>\n",
              "  </div>\n",
              "  "
            ],
            "text/plain": [
              "                                                text  toxic  \\\n",
              "0  Explanation\\nWhy the edits made under my usern...      0   \n",
              "1  D'aww! He matches this background colour I'm s...      0   \n",
              "2  Hey man, I'm really not trying to edit war. It...      0   \n",
              "3  \"\\nMore\\nI can't make any real suggestions on ...      0   \n",
              "4  You, sir, are my hero. Any chance you remember...      0   \n",
              "\n",
              "                                               lemms  \n",
              "0  Explanation why the edit make under my usernam...  \n",
              "1  D aww he match this background colour I m seem...  \n",
              "2  hey man I m really not try to edit war it s ju...  \n",
              "3  More I can t make any real suggestion on impro...  \n",
              "4  you sir be my hero any chance you remember wha...  "
            ]
          },
          "execution_count": 13,
          "metadata": {},
          "output_type": "execute_result"
        }
      ],
      "source": [
        "data.head()"
      ]
    },
    {
      "cell_type": "code",
      "execution_count": null,
      "metadata": {
        "id": "lOQpVgFfY-Fj"
      },
      "outputs": [],
      "source": [
        "data = data.drop('text', axis=1)"
      ]
    },
    {
      "cell_type": "markdown",
      "metadata": {
        "id": "VUJmUppHf5uj"
      },
      "source": [
        "Разделим данные на обучающую и тестовую выборку. Столбец с текстом у нас уже отделен на этапе лемитизации. Целевой столбец - toxic."
      ]
    },
    {
      "cell_type": "code",
      "execution_count": null,
      "metadata": {
        "id": "6FjUn_Urf5uj"
      },
      "outputs": [],
      "source": [
        "x_train, x_test, y_train, y_test = train_test_split(data['lemms'], data['toxic'], test_size=0.1, random_state=189)"
      ]
    },
    {
      "cell_type": "markdown",
      "metadata": {
        "id": "HV5bf6Qwf5uk"
      },
      "source": [
        "Создадим \"мешок слов\". Переведем данные в векторный вид."
      ]
    },
    {
      "cell_type": "code",
      "execution_count": null,
      "metadata": {
        "id": "Bs0rjNkGa3M9"
      },
      "outputs": [],
      "source": [
        "count_tf_idf = TfidfVectorizer(stop_words=stopwords) \n",
        "xtf_train = count_tf_idf.fit_transform(x_train)\n",
        "xtf_test = count_tf_idf.transform(x_test)"
      ]
    },
    {
      "cell_type": "code",
      "execution_count": null,
      "metadata": {
        "colab": {
          "base_uri": "https://localhost:8080/"
        },
        "id": "b17o8WaMdrmp",
        "outputId": "0573932a-a20b-4359-e50d-841a7b1f35b5"
      },
      "outputs": [
        {
          "data": {
            "text/plain": [
              "(15930, 147646)"
            ]
          },
          "execution_count": 25,
          "metadata": {},
          "output_type": "execute_result"
        }
      ],
      "source": [
        "xtf_test.shape"
      ]
    },
    {
      "cell_type": "code",
      "execution_count": null,
      "metadata": {
        "colab": {
          "base_uri": "https://localhost:8080/"
        },
        "id": "VMCuqSced7aK",
        "outputId": "96a5e363-4120-4fe1-bb29-597c62c8945c"
      },
      "outputs": [
        {
          "data": {
            "text/plain": [
              "(143362, 147646)"
            ]
          },
          "execution_count": 27,
          "metadata": {},
          "output_type": "execute_result"
        }
      ],
      "source": [
        "xtf_train.shape"
      ]
    },
    {
      "cell_type": "markdown",
      "metadata": {
        "id": "orXQBErzf5un"
      },
      "source": [
        "## Обучение"
      ]
    },
    {
      "cell_type": "markdown",
      "metadata": {
        "id": "692tD_eIf5un"
      },
      "source": [
        "Обучим модель - логистическую регрессию."
      ]
    },
    {
      "cell_type": "code",
      "execution_count": null,
      "metadata": {
        "id": "XiZMfxo_f5un"
      },
      "outputs": [],
      "source": [
        "model_lr = LogisticRegression(max_iter=1000, random_state=189, class_weight='balanced')"
      ]
    },
    {
      "cell_type": "code",
      "execution_count": null,
      "metadata": {
        "colab": {
          "base_uri": "https://localhost:8080/"
        },
        "id": "OQnnB8fDec2t",
        "outputId": "dbeddc6f-9bcc-4dc4-8d67-020129c69b40"
      },
      "outputs": [
        {
          "data": {
            "text/plain": [
              "0.7535436686120482"
            ]
          },
          "execution_count": 55,
          "metadata": {},
          "output_type": "execute_result"
        }
      ],
      "source": [
        "scores_list = cross_val_score(estimator=model_lr, \n",
        "                              X=xtf_train, \n",
        "                              y=y_train, \n",
        "                              cv=5,  \n",
        "                              scoring='f1')\n",
        "\n",
        "val_score = scores_list.mean()\n",
        "val_score"
      ]
    },
    {
      "cell_type": "code",
      "execution_count": null,
      "metadata": {
        "colab": {
          "base_uri": "https://localhost:8080/"
        },
        "id": "EUn-VRAnAra7",
        "outputId": "21131fc1-bc57-438b-f995-4a603bbf81d3"
      },
      "outputs": [
        {
          "data": {
            "text/plain": [
              "GridSearchCV(cv=5,\n",
              "             estimator=LogisticRegression(class_weight='balanced',\n",
              "                                          max_iter=1000, random_state=189),\n",
              "             param_grid={}, scoring='f1')"
            ]
          },
          "execution_count": 59,
          "metadata": {},
          "output_type": "execute_result"
        }
      ],
      "source": [
        "param_search = {}\n",
        "gs_lr = GridSearchCV(estimator=model_lr, cv=5, param_grid=param_search, scoring='f1')\n",
        "gs_lr.fit(xtf_train, y_train)"
      ]
    },
    {
      "cell_type": "code",
      "execution_count": null,
      "metadata": {
        "colab": {
          "base_uri": "https://localhost:8080/"
        },
        "id": "UcTSsWxEA_9U",
        "outputId": "783e1ce7-9cec-4b1b-a202-59aaf56be110"
      },
      "outputs": [
        {
          "data": {
            "text/plain": [
              "0.7535436686120482"
            ]
          },
          "execution_count": 60,
          "metadata": {},
          "output_type": "execute_result"
        }
      ],
      "source": [
        "f1_lr = gs_lr.best_score_\n",
        "f1_lr"
      ]
    },
    {
      "cell_type": "markdown",
      "metadata": {
        "id": "SDANcq38f5ur"
      },
      "source": [
        "Применим модель - дерево решений."
      ]
    },
    {
      "cell_type": "code",
      "execution_count": null,
      "metadata": {
        "colab": {
          "base_uri": "https://localhost:8080/"
        },
        "id": "md-oW5wQf5ur",
        "outputId": "b50be026-4504-4ba5-8657-ae2ccbea7800"
      },
      "outputs": [
        {
          "data": {
            "text/plain": [
              "{'max_depth': 9}"
            ]
          },
          "execution_count": 45,
          "metadata": {},
          "output_type": "execute_result"
        }
      ],
      "source": [
        "clf = DecisionTreeClassifier(random_state=189, class_weight='balanced')\n",
        "parametrs = {'max_depth': range(1, 8)\n",
        "              }\n",
        "grid = GridSearchCV(clf, parametrs, cv=5, scoring='f1')\n",
        "grid.fit(xtf_train, y_train)\n",
        "grid.best_params_"
      ]
    },
    {
      "cell_type": "code",
      "execution_count": null,
      "metadata": {
        "colab": {
          "base_uri": "https://localhost:8080/"
        },
        "id": "PiJLFc-yf5ur",
        "outputId": "dc6d0c93-3efe-451f-834e-32a4ba7053ef"
      },
      "outputs": [
        {
          "data": {
            "text/plain": [
              "0.5673970828581796"
            ]
          },
          "execution_count": 52,
          "metadata": {},
          "output_type": "execute_result"
        }
      ],
      "source": [
        "f1_dtc = grid.best_score_\n",
        "f1_dtc"
      ]
    },
    {
      "cell_type": "markdown",
      "metadata": {
        "id": "c0Pf9bgdf5us"
      },
      "source": [
        "Рассчитаем f-меру."
      ]
    },
    {
      "cell_type": "markdown",
      "metadata": {
        "id": "ryxAAVcK4TLU"
      },
      "source": [
        "Протестируем модель, показавшую лучший результат - логистическую регрессию."
      ]
    },
    {
      "cell_type": "code",
      "execution_count": null,
      "metadata": {
        "colab": {
          "base_uri": "https://localhost:8080/"
        },
        "id": "s9FKJ5oL4R0d",
        "outputId": "cea03b53-6a8b-4cae-c679-e590edd22e87"
      },
      "outputs": [
        {
          "data": {
            "text/plain": [
              "0.7538298996302166"
            ]
          },
          "execution_count": 61,
          "metadata": {},
          "output_type": "execute_result"
        }
      ],
      "source": [
        "test_pred = gs_lr.predict(xtf_test)\n",
        "f1_test = f1_score(y_test, test_pred)\n",
        "f1_test"
      ]
    },
    {
      "cell_type": "markdown",
      "metadata": {
        "id": "2ju6sznnCvik"
      },
      "source": [
        "На тестовой выборке модель тоже показала хороший результат."
      ]
    },
    {
      "cell_type": "markdown",
      "metadata": {
        "id": "JrZrMRNSf5ut"
      },
      "source": [
        "## Выводы"
      ]
    },
    {
      "cell_type": "code",
      "execution_count": null,
      "metadata": {
        "colab": {
          "base_uri": "https://localhost:8080/",
          "height": 112
        },
        "id": "uSMCCF13f5uu",
        "outputId": "b553b149-9bd2-454b-93ec-abef0a17d438"
      },
      "outputs": [
        {
          "data": {
            "text/html": [
              "\n",
              "  <div id=\"df-2da2b8a3-90b5-43ca-8107-7f7b49fd9ad1\">\n",
              "    <div class=\"colab-df-container\">\n",
              "      <div>\n",
              "<style scoped>\n",
              "    .dataframe tbody tr th:only-of-type {\n",
              "        vertical-align: middle;\n",
              "    }\n",
              "\n",
              "    .dataframe tbody tr th {\n",
              "        vertical-align: top;\n",
              "    }\n",
              "\n",
              "    .dataframe thead th {\n",
              "        text-align: right;\n",
              "    }\n",
              "</style>\n",
              "<table border=\"1\" class=\"dataframe\">\n",
              "  <thead>\n",
              "    <tr style=\"text-align: right;\">\n",
              "      <th></th>\n",
              "      <th>Model</th>\n",
              "      <th>f1</th>\n",
              "    </tr>\n",
              "  </thead>\n",
              "  <tbody>\n",
              "    <tr>\n",
              "      <th>0</th>\n",
              "      <td>DecisionTree</td>\n",
              "      <td>0.560462</td>\n",
              "    </tr>\n",
              "    <tr>\n",
              "      <th>1</th>\n",
              "      <td>LogisticRegression</td>\n",
              "      <td>0.753544</td>\n",
              "    </tr>\n",
              "  </tbody>\n",
              "</table>\n",
              "</div>\n",
              "      <button class=\"colab-df-convert\" onclick=\"convertToInteractive('df-2da2b8a3-90b5-43ca-8107-7f7b49fd9ad1')\"\n",
              "              title=\"Convert this dataframe to an interactive table.\"\n",
              "              style=\"display:none;\">\n",
              "        \n",
              "  <svg xmlns=\"http://www.w3.org/2000/svg\" height=\"24px\"viewBox=\"0 0 24 24\"\n",
              "       width=\"24px\">\n",
              "    <path d=\"M0 0h24v24H0V0z\" fill=\"none\"/>\n",
              "    <path d=\"M18.56 5.44l.94 2.06.94-2.06 2.06-.94-2.06-.94-.94-2.06-.94 2.06-2.06.94zm-11 1L8.5 8.5l.94-2.06 2.06-.94-2.06-.94L8.5 2.5l-.94 2.06-2.06.94zm10 10l.94 2.06.94-2.06 2.06-.94-2.06-.94-.94-2.06-.94 2.06-2.06.94z\"/><path d=\"M17.41 7.96l-1.37-1.37c-.4-.4-.92-.59-1.43-.59-.52 0-1.04.2-1.43.59L10.3 9.45l-7.72 7.72c-.78.78-.78 2.05 0 2.83L4 21.41c.39.39.9.59 1.41.59.51 0 1.02-.2 1.41-.59l7.78-7.78 2.81-2.81c.8-.78.8-2.07 0-2.86zM5.41 20L4 18.59l7.72-7.72 1.47 1.35L5.41 20z\"/>\n",
              "  </svg>\n",
              "      </button>\n",
              "      \n",
              "  <style>\n",
              "    .colab-df-container {\n",
              "      display:flex;\n",
              "      flex-wrap:wrap;\n",
              "      gap: 12px;\n",
              "    }\n",
              "\n",
              "    .colab-df-convert {\n",
              "      background-color: #E8F0FE;\n",
              "      border: none;\n",
              "      border-radius: 50%;\n",
              "      cursor: pointer;\n",
              "      display: none;\n",
              "      fill: #1967D2;\n",
              "      height: 32px;\n",
              "      padding: 0 0 0 0;\n",
              "      width: 32px;\n",
              "    }\n",
              "\n",
              "    .colab-df-convert:hover {\n",
              "      background-color: #E2EBFA;\n",
              "      box-shadow: 0px 1px 2px rgba(60, 64, 67, 0.3), 0px 1px 3px 1px rgba(60, 64, 67, 0.15);\n",
              "      fill: #174EA6;\n",
              "    }\n",
              "\n",
              "    [theme=dark] .colab-df-convert {\n",
              "      background-color: #3B4455;\n",
              "      fill: #D2E3FC;\n",
              "    }\n",
              "\n",
              "    [theme=dark] .colab-df-convert:hover {\n",
              "      background-color: #434B5C;\n",
              "      box-shadow: 0px 1px 3px 1px rgba(0, 0, 0, 0.15);\n",
              "      filter: drop-shadow(0px 1px 2px rgba(0, 0, 0, 0.3));\n",
              "      fill: #FFFFFF;\n",
              "    }\n",
              "  </style>\n",
              "\n",
              "      <script>\n",
              "        const buttonEl =\n",
              "          document.querySelector('#df-2da2b8a3-90b5-43ca-8107-7f7b49fd9ad1 button.colab-df-convert');\n",
              "        buttonEl.style.display =\n",
              "          google.colab.kernel.accessAllowed ? 'block' : 'none';\n",
              "\n",
              "        async function convertToInteractive(key) {\n",
              "          const element = document.querySelector('#df-2da2b8a3-90b5-43ca-8107-7f7b49fd9ad1');\n",
              "          const dataTable =\n",
              "            await google.colab.kernel.invokeFunction('convertToInteractive',\n",
              "                                                     [key], {});\n",
              "          if (!dataTable) return;\n",
              "\n",
              "          const docLinkHtml = 'Like what you see? Visit the ' +\n",
              "            '<a target=\"_blank\" href=https://colab.research.google.com/notebooks/data_table.ipynb>data table notebook</a>'\n",
              "            + ' to learn more about interactive tables.';\n",
              "          element.innerHTML = '';\n",
              "          dataTable['output_type'] = 'display_data';\n",
              "          await google.colab.output.renderOutput(dataTable, element);\n",
              "          const docLink = document.createElement('div');\n",
              "          docLink.innerHTML = docLinkHtml;\n",
              "          element.appendChild(docLink);\n",
              "        }\n",
              "      </script>\n",
              "    </div>\n",
              "  </div>\n",
              "  "
            ],
            "text/plain": [
              "                Model        f1\n",
              "0        DecisionTree  0.560462\n",
              "1  LogisticRegression  0.753544"
            ]
          },
          "execution_count": 51,
          "metadata": {},
          "output_type": "execute_result"
        }
      ],
      "source": [
        "col = {\n",
        "    'Model': ['DecisionTree', 'LogisticRegression'],\n",
        "    'f1': [f1_dtc, val_score],\n",
        "    }\n",
        "final_scoring = pd.DataFrame(data=col)\n",
        "final_scoring"
      ]
    },
    {
      "cell_type": "markdown",
      "metadata": {
        "id": "KQ_RAVUUf5uu"
      },
      "source": [
        "В данном проекте мы подобрали модель, определяющую, токсичен ли комментарий или нет. У нас был датасэт с комментариями и меткой.\n",
        "\n",
        "На этапе предобработки мы леммитизировали текст и привели данные к векторному виду.\n",
        "\n",
        "На этапе обучения мы рассмотрели несколько моделей:\n",
        "- DecisionTree\n",
        "- LogisticRegression\n",
        "\n",
        "Лучший результат показала логистическая регрессия = 0.75."
      ]
    }
  ],
  "metadata": {
    "ExecuteTimeLog": [
      {
        "duration": 7324,
        "start_time": "2023-02-21T08:13:31.904Z"
      },
      {
        "duration": 2971,
        "start_time": "2023-02-21T08:15:22.772Z"
      },
      {
        "duration": 33,
        "start_time": "2023-02-21T08:15:44.274Z"
      },
      {
        "duration": 21,
        "start_time": "2023-02-21T08:16:04.685Z"
      },
      {
        "duration": 12,
        "start_time": "2023-02-21T08:30:22.330Z"
      },
      {
        "duration": 31,
        "start_time": "2023-02-21T08:31:31.898Z"
      },
      {
        "duration": 3,
        "start_time": "2023-02-21T08:35:52.763Z"
      },
      {
        "duration": 244,
        "start_time": "2023-02-21T08:36:53.952Z"
      },
      {
        "duration": 252,
        "start_time": "2023-02-21T08:38:04.376Z"
      },
      {
        "duration": 30,
        "start_time": "2023-02-21T08:40:19.469Z"
      },
      {
        "duration": 12,
        "start_time": "2023-02-21T08:40:24.128Z"
      },
      {
        "duration": 4,
        "start_time": "2023-02-21T08:40:53.187Z"
      },
      {
        "duration": 13,
        "start_time": "2023-02-21T08:41:00.009Z"
      },
      {
        "duration": 3,
        "start_time": "2023-02-21T08:42:38.088Z"
      },
      {
        "duration": 12,
        "start_time": "2023-02-21T08:42:43.007Z"
      },
      {
        "duration": 13,
        "start_time": "2023-02-21T08:43:52.328Z"
      },
      {
        "duration": 5,
        "start_time": "2023-02-21T09:36:34.611Z"
      },
      {
        "duration": 871,
        "start_time": "2023-02-21T09:36:40.022Z"
      },
      {
        "duration": 33,
        "start_time": "2023-02-21T09:36:43.602Z"
      },
      {
        "duration": 8,
        "start_time": "2023-02-21T09:37:22.269Z"
      },
      {
        "duration": 19,
        "start_time": "2023-02-21T09:38:04.051Z"
      },
      {
        "duration": 4,
        "start_time": "2023-02-21T09:38:49.990Z"
      },
      {
        "duration": 1680,
        "start_time": "2023-02-21T09:38:58.336Z"
      },
      {
        "duration": 4,
        "start_time": "2023-02-21T09:39:54.770Z"
      },
      {
        "duration": 6777,
        "start_time": "2023-02-21T09:39:59.044Z"
      },
      {
        "duration": 6918,
        "start_time": "2023-02-21T09:41:21.185Z"
      },
      {
        "duration": 22,
        "start_time": "2023-02-21T09:42:53.571Z"
      },
      {
        "duration": 53,
        "start_time": "2023-02-21T09:42:55.011Z"
      },
      {
        "duration": 7830,
        "start_time": "2023-02-21T10:00:49.208Z"
      },
      {
        "duration": 4405,
        "start_time": "2023-02-21T10:01:00.312Z"
      },
      {
        "duration": 44,
        "start_time": "2023-02-21T10:01:04.719Z"
      },
      {
        "duration": 16,
        "start_time": "2023-02-21T10:01:04.767Z"
      },
      {
        "duration": 8180,
        "start_time": "2023-02-21T10:03:06.104Z"
      },
      {
        "duration": 16,
        "start_time": "2023-02-21T10:03:14.287Z"
      },
      {
        "duration": 42,
        "start_time": "2023-02-21T10:03:19.966Z"
      },
      {
        "duration": 229,
        "start_time": "2023-02-21T10:07:26.077Z"
      },
      {
        "duration": 245,
        "start_time": "2023-02-21T10:07:48.125Z"
      },
      {
        "duration": 80,
        "start_time": "2023-02-21T10:12:29.387Z"
      },
      {
        "duration": 7116,
        "start_time": "2023-02-21T10:12:44.174Z"
      },
      {
        "duration": 342,
        "start_time": "2023-02-21T10:12:53.368Z"
      },
      {
        "duration": 2837,
        "start_time": "2023-02-21T10:13:29.329Z"
      },
      {
        "duration": 2720,
        "start_time": "2023-02-21T10:13:32.168Z"
      },
      {
        "duration": 37,
        "start_time": "2023-02-21T10:13:34.890Z"
      },
      {
        "duration": 14,
        "start_time": "2023-02-21T10:13:34.929Z"
      },
      {
        "duration": 8129,
        "start_time": "2023-02-21T10:13:34.945Z"
      },
      {
        "duration": 13,
        "start_time": "2023-02-21T10:13:43.076Z"
      },
      {
        "duration": 42,
        "start_time": "2023-02-21T10:13:43.091Z"
      },
      {
        "duration": 429,
        "start_time": "2023-02-21T10:13:43.149Z"
      },
      {
        "duration": 53,
        "start_time": "2023-02-21T10:17:16.091Z"
      },
      {
        "duration": 7411,
        "start_time": "2023-02-21T10:18:21.268Z"
      },
      {
        "duration": 2753,
        "start_time": "2023-02-21T10:18:28.681Z"
      },
      {
        "duration": 39,
        "start_time": "2023-02-21T10:18:31.437Z"
      },
      {
        "duration": 19,
        "start_time": "2023-02-21T10:18:33.279Z"
      },
      {
        "duration": 7921,
        "start_time": "2023-02-21T10:18:35.662Z"
      },
      {
        "duration": 20,
        "start_time": "2023-02-21T10:18:43.586Z"
      },
      {
        "duration": 61,
        "start_time": "2023-02-21T10:18:43.608Z"
      },
      {
        "duration": 3109,
        "start_time": "2023-02-21T10:20:22.731Z"
      },
      {
        "duration": 925,
        "start_time": "2023-02-21T10:20:25.842Z"
      },
      {
        "duration": 40,
        "start_time": "2023-02-21T10:20:27.753Z"
      },
      {
        "duration": 13,
        "start_time": "2023-02-21T10:20:31.771Z"
      },
      {
        "duration": 8490,
        "start_time": "2023-02-21T10:20:32.835Z"
      },
      {
        "duration": 16,
        "start_time": "2023-02-21T10:20:48.175Z"
      },
      {
        "duration": 30,
        "start_time": "2023-02-21T10:23:39.265Z"
      },
      {
        "duration": 50,
        "start_time": "2023-02-21T10:25:12.770Z"
      },
      {
        "duration": 12,
        "start_time": "2023-02-21T10:25:45.436Z"
      },
      {
        "duration": 7563,
        "start_time": "2023-02-21T10:26:20.759Z"
      },
      {
        "duration": 3016,
        "start_time": "2023-02-21T10:26:28.325Z"
      },
      {
        "duration": 45,
        "start_time": "2023-02-21T10:26:34.988Z"
      },
      {
        "duration": 16,
        "start_time": "2023-02-21T10:26:36.220Z"
      },
      {
        "duration": 8639,
        "start_time": "2023-02-21T10:26:36.737Z"
      },
      {
        "duration": 16,
        "start_time": "2023-02-21T10:26:45.378Z"
      },
      {
        "duration": 97,
        "start_time": "2023-02-21T10:26:45.396Z"
      },
      {
        "duration": 231,
        "start_time": "2023-02-21T10:26:48.276Z"
      },
      {
        "duration": 3,
        "start_time": "2023-02-21T10:27:39.192Z"
      },
      {
        "duration": 4,
        "start_time": "2023-02-21T10:27:57.771Z"
      },
      {
        "duration": 49,
        "start_time": "2023-02-21T10:39:48.136Z"
      },
      {
        "duration": 8,
        "start_time": "2023-02-21T10:40:03.925Z"
      },
      {
        "duration": 6126,
        "start_time": "2023-02-21T10:40:09.937Z"
      },
      {
        "duration": 2930,
        "start_time": "2023-02-21T10:40:16.065Z"
      },
      {
        "duration": 33,
        "start_time": "2023-02-21T10:40:18.997Z"
      },
      {
        "duration": 13,
        "start_time": "2023-02-21T10:40:22.069Z"
      },
      {
        "duration": 7554,
        "start_time": "2023-02-21T10:40:24.977Z"
      },
      {
        "duration": 10,
        "start_time": "2023-02-21T10:40:32.533Z"
      },
      {
        "duration": 32,
        "start_time": "2023-02-21T10:40:34.233Z"
      },
      {
        "duration": 143,
        "start_time": "2023-02-21T10:40:37.952Z"
      },
      {
        "duration": 2,
        "start_time": "2023-02-21T10:40:45.813Z"
      },
      {
        "duration": 69,
        "start_time": "2023-02-21T10:42:08.373Z"
      },
      {
        "duration": 6235,
        "start_time": "2023-02-21T10:42:23.612Z"
      },
      {
        "duration": 2596,
        "start_time": "2023-02-21T10:42:29.849Z"
      },
      {
        "duration": 34,
        "start_time": "2023-02-21T10:42:32.447Z"
      },
      {
        "duration": 30,
        "start_time": "2023-02-21T10:42:32.484Z"
      },
      {
        "duration": 7622,
        "start_time": "2023-02-21T10:42:34.777Z"
      },
      {
        "duration": 7,
        "start_time": "2023-02-21T10:42:52.873Z"
      },
      {
        "duration": 11,
        "start_time": "2023-02-21T10:43:46.712Z"
      },
      {
        "duration": 30,
        "start_time": "2023-02-21T10:43:47.293Z"
      },
      {
        "duration": 138,
        "start_time": "2023-02-21T10:43:49.113Z"
      },
      {
        "duration": 3,
        "start_time": "2023-02-21T10:43:53.832Z"
      },
      {
        "duration": 431,
        "start_time": "2023-02-21T10:44:08.962Z"
      },
      {
        "duration": 53,
        "start_time": "2023-02-21T10:46:04.931Z"
      },
      {
        "duration": 6410,
        "start_time": "2023-02-21T10:46:11.891Z"
      },
      {
        "duration": 2384,
        "start_time": "2023-02-21T10:46:18.304Z"
      },
      {
        "duration": 41,
        "start_time": "2023-02-21T10:46:20.690Z"
      },
      {
        "duration": 20,
        "start_time": "2023-02-21T10:46:20.734Z"
      },
      {
        "duration": 7431,
        "start_time": "2023-02-21T10:46:20.756Z"
      },
      {
        "duration": 11,
        "start_time": "2023-02-21T10:46:28.190Z"
      },
      {
        "duration": 25,
        "start_time": "2023-02-21T10:46:28.203Z"
      },
      {
        "duration": 39,
        "start_time": "2023-02-21T10:46:28.231Z"
      },
      {
        "duration": 157,
        "start_time": "2023-02-21T10:46:28.272Z"
      },
      {
        "duration": 4,
        "start_time": "2023-02-21T10:46:33.770Z"
      },
      {
        "duration": 1094,
        "start_time": "2023-02-21T10:46:36.230Z"
      },
      {
        "duration": 1713,
        "start_time": "2023-02-21T14:19:01.066Z"
      },
      {
        "duration": 2334,
        "start_time": "2023-02-21T14:19:19.591Z"
      },
      {
        "duration": 28,
        "start_time": "2023-02-21T14:19:21.927Z"
      },
      {
        "duration": 12,
        "start_time": "2023-02-21T14:19:23.051Z"
      },
      {
        "duration": 2563,
        "start_time": "2023-02-21T15:40:52.613Z"
      },
      {
        "duration": 252,
        "start_time": "2023-02-21T15:41:30.735Z"
      },
      {
        "duration": 2444,
        "start_time": "2023-02-21T15:41:37.692Z"
      },
      {
        "duration": 32,
        "start_time": "2023-02-21T15:41:42.055Z"
      },
      {
        "duration": 12,
        "start_time": "2023-02-21T15:41:46.345Z"
      },
      {
        "duration": 3,
        "start_time": "2023-02-21T15:42:09.158Z"
      },
      {
        "duration": 243,
        "start_time": "2023-02-21T15:43:11.851Z"
      },
      {
        "duration": 184549,
        "start_time": "2023-02-21T15:43:20.306Z"
      },
      {
        "duration": 12,
        "start_time": "2023-02-21T15:46:45.227Z"
      },
      {
        "duration": 39,
        "start_time": "2023-02-21T15:48:49.073Z"
      },
      {
        "duration": 6432,
        "start_time": "2023-02-21T15:49:07.577Z"
      },
      {
        "duration": 210047,
        "start_time": "2023-02-21T15:49:17.308Z"
      },
      {
        "duration": 23241,
        "start_time": "2023-02-21T15:53:20.758Z"
      },
      {
        "duration": 5,
        "start_time": "2023-02-21T15:59:06.367Z"
      },
      {
        "duration": 753,
        "start_time": "2023-02-21T16:00:42.805Z"
      },
      {
        "duration": 33,
        "start_time": "2023-02-21T16:00:48.942Z"
      },
      {
        "duration": 8,
        "start_time": "2023-02-21T16:01:05.300Z"
      },
      {
        "duration": 10,
        "start_time": "2023-02-21T16:02:52.547Z"
      },
      {
        "duration": 150,
        "start_time": "2023-02-21T16:05:30.852Z"
      },
      {
        "duration": 178240,
        "start_time": "2023-02-21T16:05:42.493Z"
      },
      {
        "duration": 45,
        "start_time": "2023-02-21T16:10:16.859Z"
      },
      {
        "duration": 6821,
        "start_time": "2023-02-21T16:11:27.929Z"
      },
      {
        "duration": 4,
        "start_time": "2023-02-21T16:11:50.739Z"
      },
      {
        "duration": 5,
        "start_time": "2023-02-21T16:11:56.858Z"
      },
      {
        "duration": 292580,
        "start_time": "2023-02-21T16:16:09.647Z"
      },
      {
        "duration": 19,
        "start_time": "2023-02-21T16:21:02.230Z"
      },
      {
        "duration": 6598,
        "start_time": "2023-02-22T06:21:20.966Z"
      },
      {
        "duration": 3724,
        "start_time": "2023-02-22T06:47:10.675Z"
      },
      {
        "duration": 4446,
        "start_time": "2023-02-22T06:47:17.531Z"
      },
      {
        "duration": 36,
        "start_time": "2023-02-22T06:47:21.983Z"
      },
      {
        "duration": 27,
        "start_time": "2023-02-22T06:47:22.021Z"
      },
      {
        "duration": 12,
        "start_time": "2023-02-22T06:47:31.489Z"
      },
      {
        "duration": 4,
        "start_time": "2023-02-22T06:47:34.190Z"
      },
      {
        "duration": 265,
        "start_time": "2023-02-22T06:47:58.510Z"
      },
      {
        "duration": 220288,
        "start_time": "2023-02-22T06:50:24.810Z"
      },
      {
        "duration": 222611,
        "start_time": "2023-02-22T07:18:36.150Z"
      },
      {
        "duration": 75,
        "start_time": "2023-02-22T07:58:10.451Z"
      },
      {
        "duration": 24,
        "start_time": "2023-02-22T07:58:24.083Z"
      },
      {
        "duration": 14,
        "start_time": "2023-02-22T07:58:44.281Z"
      },
      {
        "duration": 6,
        "start_time": "2023-02-22T07:59:08.606Z"
      },
      {
        "duration": 243,
        "start_time": "2023-02-22T08:00:36.551Z"
      },
      {
        "duration": 10075,
        "start_time": "2023-02-22T08:00:57.880Z"
      },
      {
        "duration": 11211,
        "start_time": "2023-02-22T08:03:41.279Z"
      },
      {
        "duration": 11,
        "start_time": "2023-02-22T08:04:07.378Z"
      },
      {
        "duration": 11,
        "start_time": "2023-02-22T08:04:39.721Z"
      },
      {
        "duration": 16,
        "start_time": "2023-02-22T08:04:46.707Z"
      },
      {
        "duration": 4,
        "start_time": "2023-02-22T08:04:49.426Z"
      },
      {
        "duration": 347000,
        "start_time": "2023-02-22T09:01:20.356Z"
      },
      {
        "duration": 197,
        "start_time": "2023-02-22T09:07:07.359Z"
      },
      {
        "duration": 185,
        "start_time": "2023-02-22T09:11:39.176Z"
      },
      {
        "duration": 919,
        "start_time": "2023-02-22T09:12:48.255Z"
      },
      {
        "duration": 99,
        "start_time": "2023-02-22T09:13:21.858Z"
      },
      {
        "duration": 20,
        "start_time": "2023-02-22T09:13:53.154Z"
      },
      {
        "duration": 203601,
        "start_time": "2023-02-22T09:14:31.654Z"
      },
      {
        "duration": 356392,
        "start_time": "2023-02-22T09:19:31.254Z"
      },
      {
        "duration": 3,
        "start_time": "2023-02-22T09:25:32.735Z"
      },
      {
        "duration": 3,
        "start_time": "2023-02-22T09:25:34.248Z"
      },
      {
        "duration": 50221,
        "start_time": "2023-02-22T09:42:29.745Z"
      },
      {
        "duration": 237,
        "start_time": "2023-02-22T10:30:19.289Z"
      },
      {
        "duration": 3544,
        "start_time": "2023-02-22T10:30:23.160Z"
      },
      {
        "duration": 33,
        "start_time": "2023-02-22T10:30:26.706Z"
      },
      {
        "duration": 8,
        "start_time": "2023-02-22T10:30:28.697Z"
      },
      {
        "duration": 11,
        "start_time": "2023-02-22T10:30:32.417Z"
      },
      {
        "duration": 6132,
        "start_time": "2023-02-22T10:30:51.032Z"
      },
      {
        "duration": 872,
        "start_time": "2023-02-22T10:30:59.573Z"
      },
      {
        "duration": 37,
        "start_time": "2023-02-22T10:31:00.447Z"
      },
      {
        "duration": 14,
        "start_time": "2023-02-22T10:31:00.872Z"
      },
      {
        "duration": 10,
        "start_time": "2023-02-22T10:31:04.493Z"
      },
      {
        "duration": 3,
        "start_time": "2023-02-22T10:31:05.796Z"
      },
      {
        "duration": 273,
        "start_time": "2023-02-22T10:31:06.426Z"
      },
      {
        "duration": 190977,
        "start_time": "2023-02-22T10:31:09.656Z"
      },
      {
        "duration": 42,
        "start_time": "2023-02-22T10:34:20.635Z"
      },
      {
        "duration": 7155,
        "start_time": "2023-02-22T10:35:02.572Z"
      },
      {
        "duration": 5,
        "start_time": "2023-02-22T10:35:09.729Z"
      },
      {
        "duration": 19,
        "start_time": "2023-02-22T10:35:09.735Z"
      },
      {
        "duration": 300,
        "start_time": "2023-02-22T10:42:44.514Z"
      },
      {
        "duration": 605425,
        "start_time": "2023-02-22T10:43:05.552Z"
      },
      {
        "duration": 232990,
        "start_time": "2023-02-22T10:55:44.163Z"
      },
      {
        "duration": 14,
        "start_time": "2023-02-22T11:01:56.826Z"
      },
      {
        "duration": 266807,
        "start_time": "2023-02-22T11:12:02.122Z"
      },
      {
        "duration": 13,
        "start_time": "2023-02-22T11:16:37.401Z"
      },
      {
        "duration": 15,
        "start_time": "2023-02-22T11:17:05.335Z"
      },
      {
        "duration": 4,
        "start_time": "2023-02-22T11:17:22.540Z"
      },
      {
        "duration": 16,
        "start_time": "2023-02-22T11:19:30.112Z"
      },
      {
        "duration": 17,
        "start_time": "2023-02-22T11:19:37.502Z"
      },
      {
        "duration": 2617,
        "start_time": "2023-02-22T11:41:53.824Z"
      },
      {
        "duration": 258,
        "start_time": "2023-02-22T11:42:40.955Z"
      },
      {
        "duration": 715145,
        "start_time": "2023-02-22T11:46:43.089Z"
      },
      {
        "duration": 15,
        "start_time": "2023-02-22T12:13:53.249Z"
      },
      {
        "duration": 912,
        "start_time": "2023-02-22T12:13:57.432Z"
      },
      {
        "duration": 34,
        "start_time": "2023-02-22T12:13:59.330Z"
      },
      {
        "duration": 9,
        "start_time": "2023-02-22T12:14:01.771Z"
      },
      {
        "duration": 13,
        "start_time": "2023-02-22T12:14:03.171Z"
      },
      {
        "duration": 29,
        "start_time": "2023-02-22T12:14:04.411Z"
      },
      {
        "duration": 143,
        "start_time": "2023-02-22T12:14:06.562Z"
      },
      {
        "duration": 195323,
        "start_time": "2023-02-22T12:14:07.611Z"
      },
      {
        "duration": 64,
        "start_time": "2023-02-22T12:17:22.936Z"
      },
      {
        "duration": 7386,
        "start_time": "2023-02-22T12:17:41.373Z"
      },
      {
        "duration": 4,
        "start_time": "2023-02-22T12:17:48.762Z"
      },
      {
        "duration": 11,
        "start_time": "2023-02-22T12:17:48.768Z"
      },
      {
        "duration": 246786,
        "start_time": "2023-02-22T12:17:53.068Z"
      },
      {
        "duration": 15,
        "start_time": "2023-02-22T12:21:59.857Z"
      },
      {
        "duration": 283675,
        "start_time": "2023-02-22T12:22:39.442Z"
      },
      {
        "duration": 4,
        "start_time": "2023-02-22T12:27:29.165Z"
      },
      {
        "duration": 14,
        "start_time": "2023-02-22T12:27:30.573Z"
      },
      {
        "duration": 14,
        "start_time": "2023-02-22T12:27:50.977Z"
      },
      {
        "duration": 11,
        "start_time": "2023-02-22T12:27:58.738Z"
      },
      {
        "duration": 16,
        "start_time": "2023-02-22T12:28:02.085Z"
      },
      {
        "duration": 171260,
        "start_time": "2023-02-22T12:28:18.582Z"
      },
      {
        "duration": 4,
        "start_time": "2023-02-22T12:35:17.001Z"
      },
      {
        "duration": 39,
        "start_time": "2023-02-22T12:35:31.589Z"
      },
      {
        "duration": 13,
        "start_time": "2023-02-22T12:35:33.613Z"
      },
      {
        "duration": 207348,
        "start_time": "2023-02-22T12:37:16.873Z"
      },
      {
        "duration": 13,
        "start_time": "2023-02-22T12:41:18.893Z"
      },
      {
        "duration": 12,
        "start_time": "2023-02-22T12:41:33.217Z"
      },
      {
        "duration": 9,
        "start_time": "2023-02-22T12:41:46.390Z"
      }
    ],
    "colab": {
      "provenance": []
    },
    "kernelspec": {
      "display_name": "Python 3 (ipykernel)",
      "language": "python",
      "name": "python3"
    },
    "language_info": {
      "codemirror_mode": {
        "name": "ipython",
        "version": 3
      },
      "file_extension": ".py",
      "mimetype": "text/x-python",
      "name": "python",
      "nbconvert_exporter": "python",
      "pygments_lexer": "ipython3",
      "version": "3.9.5"
    },
    "toc": {
      "base_numbering": 1,
      "nav_menu": {},
      "number_sections": true,
      "sideBar": true,
      "skip_h1_title": true,
      "title_cell": "Содержание",
      "title_sidebar": "Contents",
      "toc_cell": true,
      "toc_position": {
        "height": "calc(100% - 180px)",
        "left": "10px",
        "top": "150px",
        "width": "302.391px"
      },
      "toc_section_display": true,
      "toc_window_display": false
    }
  },
  "nbformat": 4,
  "nbformat_minor": 0
}